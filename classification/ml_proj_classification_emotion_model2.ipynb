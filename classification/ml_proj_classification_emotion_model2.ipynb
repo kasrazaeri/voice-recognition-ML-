{
  "cells": [
    {
      "cell_type": "code",
      "execution_count": null,
      "metadata": {
        "id": "yN_VFfugSx5E"
      },
      "outputs": [],
      "source": [
        "import pickle\n",
        "from tkinter.tix import COLUMN\n",
        "import numpy as np\n",
        "import pandas as pd\n",
        "from matplotlib import pyplot as plt\n",
        "from sklearn.naive_bayes import GaussianNB\n",
        "from sklearn import metrics\n",
        "from sklearn.metrics import accuracy_score\n",
        "from itertools import combinations\n",
        "from sklearn.base import clone\n",
        "import numpy as np\n",
        "import pandas as pd\n",
        "from sklearn.model_selection import train_test_split\n",
        "#import matplotlib as plt\n",
        "from sklearn.naive_bayes import GaussianNB\n",
        "from sklearn.neural_network import MLPClassifier\n",
        "from sklearn.pipeline import make_pipeline\n",
        "from sklearn import preprocessing\n",
        "from sklearn.metrics import accuracy_score\n",
        "from sklearn.svm import SVC\n"
      ]
    },
    {
      "cell_type": "code",
      "source": [
        "from google.colab import drive\n",
        "drive.mount('/content/drive')"
      ],
      "metadata": {
        "colab": {
          "base_uri": "https://localhost:8080/"
        },
        "id": "fpHVh0E6IOjL",
        "outputId": "f93f62bc-4170-4bb3-b1e7-8a49ffa05e63"
      },
      "execution_count": null,
      "outputs": [
        {
          "output_type": "stream",
          "name": "stdout",
          "text": [
            "Mounted at /content/drive\n"
          ]
        }
      ]
    },
    {
      "cell_type": "code",
      "source": [
        "df=pd.read_csv('/content/drive/MyDrive/Colab Notebooks/model2/model2_csv/Train2.csv')\n",
        "train=pd.read_csv('/content/drive/MyDrive/Colab Notebooks/model2/model2_excel/Train2.csv')\n",
        "emotion_train = train[\"emotionID\"]\n",
        "set(emotion_train)\n",
        "result = pd.concat([df, train[\"sex\"],emotion_train], axis=1)\n",
        "df_train=result.drop(columns=[\"target\"])\n",
        "df_train[\"sex\"].replace({\"f\": 0, \"m\": 1}, inplace=True)\n",
        "df_train"
      ],
      "metadata": {
        "colab": {
          "base_uri": "https://localhost:8080/",
          "height": 661
        },
        "id": "aoVR8qNwK9cE",
        "outputId": "9b627714-c033-4bbb-8988-bedf23d74aa8"
      },
      "execution_count": null,
      "outputs": [
        {
          "output_type": "execute_result",
          "data": {
            "text/plain": [
              "                                            Unnamed: 0     mfcc_0      mfcc_1  \\\n",
              "0       C:/Users/vcc/Desktop/project ml/voice/9196.wav -364.94345   58.359630   \n",
              "1      C:/Users/vcc/Desktop/project ml/voice/16133.wav -387.11218   92.776024   \n",
              "2       C:/Users/vcc/Desktop/project ml/voice/4156.wav -420.34683  103.964935   \n",
              "3        C:/Users/vcc/Desktop/project ml/voice/203.wav -400.54904  103.331710   \n",
              "4       C:/Users/vcc/Desktop/project ml/voice/4917.wav -216.08072   61.822456   \n",
              "...                                                ...        ...         ...   \n",
              "11992  C:/Users/vcc/Desktop/project ml/voice/16144.wav -493.76923  118.193620   \n",
              "11993   C:/Users/vcc/Desktop/project ml/voice/1750.wav -441.23830   68.922330   \n",
              "11994   C:/Users/vcc/Desktop/project ml/voice/1673.wav -332.97794   74.275660   \n",
              "11995  C:/Users/vcc/Desktop/project ml/voice/11784.wav -459.31543   75.078064   \n",
              "11996  C:/Users/vcc/Desktop/project ml/voice/14561.wav -336.05643  121.028460   \n",
              "\n",
              "          mfcc_2     mfcc_3     mfcc_4     mfcc_5     mfcc_6    mfcc_7  \\\n",
              "0       2.820225   5.529991   0.165158  12.045059   1.448689 -5.378034   \n",
              "1     -15.819464  33.206528   1.054645  10.347558  -1.730025  8.410479   \n",
              "2       0.789253  30.104149  -7.518121  10.094464 -19.800411 -1.656142   \n",
              "3      20.483711  29.738617  10.878419   3.691131  -2.093715  9.150126   \n",
              "4      -8.624993  -0.100680 -14.465156 -10.361802   1.479756 -4.632538   \n",
              "...          ...        ...        ...        ...        ...       ...   \n",
              "11992 -19.474787  47.368202  -4.860471   8.465796  -4.050439  6.528437   \n",
              "11993  29.351257  27.767723   9.790405  19.638962  12.368877 -2.788193   \n",
              "11994  30.321781  14.730898  17.161760   5.759981  11.191778  5.152507   \n",
              "11995   8.145429  31.015642   1.469157   9.187110   4.536473  1.235650   \n",
              "11996   4.946123  18.397797   5.344292   1.624755  -5.905523  7.784936   \n",
              "\n",
              "          mfcc_8  ...  tempogram_382  tempogram_383  tonnetz_0  tonnetz_1  \\\n",
              "0      -9.409033  ...   1.065503e-17   8.264991e-18  -0.010307   0.003076   \n",
              "1       6.219111  ...   2.579631e-17   2.283440e-17  -0.042363   0.042854   \n",
              "2      -7.244540  ...   1.338170e-17   1.390605e-17   0.028776  -0.003118   \n",
              "3       6.001769  ...   3.044141e-17   2.452205e-17  -0.027109  -0.014485   \n",
              "4     -13.703397  ...   1.835793e-18   1.709946e-17  -0.013564   0.011575   \n",
              "...          ...  ...            ...            ...        ...        ...   \n",
              "11992  -1.920165  ...   1.658500e-17   2.175022e-17   0.042150   0.026910   \n",
              "11993  -3.835782  ...   6.869883e-18   1.143487e-18  -0.031688   0.016086   \n",
              "11994   6.918223  ...   1.494454e-17   2.848889e-17  -0.025926   0.000929   \n",
              "11995   1.000868  ...   1.178312e-17   2.756702e-17   0.045444   0.023344   \n",
              "11996  -6.294373  ...   6.158693e-18   1.572200e-17  -0.069080   0.061143   \n",
              "\n",
              "       tonnetz_2  tonnetz_3  tonnetz_4  tonnetz_5  sex  emotionID  \n",
              "0       0.022825   0.051463   0.011787  -0.009172    0          3  \n",
              "1      -0.013355  -0.110958   0.025752  -0.025277    0          1  \n",
              "2       0.051828   0.011517   0.004023   0.004716    1          4  \n",
              "3      -0.003280  -0.099250   0.011699  -0.008414    1          4  \n",
              "4      -0.015613   0.009228  -0.005703  -0.003755    1          1  \n",
              "...          ...        ...        ...        ...  ...        ...  \n",
              "11992  -0.000645   0.003364  -0.006610   0.003278    0          4  \n",
              "11993  -0.024533   0.048363   0.036236  -0.017237    0          4  \n",
              "11994  -0.076368  -0.004775   0.012181   0.009368    1          3  \n",
              "11995   0.058454  -0.004126   0.025204  -0.013217    0          3  \n",
              "11996   0.005126  -0.086939   0.033204  -0.020299    1          3  \n",
              "\n",
              "[11997 rows x 547 columns]"
            ],
            "text/html": [
              "\n",
              "  <div id=\"df-19e4d8c1-33d9-4f57-a7ec-3839aae499a0\">\n",
              "    <div class=\"colab-df-container\">\n",
              "      <div>\n",
              "<style scoped>\n",
              "    .dataframe tbody tr th:only-of-type {\n",
              "        vertical-align: middle;\n",
              "    }\n",
              "\n",
              "    .dataframe tbody tr th {\n",
              "        vertical-align: top;\n",
              "    }\n",
              "\n",
              "    .dataframe thead th {\n",
              "        text-align: right;\n",
              "    }\n",
              "</style>\n",
              "<table border=\"1\" class=\"dataframe\">\n",
              "  <thead>\n",
              "    <tr style=\"text-align: right;\">\n",
              "      <th></th>\n",
              "      <th>Unnamed: 0</th>\n",
              "      <th>mfcc_0</th>\n",
              "      <th>mfcc_1</th>\n",
              "      <th>mfcc_2</th>\n",
              "      <th>mfcc_3</th>\n",
              "      <th>mfcc_4</th>\n",
              "      <th>mfcc_5</th>\n",
              "      <th>mfcc_6</th>\n",
              "      <th>mfcc_7</th>\n",
              "      <th>mfcc_8</th>\n",
              "      <th>...</th>\n",
              "      <th>tempogram_382</th>\n",
              "      <th>tempogram_383</th>\n",
              "      <th>tonnetz_0</th>\n",
              "      <th>tonnetz_1</th>\n",
              "      <th>tonnetz_2</th>\n",
              "      <th>tonnetz_3</th>\n",
              "      <th>tonnetz_4</th>\n",
              "      <th>tonnetz_5</th>\n",
              "      <th>sex</th>\n",
              "      <th>emotionID</th>\n",
              "    </tr>\n",
              "  </thead>\n",
              "  <tbody>\n",
              "    <tr>\n",
              "      <th>0</th>\n",
              "      <td>C:/Users/vcc/Desktop/project ml/voice/9196.wav</td>\n",
              "      <td>-364.94345</td>\n",
              "      <td>58.359630</td>\n",
              "      <td>2.820225</td>\n",
              "      <td>5.529991</td>\n",
              "      <td>0.165158</td>\n",
              "      <td>12.045059</td>\n",
              "      <td>1.448689</td>\n",
              "      <td>-5.378034</td>\n",
              "      <td>-9.409033</td>\n",
              "      <td>...</td>\n",
              "      <td>1.065503e-17</td>\n",
              "      <td>8.264991e-18</td>\n",
              "      <td>-0.010307</td>\n",
              "      <td>0.003076</td>\n",
              "      <td>0.022825</td>\n",
              "      <td>0.051463</td>\n",
              "      <td>0.011787</td>\n",
              "      <td>-0.009172</td>\n",
              "      <td>0</td>\n",
              "      <td>3</td>\n",
              "    </tr>\n",
              "    <tr>\n",
              "      <th>1</th>\n",
              "      <td>C:/Users/vcc/Desktop/project ml/voice/16133.wav</td>\n",
              "      <td>-387.11218</td>\n",
              "      <td>92.776024</td>\n",
              "      <td>-15.819464</td>\n",
              "      <td>33.206528</td>\n",
              "      <td>1.054645</td>\n",
              "      <td>10.347558</td>\n",
              "      <td>-1.730025</td>\n",
              "      <td>8.410479</td>\n",
              "      <td>6.219111</td>\n",
              "      <td>...</td>\n",
              "      <td>2.579631e-17</td>\n",
              "      <td>2.283440e-17</td>\n",
              "      <td>-0.042363</td>\n",
              "      <td>0.042854</td>\n",
              "      <td>-0.013355</td>\n",
              "      <td>-0.110958</td>\n",
              "      <td>0.025752</td>\n",
              "      <td>-0.025277</td>\n",
              "      <td>0</td>\n",
              "      <td>1</td>\n",
              "    </tr>\n",
              "    <tr>\n",
              "      <th>2</th>\n",
              "      <td>C:/Users/vcc/Desktop/project ml/voice/4156.wav</td>\n",
              "      <td>-420.34683</td>\n",
              "      <td>103.964935</td>\n",
              "      <td>0.789253</td>\n",
              "      <td>30.104149</td>\n",
              "      <td>-7.518121</td>\n",
              "      <td>10.094464</td>\n",
              "      <td>-19.800411</td>\n",
              "      <td>-1.656142</td>\n",
              "      <td>-7.244540</td>\n",
              "      <td>...</td>\n",
              "      <td>1.338170e-17</td>\n",
              "      <td>1.390605e-17</td>\n",
              "      <td>0.028776</td>\n",
              "      <td>-0.003118</td>\n",
              "      <td>0.051828</td>\n",
              "      <td>0.011517</td>\n",
              "      <td>0.004023</td>\n",
              "      <td>0.004716</td>\n",
              "      <td>1</td>\n",
              "      <td>4</td>\n",
              "    </tr>\n",
              "    <tr>\n",
              "      <th>3</th>\n",
              "      <td>C:/Users/vcc/Desktop/project ml/voice/203.wav</td>\n",
              "      <td>-400.54904</td>\n",
              "      <td>103.331710</td>\n",
              "      <td>20.483711</td>\n",
              "      <td>29.738617</td>\n",
              "      <td>10.878419</td>\n",
              "      <td>3.691131</td>\n",
              "      <td>-2.093715</td>\n",
              "      <td>9.150126</td>\n",
              "      <td>6.001769</td>\n",
              "      <td>...</td>\n",
              "      <td>3.044141e-17</td>\n",
              "      <td>2.452205e-17</td>\n",
              "      <td>-0.027109</td>\n",
              "      <td>-0.014485</td>\n",
              "      <td>-0.003280</td>\n",
              "      <td>-0.099250</td>\n",
              "      <td>0.011699</td>\n",
              "      <td>-0.008414</td>\n",
              "      <td>1</td>\n",
              "      <td>4</td>\n",
              "    </tr>\n",
              "    <tr>\n",
              "      <th>4</th>\n",
              "      <td>C:/Users/vcc/Desktop/project ml/voice/4917.wav</td>\n",
              "      <td>-216.08072</td>\n",
              "      <td>61.822456</td>\n",
              "      <td>-8.624993</td>\n",
              "      <td>-0.100680</td>\n",
              "      <td>-14.465156</td>\n",
              "      <td>-10.361802</td>\n",
              "      <td>1.479756</td>\n",
              "      <td>-4.632538</td>\n",
              "      <td>-13.703397</td>\n",
              "      <td>...</td>\n",
              "      <td>1.835793e-18</td>\n",
              "      <td>1.709946e-17</td>\n",
              "      <td>-0.013564</td>\n",
              "      <td>0.011575</td>\n",
              "      <td>-0.015613</td>\n",
              "      <td>0.009228</td>\n",
              "      <td>-0.005703</td>\n",
              "      <td>-0.003755</td>\n",
              "      <td>1</td>\n",
              "      <td>1</td>\n",
              "    </tr>\n",
              "    <tr>\n",
              "      <th>...</th>\n",
              "      <td>...</td>\n",
              "      <td>...</td>\n",
              "      <td>...</td>\n",
              "      <td>...</td>\n",
              "      <td>...</td>\n",
              "      <td>...</td>\n",
              "      <td>...</td>\n",
              "      <td>...</td>\n",
              "      <td>...</td>\n",
              "      <td>...</td>\n",
              "      <td>...</td>\n",
              "      <td>...</td>\n",
              "      <td>...</td>\n",
              "      <td>...</td>\n",
              "      <td>...</td>\n",
              "      <td>...</td>\n",
              "      <td>...</td>\n",
              "      <td>...</td>\n",
              "      <td>...</td>\n",
              "      <td>...</td>\n",
              "      <td>...</td>\n",
              "    </tr>\n",
              "    <tr>\n",
              "      <th>11992</th>\n",
              "      <td>C:/Users/vcc/Desktop/project ml/voice/16144.wav</td>\n",
              "      <td>-493.76923</td>\n",
              "      <td>118.193620</td>\n",
              "      <td>-19.474787</td>\n",
              "      <td>47.368202</td>\n",
              "      <td>-4.860471</td>\n",
              "      <td>8.465796</td>\n",
              "      <td>-4.050439</td>\n",
              "      <td>6.528437</td>\n",
              "      <td>-1.920165</td>\n",
              "      <td>...</td>\n",
              "      <td>1.658500e-17</td>\n",
              "      <td>2.175022e-17</td>\n",
              "      <td>0.042150</td>\n",
              "      <td>0.026910</td>\n",
              "      <td>-0.000645</td>\n",
              "      <td>0.003364</td>\n",
              "      <td>-0.006610</td>\n",
              "      <td>0.003278</td>\n",
              "      <td>0</td>\n",
              "      <td>4</td>\n",
              "    </tr>\n",
              "    <tr>\n",
              "      <th>11993</th>\n",
              "      <td>C:/Users/vcc/Desktop/project ml/voice/1750.wav</td>\n",
              "      <td>-441.23830</td>\n",
              "      <td>68.922330</td>\n",
              "      <td>29.351257</td>\n",
              "      <td>27.767723</td>\n",
              "      <td>9.790405</td>\n",
              "      <td>19.638962</td>\n",
              "      <td>12.368877</td>\n",
              "      <td>-2.788193</td>\n",
              "      <td>-3.835782</td>\n",
              "      <td>...</td>\n",
              "      <td>6.869883e-18</td>\n",
              "      <td>1.143487e-18</td>\n",
              "      <td>-0.031688</td>\n",
              "      <td>0.016086</td>\n",
              "      <td>-0.024533</td>\n",
              "      <td>0.048363</td>\n",
              "      <td>0.036236</td>\n",
              "      <td>-0.017237</td>\n",
              "      <td>0</td>\n",
              "      <td>4</td>\n",
              "    </tr>\n",
              "    <tr>\n",
              "      <th>11994</th>\n",
              "      <td>C:/Users/vcc/Desktop/project ml/voice/1673.wav</td>\n",
              "      <td>-332.97794</td>\n",
              "      <td>74.275660</td>\n",
              "      <td>30.321781</td>\n",
              "      <td>14.730898</td>\n",
              "      <td>17.161760</td>\n",
              "      <td>5.759981</td>\n",
              "      <td>11.191778</td>\n",
              "      <td>5.152507</td>\n",
              "      <td>6.918223</td>\n",
              "      <td>...</td>\n",
              "      <td>1.494454e-17</td>\n",
              "      <td>2.848889e-17</td>\n",
              "      <td>-0.025926</td>\n",
              "      <td>0.000929</td>\n",
              "      <td>-0.076368</td>\n",
              "      <td>-0.004775</td>\n",
              "      <td>0.012181</td>\n",
              "      <td>0.009368</td>\n",
              "      <td>1</td>\n",
              "      <td>3</td>\n",
              "    </tr>\n",
              "    <tr>\n",
              "      <th>11995</th>\n",
              "      <td>C:/Users/vcc/Desktop/project ml/voice/11784.wav</td>\n",
              "      <td>-459.31543</td>\n",
              "      <td>75.078064</td>\n",
              "      <td>8.145429</td>\n",
              "      <td>31.015642</td>\n",
              "      <td>1.469157</td>\n",
              "      <td>9.187110</td>\n",
              "      <td>4.536473</td>\n",
              "      <td>1.235650</td>\n",
              "      <td>1.000868</td>\n",
              "      <td>...</td>\n",
              "      <td>1.178312e-17</td>\n",
              "      <td>2.756702e-17</td>\n",
              "      <td>0.045444</td>\n",
              "      <td>0.023344</td>\n",
              "      <td>0.058454</td>\n",
              "      <td>-0.004126</td>\n",
              "      <td>0.025204</td>\n",
              "      <td>-0.013217</td>\n",
              "      <td>0</td>\n",
              "      <td>3</td>\n",
              "    </tr>\n",
              "    <tr>\n",
              "      <th>11996</th>\n",
              "      <td>C:/Users/vcc/Desktop/project ml/voice/14561.wav</td>\n",
              "      <td>-336.05643</td>\n",
              "      <td>121.028460</td>\n",
              "      <td>4.946123</td>\n",
              "      <td>18.397797</td>\n",
              "      <td>5.344292</td>\n",
              "      <td>1.624755</td>\n",
              "      <td>-5.905523</td>\n",
              "      <td>7.784936</td>\n",
              "      <td>-6.294373</td>\n",
              "      <td>...</td>\n",
              "      <td>6.158693e-18</td>\n",
              "      <td>1.572200e-17</td>\n",
              "      <td>-0.069080</td>\n",
              "      <td>0.061143</td>\n",
              "      <td>0.005126</td>\n",
              "      <td>-0.086939</td>\n",
              "      <td>0.033204</td>\n",
              "      <td>-0.020299</td>\n",
              "      <td>1</td>\n",
              "      <td>3</td>\n",
              "    </tr>\n",
              "  </tbody>\n",
              "</table>\n",
              "<p>11997 rows × 547 columns</p>\n",
              "</div>\n",
              "      <button class=\"colab-df-convert\" onclick=\"convertToInteractive('df-19e4d8c1-33d9-4f57-a7ec-3839aae499a0')\"\n",
              "              title=\"Convert this dataframe to an interactive table.\"\n",
              "              style=\"display:none;\">\n",
              "        \n",
              "  <svg xmlns=\"http://www.w3.org/2000/svg\" height=\"24px\"viewBox=\"0 0 24 24\"\n",
              "       width=\"24px\">\n",
              "    <path d=\"M0 0h24v24H0V0z\" fill=\"none\"/>\n",
              "    <path d=\"M18.56 5.44l.94 2.06.94-2.06 2.06-.94-2.06-.94-.94-2.06-.94 2.06-2.06.94zm-11 1L8.5 8.5l.94-2.06 2.06-.94-2.06-.94L8.5 2.5l-.94 2.06-2.06.94zm10 10l.94 2.06.94-2.06 2.06-.94-2.06-.94-.94-2.06-.94 2.06-2.06.94z\"/><path d=\"M17.41 7.96l-1.37-1.37c-.4-.4-.92-.59-1.43-.59-.52 0-1.04.2-1.43.59L10.3 9.45l-7.72 7.72c-.78.78-.78 2.05 0 2.83L4 21.41c.39.39.9.59 1.41.59.51 0 1.02-.2 1.41-.59l7.78-7.78 2.81-2.81c.8-.78.8-2.07 0-2.86zM5.41 20L4 18.59l7.72-7.72 1.47 1.35L5.41 20z\"/>\n",
              "  </svg>\n",
              "      </button>\n",
              "      \n",
              "  <style>\n",
              "    .colab-df-container {\n",
              "      display:flex;\n",
              "      flex-wrap:wrap;\n",
              "      gap: 12px;\n",
              "    }\n",
              "\n",
              "    .colab-df-convert {\n",
              "      background-color: #E8F0FE;\n",
              "      border: none;\n",
              "      border-radius: 50%;\n",
              "      cursor: pointer;\n",
              "      display: none;\n",
              "      fill: #1967D2;\n",
              "      height: 32px;\n",
              "      padding: 0 0 0 0;\n",
              "      width: 32px;\n",
              "    }\n",
              "\n",
              "    .colab-df-convert:hover {\n",
              "      background-color: #E2EBFA;\n",
              "      box-shadow: 0px 1px 2px rgba(60, 64, 67, 0.3), 0px 1px 3px 1px rgba(60, 64, 67, 0.15);\n",
              "      fill: #174EA6;\n",
              "    }\n",
              "\n",
              "    [theme=dark] .colab-df-convert {\n",
              "      background-color: #3B4455;\n",
              "      fill: #D2E3FC;\n",
              "    }\n",
              "\n",
              "    [theme=dark] .colab-df-convert:hover {\n",
              "      background-color: #434B5C;\n",
              "      box-shadow: 0px 1px 3px 1px rgba(0, 0, 0, 0.15);\n",
              "      filter: drop-shadow(0px 1px 2px rgba(0, 0, 0, 0.3));\n",
              "      fill: #FFFFFF;\n",
              "    }\n",
              "  </style>\n",
              "\n",
              "      <script>\n",
              "        const buttonEl =\n",
              "          document.querySelector('#df-19e4d8c1-33d9-4f57-a7ec-3839aae499a0 button.colab-df-convert');\n",
              "        buttonEl.style.display =\n",
              "          google.colab.kernel.accessAllowed ? 'block' : 'none';\n",
              "\n",
              "        async function convertToInteractive(key) {\n",
              "          const element = document.querySelector('#df-19e4d8c1-33d9-4f57-a7ec-3839aae499a0');\n",
              "          const dataTable =\n",
              "            await google.colab.kernel.invokeFunction('convertToInteractive',\n",
              "                                                     [key], {});\n",
              "          if (!dataTable) return;\n",
              "\n",
              "          const docLinkHtml = 'Like what you see? Visit the ' +\n",
              "            '<a target=\"_blank\" href=https://colab.research.google.com/notebooks/data_table.ipynb>data table notebook</a>'\n",
              "            + ' to learn more about interactive tables.';\n",
              "          element.innerHTML = '';\n",
              "          dataTable['output_type'] = 'display_data';\n",
              "          await google.colab.output.renderOutput(dataTable, element);\n",
              "          const docLink = document.createElement('div');\n",
              "          docLink.innerHTML = docLinkHtml;\n",
              "          element.appendChild(docLink);\n",
              "        }\n",
              "      </script>\n",
              "    </div>\n",
              "  </div>\n",
              "  "
            ]
          },
          "metadata": {},
          "execution_count": 3
        }
      ]
    },
    {
      "cell_type": "code",
      "source": [
        "df=pd.read_csv('/content/drive/MyDrive/Colab Notebooks/model2/model2_csv/Test2.csv')\n",
        "train=pd.read_csv('/content/drive/MyDrive/Colab Notebooks/model2/model2_excel/Test2.csv')\n",
        "emotion_train = train[\"emotionID\"]\n",
        "set(emotion_train)\n",
        "result = pd.concat([df, train[\"sex\"],emotion_train], axis=1)\n",
        "df_test=result.drop(columns=[\"target\"])\n",
        "df_test[\"sex\"].replace({\"f\": 0, \"m\": 1}, inplace=True)\n",
        "df_test"
      ],
      "metadata": {
        "colab": {
          "base_uri": "https://localhost:8080/",
          "height": 661
        },
        "id": "Am916y9fM5a-",
        "outputId": "4c0db2b2-6b55-4997-baed-7704b1f1fd5a"
      },
      "execution_count": null,
      "outputs": [
        {
          "output_type": "execute_result",
          "data": {
            "text/plain": [
              "                                           Unnamed: 0     mfcc_0      mfcc_1  \\\n",
              "0      C:/Users/vcc/Desktop/project ml/voice/9344.wav -505.86703   90.927670   \n",
              "1     C:/Users/vcc/Desktop/project ml/voice/12547.wav -415.33710   96.606150   \n",
              "2     C:/Users/vcc/Desktop/project ml/voice/11416.wav -394.90335  115.636820   \n",
              "3     C:/Users/vcc/Desktop/project ml/voice/13091.wav -211.31772  133.582140   \n",
              "4     C:/Users/vcc/Desktop/project ml/voice/15864.wav -463.76688  130.353880   \n",
              "...                                               ...        ...         ...   \n",
              "3328    C:/Users/vcc/Desktop/project ml/voice/415.wav -520.99010   76.673530   \n",
              "3329   C:/Users/vcc/Desktop/project ml/voice/9548.wav -363.66486  121.069305   \n",
              "3330   C:/Users/vcc/Desktop/project ml/voice/5933.wav -392.01880  108.106830   \n",
              "3331   C:/Users/vcc/Desktop/project ml/voice/5635.wav -335.09702   97.686615   \n",
              "3332   C:/Users/vcc/Desktop/project ml/voice/2077.wav -579.15686   49.359300   \n",
              "\n",
              "         mfcc_2     mfcc_3     mfcc_4     mfcc_5     mfcc_6     mfcc_7  \\\n",
              "0     50.811844  46.253925  21.828745  18.075613   3.674863  -3.278383   \n",
              "1     25.525356  31.204031  -5.861326   8.170014  -8.523556  -0.566638   \n",
              "2      8.155794  20.469270   2.609663  16.974703 -21.057484  15.903380   \n",
              "3    -25.216316  12.453365 -31.373760   5.483029 -14.456090 -24.726824   \n",
              "4     -0.246942  23.904879   1.496812  10.103725 -22.894894   6.832997   \n",
              "...         ...        ...        ...        ...        ...        ...   \n",
              "3328 -13.955746  28.225765  -0.103527 -20.673664 -14.641736   7.766248   \n",
              "3329  -6.165410  23.450203  -3.538832  -0.146308  -4.288898  -6.522939   \n",
              "3330  -2.740813  23.881542  -5.648860   3.114533 -10.559357   3.632669   \n",
              "3331   0.157730  40.329950  -8.645594  25.945732  -2.471781  -3.563193   \n",
              "3332  14.313977  14.504559   4.230345  -3.542368  -1.247210  -0.642427   \n",
              "\n",
              "         mfcc_8  ...  tempogram_382  tempogram_383  tonnetz_0  tonnetz_1  \\\n",
              "0      4.984287  ...   1.753767e-17   2.565021e-17   0.074273   0.045284   \n",
              "1     -9.987669  ...   1.068843e-17   2.590136e-17  -0.052392  -0.009066   \n",
              "2    -10.881305  ...   1.265895e-17   2.381629e-17  -0.005245  -0.046894   \n",
              "3    -11.366259  ...   6.409966e-18  -8.634525e-19  -0.005213  -0.041483   \n",
              "4     -8.986013  ...   1.449830e-17   2.280265e-17   0.006945   0.050537   \n",
              "...         ...  ...            ...            ...        ...        ...   \n",
              "3328  -9.842073  ...  -4.578098e-18   1.398697e-18  -0.010583  -0.004469   \n",
              "3329 -14.068184  ...   2.840874e-17   4.070046e-17   0.039948   0.030738   \n",
              "3330  -8.072955  ...   5.926913e-17   7.656482e-17   0.009681   0.019442   \n",
              "3331  -0.374251  ...   1.973473e-17   2.774610e-17   0.037246   0.025011   \n",
              "3332  -5.903124  ...  -4.227222e-18   6.376488e-18  -0.003626  -0.003880   \n",
              "\n",
              "      tonnetz_2  tonnetz_3  tonnetz_4  tonnetz_5  sex  emotionID  \n",
              "0      0.173617  -0.021284   0.002736  -0.035215    1          3  \n",
              "1     -0.036222   0.096223   0.007650   0.002427    1          2  \n",
              "2     -0.032342   0.023598   0.028529  -0.004028    1          3  \n",
              "3     -0.012330  -0.020854  -0.018228   0.023352    1          2  \n",
              "4     -0.013286   0.001660  -0.009420  -0.018993    0          4  \n",
              "...         ...        ...        ...        ...  ...        ...  \n",
              "3328  -0.026875  -0.019898   0.001768   0.009172    1          1  \n",
              "3329  -0.006072  -0.045371  -0.025829  -0.015018    1          2  \n",
              "3330   0.055938   0.052546   0.004331   0.005918    1          1  \n",
              "3331   0.026386  -0.025918   0.007564  -0.008521    0          3  \n",
              "3332   0.031416  -0.003864  -0.008864  -0.002670    1          3  \n",
              "\n",
              "[3333 rows x 547 columns]"
            ],
            "text/html": [
              "\n",
              "  <div id=\"df-730461f4-2938-4a4a-bcc2-721f7b7eb3e0\">\n",
              "    <div class=\"colab-df-container\">\n",
              "      <div>\n",
              "<style scoped>\n",
              "    .dataframe tbody tr th:only-of-type {\n",
              "        vertical-align: middle;\n",
              "    }\n",
              "\n",
              "    .dataframe tbody tr th {\n",
              "        vertical-align: top;\n",
              "    }\n",
              "\n",
              "    .dataframe thead th {\n",
              "        text-align: right;\n",
              "    }\n",
              "</style>\n",
              "<table border=\"1\" class=\"dataframe\">\n",
              "  <thead>\n",
              "    <tr style=\"text-align: right;\">\n",
              "      <th></th>\n",
              "      <th>Unnamed: 0</th>\n",
              "      <th>mfcc_0</th>\n",
              "      <th>mfcc_1</th>\n",
              "      <th>mfcc_2</th>\n",
              "      <th>mfcc_3</th>\n",
              "      <th>mfcc_4</th>\n",
              "      <th>mfcc_5</th>\n",
              "      <th>mfcc_6</th>\n",
              "      <th>mfcc_7</th>\n",
              "      <th>mfcc_8</th>\n",
              "      <th>...</th>\n",
              "      <th>tempogram_382</th>\n",
              "      <th>tempogram_383</th>\n",
              "      <th>tonnetz_0</th>\n",
              "      <th>tonnetz_1</th>\n",
              "      <th>tonnetz_2</th>\n",
              "      <th>tonnetz_3</th>\n",
              "      <th>tonnetz_4</th>\n",
              "      <th>tonnetz_5</th>\n",
              "      <th>sex</th>\n",
              "      <th>emotionID</th>\n",
              "    </tr>\n",
              "  </thead>\n",
              "  <tbody>\n",
              "    <tr>\n",
              "      <th>0</th>\n",
              "      <td>C:/Users/vcc/Desktop/project ml/voice/9344.wav</td>\n",
              "      <td>-505.86703</td>\n",
              "      <td>90.927670</td>\n",
              "      <td>50.811844</td>\n",
              "      <td>46.253925</td>\n",
              "      <td>21.828745</td>\n",
              "      <td>18.075613</td>\n",
              "      <td>3.674863</td>\n",
              "      <td>-3.278383</td>\n",
              "      <td>4.984287</td>\n",
              "      <td>...</td>\n",
              "      <td>1.753767e-17</td>\n",
              "      <td>2.565021e-17</td>\n",
              "      <td>0.074273</td>\n",
              "      <td>0.045284</td>\n",
              "      <td>0.173617</td>\n",
              "      <td>-0.021284</td>\n",
              "      <td>0.002736</td>\n",
              "      <td>-0.035215</td>\n",
              "      <td>1</td>\n",
              "      <td>3</td>\n",
              "    </tr>\n",
              "    <tr>\n",
              "      <th>1</th>\n",
              "      <td>C:/Users/vcc/Desktop/project ml/voice/12547.wav</td>\n",
              "      <td>-415.33710</td>\n",
              "      <td>96.606150</td>\n",
              "      <td>25.525356</td>\n",
              "      <td>31.204031</td>\n",
              "      <td>-5.861326</td>\n",
              "      <td>8.170014</td>\n",
              "      <td>-8.523556</td>\n",
              "      <td>-0.566638</td>\n",
              "      <td>-9.987669</td>\n",
              "      <td>...</td>\n",
              "      <td>1.068843e-17</td>\n",
              "      <td>2.590136e-17</td>\n",
              "      <td>-0.052392</td>\n",
              "      <td>-0.009066</td>\n",
              "      <td>-0.036222</td>\n",
              "      <td>0.096223</td>\n",
              "      <td>0.007650</td>\n",
              "      <td>0.002427</td>\n",
              "      <td>1</td>\n",
              "      <td>2</td>\n",
              "    </tr>\n",
              "    <tr>\n",
              "      <th>2</th>\n",
              "      <td>C:/Users/vcc/Desktop/project ml/voice/11416.wav</td>\n",
              "      <td>-394.90335</td>\n",
              "      <td>115.636820</td>\n",
              "      <td>8.155794</td>\n",
              "      <td>20.469270</td>\n",
              "      <td>2.609663</td>\n",
              "      <td>16.974703</td>\n",
              "      <td>-21.057484</td>\n",
              "      <td>15.903380</td>\n",
              "      <td>-10.881305</td>\n",
              "      <td>...</td>\n",
              "      <td>1.265895e-17</td>\n",
              "      <td>2.381629e-17</td>\n",
              "      <td>-0.005245</td>\n",
              "      <td>-0.046894</td>\n",
              "      <td>-0.032342</td>\n",
              "      <td>0.023598</td>\n",
              "      <td>0.028529</td>\n",
              "      <td>-0.004028</td>\n",
              "      <td>1</td>\n",
              "      <td>3</td>\n",
              "    </tr>\n",
              "    <tr>\n",
              "      <th>3</th>\n",
              "      <td>C:/Users/vcc/Desktop/project ml/voice/13091.wav</td>\n",
              "      <td>-211.31772</td>\n",
              "      <td>133.582140</td>\n",
              "      <td>-25.216316</td>\n",
              "      <td>12.453365</td>\n",
              "      <td>-31.373760</td>\n",
              "      <td>5.483029</td>\n",
              "      <td>-14.456090</td>\n",
              "      <td>-24.726824</td>\n",
              "      <td>-11.366259</td>\n",
              "      <td>...</td>\n",
              "      <td>6.409966e-18</td>\n",
              "      <td>-8.634525e-19</td>\n",
              "      <td>-0.005213</td>\n",
              "      <td>-0.041483</td>\n",
              "      <td>-0.012330</td>\n",
              "      <td>-0.020854</td>\n",
              "      <td>-0.018228</td>\n",
              "      <td>0.023352</td>\n",
              "      <td>1</td>\n",
              "      <td>2</td>\n",
              "    </tr>\n",
              "    <tr>\n",
              "      <th>4</th>\n",
              "      <td>C:/Users/vcc/Desktop/project ml/voice/15864.wav</td>\n",
              "      <td>-463.76688</td>\n",
              "      <td>130.353880</td>\n",
              "      <td>-0.246942</td>\n",
              "      <td>23.904879</td>\n",
              "      <td>1.496812</td>\n",
              "      <td>10.103725</td>\n",
              "      <td>-22.894894</td>\n",
              "      <td>6.832997</td>\n",
              "      <td>-8.986013</td>\n",
              "      <td>...</td>\n",
              "      <td>1.449830e-17</td>\n",
              "      <td>2.280265e-17</td>\n",
              "      <td>0.006945</td>\n",
              "      <td>0.050537</td>\n",
              "      <td>-0.013286</td>\n",
              "      <td>0.001660</td>\n",
              "      <td>-0.009420</td>\n",
              "      <td>-0.018993</td>\n",
              "      <td>0</td>\n",
              "      <td>4</td>\n",
              "    </tr>\n",
              "    <tr>\n",
              "      <th>...</th>\n",
              "      <td>...</td>\n",
              "      <td>...</td>\n",
              "      <td>...</td>\n",
              "      <td>...</td>\n",
              "      <td>...</td>\n",
              "      <td>...</td>\n",
              "      <td>...</td>\n",
              "      <td>...</td>\n",
              "      <td>...</td>\n",
              "      <td>...</td>\n",
              "      <td>...</td>\n",
              "      <td>...</td>\n",
              "      <td>...</td>\n",
              "      <td>...</td>\n",
              "      <td>...</td>\n",
              "      <td>...</td>\n",
              "      <td>...</td>\n",
              "      <td>...</td>\n",
              "      <td>...</td>\n",
              "      <td>...</td>\n",
              "      <td>...</td>\n",
              "    </tr>\n",
              "    <tr>\n",
              "      <th>3328</th>\n",
              "      <td>C:/Users/vcc/Desktop/project ml/voice/415.wav</td>\n",
              "      <td>-520.99010</td>\n",
              "      <td>76.673530</td>\n",
              "      <td>-13.955746</td>\n",
              "      <td>28.225765</td>\n",
              "      <td>-0.103527</td>\n",
              "      <td>-20.673664</td>\n",
              "      <td>-14.641736</td>\n",
              "      <td>7.766248</td>\n",
              "      <td>-9.842073</td>\n",
              "      <td>...</td>\n",
              "      <td>-4.578098e-18</td>\n",
              "      <td>1.398697e-18</td>\n",
              "      <td>-0.010583</td>\n",
              "      <td>-0.004469</td>\n",
              "      <td>-0.026875</td>\n",
              "      <td>-0.019898</td>\n",
              "      <td>0.001768</td>\n",
              "      <td>0.009172</td>\n",
              "      <td>1</td>\n",
              "      <td>1</td>\n",
              "    </tr>\n",
              "    <tr>\n",
              "      <th>3329</th>\n",
              "      <td>C:/Users/vcc/Desktop/project ml/voice/9548.wav</td>\n",
              "      <td>-363.66486</td>\n",
              "      <td>121.069305</td>\n",
              "      <td>-6.165410</td>\n",
              "      <td>23.450203</td>\n",
              "      <td>-3.538832</td>\n",
              "      <td>-0.146308</td>\n",
              "      <td>-4.288898</td>\n",
              "      <td>-6.522939</td>\n",
              "      <td>-14.068184</td>\n",
              "      <td>...</td>\n",
              "      <td>2.840874e-17</td>\n",
              "      <td>4.070046e-17</td>\n",
              "      <td>0.039948</td>\n",
              "      <td>0.030738</td>\n",
              "      <td>-0.006072</td>\n",
              "      <td>-0.045371</td>\n",
              "      <td>-0.025829</td>\n",
              "      <td>-0.015018</td>\n",
              "      <td>1</td>\n",
              "      <td>2</td>\n",
              "    </tr>\n",
              "    <tr>\n",
              "      <th>3330</th>\n",
              "      <td>C:/Users/vcc/Desktop/project ml/voice/5933.wav</td>\n",
              "      <td>-392.01880</td>\n",
              "      <td>108.106830</td>\n",
              "      <td>-2.740813</td>\n",
              "      <td>23.881542</td>\n",
              "      <td>-5.648860</td>\n",
              "      <td>3.114533</td>\n",
              "      <td>-10.559357</td>\n",
              "      <td>3.632669</td>\n",
              "      <td>-8.072955</td>\n",
              "      <td>...</td>\n",
              "      <td>5.926913e-17</td>\n",
              "      <td>7.656482e-17</td>\n",
              "      <td>0.009681</td>\n",
              "      <td>0.019442</td>\n",
              "      <td>0.055938</td>\n",
              "      <td>0.052546</td>\n",
              "      <td>0.004331</td>\n",
              "      <td>0.005918</td>\n",
              "      <td>1</td>\n",
              "      <td>1</td>\n",
              "    </tr>\n",
              "    <tr>\n",
              "      <th>3331</th>\n",
              "      <td>C:/Users/vcc/Desktop/project ml/voice/5635.wav</td>\n",
              "      <td>-335.09702</td>\n",
              "      <td>97.686615</td>\n",
              "      <td>0.157730</td>\n",
              "      <td>40.329950</td>\n",
              "      <td>-8.645594</td>\n",
              "      <td>25.945732</td>\n",
              "      <td>-2.471781</td>\n",
              "      <td>-3.563193</td>\n",
              "      <td>-0.374251</td>\n",
              "      <td>...</td>\n",
              "      <td>1.973473e-17</td>\n",
              "      <td>2.774610e-17</td>\n",
              "      <td>0.037246</td>\n",
              "      <td>0.025011</td>\n",
              "      <td>0.026386</td>\n",
              "      <td>-0.025918</td>\n",
              "      <td>0.007564</td>\n",
              "      <td>-0.008521</td>\n",
              "      <td>0</td>\n",
              "      <td>3</td>\n",
              "    </tr>\n",
              "    <tr>\n",
              "      <th>3332</th>\n",
              "      <td>C:/Users/vcc/Desktop/project ml/voice/2077.wav</td>\n",
              "      <td>-579.15686</td>\n",
              "      <td>49.359300</td>\n",
              "      <td>14.313977</td>\n",
              "      <td>14.504559</td>\n",
              "      <td>4.230345</td>\n",
              "      <td>-3.542368</td>\n",
              "      <td>-1.247210</td>\n",
              "      <td>-0.642427</td>\n",
              "      <td>-5.903124</td>\n",
              "      <td>...</td>\n",
              "      <td>-4.227222e-18</td>\n",
              "      <td>6.376488e-18</td>\n",
              "      <td>-0.003626</td>\n",
              "      <td>-0.003880</td>\n",
              "      <td>0.031416</td>\n",
              "      <td>-0.003864</td>\n",
              "      <td>-0.008864</td>\n",
              "      <td>-0.002670</td>\n",
              "      <td>1</td>\n",
              "      <td>3</td>\n",
              "    </tr>\n",
              "  </tbody>\n",
              "</table>\n",
              "<p>3333 rows × 547 columns</p>\n",
              "</div>\n",
              "      <button class=\"colab-df-convert\" onclick=\"convertToInteractive('df-730461f4-2938-4a4a-bcc2-721f7b7eb3e0')\"\n",
              "              title=\"Convert this dataframe to an interactive table.\"\n",
              "              style=\"display:none;\">\n",
              "        \n",
              "  <svg xmlns=\"http://www.w3.org/2000/svg\" height=\"24px\"viewBox=\"0 0 24 24\"\n",
              "       width=\"24px\">\n",
              "    <path d=\"M0 0h24v24H0V0z\" fill=\"none\"/>\n",
              "    <path d=\"M18.56 5.44l.94 2.06.94-2.06 2.06-.94-2.06-.94-.94-2.06-.94 2.06-2.06.94zm-11 1L8.5 8.5l.94-2.06 2.06-.94-2.06-.94L8.5 2.5l-.94 2.06-2.06.94zm10 10l.94 2.06.94-2.06 2.06-.94-2.06-.94-.94-2.06-.94 2.06-2.06.94z\"/><path d=\"M17.41 7.96l-1.37-1.37c-.4-.4-.92-.59-1.43-.59-.52 0-1.04.2-1.43.59L10.3 9.45l-7.72 7.72c-.78.78-.78 2.05 0 2.83L4 21.41c.39.39.9.59 1.41.59.51 0 1.02-.2 1.41-.59l7.78-7.78 2.81-2.81c.8-.78.8-2.07 0-2.86zM5.41 20L4 18.59l7.72-7.72 1.47 1.35L5.41 20z\"/>\n",
              "  </svg>\n",
              "      </button>\n",
              "      \n",
              "  <style>\n",
              "    .colab-df-container {\n",
              "      display:flex;\n",
              "      flex-wrap:wrap;\n",
              "      gap: 12px;\n",
              "    }\n",
              "\n",
              "    .colab-df-convert {\n",
              "      background-color: #E8F0FE;\n",
              "      border: none;\n",
              "      border-radius: 50%;\n",
              "      cursor: pointer;\n",
              "      display: none;\n",
              "      fill: #1967D2;\n",
              "      height: 32px;\n",
              "      padding: 0 0 0 0;\n",
              "      width: 32px;\n",
              "    }\n",
              "\n",
              "    .colab-df-convert:hover {\n",
              "      background-color: #E2EBFA;\n",
              "      box-shadow: 0px 1px 2px rgba(60, 64, 67, 0.3), 0px 1px 3px 1px rgba(60, 64, 67, 0.15);\n",
              "      fill: #174EA6;\n",
              "    }\n",
              "\n",
              "    [theme=dark] .colab-df-convert {\n",
              "      background-color: #3B4455;\n",
              "      fill: #D2E3FC;\n",
              "    }\n",
              "\n",
              "    [theme=dark] .colab-df-convert:hover {\n",
              "      background-color: #434B5C;\n",
              "      box-shadow: 0px 1px 3px 1px rgba(0, 0, 0, 0.15);\n",
              "      filter: drop-shadow(0px 1px 2px rgba(0, 0, 0, 0.3));\n",
              "      fill: #FFFFFF;\n",
              "    }\n",
              "  </style>\n",
              "\n",
              "      <script>\n",
              "        const buttonEl =\n",
              "          document.querySelector('#df-730461f4-2938-4a4a-bcc2-721f7b7eb3e0 button.colab-df-convert');\n",
              "        buttonEl.style.display =\n",
              "          google.colab.kernel.accessAllowed ? 'block' : 'none';\n",
              "\n",
              "        async function convertToInteractive(key) {\n",
              "          const element = document.querySelector('#df-730461f4-2938-4a4a-bcc2-721f7b7eb3e0');\n",
              "          const dataTable =\n",
              "            await google.colab.kernel.invokeFunction('convertToInteractive',\n",
              "                                                     [key], {});\n",
              "          if (!dataTable) return;\n",
              "\n",
              "          const docLinkHtml = 'Like what you see? Visit the ' +\n",
              "            '<a target=\"_blank\" href=https://colab.research.google.com/notebooks/data_table.ipynb>data table notebook</a>'\n",
              "            + ' to learn more about interactive tables.';\n",
              "          element.innerHTML = '';\n",
              "          dataTable['output_type'] = 'display_data';\n",
              "          await google.colab.output.renderOutput(dataTable, element);\n",
              "          const docLink = document.createElement('div');\n",
              "          docLink.innerHTML = docLinkHtml;\n",
              "          element.appendChild(docLink);\n",
              "        }\n",
              "      </script>\n",
              "    </div>\n",
              "  </div>\n",
              "  "
            ]
          },
          "metadata": {},
          "execution_count": 4
        }
      ]
    },
    {
      "cell_type": "code",
      "source": [
        "df=pd.read_csv('/content/drive/MyDrive/Colab Notebooks/model2/model2_csv/Val2.csv')\n",
        "train=pd.read_csv('/content/drive/MyDrive/Colab Notebooks/model2/model2_excel/Validation2.csv')\n",
        "emotion_train = train[\"emotionID\"]\n",
        "set(emotion_train)\n",
        "result = pd.concat([df, train[\"sex\"],emotion_train], axis=1)\n",
        "df_val=result.drop(columns=[\"target\"])\n",
        "df_val[\"sex\"].replace({\"f\": 0, \"m\": 1}, inplace=True)\n",
        "df_val"
      ],
      "metadata": {
        "colab": {
          "base_uri": "https://localhost:8080/",
          "height": 661
        },
        "id": "eGiPvIOfM5KL",
        "outputId": "2e84d154-b150-43e5-ce55-eec0208dd802"
      },
      "execution_count": null,
      "outputs": [
        {
          "output_type": "execute_result",
          "data": {
            "text/plain": [
              "                                           Unnamed: 0     mfcc_0      mfcc_1  \\\n",
              "0      C:/Users/vcc/Desktop/project ml/voice/6832.wav -488.58350  125.363884   \n",
              "1      C:/Users/vcc/Desktop/project ml/voice/7611.wav -566.28910  125.519900   \n",
              "2     C:/Users/vcc/Desktop/project ml/voice/13210.wav -290.08643   74.740100   \n",
              "3      C:/Users/vcc/Desktop/project ml/voice/9354.wav -435.74634   78.541080   \n",
              "4      C:/Users/vcc/Desktop/project ml/voice/8606.wav -465.05390   60.186516   \n",
              "...                                               ...        ...         ...   \n",
              "1328  C:/Users/vcc/Desktop/project ml/voice/15239.wav -496.83182   94.452484   \n",
              "1329  C:/Users/vcc/Desktop/project ml/voice/12224.wav -469.32635   80.955300   \n",
              "1330  C:/Users/vcc/Desktop/project ml/voice/11510.wav -478.77884  111.673510   \n",
              "1331    C:/Users/vcc/Desktop/project ml/voice/371.wav -309.57825  116.987755   \n",
              "1332    C:/Users/vcc/Desktop/project ml/voice/635.wav -370.82755   74.999700   \n",
              "\n",
              "         mfcc_2     mfcc_3     mfcc_4     mfcc_5     mfcc_6     mfcc_7  \\\n",
              "0    -12.504966  37.198204  -2.702445  -5.722758 -12.373598   2.467718   \n",
              "1     17.920944  38.151070   7.487829   0.276249   4.609295  -5.386468   \n",
              "2      8.774795 -14.485182 -27.042484 -16.336575 -22.957893 -13.053991   \n",
              "3     14.673229  12.379173   0.282971   8.887095   8.048609  -6.324754   \n",
              "4      2.840247   4.360996  -7.749868 -15.018993 -12.471092   2.004046   \n",
              "...         ...        ...        ...        ...        ...        ...   \n",
              "1328 -14.680283  30.726557  -6.597310  27.247398 -12.261194   6.138174   \n",
              "1329   1.178256  21.138077   0.469207   5.897948  -3.527771  -2.625922   \n",
              "1330  44.104317  19.154287   7.983385  19.212233  17.093990   9.567336   \n",
              "1331 -39.851376  -0.554212  11.380273   7.968697 -21.223793   1.485160   \n",
              "1332  15.605786   4.136265   9.415189   4.758561   1.690024  -1.111040   \n",
              "\n",
              "         mfcc_8  ...  tempogram_382  tempogram_383  tonnetz_0  tonnetz_1  \\\n",
              "0    -15.723393  ...   1.008299e-17   2.442923e-17  -0.010529   0.009685   \n",
              "1      0.870111  ...   2.162346e-17   3.703701e-17  -0.044944   0.045926   \n",
              "2    -13.188375  ...   8.787469e-18   2.766792e-18   0.025363  -0.033435   \n",
              "3     -5.481674  ...   5.739300e-18   1.162928e-17   0.032007   0.030585   \n",
              "4     -0.175942  ...  -4.158133e-18  -8.077788e-19   0.009873  -0.074426   \n",
              "...         ...  ...            ...            ...        ...        ...   \n",
              "1328   2.913280  ...   3.106750e-17   3.391439e-17   0.036700   0.029420   \n",
              "1329  -0.853007  ...   3.801361e-17   4.132647e-17  -0.031110   0.017098   \n",
              "1330  -5.685280  ...   5.162369e-18   1.481872e-17   0.044655  -0.023754   \n",
              "1331 -28.879356  ...   2.628038e-18  -6.710867e-18  -0.035682   0.060960   \n",
              "1332  -7.639019  ...   1.180451e-17   3.179636e-18   0.015843  -0.023677   \n",
              "\n",
              "      tonnetz_2  tonnetz_3  tonnetz_4  tonnetz_5  sex  emotionID  \n",
              "0     -0.045360  -0.005832  -0.014860  -0.006074    0          4  \n",
              "1      0.053722  -0.003690   0.030615  -0.040445    0          3  \n",
              "2      0.006269  -0.064963  -0.006925  -0.015261    0          1  \n",
              "3      0.013155  -0.043434  -0.000372   0.002547    1          1  \n",
              "4      0.000372  -0.102519   0.002005   0.048481    0          2  \n",
              "...         ...        ...        ...        ...  ...        ...  \n",
              "1328   0.041282  -0.068457   0.042870   0.017423    0          3  \n",
              "1329  -0.014034  -0.002092  -0.025279  -0.015825    0          3  \n",
              "1330  -0.024227   0.035210   0.037692  -0.028760    1          1  \n",
              "1331  -0.056425  -0.052387   0.032046  -0.022562    0          1  \n",
              "1332  -0.033799   0.026843   0.021130   0.004556    0          1  \n",
              "\n",
              "[1333 rows x 547 columns]"
            ],
            "text/html": [
              "\n",
              "  <div id=\"df-88eb0a69-28b2-451d-8df7-a30a6a5b9d07\">\n",
              "    <div class=\"colab-df-container\">\n",
              "      <div>\n",
              "<style scoped>\n",
              "    .dataframe tbody tr th:only-of-type {\n",
              "        vertical-align: middle;\n",
              "    }\n",
              "\n",
              "    .dataframe tbody tr th {\n",
              "        vertical-align: top;\n",
              "    }\n",
              "\n",
              "    .dataframe thead th {\n",
              "        text-align: right;\n",
              "    }\n",
              "</style>\n",
              "<table border=\"1\" class=\"dataframe\">\n",
              "  <thead>\n",
              "    <tr style=\"text-align: right;\">\n",
              "      <th></th>\n",
              "      <th>Unnamed: 0</th>\n",
              "      <th>mfcc_0</th>\n",
              "      <th>mfcc_1</th>\n",
              "      <th>mfcc_2</th>\n",
              "      <th>mfcc_3</th>\n",
              "      <th>mfcc_4</th>\n",
              "      <th>mfcc_5</th>\n",
              "      <th>mfcc_6</th>\n",
              "      <th>mfcc_7</th>\n",
              "      <th>mfcc_8</th>\n",
              "      <th>...</th>\n",
              "      <th>tempogram_382</th>\n",
              "      <th>tempogram_383</th>\n",
              "      <th>tonnetz_0</th>\n",
              "      <th>tonnetz_1</th>\n",
              "      <th>tonnetz_2</th>\n",
              "      <th>tonnetz_3</th>\n",
              "      <th>tonnetz_4</th>\n",
              "      <th>tonnetz_5</th>\n",
              "      <th>sex</th>\n",
              "      <th>emotionID</th>\n",
              "    </tr>\n",
              "  </thead>\n",
              "  <tbody>\n",
              "    <tr>\n",
              "      <th>0</th>\n",
              "      <td>C:/Users/vcc/Desktop/project ml/voice/6832.wav</td>\n",
              "      <td>-488.58350</td>\n",
              "      <td>125.363884</td>\n",
              "      <td>-12.504966</td>\n",
              "      <td>37.198204</td>\n",
              "      <td>-2.702445</td>\n",
              "      <td>-5.722758</td>\n",
              "      <td>-12.373598</td>\n",
              "      <td>2.467718</td>\n",
              "      <td>-15.723393</td>\n",
              "      <td>...</td>\n",
              "      <td>1.008299e-17</td>\n",
              "      <td>2.442923e-17</td>\n",
              "      <td>-0.010529</td>\n",
              "      <td>0.009685</td>\n",
              "      <td>-0.045360</td>\n",
              "      <td>-0.005832</td>\n",
              "      <td>-0.014860</td>\n",
              "      <td>-0.006074</td>\n",
              "      <td>0</td>\n",
              "      <td>4</td>\n",
              "    </tr>\n",
              "    <tr>\n",
              "      <th>1</th>\n",
              "      <td>C:/Users/vcc/Desktop/project ml/voice/7611.wav</td>\n",
              "      <td>-566.28910</td>\n",
              "      <td>125.519900</td>\n",
              "      <td>17.920944</td>\n",
              "      <td>38.151070</td>\n",
              "      <td>7.487829</td>\n",
              "      <td>0.276249</td>\n",
              "      <td>4.609295</td>\n",
              "      <td>-5.386468</td>\n",
              "      <td>0.870111</td>\n",
              "      <td>...</td>\n",
              "      <td>2.162346e-17</td>\n",
              "      <td>3.703701e-17</td>\n",
              "      <td>-0.044944</td>\n",
              "      <td>0.045926</td>\n",
              "      <td>0.053722</td>\n",
              "      <td>-0.003690</td>\n",
              "      <td>0.030615</td>\n",
              "      <td>-0.040445</td>\n",
              "      <td>0</td>\n",
              "      <td>3</td>\n",
              "    </tr>\n",
              "    <tr>\n",
              "      <th>2</th>\n",
              "      <td>C:/Users/vcc/Desktop/project ml/voice/13210.wav</td>\n",
              "      <td>-290.08643</td>\n",
              "      <td>74.740100</td>\n",
              "      <td>8.774795</td>\n",
              "      <td>-14.485182</td>\n",
              "      <td>-27.042484</td>\n",
              "      <td>-16.336575</td>\n",
              "      <td>-22.957893</td>\n",
              "      <td>-13.053991</td>\n",
              "      <td>-13.188375</td>\n",
              "      <td>...</td>\n",
              "      <td>8.787469e-18</td>\n",
              "      <td>2.766792e-18</td>\n",
              "      <td>0.025363</td>\n",
              "      <td>-0.033435</td>\n",
              "      <td>0.006269</td>\n",
              "      <td>-0.064963</td>\n",
              "      <td>-0.006925</td>\n",
              "      <td>-0.015261</td>\n",
              "      <td>0</td>\n",
              "      <td>1</td>\n",
              "    </tr>\n",
              "    <tr>\n",
              "      <th>3</th>\n",
              "      <td>C:/Users/vcc/Desktop/project ml/voice/9354.wav</td>\n",
              "      <td>-435.74634</td>\n",
              "      <td>78.541080</td>\n",
              "      <td>14.673229</td>\n",
              "      <td>12.379173</td>\n",
              "      <td>0.282971</td>\n",
              "      <td>8.887095</td>\n",
              "      <td>8.048609</td>\n",
              "      <td>-6.324754</td>\n",
              "      <td>-5.481674</td>\n",
              "      <td>...</td>\n",
              "      <td>5.739300e-18</td>\n",
              "      <td>1.162928e-17</td>\n",
              "      <td>0.032007</td>\n",
              "      <td>0.030585</td>\n",
              "      <td>0.013155</td>\n",
              "      <td>-0.043434</td>\n",
              "      <td>-0.000372</td>\n",
              "      <td>0.002547</td>\n",
              "      <td>1</td>\n",
              "      <td>1</td>\n",
              "    </tr>\n",
              "    <tr>\n",
              "      <th>4</th>\n",
              "      <td>C:/Users/vcc/Desktop/project ml/voice/8606.wav</td>\n",
              "      <td>-465.05390</td>\n",
              "      <td>60.186516</td>\n",
              "      <td>2.840247</td>\n",
              "      <td>4.360996</td>\n",
              "      <td>-7.749868</td>\n",
              "      <td>-15.018993</td>\n",
              "      <td>-12.471092</td>\n",
              "      <td>2.004046</td>\n",
              "      <td>-0.175942</td>\n",
              "      <td>...</td>\n",
              "      <td>-4.158133e-18</td>\n",
              "      <td>-8.077788e-19</td>\n",
              "      <td>0.009873</td>\n",
              "      <td>-0.074426</td>\n",
              "      <td>0.000372</td>\n",
              "      <td>-0.102519</td>\n",
              "      <td>0.002005</td>\n",
              "      <td>0.048481</td>\n",
              "      <td>0</td>\n",
              "      <td>2</td>\n",
              "    </tr>\n",
              "    <tr>\n",
              "      <th>...</th>\n",
              "      <td>...</td>\n",
              "      <td>...</td>\n",
              "      <td>...</td>\n",
              "      <td>...</td>\n",
              "      <td>...</td>\n",
              "      <td>...</td>\n",
              "      <td>...</td>\n",
              "      <td>...</td>\n",
              "      <td>...</td>\n",
              "      <td>...</td>\n",
              "      <td>...</td>\n",
              "      <td>...</td>\n",
              "      <td>...</td>\n",
              "      <td>...</td>\n",
              "      <td>...</td>\n",
              "      <td>...</td>\n",
              "      <td>...</td>\n",
              "      <td>...</td>\n",
              "      <td>...</td>\n",
              "      <td>...</td>\n",
              "      <td>...</td>\n",
              "    </tr>\n",
              "    <tr>\n",
              "      <th>1328</th>\n",
              "      <td>C:/Users/vcc/Desktop/project ml/voice/15239.wav</td>\n",
              "      <td>-496.83182</td>\n",
              "      <td>94.452484</td>\n",
              "      <td>-14.680283</td>\n",
              "      <td>30.726557</td>\n",
              "      <td>-6.597310</td>\n",
              "      <td>27.247398</td>\n",
              "      <td>-12.261194</td>\n",
              "      <td>6.138174</td>\n",
              "      <td>2.913280</td>\n",
              "      <td>...</td>\n",
              "      <td>3.106750e-17</td>\n",
              "      <td>3.391439e-17</td>\n",
              "      <td>0.036700</td>\n",
              "      <td>0.029420</td>\n",
              "      <td>0.041282</td>\n",
              "      <td>-0.068457</td>\n",
              "      <td>0.042870</td>\n",
              "      <td>0.017423</td>\n",
              "      <td>0</td>\n",
              "      <td>3</td>\n",
              "    </tr>\n",
              "    <tr>\n",
              "      <th>1329</th>\n",
              "      <td>C:/Users/vcc/Desktop/project ml/voice/12224.wav</td>\n",
              "      <td>-469.32635</td>\n",
              "      <td>80.955300</td>\n",
              "      <td>1.178256</td>\n",
              "      <td>21.138077</td>\n",
              "      <td>0.469207</td>\n",
              "      <td>5.897948</td>\n",
              "      <td>-3.527771</td>\n",
              "      <td>-2.625922</td>\n",
              "      <td>-0.853007</td>\n",
              "      <td>...</td>\n",
              "      <td>3.801361e-17</td>\n",
              "      <td>4.132647e-17</td>\n",
              "      <td>-0.031110</td>\n",
              "      <td>0.017098</td>\n",
              "      <td>-0.014034</td>\n",
              "      <td>-0.002092</td>\n",
              "      <td>-0.025279</td>\n",
              "      <td>-0.015825</td>\n",
              "      <td>0</td>\n",
              "      <td>3</td>\n",
              "    </tr>\n",
              "    <tr>\n",
              "      <th>1330</th>\n",
              "      <td>C:/Users/vcc/Desktop/project ml/voice/11510.wav</td>\n",
              "      <td>-478.77884</td>\n",
              "      <td>111.673510</td>\n",
              "      <td>44.104317</td>\n",
              "      <td>19.154287</td>\n",
              "      <td>7.983385</td>\n",
              "      <td>19.212233</td>\n",
              "      <td>17.093990</td>\n",
              "      <td>9.567336</td>\n",
              "      <td>-5.685280</td>\n",
              "      <td>...</td>\n",
              "      <td>5.162369e-18</td>\n",
              "      <td>1.481872e-17</td>\n",
              "      <td>0.044655</td>\n",
              "      <td>-0.023754</td>\n",
              "      <td>-0.024227</td>\n",
              "      <td>0.035210</td>\n",
              "      <td>0.037692</td>\n",
              "      <td>-0.028760</td>\n",
              "      <td>1</td>\n",
              "      <td>1</td>\n",
              "    </tr>\n",
              "    <tr>\n",
              "      <th>1331</th>\n",
              "      <td>C:/Users/vcc/Desktop/project ml/voice/371.wav</td>\n",
              "      <td>-309.57825</td>\n",
              "      <td>116.987755</td>\n",
              "      <td>-39.851376</td>\n",
              "      <td>-0.554212</td>\n",
              "      <td>11.380273</td>\n",
              "      <td>7.968697</td>\n",
              "      <td>-21.223793</td>\n",
              "      <td>1.485160</td>\n",
              "      <td>-28.879356</td>\n",
              "      <td>...</td>\n",
              "      <td>2.628038e-18</td>\n",
              "      <td>-6.710867e-18</td>\n",
              "      <td>-0.035682</td>\n",
              "      <td>0.060960</td>\n",
              "      <td>-0.056425</td>\n",
              "      <td>-0.052387</td>\n",
              "      <td>0.032046</td>\n",
              "      <td>-0.022562</td>\n",
              "      <td>0</td>\n",
              "      <td>1</td>\n",
              "    </tr>\n",
              "    <tr>\n",
              "      <th>1332</th>\n",
              "      <td>C:/Users/vcc/Desktop/project ml/voice/635.wav</td>\n",
              "      <td>-370.82755</td>\n",
              "      <td>74.999700</td>\n",
              "      <td>15.605786</td>\n",
              "      <td>4.136265</td>\n",
              "      <td>9.415189</td>\n",
              "      <td>4.758561</td>\n",
              "      <td>1.690024</td>\n",
              "      <td>-1.111040</td>\n",
              "      <td>-7.639019</td>\n",
              "      <td>...</td>\n",
              "      <td>1.180451e-17</td>\n",
              "      <td>3.179636e-18</td>\n",
              "      <td>0.015843</td>\n",
              "      <td>-0.023677</td>\n",
              "      <td>-0.033799</td>\n",
              "      <td>0.026843</td>\n",
              "      <td>0.021130</td>\n",
              "      <td>0.004556</td>\n",
              "      <td>0</td>\n",
              "      <td>1</td>\n",
              "    </tr>\n",
              "  </tbody>\n",
              "</table>\n",
              "<p>1333 rows × 547 columns</p>\n",
              "</div>\n",
              "      <button class=\"colab-df-convert\" onclick=\"convertToInteractive('df-88eb0a69-28b2-451d-8df7-a30a6a5b9d07')\"\n",
              "              title=\"Convert this dataframe to an interactive table.\"\n",
              "              style=\"display:none;\">\n",
              "        \n",
              "  <svg xmlns=\"http://www.w3.org/2000/svg\" height=\"24px\"viewBox=\"0 0 24 24\"\n",
              "       width=\"24px\">\n",
              "    <path d=\"M0 0h24v24H0V0z\" fill=\"none\"/>\n",
              "    <path d=\"M18.56 5.44l.94 2.06.94-2.06 2.06-.94-2.06-.94-.94-2.06-.94 2.06-2.06.94zm-11 1L8.5 8.5l.94-2.06 2.06-.94-2.06-.94L8.5 2.5l-.94 2.06-2.06.94zm10 10l.94 2.06.94-2.06 2.06-.94-2.06-.94-.94-2.06-.94 2.06-2.06.94z\"/><path d=\"M17.41 7.96l-1.37-1.37c-.4-.4-.92-.59-1.43-.59-.52 0-1.04.2-1.43.59L10.3 9.45l-7.72 7.72c-.78.78-.78 2.05 0 2.83L4 21.41c.39.39.9.59 1.41.59.51 0 1.02-.2 1.41-.59l7.78-7.78 2.81-2.81c.8-.78.8-2.07 0-2.86zM5.41 20L4 18.59l7.72-7.72 1.47 1.35L5.41 20z\"/>\n",
              "  </svg>\n",
              "      </button>\n",
              "      \n",
              "  <style>\n",
              "    .colab-df-container {\n",
              "      display:flex;\n",
              "      flex-wrap:wrap;\n",
              "      gap: 12px;\n",
              "    }\n",
              "\n",
              "    .colab-df-convert {\n",
              "      background-color: #E8F0FE;\n",
              "      border: none;\n",
              "      border-radius: 50%;\n",
              "      cursor: pointer;\n",
              "      display: none;\n",
              "      fill: #1967D2;\n",
              "      height: 32px;\n",
              "      padding: 0 0 0 0;\n",
              "      width: 32px;\n",
              "    }\n",
              "\n",
              "    .colab-df-convert:hover {\n",
              "      background-color: #E2EBFA;\n",
              "      box-shadow: 0px 1px 2px rgba(60, 64, 67, 0.3), 0px 1px 3px 1px rgba(60, 64, 67, 0.15);\n",
              "      fill: #174EA6;\n",
              "    }\n",
              "\n",
              "    [theme=dark] .colab-df-convert {\n",
              "      background-color: #3B4455;\n",
              "      fill: #D2E3FC;\n",
              "    }\n",
              "\n",
              "    [theme=dark] .colab-df-convert:hover {\n",
              "      background-color: #434B5C;\n",
              "      box-shadow: 0px 1px 3px 1px rgba(0, 0, 0, 0.15);\n",
              "      filter: drop-shadow(0px 1px 2px rgba(0, 0, 0, 0.3));\n",
              "      fill: #FFFFFF;\n",
              "    }\n",
              "  </style>\n",
              "\n",
              "      <script>\n",
              "        const buttonEl =\n",
              "          document.querySelector('#df-88eb0a69-28b2-451d-8df7-a30a6a5b9d07 button.colab-df-convert');\n",
              "        buttonEl.style.display =\n",
              "          google.colab.kernel.accessAllowed ? 'block' : 'none';\n",
              "\n",
              "        async function convertToInteractive(key) {\n",
              "          const element = document.querySelector('#df-88eb0a69-28b2-451d-8df7-a30a6a5b9d07');\n",
              "          const dataTable =\n",
              "            await google.colab.kernel.invokeFunction('convertToInteractive',\n",
              "                                                     [key], {});\n",
              "          if (!dataTable) return;\n",
              "\n",
              "          const docLinkHtml = 'Like what you see? Visit the ' +\n",
              "            '<a target=\"_blank\" href=https://colab.research.google.com/notebooks/data_table.ipynb>data table notebook</a>'\n",
              "            + ' to learn more about interactive tables.';\n",
              "          element.innerHTML = '';\n",
              "          dataTable['output_type'] = 'display_data';\n",
              "          await google.colab.output.renderOutput(dataTable, element);\n",
              "          const docLink = document.createElement('div');\n",
              "          docLink.innerHTML = docLinkHtml;\n",
              "          element.appendChild(docLink);\n",
              "        }\n",
              "      </script>\n",
              "    </div>\n",
              "  </div>\n",
              "  "
            ]
          },
          "metadata": {},
          "execution_count": 5
        }
      ]
    },
    {
      "cell_type": "code",
      "source": [
        "frames = [df_train, df_val, df_test]\n",
        "\n",
        "df = pd.concat(frames)\n",
        "df"
      ],
      "metadata": {
        "colab": {
          "base_uri": "https://localhost:8080/",
          "height": 661
        },
        "id": "lBYzzoOfNfau",
        "outputId": "d10c6bc9-7dcd-4c09-eec2-81c7a15ae8a6"
      },
      "execution_count": null,
      "outputs": [
        {
          "output_type": "execute_result",
          "data": {
            "text/plain": [
              "                                           Unnamed: 0     mfcc_0      mfcc_1  \\\n",
              "0      C:/Users/vcc/Desktop/project ml/voice/9196.wav -364.94345   58.359630   \n",
              "1     C:/Users/vcc/Desktop/project ml/voice/16133.wav -387.11218   92.776024   \n",
              "2      C:/Users/vcc/Desktop/project ml/voice/4156.wav -420.34683  103.964935   \n",
              "3       C:/Users/vcc/Desktop/project ml/voice/203.wav -400.54904  103.331710   \n",
              "4      C:/Users/vcc/Desktop/project ml/voice/4917.wav -216.08072   61.822456   \n",
              "...                                               ...        ...         ...   \n",
              "3328    C:/Users/vcc/Desktop/project ml/voice/415.wav -520.99010   76.673530   \n",
              "3329   C:/Users/vcc/Desktop/project ml/voice/9548.wav -363.66486  121.069305   \n",
              "3330   C:/Users/vcc/Desktop/project ml/voice/5933.wav -392.01880  108.106830   \n",
              "3331   C:/Users/vcc/Desktop/project ml/voice/5635.wav -335.09702   97.686615   \n",
              "3332   C:/Users/vcc/Desktop/project ml/voice/2077.wav -579.15686   49.359300   \n",
              "\n",
              "         mfcc_2     mfcc_3     mfcc_4     mfcc_5     mfcc_6    mfcc_7  \\\n",
              "0      2.820225   5.529991   0.165158  12.045059   1.448689 -5.378034   \n",
              "1    -15.819464  33.206528   1.054645  10.347558  -1.730025  8.410479   \n",
              "2      0.789253  30.104149  -7.518121  10.094464 -19.800411 -1.656142   \n",
              "3     20.483711  29.738617  10.878419   3.691131  -2.093715  9.150126   \n",
              "4     -8.624993  -0.100680 -14.465156 -10.361802   1.479756 -4.632538   \n",
              "...         ...        ...        ...        ...        ...       ...   \n",
              "3328 -13.955746  28.225765  -0.103527 -20.673664 -14.641736  7.766248   \n",
              "3329  -6.165410  23.450203  -3.538832  -0.146308  -4.288898 -6.522939   \n",
              "3330  -2.740813  23.881542  -5.648860   3.114533 -10.559357  3.632669   \n",
              "3331   0.157730  40.329950  -8.645594  25.945732  -2.471781 -3.563193   \n",
              "3332  14.313977  14.504559   4.230345  -3.542368  -1.247210 -0.642427   \n",
              "\n",
              "         mfcc_8  ...  tempogram_382  tempogram_383  tonnetz_0  tonnetz_1  \\\n",
              "0     -9.409033  ...   1.065503e-17   8.264991e-18  -0.010307   0.003076   \n",
              "1      6.219111  ...   2.579631e-17   2.283440e-17  -0.042363   0.042854   \n",
              "2     -7.244540  ...   1.338170e-17   1.390605e-17   0.028776  -0.003118   \n",
              "3      6.001769  ...   3.044141e-17   2.452205e-17  -0.027109  -0.014485   \n",
              "4    -13.703397  ...   1.835793e-18   1.709946e-17  -0.013564   0.011575   \n",
              "...         ...  ...            ...            ...        ...        ...   \n",
              "3328  -9.842073  ...  -4.578098e-18   1.398697e-18  -0.010583  -0.004469   \n",
              "3329 -14.068184  ...   2.840874e-17   4.070046e-17   0.039948   0.030738   \n",
              "3330  -8.072955  ...   5.926913e-17   7.656482e-17   0.009681   0.019442   \n",
              "3331  -0.374251  ...   1.973473e-17   2.774610e-17   0.037246   0.025011   \n",
              "3332  -5.903124  ...  -4.227222e-18   6.376488e-18  -0.003626  -0.003880   \n",
              "\n",
              "      tonnetz_2  tonnetz_3  tonnetz_4  tonnetz_5  sex  emotionID  \n",
              "0      0.022825   0.051463   0.011787  -0.009172    0          3  \n",
              "1     -0.013355  -0.110958   0.025752  -0.025277    0          1  \n",
              "2      0.051828   0.011517   0.004023   0.004716    1          4  \n",
              "3     -0.003280  -0.099250   0.011699  -0.008414    1          4  \n",
              "4     -0.015613   0.009228  -0.005703  -0.003755    1          1  \n",
              "...         ...        ...        ...        ...  ...        ...  \n",
              "3328  -0.026875  -0.019898   0.001768   0.009172    1          1  \n",
              "3329  -0.006072  -0.045371  -0.025829  -0.015018    1          2  \n",
              "3330   0.055938   0.052546   0.004331   0.005918    1          1  \n",
              "3331   0.026386  -0.025918   0.007564  -0.008521    0          3  \n",
              "3332   0.031416  -0.003864  -0.008864  -0.002670    1          3  \n",
              "\n",
              "[16663 rows x 547 columns]"
            ],
            "text/html": [
              "\n",
              "  <div id=\"df-96f6cf65-b815-4057-b662-79ff4ba5f0b4\">\n",
              "    <div class=\"colab-df-container\">\n",
              "      <div>\n",
              "<style scoped>\n",
              "    .dataframe tbody tr th:only-of-type {\n",
              "        vertical-align: middle;\n",
              "    }\n",
              "\n",
              "    .dataframe tbody tr th {\n",
              "        vertical-align: top;\n",
              "    }\n",
              "\n",
              "    .dataframe thead th {\n",
              "        text-align: right;\n",
              "    }\n",
              "</style>\n",
              "<table border=\"1\" class=\"dataframe\">\n",
              "  <thead>\n",
              "    <tr style=\"text-align: right;\">\n",
              "      <th></th>\n",
              "      <th>Unnamed: 0</th>\n",
              "      <th>mfcc_0</th>\n",
              "      <th>mfcc_1</th>\n",
              "      <th>mfcc_2</th>\n",
              "      <th>mfcc_3</th>\n",
              "      <th>mfcc_4</th>\n",
              "      <th>mfcc_5</th>\n",
              "      <th>mfcc_6</th>\n",
              "      <th>mfcc_7</th>\n",
              "      <th>mfcc_8</th>\n",
              "      <th>...</th>\n",
              "      <th>tempogram_382</th>\n",
              "      <th>tempogram_383</th>\n",
              "      <th>tonnetz_0</th>\n",
              "      <th>tonnetz_1</th>\n",
              "      <th>tonnetz_2</th>\n",
              "      <th>tonnetz_3</th>\n",
              "      <th>tonnetz_4</th>\n",
              "      <th>tonnetz_5</th>\n",
              "      <th>sex</th>\n",
              "      <th>emotionID</th>\n",
              "    </tr>\n",
              "  </thead>\n",
              "  <tbody>\n",
              "    <tr>\n",
              "      <th>0</th>\n",
              "      <td>C:/Users/vcc/Desktop/project ml/voice/9196.wav</td>\n",
              "      <td>-364.94345</td>\n",
              "      <td>58.359630</td>\n",
              "      <td>2.820225</td>\n",
              "      <td>5.529991</td>\n",
              "      <td>0.165158</td>\n",
              "      <td>12.045059</td>\n",
              "      <td>1.448689</td>\n",
              "      <td>-5.378034</td>\n",
              "      <td>-9.409033</td>\n",
              "      <td>...</td>\n",
              "      <td>1.065503e-17</td>\n",
              "      <td>8.264991e-18</td>\n",
              "      <td>-0.010307</td>\n",
              "      <td>0.003076</td>\n",
              "      <td>0.022825</td>\n",
              "      <td>0.051463</td>\n",
              "      <td>0.011787</td>\n",
              "      <td>-0.009172</td>\n",
              "      <td>0</td>\n",
              "      <td>3</td>\n",
              "    </tr>\n",
              "    <tr>\n",
              "      <th>1</th>\n",
              "      <td>C:/Users/vcc/Desktop/project ml/voice/16133.wav</td>\n",
              "      <td>-387.11218</td>\n",
              "      <td>92.776024</td>\n",
              "      <td>-15.819464</td>\n",
              "      <td>33.206528</td>\n",
              "      <td>1.054645</td>\n",
              "      <td>10.347558</td>\n",
              "      <td>-1.730025</td>\n",
              "      <td>8.410479</td>\n",
              "      <td>6.219111</td>\n",
              "      <td>...</td>\n",
              "      <td>2.579631e-17</td>\n",
              "      <td>2.283440e-17</td>\n",
              "      <td>-0.042363</td>\n",
              "      <td>0.042854</td>\n",
              "      <td>-0.013355</td>\n",
              "      <td>-0.110958</td>\n",
              "      <td>0.025752</td>\n",
              "      <td>-0.025277</td>\n",
              "      <td>0</td>\n",
              "      <td>1</td>\n",
              "    </tr>\n",
              "    <tr>\n",
              "      <th>2</th>\n",
              "      <td>C:/Users/vcc/Desktop/project ml/voice/4156.wav</td>\n",
              "      <td>-420.34683</td>\n",
              "      <td>103.964935</td>\n",
              "      <td>0.789253</td>\n",
              "      <td>30.104149</td>\n",
              "      <td>-7.518121</td>\n",
              "      <td>10.094464</td>\n",
              "      <td>-19.800411</td>\n",
              "      <td>-1.656142</td>\n",
              "      <td>-7.244540</td>\n",
              "      <td>...</td>\n",
              "      <td>1.338170e-17</td>\n",
              "      <td>1.390605e-17</td>\n",
              "      <td>0.028776</td>\n",
              "      <td>-0.003118</td>\n",
              "      <td>0.051828</td>\n",
              "      <td>0.011517</td>\n",
              "      <td>0.004023</td>\n",
              "      <td>0.004716</td>\n",
              "      <td>1</td>\n",
              "      <td>4</td>\n",
              "    </tr>\n",
              "    <tr>\n",
              "      <th>3</th>\n",
              "      <td>C:/Users/vcc/Desktop/project ml/voice/203.wav</td>\n",
              "      <td>-400.54904</td>\n",
              "      <td>103.331710</td>\n",
              "      <td>20.483711</td>\n",
              "      <td>29.738617</td>\n",
              "      <td>10.878419</td>\n",
              "      <td>3.691131</td>\n",
              "      <td>-2.093715</td>\n",
              "      <td>9.150126</td>\n",
              "      <td>6.001769</td>\n",
              "      <td>...</td>\n",
              "      <td>3.044141e-17</td>\n",
              "      <td>2.452205e-17</td>\n",
              "      <td>-0.027109</td>\n",
              "      <td>-0.014485</td>\n",
              "      <td>-0.003280</td>\n",
              "      <td>-0.099250</td>\n",
              "      <td>0.011699</td>\n",
              "      <td>-0.008414</td>\n",
              "      <td>1</td>\n",
              "      <td>4</td>\n",
              "    </tr>\n",
              "    <tr>\n",
              "      <th>4</th>\n",
              "      <td>C:/Users/vcc/Desktop/project ml/voice/4917.wav</td>\n",
              "      <td>-216.08072</td>\n",
              "      <td>61.822456</td>\n",
              "      <td>-8.624993</td>\n",
              "      <td>-0.100680</td>\n",
              "      <td>-14.465156</td>\n",
              "      <td>-10.361802</td>\n",
              "      <td>1.479756</td>\n",
              "      <td>-4.632538</td>\n",
              "      <td>-13.703397</td>\n",
              "      <td>...</td>\n",
              "      <td>1.835793e-18</td>\n",
              "      <td>1.709946e-17</td>\n",
              "      <td>-0.013564</td>\n",
              "      <td>0.011575</td>\n",
              "      <td>-0.015613</td>\n",
              "      <td>0.009228</td>\n",
              "      <td>-0.005703</td>\n",
              "      <td>-0.003755</td>\n",
              "      <td>1</td>\n",
              "      <td>1</td>\n",
              "    </tr>\n",
              "    <tr>\n",
              "      <th>...</th>\n",
              "      <td>...</td>\n",
              "      <td>...</td>\n",
              "      <td>...</td>\n",
              "      <td>...</td>\n",
              "      <td>...</td>\n",
              "      <td>...</td>\n",
              "      <td>...</td>\n",
              "      <td>...</td>\n",
              "      <td>...</td>\n",
              "      <td>...</td>\n",
              "      <td>...</td>\n",
              "      <td>...</td>\n",
              "      <td>...</td>\n",
              "      <td>...</td>\n",
              "      <td>...</td>\n",
              "      <td>...</td>\n",
              "      <td>...</td>\n",
              "      <td>...</td>\n",
              "      <td>...</td>\n",
              "      <td>...</td>\n",
              "      <td>...</td>\n",
              "    </tr>\n",
              "    <tr>\n",
              "      <th>3328</th>\n",
              "      <td>C:/Users/vcc/Desktop/project ml/voice/415.wav</td>\n",
              "      <td>-520.99010</td>\n",
              "      <td>76.673530</td>\n",
              "      <td>-13.955746</td>\n",
              "      <td>28.225765</td>\n",
              "      <td>-0.103527</td>\n",
              "      <td>-20.673664</td>\n",
              "      <td>-14.641736</td>\n",
              "      <td>7.766248</td>\n",
              "      <td>-9.842073</td>\n",
              "      <td>...</td>\n",
              "      <td>-4.578098e-18</td>\n",
              "      <td>1.398697e-18</td>\n",
              "      <td>-0.010583</td>\n",
              "      <td>-0.004469</td>\n",
              "      <td>-0.026875</td>\n",
              "      <td>-0.019898</td>\n",
              "      <td>0.001768</td>\n",
              "      <td>0.009172</td>\n",
              "      <td>1</td>\n",
              "      <td>1</td>\n",
              "    </tr>\n",
              "    <tr>\n",
              "      <th>3329</th>\n",
              "      <td>C:/Users/vcc/Desktop/project ml/voice/9548.wav</td>\n",
              "      <td>-363.66486</td>\n",
              "      <td>121.069305</td>\n",
              "      <td>-6.165410</td>\n",
              "      <td>23.450203</td>\n",
              "      <td>-3.538832</td>\n",
              "      <td>-0.146308</td>\n",
              "      <td>-4.288898</td>\n",
              "      <td>-6.522939</td>\n",
              "      <td>-14.068184</td>\n",
              "      <td>...</td>\n",
              "      <td>2.840874e-17</td>\n",
              "      <td>4.070046e-17</td>\n",
              "      <td>0.039948</td>\n",
              "      <td>0.030738</td>\n",
              "      <td>-0.006072</td>\n",
              "      <td>-0.045371</td>\n",
              "      <td>-0.025829</td>\n",
              "      <td>-0.015018</td>\n",
              "      <td>1</td>\n",
              "      <td>2</td>\n",
              "    </tr>\n",
              "    <tr>\n",
              "      <th>3330</th>\n",
              "      <td>C:/Users/vcc/Desktop/project ml/voice/5933.wav</td>\n",
              "      <td>-392.01880</td>\n",
              "      <td>108.106830</td>\n",
              "      <td>-2.740813</td>\n",
              "      <td>23.881542</td>\n",
              "      <td>-5.648860</td>\n",
              "      <td>3.114533</td>\n",
              "      <td>-10.559357</td>\n",
              "      <td>3.632669</td>\n",
              "      <td>-8.072955</td>\n",
              "      <td>...</td>\n",
              "      <td>5.926913e-17</td>\n",
              "      <td>7.656482e-17</td>\n",
              "      <td>0.009681</td>\n",
              "      <td>0.019442</td>\n",
              "      <td>0.055938</td>\n",
              "      <td>0.052546</td>\n",
              "      <td>0.004331</td>\n",
              "      <td>0.005918</td>\n",
              "      <td>1</td>\n",
              "      <td>1</td>\n",
              "    </tr>\n",
              "    <tr>\n",
              "      <th>3331</th>\n",
              "      <td>C:/Users/vcc/Desktop/project ml/voice/5635.wav</td>\n",
              "      <td>-335.09702</td>\n",
              "      <td>97.686615</td>\n",
              "      <td>0.157730</td>\n",
              "      <td>40.329950</td>\n",
              "      <td>-8.645594</td>\n",
              "      <td>25.945732</td>\n",
              "      <td>-2.471781</td>\n",
              "      <td>-3.563193</td>\n",
              "      <td>-0.374251</td>\n",
              "      <td>...</td>\n",
              "      <td>1.973473e-17</td>\n",
              "      <td>2.774610e-17</td>\n",
              "      <td>0.037246</td>\n",
              "      <td>0.025011</td>\n",
              "      <td>0.026386</td>\n",
              "      <td>-0.025918</td>\n",
              "      <td>0.007564</td>\n",
              "      <td>-0.008521</td>\n",
              "      <td>0</td>\n",
              "      <td>3</td>\n",
              "    </tr>\n",
              "    <tr>\n",
              "      <th>3332</th>\n",
              "      <td>C:/Users/vcc/Desktop/project ml/voice/2077.wav</td>\n",
              "      <td>-579.15686</td>\n",
              "      <td>49.359300</td>\n",
              "      <td>14.313977</td>\n",
              "      <td>14.504559</td>\n",
              "      <td>4.230345</td>\n",
              "      <td>-3.542368</td>\n",
              "      <td>-1.247210</td>\n",
              "      <td>-0.642427</td>\n",
              "      <td>-5.903124</td>\n",
              "      <td>...</td>\n",
              "      <td>-4.227222e-18</td>\n",
              "      <td>6.376488e-18</td>\n",
              "      <td>-0.003626</td>\n",
              "      <td>-0.003880</td>\n",
              "      <td>0.031416</td>\n",
              "      <td>-0.003864</td>\n",
              "      <td>-0.008864</td>\n",
              "      <td>-0.002670</td>\n",
              "      <td>1</td>\n",
              "      <td>3</td>\n",
              "    </tr>\n",
              "  </tbody>\n",
              "</table>\n",
              "<p>16663 rows × 547 columns</p>\n",
              "</div>\n",
              "      <button class=\"colab-df-convert\" onclick=\"convertToInteractive('df-96f6cf65-b815-4057-b662-79ff4ba5f0b4')\"\n",
              "              title=\"Convert this dataframe to an interactive table.\"\n",
              "              style=\"display:none;\">\n",
              "        \n",
              "  <svg xmlns=\"http://www.w3.org/2000/svg\" height=\"24px\"viewBox=\"0 0 24 24\"\n",
              "       width=\"24px\">\n",
              "    <path d=\"M0 0h24v24H0V0z\" fill=\"none\"/>\n",
              "    <path d=\"M18.56 5.44l.94 2.06.94-2.06 2.06-.94-2.06-.94-.94-2.06-.94 2.06-2.06.94zm-11 1L8.5 8.5l.94-2.06 2.06-.94-2.06-.94L8.5 2.5l-.94 2.06-2.06.94zm10 10l.94 2.06.94-2.06 2.06-.94-2.06-.94-.94-2.06-.94 2.06-2.06.94z\"/><path d=\"M17.41 7.96l-1.37-1.37c-.4-.4-.92-.59-1.43-.59-.52 0-1.04.2-1.43.59L10.3 9.45l-7.72 7.72c-.78.78-.78 2.05 0 2.83L4 21.41c.39.39.9.59 1.41.59.51 0 1.02-.2 1.41-.59l7.78-7.78 2.81-2.81c.8-.78.8-2.07 0-2.86zM5.41 20L4 18.59l7.72-7.72 1.47 1.35L5.41 20z\"/>\n",
              "  </svg>\n",
              "      </button>\n",
              "      \n",
              "  <style>\n",
              "    .colab-df-container {\n",
              "      display:flex;\n",
              "      flex-wrap:wrap;\n",
              "      gap: 12px;\n",
              "    }\n",
              "\n",
              "    .colab-df-convert {\n",
              "      background-color: #E8F0FE;\n",
              "      border: none;\n",
              "      border-radius: 50%;\n",
              "      cursor: pointer;\n",
              "      display: none;\n",
              "      fill: #1967D2;\n",
              "      height: 32px;\n",
              "      padding: 0 0 0 0;\n",
              "      width: 32px;\n",
              "    }\n",
              "\n",
              "    .colab-df-convert:hover {\n",
              "      background-color: #E2EBFA;\n",
              "      box-shadow: 0px 1px 2px rgba(60, 64, 67, 0.3), 0px 1px 3px 1px rgba(60, 64, 67, 0.15);\n",
              "      fill: #174EA6;\n",
              "    }\n",
              "\n",
              "    [theme=dark] .colab-df-convert {\n",
              "      background-color: #3B4455;\n",
              "      fill: #D2E3FC;\n",
              "    }\n",
              "\n",
              "    [theme=dark] .colab-df-convert:hover {\n",
              "      background-color: #434B5C;\n",
              "      box-shadow: 0px 1px 3px 1px rgba(0, 0, 0, 0.15);\n",
              "      filter: drop-shadow(0px 1px 2px rgba(0, 0, 0, 0.3));\n",
              "      fill: #FFFFFF;\n",
              "    }\n",
              "  </style>\n",
              "\n",
              "      <script>\n",
              "        const buttonEl =\n",
              "          document.querySelector('#df-96f6cf65-b815-4057-b662-79ff4ba5f0b4 button.colab-df-convert');\n",
              "        buttonEl.style.display =\n",
              "          google.colab.kernel.accessAllowed ? 'block' : 'none';\n",
              "\n",
              "        async function convertToInteractive(key) {\n",
              "          const element = document.querySelector('#df-96f6cf65-b815-4057-b662-79ff4ba5f0b4');\n",
              "          const dataTable =\n",
              "            await google.colab.kernel.invokeFunction('convertToInteractive',\n",
              "                                                     [key], {});\n",
              "          if (!dataTable) return;\n",
              "\n",
              "          const docLinkHtml = 'Like what you see? Visit the ' +\n",
              "            '<a target=\"_blank\" href=https://colab.research.google.com/notebooks/data_table.ipynb>data table notebook</a>'\n",
              "            + ' to learn more about interactive tables.';\n",
              "          element.innerHTML = '';\n",
              "          dataTable['output_type'] = 'display_data';\n",
              "          await google.colab.output.renderOutput(dataTable, element);\n",
              "          const docLink = document.createElement('div');\n",
              "          docLink.innerHTML = docLinkHtml;\n",
              "          element.appendChild(docLink);\n",
              "        }\n",
              "      </script>\n",
              "    </div>\n",
              "  </div>\n",
              "  "
            ]
          },
          "metadata": {},
          "execution_count": 6
        }
      ]
    },
    {
      "cell_type": "markdown",
      "source": [
        "# train and test split"
      ],
      "metadata": {
        "id": "dvxTRqx-iEBo"
      }
    },
    {
      "cell_type": "code",
      "source": [
        "\n",
        "from sklearn.model_selection import train_test_split\n",
        "X = df.drop(['sex','emotionID','Unnamed: 0'],1)   #Feature Matrix\n",
        "y = df[\"emotionID\"]\n",
        "\n",
        "X_train, X_test, y_train, y_test = train_test_split(X, y, test_size=0.3, random_state=4)"
      ],
      "metadata": {
        "colab": {
          "base_uri": "https://localhost:8080/"
        },
        "id": "5OF5tgOHiCN8",
        "outputId": "e6b8d7ae-2284-4372-ade7-f09f9b2c066b"
      },
      "execution_count": null,
      "outputs": [
        {
          "output_type": "stream",
          "name": "stderr",
          "text": [
            "/usr/local/lib/python3.7/dist-packages/ipykernel_launcher.py:3: FutureWarning:\n",
            "\n",
            "In a future version of pandas all arguments of DataFrame.drop except for the argument 'labels' will be keyword-only\n",
            "\n"
          ]
        }
      ]
    },
    {
      "cell_type": "markdown",
      "source": [
        "# classification emotion with pca "
      ],
      "metadata": {
        "id": "bJESTU3lg1rX"
      }
    },
    {
      "cell_type": "code",
      "source": [
        "from sklearn.preprocessing import StandardScaler\n",
        "\n",
        "sc = StandardScaler()\n",
        "X_train = sc.fit_transform(X_train)\n",
        "X_test = sc.transform(X_test)\n"
      ],
      "metadata": {
        "id": "__raqXLSgzvv"
      },
      "execution_count": null,
      "outputs": []
    },
    {
      "cell_type": "code",
      "source": [
        "from sklearn.decomposition import PCA\n",
        "\n",
        "pca = PCA(0.90)\n",
        "X_train = pca.fit_transform(X_train)\n",
        "X_test = pca.transform(X_test)"
      ],
      "metadata": {
        "id": "EuJPnOJkgxq6"
      },
      "execution_count": null,
      "outputs": []
    },
    {
      "cell_type": "code",
      "source": [
        "explained_variance = pca.explained_variance_ratio_\n",
        "len(explained_variance)"
      ],
      "metadata": {
        "colab": {
          "base_uri": "https://localhost:8080/"
        },
        "id": "FWYRQj-ZiAkO",
        "outputId": "288cd00c-6909-4d68-f039-d48af0408a9f"
      },
      "execution_count": null,
      "outputs": [
        {
          "output_type": "execute_result",
          "data": {
            "text/plain": [
              "39"
            ]
          },
          "metadata": {},
          "execution_count": 185
        }
      ]
    },
    {
      "cell_type": "code",
      "source": [
        ""
      ],
      "metadata": {
        "id": "hJxWuXD6CbUT"
      },
      "execution_count": null,
      "outputs": []
    },
    {
      "cell_type": "code",
      "source": [
        ""
      ],
      "metadata": {
        "id": "wMy-3Mo4HZX-"
      },
      "execution_count": null,
      "outputs": []
    },
    {
      "cell_type": "code",
      "source": [
        ""
      ],
      "metadata": {
        "id": "NYesFXz6HZUa"
      },
      "execution_count": null,
      "outputs": []
    },
    {
      "cell_type": "code",
      "source": [
        ""
      ],
      "metadata": {
        "id": "pPjfMFndG7EB"
      },
      "execution_count": null,
      "outputs": []
    },
    {
      "cell_type": "markdown",
      "source": [
        "## random forest"
      ],
      "metadata": {
        "id": "wdz_Qzc8jkbP"
      }
    },
    {
      "cell_type": "code",
      "source": [
        "from sklearn.ensemble import RandomForestClassifier\n",
        "\n",
        "classifier = make_pipeline(preprocessing.StandardScaler(),RandomForestClassifier(max_depth=19, random_state=0))\n",
        "classifier.fit(X_train, y_train)\n",
        "\n",
        "# Predicting the Test set results\n",
        "y_pred = classifier.predict(X_test)"
      ],
      "metadata": {
        "id": "kayT8HUTjj4K"
      },
      "execution_count": null,
      "outputs": []
    },
    {
      "cell_type": "code",
      "source": [
        "\n",
        "print('Accuracy random forest with pca: ' , accuracy_score(y_test, y_pred))"
      ],
      "metadata": {
        "colab": {
          "base_uri": "https://localhost:8080/"
        },
        "id": "VuSlolcsjSRt",
        "outputId": "59351553-5a43-43d8-e655-1f639aed113a"
      },
      "execution_count": null,
      "outputs": [
        {
          "output_type": "stream",
          "name": "stdout",
          "text": [
            "Accuracy random forest with pca:  0.4440888177635527\n"
          ]
        }
      ]
    },
    {
      "cell_type": "markdown",
      "source": [
        "## mlp"
      ],
      "metadata": {
        "id": "suKrAL_93zvC"
      }
    },
    {
      "cell_type": "code",
      "source": [
        ""
      ],
      "metadata": {
        "id": "ui3Xx5jF3yMy"
      },
      "execution_count": null,
      "outputs": []
    },
    {
      "cell_type": "code",
      "source": [
        "from sklearn.preprocessing import StandardScaler,scale\n",
        "#X_train, X_test, y_train, y_test = train_test_split(X, y, test_size=0.2, random_state=4)\n",
        "\n",
        "X_train = scale(X_train)\n",
        "#X_train = sc.fit_transform(X_train)\n",
        "X_test=scale(X_test)\n",
        "#X_test = sc.transform(X_test)\n",
        "\n",
        "clf = make_pipeline(preprocessing.StandardScaler(),  MLPClassifier(alpha=0.1,hidden_layer_sizes=(4, 2), random_state=0))\n",
        "clf = clf.fit(X_train, y_train)\n",
        "y_hat=clf.predict(X_test)\n",
        "\n",
        "print('accuracy:\\n',accuracy_score(y_test, y_hat))"
      ],
      "metadata": {
        "id": "MEXOd6VDjSNG",
        "colab": {
          "base_uri": "https://localhost:8080/"
        },
        "outputId": "95ee71e1-28e6-4532-bfd0-932d8db20664"
      },
      "execution_count": null,
      "outputs": [
        {
          "output_type": "stream",
          "name": "stdout",
          "text": [
            "accuracy:\n",
            " 0.4298859771954391\n"
          ]
        }
      ]
    },
    {
      "cell_type": "markdown",
      "source": [
        "# svm"
      ],
      "metadata": {
        "id": "PX_s8blz32Dj"
      }
    },
    {
      "cell_type": "code",
      "source": [
        "from sklearn import svm\n",
        "classifier = make_pipeline(preprocessing.StandardScaler(),svm.SVC(kernel='rbf',C=10))\n",
        "\n",
        "classifier.fit(X_train, y_train)\n",
        "y_pred = classifier.predict(X_test)\n",
        "print('Accuracy' ,accuracy_score(y_test, y_pred))\n",
        "y_pred1 = classifier.predict(X_train)\n",
        "print('Accuracy train' ,accuracy_score(y_train, y_pred1))"
      ],
      "metadata": {
        "colab": {
          "base_uri": "https://localhost:8080/"
        },
        "id": "Gy0McoTO33Xr",
        "outputId": "85c3ac09-0448-47ae-8447-25ecb08702cc"
      },
      "execution_count": null,
      "outputs": [
        {
          "output_type": "stream",
          "name": "stdout",
          "text": [
            "Accuracy 0.47709541908381675\n",
            "Accuracy train 0.6842421124828533\n"
          ]
        }
      ]
    },
    {
      "cell_type": "code",
      "source": [
        "from sklearn import svm\n",
        "classifier = make_pipeline(preprocessing.StandardScaler(),svm.SVC(kernel='poly',C=10))\n",
        "\n",
        "classifier.fit(X_train, y_train)\n",
        "y_pred = classifier.predict(X_test)\n",
        "print('Accuracy' ,accuracy_score(y_test, y_pred))\n",
        "y_pred1 = classifier.predict(X_train)\n",
        "print('Accuracy train' ,accuracy_score(y_train, y_pred1))"
      ],
      "metadata": {
        "id": "LqJ8YWa8iAUc",
        "colab": {
          "base_uri": "https://localhost:8080/"
        },
        "outputId": "0bac3778-f84f-413c-f74c-665216500197"
      },
      "execution_count": null,
      "outputs": [
        {
          "output_type": "stream",
          "name": "stdout",
          "text": [
            "Accuracy 0.4480896179235847\n",
            "Accuracy train 0.7487997256515775\n"
          ]
        }
      ]
    },
    {
      "cell_type": "code",
      "source": [
        ""
      ],
      "metadata": {
        "id": "McyS8BNjiAN2"
      },
      "execution_count": null,
      "outputs": []
    },
    {
      "cell_type": "markdown",
      "source": [
        "# classification with out pca"
      ],
      "metadata": {
        "id": "KUch5L9IOK1s"
      }
    },
    {
      "cell_type": "code",
      "source": [
        "X = df.drop(['sex','emotionID','Unnamed: 0'],1)   #Feature Matrix\n",
        "y = df[\"emotionID\"]\n",
        "\n",
        "\n",
        "X_train, X_test, y_train, y_test = train_test_split(X, y, test_size=0.3, random_state=4)\n",
        "from sklearn.preprocessing import StandardScaler,scale\n",
        "#X_train, X_test, y_train, y_test = train_test_split(X, y, test_size=0.2, random_state=4)\n",
        "\n",
        "X_train = scale(X_train)\n",
        "#X_train = sc.fit_transform(X_train)\n",
        "X_test=scale(X_test)\n",
        "#X_test = sc.transform(X_test)"
      ],
      "metadata": {
        "colab": {
          "base_uri": "https://localhost:8080/"
        },
        "id": "Z9YKQQCAWqJR",
        "outputId": "97906828-e667-40ac-d6a8-0fb4ea1521fc"
      },
      "execution_count": null,
      "outputs": [
        {
          "output_type": "stream",
          "name": "stderr",
          "text": [
            "/usr/local/lib/python3.7/dist-packages/ipykernel_launcher.py:1: FutureWarning:\n",
            "\n",
            "In a future version of pandas all arguments of DataFrame.drop except for the argument 'labels' will be keyword-only\n",
            "\n"
          ]
        }
      ]
    },
    {
      "cell_type": "markdown",
      "source": [
        "## random forest"
      ],
      "metadata": {
        "id": "tEeW7HIFurF8"
      }
    },
    {
      "cell_type": "code",
      "source": [
        "from sklearn.ensemble import RandomForestClassifier\n",
        "\n",
        "classifier = RandomForestClassifier(max_depth=10, random_state=0)\n",
        "classifier=classifier.fit(X_train, y_train)\n",
        "\n",
        "# Predicting the Test set results\n",
        "y_pred = classifier.predict(X_test)\n",
        "print('accuracy test:\\n',accuracy_score(y_test, y_pred))\n",
        "y_pred1 = classifier.predict(X_train)\n",
        "print('Accuracy train' ,accuracy_score(y_train, y_pred1))"
      ],
      "metadata": {
        "colab": {
          "base_uri": "https://localhost:8080/"
        },
        "id": "4m1t9QnyuTEi",
        "outputId": "e119265d-4b02-4bac-88cc-fa62e36ecc0c"
      },
      "execution_count": null,
      "outputs": [
        {
          "output_type": "stream",
          "name": "stdout",
          "text": [
            "accuracy test:\n",
            " 0.4474894978995799\n",
            "Accuracy train 0.8516803840877915\n"
          ]
        }
      ]
    },
    {
      "cell_type": "code",
      "source": [
        "# decision tree\n",
        "from sklearn import tree\n",
        "\n",
        "clf = tree.DecisionTreeClassifier()\n",
        "clf = clf.fit(X_train, y_train)\n",
        "y_pred = clf.predict(X_test)\n",
        "print('Accuracy' ,accuracy_score(y_test, y_pred))\n",
        "y_pred1 = clf.predict(X_train)\n",
        "print('Accuracy train' ,accuracy_score(y_train, y_pred1))"
      ],
      "metadata": {
        "colab": {
          "base_uri": "https://localhost:8080/"
        },
        "id": "yfwz4E5E5Sr1",
        "outputId": "93b356bf-7acb-487b-e1ad-5598e3ce3119"
      },
      "execution_count": null,
      "outputs": [
        {
          "output_type": "stream",
          "name": "stdout",
          "text": [
            "Accuracy 0.33766753350670137\n",
            "Accuracy train 0.9992283950617284\n"
          ]
        }
      ]
    },
    {
      "cell_type": "markdown",
      "source": [
        "## mlp"
      ],
      "metadata": {
        "id": "fwGSCdopu1Hw"
      }
    },
    {
      "cell_type": "code",
      "source": [
        "from sklearn.preprocessing import StandardScaler,scale\n",
        "X_train, X_test, y_train, y_test = train_test_split(X, y, test_size=0.2, random_state=4)\n",
        "\n",
        "X_train = scale(X_train)\n",
        "#X_train = sc.fit_transform(X_train)\n",
        "X_test=scale(X_test)\n",
        "#X_test = sc.transform(X_test)\n",
        "\n",
        "clf = make_pipeline(preprocessing.StandardScaler(),  MLPClassifier(alpha=0.1,hidden_layer_sizes=(4, 2), random_state=0))\n",
        "clf = clf.fit(X_train, y_train)\n",
        "y_hat=clf.predict(X_test)\n",
        "\n",
        "print('accuracy:\\n',accuracy_score(y_test, y_hat))\n",
        "y_pred1 = clf.predict(X_train)\n",
        "print('Accuracy train' ,accuracy_score(y_train, y_pred1))\n",
        "\n"
      ],
      "metadata": {
        "colab": {
          "base_uri": "https://localhost:8080/"
        },
        "id": "DxEWArIJuDcR",
        "outputId": "7b001377-658e-4ec0-b9a0-81fd96b94613"
      },
      "execution_count": null,
      "outputs": [
        {
          "output_type": "stream",
          "name": "stdout",
          "text": [
            "accuracy:\n",
            " 0.44224422442244227\n",
            "Accuracy train 0.48454613653413353\n"
          ]
        }
      ]
    },
    {
      "cell_type": "code",
      "source": [
        "# cross validation\n",
        "from sklearn.model_selection import cross_val_score\n",
        "scores = cross_val_score(clf, X,y, cv=5, scoring='accuracy')\n",
        "scores"
      ],
      "metadata": {
        "colab": {
          "base_uri": "https://localhost:8080/"
        },
        "id": "6pzx70dluMh3",
        "outputId": "c3a42acf-50a4-45cf-c6ff-d0367c43c16b"
      },
      "execution_count": null,
      "outputs": [
        {
          "output_type": "stream",
          "name": "stderr",
          "text": [
            "/usr/local/lib/python3.7/dist-packages/sklearn/neural_network/_multilayer_perceptron.py:699: UserWarning:\n",
            "\n",
            "Training interrupted by user.\n",
            "\n",
            "/usr/local/lib/python3.7/dist-packages/sklearn/neural_network/_multilayer_perceptron.py:699: UserWarning:\n",
            "\n",
            "Training interrupted by user.\n",
            "\n"
          ]
        },
        {
          "output_type": "execute_result",
          "data": {
            "text/plain": [
              "array([0.43, 0.45, 0.44, 0.45, 0.43])"
            ]
          },
          "metadata": {},
          "execution_count": 150
        }
      ]
    },
    {
      "cell_type": "code",
      "source": [
        "print(\"%0.2f accuracy with out pca\" % (scores.mean()))"
      ],
      "metadata": {
        "colab": {
          "base_uri": "https://localhost:8080/"
        },
        "id": "iunHOFAd8utF",
        "outputId": "770fbc90-b383-4055-da87-3623a88a71e0"
      },
      "execution_count": null,
      "outputs": [
        {
          "output_type": "stream",
          "name": "stdout",
          "text": [
            "0.44 accuracy with out pca\n"
          ]
        }
      ]
    },
    {
      "cell_type": "code",
      "source": [
        "from sklearn import svm\n",
        "classifier = make_pipeline(preprocessing.StandardScaler(),svm.SVC(kernel='poly',C=10))\n",
        "\n",
        "classifier.fit(X_train, y_train)\n",
        "y_pred = classifier.predict(X_test)\n",
        "print('Accuracy' ,accuracy_score(y_test, y_pred))\n",
        "y_pred1 = classifier.predict(X_train)\n",
        "print('Accuracy train' ,accuracy_score(y_train, y_pred1))"
      ],
      "metadata": {
        "colab": {
          "base_uri": "https://localhost:8080/"
        },
        "id": "RhgI00EqWKLQ",
        "outputId": "ffbe4b5a-7062-40bd-b4c8-c60cf608317f"
      },
      "execution_count": null,
      "outputs": [
        {
          "output_type": "stream",
          "name": "stdout",
          "text": [
            "Accuracy 0.42604260426042606\n",
            "Accuracy train 0.5786946736684171\n"
          ]
        }
      ]
    },
    {
      "cell_type": "code",
      "source": [
        "from sklearn import svm\n",
        "classifier = make_pipeline(preprocessing.StandardScaler(),svm.SVC(kernel='rbf',C=10))\n",
        "\n",
        "classifier.fit(X_train, y_train)\n",
        "y_pred = classifier.predict(X_test)\n",
        "print('Accuracy' ,accuracy_score(y_test, y_pred))\n",
        "y_pred1 = classifier.predict(X_train)\n",
        "print('Accuracy train' ,accuracy_score(y_train, y_pred1))"
      ],
      "metadata": {
        "colab": {
          "base_uri": "https://localhost:8080/"
        },
        "id": "OspokRlYZfaR",
        "outputId": "452ceb9d-afb0-4b07-9a8d-bc1d8c69938c"
      },
      "execution_count": null,
      "outputs": [
        {
          "output_type": "stream",
          "name": "stdout",
          "text": [
            "Accuracy 0.4971497149714971\n",
            "Accuracy train 0.695873968492123\n"
          ]
        }
      ]
    },
    {
      "cell_type": "code",
      "source": [
        "from sklearn import svm\n",
        "classifier = make_pipeline(preprocessing.StandardScaler(),svm.SVC(kernel='rbf',C=1,gamma=0.01))\n",
        "\n",
        "classifier.fit(X_train, y_train)\n",
        "y_pred = classifier.predict(X_test)\n",
        "print('Accuracy' ,accuracy_score(y_test, y_pred))\n",
        "y_pred1 = classifier.predict(X_train)\n",
        "print('Accuracy train' ,accuracy_score(y_train, y_pred1))"
      ],
      "metadata": {
        "id": "eTc6NBlFWKIM",
        "colab": {
          "base_uri": "https://localhost:8080/"
        },
        "outputId": "4469a7d1-7f60-4056-dcf8-af27062671ae"
      },
      "execution_count": null,
      "outputs": [
        {
          "output_type": "stream",
          "name": "stdout",
          "text": [
            "Accuracy 0.47374737473747375\n",
            "Accuracy train 0.7381845461365342\n"
          ]
        }
      ]
    },
    {
      "cell_type": "code",
      "source": [
        "from sklearn import svm\n",
        "classifier = make_pipeline(preprocessing.StandardScaler(),svm.SVC(kernel='rbf',C=50))\n",
        "\n",
        "classifier.fit(X_train, y_train)\n",
        "y_pred = classifier.predict(X_test)\n",
        "print('Accuracy' ,accuracy_score(y_test, y_pred))\n",
        "y_pred1 = classifier.predict(X_train)\n",
        "print('Accuracy train' ,accuracy_score(y_train, y_pred1))"
      ],
      "metadata": {
        "colab": {
          "base_uri": "https://localhost:8080/"
        },
        "id": "Z9BicoObqzdJ",
        "outputId": "6035454b-d285-4835-f194-0870008230a8"
      },
      "execution_count": null,
      "outputs": [
        {
          "output_type": "stream",
          "name": "stdout",
          "text": [
            "Accuracy 0.49054905490549056\n",
            "Accuracy train 0.8432108027006752\n"
          ]
        }
      ]
    },
    {
      "cell_type": "code",
      "source": [
        ""
      ],
      "metadata": {
        "id": "pOWxJIs1qNqW"
      },
      "execution_count": null,
      "outputs": []
    },
    {
      "cell_type": "markdown",
      "source": [
        "# lda"
      ],
      "metadata": {
        "id": "9m_6LFWp8JBa"
      }
    },
    {
      "cell_type": "code",
      "source": [
        "from sklearn.preprocessing import StandardScaler,scale\n",
        "X_train, X_test, y_train, y_test = train_test_split(X, y, test_size=0.3, random_state=4)\n",
        "\n",
        "X_train = scale(X_train)\n",
        "#X_train = sc.fit_transform(X_train)\n",
        "X_test=scale(X_test)\n",
        "#X_test = sc.transform(X_test)"
      ],
      "metadata": {
        "id": "4gzSphEz8Il3"
      },
      "execution_count": null,
      "outputs": []
    },
    {
      "cell_type": "code",
      "source": [
        ""
      ],
      "metadata": {
        "id": "LH7T0k2d8-VZ"
      },
      "execution_count": null,
      "outputs": []
    },
    {
      "cell_type": "code",
      "source": [
        "from sklearn.discriminant_analysis import LinearDiscriminantAnalysis as LDA\n",
        "\n",
        "lda = LDA(n_components=3)\n",
        "X_train = lda.fit_transform(X_train, y_train)\n",
        "X_test = lda.transform(X_test)"
      ],
      "metadata": {
        "id": "uQ0XNvw68Iio"
      },
      "execution_count": null,
      "outputs": []
    },
    {
      "cell_type": "code",
      "source": [
        "from sklearn.metrics import accuracy_score\n",
        "from sklearn import svm\n",
        "classifier = svm.SVC(kernel='poly',C=10,degree=3,gamma=0.03)\n",
        "\n",
        "classifier.fit(X_train, y_train)\n",
        "y_pred = classifier.predict(X_test)\n",
        "print('Accuracy' ,accuracy_score(y_test, y_pred))\n",
        "y_pred1 = classifier.predict(X_train)\n",
        "print('Accuracy train' ,accuracy_score(y_train, y_pred1))"
      ],
      "metadata": {
        "colab": {
          "base_uri": "https://localhost:8080/"
        },
        "id": "t6hVniuV8Ic_",
        "outputId": "e32c461e-fae1-45cb-e810-b0dc617c0a45"
      },
      "execution_count": null,
      "outputs": [
        {
          "output_type": "stream",
          "name": "stdout",
          "text": [
            "Accuracy 0.29085817163432687\n",
            "Accuracy train 0.4568758573388203\n"
          ]
        }
      ]
    },
    {
      "cell_type": "markdown",
      "source": [
        "## naive bayes"
      ],
      "metadata": {
        "id": "042PTcMUDmfo"
      }
    },
    {
      "cell_type": "code",
      "source": [
        "nb = GaussianNB()\n",
        "\n",
        "nb=nb.fit(X_train, y_train)\n",
        "y_pred = nb.predict(X_test)\n",
        "print('Accuracy' ,accuracy_score(y_test, y_pred))\n",
        "y_pred1 = nb.predict(X_train)\n",
        "print('Accuracy train' ,accuracy_score(y_train, y_pred1))"
      ],
      "metadata": {
        "colab": {
          "base_uri": "https://localhost:8080/"
        },
        "id": "imxC5soP8IWe",
        "outputId": "9d8a662b-2934-4bc6-ff56-8f89b2c8468b"
      },
      "execution_count": null,
      "outputs": [
        {
          "output_type": "stream",
          "name": "stdout",
          "text": [
            "Accuracy 0.28305661132226445\n",
            "Accuracy train 0.48996913580246915\n"
          ]
        }
      ]
    },
    {
      "cell_type": "code",
      "source": [
        "classifier = svm.SVC(kernel='rbf',C=10)\n",
        "classifier.fit(X_train, y_train)\n",
        "y_pred = classifier.predict(X_test)\n",
        "print('Accuracy' ,accuracy_score(y_test, y_pred))\n",
        "y_pred1 = classifier.predict(X_train)\n",
        "print('Accuracy train' ,accuracy_score(y_train, y_pred1))"
      ],
      "metadata": {
        "colab": {
          "base_uri": "https://localhost:8080/"
        },
        "id": "rAdT8CFgAYAs",
        "outputId": "809d1dd4-d31a-4a23-e4ca-3408bb88c927"
      },
      "execution_count": null,
      "outputs": [
        {
          "output_type": "stream",
          "name": "stdout",
          "text": [
            "Accuracy 0.26905381076215246\n",
            "Accuracy train 0.5031721536351166\n"
          ]
        }
      ]
    },
    {
      "cell_type": "markdown",
      "source": [
        "# sfs "
      ],
      "metadata": {
        "id": "PxMnSR2fDkb3"
      }
    },
    {
      "cell_type": "code",
      "source": [
        "X_train, X_test, y_train, y_test = train_test_split(X, y, test_size=0.2, random_state=4)\n",
        "\n",
        "X_train = scale(X_train)\n",
        "#X_train = sc.fit_transform(X_train)\n",
        "X_test=scale(X_test)\n",
        "#X_test = sc.transform(X_test)"
      ],
      "metadata": {
        "id": "F4BmsMvADjwX"
      },
      "execution_count": null,
      "outputs": []
    },
    {
      "cell_type": "code",
      "source": [
        ""
      ],
      "metadata": {
        "id": "AKG52pvpDqzq"
      },
      "execution_count": null,
      "outputs": []
    },
    {
      "cell_type": "code",
      "source": [
        ""
      ],
      "metadata": {
        "id": "dH4rx8UvEJMQ"
      },
      "execution_count": null,
      "outputs": []
    },
    {
      "cell_type": "code",
      "source": [
        "X_train"
      ],
      "metadata": {
        "colab": {
          "base_uri": "https://localhost:8080/"
        },
        "id": "mtH28vqPEJE8",
        "outputId": "ddefec8d-518f-496c-96b6-4b14c52f1ca1"
      },
      "execution_count": null,
      "outputs": [
        {
          "output_type": "execute_result",
          "data": {
            "text/plain": [
              "array([[ 1.0950302 ,  1.10589828, -0.19438813, ..., -0.3330714 ,\n",
              "        -0.11645978, -0.97966377],\n",
              "       [-1.48453698,  0.05668104,  1.63576669, ..., -0.37907755,\n",
              "        -0.45879566,  1.96736662],\n",
              "       [ 1.71089678, -1.01775775, -1.59037357, ...,  0.58729599,\n",
              "         0.07064306, -0.20108417],\n",
              "       ...,\n",
              "       [-0.17274628,  1.56540275, -1.0352224 , ...,  0.51728683,\n",
              "         0.1139022 , -0.51606079],\n",
              "       [-0.55193515,  0.91780397, -0.76793576, ..., -0.09090046,\n",
              "         0.4497492 , -0.43830383],\n",
              "       [-2.36661251, -1.03021376,  0.42925734, ...,  0.52332106,\n",
              "        -0.1923096 , -0.71545929]])"
            ]
          },
          "metadata": {},
          "execution_count": 39
        }
      ]
    },
    {
      "cell_type": "code",
      "source": [
        ""
      ],
      "metadata": {
        "id": "6R6po8xpEJBt"
      },
      "execution_count": null,
      "outputs": []
    },
    {
      "cell_type": "code",
      "source": [
        ""
      ],
      "metadata": {
        "id": "vvX9RcsZDqum"
      },
      "execution_count": null,
      "outputs": []
    },
    {
      "cell_type": "markdown",
      "source": [
        "# mutual info for emotion"
      ],
      "metadata": {
        "id": "LJwWmn3XGDKV"
      }
    },
    {
      "cell_type": "code",
      "source": [
        "from sklearn.feature_selection import mutual_info_classif as MIC\n",
        "mi_score = MIC(X,y)\n",
        "print(mi_score)"
      ],
      "metadata": {
        "colab": {
          "base_uri": "https://localhost:8080/"
        },
        "id": "rBNKrTuVA5O3",
        "outputId": "1bfa49c0-951a-40b6-f311-f85e02c3cf45"
      },
      "execution_count": null,
      "outputs": [
        {
          "output_type": "stream",
          "name": "stdout",
          "text": [
            "[0.07090657 0.00680128 0.02502944 0.02128442 0.01245491 0.02506492\n",
            " 0.0147331  0.00136495 0.01509588 0.01246354 0.01424989 0.00945128\n",
            " 0.         0.00427651 0.00741781 0.00920577 0.00588467 0.00291466\n",
            " 0.00072601 0.00240938 0.00729211 0.02531685 0.01667034 0.01810984\n",
            " 0.02142968 0.04224466 0.05069812 0.06636918 0.08159586 0.07304733\n",
            " 0.07321754 0.06868646 0.06481769 0.05677521 0.05781785 0.06547539\n",
            " 0.06463985 0.07294275 0.07430756 0.07279123 0.07787016 0.08656685\n",
            " 0.08977488 0.08507911 0.09106977 0.08634012 0.08226235 0.08252252\n",
            " 0.08747235 0.08948894 0.09075745 0.08343135 0.0931396  0.08660851\n",
            " 0.0835867  0.09275695 0.08547258 0.08889038 0.08165871 0.09072766\n",
            " 0.10087995 0.09888656 0.08470593 0.08938482 0.0903514  0.08262508\n",
            " 0.08326505 0.08564308 0.08345108 0.0788058  0.07661221 0.06581481\n",
            " 0.07526095 0.07524495 0.07448777 0.08374033 0.08394852 0.08257132\n",
            " 0.07075653 0.08469577 0.08780495 0.08274528 0.08580751 0.07814918\n",
            " 0.08429807 0.08484798 0.0917148  0.08390971 0.07970461 0.07555837\n",
            " 0.08479703 0.07983689 0.08128254 0.08636689 0.06905833 0.06414731\n",
            " 0.071251   0.06700571 0.06829408 0.06190046 0.0621544  0.05241449\n",
            " 0.05668007 0.05875827 0.06298015 0.06189014 0.05088037 0.05260282\n",
            " 0.05976709 0.0570662  0.0469072  0.05074348 0.05248932 0.04738765\n",
            " 0.05389769 0.05531425 0.06110026 0.05738044 0.07011346 0.063798\n",
            " 0.05725357 0.05213297 0.05334093 0.06312867 0.04687384 0.03755942\n",
            " 0.05772572 0.04970221 0.0499854  0.05048955 0.04536429 0.04269758\n",
            " 0.04229698 0.04130549 0.03868244 0.04695078 0.03300763 0.03459769\n",
            " 0.02881564 0.03455153 0.03305861 0.03389438 0.03079615 0.00492987\n",
            " 0.04872482 0.04955676 0.03228102 0.0227857  0.03345066 0.01038711\n",
            " 0.00687619 0.00434536 0.08958696 0.09740402 0.00125556 0.\n",
            " 0.0001242  0.         0.00954247 0.00921933 0.00555023 0.00378717\n",
            " 0.00101885 0.00214975 0.01224923 0.00018253 0.0090876  0.00471391\n",
            " 0.01499395 0.00543013 0.0116585  0.01131072 0.00187874 0.01074906\n",
            " 0.01296626 0.00860268 0.01196094 0.00918444 0.01384658 0.01369523\n",
            " 0.01240042 0.01585816 0.02192991 0.02252068 0.00924931 0.02099009\n",
            " 0.00778425 0.02237324 0.02554028 0.01672642 0.01593589 0.01919383\n",
            " 0.01625111 0.01699699 0.02801715 0.02837011 0.02920197 0.02432182\n",
            " 0.02237151 0.02295115 0.0273454  0.02791442 0.02688942 0.01413846\n",
            " 0.01980215 0.02837869 0.02757258 0.02726717 0.02720105 0.02037697\n",
            " 0.01711783 0.01765077 0.02309917 0.02157195 0.02556554 0.01945513\n",
            " 0.01755215 0.0049046  0.01836351 0.01519276 0.03068546 0.02735905\n",
            " 0.01971463 0.02334556 0.02419572 0.02865855 0.03082685 0.02466074\n",
            " 0.0164607  0.02804648 0.02364939 0.02038132 0.01811837 0.01674891\n",
            " 0.02471779 0.01990802 0.02096966 0.01977264 0.02550324 0.02551405\n",
            " 0.02458587 0.01980697 0.02157294 0.02267454 0.02504864 0.02871886\n",
            " 0.02129075 0.02439855 0.01860143 0.02244708 0.02187598 0.02562785\n",
            " 0.03054362 0.02485197 0.02874244 0.03460767 0.02362507 0.01530044\n",
            " 0.02696744 0.01686509 0.02165081 0.02312188 0.02262835 0.02514561\n",
            " 0.02505772 0.01922799 0.02644934 0.02311857 0.01852063 0.01961261\n",
            " 0.01775822 0.02233396 0.01701859 0.01763195 0.02805446 0.02344438\n",
            " 0.02010924 0.02260569 0.01553265 0.01324029 0.02169047 0.02568323\n",
            " 0.01893756 0.01877081 0.02176776 0.02555697 0.02367602 0.02491291\n",
            " 0.01021621 0.02463947 0.02432687 0.02296975 0.01775802 0.01539085\n",
            " 0.02679831 0.02296658 0.01160196 0.01749349 0.02110534 0.03267253\n",
            " 0.02596698 0.02581622 0.02901002 0.02070905 0.01887361 0.01857022\n",
            " 0.01955101 0.01652159 0.02963729 0.0193647  0.02659893 0.01111235\n",
            " 0.02109321 0.01389013 0.02865101 0.0235595  0.01916738 0.03083189\n",
            " 0.01825952 0.02177141 0.02078356 0.01902896 0.02273896 0.01746285\n",
            " 0.01990466 0.02139971 0.02242508 0.01817507 0.0227174  0.01632158\n",
            " 0.02196165 0.0153712  0.0204971  0.0254777  0.02247314 0.02375022\n",
            " 0.00883628 0.01877595 0.0131921  0.01005277 0.01253911 0.02009541\n",
            " 0.0122226  0.01528941 0.00808816 0.01945061 0.01908882 0.01699558\n",
            " 0.02281346 0.01545293 0.02286968 0.01420033 0.01153557 0.01130577\n",
            " 0.0231544  0.01651759 0.03193304 0.01611535 0.00882579 0.01505895\n",
            " 0.0182729  0.02137019 0.01924776 0.00488544 0.01617191 0.01486484\n",
            " 0.0249411  0.01216397 0.01285622 0.01673156 0.00835424 0.00937047\n",
            " 0.02610303 0.02742094 0.02022186 0.02132288 0.02487703 0.01398404\n",
            " 0.01925151 0.01860186 0.00844543 0.0203612  0.0105579  0.01922974\n",
            " 0.0067615  0.01654469 0.01158724 0.01783933 0.0118059  0.00324273\n",
            " 0.01298416 0.01226619 0.01720164 0.00687156 0.01235196 0.01376472\n",
            " 0.01239897 0.02086768 0.02161871 0.01149413 0.01326707 0.014085\n",
            " 0.0177076  0.01325661 0.00996763 0.0170377  0.00941834 0.01716587\n",
            " 0.01654778 0.01555218 0.01539783 0.0253584  0.01647774 0.01521739\n",
            " 0.01223506 0.01328966 0.01216526 0.00472534 0.00467217 0.01279801\n",
            " 0.01804181 0.00493701 0.0060482  0.01970408 0.00915115 0.00947203\n",
            " 0.00159614 0.01559392 0.01208219 0.00600804 0.00721276 0.00697174\n",
            " 0.00923689 0.00838757 0.00461502 0.         0.01034658 0.00237153\n",
            " 0.00773887 0.00634269 0.01368664 0.01030045 0.00745587 0.00554174\n",
            " 0.00303227 0.00366529 0.00444186 0.         0.00288538 0.00116152\n",
            " 0.01126323 0.00783489 0.         0.00345175 0.00485271 0.\n",
            " 0.         0.00581647 0.00777926 0.         0.00023075 0.00241598\n",
            " 0.00039878 0.         0.00229684 0.         0.         0.00702626\n",
            " 0.00591096 0.00588623 0.00808941 0.0043608  0.00221272 0.00172448\n",
            " 0.00134759 0.         0.01275605 0.         0.002227   0.\n",
            " 0.         0.         0.         0.00957893 0.00366328 0.\n",
            " 0.0063606  0.         0.01436934 0.         0.00877524 0.\n",
            " 0.00982214 0.00240223 0.         0.         0.00176167 0.00064624\n",
            " 0.         0.00186979 0.         0.00409749 0.00044391 0.\n",
            " 0.         0.         0.         0.00353203 0.01278961 0.00518397\n",
            " 0.00127012 0.02200433 0.         0.         0.         0.00515344\n",
            " 0.         0.00889104 0.         0.         0.         0.\n",
            " 0.         0.         0.         0.00543082 0.         0.00237563\n",
            " 0.00084985 0.         0.00217499 0.0150382  0.00332069 0.00488918\n",
            " 0.00579438 0.00890558 0.00416727 0.00160168 0.00431353 0.00347487\n",
            " 0.00776494 0.01133844 0.01405298 0.00865665]\n"
          ]
        }
      ]
    },
    {
      "cell_type": "code",
      "source": [
        "plt.plot(mi_score)\n",
        "plt.show"
      ],
      "metadata": {
        "colab": {
          "base_uri": "https://localhost:8080/",
          "height": 282
        },
        "id": "Rg_lGNWJE00s",
        "outputId": "8425b409-93ef-40c2-abb3-eaa547dba83e"
      },
      "execution_count": null,
      "outputs": [
        {
          "output_type": "execute_result",
          "data": {
            "text/plain": [
              "<function matplotlib.pyplot.show>"
            ]
          },
          "metadata": {},
          "execution_count": 33
        },
        {
          "output_type": "display_data",
          "data": {
            "text/plain": [
              "<Figure size 432x288 with 1 Axes>"
            ],
            "image/png": "[encoded data removed]"
          },
          "metadata": {
            "needs_background": "light"
          }
        }
      ]
    },
    {
      "cell_type": "code",
      "source": [
        "# prepare dataset 2, MI > 0.2\n",
        "mi_score_selected_index = np.where(mi_score > 0.01)[0]\n",
        "X_2 = X[:, mi_score_selected_index]\n",
        "X_train_2, X_test_2, y_train, y_test = train_test_split(\n",
        "    X_2, y, random_state=0, stratify=y\n",
        ")\n"
      ],
      "metadata": {
        "colab": {
          "base_uri": "https://localhost:8080/",
          "height": 325
        },
        "id": "58mwhRZQE0xb",
        "outputId": "c99a164f-6414-4142-9f21-f114260e5c61"
      },
      "execution_count": null,
      "outputs": [
        {
          "output_type": "error",
          "ename": "TypeError",
          "evalue": "ignored",
          "traceback": [
            "\u001b[0;31m---------------------------------------------------------------------------\u001b[0m",
            "\u001b[0;31mTypeError\u001b[0m                                 Traceback (most recent call last)",
            "\u001b[0;32m<ipython-input-10-319368ed4d92>\u001b[0m in \u001b[0;36m<module>\u001b[0;34m()\u001b[0m\n\u001b[1;32m      1\u001b[0m \u001b[0;31m# prepare dataset 2, MI > 0.2\u001b[0m\u001b[0;34m\u001b[0m\u001b[0;34m\u001b[0m\u001b[0;34m\u001b[0m\u001b[0m\n\u001b[1;32m      2\u001b[0m \u001b[0mmi_score_selected_index\u001b[0m \u001b[0;34m=\u001b[0m \u001b[0mnp\u001b[0m\u001b[0;34m.\u001b[0m\u001b[0mwhere\u001b[0m\u001b[0;34m(\u001b[0m\u001b[0mmi_score\u001b[0m \u001b[0;34m>\u001b[0m \u001b[0;36m0.01\u001b[0m\u001b[0;34m)\u001b[0m\u001b[0;34m[\u001b[0m\u001b[0;36m0\u001b[0m\u001b[0;34m]\u001b[0m\u001b[0;34m\u001b[0m\u001b[0;34m\u001b[0m\u001b[0m\n\u001b[0;32m----> 3\u001b[0;31m \u001b[0mX_2\u001b[0m \u001b[0;34m=\u001b[0m \u001b[0mX\u001b[0m\u001b[0;34m[\u001b[0m\u001b[0;34m:\u001b[0m\u001b[0;34m,\u001b[0m \u001b[0mmi_score_selected_index\u001b[0m\u001b[0;34m]\u001b[0m\u001b[0;34m\u001b[0m\u001b[0;34m\u001b[0m\u001b[0m\n\u001b[0m\u001b[1;32m      4\u001b[0m X_train_2, X_test_2, y_train, y_test = train_test_split(\n\u001b[1;32m      5\u001b[0m     \u001b[0mX_2\u001b[0m\u001b[0;34m,\u001b[0m \u001b[0my\u001b[0m\u001b[0;34m,\u001b[0m \u001b[0mrandom_state\u001b[0m\u001b[0;34m=\u001b[0m\u001b[0;36m0\u001b[0m\u001b[0;34m,\u001b[0m \u001b[0mstratify\u001b[0m\u001b[0;34m=\u001b[0m\u001b[0my\u001b[0m\u001b[0;34m\u001b[0m\u001b[0;34m\u001b[0m\u001b[0m\n",
            "\u001b[0;32m/usr/local/lib/python3.7/dist-packages/pandas/core/frame.py\u001b[0m in \u001b[0;36m__getitem__\u001b[0;34m(self, key)\u001b[0m\n\u001b[1;32m   3456\u001b[0m             \u001b[0;32mif\u001b[0m \u001b[0mself\u001b[0m\u001b[0;34m.\u001b[0m\u001b[0mcolumns\u001b[0m\u001b[0;34m.\u001b[0m\u001b[0mnlevels\u001b[0m \u001b[0;34m>\u001b[0m \u001b[0;36m1\u001b[0m\u001b[0;34m:\u001b[0m\u001b[0;34m\u001b[0m\u001b[0;34m\u001b[0m\u001b[0m\n\u001b[1;32m   3457\u001b[0m                 \u001b[0;32mreturn\u001b[0m \u001b[0mself\u001b[0m\u001b[0;34m.\u001b[0m\u001b[0m_getitem_multilevel\u001b[0m\u001b[0;34m(\u001b[0m\u001b[0mkey\u001b[0m\u001b[0;34m)\u001b[0m\u001b[0;34m\u001b[0m\u001b[0;34m\u001b[0m\u001b[0m\n\u001b[0;32m-> 3458\u001b[0;31m             \u001b[0mindexer\u001b[0m \u001b[0;34m=\u001b[0m \u001b[0mself\u001b[0m\u001b[0;34m.\u001b[0m\u001b[0mcolumns\u001b[0m\u001b[0;34m.\u001b[0m\u001b[0mget_loc\u001b[0m\u001b[0;34m(\u001b[0m\u001b[0mkey\u001b[0m\u001b[0;34m)\u001b[0m\u001b[0;34m\u001b[0m\u001b[0;34m\u001b[0m\u001b[0m\n\u001b[0m\u001b[1;32m   3459\u001b[0m             \u001b[0;32mif\u001b[0m \u001b[0mis_integer\u001b[0m\u001b[0;34m(\u001b[0m\u001b[0mindexer\u001b[0m\u001b[0;34m)\u001b[0m\u001b[0;34m:\u001b[0m\u001b[0;34m\u001b[0m\u001b[0;34m\u001b[0m\u001b[0m\n\u001b[1;32m   3460\u001b[0m                 \u001b[0mindexer\u001b[0m \u001b[0;34m=\u001b[0m \u001b[0;34m[\u001b[0m\u001b[0mindexer\u001b[0m\u001b[0;34m]\u001b[0m\u001b[0;34m\u001b[0m\u001b[0;34m\u001b[0m\u001b[0m\n",
            "\u001b[0;32m/usr/local/lib/python3.7/dist-packages/pandas/core/indexes/base.py\u001b[0m in \u001b[0;36mget_loc\u001b[0;34m(self, key, method, tolerance)\u001b[0m\n\u001b[1;32m   3359\u001b[0m             \u001b[0mcasted_key\u001b[0m \u001b[0;34m=\u001b[0m \u001b[0mself\u001b[0m\u001b[0;34m.\u001b[0m\u001b[0m_maybe_cast_indexer\u001b[0m\u001b[0;34m(\u001b[0m\u001b[0mkey\u001b[0m\u001b[0;34m)\u001b[0m\u001b[0;34m\u001b[0m\u001b[0;34m\u001b[0m\u001b[0m\n\u001b[1;32m   3360\u001b[0m             \u001b[0;32mtry\u001b[0m\u001b[0;34m:\u001b[0m\u001b[0;34m\u001b[0m\u001b[0;34m\u001b[0m\u001b[0m\n\u001b[0;32m-> 3361\u001b[0;31m                 \u001b[0;32mreturn\u001b[0m \u001b[0mself\u001b[0m\u001b[0;34m.\u001b[0m\u001b[0m_engine\u001b[0m\u001b[0;34m.\u001b[0m\u001b[0mget_loc\u001b[0m\u001b[0;34m(\u001b[0m\u001b[0mcasted_key\u001b[0m\u001b[0;34m)\u001b[0m\u001b[0;34m\u001b[0m\u001b[0;34m\u001b[0m\u001b[0m\n\u001b[0m\u001b[1;32m   3362\u001b[0m             \u001b[0;32mexcept\u001b[0m \u001b[0mKeyError\u001b[0m \u001b[0;32mas\u001b[0m \u001b[0merr\u001b[0m\u001b[0;34m:\u001b[0m\u001b[0;34m\u001b[0m\u001b[0;34m\u001b[0m\u001b[0m\n\u001b[1;32m   3363\u001b[0m                 \u001b[0;32mraise\u001b[0m \u001b[0mKeyError\u001b[0m\u001b[0;34m(\u001b[0m\u001b[0mkey\u001b[0m\u001b[0;34m)\u001b[0m \u001b[0;32mfrom\u001b[0m \u001b[0merr\u001b[0m\u001b[0;34m\u001b[0m\u001b[0;34m\u001b[0m\u001b[0m\n",
            "\u001b[0;32m/usr/local/lib/python3.7/dist-packages/pandas/_libs/index.pyx\u001b[0m in \u001b[0;36mpandas._libs.index.IndexEngine.get_loc\u001b[0;34m()\u001b[0m\n",
            "\u001b[0;32m/usr/local/lib/python3.7/dist-packages/pandas/_libs/index.pyx\u001b[0m in \u001b[0;36mpandas._libs.index.IndexEngine.get_loc\u001b[0;34m()\u001b[0m\n",
            "\u001b[0;31mTypeError\u001b[0m: '(slice(None, None, None), array([  3,  13,  14,  15,  16,  17,  18,  19,  20,  26,  35,  86, 143,\n       233, 249]))' is an invalid key"
          ]
        }
      ]
    },
    {
      "cell_type": "code",
      "source": [
        "from sklearn.datasets import fetch_openml\n",
        "from sklearn.feature_selection import SelectKBest, SelectPercentile, mutual_info_classif\n"
      ],
      "metadata": {
        "id": "VXOZvx_oH3UV"
      },
      "execution_count": null,
      "outputs": []
    },
    {
      "cell_type": "code",
      "source": [
        "\n",
        "selector = SelectPercentile(mutual_info_classif, percentile=20)\n",
        "X_reduced = selector.fit_transform(X, y)\n",
        "X_reduced.shape\n"
      ],
      "metadata": {
        "colab": {
          "base_uri": "https://localhost:8080/"
        },
        "id": "gXB1KPWrH-cS",
        "outputId": "e69739c6-38bf-4280-9b4d-c256dad857da"
      },
      "execution_count": null,
      "outputs": [
        {
          "output_type": "execute_result",
          "data": {
            "text/plain": [
              "(16663, 109)"
            ]
          },
          "metadata": {},
          "execution_count": 35
        }
      ]
    },
    {
      "cell_type": "code",
      "source": [
        "\n",
        "cols = selector.get_support(indices=True)\n",
        "selected_columns = X.iloc[:,cols].columns.tolist()\n",
        "selected_columns\n"
      ],
      "metadata": {
        "colab": {
          "base_uri": "https://localhost:8080/"
        },
        "id": "DKXy7X-yJjOX",
        "outputId": "99b561e2-097c-41a1-e5ac-19dc7634e8bc"
      },
      "execution_count": null,
      "outputs": [
        {
          "output_type": "execute_result",
          "data": {
            "text/plain": [
              "['zero_crossing_rate_0',\n",
              " 'tempogram_29',\n",
              " 'tempogram_34',\n",
              " 'tempogram_40',\n",
              " 'tempogram_41',\n",
              " 'tempogram_42',\n",
              " 'tempogram_43',\n",
              " 'tempogram_44',\n",
              " 'tempogram_46',\n",
              " 'tempogram_47',\n",
              " 'tempogram_48',\n",
              " 'tempogram_51',\n",
              " 'tempogram_52',\n",
              " 'tempogram_53',\n",
              " 'tempogram_54',\n",
              " 'tempogram_58',\n",
              " 'tempogram_60',\n",
              " 'tempogram_66',\n",
              " 'tempogram_67',\n",
              " 'tempogram_69',\n",
              " 'tempogram_70',\n",
              " 'tempogram_71',\n",
              " 'tempogram_72',\n",
              " 'tempogram_73',\n",
              " 'tempogram_75',\n",
              " 'tempogram_76',\n",
              " 'tempogram_80',\n",
              " 'tempogram_84',\n",
              " 'tempogram_85',\n",
              " 'tempogram_86',\n",
              " 'tempogram_88',\n",
              " 'tempogram_90',\n",
              " 'tempogram_91',\n",
              " 'tempogram_92',\n",
              " 'tempogram_93',\n",
              " 'tempogram_95',\n",
              " 'tempogram_97',\n",
              " 'tempogram_98',\n",
              " 'tempogram_99',\n",
              " 'tempogram_100',\n",
              " 'tempogram_101',\n",
              " 'tempogram_102',\n",
              " 'tempogram_104',\n",
              " 'tempogram_106',\n",
              " 'tempogram_107',\n",
              " 'tempogram_110',\n",
              " 'tempogram_112',\n",
              " 'tempogram_117',\n",
              " 'tempogram_120',\n",
              " 'tempogram_123',\n",
              " 'tempogram_127',\n",
              " 'tempogram_131',\n",
              " 'tempogram_132',\n",
              " 'tempogram_133',\n",
              " 'tempogram_135',\n",
              " 'tempogram_136',\n",
              " 'tempogram_137',\n",
              " 'tempogram_140',\n",
              " 'tempogram_145',\n",
              " 'tempogram_146',\n",
              " 'tempogram_147',\n",
              " 'tempogram_148',\n",
              " 'tempogram_154',\n",
              " 'tempogram_155',\n",
              " 'tempogram_156',\n",
              " 'tempogram_160',\n",
              " 'tempogram_161',\n",
              " 'tempogram_163',\n",
              " 'tempogram_168',\n",
              " 'tempogram_171',\n",
              " 'tempogram_172',\n",
              " 'tempogram_174',\n",
              " 'tempogram_178',\n",
              " 'tempogram_179',\n",
              " 'tempogram_181',\n",
              " 'tempogram_200',\n",
              " 'tempogram_202',\n",
              " 'tempogram_212',\n",
              " 'tempogram_218',\n",
              " 'tempogram_219',\n",
              " 'tempogram_222',\n",
              " 'tempogram_257',\n",
              " 'tempogram_259',\n",
              " 'tempogram_260']"
            ]
          },
          "metadata": {},
          "execution_count": 41
        }
      ]
    },
    {
      "cell_type": "code",
      "source": [
        "X_train, X_test, y_train, y_test = train_test_split(X_reduced, y, test_size=0.2, random_state=4)\n",
        "\n",
        "\n",
        "nb = GaussianNB()\n",
        "\n",
        "nb=nb.fit(X_train, y_train)\n",
        "y_pred = nb.predict(X_test)\n",
        "print('Accuracy' ,accuracy_score(y_test, y_pred))\n",
        "y_pred1 = nb.predict(X_train)\n",
        "print('Accuracy train' ,accuracy_score(y_train, y_pred1))\n",
        "\n",
        "\n"
      ],
      "metadata": {
        "colab": {
          "base_uri": "https://localhost:8080/"
        },
        "id": "nWOT5krjJ5zG",
        "outputId": "d79e8d18-3199-478a-bbec-3ecd45247379"
      },
      "execution_count": null,
      "outputs": [
        {
          "output_type": "stream",
          "name": "stdout",
          "text": [
            "Accuracy 0.3414341434143414\n",
            "Accuracy train 0.3454613653413353\n"
          ]
        }
      ]
    },
    {
      "cell_type": "code",
      "source": [
        "classifier = svm.SVC(kernel='rbf',C=10)\n",
        "\n",
        "classifier.fit(X_train, y_train)\n",
        "y_pred = classifier.predict(X_test)\n",
        "print('Accuracy' ,accuracy_score(y_test, y_pred))\n",
        "y_pred1 = classifier.predict(X_train)\n",
        "print('Accuracy train' ,accuracy_score(y_train, y_pred1))"
      ],
      "metadata": {
        "colab": {
          "base_uri": "https://localhost:8080/"
        },
        "id": "LABcawdoK57-",
        "outputId": "d1acbf11-6a95-43c6-9b59-602657e9d4d2"
      },
      "execution_count": null,
      "outputs": [
        {
          "output_type": "stream",
          "name": "stdout",
          "text": [
            "Accuracy 0.40534053405340537\n",
            "Accuracy train 0.4162040510127532\n"
          ]
        }
      ]
    },
    {
      "cell_type": "markdown",
      "source": [
        "### gridsearch for svm"
      ],
      "metadata": {
        "id": "5uLPHkMCYLil"
      }
    },
    {
      "cell_type": "code",
      "source": [
        "X_train = scale(X_train)\n",
        "#X_train = sc.fit_transform(X_train)\n",
        "X_test=scale(X_test)"
      ],
      "metadata": {
        "id": "TL1X7ofVRTVm"
      },
      "execution_count": null,
      "outputs": []
    },
    {
      "cell_type": "code",
      "source": [
        "from sklearn.model_selection import GridSearchCV\n",
        "\n",
        "tuned_parameters = [\n",
        "   {\"kernel\": [\"poly\"], 'degree' : [2, 3, 4],'C' : [1, 10], 'gamma' : [0.01, 0.03]},\n",
        "   {\"kernel\": [\"linear\"], \"C\": [1, 10]},\n",
        "    {\"kernel\": [\"rbf\"], \"gamma\": [0.1, 0.3, 0.5], \"C\": [1, 10]}\n",
        "]\n",
        "\n",
        "clf = GridSearchCV(\n",
        "    estimator=svm.SVC(),\n",
        "    param_grid=tuned_parameters,\n",
        "     scoring='accuracy',\n",
        "     cv=5,\n",
        "     verbose=0\n",
        ")\n",
        "clf.fit(X_train, y_train)\n",
        "print(clf.best_params_)"
      ],
      "metadata": {
        "id": "2NctKr-cLdCS"
      },
      "execution_count": null,
      "outputs": []
    },
    {
      "cell_type": "code",
      "source": [
        "classifier = svm.SVC(kernel='rbf',C=1,gamma=0.1)\n",
        "\n",
        "classifier.fit(X_train, y_train)\n",
        "y_pred = classifier.predict(X_test)\n",
        "print('Accuracy' ,accuracy_score(y_test, y_pred))\n",
        "y_pred1 = classifier.predict(X_train)\n",
        "print('Accuracy train' ,accuracy_score(y_train, y_pred1))"
      ],
      "metadata": {
        "colab": {
          "base_uri": "https://localhost:8080/"
        },
        "id": "BvvS6wpgRvUm",
        "outputId": "392204a7-f134-4f9a-8405-b386840e734e"
      },
      "execution_count": null,
      "outputs": [
        {
          "output_type": "stream",
          "name": "stdout",
          "text": [
            "Accuracy 0.7611761176117612\n",
            "Accuracy train 0.8308327081770442\n"
          ]
        }
      ]
    },
    {
      "cell_type": "markdown",
      "source": [
        "## decision tree with mutual information and scaling"
      ],
      "metadata": {
        "id": "DtUG1nw3ZTnp"
      }
    },
    {
      "cell_type": "code",
      "source": [
        ""
      ],
      "metadata": {
        "id": "FyI0PKSAadlp"
      },
      "execution_count": null,
      "outputs": []
    },
    {
      "cell_type": "code",
      "source": [
        "from sklearn.preprocessing import StandardScaler,scale\n",
        "\n",
        "X_train, X_test, y_train, y_test = train_test_split(X_reduced, y, test_size=0.2, random_state=4)\n",
        "X_train = scale(X_train)\n",
        "#X_train = sc.fit_transform(X_train)\n",
        "X_test=scale(X_test)"
      ],
      "metadata": {
        "id": "wDFCvEZraIQJ"
      },
      "execution_count": null,
      "outputs": []
    },
    {
      "cell_type": "code",
      "source": [
        "from sklearn import tree\n",
        "\n",
        "clf = tree.DecisionTreeClassifier()\n",
        "clf = clf.fit(X_train, y_train)\n",
        "y_pred = clf.predict(X_test)\n",
        "print('Accuracy' ,accuracy_score(y_test, y_pred))\n",
        "y_pred1 = clf.predict(X_train)\n",
        "print('Accuracy train' ,accuracy_score(y_train, y_pred1))"
      ],
      "metadata": {
        "colab": {
          "base_uri": "https://localhost:8080/"
        },
        "id": "C0DOqSNJZQsE",
        "outputId": "4d3f02d9-3ac2-44d8-f50b-04953d65ea82"
      },
      "execution_count": null,
      "outputs": [
        {
          "output_type": "stream",
          "name": "stdout",
          "text": [
            "Accuracy 0.28742874287428744\n",
            "Accuracy train 0.9990997749437359\n"
          ]
        }
      ]
    },
    {
      "cell_type": "code",
      "source": [
        ""
      ],
      "metadata": {
        "id": "OIJ7b4HKYQs9"
      },
      "execution_count": null,
      "outputs": []
    },
    {
      "cell_type": "code",
      "source": [
        ""
      ],
      "metadata": {
        "id": "qjwJfcS64MS7"
      },
      "execution_count": null,
      "outputs": []
    },
    {
      "cell_type": "markdown",
      "source": [
        "# new\n",
        "\n",
        "\n",
        "\n",
        "---\n",
        "# ml final project classification\n",
        "\n",
        "\n"
      ],
      "metadata": {
        "id": "q_eih5PaQStM"
      }
    },
    {
      "cell_type": "code",
      "source": [
        "X = df.drop(['sex','emotionID','Unnamed: 0'],1)   #Feature Matrix\n",
        "y = df[\"emotionID\"]\n",
        "\n",
        "\n",
        "X_train, X_test, y_train, y_test = train_test_split(X, y, test_size=0.3, random_state=4)\n",
        "from sklearn.preprocessing import StandardScaler,scale\n",
        "#X_train, X_test, y_train, y_test = train_test_split(X, y, test_size=0.2, random_state=4)\n",
        "\n",
        "X_train = scale(X_train)\n",
        "#X_train = sc.fit_transform(X_train)\n",
        "X_test=scale(X_test)\n",
        "#X_test = sc.transform(X_test)"
      ],
      "metadata": {
        "id": "acidKmEg4MLx",
        "colab": {
          "base_uri": "https://localhost:8080/"
        },
        "outputId": "e019a883-2c9c-4605-ed0c-3df822364c3b"
      },
      "execution_count": null,
      "outputs": [
        {
          "output_type": "stream",
          "name": "stderr",
          "text": [
            "/usr/local/lib/python3.7/dist-packages/ipykernel_launcher.py:1: FutureWarning:\n",
            "\n",
            "In a future version of pandas all arguments of DataFrame.drop except for the argument 'labels' will be keyword-only\n",
            "\n"
          ]
        }
      ]
    },
    {
      "cell_type": "markdown",
      "source": [
        "## confusion matrix"
      ],
      "metadata": {
        "id": "RVJZAaYUao43"
      }
    },
    {
      "cell_type": "code",
      "source": [
        "from sklearn.metrics import classification_report, confusion_matrix\n",
        "import matplotlib.pyplot as plt\n",
        "import itertools\n",
        "\n",
        "def plot_confusion_matrix(cm, classes,\n",
        "                          normalize=False,\n",
        "                          title='Confusion matrix',\n",
        "                          cmap=plt.cm.Blues):\n",
        "\n",
        "    # This function prints and plots the confusion matrix.\n",
        "    # Normalization can be applied by setting `normalize=True`.\n",
        "    \n",
        "    if normalize:\n",
        "        cm = cm.astype('float') / cm.sum(axis=1)[:, np.newaxis]\n",
        "        print(\"Normalized confusion matrix\")\n",
        "    else:\n",
        "        print('Confusion matrix, without normalization')\n",
        "\n",
        "#     print(cm)\n",
        "\n",
        "    plt.imshow(cm, interpolation='nearest', cmap=cmap)\n",
        "    plt.title(title)\n",
        "    plt.colorbar()\n",
        "    tick_marks = np.arange(len(classes))\n",
        "    plt.xticks(tick_marks, classes, rotation=90)\n",
        "    plt.yticks(tick_marks, classes)\n",
        "\n",
        "    fmt = '.2f' if normalize else 'd'\n",
        "    thresh = cm.max() / 2.\n",
        "    for i, j in itertools.product(range(cm.shape[0]), range(cm.shape[1])):\n",
        "        plt.text(j, i, format(cm[i, j], fmt),\n",
        "                 horizontalalignment=\"center\",\n",
        "                 color=\"white\" if cm[i, j] > thresh else \"black\")\n",
        "\n",
        "    plt.tight_layout()\n",
        "    plt.ylabel('True label')\n",
        "    plt.xlabel('Predicted label')"
      ],
      "metadata": {
        "id": "ZEgFoy049NCD"
      },
      "execution_count": null,
      "outputs": []
    },
    {
      "cell_type": "markdown",
      "source": [
        "## logistic regression"
      ],
      "metadata": {
        "id": "LF6xYJXpauxz"
      }
    },
    {
      "cell_type": "code",
      "source": [
        "from sklearn.linear_model import LogisticRegression\n",
        "import seaborn as sns\n",
        "from sklearn.preprocessing import StandardScaler\n",
        "from sklearn.pipeline import make_pipeline\n",
        "\n",
        "lr_clf = make_pipeline(StandardScaler(), LogisticRegression(solver='liblinear', class_weight='balanced' , C = 0.1))     # Best Result\n",
        "lr_clf.fit(X_train, y_train)\n",
        "lr_yhat = lr_clf.predict(X_test)"
      ],
      "metadata": {
        "id": "U9roEt4oatTM"
      },
      "execution_count": null,
      "outputs": []
    },
    {
      "cell_type": "code",
      "source": [
        "import plotly.express as px\n",
        "from sklearn import metrics\n",
        "\n",
        "lr_acc_train = round( metrics.accuracy_score(y_train, lr_clf.predict(X_train))*100 ,2)\n",
        "lr_acc_test = round( metrics.accuracy_score(y_test, lr_yhat)*100 ,2)\n",
        "lr_jac_train = round( metrics.jaccard_score(y_train, lr_clf.predict(X_train),average='weighted')*100 ,2)\n",
        "lr_jac_test = round( metrics.jaccard_score(y_test, lr_yhat,average='weighted')*100 ,2)\n",
        "\n",
        "lr_df1 = pd.DataFrame({'percent':[lr_acc_train,lr_acc_test,lr_jac_train,lr_jac_test],\n",
        "                       'label' : ['train' , 'test' , 'train' , 'test'],\n",
        "                       'metric': ['Accuracy' , 'Accuracy' , 'Weighted Jaccard Score' , 'Weighted Jaccard Score']})\n",
        "\n",
        "\n",
        "fig = px.bar(lr_df1 , x='metric' , y='percent' , color='label' ,\n",
        "             title='Logistic Regression Accuracy/Jaccard for Train/Test Data (First Try)' ,\n",
        "             text=\"percent\", barmode=\"group\")\n",
        "fig.show()"
      ],
      "metadata": {
        "colab": {
          "base_uri": "https://localhost:8080/",
          "height": 542
        },
        "id": "a5ldm22La5j1",
        "outputId": "3b645994-b0dd-4a90-bea2-a50d72f5a0f8"
      },
      "execution_count": null,
      "outputs": [
        {
          "output_type": "display_data",
          "data": {
            "text/html": [
              "<html>\n",
              "<head><meta charset=\"utf-8\" /></head>\n",
              "<body>\n",
              "    <div>            <script src=\"https://cdnjs.cloudflare.com/ajax/libs/mathjax/2.7.5/MathJax.js?config=TeX-AMS-MML_SVG\"></script><script type=\"text/javascript\">if (window.MathJax) {MathJax.Hub.Config({SVG: {font: \"STIX-Web\"}});}</script>                <script type=\"text/javascript\">window.PlotlyConfig = {MathJaxConfig: 'local'};</script>\n",
              "        <script src=\"https://cdn.plot.ly/plotly-2.8.3.min.js\"></script>                <div id=\"5d59eec6-2bfd-46c8-92a5-e9904dc89376\" class=\"plotly-graph-div\" style=\"height:525px; width:100%;\"></div>            <script type=\"text/javascript\">                                    window.PLOTLYENV=window.PLOTLYENV || {};                                    if (document.getElementById(\"5d59eec6-2bfd-46c8-92a5-e9904dc89376\")) {                    Plotly.newPlot(                        \"5d59eec6-2bfd-46c8-92a5-e9904dc89376\",                        [{\"alignmentgroup\":\"True\",\"hovertemplate\":\"label=train<br>metric=%{x}<br>percent=%{text}<extra></extra>\",\"legendgroup\":\"train\",\"marker\":{\"color\":\"#636efa\",\"pattern\":{\"shape\":\"\"}},\"name\":\"train\",\"offsetgroup\":\"train\",\"orientation\":\"v\",\"showlegend\":true,\"text\":[49.44,32.99],\"textposition\":\"auto\",\"x\":[\"Accuracy\",\"Weighted Jaccard Score\"],\"xaxis\":\"x\",\"y\":[49.44,32.99],\"yaxis\":\"y\",\"type\":\"bar\"},{\"alignmentgroup\":\"True\",\"hovertemplate\":\"label=test<br>metric=%{x}<br>percent=%{text}<extra></extra>\",\"legendgroup\":\"test\",\"marker\":{\"color\":\"#EF553B\",\"pattern\":{\"shape\":\"\"}},\"name\":\"test\",\"offsetgroup\":\"test\",\"orientation\":\"v\",\"showlegend\":true,\"text\":[45.37,29.43],\"textposition\":\"auto\",\"x\":[\"Accuracy\",\"Weighted Jaccard Score\"],\"xaxis\":\"x\",\"y\":[45.37,29.43],\"yaxis\":\"y\",\"type\":\"bar\"}],                        {\"template\":{\"data\":{\"bar\":[{\"error_x\":{\"color\":\"#2a3f5f\"},\"error_y\":{\"color\":\"#2a3f5f\"},\"marker\":{\"line\":{\"color\":\"#E5ECF6\",\"width\":0.5},\"pattern\":{\"fillmode\":\"overlay\",\"size\":10,\"solidity\":0.2}},\"type\":\"bar\"}],\"barpolar\":[{\"marker\":{\"line\":{\"color\":\"#E5ECF6\",\"width\":0.5},\"pattern\":{\"fillmode\":\"overlay\",\"size\":10,\"solidity\":0.2}},\"type\":\"barpolar\"}],\"carpet\":[{\"aaxis\":{\"endlinecolor\":\"#2a3f5f\",\"gridcolor\":\"white\",\"linecolor\":\"white\",\"minorgridcolor\":\"white\",\"startlinecolor\":\"#2a3f5f\"},\"baxis\":{\"endlinecolor\":\"#2a3f5f\",\"gridcolor\":\"white\",\"linecolor\":\"white\",\"minorgridcolor\":\"white\",\"startlinecolor\":\"#2a3f5f\"},\"type\":\"carpet\"}],\"choropleth\":[{\"colorbar\":{\"outlinewidth\":0,\"ticks\":\"\"},\"type\":\"choropleth\"}],\"contour\":[{\"colorbar\":{\"outlinewidth\":0,\"ticks\":\"\"},\"colorscale\":[[0.0,\"#0d0887\"],[0.1111111111111111,\"#46039f\"],[0.2222222222222222,\"#7201a8\"],[0.3333333333333333,\"#9c179e\"],[0.4444444444444444,\"#bd3786\"],[0.5555555555555556,\"#d8576b\"],[0.6666666666666666,\"#ed7953\"],[0.7777777777777778,\"#fb9f3a\"],[0.8888888888888888,\"#fdca26\"],[1.0,\"#f0f921\"]],\"type\":\"contour\"}],\"contourcarpet\":[{\"colorbar\":{\"outlinewidth\":0,\"ticks\":\"\"},\"type\":\"contourcarpet\"}],\"heatmap\":[{\"colorbar\":{\"outlinewidth\":0,\"ticks\":\"\"},\"colorscale\":[[0.0,\"#0d0887\"],[0.1111111111111111,\"#46039f\"],[0.2222222222222222,\"#7201a8\"],[0.3333333333333333,\"#9c179e\"],[0.4444444444444444,\"#bd3786\"],[0.5555555555555556,\"#d8576b\"],[0.6666666666666666,\"#ed7953\"],[0.7777777777777778,\"#fb9f3a\"],[0.8888888888888888,\"#fdca26\"],[1.0,\"#f0f921\"]],\"type\":\"heatmap\"}],\"heatmapgl\":[{\"colorbar\":{\"outlinewidth\":0,\"ticks\":\"\"},\"colorscale\":[[0.0,\"#0d0887\"],[0.1111111111111111,\"#46039f\"],[0.2222222222222222,\"#7201a8\"],[0.3333333333333333,\"#9c179e\"],[0.4444444444444444,\"#bd3786\"],[0.5555555555555556,\"#d8576b\"],[0.6666666666666666,\"#ed7953\"],[0.7777777777777778,\"#fb9f3a\"],[0.8888888888888888,\"#fdca26\"],[1.0,\"#f0f921\"]],\"type\":\"heatmapgl\"}],\"histogram\":[{\"marker\":{\"pattern\":{\"fillmode\":\"overlay\",\"size\":10,\"solidity\":0.2}},\"type\":\"histogram\"}],\"histogram2d\":[{\"colorbar\":{\"outlinewidth\":0,\"ticks\":\"\"},\"colorscale\":[[0.0,\"#0d0887\"],[0.1111111111111111,\"#46039f\"],[0.2222222222222222,\"#7201a8\"],[0.3333333333333333,\"#9c179e\"],[0.4444444444444444,\"#bd3786\"],[0.5555555555555556,\"#d8576b\"],[0.6666666666666666,\"#ed7953\"],[0.7777777777777778,\"#fb9f3a\"],[0.8888888888888888,\"#fdca26\"],[1.0,\"#f0f921\"]],\"type\":\"histogram2d\"}],\"histogram2dcontour\":[{\"colorbar\":{\"outlinewidth\":0,\"ticks\":\"\"},\"colorscale\":[[0.0,\"#0d0887\"],[0.1111111111111111,\"#46039f\"],[0.2222222222222222,\"#7201a8\"],[0.3333333333333333,\"#9c179e\"],[0.4444444444444444,\"#bd3786\"],[0.5555555555555556,\"#d8576b\"],[0.6666666666666666,\"#ed7953\"],[0.7777777777777778,\"#fb9f3a\"],[0.8888888888888888,\"#fdca26\"],[1.0,\"#f0f921\"]],\"type\":\"histogram2dcontour\"}],\"mesh3d\":[{\"colorbar\":{\"outlinewidth\":0,\"ticks\":\"\"},\"type\":\"mesh3d\"}],\"parcoords\":[{\"line\":{\"colorbar\":{\"outlinewidth\":0,\"ticks\":\"\"}},\"type\":\"parcoords\"}],\"pie\":[{\"automargin\":true,\"type\":\"pie\"}],\"scatter\":[{\"marker\":{\"colorbar\":{\"outlinewidth\":0,\"ticks\":\"\"}},\"type\":\"scatter\"}],\"scatter3d\":[{\"line\":{\"colorbar\":{\"outlinewidth\":0,\"ticks\":\"\"}},\"marker\":{\"colorbar\":{\"outlinewidth\":0,\"ticks\":\"\"}},\"type\":\"scatter3d\"}],\"scattercarpet\":[{\"marker\":{\"colorbar\":{\"outlinewidth\":0,\"ticks\":\"\"}},\"type\":\"scattercarpet\"}],\"scattergeo\":[{\"marker\":{\"colorbar\":{\"outlinewidth\":0,\"ticks\":\"\"}},\"type\":\"scattergeo\"}],\"scattergl\":[{\"marker\":{\"colorbar\":{\"outlinewidth\":0,\"ticks\":\"\"}},\"type\":\"scattergl\"}],\"scattermapbox\":[{\"marker\":{\"colorbar\":{\"outlinewidth\":0,\"ticks\":\"\"}},\"type\":\"scattermapbox\"}],\"scatterpolar\":[{\"marker\":{\"colorbar\":{\"outlinewidth\":0,\"ticks\":\"\"}},\"type\":\"scatterpolar\"}],\"scatterpolargl\":[{\"marker\":{\"colorbar\":{\"outlinewidth\":0,\"ticks\":\"\"}},\"type\":\"scatterpolargl\"}],\"scatterternary\":[{\"marker\":{\"colorbar\":{\"outlinewidth\":0,\"ticks\":\"\"}},\"type\":\"scatterternary\"}],\"surface\":[{\"colorbar\":{\"outlinewidth\":0,\"ticks\":\"\"},\"colorscale\":[[0.0,\"#0d0887\"],[0.1111111111111111,\"#46039f\"],[0.2222222222222222,\"#7201a8\"],[0.3333333333333333,\"#9c179e\"],[0.4444444444444444,\"#bd3786\"],[0.5555555555555556,\"#d8576b\"],[0.6666666666666666,\"#ed7953\"],[0.7777777777777778,\"#fb9f3a\"],[0.8888888888888888,\"#fdca26\"],[1.0,\"#f0f921\"]],\"type\":\"surface\"}],\"table\":[{\"cells\":{\"fill\":{\"color\":\"#EBF0F8\"},\"line\":{\"color\":\"white\"}},\"header\":{\"fill\":{\"color\":\"#C8D4E3\"},\"line\":{\"color\":\"white\"}},\"type\":\"table\"}]},\"layout\":{\"annotationdefaults\":{\"arrowcolor\":\"#2a3f5f\",\"arrowhead\":0,\"arrowwidth\":1},\"autotypenumbers\":\"strict\",\"coloraxis\":{\"colorbar\":{\"outlinewidth\":0,\"ticks\":\"\"}},\"colorscale\":{\"diverging\":[[0,\"#8e0152\"],[0.1,\"#c51b7d\"],[0.2,\"#de77ae\"],[0.3,\"#f1b6da\"],[0.4,\"#fde0ef\"],[0.5,\"#f7f7f7\"],[0.6,\"#e6f5d0\"],[0.7,\"#b8e186\"],[0.8,\"#7fbc41\"],[0.9,\"#4d9221\"],[1,\"#276419\"]],\"sequential\":[[0.0,\"#0d0887\"],[0.1111111111111111,\"#46039f\"],[0.2222222222222222,\"#7201a8\"],[0.3333333333333333,\"#9c179e\"],[0.4444444444444444,\"#bd3786\"],[0.5555555555555556,\"#d8576b\"],[0.6666666666666666,\"#ed7953\"],[0.7777777777777778,\"#fb9f3a\"],[0.8888888888888888,\"#fdca26\"],[1.0,\"#f0f921\"]],\"sequentialminus\":[[0.0,\"#0d0887\"],[0.1111111111111111,\"#46039f\"],[0.2222222222222222,\"#7201a8\"],[0.3333333333333333,\"#9c179e\"],[0.4444444444444444,\"#bd3786\"],[0.5555555555555556,\"#d8576b\"],[0.6666666666666666,\"#ed7953\"],[0.7777777777777778,\"#fb9f3a\"],[0.8888888888888888,\"#fdca26\"],[1.0,\"#f0f921\"]]},\"colorway\":[\"#636efa\",\"#EF553B\",\"#00cc96\",\"#ab63fa\",\"#FFA15A\",\"#19d3f3\",\"#FF6692\",\"#B6E880\",\"#FF97FF\",\"#FECB52\"],\"font\":{\"color\":\"#2a3f5f\"},\"geo\":{\"bgcolor\":\"white\",\"lakecolor\":\"white\",\"landcolor\":\"#E5ECF6\",\"showlakes\":true,\"showland\":true,\"subunitcolor\":\"white\"},\"hoverlabel\":{\"align\":\"left\"},\"hovermode\":\"closest\",\"mapbox\":{\"style\":\"light\"},\"paper_bgcolor\":\"white\",\"plot_bgcolor\":\"#E5ECF6\",\"polar\":{\"angularaxis\":{\"gridcolor\":\"white\",\"linecolor\":\"white\",\"ticks\":\"\"},\"bgcolor\":\"#E5ECF6\",\"radialaxis\":{\"gridcolor\":\"white\",\"linecolor\":\"white\",\"ticks\":\"\"}},\"scene\":{\"xaxis\":{\"backgroundcolor\":\"#E5ECF6\",\"gridcolor\":\"white\",\"gridwidth\":2,\"linecolor\":\"white\",\"showbackground\":true,\"ticks\":\"\",\"zerolinecolor\":\"white\"},\"yaxis\":{\"backgroundcolor\":\"#E5ECF6\",\"gridcolor\":\"white\",\"gridwidth\":2,\"linecolor\":\"white\",\"showbackground\":true,\"ticks\":\"\",\"zerolinecolor\":\"white\"},\"zaxis\":{\"backgroundcolor\":\"#E5ECF6\",\"gridcolor\":\"white\",\"gridwidth\":2,\"linecolor\":\"white\",\"showbackground\":true,\"ticks\":\"\",\"zerolinecolor\":\"white\"}},\"shapedefaults\":{\"line\":{\"color\":\"#2a3f5f\"}},\"ternary\":{\"aaxis\":{\"gridcolor\":\"white\",\"linecolor\":\"white\",\"ticks\":\"\"},\"baxis\":{\"gridcolor\":\"white\",\"linecolor\":\"white\",\"ticks\":\"\"},\"bgcolor\":\"#E5ECF6\",\"caxis\":{\"gridcolor\":\"white\",\"linecolor\":\"white\",\"ticks\":\"\"}},\"title\":{\"x\":0.05},\"xaxis\":{\"automargin\":true,\"gridcolor\":\"white\",\"linecolor\":\"white\",\"ticks\":\"\",\"title\":{\"standoff\":15},\"zerolinecolor\":\"white\",\"zerolinewidth\":2},\"yaxis\":{\"automargin\":true,\"gridcolor\":\"white\",\"linecolor\":\"white\",\"ticks\":\"\",\"title\":{\"standoff\":15},\"zerolinecolor\":\"white\",\"zerolinewidth\":2}}},\"xaxis\":{\"anchor\":\"y\",\"domain\":[0.0,1.0],\"title\":{\"text\":\"metric\"}},\"yaxis\":{\"anchor\":\"x\",\"domain\":[0.0,1.0],\"title\":{\"text\":\"percent\"}},\"legend\":{\"title\":{\"text\":\"label\"},\"tracegroupgap\":0},\"title\":{\"text\":\"Logistic Regression Accuracy/Jaccard for Train/Test Data (First Try)\"},\"barmode\":\"group\"},                        {\"responsive\": true}                    ).then(function(){\n",
              "                            \n",
              "var gd = document.getElementById('5d59eec6-2bfd-46c8-92a5-e9904dc89376');\n",
              "var x = new MutationObserver(function (mutations, observer) {{\n",
              "        var display = window.getComputedStyle(gd).display;\n",
              "        if (!display || display === 'none') {{\n",
              "            console.log([gd, 'removed!']);\n",
              "            Plotly.purge(gd);\n",
              "            observer.disconnect();\n",
              "        }}\n",
              "}});\n",
              "\n",
              "// Listen for the removal of the full notebook cells\n",
              "var notebookContainer = gd.closest('#notebook-container');\n",
              "if (notebookContainer) {{\n",
              "    x.observe(notebookContainer, {childList: true});\n",
              "}}\n",
              "\n",
              "// Listen for the clearing of the current output cell\n",
              "var outputEl = gd.closest('.output');\n",
              "if (outputEl) {{\n",
              "    x.observe(outputEl, {childList: true});\n",
              "}}\n",
              "\n",
              "                        })                };                            </script>        </div>\n",
              "</body>\n",
              "</html>"
            ]
          },
          "metadata": {}
        }
      ]
    },
    {
      "cell_type": "code",
      "source": [
        "from sklearn.metrics import classification_report, confusion_matrix\n",
        "import matplotlib.pyplot as plt\n",
        "\n",
        "print(\"Train set Accuracy: %\", round( 100* metrics.accuracy_score(y_train, lr_clf.predict(X_train))))\n",
        "print(\"Test set Accuracy: %\", round( 100* metrics.accuracy_score(y_test, lr_yhat)))\n",
        "print('')\n",
        "print (classification_report(y_test, lr_yhat))"
      ],
      "metadata": {
        "colab": {
          "base_uri": "https://localhost:8080/"
        },
        "id": "1ctruoR2bVHM",
        "outputId": "43b70c2b-2ccd-4b1a-fd88-5dfb6f165af9"
      },
      "execution_count": null,
      "outputs": [
        {
          "output_type": "stream",
          "name": "stdout",
          "text": [
            "Train set Accuracy: % 49\n",
            "Test set Accuracy: % 45\n",
            "\n",
            "              precision    recall  f1-score   support\n",
            "\n",
            "           1       0.51      0.50      0.50      1243\n",
            "           2       0.49      0.49      0.49      1234\n",
            "           3       0.42      0.47      0.44      1235\n",
            "           4       0.40      0.37      0.38      1287\n",
            "\n",
            "    accuracy                           0.45      4999\n",
            "   macro avg       0.45      0.45      0.45      4999\n",
            "weighted avg       0.45      0.45      0.45      4999\n",
            "\n"
          ]
        }
      ]
    },
    {
      "cell_type": "code",
      "source": [
        "lr_cnf_matrix = confusion_matrix(y_test, lr_yhat)\n",
        "np.set_printoptions(precision=2)\n",
        "\n",
        "labels = [1,2,3,4]\n",
        "\n",
        "plt.figure(figsize=(5,5))\n",
        "plot_confusion_matrix(lr_cnf_matrix, classes=labels ,normalize= False,  title='Logistic Regression Confusion Matrix')"
      ],
      "metadata": {
        "colab": {
          "base_uri": "https://localhost:8080/",
          "height": 386
        },
        "id": "46pUsR9zbVDS",
        "outputId": "bd4a24e0-5cff-4381-ad84-caeea3e2a46a"
      },
      "execution_count": null,
      "outputs": [
        {
          "output_type": "stream",
          "name": "stdout",
          "text": [
            "Confusion matrix, without normalization\n"
          ]
        },
        {
          "output_type": "display_data",
          "data": {
            "text/plain": [
              "<Figure size 360x360 with 2 Axes>"
            ],
            "image/png": "[encoded data removed]"
          },
          "metadata": {
            "needs_background": "light"
          }
        }
      ]
    },
    {
      "cell_type": "code",
      "source": [
        "from sklearn.metrics import confusion_matrix\n",
        "confusion_matrix(y_test, lr_yhat)"
      ],
      "metadata": {
        "colab": {
          "base_uri": "https://localhost:8080/"
        },
        "id": "EaLjK_YZbUzF",
        "outputId": "e138aa41-3723-44ce-fd78-5508d2c22808"
      },
      "execution_count": null,
      "outputs": [
        {
          "output_type": "execute_result",
          "data": {
            "text/plain": [
              "array([[616, 235, 181, 211],\n",
              "       [263, 601, 191, 179],\n",
              "       [121, 206, 577, 331],\n",
              "       [204, 192, 417, 474]])"
            ]
          },
          "metadata": {},
          "execution_count": 62
        }
      ]
    },
    {
      "cell_type": "code",
      "source": [
        "import seaborn as sn\n",
        "import matplotlib.pyplot as plt\n",
        "confusion_matrix = pd.crosstab(y_test, lr_yhat, rownames=['Actual'], colnames=['Predicted'])\n",
        "\n",
        "sn.heatmap(confusion_matrix, annot=True,cmap='Blues' , fmt='')\n",
        "plt.show()"
      ],
      "metadata": {
        "colab": {
          "base_uri": "https://localhost:8080/",
          "height": 279
        },
        "id": "MUSI2gcNc1mB",
        "outputId": "bef09f86-c471-440c-b690-a9ab486f67cb"
      },
      "execution_count": null,
      "outputs": [
        {
          "output_type": "display_data",
          "data": {
            "text/plain": [
              "<Figure size 432x288 with 2 Axes>"
            ],
            "image/png": "[encoded data removed]"
          },
          "metadata": {
            "needs_background": "light"
          }
        }
      ]
    },
    {
      "cell_type": "markdown",
      "source": [
        "## cross validation"
      ],
      "metadata": {
        "id": "rBW1Pl9HbK23"
      }
    },
    {
      "cell_type": "code",
      "source": [
        "from sklearn.model_selection import cross_validate\n",
        "from sklearn import preprocessing\n",
        "\n",
        "\n",
        "scores = ['f1_weighted', 'precision_weighted', 'recall_weighted','accuracy']\n",
        "\n",
        "lr_clf = make_pipeline(preprocessing.StandardScaler(), LogisticRegression(solver='liblinear', class_weight='balanced' , C = 0.1))\n",
        "# cross_validate(lr_clf, X, Y, cv=5, scoring=scores)\n",
        "\n",
        "lr_avg_f1_weighted  = cross_validate(lr_clf, X, y, cv=5, scoring=scores)['test_f1_weighted'].mean()*100\n",
        "lr_avg_prc_weighted = cross_validate(lr_clf, X, y, cv=5, scoring=scores)['test_precision_weighted'].mean()*100\n",
        "lr_avg_rec_weighted = cross_validate(lr_clf, X, y, cv=5, scoring=scores)['test_recall_weighted'].mean()*100\n",
        "lr_avg_acc          = cross_validate(lr_clf, X, y, cv=5, scoring=scores)['test_accuracy'].mean()*100"
      ],
      "metadata": {
        "id": "OHm5s66ksVk-"
      },
      "execution_count": null,
      "outputs": []
    },
    {
      "cell_type": "code",
      "source": [
        "# cross validation\n",
        "from sklearn.model_selection import cross_val_score\n",
        "scores = cross_val_score(lr_clf, X,y, cv=5, scoring='accuracy')\n",
        "print(scores)\n",
        "print('accuracy cross validation logistic regresion :',scores.mean())"
      ],
      "metadata": {
        "colab": {
          "base_uri": "https://localhost:8080/"
        },
        "id": "_aaRevfXa_Lx",
        "outputId": "9a5557d0-1143-45d7-b3ef-fc8f2c895776"
      },
      "execution_count": null,
      "outputs": [
        {
          "output_type": "stream",
          "name": "stdout",
          "text": [
            "[0.89 0.89 0.88 0.87 0.88]\n",
            "accuracy cross validation logistic regresion : 0.8810533034095727\n"
          ]
        }
      ]
    },
    {
      "cell_type": "markdown",
      "source": [
        "# svm"
      ],
      "metadata": {
        "id": "Q9MxG3XoiIFf"
      }
    },
    {
      "cell_type": "code",
      "source": [
        "from sklearn import svm\n",
        "svm_clf = make_pipeline(StandardScaler(), svm.SVC(kernel='rbf',C=10))\n",
        "svm_clf.fit(X_train,y_train)\n",
        "svm_yhat = svm_clf.predict(X_test)"
      ],
      "metadata": {
        "id": "Hu9xth1BeT49"
      },
      "execution_count": null,
      "outputs": []
    },
    {
      "cell_type": "code",
      "source": [
        "svm_acc_train = round( metrics.accuracy_score(y_train, svm_clf.predict(X_train))*100 ,2)\n",
        "svm_acc_test = round( metrics.accuracy_score(y_test, svm_yhat)*100 ,2)\n",
        "svm_jac_train = round( metrics.jaccard_score(y_train, svm_clf.predict(X_train),average='weighted')*100 ,2)\n",
        "svm_jac_test = round( metrics.jaccard_score(y_test, svm_yhat,average='weighted')*100 ,2)\n",
        "\n",
        "svm_df1 = pd.DataFrame({'percent':[svm_acc_train,svm_acc_test,svm_jac_train,svm_jac_test],\n",
        "                       'label' : ['train' , 'test' , 'train' , 'test'],\n",
        "                       'metric': ['Accuracy' , 'Accuracy' , 'Weighted Jaccard Score' , 'Weighted Jaccard Score']})\n",
        "\n",
        "\n",
        "fig = px.bar(svm_df1 , x='metric' , y='percent' , color='label' ,\n",
        "             title='SVM Accuracy/Jaccard for Train/Test Data (First Try)' ,\n",
        "             text=\"percent\", barmode=\"group\")\n",
        "fig.show()"
      ],
      "metadata": {
        "colab": {
          "base_uri": "https://localhost:8080/",
          "height": 542
        },
        "id": "WAfC1f7liVVl",
        "outputId": "328edb68-dd85-4dfb-a1e2-8e3b3dee948c"
      },
      "execution_count": null,
      "outputs": [
        {
          "output_type": "display_data",
          "data": {
            "text/html": [
              "<html>\n",
              "<head><meta charset=\"utf-8\" /></head>\n",
              "<body>\n",
              "    <div>            <script src=\"https://cdnjs.cloudflare.com/ajax/libs/mathjax/2.7.5/MathJax.js?config=TeX-AMS-MML_SVG\"></script><script type=\"text/javascript\">if (window.MathJax) {MathJax.Hub.Config({SVG: {font: \"STIX-Web\"}});}</script>                <script type=\"text/javascript\">window.PlotlyConfig = {MathJaxConfig: 'local'};</script>\n",
              "        <script src=\"https://cdn.plot.ly/plotly-2.8.3.min.js\"></script>                <div id=\"e5a9d165-ff2a-4a81-9d18-4e4d2c66a18c\" class=\"plotly-graph-div\" style=\"height:525px; width:100%;\"></div>            <script type=\"text/javascript\">                                    window.PLOTLYENV=window.PLOTLYENV || {};                                    if (document.getElementById(\"e5a9d165-ff2a-4a81-9d18-4e4d2c66a18c\")) {                    Plotly.newPlot(                        \"e5a9d165-ff2a-4a81-9d18-4e4d2c66a18c\",                        [{\"alignmentgroup\":\"True\",\"hovertemplate\":\"label=train<br>metric=%{x}<br>percent=%{text}<extra></extra>\",\"legendgroup\":\"train\",\"marker\":{\"color\":\"#636efa\",\"pattern\":{\"shape\":\"\"}},\"name\":\"train\",\"offsetgroup\":\"train\",\"orientation\":\"v\",\"showlegend\":true,\"text\":[69.68,53.9],\"textposition\":\"auto\",\"x\":[\"Accuracy\",\"Weighted Jaccard Score\"],\"xaxis\":\"x\",\"y\":[69.68,53.9],\"yaxis\":\"y\",\"type\":\"bar\"},{\"alignmentgroup\":\"True\",\"hovertemplate\":\"label=test<br>metric=%{x}<br>percent=%{text}<extra></extra>\",\"legendgroup\":\"test\",\"marker\":{\"color\":\"#EF553B\",\"pattern\":{\"shape\":\"\"}},\"name\":\"test\",\"offsetgroup\":\"test\",\"orientation\":\"v\",\"showlegend\":true,\"text\":[49.47,33.04],\"textposition\":\"auto\",\"x\":[\"Accuracy\",\"Weighted Jaccard Score\"],\"xaxis\":\"x\",\"y\":[49.47,33.04],\"yaxis\":\"y\",\"type\":\"bar\"}],                        {\"template\":{\"data\":{\"bar\":[{\"error_x\":{\"color\":\"#2a3f5f\"},\"error_y\":{\"color\":\"#2a3f5f\"},\"marker\":{\"line\":{\"color\":\"#E5ECF6\",\"width\":0.5},\"pattern\":{\"fillmode\":\"overlay\",\"size\":10,\"solidity\":0.2}},\"type\":\"bar\"}],\"barpolar\":[{\"marker\":{\"line\":{\"color\":\"#E5ECF6\",\"width\":0.5},\"pattern\":{\"fillmode\":\"overlay\",\"size\":10,\"solidity\":0.2}},\"type\":\"barpolar\"}],\"carpet\":[{\"aaxis\":{\"endlinecolor\":\"#2a3f5f\",\"gridcolor\":\"white\",\"linecolor\":\"white\",\"minorgridcolor\":\"white\",\"startlinecolor\":\"#2a3f5f\"},\"baxis\":{\"endlinecolor\":\"#2a3f5f\",\"gridcolor\":\"white\",\"linecolor\":\"white\",\"minorgridcolor\":\"white\",\"startlinecolor\":\"#2a3f5f\"},\"type\":\"carpet\"}],\"choropleth\":[{\"colorbar\":{\"outlinewidth\":0,\"ticks\":\"\"},\"type\":\"choropleth\"}],\"contour\":[{\"colorbar\":{\"outlinewidth\":0,\"ticks\":\"\"},\"colorscale\":[[0.0,\"#0d0887\"],[0.1111111111111111,\"#46039f\"],[0.2222222222222222,\"#7201a8\"],[0.3333333333333333,\"#9c179e\"],[0.4444444444444444,\"#bd3786\"],[0.5555555555555556,\"#d8576b\"],[0.6666666666666666,\"#ed7953\"],[0.7777777777777778,\"#fb9f3a\"],[0.8888888888888888,\"#fdca26\"],[1.0,\"#f0f921\"]],\"type\":\"contour\"}],\"contourcarpet\":[{\"colorbar\":{\"outlinewidth\":0,\"ticks\":\"\"},\"type\":\"contourcarpet\"}],\"heatmap\":[{\"colorbar\":{\"outlinewidth\":0,\"ticks\":\"\"},\"colorscale\":[[0.0,\"#0d0887\"],[0.1111111111111111,\"#46039f\"],[0.2222222222222222,\"#7201a8\"],[0.3333333333333333,\"#9c179e\"],[0.4444444444444444,\"#bd3786\"],[0.5555555555555556,\"#d8576b\"],[0.6666666666666666,\"#ed7953\"],[0.7777777777777778,\"#fb9f3a\"],[0.8888888888888888,\"#fdca26\"],[1.0,\"#f0f921\"]],\"type\":\"heatmap\"}],\"heatmapgl\":[{\"colorbar\":{\"outlinewidth\":0,\"ticks\":\"\"},\"colorscale\":[[0.0,\"#0d0887\"],[0.1111111111111111,\"#46039f\"],[0.2222222222222222,\"#7201a8\"],[0.3333333333333333,\"#9c179e\"],[0.4444444444444444,\"#bd3786\"],[0.5555555555555556,\"#d8576b\"],[0.6666666666666666,\"#ed7953\"],[0.7777777777777778,\"#fb9f3a\"],[0.8888888888888888,\"#fdca26\"],[1.0,\"#f0f921\"]],\"type\":\"heatmapgl\"}],\"histogram\":[{\"marker\":{\"pattern\":{\"fillmode\":\"overlay\",\"size\":10,\"solidity\":0.2}},\"type\":\"histogram\"}],\"histogram2d\":[{\"colorbar\":{\"outlinewidth\":0,\"ticks\":\"\"},\"colorscale\":[[0.0,\"#0d0887\"],[0.1111111111111111,\"#46039f\"],[0.2222222222222222,\"#7201a8\"],[0.3333333333333333,\"#9c179e\"],[0.4444444444444444,\"#bd3786\"],[0.5555555555555556,\"#d8576b\"],[0.6666666666666666,\"#ed7953\"],[0.7777777777777778,\"#fb9f3a\"],[0.8888888888888888,\"#fdca26\"],[1.0,\"#f0f921\"]],\"type\":\"histogram2d\"}],\"histogram2dcontour\":[{\"colorbar\":{\"outlinewidth\":0,\"ticks\":\"\"},\"colorscale\":[[0.0,\"#0d0887\"],[0.1111111111111111,\"#46039f\"],[0.2222222222222222,\"#7201a8\"],[0.3333333333333333,\"#9c179e\"],[0.4444444444444444,\"#bd3786\"],[0.5555555555555556,\"#d8576b\"],[0.6666666666666666,\"#ed7953\"],[0.7777777777777778,\"#fb9f3a\"],[0.8888888888888888,\"#fdca26\"],[1.0,\"#f0f921\"]],\"type\":\"histogram2dcontour\"}],\"mesh3d\":[{\"colorbar\":{\"outlinewidth\":0,\"ticks\":\"\"},\"type\":\"mesh3d\"}],\"parcoords\":[{\"line\":{\"colorbar\":{\"outlinewidth\":0,\"ticks\":\"\"}},\"type\":\"parcoords\"}],\"pie\":[{\"automargin\":true,\"type\":\"pie\"}],\"scatter\":[{\"marker\":{\"colorbar\":{\"outlinewidth\":0,\"ticks\":\"\"}},\"type\":\"scatter\"}],\"scatter3d\":[{\"line\":{\"colorbar\":{\"outlinewidth\":0,\"ticks\":\"\"}},\"marker\":{\"colorbar\":{\"outlinewidth\":0,\"ticks\":\"\"}},\"type\":\"scatter3d\"}],\"scattercarpet\":[{\"marker\":{\"colorbar\":{\"outlinewidth\":0,\"ticks\":\"\"}},\"type\":\"scattercarpet\"}],\"scattergeo\":[{\"marker\":{\"colorbar\":{\"outlinewidth\":0,\"ticks\":\"\"}},\"type\":\"scattergeo\"}],\"scattergl\":[{\"marker\":{\"colorbar\":{\"outlinewidth\":0,\"ticks\":\"\"}},\"type\":\"scattergl\"}],\"scattermapbox\":[{\"marker\":{\"colorbar\":{\"outlinewidth\":0,\"ticks\":\"\"}},\"type\":\"scattermapbox\"}],\"scatterpolar\":[{\"marker\":{\"colorbar\":{\"outlinewidth\":0,\"ticks\":\"\"}},\"type\":\"scatterpolar\"}],\"scatterpolargl\":[{\"marker\":{\"colorbar\":{\"outlinewidth\":0,\"ticks\":\"\"}},\"type\":\"scatterpolargl\"}],\"scatterternary\":[{\"marker\":{\"colorbar\":{\"outlinewidth\":0,\"ticks\":\"\"}},\"type\":\"scatterternary\"}],\"surface\":[{\"colorbar\":{\"outlinewidth\":0,\"ticks\":\"\"},\"colorscale\":[[0.0,\"#0d0887\"],[0.1111111111111111,\"#46039f\"],[0.2222222222222222,\"#7201a8\"],[0.3333333333333333,\"#9c179e\"],[0.4444444444444444,\"#bd3786\"],[0.5555555555555556,\"#d8576b\"],[0.6666666666666666,\"#ed7953\"],[0.7777777777777778,\"#fb9f3a\"],[0.8888888888888888,\"#fdca26\"],[1.0,\"#f0f921\"]],\"type\":\"surface\"}],\"table\":[{\"cells\":{\"fill\":{\"color\":\"#EBF0F8\"},\"line\":{\"color\":\"white\"}},\"header\":{\"fill\":{\"color\":\"#C8D4E3\"},\"line\":{\"color\":\"white\"}},\"type\":\"table\"}]},\"layout\":{\"annotationdefaults\":{\"arrowcolor\":\"#2a3f5f\",\"arrowhead\":0,\"arrowwidth\":1},\"autotypenumbers\":\"strict\",\"coloraxis\":{\"colorbar\":{\"outlinewidth\":0,\"ticks\":\"\"}},\"colorscale\":{\"diverging\":[[0,\"#8e0152\"],[0.1,\"#c51b7d\"],[0.2,\"#de77ae\"],[0.3,\"#f1b6da\"],[0.4,\"#fde0ef\"],[0.5,\"#f7f7f7\"],[0.6,\"#e6f5d0\"],[0.7,\"#b8e186\"],[0.8,\"#7fbc41\"],[0.9,\"#4d9221\"],[1,\"#276419\"]],\"sequential\":[[0.0,\"#0d0887\"],[0.1111111111111111,\"#46039f\"],[0.2222222222222222,\"#7201a8\"],[0.3333333333333333,\"#9c179e\"],[0.4444444444444444,\"#bd3786\"],[0.5555555555555556,\"#d8576b\"],[0.6666666666666666,\"#ed7953\"],[0.7777777777777778,\"#fb9f3a\"],[0.8888888888888888,\"#fdca26\"],[1.0,\"#f0f921\"]],\"sequentialminus\":[[0.0,\"#0d0887\"],[0.1111111111111111,\"#46039f\"],[0.2222222222222222,\"#7201a8\"],[0.3333333333333333,\"#9c179e\"],[0.4444444444444444,\"#bd3786\"],[0.5555555555555556,\"#d8576b\"],[0.6666666666666666,\"#ed7953\"],[0.7777777777777778,\"#fb9f3a\"],[0.8888888888888888,\"#fdca26\"],[1.0,\"#f0f921\"]]},\"colorway\":[\"#636efa\",\"#EF553B\",\"#00cc96\",\"#ab63fa\",\"#FFA15A\",\"#19d3f3\",\"#FF6692\",\"#B6E880\",\"#FF97FF\",\"#FECB52\"],\"font\":{\"color\":\"#2a3f5f\"},\"geo\":{\"bgcolor\":\"white\",\"lakecolor\":\"white\",\"landcolor\":\"#E5ECF6\",\"showlakes\":true,\"showland\":true,\"subunitcolor\":\"white\"},\"hoverlabel\":{\"align\":\"left\"},\"hovermode\":\"closest\",\"mapbox\":{\"style\":\"light\"},\"paper_bgcolor\":\"white\",\"plot_bgcolor\":\"#E5ECF6\",\"polar\":{\"angularaxis\":{\"gridcolor\":\"white\",\"linecolor\":\"white\",\"ticks\":\"\"},\"bgcolor\":\"#E5ECF6\",\"radialaxis\":{\"gridcolor\":\"white\",\"linecolor\":\"white\",\"ticks\":\"\"}},\"scene\":{\"xaxis\":{\"backgroundcolor\":\"#E5ECF6\",\"gridcolor\":\"white\",\"gridwidth\":2,\"linecolor\":\"white\",\"showbackground\":true,\"ticks\":\"\",\"zerolinecolor\":\"white\"},\"yaxis\":{\"backgroundcolor\":\"#E5ECF6\",\"gridcolor\":\"white\",\"gridwidth\":2,\"linecolor\":\"white\",\"showbackground\":true,\"ticks\":\"\",\"zerolinecolor\":\"white\"},\"zaxis\":{\"backgroundcolor\":\"#E5ECF6\",\"gridcolor\":\"white\",\"gridwidth\":2,\"linecolor\":\"white\",\"showbackground\":true,\"ticks\":\"\",\"zerolinecolor\":\"white\"}},\"shapedefaults\":{\"line\":{\"color\":\"#2a3f5f\"}},\"ternary\":{\"aaxis\":{\"gridcolor\":\"white\",\"linecolor\":\"white\",\"ticks\":\"\"},\"baxis\":{\"gridcolor\":\"white\",\"linecolor\":\"white\",\"ticks\":\"\"},\"bgcolor\":\"#E5ECF6\",\"caxis\":{\"gridcolor\":\"white\",\"linecolor\":\"white\",\"ticks\":\"\"}},\"title\":{\"x\":0.05},\"xaxis\":{\"automargin\":true,\"gridcolor\":\"white\",\"linecolor\":\"white\",\"ticks\":\"\",\"title\":{\"standoff\":15},\"zerolinecolor\":\"white\",\"zerolinewidth\":2},\"yaxis\":{\"automargin\":true,\"gridcolor\":\"white\",\"linecolor\":\"white\",\"ticks\":\"\",\"title\":{\"standoff\":15},\"zerolinecolor\":\"white\",\"zerolinewidth\":2}}},\"xaxis\":{\"anchor\":\"y\",\"domain\":[0.0,1.0],\"title\":{\"text\":\"metric\"}},\"yaxis\":{\"anchor\":\"x\",\"domain\":[0.0,1.0],\"title\":{\"text\":\"percent\"}},\"legend\":{\"title\":{\"text\":\"label\"},\"tracegroupgap\":0},\"title\":{\"text\":\"SVM Accuracy/Jaccard for Train/Test Data (First Try)\"},\"barmode\":\"group\"},                        {\"responsive\": true}                    ).then(function(){\n",
              "                            \n",
              "var gd = document.getElementById('e5a9d165-ff2a-4a81-9d18-4e4d2c66a18c');\n",
              "var x = new MutationObserver(function (mutations, observer) {{\n",
              "        var display = window.getComputedStyle(gd).display;\n",
              "        if (!display || display === 'none') {{\n",
              "            console.log([gd, 'removed!']);\n",
              "            Plotly.purge(gd);\n",
              "            observer.disconnect();\n",
              "        }}\n",
              "}});\n",
              "\n",
              "// Listen for the removal of the full notebook cells\n",
              "var notebookContainer = gd.closest('#notebook-container');\n",
              "if (notebookContainer) {{\n",
              "    x.observe(notebookContainer, {childList: true});\n",
              "}}\n",
              "\n",
              "// Listen for the clearing of the current output cell\n",
              "var outputEl = gd.closest('.output');\n",
              "if (outputEl) {{\n",
              "    x.observe(outputEl, {childList: true});\n",
              "}}\n",
              "\n",
              "                        })                };                            </script>        </div>\n",
              "</body>\n",
              "</html>"
            ]
          },
          "metadata": {}
        }
      ]
    },
    {
      "cell_type": "code",
      "source": [
        "print(\"Train set Accuracy: %\", round( 100* metrics.accuracy_score(y_train, svm_clf.predict(X_train))))\n",
        "print(\"Test set Accuracy: %\", round( 100* metrics.accuracy_score(y_test, svm_yhat))) \n",
        "print('')\n",
        "print (classification_report(y_test, svm_yhat))"
      ],
      "metadata": {
        "colab": {
          "base_uri": "https://localhost:8080/"
        },
        "id": "acmEmTm_j8Wp",
        "outputId": "e5af9934-d2d5-4f37-8fcd-8c6ab42b6ce5"
      },
      "execution_count": null,
      "outputs": [
        {
          "output_type": "stream",
          "name": "stdout",
          "text": [
            "Train set Accuracy: % 70\n",
            "Test set Accuracy: % 49\n",
            "\n",
            "              precision    recall  f1-score   support\n",
            "\n",
            "           1       0.55      0.52      0.53      1243\n",
            "           2       0.55      0.49      0.52      1234\n",
            "           3       0.47      0.46      0.46      1235\n",
            "           4       0.43      0.51      0.47      1287\n",
            "\n",
            "    accuracy                           0.49      4999\n",
            "   macro avg       0.50      0.49      0.50      4999\n",
            "weighted avg       0.50      0.49      0.50      4999\n",
            "\n"
          ]
        }
      ]
    },
    {
      "cell_type": "code",
      "source": [
        "from sklearn.metrics import confusion_matrix\n",
        "svm_cnf_matrix = confusion_matrix(y_test, svm_yhat)\n",
        "np.set_printoptions(precision=2)\n",
        "\n",
        "labels = [1,2,3,4]\n",
        "\n",
        "plt.figure(figsize=(5,5))\n",
        "plot_confusion_matrix(svm_cnf_matrix, classes=labels ,normalize= False,  title='SVM Confusion Matrix')"
      ],
      "metadata": {
        "colab": {
          "base_uri": "https://localhost:8080/",
          "height": 386
        },
        "id": "r-kjeJfzlE3o",
        "outputId": "bad5bd0a-d200-48a2-f23d-bde5a4699e9f"
      },
      "execution_count": null,
      "outputs": [
        {
          "output_type": "stream",
          "name": "stdout",
          "text": [
            "Confusion matrix, without normalization\n"
          ]
        },
        {
          "output_type": "display_data",
          "data": {
            "text/plain": [
              "<Figure size 360x360 with 2 Axes>"
            ],
            "image/png": "[encoded data removed]"
          },
          "metadata": {
            "needs_background": "light"
          }
        }
      ]
    },
    {
      "cell_type": "code",
      "source": [
        "import seaborn as sn\n",
        "import matplotlib.pyplot as plt\n",
        "confusion_matrix = pd.crosstab(y_test, svm_yhat, rownames=['Actual'], colnames=['Predicted'])\n",
        "\n",
        "sn.heatmap(confusion_matrix, annot=True,cmap='Blues' , fmt='')\n",
        "plt.show()"
      ],
      "metadata": {
        "colab": {
          "base_uri": "https://localhost:8080/",
          "height": 279
        },
        "id": "ZuVxhOKyrxSD",
        "outputId": "8f617490-8e07-43af-bdf8-1b316dc5fda4"
      },
      "execution_count": null,
      "outputs": [
        {
          "output_type": "display_data",
          "data": {
            "text/plain": [
              "<Figure size 432x288 with 2 Axes>"
            ],
            "image/png": "[encoded data removed]"
          },
          "metadata": {
            "needs_background": "light"
          }
        }
      ]
    },
    {
      "cell_type": "code",
      "source": [
        "from sklearn.model_selection import cross_validate\n",
        "from sklearn import preprocessing\n",
        "\n",
        "svm_clf = make_pipeline(preprocessing.StandardScaler(), svm.SVC(kernel='rbf',C=10))\n",
        "# cross_validate(svm_clf, X, Y, cv=5, scoring=scores)\n",
        "\n",
        "svm_avg_f1_weighted  = cross_validate(svm_clf, X, y, cv=5, scoring=scores)['test_f1_weighted'].mean()*100\n",
        "svm_avg_prc_weighted = cross_validate(svm_clf, X, y, cv=5, scoring=scores)['test_precision_weighted'].mean()*100\n",
        "svm_avg_rec_weighted = cross_validate(svm_clf, X, y, cv=5, scoring=scores)['test_recall_weighted'].mean()*100\n",
        "svm_avg_acc          = cross_validate(svm_clf, X, y, cv=5, scoring=scores)['test_accuracy'].mean()*100"
      ],
      "metadata": {
        "id": "2Zdi6sQksItR"
      },
      "execution_count": null,
      "outputs": []
    },
    {
      "cell_type": "markdown",
      "source": [
        "## K_nn"
      ],
      "metadata": {
        "id": "HTukMN5StRLN"
      }
    },
    {
      "cell_type": "code",
      "source": [
        "from sklearn.neighbors import KNeighborsClassifier\n",
        "\n",
        "\n",
        "Ks = 51\n",
        "mean_acc = np.zeros((Ks-1))\n",
        "mean_rec = np.zeros((Ks-1)) \n",
        "std_acc = np.zeros((Ks-1))\n",
        "\n",
        "for n in range(1,Ks):\n",
        "    \n",
        "    #Train Model and Predict  \n",
        "    neigh = make_pipeline(preprocessing.StandardScaler(), KNeighborsClassifier(n_neighbors = n)).fit(X_train,y_train)\n",
        "    knn_yhat=neigh.predict(X_test)\n",
        "    mean_acc[n-1] = metrics.accuracy_score(y_test, knn_yhat)\n",
        "    std_acc[n-1]=np.std(knn_yhat==y_test)/np.sqrt(knn_yhat.shape[0])\n",
        "\n",
        "mean_acc "
      ],
      "metadata": {
        "id": "S_3ufNy5sIZv",
        "colab": {
          "base_uri": "https://localhost:8080/"
        },
        "outputId": "24765c2f-f744-4e23-d49e-abe86fb7be6c"
      },
      "execution_count": null,
      "outputs": [
        {
          "output_type": "execute_result",
          "data": {
            "text/plain": [
              "array([0.39, 0.38, 0.38, 0.4 , 0.41, 0.4 , 0.41, 0.41, 0.41, 0.42, 0.42,\n",
              "       0.42, 0.41, 0.42, 0.42, 0.42, 0.42, 0.42, 0.42, 0.42, 0.42, 0.43,\n",
              "       0.43, 0.42, 0.42, 0.42, 0.42, 0.41, 0.42, 0.42, 0.42, 0.42, 0.42,\n",
              "       0.42, 0.42, 0.42, 0.42, 0.42, 0.42, 0.41, 0.42, 0.42, 0.42, 0.42,\n",
              "       0.42, 0.42, 0.42, 0.42, 0.42, 0.41])"
            ]
          },
          "metadata": {},
          "execution_count": 74
        }
      ]
    },
    {
      "cell_type": "code",
      "source": [
        "plt.plot(range(1,Ks),mean_acc,'g')\n",
        "plt.fill_between(range(1,Ks),mean_acc - 1 * std_acc,mean_acc + 1 * std_acc, alpha=0.10)\n",
        "plt.fill_between(range(1,Ks),mean_acc - 3 * std_acc,mean_acc + 3 * std_acc, alpha=0.10,color=\"green\")\n",
        "plt.legend(('Accuracy ', '+/- 1xstd','+/- 3xstd'))\n",
        "plt.ylabel('Accuracy ')\n",
        "plt.xlabel('Number of Neighbors (K)')\n",
        "plt.tight_layout()\n",
        "plt.show()"
      ],
      "metadata": {
        "id": "63RAGxn9wWRY",
        "colab": {
          "base_uri": "https://localhost:8080/",
          "height": 297
        },
        "outputId": "3bb3dede-aebf-4017-89a1-545c21314d37"
      },
      "execution_count": null,
      "outputs": [
        {
          "output_type": "display_data",
          "data": {
            "text/plain": [
              "<Figure size 432x288 with 1 Axes>"
            ],
            "image/png": "[encoded data removed]"
          },
          "metadata": {
            "needs_background": "light"
          }
        }
      ]
    },
    {
      "cell_type": "code",
      "source": [
        "print( \"The best accuracy was with\", mean_acc.max(), \"with k=\", mean_acc.argmax()+1) "
      ],
      "metadata": {
        "colab": {
          "base_uri": "https://localhost:8080/"
        },
        "id": "dLZy-zaQl0rG",
        "outputId": "89219d7b-8c77-4114-a6a9-1cc59f6f41f3"
      },
      "execution_count": null,
      "outputs": [
        {
          "output_type": "stream",
          "name": "stdout",
          "text": [
            "The best accuracy was with 0.42668533706741346 with k= 22\n"
          ]
        }
      ]
    },
    {
      "cell_type": "code",
      "source": [
        "k = 22\n",
        "knn_clf = make_pipeline(preprocessing.StandardScaler(), KNeighborsClassifier(n_neighbors = k))\n",
        "knn_clf.fit(X_train,y_train)\n",
        "knn_yhat = knn_clf.predict(X_test)\n",
        "knn_yhat[0:5]"
      ],
      "metadata": {
        "colab": {
          "base_uri": "https://localhost:8080/"
        },
        "id": "zEMLtAW6l6Gj",
        "outputId": "c32c29fa-c7de-493d-c608-6b717e4a639d"
      },
      "execution_count": null,
      "outputs": [
        {
          "output_type": "execute_result",
          "data": {
            "text/plain": [
              "array([1, 1, 3, 4, 2])"
            ]
          },
          "metadata": {},
          "execution_count": 77
        }
      ]
    },
    {
      "cell_type": "code",
      "source": [
        "knn_acc_train = round( metrics.accuracy_score(y_train, knn_clf.predict(X_train))*100 ,2)\n",
        "knn_acc_test = round( metrics.accuracy_score(y_test, knn_yhat)*100 ,2)\n",
        "knn_jac_train = round( metrics.jaccard_score(y_train, knn_clf.predict(X_train),average='weighted')*100 ,2)\n",
        "knn_jac_test = round( metrics.jaccard_score(y_test, knn_yhat,average='weighted')*100 ,2)\n",
        "\n",
        "knn_df1 = pd.DataFrame({'percent':[knn_acc_train,knn_acc_test,knn_jac_train,knn_jac_test],\n",
        "                       'label' : ['train' , 'test' , 'train' , 'test'],\n",
        "                       'metric': ['Accuracy' , 'Accuracy' , 'Weighted Jaccard Score' , 'Weighted Jaccard Score']})\n",
        "\n",
        "\n",
        "fig = px.bar(knn_df1 , x='metric' , y='percent' , color='label' ,\n",
        "             title='KNN Accuracy/Jaccard for Train/Test Data (First Try)' ,\n",
        "             text=\"percent\", barmode=\"group\")\n",
        "fig.show()"
      ],
      "metadata": {
        "colab": {
          "base_uri": "https://localhost:8080/",
          "height": 542
        },
        "id": "23mazKNcl6B4",
        "outputId": "6f4e8cad-b436-4716-e2c8-565bb37c0e3a"
      },
      "execution_count": null,
      "outputs": [
        {
          "output_type": "display_data",
          "data": {
            "text/html": [
              "<html>\n",
              "<head><meta charset=\"utf-8\" /></head>\n",
              "<body>\n",
              "    <div>            <script src=\"https://cdnjs.cloudflare.com/ajax/libs/mathjax/2.7.5/MathJax.js?config=TeX-AMS-MML_SVG\"></script><script type=\"text/javascript\">if (window.MathJax) {MathJax.Hub.Config({SVG: {font: \"STIX-Web\"}});}</script>                <script type=\"text/javascript\">window.PlotlyConfig = {MathJaxConfig: 'local'};</script>\n",
              "        <script src=\"https://cdn.plot.ly/plotly-2.8.3.min.js\"></script>                <div id=\"b253f2d4-d59c-47b3-8d89-a1b38203535c\" class=\"plotly-graph-div\" style=\"height:525px; width:100%;\"></div>            <script type=\"text/javascript\">                                    window.PLOTLYENV=window.PLOTLYENV || {};                                    if (document.getElementById(\"b253f2d4-d59c-47b3-8d89-a1b38203535c\")) {                    Plotly.newPlot(                        \"b253f2d4-d59c-47b3-8d89-a1b38203535c\",                        [{\"alignmentgroup\":\"True\",\"hovertemplate\":\"label=train<br>metric=%{x}<br>percent=%{text}<extra></extra>\",\"legendgroup\":\"train\",\"marker\":{\"color\":\"#636efa\",\"pattern\":{\"shape\":\"\"}},\"name\":\"train\",\"offsetgroup\":\"train\",\"orientation\":\"v\",\"showlegend\":true,\"text\":[50.75,34.1],\"textposition\":\"auto\",\"x\":[\"Accuracy\",\"Weighted Jaccard Score\"],\"xaxis\":\"x\",\"y\":[50.75,34.1],\"yaxis\":\"y\",\"type\":\"bar\"},{\"alignmentgroup\":\"True\",\"hovertemplate\":\"label=test<br>metric=%{x}<br>percent=%{text}<extra></extra>\",\"legendgroup\":\"test\",\"marker\":{\"color\":\"#EF553B\",\"pattern\":{\"shape\":\"\"}},\"name\":\"test\",\"offsetgroup\":\"test\",\"orientation\":\"v\",\"showlegend\":true,\"text\":[42.67,27.25],\"textposition\":\"auto\",\"x\":[\"Accuracy\",\"Weighted Jaccard Score\"],\"xaxis\":\"x\",\"y\":[42.67,27.25],\"yaxis\":\"y\",\"type\":\"bar\"}],                        {\"template\":{\"data\":{\"bar\":[{\"error_x\":{\"color\":\"#2a3f5f\"},\"error_y\":{\"color\":\"#2a3f5f\"},\"marker\":{\"line\":{\"color\":\"#E5ECF6\",\"width\":0.5},\"pattern\":{\"fillmode\":\"overlay\",\"size\":10,\"solidity\":0.2}},\"type\":\"bar\"}],\"barpolar\":[{\"marker\":{\"line\":{\"color\":\"#E5ECF6\",\"width\":0.5},\"pattern\":{\"fillmode\":\"overlay\",\"size\":10,\"solidity\":0.2}},\"type\":\"barpolar\"}],\"carpet\":[{\"aaxis\":{\"endlinecolor\":\"#2a3f5f\",\"gridcolor\":\"white\",\"linecolor\":\"white\",\"minorgridcolor\":\"white\",\"startlinecolor\":\"#2a3f5f\"},\"baxis\":{\"endlinecolor\":\"#2a3f5f\",\"gridcolor\":\"white\",\"linecolor\":\"white\",\"minorgridcolor\":\"white\",\"startlinecolor\":\"#2a3f5f\"},\"type\":\"carpet\"}],\"choropleth\":[{\"colorbar\":{\"outlinewidth\":0,\"ticks\":\"\"},\"type\":\"choropleth\"}],\"contour\":[{\"colorbar\":{\"outlinewidth\":0,\"ticks\":\"\"},\"colorscale\":[[0.0,\"#0d0887\"],[0.1111111111111111,\"#46039f\"],[0.2222222222222222,\"#7201a8\"],[0.3333333333333333,\"#9c179e\"],[0.4444444444444444,\"#bd3786\"],[0.5555555555555556,\"#d8576b\"],[0.6666666666666666,\"#ed7953\"],[0.7777777777777778,\"#fb9f3a\"],[0.8888888888888888,\"#fdca26\"],[1.0,\"#f0f921\"]],\"type\":\"contour\"}],\"contourcarpet\":[{\"colorbar\":{\"outlinewidth\":0,\"ticks\":\"\"},\"type\":\"contourcarpet\"}],\"heatmap\":[{\"colorbar\":{\"outlinewidth\":0,\"ticks\":\"\"},\"colorscale\":[[0.0,\"#0d0887\"],[0.1111111111111111,\"#46039f\"],[0.2222222222222222,\"#7201a8\"],[0.3333333333333333,\"#9c179e\"],[0.4444444444444444,\"#bd3786\"],[0.5555555555555556,\"#d8576b\"],[0.6666666666666666,\"#ed7953\"],[0.7777777777777778,\"#fb9f3a\"],[0.8888888888888888,\"#fdca26\"],[1.0,\"#f0f921\"]],\"type\":\"heatmap\"}],\"heatmapgl\":[{\"colorbar\":{\"outlinewidth\":0,\"ticks\":\"\"},\"colorscale\":[[0.0,\"#0d0887\"],[0.1111111111111111,\"#46039f\"],[0.2222222222222222,\"#7201a8\"],[0.3333333333333333,\"#9c179e\"],[0.4444444444444444,\"#bd3786\"],[0.5555555555555556,\"#d8576b\"],[0.6666666666666666,\"#ed7953\"],[0.7777777777777778,\"#fb9f3a\"],[0.8888888888888888,\"#fdca26\"],[1.0,\"#f0f921\"]],\"type\":\"heatmapgl\"}],\"histogram\":[{\"marker\":{\"pattern\":{\"fillmode\":\"overlay\",\"size\":10,\"solidity\":0.2}},\"type\":\"histogram\"}],\"histogram2d\":[{\"colorbar\":{\"outlinewidth\":0,\"ticks\":\"\"},\"colorscale\":[[0.0,\"#0d0887\"],[0.1111111111111111,\"#46039f\"],[0.2222222222222222,\"#7201a8\"],[0.3333333333333333,\"#9c179e\"],[0.4444444444444444,\"#bd3786\"],[0.5555555555555556,\"#d8576b\"],[0.6666666666666666,\"#ed7953\"],[0.7777777777777778,\"#fb9f3a\"],[0.8888888888888888,\"#fdca26\"],[1.0,\"#f0f921\"]],\"type\":\"histogram2d\"}],\"histogram2dcontour\":[{\"colorbar\":{\"outlinewidth\":0,\"ticks\":\"\"},\"colorscale\":[[0.0,\"#0d0887\"],[0.1111111111111111,\"#46039f\"],[0.2222222222222222,\"#7201a8\"],[0.3333333333333333,\"#9c179e\"],[0.4444444444444444,\"#bd3786\"],[0.5555555555555556,\"#d8576b\"],[0.6666666666666666,\"#ed7953\"],[0.7777777777777778,\"#fb9f3a\"],[0.8888888888888888,\"#fdca26\"],[1.0,\"#f0f921\"]],\"type\":\"histogram2dcontour\"}],\"mesh3d\":[{\"colorbar\":{\"outlinewidth\":0,\"ticks\":\"\"},\"type\":\"mesh3d\"}],\"parcoords\":[{\"line\":{\"colorbar\":{\"outlinewidth\":0,\"ticks\":\"\"}},\"type\":\"parcoords\"}],\"pie\":[{\"automargin\":true,\"type\":\"pie\"}],\"scatter\":[{\"marker\":{\"colorbar\":{\"outlinewidth\":0,\"ticks\":\"\"}},\"type\":\"scatter\"}],\"scatter3d\":[{\"line\":{\"colorbar\":{\"outlinewidth\":0,\"ticks\":\"\"}},\"marker\":{\"colorbar\":{\"outlinewidth\":0,\"ticks\":\"\"}},\"type\":\"scatter3d\"}],\"scattercarpet\":[{\"marker\":{\"colorbar\":{\"outlinewidth\":0,\"ticks\":\"\"}},\"type\":\"scattercarpet\"}],\"scattergeo\":[{\"marker\":{\"colorbar\":{\"outlinewidth\":0,\"ticks\":\"\"}},\"type\":\"scattergeo\"}],\"scattergl\":[{\"marker\":{\"colorbar\":{\"outlinewidth\":0,\"ticks\":\"\"}},\"type\":\"scattergl\"}],\"scattermapbox\":[{\"marker\":{\"colorbar\":{\"outlinewidth\":0,\"ticks\":\"\"}},\"type\":\"scattermapbox\"}],\"scatterpolar\":[{\"marker\":{\"colorbar\":{\"outlinewidth\":0,\"ticks\":\"\"}},\"type\":\"scatterpolar\"}],\"scatterpolargl\":[{\"marker\":{\"colorbar\":{\"outlinewidth\":0,\"ticks\":\"\"}},\"type\":\"scatterpolargl\"}],\"scatterternary\":[{\"marker\":{\"colorbar\":{\"outlinewidth\":0,\"ticks\":\"\"}},\"type\":\"scatterternary\"}],\"surface\":[{\"colorbar\":{\"outlinewidth\":0,\"ticks\":\"\"},\"colorscale\":[[0.0,\"#0d0887\"],[0.1111111111111111,\"#46039f\"],[0.2222222222222222,\"#7201a8\"],[0.3333333333333333,\"#9c179e\"],[0.4444444444444444,\"#bd3786\"],[0.5555555555555556,\"#d8576b\"],[0.6666666666666666,\"#ed7953\"],[0.7777777777777778,\"#fb9f3a\"],[0.8888888888888888,\"#fdca26\"],[1.0,\"#f0f921\"]],\"type\":\"surface\"}],\"table\":[{\"cells\":{\"fill\":{\"color\":\"#EBF0F8\"},\"line\":{\"color\":\"white\"}},\"header\":{\"fill\":{\"color\":\"#C8D4E3\"},\"line\":{\"color\":\"white\"}},\"type\":\"table\"}]},\"layout\":{\"annotationdefaults\":{\"arrowcolor\":\"#2a3f5f\",\"arrowhead\":0,\"arrowwidth\":1},\"autotypenumbers\":\"strict\",\"coloraxis\":{\"colorbar\":{\"outlinewidth\":0,\"ticks\":\"\"}},\"colorscale\":{\"diverging\":[[0,\"#8e0152\"],[0.1,\"#c51b7d\"],[0.2,\"#de77ae\"],[0.3,\"#f1b6da\"],[0.4,\"#fde0ef\"],[0.5,\"#f7f7f7\"],[0.6,\"#e6f5d0\"],[0.7,\"#b8e186\"],[0.8,\"#7fbc41\"],[0.9,\"#4d9221\"],[1,\"#276419\"]],\"sequential\":[[0.0,\"#0d0887\"],[0.1111111111111111,\"#46039f\"],[0.2222222222222222,\"#7201a8\"],[0.3333333333333333,\"#9c179e\"],[0.4444444444444444,\"#bd3786\"],[0.5555555555555556,\"#d8576b\"],[0.6666666666666666,\"#ed7953\"],[0.7777777777777778,\"#fb9f3a\"],[0.8888888888888888,\"#fdca26\"],[1.0,\"#f0f921\"]],\"sequentialminus\":[[0.0,\"#0d0887\"],[0.1111111111111111,\"#46039f\"],[0.2222222222222222,\"#7201a8\"],[0.3333333333333333,\"#9c179e\"],[0.4444444444444444,\"#bd3786\"],[0.5555555555555556,\"#d8576b\"],[0.6666666666666666,\"#ed7953\"],[0.7777777777777778,\"#fb9f3a\"],[0.8888888888888888,\"#fdca26\"],[1.0,\"#f0f921\"]]},\"colorway\":[\"#636efa\",\"#EF553B\",\"#00cc96\",\"#ab63fa\",\"#FFA15A\",\"#19d3f3\",\"#FF6692\",\"#B6E880\",\"#FF97FF\",\"#FECB52\"],\"font\":{\"color\":\"#2a3f5f\"},\"geo\":{\"bgcolor\":\"white\",\"lakecolor\":\"white\",\"landcolor\":\"#E5ECF6\",\"showlakes\":true,\"showland\":true,\"subunitcolor\":\"white\"},\"hoverlabel\":{\"align\":\"left\"},\"hovermode\":\"closest\",\"mapbox\":{\"style\":\"light\"},\"paper_bgcolor\":\"white\",\"plot_bgcolor\":\"#E5ECF6\",\"polar\":{\"angularaxis\":{\"gridcolor\":\"white\",\"linecolor\":\"white\",\"ticks\":\"\"},\"bgcolor\":\"#E5ECF6\",\"radialaxis\":{\"gridcolor\":\"white\",\"linecolor\":\"white\",\"ticks\":\"\"}},\"scene\":{\"xaxis\":{\"backgroundcolor\":\"#E5ECF6\",\"gridcolor\":\"white\",\"gridwidth\":2,\"linecolor\":\"white\",\"showbackground\":true,\"ticks\":\"\",\"zerolinecolor\":\"white\"},\"yaxis\":{\"backgroundcolor\":\"#E5ECF6\",\"gridcolor\":\"white\",\"gridwidth\":2,\"linecolor\":\"white\",\"showbackground\":true,\"ticks\":\"\",\"zerolinecolor\":\"white\"},\"zaxis\":{\"backgroundcolor\":\"#E5ECF6\",\"gridcolor\":\"white\",\"gridwidth\":2,\"linecolor\":\"white\",\"showbackground\":true,\"ticks\":\"\",\"zerolinecolor\":\"white\"}},\"shapedefaults\":{\"line\":{\"color\":\"#2a3f5f\"}},\"ternary\":{\"aaxis\":{\"gridcolor\":\"white\",\"linecolor\":\"white\",\"ticks\":\"\"},\"baxis\":{\"gridcolor\":\"white\",\"linecolor\":\"white\",\"ticks\":\"\"},\"bgcolor\":\"#E5ECF6\",\"caxis\":{\"gridcolor\":\"white\",\"linecolor\":\"white\",\"ticks\":\"\"}},\"title\":{\"x\":0.05},\"xaxis\":{\"automargin\":true,\"gridcolor\":\"white\",\"linecolor\":\"white\",\"ticks\":\"\",\"title\":{\"standoff\":15},\"zerolinecolor\":\"white\",\"zerolinewidth\":2},\"yaxis\":{\"automargin\":true,\"gridcolor\":\"white\",\"linecolor\":\"white\",\"ticks\":\"\",\"title\":{\"standoff\":15},\"zerolinecolor\":\"white\",\"zerolinewidth\":2}}},\"xaxis\":{\"anchor\":\"y\",\"domain\":[0.0,1.0],\"title\":{\"text\":\"metric\"}},\"yaxis\":{\"anchor\":\"x\",\"domain\":[0.0,1.0],\"title\":{\"text\":\"percent\"}},\"legend\":{\"title\":{\"text\":\"label\"},\"tracegroupgap\":0},\"title\":{\"text\":\"KNN Accuracy/Jaccard for Train/Test Data (First Try)\"},\"barmode\":\"group\"},                        {\"responsive\": true}                    ).then(function(){\n",
              "                            \n",
              "var gd = document.getElementById('b253f2d4-d59c-47b3-8d89-a1b38203535c');\n",
              "var x = new MutationObserver(function (mutations, observer) {{\n",
              "        var display = window.getComputedStyle(gd).display;\n",
              "        if (!display || display === 'none') {{\n",
              "            console.log([gd, 'removed!']);\n",
              "            Plotly.purge(gd);\n",
              "            observer.disconnect();\n",
              "        }}\n",
              "}});\n",
              "\n",
              "// Listen for the removal of the full notebook cells\n",
              "var notebookContainer = gd.closest('#notebook-container');\n",
              "if (notebookContainer) {{\n",
              "    x.observe(notebookContainer, {childList: true});\n",
              "}}\n",
              "\n",
              "// Listen for the clearing of the current output cell\n",
              "var outputEl = gd.closest('.output');\n",
              "if (outputEl) {{\n",
              "    x.observe(outputEl, {childList: true});\n",
              "}}\n",
              "\n",
              "                        })                };                            </script>        </div>\n",
              "</body>\n",
              "</html>"
            ]
          },
          "metadata": {}
        }
      ]
    },
    {
      "cell_type": "code",
      "source": [
        "from sklearn import metrics\n",
        "print(\"Train set Accuracy: %\", round( 100* metrics.accuracy_score(y_train, knn_clf.predict(X_train)),2)) \n",
        "print(\"Test set Accuracy: %\", round( 100* metrics.accuracy_score(y_test, knn_yhat),2))  \n",
        "print('')\n",
        "print (classification_report(y_test, knn_yhat))"
      ],
      "metadata": {
        "colab": {
          "base_uri": "https://localhost:8080/"
        },
        "id": "jtGHup2RmFBl",
        "outputId": "4c7e61ea-673a-4672-b92f-acf874d178cd"
      },
      "execution_count": null,
      "outputs": [
        {
          "output_type": "stream",
          "name": "stdout",
          "text": [
            "Train set Accuracy: % 50.75\n",
            "Test set Accuracy: % 42.67\n",
            "\n",
            "              precision    recall  f1-score   support\n",
            "\n",
            "           1       0.52      0.45      0.48      1243\n",
            "           2       0.45      0.36      0.40      1234\n",
            "           3       0.40      0.45      0.43      1235\n",
            "           4       0.37      0.44      0.40      1287\n",
            "\n",
            "    accuracy                           0.43      4999\n",
            "   macro avg       0.44      0.43      0.43      4999\n",
            "weighted avg       0.43      0.43      0.43      4999\n",
            "\n"
          ]
        }
      ]
    },
    {
      "cell_type": "code",
      "source": [
        "knn_cnf_matrix = confusion_matrix(y_test, knn_yhat)\n",
        "np.set_printoptions(precision=2)\n",
        "\n",
        "labels = [1,2,3,4]\n",
        "\n",
        "plt.figure(figsize=(5,5))\n",
        "plot_confusion_matrix(knn_cnf_matrix, classes=labels ,normalize= False,  title='KNN Confusion Matrix')"
      ],
      "metadata": {
        "colab": {
          "base_uri": "https://localhost:8080/",
          "height": 386
        },
        "id": "0bHwm9CRoqKL",
        "outputId": "ab15045d-f779-438e-cc7a-28029333ab42"
      },
      "execution_count": null,
      "outputs": [
        {
          "output_type": "stream",
          "name": "stdout",
          "text": [
            "Confusion matrix, without normalization\n"
          ]
        },
        {
          "output_type": "display_data",
          "data": {
            "text/plain": [
              "<Figure size 360x360 with 2 Axes>"
            ],
            "image/png": "[encoded data removed]"
          },
          "metadata": {
            "needs_background": "light"
          }
        }
      ]
    },
    {
      "cell_type": "code",
      "source": [
        "import seaborn as sn\n",
        "import matplotlib.pyplot as plt\n",
        "confusion_matrix = pd.crosstab(y_test, knn_yhat, rownames=['Actual'], colnames=['Predicted'])\n",
        "\n",
        "sn.heatmap(confusion_matrix, annot=True,cmap='Blues' , fmt='')\n",
        "plt.show()"
      ],
      "metadata": {
        "colab": {
          "base_uri": "https://localhost:8080/",
          "height": 279
        },
        "id": "4hcGDvQYcCSb",
        "outputId": "fdbb05db-9258-42d2-df16-141b29f0eb9a"
      },
      "execution_count": null,
      "outputs": [
        {
          "output_type": "display_data",
          "data": {
            "text/plain": [
              "<Figure size 432x288 with 2 Axes>"
            ],
            "image/png": "[encoded data removed]"
          },
          "metadata": {
            "needs_background": "light"
          }
        }
      ]
    },
    {
      "cell_type": "code",
      "source": [
        "knn_clf = make_pipeline(preprocessing.StandardScaler(), KNeighborsClassifier(n_neighbors = 1))\n",
        "# cross_validate(knn_clf, X, Y, cv=5, scoring=scores)\n",
        "\n",
        "knn_avg_f1_weighted  = cross_validate(knn_clf, X, y, cv=5, scoring=scores)['test_f1_weighted'].mean()*100\n",
        "knn_avg_prc_weighted = cross_validate(knn_clf, X, y, cv=5, scoring=scores)['test_precision_weighted'].mean()*100\n",
        "knn_avg_rec_weighted = cross_validate(knn_clf, X, y, cv=5, scoring=scores)['test_recall_weighted'].mean()*100\n",
        "knn_avg_acc          = cross_validate(knn_clf, X, y, cv=5, scoring=scores)['test_accuracy'].mean()*100"
      ],
      "metadata": {
        "id": "83bgb2bcowv9"
      },
      "execution_count": null,
      "outputs": []
    },
    {
      "cell_type": "markdown",
      "source": [
        "## decision tree"
      ],
      "metadata": {
        "id": "VcDtx1aoo7F0"
      }
    },
    {
      "cell_type": "code",
      "source": [
        "from sklearn.tree import DecisionTreeClassifier\n",
        "InstrumentTree = make_pipeline(StandardScaler(), DecisionTreeClassifier(criterion='gini',max_depth =14))\n",
        "InstrumentTree.fit(X_train,y_train)\n",
        "\n",
        "predTree = InstrumentTree.predict(X_test)\n",
        "\n",
        "dt_acc_train = round( metrics.accuracy_score(y_train, InstrumentTree.predict(X_train))*100 ,2)\n",
        "dt_acc_test = round( metrics.accuracy_score(y_test, predTree)*100 ,2)\n",
        "dt_jac_train = round( metrics.jaccard_score(y_train, InstrumentTree.predict(X_train),average='weighted')*100 ,2)\n",
        "dt_jac_test = round( metrics.jaccard_score(y_test, predTree,average='weighted')*100 ,2)\n",
        "\n",
        "dt_df1 = pd.DataFrame({'percent':[dt_acc_train,dt_acc_test,dt_jac_train,dt_jac_test],\n",
        "                       'label' : ['train' , 'test' , 'train' , 'test'],\n",
        "                       'metric': ['Accuracy' , 'Accuracy' , 'Weighted Jaccard Score' , 'Weighted Jaccard Score']})\n",
        "\n",
        "\n",
        "fig = px.bar(dt_df1 , x='metric' , y='percent' , color='label' ,\n",
        "             title='Decision Tree Accuracy/Jaccard for Train/Test Data (First Try)' ,\n",
        "             text=\"percent\", barmode=\"group\")\n",
        "fig.show()"
      ],
      "metadata": {
        "colab": {
          "base_uri": "https://localhost:8080/",
          "height": 542
        },
        "id": "VhVZcDD-owmA",
        "outputId": "6df7264b-c579-452f-87a9-74c318c2ffe1"
      },
      "execution_count": null,
      "outputs": [
        {
          "output_type": "display_data",
          "data": {
            "text/html": [
              "<html>\n",
              "<head><meta charset=\"utf-8\" /></head>\n",
              "<body>\n",
              "    <div>            <script src=\"https://cdnjs.cloudflare.com/ajax/libs/mathjax/2.7.5/MathJax.js?config=TeX-AMS-MML_SVG\"></script><script type=\"text/javascript\">if (window.MathJax) {MathJax.Hub.Config({SVG: {font: \"STIX-Web\"}});}</script>                <script type=\"text/javascript\">window.PlotlyConfig = {MathJaxConfig: 'local'};</script>\n",
              "        <script src=\"https://cdn.plot.ly/plotly-2.8.3.min.js\"></script>                <div id=\"d0ed21e0-8ae4-462c-a167-baf2bed9b7d2\" class=\"plotly-graph-div\" style=\"height:525px; width:100%;\"></div>            <script type=\"text/javascript\">                                    window.PLOTLYENV=window.PLOTLYENV || {};                                    if (document.getElementById(\"d0ed21e0-8ae4-462c-a167-baf2bed9b7d2\")) {                    Plotly.newPlot(                        \"d0ed21e0-8ae4-462c-a167-baf2bed9b7d2\",                        [{\"alignmentgroup\":\"True\",\"hovertemplate\":\"label=train<br>metric=%{x}<br>percent=%{text}<extra></extra>\",\"legendgroup\":\"train\",\"marker\":{\"color\":\"#636efa\",\"pattern\":{\"shape\":\"\"}},\"name\":\"train\",\"offsetgroup\":\"train\",\"orientation\":\"v\",\"showlegend\":true,\"text\":[89.65,81.25],\"textposition\":\"auto\",\"x\":[\"Accuracy\",\"Weighted Jaccard Score\"],\"xaxis\":\"x\",\"y\":[89.65,81.25],\"yaxis\":\"y\",\"type\":\"bar\"},{\"alignmentgroup\":\"True\",\"hovertemplate\":\"label=test<br>metric=%{x}<br>percent=%{text}<extra></extra>\",\"legendgroup\":\"test\",\"marker\":{\"color\":\"#EF553B\",\"pattern\":{\"shape\":\"\"}},\"name\":\"test\",\"offsetgroup\":\"test\",\"orientation\":\"v\",\"showlegend\":true,\"text\":[33.83,20.3],\"textposition\":\"auto\",\"x\":[\"Accuracy\",\"Weighted Jaccard Score\"],\"xaxis\":\"x\",\"y\":[33.83,20.3],\"yaxis\":\"y\",\"type\":\"bar\"}],                        {\"template\":{\"data\":{\"bar\":[{\"error_x\":{\"color\":\"#2a3f5f\"},\"error_y\":{\"color\":\"#2a3f5f\"},\"marker\":{\"line\":{\"color\":\"#E5ECF6\",\"width\":0.5},\"pattern\":{\"fillmode\":\"overlay\",\"size\":10,\"solidity\":0.2}},\"type\":\"bar\"}],\"barpolar\":[{\"marker\":{\"line\":{\"color\":\"#E5ECF6\",\"width\":0.5},\"pattern\":{\"fillmode\":\"overlay\",\"size\":10,\"solidity\":0.2}},\"type\":\"barpolar\"}],\"carpet\":[{\"aaxis\":{\"endlinecolor\":\"#2a3f5f\",\"gridcolor\":\"white\",\"linecolor\":\"white\",\"minorgridcolor\":\"white\",\"startlinecolor\":\"#2a3f5f\"},\"baxis\":{\"endlinecolor\":\"#2a3f5f\",\"gridcolor\":\"white\",\"linecolor\":\"white\",\"minorgridcolor\":\"white\",\"startlinecolor\":\"#2a3f5f\"},\"type\":\"carpet\"}],\"choropleth\":[{\"colorbar\":{\"outlinewidth\":0,\"ticks\":\"\"},\"type\":\"choropleth\"}],\"contour\":[{\"colorbar\":{\"outlinewidth\":0,\"ticks\":\"\"},\"colorscale\":[[0.0,\"#0d0887\"],[0.1111111111111111,\"#46039f\"],[0.2222222222222222,\"#7201a8\"],[0.3333333333333333,\"#9c179e\"],[0.4444444444444444,\"#bd3786\"],[0.5555555555555556,\"#d8576b\"],[0.6666666666666666,\"#ed7953\"],[0.7777777777777778,\"#fb9f3a\"],[0.8888888888888888,\"#fdca26\"],[1.0,\"#f0f921\"]],\"type\":\"contour\"}],\"contourcarpet\":[{\"colorbar\":{\"outlinewidth\":0,\"ticks\":\"\"},\"type\":\"contourcarpet\"}],\"heatmap\":[{\"colorbar\":{\"outlinewidth\":0,\"ticks\":\"\"},\"colorscale\":[[0.0,\"#0d0887\"],[0.1111111111111111,\"#46039f\"],[0.2222222222222222,\"#7201a8\"],[0.3333333333333333,\"#9c179e\"],[0.4444444444444444,\"#bd3786\"],[0.5555555555555556,\"#d8576b\"],[0.6666666666666666,\"#ed7953\"],[0.7777777777777778,\"#fb9f3a\"],[0.8888888888888888,\"#fdca26\"],[1.0,\"#f0f921\"]],\"type\":\"heatmap\"}],\"heatmapgl\":[{\"colorbar\":{\"outlinewidth\":0,\"ticks\":\"\"},\"colorscale\":[[0.0,\"#0d0887\"],[0.1111111111111111,\"#46039f\"],[0.2222222222222222,\"#7201a8\"],[0.3333333333333333,\"#9c179e\"],[0.4444444444444444,\"#bd3786\"],[0.5555555555555556,\"#d8576b\"],[0.6666666666666666,\"#ed7953\"],[0.7777777777777778,\"#fb9f3a\"],[0.8888888888888888,\"#fdca26\"],[1.0,\"#f0f921\"]],\"type\":\"heatmapgl\"}],\"histogram\":[{\"marker\":{\"pattern\":{\"fillmode\":\"overlay\",\"size\":10,\"solidity\":0.2}},\"type\":\"histogram\"}],\"histogram2d\":[{\"colorbar\":{\"outlinewidth\":0,\"ticks\":\"\"},\"colorscale\":[[0.0,\"#0d0887\"],[0.1111111111111111,\"#46039f\"],[0.2222222222222222,\"#7201a8\"],[0.3333333333333333,\"#9c179e\"],[0.4444444444444444,\"#bd3786\"],[0.5555555555555556,\"#d8576b\"],[0.6666666666666666,\"#ed7953\"],[0.7777777777777778,\"#fb9f3a\"],[0.8888888888888888,\"#fdca26\"],[1.0,\"#f0f921\"]],\"type\":\"histogram2d\"}],\"histogram2dcontour\":[{\"colorbar\":{\"outlinewidth\":0,\"ticks\":\"\"},\"colorscale\":[[0.0,\"#0d0887\"],[0.1111111111111111,\"#46039f\"],[0.2222222222222222,\"#7201a8\"],[0.3333333333333333,\"#9c179e\"],[0.4444444444444444,\"#bd3786\"],[0.5555555555555556,\"#d8576b\"],[0.6666666666666666,\"#ed7953\"],[0.7777777777777778,\"#fb9f3a\"],[0.8888888888888888,\"#fdca26\"],[1.0,\"#f0f921\"]],\"type\":\"histogram2dcontour\"}],\"mesh3d\":[{\"colorbar\":{\"outlinewidth\":0,\"ticks\":\"\"},\"type\":\"mesh3d\"}],\"parcoords\":[{\"line\":{\"colorbar\":{\"outlinewidth\":0,\"ticks\":\"\"}},\"type\":\"parcoords\"}],\"pie\":[{\"automargin\":true,\"type\":\"pie\"}],\"scatter\":[{\"marker\":{\"colorbar\":{\"outlinewidth\":0,\"ticks\":\"\"}},\"type\":\"scatter\"}],\"scatter3d\":[{\"line\":{\"colorbar\":{\"outlinewidth\":0,\"ticks\":\"\"}},\"marker\":{\"colorbar\":{\"outlinewidth\":0,\"ticks\":\"\"}},\"type\":\"scatter3d\"}],\"scattercarpet\":[{\"marker\":{\"colorbar\":{\"outlinewidth\":0,\"ticks\":\"\"}},\"type\":\"scattercarpet\"}],\"scattergeo\":[{\"marker\":{\"colorbar\":{\"outlinewidth\":0,\"ticks\":\"\"}},\"type\":\"scattergeo\"}],\"scattergl\":[{\"marker\":{\"colorbar\":{\"outlinewidth\":0,\"ticks\":\"\"}},\"type\":\"scattergl\"}],\"scattermapbox\":[{\"marker\":{\"colorbar\":{\"outlinewidth\":0,\"ticks\":\"\"}},\"type\":\"scattermapbox\"}],\"scatterpolar\":[{\"marker\":{\"colorbar\":{\"outlinewidth\":0,\"ticks\":\"\"}},\"type\":\"scatterpolar\"}],\"scatterpolargl\":[{\"marker\":{\"colorbar\":{\"outlinewidth\":0,\"ticks\":\"\"}},\"type\":\"scatterpolargl\"}],\"scatterternary\":[{\"marker\":{\"colorbar\":{\"outlinewidth\":0,\"ticks\":\"\"}},\"type\":\"scatterternary\"}],\"surface\":[{\"colorbar\":{\"outlinewidth\":0,\"ticks\":\"\"},\"colorscale\":[[0.0,\"#0d0887\"],[0.1111111111111111,\"#46039f\"],[0.2222222222222222,\"#7201a8\"],[0.3333333333333333,\"#9c179e\"],[0.4444444444444444,\"#bd3786\"],[0.5555555555555556,\"#d8576b\"],[0.6666666666666666,\"#ed7953\"],[0.7777777777777778,\"#fb9f3a\"],[0.8888888888888888,\"#fdca26\"],[1.0,\"#f0f921\"]],\"type\":\"surface\"}],\"table\":[{\"cells\":{\"fill\":{\"color\":\"#EBF0F8\"},\"line\":{\"color\":\"white\"}},\"header\":{\"fill\":{\"color\":\"#C8D4E3\"},\"line\":{\"color\":\"white\"}},\"type\":\"table\"}]},\"layout\":{\"annotationdefaults\":{\"arrowcolor\":\"#2a3f5f\",\"arrowhead\":0,\"arrowwidth\":1},\"autotypenumbers\":\"strict\",\"coloraxis\":{\"colorbar\":{\"outlinewidth\":0,\"ticks\":\"\"}},\"colorscale\":{\"diverging\":[[0,\"#8e0152\"],[0.1,\"#c51b7d\"],[0.2,\"#de77ae\"],[0.3,\"#f1b6da\"],[0.4,\"#fde0ef\"],[0.5,\"#f7f7f7\"],[0.6,\"#e6f5d0\"],[0.7,\"#b8e186\"],[0.8,\"#7fbc41\"],[0.9,\"#4d9221\"],[1,\"#276419\"]],\"sequential\":[[0.0,\"#0d0887\"],[0.1111111111111111,\"#46039f\"],[0.2222222222222222,\"#7201a8\"],[0.3333333333333333,\"#9c179e\"],[0.4444444444444444,\"#bd3786\"],[0.5555555555555556,\"#d8576b\"],[0.6666666666666666,\"#ed7953\"],[0.7777777777777778,\"#fb9f3a\"],[0.8888888888888888,\"#fdca26\"],[1.0,\"#f0f921\"]],\"sequentialminus\":[[0.0,\"#0d0887\"],[0.1111111111111111,\"#46039f\"],[0.2222222222222222,\"#7201a8\"],[0.3333333333333333,\"#9c179e\"],[0.4444444444444444,\"#bd3786\"],[0.5555555555555556,\"#d8576b\"],[0.6666666666666666,\"#ed7953\"],[0.7777777777777778,\"#fb9f3a\"],[0.8888888888888888,\"#fdca26\"],[1.0,\"#f0f921\"]]},\"colorway\":[\"#636efa\",\"#EF553B\",\"#00cc96\",\"#ab63fa\",\"#FFA15A\",\"#19d3f3\",\"#FF6692\",\"#B6E880\",\"#FF97FF\",\"#FECB52\"],\"font\":{\"color\":\"#2a3f5f\"},\"geo\":{\"bgcolor\":\"white\",\"lakecolor\":\"white\",\"landcolor\":\"#E5ECF6\",\"showlakes\":true,\"showland\":true,\"subunitcolor\":\"white\"},\"hoverlabel\":{\"align\":\"left\"},\"hovermode\":\"closest\",\"mapbox\":{\"style\":\"light\"},\"paper_bgcolor\":\"white\",\"plot_bgcolor\":\"#E5ECF6\",\"polar\":{\"angularaxis\":{\"gridcolor\":\"white\",\"linecolor\":\"white\",\"ticks\":\"\"},\"bgcolor\":\"#E5ECF6\",\"radialaxis\":{\"gridcolor\":\"white\",\"linecolor\":\"white\",\"ticks\":\"\"}},\"scene\":{\"xaxis\":{\"backgroundcolor\":\"#E5ECF6\",\"gridcolor\":\"white\",\"gridwidth\":2,\"linecolor\":\"white\",\"showbackground\":true,\"ticks\":\"\",\"zerolinecolor\":\"white\"},\"yaxis\":{\"backgroundcolor\":\"#E5ECF6\",\"gridcolor\":\"white\",\"gridwidth\":2,\"linecolor\":\"white\",\"showbackground\":true,\"ticks\":\"\",\"zerolinecolor\":\"white\"},\"zaxis\":{\"backgroundcolor\":\"#E5ECF6\",\"gridcolor\":\"white\",\"gridwidth\":2,\"linecolor\":\"white\",\"showbackground\":true,\"ticks\":\"\",\"zerolinecolor\":\"white\"}},\"shapedefaults\":{\"line\":{\"color\":\"#2a3f5f\"}},\"ternary\":{\"aaxis\":{\"gridcolor\":\"white\",\"linecolor\":\"white\",\"ticks\":\"\"},\"baxis\":{\"gridcolor\":\"white\",\"linecolor\":\"white\",\"ticks\":\"\"},\"bgcolor\":\"#E5ECF6\",\"caxis\":{\"gridcolor\":\"white\",\"linecolor\":\"white\",\"ticks\":\"\"}},\"title\":{\"x\":0.05},\"xaxis\":{\"automargin\":true,\"gridcolor\":\"white\",\"linecolor\":\"white\",\"ticks\":\"\",\"title\":{\"standoff\":15},\"zerolinecolor\":\"white\",\"zerolinewidth\":2},\"yaxis\":{\"automargin\":true,\"gridcolor\":\"white\",\"linecolor\":\"white\",\"ticks\":\"\",\"title\":{\"standoff\":15},\"zerolinecolor\":\"white\",\"zerolinewidth\":2}}},\"xaxis\":{\"anchor\":\"y\",\"domain\":[0.0,1.0],\"title\":{\"text\":\"metric\"}},\"yaxis\":{\"anchor\":\"x\",\"domain\":[0.0,1.0],\"title\":{\"text\":\"percent\"}},\"legend\":{\"title\":{\"text\":\"label\"},\"tracegroupgap\":0},\"title\":{\"text\":\"Decision Tree Accuracy/Jaccard for Train/Test Data (First Try)\"},\"barmode\":\"group\"},                        {\"responsive\": true}                    ).then(function(){\n",
              "                            \n",
              "var gd = document.getElementById('d0ed21e0-8ae4-462c-a167-baf2bed9b7d2');\n",
              "var x = new MutationObserver(function (mutations, observer) {{\n",
              "        var display = window.getComputedStyle(gd).display;\n",
              "        if (!display || display === 'none') {{\n",
              "            console.log([gd, 'removed!']);\n",
              "            Plotly.purge(gd);\n",
              "            observer.disconnect();\n",
              "        }}\n",
              "}});\n",
              "\n",
              "// Listen for the removal of the full notebook cells\n",
              "var notebookContainer = gd.closest('#notebook-container');\n",
              "if (notebookContainer) {{\n",
              "    x.observe(notebookContainer, {childList: true});\n",
              "}}\n",
              "\n",
              "// Listen for the clearing of the current output cell\n",
              "var outputEl = gd.closest('.output');\n",
              "if (outputEl) {{\n",
              "    x.observe(outputEl, {childList: true});\n",
              "}}\n",
              "\n",
              "                        })                };                            </script>        </div>\n",
              "</body>\n",
              "</html>"
            ]
          },
          "metadata": {}
        }
      ]
    },
    {
      "cell_type": "code",
      "source": [
        "print(\"Train set Accuracy: %\", round( 100* metrics.accuracy_score(y_train, InstrumentTree.predict(X_train))))\n",
        "print(\"Test set Accuracy: %\", round( 100* metrics.accuracy_score(y_test, predTree)))  \n",
        "print('')\n",
        "print (classification_report(y_test, predTree))\n",
        "\n",
        "from sklearn.metrics import confusion_matrix\n",
        "\n",
        "dt_cnf_matrix = confusion_matrix(y_test, predTree)\n",
        "np.set_printoptions(precision=2)\n",
        "\n",
        "labels = [1,2,3,4]\n",
        "\n",
        "plt.figure(figsize=(5,5))\n",
        "plot_confusion_matrix(dt_cnf_matrix, classes=labels ,normalize= False,  title='Decision Tree Confusion Matrix')"
      ],
      "metadata": {
        "colab": {
          "base_uri": "https://localhost:8080/",
          "height": 629
        },
        "id": "8ZnMe-zZowZc",
        "outputId": "8cca6185-68c9-46eb-a877-c234b75c09d3"
      },
      "execution_count": null,
      "outputs": [
        {
          "output_type": "stream",
          "name": "stdout",
          "text": [
            "Train set Accuracy: % 90\n",
            "Test set Accuracy: % 34\n",
            "\n",
            "              precision    recall  f1-score   support\n",
            "\n",
            "           1       0.38      0.40      0.39      1243\n",
            "           2       0.33      0.36      0.35      1234\n",
            "           3       0.31      0.26      0.28      1235\n",
            "           4       0.33      0.33      0.33      1287\n",
            "\n",
            "    accuracy                           0.34      4999\n",
            "   macro avg       0.34      0.34      0.34      4999\n",
            "weighted avg       0.34      0.34      0.34      4999\n",
            "\n",
            "Confusion matrix, without normalization\n"
          ]
        },
        {
          "output_type": "display_data",
          "data": {
            "text/plain": [
              "<Figure size 360x360 with 2 Axes>"
            ],
            "image/png": "[encoded data removed]"
          },
          "metadata": {
            "needs_background": "light"
          }
        }
      ]
    },
    {
      "cell_type": "code",
      "source": [
        "dt_clf = make_pipeline(preprocessing.StandardScaler(), DecisionTreeClassifier(criterion='gini',max_depth =14))\n",
        "# cross_validate(dt_clf, X, Y, cv=5, scoring=scores)\n",
        "\n",
        "dt_avg_f1_weighted  = cross_validate(dt_clf, X, y, cv=3, scoring=scores)['test_f1_weighted'].mean()*100\n",
        "dt_avg_prc_weighted = cross_validate(dt_clf, X, y, cv=3, scoring=scores)['test_precision_weighted'].mean()*100\n",
        "dt_avg_rec_weighted = cross_validate(dt_clf, X, y, cv=3, scoring=scores)['test_recall_weighted'].mean()*100\n",
        "dt_avg_acc          = cross_validate(dt_clf, X, y, cv=3, scoring=scores)['test_accuracy'].mean()*100"
      ],
      "metadata": {
        "id": "ds5bytnNpn7H"
      },
      "execution_count": null,
      "outputs": []
    },
    {
      "cell_type": "markdown",
      "source": [
        "## mlp"
      ],
      "metadata": {
        "id": "LRDmj0u4rHZO"
      }
    },
    {
      "cell_type": "code",
      "source": [
        ""
      ],
      "metadata": {
        "id": "OgUJXRyTrG-r"
      },
      "execution_count": null,
      "outputs": []
    },
    {
      "cell_type": "code",
      "source": [
        "MLP_clf = make_pipeline(preprocessing.StandardScaler(),  MLPClassifier(alpha=0.1,hidden_layer_sizes=(4, 2), random_state=0))\n",
        "MLP_clf = MLP_clf.fit(X_train, y_train)\n",
        "MLP_Y_pred=MLP_clf.predict(X_test)\n",
        "\n",
        "print('accuracy:\\n',accuracy_score(y_test, MLP_Y_pred))"
      ],
      "metadata": {
        "colab": {
          "base_uri": "https://localhost:8080/"
        },
        "id": "ogYASFbwrBfJ",
        "outputId": "e9f0af77-978f-4f70-a5b7-7e66ba02d25e"
      },
      "execution_count": null,
      "outputs": [
        {
          "output_type": "stream",
          "name": "stdout",
          "text": [
            "accuracy:\n",
            " 0.4386877375475095\n"
          ]
        }
      ]
    },
    {
      "cell_type": "code",
      "source": [
        "MLP_acc_train = round( metrics.accuracy_score(y_train, MLP_clf.predict(X_train))*100 ,2)\n",
        "MLP_acc_test = round( metrics.accuracy_score(y_test, MLP_Y_pred)*100 ,2)\n",
        "MLP_jac_train = round( metrics.jaccard_score(y_train, MLP_clf.predict(X_train),average='weighted')*100 ,2)\n",
        "MLP_jac_test = round( metrics.jaccard_score(y_test, MLP_Y_pred,average='weighted')*100 ,2)\n",
        "\n",
        "MLP_df1 = pd.DataFrame({'percent':[MLP_acc_train,MLP_acc_test,MLP_jac_train,MLP_jac_test],\n",
        "                       'label' : ['train' , 'test' , 'train' , 'test'],\n",
        "                       'metric': ['Accuracy' , 'Accuracy' , 'Weighted Jaccard Score' , 'Weighted Jaccard Score']})\n",
        "\n",
        "\n",
        "fig = px.bar(MLP_df1 , x='metric' , y='percent' , color='label' ,\n",
        "             title='MLP Accuracy/Jaccard for Train/Test Data (First Try)' ,\n",
        "             text=\"percent\", barmode=\"group\")\n",
        "fig.show()"
      ],
      "metadata": {
        "colab": {
          "base_uri": "https://localhost:8080/",
          "height": 542
        },
        "id": "xKc1ifvcrVIu",
        "outputId": "3d942fec-d717-4452-9f34-cda74a577f79"
      },
      "execution_count": null,
      "outputs": [
        {
          "output_type": "display_data",
          "data": {
            "text/html": [
              "<html>\n",
              "<head><meta charset=\"utf-8\" /></head>\n",
              "<body>\n",
              "    <div>            <script src=\"https://cdnjs.cloudflare.com/ajax/libs/mathjax/2.7.5/MathJax.js?config=TeX-AMS-MML_SVG\"></script><script type=\"text/javascript\">if (window.MathJax) {MathJax.Hub.Config({SVG: {font: \"STIX-Web\"}});}</script>                <script type=\"text/javascript\">window.PlotlyConfig = {MathJaxConfig: 'local'};</script>\n",
              "        <script src=\"https://cdn.plot.ly/plotly-2.8.3.min.js\"></script>                <div id=\"2fd4777e-edb5-4b7b-8f97-ffd87b54c04d\" class=\"plotly-graph-div\" style=\"height:525px; width:100%;\"></div>            <script type=\"text/javascript\">                                    window.PLOTLYENV=window.PLOTLYENV || {};                                    if (document.getElementById(\"2fd4777e-edb5-4b7b-8f97-ffd87b54c04d\")) {                    Plotly.newPlot(                        \"2fd4777e-edb5-4b7b-8f97-ffd87b54c04d\",                        [{\"alignmentgroup\":\"True\",\"hovertemplate\":\"label=train<br>metric=%{x}<br>percent=%{text}<extra></extra>\",\"legendgroup\":\"train\",\"marker\":{\"color\":\"#636efa\",\"pattern\":{\"shape\":\"\"}},\"name\":\"train\",\"offsetgroup\":\"train\",\"orientation\":\"v\",\"showlegend\":true,\"text\":[48.74,31.28],\"textposition\":\"auto\",\"x\":[\"Accuracy\",\"Weighted Jaccard Score\"],\"xaxis\":\"x\",\"y\":[48.74,31.28],\"yaxis\":\"y\",\"type\":\"bar\"},{\"alignmentgroup\":\"True\",\"hovertemplate\":\"label=test<br>metric=%{x}<br>percent=%{text}<extra></extra>\",\"legendgroup\":\"test\",\"marker\":{\"color\":\"#EF553B\",\"pattern\":{\"shape\":\"\"}},\"name\":\"test\",\"offsetgroup\":\"test\",\"orientation\":\"v\",\"showlegend\":true,\"text\":[43.87,27.3],\"textposition\":\"auto\",\"x\":[\"Accuracy\",\"Weighted Jaccard Score\"],\"xaxis\":\"x\",\"y\":[43.87,27.3],\"yaxis\":\"y\",\"type\":\"bar\"}],                        {\"template\":{\"data\":{\"bar\":[{\"error_x\":{\"color\":\"#2a3f5f\"},\"error_y\":{\"color\":\"#2a3f5f\"},\"marker\":{\"line\":{\"color\":\"#E5ECF6\",\"width\":0.5},\"pattern\":{\"fillmode\":\"overlay\",\"size\":10,\"solidity\":0.2}},\"type\":\"bar\"}],\"barpolar\":[{\"marker\":{\"line\":{\"color\":\"#E5ECF6\",\"width\":0.5},\"pattern\":{\"fillmode\":\"overlay\",\"size\":10,\"solidity\":0.2}},\"type\":\"barpolar\"}],\"carpet\":[{\"aaxis\":{\"endlinecolor\":\"#2a3f5f\",\"gridcolor\":\"white\",\"linecolor\":\"white\",\"minorgridcolor\":\"white\",\"startlinecolor\":\"#2a3f5f\"},\"baxis\":{\"endlinecolor\":\"#2a3f5f\",\"gridcolor\":\"white\",\"linecolor\":\"white\",\"minorgridcolor\":\"white\",\"startlinecolor\":\"#2a3f5f\"},\"type\":\"carpet\"}],\"choropleth\":[{\"colorbar\":{\"outlinewidth\":0,\"ticks\":\"\"},\"type\":\"choropleth\"}],\"contour\":[{\"colorbar\":{\"outlinewidth\":0,\"ticks\":\"\"},\"colorscale\":[[0.0,\"#0d0887\"],[0.1111111111111111,\"#46039f\"],[0.2222222222222222,\"#7201a8\"],[0.3333333333333333,\"#9c179e\"],[0.4444444444444444,\"#bd3786\"],[0.5555555555555556,\"#d8576b\"],[0.6666666666666666,\"#ed7953\"],[0.7777777777777778,\"#fb9f3a\"],[0.8888888888888888,\"#fdca26\"],[1.0,\"#f0f921\"]],\"type\":\"contour\"}],\"contourcarpet\":[{\"colorbar\":{\"outlinewidth\":0,\"ticks\":\"\"},\"type\":\"contourcarpet\"}],\"heatmap\":[{\"colorbar\":{\"outlinewidth\":0,\"ticks\":\"\"},\"colorscale\":[[0.0,\"#0d0887\"],[0.1111111111111111,\"#46039f\"],[0.2222222222222222,\"#7201a8\"],[0.3333333333333333,\"#9c179e\"],[0.4444444444444444,\"#bd3786\"],[0.5555555555555556,\"#d8576b\"],[0.6666666666666666,\"#ed7953\"],[0.7777777777777778,\"#fb9f3a\"],[0.8888888888888888,\"#fdca26\"],[1.0,\"#f0f921\"]],\"type\":\"heatmap\"}],\"heatmapgl\":[{\"colorbar\":{\"outlinewidth\":0,\"ticks\":\"\"},\"colorscale\":[[0.0,\"#0d0887\"],[0.1111111111111111,\"#46039f\"],[0.2222222222222222,\"#7201a8\"],[0.3333333333333333,\"#9c179e\"],[0.4444444444444444,\"#bd3786\"],[0.5555555555555556,\"#d8576b\"],[0.6666666666666666,\"#ed7953\"],[0.7777777777777778,\"#fb9f3a\"],[0.8888888888888888,\"#fdca26\"],[1.0,\"#f0f921\"]],\"type\":\"heatmapgl\"}],\"histogram\":[{\"marker\":{\"pattern\":{\"fillmode\":\"overlay\",\"size\":10,\"solidity\":0.2}},\"type\":\"histogram\"}],\"histogram2d\":[{\"colorbar\":{\"outlinewidth\":0,\"ticks\":\"\"},\"colorscale\":[[0.0,\"#0d0887\"],[0.1111111111111111,\"#46039f\"],[0.2222222222222222,\"#7201a8\"],[0.3333333333333333,\"#9c179e\"],[0.4444444444444444,\"#bd3786\"],[0.5555555555555556,\"#d8576b\"],[0.6666666666666666,\"#ed7953\"],[0.7777777777777778,\"#fb9f3a\"],[0.8888888888888888,\"#fdca26\"],[1.0,\"#f0f921\"]],\"type\":\"histogram2d\"}],\"histogram2dcontour\":[{\"colorbar\":{\"outlinewidth\":0,\"ticks\":\"\"},\"colorscale\":[[0.0,\"#0d0887\"],[0.1111111111111111,\"#46039f\"],[0.2222222222222222,\"#7201a8\"],[0.3333333333333333,\"#9c179e\"],[0.4444444444444444,\"#bd3786\"],[0.5555555555555556,\"#d8576b\"],[0.6666666666666666,\"#ed7953\"],[0.7777777777777778,\"#fb9f3a\"],[0.8888888888888888,\"#fdca26\"],[1.0,\"#f0f921\"]],\"type\":\"histogram2dcontour\"}],\"mesh3d\":[{\"colorbar\":{\"outlinewidth\":0,\"ticks\":\"\"},\"type\":\"mesh3d\"}],\"parcoords\":[{\"line\":{\"colorbar\":{\"outlinewidth\":0,\"ticks\":\"\"}},\"type\":\"parcoords\"}],\"pie\":[{\"automargin\":true,\"type\":\"pie\"}],\"scatter\":[{\"marker\":{\"colorbar\":{\"outlinewidth\":0,\"ticks\":\"\"}},\"type\":\"scatter\"}],\"scatter3d\":[{\"line\":{\"colorbar\":{\"outlinewidth\":0,\"ticks\":\"\"}},\"marker\":{\"colorbar\":{\"outlinewidth\":0,\"ticks\":\"\"}},\"type\":\"scatter3d\"}],\"scattercarpet\":[{\"marker\":{\"colorbar\":{\"outlinewidth\":0,\"ticks\":\"\"}},\"type\":\"scattercarpet\"}],\"scattergeo\":[{\"marker\":{\"colorbar\":{\"outlinewidth\":0,\"ticks\":\"\"}},\"type\":\"scattergeo\"}],\"scattergl\":[{\"marker\":{\"colorbar\":{\"outlinewidth\":0,\"ticks\":\"\"}},\"type\":\"scattergl\"}],\"scattermapbox\":[{\"marker\":{\"colorbar\":{\"outlinewidth\":0,\"ticks\":\"\"}},\"type\":\"scattermapbox\"}],\"scatterpolar\":[{\"marker\":{\"colorbar\":{\"outlinewidth\":0,\"ticks\":\"\"}},\"type\":\"scatterpolar\"}],\"scatterpolargl\":[{\"marker\":{\"colorbar\":{\"outlinewidth\":0,\"ticks\":\"\"}},\"type\":\"scatterpolargl\"}],\"scatterternary\":[{\"marker\":{\"colorbar\":{\"outlinewidth\":0,\"ticks\":\"\"}},\"type\":\"scatterternary\"}],\"surface\":[{\"colorbar\":{\"outlinewidth\":0,\"ticks\":\"\"},\"colorscale\":[[0.0,\"#0d0887\"],[0.1111111111111111,\"#46039f\"],[0.2222222222222222,\"#7201a8\"],[0.3333333333333333,\"#9c179e\"],[0.4444444444444444,\"#bd3786\"],[0.5555555555555556,\"#d8576b\"],[0.6666666666666666,\"#ed7953\"],[0.7777777777777778,\"#fb9f3a\"],[0.8888888888888888,\"#fdca26\"],[1.0,\"#f0f921\"]],\"type\":\"surface\"}],\"table\":[{\"cells\":{\"fill\":{\"color\":\"#EBF0F8\"},\"line\":{\"color\":\"white\"}},\"header\":{\"fill\":{\"color\":\"#C8D4E3\"},\"line\":{\"color\":\"white\"}},\"type\":\"table\"}]},\"layout\":{\"annotationdefaults\":{\"arrowcolor\":\"#2a3f5f\",\"arrowhead\":0,\"arrowwidth\":1},\"autotypenumbers\":\"strict\",\"coloraxis\":{\"colorbar\":{\"outlinewidth\":0,\"ticks\":\"\"}},\"colorscale\":{\"diverging\":[[0,\"#8e0152\"],[0.1,\"#c51b7d\"],[0.2,\"#de77ae\"],[0.3,\"#f1b6da\"],[0.4,\"#fde0ef\"],[0.5,\"#f7f7f7\"],[0.6,\"#e6f5d0\"],[0.7,\"#b8e186\"],[0.8,\"#7fbc41\"],[0.9,\"#4d9221\"],[1,\"#276419\"]],\"sequential\":[[0.0,\"#0d0887\"],[0.1111111111111111,\"#46039f\"],[0.2222222222222222,\"#7201a8\"],[0.3333333333333333,\"#9c179e\"],[0.4444444444444444,\"#bd3786\"],[0.5555555555555556,\"#d8576b\"],[0.6666666666666666,\"#ed7953\"],[0.7777777777777778,\"#fb9f3a\"],[0.8888888888888888,\"#fdca26\"],[1.0,\"#f0f921\"]],\"sequentialminus\":[[0.0,\"#0d0887\"],[0.1111111111111111,\"#46039f\"],[0.2222222222222222,\"#7201a8\"],[0.3333333333333333,\"#9c179e\"],[0.4444444444444444,\"#bd3786\"],[0.5555555555555556,\"#d8576b\"],[0.6666666666666666,\"#ed7953\"],[0.7777777777777778,\"#fb9f3a\"],[0.8888888888888888,\"#fdca26\"],[1.0,\"#f0f921\"]]},\"colorway\":[\"#636efa\",\"#EF553B\",\"#00cc96\",\"#ab63fa\",\"#FFA15A\",\"#19d3f3\",\"#FF6692\",\"#B6E880\",\"#FF97FF\",\"#FECB52\"],\"font\":{\"color\":\"#2a3f5f\"},\"geo\":{\"bgcolor\":\"white\",\"lakecolor\":\"white\",\"landcolor\":\"#E5ECF6\",\"showlakes\":true,\"showland\":true,\"subunitcolor\":\"white\"},\"hoverlabel\":{\"align\":\"left\"},\"hovermode\":\"closest\",\"mapbox\":{\"style\":\"light\"},\"paper_bgcolor\":\"white\",\"plot_bgcolor\":\"#E5ECF6\",\"polar\":{\"angularaxis\":{\"gridcolor\":\"white\",\"linecolor\":\"white\",\"ticks\":\"\"},\"bgcolor\":\"#E5ECF6\",\"radialaxis\":{\"gridcolor\":\"white\",\"linecolor\":\"white\",\"ticks\":\"\"}},\"scene\":{\"xaxis\":{\"backgroundcolor\":\"#E5ECF6\",\"gridcolor\":\"white\",\"gridwidth\":2,\"linecolor\":\"white\",\"showbackground\":true,\"ticks\":\"\",\"zerolinecolor\":\"white\"},\"yaxis\":{\"backgroundcolor\":\"#E5ECF6\",\"gridcolor\":\"white\",\"gridwidth\":2,\"linecolor\":\"white\",\"showbackground\":true,\"ticks\":\"\",\"zerolinecolor\":\"white\"},\"zaxis\":{\"backgroundcolor\":\"#E5ECF6\",\"gridcolor\":\"white\",\"gridwidth\":2,\"linecolor\":\"white\",\"showbackground\":true,\"ticks\":\"\",\"zerolinecolor\":\"white\"}},\"shapedefaults\":{\"line\":{\"color\":\"#2a3f5f\"}},\"ternary\":{\"aaxis\":{\"gridcolor\":\"white\",\"linecolor\":\"white\",\"ticks\":\"\"},\"baxis\":{\"gridcolor\":\"white\",\"linecolor\":\"white\",\"ticks\":\"\"},\"bgcolor\":\"#E5ECF6\",\"caxis\":{\"gridcolor\":\"white\",\"linecolor\":\"white\",\"ticks\":\"\"}},\"title\":{\"x\":0.05},\"xaxis\":{\"automargin\":true,\"gridcolor\":\"white\",\"linecolor\":\"white\",\"ticks\":\"\",\"title\":{\"standoff\":15},\"zerolinecolor\":\"white\",\"zerolinewidth\":2},\"yaxis\":{\"automargin\":true,\"gridcolor\":\"white\",\"linecolor\":\"white\",\"ticks\":\"\",\"title\":{\"standoff\":15},\"zerolinecolor\":\"white\",\"zerolinewidth\":2}}},\"xaxis\":{\"anchor\":\"y\",\"domain\":[0.0,1.0],\"title\":{\"text\":\"metric\"}},\"yaxis\":{\"anchor\":\"x\",\"domain\":[0.0,1.0],\"title\":{\"text\":\"percent\"}},\"legend\":{\"title\":{\"text\":\"label\"},\"tracegroupgap\":0},\"title\":{\"text\":\"MLP Accuracy/Jaccard for Train/Test Data (First Try)\"},\"barmode\":\"group\"},                        {\"responsive\": true}                    ).then(function(){\n",
              "                            \n",
              "var gd = document.getElementById('2fd4777e-edb5-4b7b-8f97-ffd87b54c04d');\n",
              "var x = new MutationObserver(function (mutations, observer) {{\n",
              "        var display = window.getComputedStyle(gd).display;\n",
              "        if (!display || display === 'none') {{\n",
              "            console.log([gd, 'removed!']);\n",
              "            Plotly.purge(gd);\n",
              "            observer.disconnect();\n",
              "        }}\n",
              "}});\n",
              "\n",
              "// Listen for the removal of the full notebook cells\n",
              "var notebookContainer = gd.closest('#notebook-container');\n",
              "if (notebookContainer) {{\n",
              "    x.observe(notebookContainer, {childList: true});\n",
              "}}\n",
              "\n",
              "// Listen for the clearing of the current output cell\n",
              "var outputEl = gd.closest('.output');\n",
              "if (outputEl) {{\n",
              "    x.observe(outputEl, {childList: true});\n",
              "}}\n",
              "\n",
              "                        })                };                            </script>        </div>\n",
              "</body>\n",
              "</html>"
            ]
          },
          "metadata": {}
        }
      ]
    },
    {
      "cell_type": "code",
      "source": [
        "print(\"Train set Accuracy: %\", round( 100* metrics.accuracy_score(y_train, MLP_clf.predict(X_train))))\n",
        "print(\"Test set Accuracy: %\", round( 100* metrics.accuracy_score(y_test, MLP_Y_pred)))  \n",
        "print('')\n",
        "print (classification_report(y_test, MLP_Y_pred))"
      ],
      "metadata": {
        "colab": {
          "base_uri": "https://localhost:8080/"
        },
        "id": "TWOd0aNzrZ7L",
        "outputId": "0ef48460-8769-4e73-b12b-d496eb6e7892"
      },
      "execution_count": null,
      "outputs": [
        {
          "output_type": "stream",
          "name": "stdout",
          "text": [
            "Train set Accuracy: % 49\n",
            "Test set Accuracy: % 44\n",
            "\n",
            "              precision    recall  f1-score   support\n",
            "\n",
            "           1       0.51      0.52      0.51      1243\n",
            "           2       0.47      0.50      0.48      1234\n",
            "           3       0.40      0.59      0.48      1235\n",
            "           4       0.34      0.16      0.21      1287\n",
            "\n",
            "    accuracy                           0.44      4999\n",
            "   macro avg       0.43      0.44      0.42      4999\n",
            "weighted avg       0.43      0.44      0.42      4999\n",
            "\n"
          ]
        }
      ]
    },
    {
      "cell_type": "code",
      "source": [
        "MLP_cnf_matrix = confusion_matrix(y_test, MLP_Y_pred)\n",
        "np.set_printoptions(precision=2)\n",
        "\n",
        "labels = [1,2,3,4]\n",
        "\n",
        "plt.figure(figsize=(5,5))\n",
        "plot_confusion_matrix(MLP_cnf_matrix, classes=labels ,normalize= False,  title='MLP Confusion Matrix')"
      ],
      "metadata": {
        "colab": {
          "base_uri": "https://localhost:8080/",
          "height": 386
        },
        "id": "TL7F4fdBrZ3s",
        "outputId": "84bcfef5-b4c8-4d4a-eef7-7cafce47a661"
      },
      "execution_count": null,
      "outputs": [
        {
          "output_type": "stream",
          "name": "stdout",
          "text": [
            "Confusion matrix, without normalization\n"
          ]
        },
        {
          "output_type": "display_data",
          "data": {
            "text/plain": [
              "<Figure size 360x360 with 2 Axes>"
            ],
            "image/png": "[encoded data removed]"
          },
          "metadata": {
            "needs_background": "light"
          }
        }
      ]
    },
    {
      "cell_type": "code",
      "source": [
        "\n",
        "MLP_clf = make_pipeline(preprocessing.StandardScaler(),  MLPClassifier(alpha=0.1,hidden_layer_sizes=(4, 2), random_state=0))\n",
        "\n",
        "\n",
        "MLP_avg_f1_weighted  = cross_validate(MLP_clf, X, y, cv=3, scoring=scores)['test_f1_weighted'].mean()*100\n",
        "MLP_avg_prc_weighted = cross_validate(MLP_clf, X, y, cv=3, scoring=scores)['test_precision_weighted'].mean()*100\n",
        "MLP_avg_rec_weighted = cross_validate(MLP_clf, X, y, cv=3, scoring=scores)['test_recall_weighted'].mean()*100\n",
        "MLP_avg_acc          = cross_validate(MLP_clf, X, y, cv=3, scoring=scores)['test_accuracy'].mean()*100"
      ],
      "metadata": {
        "id": "xAmyj33srZsl"
      },
      "execution_count": null,
      "outputs": []
    },
    {
      "cell_type": "markdown",
      "source": [
        "# compare models"
      ],
      "metadata": {
        "id": "zLYhbRLkr0Xb"
      }
    },
    {
      "cell_type": "code",
      "source": [
        "comp_df = pd.DataFrame({'Classifier Algorithm':['Logistic Regression' , 'SVM' , 'Decision Tree' , 'KNN' , 'MLP'],\n",
        "                        'Acc Avg': [round(lr_avg_acc, 2) , round(svm_avg_acc, 2) , \n",
        "                                          round(dt_avg_acc, 2) , round(knn_avg_acc, 2) , round(MLP_avg_acc, 2)],\n",
        "                        'Rec Avg': [round(lr_avg_rec_weighted, 2) , round(svm_avg_rec_weighted, 2) , \n",
        "                                        round(dt_avg_rec_weighted, 2) , round(knn_avg_rec_weighted, 2) , \n",
        "                                        round(MLP_avg_rec_weighted, 2)],\n",
        "                        'Prc Avg': [round(lr_avg_prc_weighted, 2) , round(svm_avg_prc_weighted, 2) , \n",
        "                                        round(dt_avg_prc_weighted, 2) , round(knn_avg_prc_weighted, 2) , \n",
        "                                        round(MLP_avg_prc_weighted, 2)],\n",
        "                        'F1 Avg' : [round(lr_avg_f1_weighted, 2) , round(svm_avg_f1_weighted, 2) , \n",
        "                                        round(dt_avg_f1_weighted, 2) , round(knn_avg_f1_weighted, 2) , \n",
        "                                        round(MLP_avg_f1_weighted, 2)]})\n",
        "\n",
        "fig = px.bar(comp_df , x='Classifier Algorithm' , y='Acc Avg' , color='Classifier Algorithm' ,\n",
        "             title='Comparison of Accuracy Average (After Cross Validation) Between Different Algorithms' ,\n",
        "             text=\"Acc Avg\")\n",
        "fig.show()\n",
        "\n",
        "fig = px.bar(comp_df , x='Classifier Algorithm' , y='Rec Avg' , color='Classifier Algorithm' ,\n",
        "             title='Comparison of Weighted_Recall Average (After Cross Validation) Between Different Algorithms' ,\n",
        "             text=\"Rec Avg\")\n",
        "fig.show()\n",
        "\n",
        "fig = px.bar(comp_df , x='Classifier Algorithm' , y='Prc Avg' , color='Classifier Algorithm' ,\n",
        "             title='Comparison of Weighted_Precision Average (After Cross Validation) Between Different Algorithms' ,\n",
        "             text=\"Prc Avg\")\n",
        "fig.show()\n",
        "\n",
        "fig = px.bar(comp_df , x='Classifier Algorithm' , y='F1 Avg' , color='Classifier Algorithm' ,\n",
        "             title='Comparison of Weighted_F1score Average (After Cross Validation) Between Different Algorithms' ,\n",
        "             text=\"F1 Avg\")\n",
        "fig.show()"
      ],
      "metadata": {
        "colab": {
          "base_uri": "https://localhost:8080/",
          "height": 1000
        },
        "id": "XaW5odwgrZe6",
        "outputId": "f6d10968-48fe-4f74-835f-83bb24c70990"
      },
      "execution_count": null,
      "outputs": [
        {
          "output_type": "display_data",
          "data": {
            "text/html": [
              "<html>\n",
              "<head><meta charset=\"utf-8\" /></head>\n",
              "<body>\n",
              "    <div>            <script src=\"https://cdnjs.cloudflare.com/ajax/libs/mathjax/2.7.5/MathJax.js?config=TeX-AMS-MML_SVG\"></script><script type=\"text/javascript\">if (window.MathJax) {MathJax.Hub.Config({SVG: {font: \"STIX-Web\"}});}</script>                <script type=\"text/javascript\">window.PlotlyConfig = {MathJaxConfig: 'local'};</script>\n",
              "        <script src=\"https://cdn.plot.ly/plotly-2.8.3.min.js\"></script>                <div id=\"901f209b-3c88-4db9-8d64-01a671a21b80\" class=\"plotly-graph-div\" style=\"height:525px; width:100%;\"></div>            <script type=\"text/javascript\">                                    window.PLOTLYENV=window.PLOTLYENV || {};                                    if (document.getElementById(\"901f209b-3c88-4db9-8d64-01a671a21b80\")) {                    Plotly.newPlot(                        \"901f209b-3c88-4db9-8d64-01a671a21b80\",                        [{\"alignmentgroup\":\"True\",\"hovertemplate\":\"Classifier Algorithm=%{x}<br>Acc Avg=%{text}<extra></extra>\",\"legendgroup\":\"Logistic Regression\",\"marker\":{\"color\":\"#636efa\",\"pattern\":{\"shape\":\"\"}},\"name\":\"Logistic Regression\",\"offsetgroup\":\"Logistic Regression\",\"orientation\":\"v\",\"showlegend\":true,\"text\":[46.36],\"textposition\":\"auto\",\"x\":[\"Logistic Regression\"],\"xaxis\":\"x\",\"y\":[46.36],\"yaxis\":\"y\",\"type\":\"bar\"},{\"alignmentgroup\":\"True\",\"hovertemplate\":\"Classifier Algorithm=%{x}<br>Acc Avg=%{text}<extra></extra>\",\"legendgroup\":\"SVM\",\"marker\":{\"color\":\"#EF553B\",\"pattern\":{\"shape\":\"\"}},\"name\":\"SVM\",\"offsetgroup\":\"SVM\",\"orientation\":\"v\",\"showlegend\":true,\"text\":[50.15],\"textposition\":\"auto\",\"x\":[\"SVM\"],\"xaxis\":\"x\",\"y\":[50.15],\"yaxis\":\"y\",\"type\":\"bar\"},{\"alignmentgroup\":\"True\",\"hovertemplate\":\"Classifier Algorithm=%{x}<br>Acc Avg=%{text}<extra></extra>\",\"legendgroup\":\"Decision Tree\",\"marker\":{\"color\":\"#00cc96\",\"pattern\":{\"shape\":\"\"}},\"name\":\"Decision Tree\",\"offsetgroup\":\"Decision Tree\",\"orientation\":\"v\",\"showlegend\":true,\"text\":[40.57],\"textposition\":\"auto\",\"x\":[\"Decision Tree\"],\"xaxis\":\"x\",\"y\":[40.57],\"yaxis\":\"y\",\"type\":\"bar\"},{\"alignmentgroup\":\"True\",\"hovertemplate\":\"Classifier Algorithm=%{x}<br>Acc Avg=%{text}<extra></extra>\",\"legendgroup\":\"KNN\",\"marker\":{\"color\":\"#ab63fa\",\"pattern\":{\"shape\":\"\"}},\"name\":\"KNN\",\"offsetgroup\":\"KNN\",\"orientation\":\"v\",\"showlegend\":true,\"text\":[40.12],\"textposition\":\"auto\",\"x\":[\"KNN\"],\"xaxis\":\"x\",\"y\":[40.12],\"yaxis\":\"y\",\"type\":\"bar\"},{\"alignmentgroup\":\"True\",\"hovertemplate\":\"Classifier Algorithm=%{x}<br>Acc Avg=%{text}<extra></extra>\",\"legendgroup\":\"MLP\",\"marker\":{\"color\":\"#FFA15A\",\"pattern\":{\"shape\":\"\"}},\"name\":\"MLP\",\"offsetgroup\":\"MLP\",\"orientation\":\"v\",\"showlegend\":true,\"text\":[43.77],\"textposition\":\"auto\",\"x\":[\"MLP\"],\"xaxis\":\"x\",\"y\":[43.77],\"yaxis\":\"y\",\"type\":\"bar\"}],                        {\"template\":{\"data\":{\"bar\":[{\"error_x\":{\"color\":\"#2a3f5f\"},\"error_y\":{\"color\":\"#2a3f5f\"},\"marker\":{\"line\":{\"color\":\"#E5ECF6\",\"width\":0.5},\"pattern\":{\"fillmode\":\"overlay\",\"size\":10,\"solidity\":0.2}},\"type\":\"bar\"}],\"barpolar\":[{\"marker\":{\"line\":{\"color\":\"#E5ECF6\",\"width\":0.5},\"pattern\":{\"fillmode\":\"overlay\",\"size\":10,\"solidity\":0.2}},\"type\":\"barpolar\"}],\"carpet\":[{\"aaxis\":{\"endlinecolor\":\"#2a3f5f\",\"gridcolor\":\"white\",\"linecolor\":\"white\",\"minorgridcolor\":\"white\",\"startlinecolor\":\"#2a3f5f\"},\"baxis\":{\"endlinecolor\":\"#2a3f5f\",\"gridcolor\":\"white\",\"linecolor\":\"white\",\"minorgridcolor\":\"white\",\"startlinecolor\":\"#2a3f5f\"},\"type\":\"carpet\"}],\"choropleth\":[{\"colorbar\":{\"outlinewidth\":0,\"ticks\":\"\"},\"type\":\"choropleth\"}],\"contour\":[{\"colorbar\":{\"outlinewidth\":0,\"ticks\":\"\"},\"colorscale\":[[0.0,\"#0d0887\"],[0.1111111111111111,\"#46039f\"],[0.2222222222222222,\"#7201a8\"],[0.3333333333333333,\"#9c179e\"],[0.4444444444444444,\"#bd3786\"],[0.5555555555555556,\"#d8576b\"],[0.6666666666666666,\"#ed7953\"],[0.7777777777777778,\"#fb9f3a\"],[0.8888888888888888,\"#fdca26\"],[1.0,\"#f0f921\"]],\"type\":\"contour\"}],\"contourcarpet\":[{\"colorbar\":{\"outlinewidth\":0,\"ticks\":\"\"},\"type\":\"contourcarpet\"}],\"heatmap\":[{\"colorbar\":{\"outlinewidth\":0,\"ticks\":\"\"},\"colorscale\":[[0.0,\"#0d0887\"],[0.1111111111111111,\"#46039f\"],[0.2222222222222222,\"#7201a8\"],[0.3333333333333333,\"#9c179e\"],[0.4444444444444444,\"#bd3786\"],[0.5555555555555556,\"#d8576b\"],[0.6666666666666666,\"#ed7953\"],[0.7777777777777778,\"#fb9f3a\"],[0.8888888888888888,\"#fdca26\"],[1.0,\"#f0f921\"]],\"type\":\"heatmap\"}],\"heatmapgl\":[{\"colorbar\":{\"outlinewidth\":0,\"ticks\":\"\"},\"colorscale\":[[0.0,\"#0d0887\"],[0.1111111111111111,\"#46039f\"],[0.2222222222222222,\"#7201a8\"],[0.3333333333333333,\"#9c179e\"],[0.4444444444444444,\"#bd3786\"],[0.5555555555555556,\"#d8576b\"],[0.6666666666666666,\"#ed7953\"],[0.7777777777777778,\"#fb9f3a\"],[0.8888888888888888,\"#fdca26\"],[1.0,\"#f0f921\"]],\"type\":\"heatmapgl\"}],\"histogram\":[{\"marker\":{\"pattern\":{\"fillmode\":\"overlay\",\"size\":10,\"solidity\":0.2}},\"type\":\"histogram\"}],\"histogram2d\":[{\"colorbar\":{\"outlinewidth\":0,\"ticks\":\"\"},\"colorscale\":[[0.0,\"#0d0887\"],[0.1111111111111111,\"#46039f\"],[0.2222222222222222,\"#7201a8\"],[0.3333333333333333,\"#9c179e\"],[0.4444444444444444,\"#bd3786\"],[0.5555555555555556,\"#d8576b\"],[0.6666666666666666,\"#ed7953\"],[0.7777777777777778,\"#fb9f3a\"],[0.8888888888888888,\"#fdca26\"],[1.0,\"#f0f921\"]],\"type\":\"histogram2d\"}],\"histogram2dcontour\":[{\"colorbar\":{\"outlinewidth\":0,\"ticks\":\"\"},\"colorscale\":[[0.0,\"#0d0887\"],[0.1111111111111111,\"#46039f\"],[0.2222222222222222,\"#7201a8\"],[0.3333333333333333,\"#9c179e\"],[0.4444444444444444,\"#bd3786\"],[0.5555555555555556,\"#d8576b\"],[0.6666666666666666,\"#ed7953\"],[0.7777777777777778,\"#fb9f3a\"],[0.8888888888888888,\"#fdca26\"],[1.0,\"#f0f921\"]],\"type\":\"histogram2dcontour\"}],\"mesh3d\":[{\"colorbar\":{\"outlinewidth\":0,\"ticks\":\"\"},\"type\":\"mesh3d\"}],\"parcoords\":[{\"line\":{\"colorbar\":{\"outlinewidth\":0,\"ticks\":\"\"}},\"type\":\"parcoords\"}],\"pie\":[{\"automargin\":true,\"type\":\"pie\"}],\"scatter\":[{\"marker\":{\"colorbar\":{\"outlinewidth\":0,\"ticks\":\"\"}},\"type\":\"scatter\"}],\"scatter3d\":[{\"line\":{\"colorbar\":{\"outlinewidth\":0,\"ticks\":\"\"}},\"marker\":{\"colorbar\":{\"outlinewidth\":0,\"ticks\":\"\"}},\"type\":\"scatter3d\"}],\"scattercarpet\":[{\"marker\":{\"colorbar\":{\"outlinewidth\":0,\"ticks\":\"\"}},\"type\":\"scattercarpet\"}],\"scattergeo\":[{\"marker\":{\"colorbar\":{\"outlinewidth\":0,\"ticks\":\"\"}},\"type\":\"scattergeo\"}],\"scattergl\":[{\"marker\":{\"colorbar\":{\"outlinewidth\":0,\"ticks\":\"\"}},\"type\":\"scattergl\"}],\"scattermapbox\":[{\"marker\":{\"colorbar\":{\"outlinewidth\":0,\"ticks\":\"\"}},\"type\":\"scattermapbox\"}],\"scatterpolar\":[{\"marker\":{\"colorbar\":{\"outlinewidth\":0,\"ticks\":\"\"}},\"type\":\"scatterpolar\"}],\"scatterpolargl\":[{\"marker\":{\"colorbar\":{\"outlinewidth\":0,\"ticks\":\"\"}},\"type\":\"scatterpolargl\"}],\"scatterternary\":[{\"marker\":{\"colorbar\":{\"outlinewidth\":0,\"ticks\":\"\"}},\"type\":\"scatterternary\"}],\"surface\":[{\"colorbar\":{\"outlinewidth\":0,\"ticks\":\"\"},\"colorscale\":[[0.0,\"#0d0887\"],[0.1111111111111111,\"#46039f\"],[0.2222222222222222,\"#7201a8\"],[0.3333333333333333,\"#9c179e\"],[0.4444444444444444,\"#bd3786\"],[0.5555555555555556,\"#d8576b\"],[0.6666666666666666,\"#ed7953\"],[0.7777777777777778,\"#fb9f3a\"],[0.8888888888888888,\"#fdca26\"],[1.0,\"#f0f921\"]],\"type\":\"surface\"}],\"table\":[{\"cells\":{\"fill\":{\"color\":\"#EBF0F8\"},\"line\":{\"color\":\"white\"}},\"header\":{\"fill\":{\"color\":\"#C8D4E3\"},\"line\":{\"color\":\"white\"}},\"type\":\"table\"}]},\"layout\":{\"annotationdefaults\":{\"arrowcolor\":\"#2a3f5f\",\"arrowhead\":0,\"arrowwidth\":1},\"autotypenumbers\":\"strict\",\"coloraxis\":{\"colorbar\":{\"outlinewidth\":0,\"ticks\":\"\"}},\"colorscale\":{\"diverging\":[[0,\"#8e0152\"],[0.1,\"#c51b7d\"],[0.2,\"#de77ae\"],[0.3,\"#f1b6da\"],[0.4,\"#fde0ef\"],[0.5,\"#f7f7f7\"],[0.6,\"#e6f5d0\"],[0.7,\"#b8e186\"],[0.8,\"#7fbc41\"],[0.9,\"#4d9221\"],[1,\"#276419\"]],\"sequential\":[[0.0,\"#0d0887\"],[0.1111111111111111,\"#46039f\"],[0.2222222222222222,\"#7201a8\"],[0.3333333333333333,\"#9c179e\"],[0.4444444444444444,\"#bd3786\"],[0.5555555555555556,\"#d8576b\"],[0.6666666666666666,\"#ed7953\"],[0.7777777777777778,\"#fb9f3a\"],[0.8888888888888888,\"#fdca26\"],[1.0,\"#f0f921\"]],\"sequentialminus\":[[0.0,\"#0d0887\"],[0.1111111111111111,\"#46039f\"],[0.2222222222222222,\"#7201a8\"],[0.3333333333333333,\"#9c179e\"],[0.4444444444444444,\"#bd3786\"],[0.5555555555555556,\"#d8576b\"],[0.6666666666666666,\"#ed7953\"],[0.7777777777777778,\"#fb9f3a\"],[0.8888888888888888,\"#fdca26\"],[1.0,\"#f0f921\"]]},\"colorway\":[\"#636efa\",\"#EF553B\",\"#00cc96\",\"#ab63fa\",\"#FFA15A\",\"#19d3f3\",\"#FF6692\",\"#B6E880\",\"#FF97FF\",\"#FECB52\"],\"font\":{\"color\":\"#2a3f5f\"},\"geo\":{\"bgcolor\":\"white\",\"lakecolor\":\"white\",\"landcolor\":\"#E5ECF6\",\"showlakes\":true,\"showland\":true,\"subunitcolor\":\"white\"},\"hoverlabel\":{\"align\":\"left\"},\"hovermode\":\"closest\",\"mapbox\":{\"style\":\"light\"},\"paper_bgcolor\":\"white\",\"plot_bgcolor\":\"#E5ECF6\",\"polar\":{\"angularaxis\":{\"gridcolor\":\"white\",\"linecolor\":\"white\",\"ticks\":\"\"},\"bgcolor\":\"#E5ECF6\",\"radialaxis\":{\"gridcolor\":\"white\",\"linecolor\":\"white\",\"ticks\":\"\"}},\"scene\":{\"xaxis\":{\"backgroundcolor\":\"#E5ECF6\",\"gridcolor\":\"white\",\"gridwidth\":2,\"linecolor\":\"white\",\"showbackground\":true,\"ticks\":\"\",\"zerolinecolor\":\"white\"},\"yaxis\":{\"backgroundcolor\":\"#E5ECF6\",\"gridcolor\":\"white\",\"gridwidth\":2,\"linecolor\":\"white\",\"showbackground\":true,\"ticks\":\"\",\"zerolinecolor\":\"white\"},\"zaxis\":{\"backgroundcolor\":\"#E5ECF6\",\"gridcolor\":\"white\",\"gridwidth\":2,\"linecolor\":\"white\",\"showbackground\":true,\"ticks\":\"\",\"zerolinecolor\":\"white\"}},\"shapedefaults\":{\"line\":{\"color\":\"#2a3f5f\"}},\"ternary\":{\"aaxis\":{\"gridcolor\":\"white\",\"linecolor\":\"white\",\"ticks\":\"\"},\"baxis\":{\"gridcolor\":\"white\",\"linecolor\":\"white\",\"ticks\":\"\"},\"bgcolor\":\"#E5ECF6\",\"caxis\":{\"gridcolor\":\"white\",\"linecolor\":\"white\",\"ticks\":\"\"}},\"title\":{\"x\":0.05},\"xaxis\":{\"automargin\":true,\"gridcolor\":\"white\",\"linecolor\":\"white\",\"ticks\":\"\",\"title\":{\"standoff\":15},\"zerolinecolor\":\"white\",\"zerolinewidth\":2},\"yaxis\":{\"automargin\":true,\"gridcolor\":\"white\",\"linecolor\":\"white\",\"ticks\":\"\",\"title\":{\"standoff\":15},\"zerolinecolor\":\"white\",\"zerolinewidth\":2}}},\"xaxis\":{\"anchor\":\"y\",\"domain\":[0.0,1.0],\"title\":{\"text\":\"Classifier Algorithm\"},\"categoryorder\":\"array\",\"categoryarray\":[\"Logistic Regression\",\"SVM\",\"Decision Tree\",\"KNN\",\"MLP\"]},\"yaxis\":{\"anchor\":\"x\",\"domain\":[0.0,1.0],\"title\":{\"text\":\"Acc Avg\"}},\"legend\":{\"title\":{\"text\":\"Classifier Algorithm\"},\"tracegroupgap\":0},\"title\":{\"text\":\"Comparison of Accuracy Average (After Cross Validation) Between Different Algorithms\"},\"barmode\":\"relative\"},                        {\"responsive\": true}                    ).then(function(){\n",
              "                            \n",
              "var gd = document.getElementById('901f209b-3c88-4db9-8d64-01a671a21b80');\n",
              "var x = new MutationObserver(function (mutations, observer) {{\n",
              "        var display = window.getComputedStyle(gd).display;\n",
              "        if (!display || display === 'none') {{\n",
              "            console.log([gd, 'removed!']);\n",
              "            Plotly.purge(gd);\n",
              "            observer.disconnect();\n",
              "        }}\n",
              "}});\n",
              "\n",
              "// Listen for the removal of the full notebook cells\n",
              "var notebookContainer = gd.closest('#notebook-container');\n",
              "if (notebookContainer) {{\n",
              "    x.observe(notebookContainer, {childList: true});\n",
              "}}\n",
              "\n",
              "// Listen for the clearing of the current output cell\n",
              "var outputEl = gd.closest('.output');\n",
              "if (outputEl) {{\n",
              "    x.observe(outputEl, {childList: true});\n",
              "}}\n",
              "\n",
              "                        })                };                            </script>        </div>\n",
              "</body>\n",
              "</html>"
            ]
          },
          "metadata": {}
        },
        {
          "output_type": "display_data",
          "data": {
            "text/html": [
              "<html>\n",
              "<head><meta charset=\"utf-8\" /></head>\n",
              "<body>\n",
              "    <div>            <script src=\"https://cdnjs.cloudflare.com/ajax/libs/mathjax/2.7.5/MathJax.js?config=TeX-AMS-MML_SVG\"></script><script type=\"text/javascript\">if (window.MathJax) {MathJax.Hub.Config({SVG: {font: \"STIX-Web\"}});}</script>                <script type=\"text/javascript\">window.PlotlyConfig = {MathJaxConfig: 'local'};</script>\n",
              "        <script src=\"https://cdn.plot.ly/plotly-2.8.3.min.js\"></script>                <div id=\"efbe71ca-606d-40f4-ad7a-27435bd49554\" class=\"plotly-graph-div\" style=\"height:525px; width:100%;\"></div>            <script type=\"text/javascript\">                                    window.PLOTLYENV=window.PLOTLYENV || {};                                    if (document.getElementById(\"efbe71ca-606d-40f4-ad7a-27435bd49554\")) {                    Plotly.newPlot(                        \"efbe71ca-606d-40f4-ad7a-27435bd49554\",                        [{\"alignmentgroup\":\"True\",\"hovertemplate\":\"Classifier Algorithm=%{x}<br>Rec Avg=%{text}<extra></extra>\",\"legendgroup\":\"Logistic Regression\",\"marker\":{\"color\":\"#636efa\",\"pattern\":{\"shape\":\"\"}},\"name\":\"Logistic Regression\",\"offsetgroup\":\"Logistic Regression\",\"orientation\":\"v\",\"showlegend\":true,\"text\":[46.36],\"textposition\":\"auto\",\"x\":[\"Logistic Regression\"],\"xaxis\":\"x\",\"y\":[46.36],\"yaxis\":\"y\",\"type\":\"bar\"},{\"alignmentgroup\":\"True\",\"hovertemplate\":\"Classifier Algorithm=%{x}<br>Rec Avg=%{text}<extra></extra>\",\"legendgroup\":\"SVM\",\"marker\":{\"color\":\"#EF553B\",\"pattern\":{\"shape\":\"\"}},\"name\":\"SVM\",\"offsetgroup\":\"SVM\",\"orientation\":\"v\",\"showlegend\":true,\"text\":[50.15],\"textposition\":\"auto\",\"x\":[\"SVM\"],\"xaxis\":\"x\",\"y\":[50.15],\"yaxis\":\"y\",\"type\":\"bar\"},{\"alignmentgroup\":\"True\",\"hovertemplate\":\"Classifier Algorithm=%{x}<br>Rec Avg=%{text}<extra></extra>\",\"legendgroup\":\"Decision Tree\",\"marker\":{\"color\":\"#00cc96\",\"pattern\":{\"shape\":\"\"}},\"name\":\"Decision Tree\",\"offsetgroup\":\"Decision Tree\",\"orientation\":\"v\",\"showlegend\":true,\"text\":[40.46],\"textposition\":\"auto\",\"x\":[\"Decision Tree\"],\"xaxis\":\"x\",\"y\":[40.46],\"yaxis\":\"y\",\"type\":\"bar\"},{\"alignmentgroup\":\"True\",\"hovertemplate\":\"Classifier Algorithm=%{x}<br>Rec Avg=%{text}<extra></extra>\",\"legendgroup\":\"KNN\",\"marker\":{\"color\":\"#ab63fa\",\"pattern\":{\"shape\":\"\"}},\"name\":\"KNN\",\"offsetgroup\":\"KNN\",\"orientation\":\"v\",\"showlegend\":true,\"text\":[40.12],\"textposition\":\"auto\",\"x\":[\"KNN\"],\"xaxis\":\"x\",\"y\":[40.12],\"yaxis\":\"y\",\"type\":\"bar\"},{\"alignmentgroup\":\"True\",\"hovertemplate\":\"Classifier Algorithm=%{x}<br>Rec Avg=%{text}<extra></extra>\",\"legendgroup\":\"MLP\",\"marker\":{\"color\":\"#FFA15A\",\"pattern\":{\"shape\":\"\"}},\"name\":\"MLP\",\"offsetgroup\":\"MLP\",\"orientation\":\"v\",\"showlegend\":true,\"text\":[43.77],\"textposition\":\"auto\",\"x\":[\"MLP\"],\"xaxis\":\"x\",\"y\":[43.77],\"yaxis\":\"y\",\"type\":\"bar\"}],                        {\"template\":{\"data\":{\"bar\":[{\"error_x\":{\"color\":\"#2a3f5f\"},\"error_y\":{\"color\":\"#2a3f5f\"},\"marker\":{\"line\":{\"color\":\"#E5ECF6\",\"width\":0.5},\"pattern\":{\"fillmode\":\"overlay\",\"size\":10,\"solidity\":0.2}},\"type\":\"bar\"}],\"barpolar\":[{\"marker\":{\"line\":{\"color\":\"#E5ECF6\",\"width\":0.5},\"pattern\":{\"fillmode\":\"overlay\",\"size\":10,\"solidity\":0.2}},\"type\":\"barpolar\"}],\"carpet\":[{\"aaxis\":{\"endlinecolor\":\"#2a3f5f\",\"gridcolor\":\"white\",\"linecolor\":\"white\",\"minorgridcolor\":\"white\",\"startlinecolor\":\"#2a3f5f\"},\"baxis\":{\"endlinecolor\":\"#2a3f5f\",\"gridcolor\":\"white\",\"linecolor\":\"white\",\"minorgridcolor\":\"white\",\"startlinecolor\":\"#2a3f5f\"},\"type\":\"carpet\"}],\"choropleth\":[{\"colorbar\":{\"outlinewidth\":0,\"ticks\":\"\"},\"type\":\"choropleth\"}],\"contour\":[{\"colorbar\":{\"outlinewidth\":0,\"ticks\":\"\"},\"colorscale\":[[0.0,\"#0d0887\"],[0.1111111111111111,\"#46039f\"],[0.2222222222222222,\"#7201a8\"],[0.3333333333333333,\"#9c179e\"],[0.4444444444444444,\"#bd3786\"],[0.5555555555555556,\"#d8576b\"],[0.6666666666666666,\"#ed7953\"],[0.7777777777777778,\"#fb9f3a\"],[0.8888888888888888,\"#fdca26\"],[1.0,\"#f0f921\"]],\"type\":\"contour\"}],\"contourcarpet\":[{\"colorbar\":{\"outlinewidth\":0,\"ticks\":\"\"},\"type\":\"contourcarpet\"}],\"heatmap\":[{\"colorbar\":{\"outlinewidth\":0,\"ticks\":\"\"},\"colorscale\":[[0.0,\"#0d0887\"],[0.1111111111111111,\"#46039f\"],[0.2222222222222222,\"#7201a8\"],[0.3333333333333333,\"#9c179e\"],[0.4444444444444444,\"#bd3786\"],[0.5555555555555556,\"#d8576b\"],[0.6666666666666666,\"#ed7953\"],[0.7777777777777778,\"#fb9f3a\"],[0.8888888888888888,\"#fdca26\"],[1.0,\"#f0f921\"]],\"type\":\"heatmap\"}],\"heatmapgl\":[{\"colorbar\":{\"outlinewidth\":0,\"ticks\":\"\"},\"colorscale\":[[0.0,\"#0d0887\"],[0.1111111111111111,\"#46039f\"],[0.2222222222222222,\"#7201a8\"],[0.3333333333333333,\"#9c179e\"],[0.4444444444444444,\"#bd3786\"],[0.5555555555555556,\"#d8576b\"],[0.6666666666666666,\"#ed7953\"],[0.7777777777777778,\"#fb9f3a\"],[0.8888888888888888,\"#fdca26\"],[1.0,\"#f0f921\"]],\"type\":\"heatmapgl\"}],\"histogram\":[{\"marker\":{\"pattern\":{\"fillmode\":\"overlay\",\"size\":10,\"solidity\":0.2}},\"type\":\"histogram\"}],\"histogram2d\":[{\"colorbar\":{\"outlinewidth\":0,\"ticks\":\"\"},\"colorscale\":[[0.0,\"#0d0887\"],[0.1111111111111111,\"#46039f\"],[0.2222222222222222,\"#7201a8\"],[0.3333333333333333,\"#9c179e\"],[0.4444444444444444,\"#bd3786\"],[0.5555555555555556,\"#d8576b\"],[0.6666666666666666,\"#ed7953\"],[0.7777777777777778,\"#fb9f3a\"],[0.8888888888888888,\"#fdca26\"],[1.0,\"#f0f921\"]],\"type\":\"histogram2d\"}],\"histogram2dcontour\":[{\"colorbar\":{\"outlinewidth\":0,\"ticks\":\"\"},\"colorscale\":[[0.0,\"#0d0887\"],[0.1111111111111111,\"#46039f\"],[0.2222222222222222,\"#7201a8\"],[0.3333333333333333,\"#9c179e\"],[0.4444444444444444,\"#bd3786\"],[0.5555555555555556,\"#d8576b\"],[0.6666666666666666,\"#ed7953\"],[0.7777777777777778,\"#fb9f3a\"],[0.8888888888888888,\"#fdca26\"],[1.0,\"#f0f921\"]],\"type\":\"histogram2dcontour\"}],\"mesh3d\":[{\"colorbar\":{\"outlinewidth\":0,\"ticks\":\"\"},\"type\":\"mesh3d\"}],\"parcoords\":[{\"line\":{\"colorbar\":{\"outlinewidth\":0,\"ticks\":\"\"}},\"type\":\"parcoords\"}],\"pie\":[{\"automargin\":true,\"type\":\"pie\"}],\"scatter\":[{\"marker\":{\"colorbar\":{\"outlinewidth\":0,\"ticks\":\"\"}},\"type\":\"scatter\"}],\"scatter3d\":[{\"line\":{\"colorbar\":{\"outlinewidth\":0,\"ticks\":\"\"}},\"marker\":{\"colorbar\":{\"outlinewidth\":0,\"ticks\":\"\"}},\"type\":\"scatter3d\"}],\"scattercarpet\":[{\"marker\":{\"colorbar\":{\"outlinewidth\":0,\"ticks\":\"\"}},\"type\":\"scattercarpet\"}],\"scattergeo\":[{\"marker\":{\"colorbar\":{\"outlinewidth\":0,\"ticks\":\"\"}},\"type\":\"scattergeo\"}],\"scattergl\":[{\"marker\":{\"colorbar\":{\"outlinewidth\":0,\"ticks\":\"\"}},\"type\":\"scattergl\"}],\"scattermapbox\":[{\"marker\":{\"colorbar\":{\"outlinewidth\":0,\"ticks\":\"\"}},\"type\":\"scattermapbox\"}],\"scatterpolar\":[{\"marker\":{\"colorbar\":{\"outlinewidth\":0,\"ticks\":\"\"}},\"type\":\"scatterpolar\"}],\"scatterpolargl\":[{\"marker\":{\"colorbar\":{\"outlinewidth\":0,\"ticks\":\"\"}},\"type\":\"scatterpolargl\"}],\"scatterternary\":[{\"marker\":{\"colorbar\":{\"outlinewidth\":0,\"ticks\":\"\"}},\"type\":\"scatterternary\"}],\"surface\":[{\"colorbar\":{\"outlinewidth\":0,\"ticks\":\"\"},\"colorscale\":[[0.0,\"#0d0887\"],[0.1111111111111111,\"#46039f\"],[0.2222222222222222,\"#7201a8\"],[0.3333333333333333,\"#9c179e\"],[0.4444444444444444,\"#bd3786\"],[0.5555555555555556,\"#d8576b\"],[0.6666666666666666,\"#ed7953\"],[0.7777777777777778,\"#fb9f3a\"],[0.8888888888888888,\"#fdca26\"],[1.0,\"#f0f921\"]],\"type\":\"surface\"}],\"table\":[{\"cells\":{\"fill\":{\"color\":\"#EBF0F8\"},\"line\":{\"color\":\"white\"}},\"header\":{\"fill\":{\"color\":\"#C8D4E3\"},\"line\":{\"color\":\"white\"}},\"type\":\"table\"}]},\"layout\":{\"annotationdefaults\":{\"arrowcolor\":\"#2a3f5f\",\"arrowhead\":0,\"arrowwidth\":1},\"autotypenumbers\":\"strict\",\"coloraxis\":{\"colorbar\":{\"outlinewidth\":0,\"ticks\":\"\"}},\"colorscale\":{\"diverging\":[[0,\"#8e0152\"],[0.1,\"#c51b7d\"],[0.2,\"#de77ae\"],[0.3,\"#f1b6da\"],[0.4,\"#fde0ef\"],[0.5,\"#f7f7f7\"],[0.6,\"#e6f5d0\"],[0.7,\"#b8e186\"],[0.8,\"#7fbc41\"],[0.9,\"#4d9221\"],[1,\"#276419\"]],\"sequential\":[[0.0,\"#0d0887\"],[0.1111111111111111,\"#46039f\"],[0.2222222222222222,\"#7201a8\"],[0.3333333333333333,\"#9c179e\"],[0.4444444444444444,\"#bd3786\"],[0.5555555555555556,\"#d8576b\"],[0.6666666666666666,\"#ed7953\"],[0.7777777777777778,\"#fb9f3a\"],[0.8888888888888888,\"#fdca26\"],[1.0,\"#f0f921\"]],\"sequentialminus\":[[0.0,\"#0d0887\"],[0.1111111111111111,\"#46039f\"],[0.2222222222222222,\"#7201a8\"],[0.3333333333333333,\"#9c179e\"],[0.4444444444444444,\"#bd3786\"],[0.5555555555555556,\"#d8576b\"],[0.6666666666666666,\"#ed7953\"],[0.7777777777777778,\"#fb9f3a\"],[0.8888888888888888,\"#fdca26\"],[1.0,\"#f0f921\"]]},\"colorway\":[\"#636efa\",\"#EF553B\",\"#00cc96\",\"#ab63fa\",\"#FFA15A\",\"#19d3f3\",\"#FF6692\",\"#B6E880\",\"#FF97FF\",\"#FECB52\"],\"font\":{\"color\":\"#2a3f5f\"},\"geo\":{\"bgcolor\":\"white\",\"lakecolor\":\"white\",\"landcolor\":\"#E5ECF6\",\"showlakes\":true,\"showland\":true,\"subunitcolor\":\"white\"},\"hoverlabel\":{\"align\":\"left\"},\"hovermode\":\"closest\",\"mapbox\":{\"style\":\"light\"},\"paper_bgcolor\":\"white\",\"plot_bgcolor\":\"#E5ECF6\",\"polar\":{\"angularaxis\":{\"gridcolor\":\"white\",\"linecolor\":\"white\",\"ticks\":\"\"},\"bgcolor\":\"#E5ECF6\",\"radialaxis\":{\"gridcolor\":\"white\",\"linecolor\":\"white\",\"ticks\":\"\"}},\"scene\":{\"xaxis\":{\"backgroundcolor\":\"#E5ECF6\",\"gridcolor\":\"white\",\"gridwidth\":2,\"linecolor\":\"white\",\"showbackground\":true,\"ticks\":\"\",\"zerolinecolor\":\"white\"},\"yaxis\":{\"backgroundcolor\":\"#E5ECF6\",\"gridcolor\":\"white\",\"gridwidth\":2,\"linecolor\":\"white\",\"showbackground\":true,\"ticks\":\"\",\"zerolinecolor\":\"white\"},\"zaxis\":{\"backgroundcolor\":\"#E5ECF6\",\"gridcolor\":\"white\",\"gridwidth\":2,\"linecolor\":\"white\",\"showbackground\":true,\"ticks\":\"\",\"zerolinecolor\":\"white\"}},\"shapedefaults\":{\"line\":{\"color\":\"#2a3f5f\"}},\"ternary\":{\"aaxis\":{\"gridcolor\":\"white\",\"linecolor\":\"white\",\"ticks\":\"\"},\"baxis\":{\"gridcolor\":\"white\",\"linecolor\":\"white\",\"ticks\":\"\"},\"bgcolor\":\"#E5ECF6\",\"caxis\":{\"gridcolor\":\"white\",\"linecolor\":\"white\",\"ticks\":\"\"}},\"title\":{\"x\":0.05},\"xaxis\":{\"automargin\":true,\"gridcolor\":\"white\",\"linecolor\":\"white\",\"ticks\":\"\",\"title\":{\"standoff\":15},\"zerolinecolor\":\"white\",\"zerolinewidth\":2},\"yaxis\":{\"automargin\":true,\"gridcolor\":\"white\",\"linecolor\":\"white\",\"ticks\":\"\",\"title\":{\"standoff\":15},\"zerolinecolor\":\"white\",\"zerolinewidth\":2}}},\"xaxis\":{\"anchor\":\"y\",\"domain\":[0.0,1.0],\"title\":{\"text\":\"Classifier Algorithm\"},\"categoryorder\":\"array\",\"categoryarray\":[\"Logistic Regression\",\"SVM\",\"Decision Tree\",\"KNN\",\"MLP\"]},\"yaxis\":{\"anchor\":\"x\",\"domain\":[0.0,1.0],\"title\":{\"text\":\"Rec Avg\"}},\"legend\":{\"title\":{\"text\":\"Classifier Algorithm\"},\"tracegroupgap\":0},\"title\":{\"text\":\"Comparison of Weighted_Recall Average (After Cross Validation) Between Different Algorithms\"},\"barmode\":\"relative\"},                        {\"responsive\": true}                    ).then(function(){\n",
              "                            \n",
              "var gd = document.getElementById('efbe71ca-606d-40f4-ad7a-27435bd49554');\n",
              "var x = new MutationObserver(function (mutations, observer) {{\n",
              "        var display = window.getComputedStyle(gd).display;\n",
              "        if (!display || display === 'none') {{\n",
              "            console.log([gd, 'removed!']);\n",
              "            Plotly.purge(gd);\n",
              "            observer.disconnect();\n",
              "        }}\n",
              "}});\n",
              "\n",
              "// Listen for the removal of the full notebook cells\n",
              "var notebookContainer = gd.closest('#notebook-container');\n",
              "if (notebookContainer) {{\n",
              "    x.observe(notebookContainer, {childList: true});\n",
              "}}\n",
              "\n",
              "// Listen for the clearing of the current output cell\n",
              "var outputEl = gd.closest('.output');\n",
              "if (outputEl) {{\n",
              "    x.observe(outputEl, {childList: true});\n",
              "}}\n",
              "\n",
              "                        })                };                            </script>        </div>\n",
              "</body>\n",
              "</html>"
            ]
          },
          "metadata": {}
        },
        {
          "output_type": "display_data",
          "data": {
            "text/html": [
              "<html>\n",
              "<head><meta charset=\"utf-8\" /></head>\n",
              "<body>\n",
              "    <div>            <script src=\"https://cdnjs.cloudflare.com/ajax/libs/mathjax/2.7.5/MathJax.js?config=TeX-AMS-MML_SVG\"></script><script type=\"text/javascript\">if (window.MathJax) {MathJax.Hub.Config({SVG: {font: \"STIX-Web\"}});}</script>                <script type=\"text/javascript\">window.PlotlyConfig = {MathJaxConfig: 'local'};</script>\n",
              "        <script src=\"https://cdn.plot.ly/plotly-2.8.3.min.js\"></script>                <div id=\"15851f85-6a4f-4085-88d4-f5bcef5b2334\" class=\"plotly-graph-div\" style=\"height:525px; width:100%;\"></div>            <script type=\"text/javascript\">                                    window.PLOTLYENV=window.PLOTLYENV || {};                                    if (document.getElementById(\"15851f85-6a4f-4085-88d4-f5bcef5b2334\")) {                    Plotly.newPlot(                        \"15851f85-6a4f-4085-88d4-f5bcef5b2334\",                        [{\"alignmentgroup\":\"True\",\"hovertemplate\":\"Classifier Algorithm=%{x}<br>Prc Avg=%{text}<extra></extra>\",\"legendgroup\":\"Logistic Regression\",\"marker\":{\"color\":\"#636efa\",\"pattern\":{\"shape\":\"\"}},\"name\":\"Logistic Regression\",\"offsetgroup\":\"Logistic Regression\",\"orientation\":\"v\",\"showlegend\":true,\"text\":[46.43],\"textposition\":\"auto\",\"x\":[\"Logistic Regression\"],\"xaxis\":\"x\",\"y\":[46.43],\"yaxis\":\"y\",\"type\":\"bar\"},{\"alignmentgroup\":\"True\",\"hovertemplate\":\"Classifier Algorithm=%{x}<br>Prc Avg=%{text}<extra></extra>\",\"legendgroup\":\"SVM\",\"marker\":{\"color\":\"#EF553B\",\"pattern\":{\"shape\":\"\"}},\"name\":\"SVM\",\"offsetgroup\":\"SVM\",\"orientation\":\"v\",\"showlegend\":true,\"text\":[50.59],\"textposition\":\"auto\",\"x\":[\"SVM\"],\"xaxis\":\"x\",\"y\":[50.59],\"yaxis\":\"y\",\"type\":\"bar\"},{\"alignmentgroup\":\"True\",\"hovertemplate\":\"Classifier Algorithm=%{x}<br>Prc Avg=%{text}<extra></extra>\",\"legendgroup\":\"Decision Tree\",\"marker\":{\"color\":\"#00cc96\",\"pattern\":{\"shape\":\"\"}},\"name\":\"Decision Tree\",\"offsetgroup\":\"Decision Tree\",\"orientation\":\"v\",\"showlegend\":true,\"text\":[40.35],\"textposition\":\"auto\",\"x\":[\"Decision Tree\"],\"xaxis\":\"x\",\"y\":[40.35],\"yaxis\":\"y\",\"type\":\"bar\"},{\"alignmentgroup\":\"True\",\"hovertemplate\":\"Classifier Algorithm=%{x}<br>Prc Avg=%{text}<extra></extra>\",\"legendgroup\":\"KNN\",\"marker\":{\"color\":\"#ab63fa\",\"pattern\":{\"shape\":\"\"}},\"name\":\"KNN\",\"offsetgroup\":\"KNN\",\"orientation\":\"v\",\"showlegend\":true,\"text\":[40.38],\"textposition\":\"auto\",\"x\":[\"KNN\"],\"xaxis\":\"x\",\"y\":[40.38],\"yaxis\":\"y\",\"type\":\"bar\"},{\"alignmentgroup\":\"True\",\"hovertemplate\":\"Classifier Algorithm=%{x}<br>Prc Avg=%{text}<extra></extra>\",\"legendgroup\":\"MLP\",\"marker\":{\"color\":\"#FFA15A\",\"pattern\":{\"shape\":\"\"}},\"name\":\"MLP\",\"offsetgroup\":\"MLP\",\"orientation\":\"v\",\"showlegend\":true,\"text\":[43.16],\"textposition\":\"auto\",\"x\":[\"MLP\"],\"xaxis\":\"x\",\"y\":[43.16],\"yaxis\":\"y\",\"type\":\"bar\"}],                        {\"template\":{\"data\":{\"bar\":[{\"error_x\":{\"color\":\"#2a3f5f\"},\"error_y\":{\"color\":\"#2a3f5f\"},\"marker\":{\"line\":{\"color\":\"#E5ECF6\",\"width\":0.5},\"pattern\":{\"fillmode\":\"overlay\",\"size\":10,\"solidity\":0.2}},\"type\":\"bar\"}],\"barpolar\":[{\"marker\":{\"line\":{\"color\":\"#E5ECF6\",\"width\":0.5},\"pattern\":{\"fillmode\":\"overlay\",\"size\":10,\"solidity\":0.2}},\"type\":\"barpolar\"}],\"carpet\":[{\"aaxis\":{\"endlinecolor\":\"#2a3f5f\",\"gridcolor\":\"white\",\"linecolor\":\"white\",\"minorgridcolor\":\"white\",\"startlinecolor\":\"#2a3f5f\"},\"baxis\":{\"endlinecolor\":\"#2a3f5f\",\"gridcolor\":\"white\",\"linecolor\":\"white\",\"minorgridcolor\":\"white\",\"startlinecolor\":\"#2a3f5f\"},\"type\":\"carpet\"}],\"choropleth\":[{\"colorbar\":{\"outlinewidth\":0,\"ticks\":\"\"},\"type\":\"choropleth\"}],\"contour\":[{\"colorbar\":{\"outlinewidth\":0,\"ticks\":\"\"},\"colorscale\":[[0.0,\"#0d0887\"],[0.1111111111111111,\"#46039f\"],[0.2222222222222222,\"#7201a8\"],[0.3333333333333333,\"#9c179e\"],[0.4444444444444444,\"#bd3786\"],[0.5555555555555556,\"#d8576b\"],[0.6666666666666666,\"#ed7953\"],[0.7777777777777778,\"#fb9f3a\"],[0.8888888888888888,\"#fdca26\"],[1.0,\"#f0f921\"]],\"type\":\"contour\"}],\"contourcarpet\":[{\"colorbar\":{\"outlinewidth\":0,\"ticks\":\"\"},\"type\":\"contourcarpet\"}],\"heatmap\":[{\"colorbar\":{\"outlinewidth\":0,\"ticks\":\"\"},\"colorscale\":[[0.0,\"#0d0887\"],[0.1111111111111111,\"#46039f\"],[0.2222222222222222,\"#7201a8\"],[0.3333333333333333,\"#9c179e\"],[0.4444444444444444,\"#bd3786\"],[0.5555555555555556,\"#d8576b\"],[0.6666666666666666,\"#ed7953\"],[0.7777777777777778,\"#fb9f3a\"],[0.8888888888888888,\"#fdca26\"],[1.0,\"#f0f921\"]],\"type\":\"heatmap\"}],\"heatmapgl\":[{\"colorbar\":{\"outlinewidth\":0,\"ticks\":\"\"},\"colorscale\":[[0.0,\"#0d0887\"],[0.1111111111111111,\"#46039f\"],[0.2222222222222222,\"#7201a8\"],[0.3333333333333333,\"#9c179e\"],[0.4444444444444444,\"#bd3786\"],[0.5555555555555556,\"#d8576b\"],[0.6666666666666666,\"#ed7953\"],[0.7777777777777778,\"#fb9f3a\"],[0.8888888888888888,\"#fdca26\"],[1.0,\"#f0f921\"]],\"type\":\"heatmapgl\"}],\"histogram\":[{\"marker\":{\"pattern\":{\"fillmode\":\"overlay\",\"size\":10,\"solidity\":0.2}},\"type\":\"histogram\"}],\"histogram2d\":[{\"colorbar\":{\"outlinewidth\":0,\"ticks\":\"\"},\"colorscale\":[[0.0,\"#0d0887\"],[0.1111111111111111,\"#46039f\"],[0.2222222222222222,\"#7201a8\"],[0.3333333333333333,\"#9c179e\"],[0.4444444444444444,\"#bd3786\"],[0.5555555555555556,\"#d8576b\"],[0.6666666666666666,\"#ed7953\"],[0.7777777777777778,\"#fb9f3a\"],[0.8888888888888888,\"#fdca26\"],[1.0,\"#f0f921\"]],\"type\":\"histogram2d\"}],\"histogram2dcontour\":[{\"colorbar\":{\"outlinewidth\":0,\"ticks\":\"\"},\"colorscale\":[[0.0,\"#0d0887\"],[0.1111111111111111,\"#46039f\"],[0.2222222222222222,\"#7201a8\"],[0.3333333333333333,\"#9c179e\"],[0.4444444444444444,\"#bd3786\"],[0.5555555555555556,\"#d8576b\"],[0.6666666666666666,\"#ed7953\"],[0.7777777777777778,\"#fb9f3a\"],[0.8888888888888888,\"#fdca26\"],[1.0,\"#f0f921\"]],\"type\":\"histogram2dcontour\"}],\"mesh3d\":[{\"colorbar\":{\"outlinewidth\":0,\"ticks\":\"\"},\"type\":\"mesh3d\"}],\"parcoords\":[{\"line\":{\"colorbar\":{\"outlinewidth\":0,\"ticks\":\"\"}},\"type\":\"parcoords\"}],\"pie\":[{\"automargin\":true,\"type\":\"pie\"}],\"scatter\":[{\"marker\":{\"colorbar\":{\"outlinewidth\":0,\"ticks\":\"\"}},\"type\":\"scatter\"}],\"scatter3d\":[{\"line\":{\"colorbar\":{\"outlinewidth\":0,\"ticks\":\"\"}},\"marker\":{\"colorbar\":{\"outlinewidth\":0,\"ticks\":\"\"}},\"type\":\"scatter3d\"}],\"scattercarpet\":[{\"marker\":{\"colorbar\":{\"outlinewidth\":0,\"ticks\":\"\"}},\"type\":\"scattercarpet\"}],\"scattergeo\":[{\"marker\":{\"colorbar\":{\"outlinewidth\":0,\"ticks\":\"\"}},\"type\":\"scattergeo\"}],\"scattergl\":[{\"marker\":{\"colorbar\":{\"outlinewidth\":0,\"ticks\":\"\"}},\"type\":\"scattergl\"}],\"scattermapbox\":[{\"marker\":{\"colorbar\":{\"outlinewidth\":0,\"ticks\":\"\"}},\"type\":\"scattermapbox\"}],\"scatterpolar\":[{\"marker\":{\"colorbar\":{\"outlinewidth\":0,\"ticks\":\"\"}},\"type\":\"scatterpolar\"}],\"scatterpolargl\":[{\"marker\":{\"colorbar\":{\"outlinewidth\":0,\"ticks\":\"\"}},\"type\":\"scatterpolargl\"}],\"scatterternary\":[{\"marker\":{\"colorbar\":{\"outlinewidth\":0,\"ticks\":\"\"}},\"type\":\"scatterternary\"}],\"surface\":[{\"colorbar\":{\"outlinewidth\":0,\"ticks\":\"\"},\"colorscale\":[[0.0,\"#0d0887\"],[0.1111111111111111,\"#46039f\"],[0.2222222222222222,\"#7201a8\"],[0.3333333333333333,\"#9c179e\"],[0.4444444444444444,\"#bd3786\"],[0.5555555555555556,\"#d8576b\"],[0.6666666666666666,\"#ed7953\"],[0.7777777777777778,\"#fb9f3a\"],[0.8888888888888888,\"#fdca26\"],[1.0,\"#f0f921\"]],\"type\":\"surface\"}],\"table\":[{\"cells\":{\"fill\":{\"color\":\"#EBF0F8\"},\"line\":{\"color\":\"white\"}},\"header\":{\"fill\":{\"color\":\"#C8D4E3\"},\"line\":{\"color\":\"white\"}},\"type\":\"table\"}]},\"layout\":{\"annotationdefaults\":{\"arrowcolor\":\"#2a3f5f\",\"arrowhead\":0,\"arrowwidth\":1},\"autotypenumbers\":\"strict\",\"coloraxis\":{\"colorbar\":{\"outlinewidth\":0,\"ticks\":\"\"}},\"colorscale\":{\"diverging\":[[0,\"#8e0152\"],[0.1,\"#c51b7d\"],[0.2,\"#de77ae\"],[0.3,\"#f1b6da\"],[0.4,\"#fde0ef\"],[0.5,\"#f7f7f7\"],[0.6,\"#e6f5d0\"],[0.7,\"#b8e186\"],[0.8,\"#7fbc41\"],[0.9,\"#4d9221\"],[1,\"#276419\"]],\"sequential\":[[0.0,\"#0d0887\"],[0.1111111111111111,\"#46039f\"],[0.2222222222222222,\"#7201a8\"],[0.3333333333333333,\"#9c179e\"],[0.4444444444444444,\"#bd3786\"],[0.5555555555555556,\"#d8576b\"],[0.6666666666666666,\"#ed7953\"],[0.7777777777777778,\"#fb9f3a\"],[0.8888888888888888,\"#fdca26\"],[1.0,\"#f0f921\"]],\"sequentialminus\":[[0.0,\"#0d0887\"],[0.1111111111111111,\"#46039f\"],[0.2222222222222222,\"#7201a8\"],[0.3333333333333333,\"#9c179e\"],[0.4444444444444444,\"#bd3786\"],[0.5555555555555556,\"#d8576b\"],[0.6666666666666666,\"#ed7953\"],[0.7777777777777778,\"#fb9f3a\"],[0.8888888888888888,\"#fdca26\"],[1.0,\"#f0f921\"]]},\"colorway\":[\"#636efa\",\"#EF553B\",\"#00cc96\",\"#ab63fa\",\"#FFA15A\",\"#19d3f3\",\"#FF6692\",\"#B6E880\",\"#FF97FF\",\"#FECB52\"],\"font\":{\"color\":\"#2a3f5f\"},\"geo\":{\"bgcolor\":\"white\",\"lakecolor\":\"white\",\"landcolor\":\"#E5ECF6\",\"showlakes\":true,\"showland\":true,\"subunitcolor\":\"white\"},\"hoverlabel\":{\"align\":\"left\"},\"hovermode\":\"closest\",\"mapbox\":{\"style\":\"light\"},\"paper_bgcolor\":\"white\",\"plot_bgcolor\":\"#E5ECF6\",\"polar\":{\"angularaxis\":{\"gridcolor\":\"white\",\"linecolor\":\"white\",\"ticks\":\"\"},\"bgcolor\":\"#E5ECF6\",\"radialaxis\":{\"gridcolor\":\"white\",\"linecolor\":\"white\",\"ticks\":\"\"}},\"scene\":{\"xaxis\":{\"backgroundcolor\":\"#E5ECF6\",\"gridcolor\":\"white\",\"gridwidth\":2,\"linecolor\":\"white\",\"showbackground\":true,\"ticks\":\"\",\"zerolinecolor\":\"white\"},\"yaxis\":{\"backgroundcolor\":\"#E5ECF6\",\"gridcolor\":\"white\",\"gridwidth\":2,\"linecolor\":\"white\",\"showbackground\":true,\"ticks\":\"\",\"zerolinecolor\":\"white\"},\"zaxis\":{\"backgroundcolor\":\"#E5ECF6\",\"gridcolor\":\"white\",\"gridwidth\":2,\"linecolor\":\"white\",\"showbackground\":true,\"ticks\":\"\",\"zerolinecolor\":\"white\"}},\"shapedefaults\":{\"line\":{\"color\":\"#2a3f5f\"}},\"ternary\":{\"aaxis\":{\"gridcolor\":\"white\",\"linecolor\":\"white\",\"ticks\":\"\"},\"baxis\":{\"gridcolor\":\"white\",\"linecolor\":\"white\",\"ticks\":\"\"},\"bgcolor\":\"#E5ECF6\",\"caxis\":{\"gridcolor\":\"white\",\"linecolor\":\"white\",\"ticks\":\"\"}},\"title\":{\"x\":0.05},\"xaxis\":{\"automargin\":true,\"gridcolor\":\"white\",\"linecolor\":\"white\",\"ticks\":\"\",\"title\":{\"standoff\":15},\"zerolinecolor\":\"white\",\"zerolinewidth\":2},\"yaxis\":{\"automargin\":true,\"gridcolor\":\"white\",\"linecolor\":\"white\",\"ticks\":\"\",\"title\":{\"standoff\":15},\"zerolinecolor\":\"white\",\"zerolinewidth\":2}}},\"xaxis\":{\"anchor\":\"y\",\"domain\":[0.0,1.0],\"title\":{\"text\":\"Classifier Algorithm\"},\"categoryorder\":\"array\",\"categoryarray\":[\"Logistic Regression\",\"SVM\",\"Decision Tree\",\"KNN\",\"MLP\"]},\"yaxis\":{\"anchor\":\"x\",\"domain\":[0.0,1.0],\"title\":{\"text\":\"Prc Avg\"}},\"legend\":{\"title\":{\"text\":\"Classifier Algorithm\"},\"tracegroupgap\":0},\"title\":{\"text\":\"Comparison of Weighted_Precision Average (After Cross Validation) Between Different Algorithms\"},\"barmode\":\"relative\"},                        {\"responsive\": true}                    ).then(function(){\n",
              "                            \n",
              "var gd = document.getElementById('15851f85-6a4f-4085-88d4-f5bcef5b2334');\n",
              "var x = new MutationObserver(function (mutations, observer) {{\n",
              "        var display = window.getComputedStyle(gd).display;\n",
              "        if (!display || display === 'none') {{\n",
              "            console.log([gd, 'removed!']);\n",
              "            Plotly.purge(gd);\n",
              "            observer.disconnect();\n",
              "        }}\n",
              "}});\n",
              "\n",
              "// Listen for the removal of the full notebook cells\n",
              "var notebookContainer = gd.closest('#notebook-container');\n",
              "if (notebookContainer) {{\n",
              "    x.observe(notebookContainer, {childList: true});\n",
              "}}\n",
              "\n",
              "// Listen for the clearing of the current output cell\n",
              "var outputEl = gd.closest('.output');\n",
              "if (outputEl) {{\n",
              "    x.observe(outputEl, {childList: true});\n",
              "}}\n",
              "\n",
              "                        })                };                            </script>        </div>\n",
              "</body>\n",
              "</html>"
            ]
          },
          "metadata": {}
        },
        {
          "output_type": "display_data",
          "data": {
            "text/html": [
              "<html>\n",
              "<head><meta charset=\"utf-8\" /></head>\n",
              "<body>\n",
              "    <div>            <script src=\"https://cdnjs.cloudflare.com/ajax/libs/mathjax/2.7.5/MathJax.js?config=TeX-AMS-MML_SVG\"></script><script type=\"text/javascript\">if (window.MathJax) {MathJax.Hub.Config({SVG: {font: \"STIX-Web\"}});}</script>                <script type=\"text/javascript\">window.PlotlyConfig = {MathJaxConfig: 'local'};</script>\n",
              "        <script src=\"https://cdn.plot.ly/plotly-2.8.3.min.js\"></script>                <div id=\"8b33ff87-cd64-44f1-a681-81f9f4970d92\" class=\"plotly-graph-div\" style=\"height:525px; width:100%;\"></div>            <script type=\"text/javascript\">                                    window.PLOTLYENV=window.PLOTLYENV || {};                                    if (document.getElementById(\"8b33ff87-cd64-44f1-a681-81f9f4970d92\")) {                    Plotly.newPlot(                        \"8b33ff87-cd64-44f1-a681-81f9f4970d92\",                        [{\"alignmentgroup\":\"True\",\"hovertemplate\":\"Classifier Algorithm=%{x}<br>F1 Avg=%{text}<extra></extra>\",\"legendgroup\":\"Logistic Regression\",\"marker\":{\"color\":\"#636efa\",\"pattern\":{\"shape\":\"\"}},\"name\":\"Logistic Regression\",\"offsetgroup\":\"Logistic Regression\",\"orientation\":\"v\",\"showlegend\":true,\"text\":[46.36],\"textposition\":\"auto\",\"x\":[\"Logistic Regression\"],\"xaxis\":\"x\",\"y\":[46.36],\"yaxis\":\"y\",\"type\":\"bar\"},{\"alignmentgroup\":\"True\",\"hovertemplate\":\"Classifier Algorithm=%{x}<br>F1 Avg=%{text}<extra></extra>\",\"legendgroup\":\"SVM\",\"marker\":{\"color\":\"#EF553B\",\"pattern\":{\"shape\":\"\"}},\"name\":\"SVM\",\"offsetgroup\":\"SVM\",\"orientation\":\"v\",\"showlegend\":true,\"text\":[50.27],\"textposition\":\"auto\",\"x\":[\"SVM\"],\"xaxis\":\"x\",\"y\":[50.27],\"yaxis\":\"y\",\"type\":\"bar\"},{\"alignmentgroup\":\"True\",\"hovertemplate\":\"Classifier Algorithm=%{x}<br>F1 Avg=%{text}<extra></extra>\",\"legendgroup\":\"Decision Tree\",\"marker\":{\"color\":\"#00cc96\",\"pattern\":{\"shape\":\"\"}},\"name\":\"Decision Tree\",\"offsetgroup\":\"Decision Tree\",\"orientation\":\"v\",\"showlegend\":true,\"text\":[40.33],\"textposition\":\"auto\",\"x\":[\"Decision Tree\"],\"xaxis\":\"x\",\"y\":[40.33],\"yaxis\":\"y\",\"type\":\"bar\"},{\"alignmentgroup\":\"True\",\"hovertemplate\":\"Classifier Algorithm=%{x}<br>F1 Avg=%{text}<extra></extra>\",\"legendgroup\":\"KNN\",\"marker\":{\"color\":\"#ab63fa\",\"pattern\":{\"shape\":\"\"}},\"name\":\"KNN\",\"offsetgroup\":\"KNN\",\"orientation\":\"v\",\"showlegend\":true,\"text\":[40.16],\"textposition\":\"auto\",\"x\":[\"KNN\"],\"xaxis\":\"x\",\"y\":[40.16],\"yaxis\":\"y\",\"type\":\"bar\"},{\"alignmentgroup\":\"True\",\"hovertemplate\":\"Classifier Algorithm=%{x}<br>F1 Avg=%{text}<extra></extra>\",\"legendgroup\":\"MLP\",\"marker\":{\"color\":\"#FFA15A\",\"pattern\":{\"shape\":\"\"}},\"name\":\"MLP\",\"offsetgroup\":\"MLP\",\"orientation\":\"v\",\"showlegend\":true,\"text\":[42.15],\"textposition\":\"auto\",\"x\":[\"MLP\"],\"xaxis\":\"x\",\"y\":[42.15],\"yaxis\":\"y\",\"type\":\"bar\"}],                        {\"template\":{\"data\":{\"bar\":[{\"error_x\":{\"color\":\"#2a3f5f\"},\"error_y\":{\"color\":\"#2a3f5f\"},\"marker\":{\"line\":{\"color\":\"#E5ECF6\",\"width\":0.5},\"pattern\":{\"fillmode\":\"overlay\",\"size\":10,\"solidity\":0.2}},\"type\":\"bar\"}],\"barpolar\":[{\"marker\":{\"line\":{\"color\":\"#E5ECF6\",\"width\":0.5},\"pattern\":{\"fillmode\":\"overlay\",\"size\":10,\"solidity\":0.2}},\"type\":\"barpolar\"}],\"carpet\":[{\"aaxis\":{\"endlinecolor\":\"#2a3f5f\",\"gridcolor\":\"white\",\"linecolor\":\"white\",\"minorgridcolor\":\"white\",\"startlinecolor\":\"#2a3f5f\"},\"baxis\":{\"endlinecolor\":\"#2a3f5f\",\"gridcolor\":\"white\",\"linecolor\":\"white\",\"minorgridcolor\":\"white\",\"startlinecolor\":\"#2a3f5f\"},\"type\":\"carpet\"}],\"choropleth\":[{\"colorbar\":{\"outlinewidth\":0,\"ticks\":\"\"},\"type\":\"choropleth\"}],\"contour\":[{\"colorbar\":{\"outlinewidth\":0,\"ticks\":\"\"},\"colorscale\":[[0.0,\"#0d0887\"],[0.1111111111111111,\"#46039f\"],[0.2222222222222222,\"#7201a8\"],[0.3333333333333333,\"#9c179e\"],[0.4444444444444444,\"#bd3786\"],[0.5555555555555556,\"#d8576b\"],[0.6666666666666666,\"#ed7953\"],[0.7777777777777778,\"#fb9f3a\"],[0.8888888888888888,\"#fdca26\"],[1.0,\"#f0f921\"]],\"type\":\"contour\"}],\"contourcarpet\":[{\"colorbar\":{\"outlinewidth\":0,\"ticks\":\"\"},\"type\":\"contourcarpet\"}],\"heatmap\":[{\"colorbar\":{\"outlinewidth\":0,\"ticks\":\"\"},\"colorscale\":[[0.0,\"#0d0887\"],[0.1111111111111111,\"#46039f\"],[0.2222222222222222,\"#7201a8\"],[0.3333333333333333,\"#9c179e\"],[0.4444444444444444,\"#bd3786\"],[0.5555555555555556,\"#d8576b\"],[0.6666666666666666,\"#ed7953\"],[0.7777777777777778,\"#fb9f3a\"],[0.8888888888888888,\"#fdca26\"],[1.0,\"#f0f921\"]],\"type\":\"heatmap\"}],\"heatmapgl\":[{\"colorbar\":{\"outlinewidth\":0,\"ticks\":\"\"},\"colorscale\":[[0.0,\"#0d0887\"],[0.1111111111111111,\"#46039f\"],[0.2222222222222222,\"#7201a8\"],[0.3333333333333333,\"#9c179e\"],[0.4444444444444444,\"#bd3786\"],[0.5555555555555556,\"#d8576b\"],[0.6666666666666666,\"#ed7953\"],[0.7777777777777778,\"#fb9f3a\"],[0.8888888888888888,\"#fdca26\"],[1.0,\"#f0f921\"]],\"type\":\"heatmapgl\"}],\"histogram\":[{\"marker\":{\"pattern\":{\"fillmode\":\"overlay\",\"size\":10,\"solidity\":0.2}},\"type\":\"histogram\"}],\"histogram2d\":[{\"colorbar\":{\"outlinewidth\":0,\"ticks\":\"\"},\"colorscale\":[[0.0,\"#0d0887\"],[0.1111111111111111,\"#46039f\"],[0.2222222222222222,\"#7201a8\"],[0.3333333333333333,\"#9c179e\"],[0.4444444444444444,\"#bd3786\"],[0.5555555555555556,\"#d8576b\"],[0.6666666666666666,\"#ed7953\"],[0.7777777777777778,\"#fb9f3a\"],[0.8888888888888888,\"#fdca26\"],[1.0,\"#f0f921\"]],\"type\":\"histogram2d\"}],\"histogram2dcontour\":[{\"colorbar\":{\"outlinewidth\":0,\"ticks\":\"\"},\"colorscale\":[[0.0,\"#0d0887\"],[0.1111111111111111,\"#46039f\"],[0.2222222222222222,\"#7201a8\"],[0.3333333333333333,\"#9c179e\"],[0.4444444444444444,\"#bd3786\"],[0.5555555555555556,\"#d8576b\"],[0.6666666666666666,\"#ed7953\"],[0.7777777777777778,\"#fb9f3a\"],[0.8888888888888888,\"#fdca26\"],[1.0,\"#f0f921\"]],\"type\":\"histogram2dcontour\"}],\"mesh3d\":[{\"colorbar\":{\"outlinewidth\":0,\"ticks\":\"\"},\"type\":\"mesh3d\"}],\"parcoords\":[{\"line\":{\"colorbar\":{\"outlinewidth\":0,\"ticks\":\"\"}},\"type\":\"parcoords\"}],\"pie\":[{\"automargin\":true,\"type\":\"pie\"}],\"scatter\":[{\"marker\":{\"colorbar\":{\"outlinewidth\":0,\"ticks\":\"\"}},\"type\":\"scatter\"}],\"scatter3d\":[{\"line\":{\"colorbar\":{\"outlinewidth\":0,\"ticks\":\"\"}},\"marker\":{\"colorbar\":{\"outlinewidth\":0,\"ticks\":\"\"}},\"type\":\"scatter3d\"}],\"scattercarpet\":[{\"marker\":{\"colorbar\":{\"outlinewidth\":0,\"ticks\":\"\"}},\"type\":\"scattercarpet\"}],\"scattergeo\":[{\"marker\":{\"colorbar\":{\"outlinewidth\":0,\"ticks\":\"\"}},\"type\":\"scattergeo\"}],\"scattergl\":[{\"marker\":{\"colorbar\":{\"outlinewidth\":0,\"ticks\":\"\"}},\"type\":\"scattergl\"}],\"scattermapbox\":[{\"marker\":{\"colorbar\":{\"outlinewidth\":0,\"ticks\":\"\"}},\"type\":\"scattermapbox\"}],\"scatterpolar\":[{\"marker\":{\"colorbar\":{\"outlinewidth\":0,\"ticks\":\"\"}},\"type\":\"scatterpolar\"}],\"scatterpolargl\":[{\"marker\":{\"colorbar\":{\"outlinewidth\":0,\"ticks\":\"\"}},\"type\":\"scatterpolargl\"}],\"scatterternary\":[{\"marker\":{\"colorbar\":{\"outlinewidth\":0,\"ticks\":\"\"}},\"type\":\"scatterternary\"}],\"surface\":[{\"colorbar\":{\"outlinewidth\":0,\"ticks\":\"\"},\"colorscale\":[[0.0,\"#0d0887\"],[0.1111111111111111,\"#46039f\"],[0.2222222222222222,\"#7201a8\"],[0.3333333333333333,\"#9c179e\"],[0.4444444444444444,\"#bd3786\"],[0.5555555555555556,\"#d8576b\"],[0.6666666666666666,\"#ed7953\"],[0.7777777777777778,\"#fb9f3a\"],[0.8888888888888888,\"#fdca26\"],[1.0,\"#f0f921\"]],\"type\":\"surface\"}],\"table\":[{\"cells\":{\"fill\":{\"color\":\"#EBF0F8\"},\"line\":{\"color\":\"white\"}},\"header\":{\"fill\":{\"color\":\"#C8D4E3\"},\"line\":{\"color\":\"white\"}},\"type\":\"table\"}]},\"layout\":{\"annotationdefaults\":{\"arrowcolor\":\"#2a3f5f\",\"arrowhead\":0,\"arrowwidth\":1},\"autotypenumbers\":\"strict\",\"coloraxis\":{\"colorbar\":{\"outlinewidth\":0,\"ticks\":\"\"}},\"colorscale\":{\"diverging\":[[0,\"#8e0152\"],[0.1,\"#c51b7d\"],[0.2,\"#de77ae\"],[0.3,\"#f1b6da\"],[0.4,\"#fde0ef\"],[0.5,\"#f7f7f7\"],[0.6,\"#e6f5d0\"],[0.7,\"#b8e186\"],[0.8,\"#7fbc41\"],[0.9,\"#4d9221\"],[1,\"#276419\"]],\"sequential\":[[0.0,\"#0d0887\"],[0.1111111111111111,\"#46039f\"],[0.2222222222222222,\"#7201a8\"],[0.3333333333333333,\"#9c179e\"],[0.4444444444444444,\"#bd3786\"],[0.5555555555555556,\"#d8576b\"],[0.6666666666666666,\"#ed7953\"],[0.7777777777777778,\"#fb9f3a\"],[0.8888888888888888,\"#fdca26\"],[1.0,\"#f0f921\"]],\"sequentialminus\":[[0.0,\"#0d0887\"],[0.1111111111111111,\"#46039f\"],[0.2222222222222222,\"#7201a8\"],[0.3333333333333333,\"#9c179e\"],[0.4444444444444444,\"#bd3786\"],[0.5555555555555556,\"#d8576b\"],[0.6666666666666666,\"#ed7953\"],[0.7777777777777778,\"#fb9f3a\"],[0.8888888888888888,\"#fdca26\"],[1.0,\"#f0f921\"]]},\"colorway\":[\"#636efa\",\"#EF553B\",\"#00cc96\",\"#ab63fa\",\"#FFA15A\",\"#19d3f3\",\"#FF6692\",\"#B6E880\",\"#FF97FF\",\"#FECB52\"],\"font\":{\"color\":\"#2a3f5f\"},\"geo\":{\"bgcolor\":\"white\",\"lakecolor\":\"white\",\"landcolor\":\"#E5ECF6\",\"showlakes\":true,\"showland\":true,\"subunitcolor\":\"white\"},\"hoverlabel\":{\"align\":\"left\"},\"hovermode\":\"closest\",\"mapbox\":{\"style\":\"light\"},\"paper_bgcolor\":\"white\",\"plot_bgcolor\":\"#E5ECF6\",\"polar\":{\"angularaxis\":{\"gridcolor\":\"white\",\"linecolor\":\"white\",\"ticks\":\"\"},\"bgcolor\":\"#E5ECF6\",\"radialaxis\":{\"gridcolor\":\"white\",\"linecolor\":\"white\",\"ticks\":\"\"}},\"scene\":{\"xaxis\":{\"backgroundcolor\":\"#E5ECF6\",\"gridcolor\":\"white\",\"gridwidth\":2,\"linecolor\":\"white\",\"showbackground\":true,\"ticks\":\"\",\"zerolinecolor\":\"white\"},\"yaxis\":{\"backgroundcolor\":\"#E5ECF6\",\"gridcolor\":\"white\",\"gridwidth\":2,\"linecolor\":\"white\",\"showbackground\":true,\"ticks\":\"\",\"zerolinecolor\":\"white\"},\"zaxis\":{\"backgroundcolor\":\"#E5ECF6\",\"gridcolor\":\"white\",\"gridwidth\":2,\"linecolor\":\"white\",\"showbackground\":true,\"ticks\":\"\",\"zerolinecolor\":\"white\"}},\"shapedefaults\":{\"line\":{\"color\":\"#2a3f5f\"}},\"ternary\":{\"aaxis\":{\"gridcolor\":\"white\",\"linecolor\":\"white\",\"ticks\":\"\"},\"baxis\":{\"gridcolor\":\"white\",\"linecolor\":\"white\",\"ticks\":\"\"},\"bgcolor\":\"#E5ECF6\",\"caxis\":{\"gridcolor\":\"white\",\"linecolor\":\"white\",\"ticks\":\"\"}},\"title\":{\"x\":0.05},\"xaxis\":{\"automargin\":true,\"gridcolor\":\"white\",\"linecolor\":\"white\",\"ticks\":\"\",\"title\":{\"standoff\":15},\"zerolinecolor\":\"white\",\"zerolinewidth\":2},\"yaxis\":{\"automargin\":true,\"gridcolor\":\"white\",\"linecolor\":\"white\",\"ticks\":\"\",\"title\":{\"standoff\":15},\"zerolinecolor\":\"white\",\"zerolinewidth\":2}}},\"xaxis\":{\"anchor\":\"y\",\"domain\":[0.0,1.0],\"title\":{\"text\":\"Classifier Algorithm\"},\"categoryorder\":\"array\",\"categoryarray\":[\"Logistic Regression\",\"SVM\",\"Decision Tree\",\"KNN\",\"MLP\"]},\"yaxis\":{\"anchor\":\"x\",\"domain\":[0.0,1.0],\"title\":{\"text\":\"F1 Avg\"}},\"legend\":{\"title\":{\"text\":\"Classifier Algorithm\"},\"tracegroupgap\":0},\"title\":{\"text\":\"Comparison of Weighted_F1score Average (After Cross Validation) Between Different Algorithms\"},\"barmode\":\"relative\"},                        {\"responsive\": true}                    ).then(function(){\n",
              "                            \n",
              "var gd = document.getElementById('8b33ff87-cd64-44f1-a681-81f9f4970d92');\n",
              "var x = new MutationObserver(function (mutations, observer) {{\n",
              "        var display = window.getComputedStyle(gd).display;\n",
              "        if (!display || display === 'none') {{\n",
              "            console.log([gd, 'removed!']);\n",
              "            Plotly.purge(gd);\n",
              "            observer.disconnect();\n",
              "        }}\n",
              "}});\n",
              "\n",
              "// Listen for the removal of the full notebook cells\n",
              "var notebookContainer = gd.closest('#notebook-container');\n",
              "if (notebookContainer) {{\n",
              "    x.observe(notebookContainer, {childList: true});\n",
              "}}\n",
              "\n",
              "// Listen for the clearing of the current output cell\n",
              "var outputEl = gd.closest('.output');\n",
              "if (outputEl) {{\n",
              "    x.observe(outputEl, {childList: true});\n",
              "}}\n",
              "\n",
              "                        })                };                            </script>        </div>\n",
              "</body>\n",
              "</html>"
            ]
          },
          "metadata": {}
        }
      ]
    },
    {
      "cell_type": "markdown",
      "source": [
        "# classification with pca"
      ],
      "metadata": {
        "id": "JuWZm9vB2JB5"
      }
    },
    {
      "cell_type": "code",
      "source": [
        "from sklearn.model_selection import train_test_split\n",
        "X = df.drop(['sex','emotionID','Unnamed: 0'],1)   #Feature Matrix\n",
        "y = df[\"emotionID\"]\n",
        "\n",
        "X_train, X_test, y_train, y_test = train_test_split(X, y, test_size=0.3, random_state=4)"
      ],
      "metadata": {
        "colab": {
          "base_uri": "https://localhost:8080/"
        },
        "id": "vU62DDfq3mx3",
        "outputId": "278d20db-ce9d-400d-93e2-f14a25c602eb"
      },
      "execution_count": null,
      "outputs": [
        {
          "output_type": "stream",
          "name": "stderr",
          "text": [
            "/usr/local/lib/python3.7/dist-packages/ipykernel_launcher.py:2: FutureWarning:\n",
            "\n",
            "In a future version of pandas all arguments of DataFrame.drop except for the argument 'labels' will be keyword-only\n",
            "\n"
          ]
        }
      ]
    },
    {
      "cell_type": "code",
      "source": [
        "from sklearn.preprocessing import StandardScaler\n",
        "\n",
        "sc = StandardScaler()\n",
        "X_train = sc.fit_transform(X_train)\n",
        "X_test = sc.transform(X_test)\n"
      ],
      "metadata": {
        "id": "S9acQHX-rZY-"
      },
      "execution_count": null,
      "outputs": []
    },
    {
      "cell_type": "code",
      "source": [
        "import plotly.express as px\n",
        "from sklearn.decomposition import PCA\n",
        "\n",
        "pca = PCA()\n",
        "pca.fit(X_train)\n",
        "exp_var_cumul = np.cumsum(pca.explained_variance_ratio_)\n",
        "\n",
        "px.area(\n",
        "    x=range(1, exp_var_cumul.shape[0] + 1),\n",
        "    y=exp_var_cumul,\n",
        "    labels={\"x\": \"# Components\", \"y\": \"Explained Variance\"}\n",
        ")"
      ],
      "metadata": {
        "colab": {
          "base_uri": "https://localhost:8080/",
          "height": 542
        },
        "id": "Y_6CXRtC4HHn",
        "outputId": "ea59bd1b-6342-49d4-e418-3cc2600e641d"
      },
      "execution_count": null,
      "outputs": [
        {
          "output_type": "display_data",
          "data": {
            "text/html": [
              "<html>\n",
              "<head><meta charset=\"utf-8\" /></head>\n",
              "<body>\n",
              "    <div>            <script src=\"https://cdnjs.cloudflare.com/ajax/libs/mathjax/2.7.5/MathJax.js?config=TeX-AMS-MML_SVG\"></script><script type=\"text/javascript\">if (window.MathJax) {MathJax.Hub.Config({SVG: {font: \"STIX-Web\"}});}</script>                <script type=\"text/javascript\">window.PlotlyConfig = {MathJaxConfig: 'local'};</script>\n",
              "        <script src=\"https://cdn.plot.ly/plotly-2.8.3.min.js\"></script>                <div id=\"e6afe882-369b-4ef6-8ee2-de7dbb5683de\" class=\"plotly-graph-div\" style=\"height:525px; width:100%;\"></div>            <script type=\"text/javascript\">                                    window.PLOTLYENV=window.PLOTLYENV || {};                                    if (document.getElementById(\"e6afe882-369b-4ef6-8ee2-de7dbb5683de\")) {                    Plotly.newPlot(                        \"e6afe882-369b-4ef6-8ee2-de7dbb5683de\",                        [{\"hovertemplate\":\"# Components=%{x}<br>Explained Variance=%{y}<extra></extra>\",\"legendgroup\":\"\",\"line\":{\"color\":\"#636efa\"},\"marker\":{\"symbol\":\"circle\"},\"mode\":\"lines\",\"name\":\"\",\"orientation\":\"v\",\"showlegend\":false,\"stackgroup\":\"1\",\"x\":[1,2,3,4,5,6,7,8,9,10,11,12,13,14,15,16,17,18,19,20,21,22,23,24,25,26,27,28,29,30,31,32,33,34,35,36,37,38,39,40,41,42,43,44,45,46,47,48,49,50,51,52,53,54,55,56,57,58,59,60,61,62,63,64,65,66,67,68,69,70,71,72,73,74,75,76,77,78,79,80,81,82,83,84,85,86,87,88,89,90,91,92,93,94,95,96,97,98,99,100,101,102,103,104,105,106,107,108,109,110,111,112,113,114,115,116,117,118,119,120,121,122,123,124,125,126,127,128,129,130,131,132,133,134,135,136,137,138,139,140,141,142,143,144,145,146,147,148,149,150,151,152,153,154,155,156,157,158,159,160,161,162,163,164,165,166,167,168,169,170,171,172,173,174,175,176,177,178,179,180,181,182,183,184,185,186,187,188,189,190,191,192,193,194,195,196,197,198,199,200,201,202,203,204,205,206,207,208,209,210,211,212,213,214,215,216,217,218,219,220,221,222,223,224,225,226,227,228,229,230,231,232,233,234,235,236,237,238,239,240,241,242,243,244,245,246,247,248,249,250,251,252,253,254,255,256,257,258,259,260,261,262,263,264,265,266,267,268,269,270,271,272,273,274,275,276,277,278,279,280,281,282,283,284,285,286,287,288,289,290,291,292,293,294,295,296,297,298,299,300,301,302,303,304,305,306,307,308,309,310,311,312,313,314,315,316,317,318,319,320,321,322,323,324,325,326,327,328,329,330,331,332,333,334,335,336,337,338,339,340,341,342,343,344,345,346,347,348,349,350,351,352,353,354,355,356,357,358,359,360,361,362,363,364,365,366,367,368,369,370,371,372,373,374,375,376,377,378,379,380,381,382,383,384,385,386,387,388,389,390,391,392,393,394,395,396,397,398,399,400,401,402,403,404,405,406,407,408,409,410,411,412,413,414,415,416,417,418,419,420,421,422,423,424,425,426,427,428,429,430,431,432,433,434,435,436,437,438,439,440,441,442,443,444,445,446,447,448,449,450,451,452,453,454,455,456,457,458,459,460,461,462,463,464,465,466,467,468,469,470,471,472,473,474,475,476,477,478,479,480,481,482,483,484,485,486,487,488,489,490,491,492,493,494,495,496,497,498,499,500,501,502,503,504,505,506,507,508,509,510,511,512,513,514,515,516,517,518,519,520,521,522,523,524,525,526,527,528,529,530,531,532,533,534,535,536,537,538,539,540,541,542,543,544],\"xaxis\":\"x\",\"y\":[0.3780061301101503,0.6076552567458428,0.6613765738894971,0.709423014572732,0.727942666923024,0.745479303629183,0.7592866368897363,0.7697337701242879,0.7787055892289714,0.7870908174473976,0.7949651858520227,0.802153007734076,0.8089046426571549,0.8153729081552537,0.820715784913047,0.8257145846258599,0.8303794838735611,0.8349245558658045,0.8391872092999177,0.8434210627625481,0.847447031091444,0.8513152856768212,0.8551168907133074,0.8587903113913975,0.8623446346628,0.8657484903768689,0.8691397370110472,0.8723618039928487,0.8754904388688434,0.8785389384989778,0.881509006029198,0.8843515816244794,0.8870429808954295,0.8896150541039282,0.8920945384756923,0.8945440884820264,0.8969421305610846,0.8992738932111366,0.9015311069398411,0.9037190335656586,0.9058726891706469,0.9079192384953997,0.9099088148946134,0.9118709355500668,0.9137380495078767,0.9155762291388272,0.9173856951516421,0.919156727788098,0.9208918497442139,0.9225971166593324,0.9242660227786083,0.9258900739255789,0.9274780139876534,0.9290015833031827,0.9305180454615367,0.9319963082742638,0.9334429655832043,0.9348224715829311,0.936170181317685,0.9375027151430008,0.938802880137115,0.9400956375714011,0.9413463810791481,0.9425649434611993,0.9437683355198354,0.9449175184517415,0.9460567630798157,0.94715220009899,0.9482338419841405,0.9493041803607222,0.9503268479604313,0.9513391471625428,0.952326982428784,0.9532986813939814,0.9542663749547907,0.9551924977082074,0.9561152152799192,0.9570278169977484,0.9579241265091063,0.958799263186391,0.9596691772007078,0.9605351661279119,0.9613813774817503,0.9622227539463275,0.9630532690538595,0.9638638893458489,0.9646694458753811,0.9654597908410918,0.9662360943962112,0.9669985583263244,0.9677301669271333,0.9684516014964167,0.9691392611349015,0.969821112326629,0.970484939329956,0.9711342282834141,0.9717656963371487,0.9723911478676656,0.9729916945720286,0.9735886018745032,0.9741572006559404,0.9747155367759149,0.975267377855072,0.9758141296887303,0.9763456177069041,0.976873827128212,0.9773891380217066,0.9778953785815256,0.9783952997318237,0.9788873140262077,0.9793741166499552,0.9798481871817657,0.9803141529554307,0.98076409301552,0.9811981977371401,0.9816253965416036,0.9820462492967511,0.9824637063721963,0.9828727126487297,0.9832713052751682,0.9836609712552156,0.9840326347463833,0.9843975495330021,0.9847611743647967,0.9851203303791612,0.9854682793156789,0.9858124913306141,0.9861459338383606,0.9864741156077241,0.9867941922361935,0.9871122702884775,0.9874181824940947,0.9877169998063429,0.9880049023273537,0.9882894107310536,0.9885697435751918,0.9888469694296244,0.9891148403664174,0.9893722805566423,0.9896226390243638,0.9898683555739441,0.9901111492556571,0.9903530314642819,0.9905882732087148,0.9908185741412218,0.9910432197695844,0.9912642921397379,0.9914769019088132,0.9916854190254295,0.9918919839225222,0.9920934410706663,0.9922914842358601,0.9924874999351,0.9926802342171029,0.9928697349747372,0.9930550920489358,0.9932395940527317,0.9934205340087691,0.9935946528570198,0.9937673755529588,0.9939388550296807,0.9941033251117377,0.9942663515447736,0.9944231139964987,0.9945767380166002,0.9947247453632013,0.9948701831993684,0.9950141906698702,0.9951560218727595,0.995294192721769,0.995429476890776,0.9955632913023884,0.9956928623605049,0.9958199581368848,0.9959442113336758,0.9960668824198399,0.996182981111441,0.9962956565709954,0.9964060249840417,0.9965151293777128,0.9966229798936447,0.9967288854006711,0.9968315003263081,0.9969335150546489,0.99703466108582,0.9971337063650934,0.9972305935449749,0.9973240046669303,0.9974163544531834,0.9975071143274843,0.9975963522945522,0.9976822965324612,0.9977660719439949,0.9978487858392189,0.9979287593865777,0.998008588197724,0.9980866391977178,0.998164173933559,0.9982389303421167,0.998312402534986,0.9983844788240909,0.9984536291580626,0.9985203005482876,0.9985861544658893,0.9986505883583143,0.9987127165267159,0.9987706538859634,0.9988282397706929,0.9988836359563973,0.998933140231797,0.9989809543318847,0.9990274195470579,0.9990733890036793,0.9991182225054094,0.9991618286602474,0.9992023103144129,0.9992420760392684,0.9992786281447273,0.9993146742331472,0.9993477713346662,0.9993783371141851,0.9994077756031428,0.9994360648646918,0.9994633514878465,0.9994898520682614,0.999514850932869,0.999537477851292,0.9995591239792642,0.99958051327999,0.9996004037859514,0.9996197182202362,0.9996379809739085,0.999655137570914,0.9996713649486204,0.9996870341192254,0.9997013118646452,0.9997150082327538,0.9997284647121217,0.9997411615857449,0.999753479103907,0.9997654173906209,0.9997765434358284,0.9997873037079503,0.9997975091808365,0.9998071778887433,0.9998163608270679,0.9998252896239547,0.9998340124387252,0.9998424405121107,0.9998504114164579,0.9998580296064936,0.9998653530328829,0.9998722063821356,0.9998786873814193,0.999885057056831,0.9998911923575267,0.9998968947676602,0.999902553030273,0.9999081137098105,0.9999135905023576,0.9999186680769501,0.9999235303552465,0.9999281636647661,0.9999324030213557,0.9999364230114257,0.9999401705797062,0.9999438232297679,0.9999472962194242,0.999950693136099,0.9999538191928905,0.9999566644301647,0.9999594678724372,0.9999622243334589,0.9999646955621281,0.9999671625063384,0.9999693468132533,0.9999713680331844,0.9999733372529466,0.9999751963695828,0.9999769220006405,0.9999785035394788,0.9999800394346624,0.9999815032618978,0.9999828717508009,0.9999841303075226,0.9999853601258933,0.9999864716238762,0.9999875209055279,0.9999885443180878,0.9999895006262176,0.999990414892049,0.9999911930681002,0.9999919326377058,0.9999926493717249,0.9999933006940002,0.9999938783366508,0.999994417658097,0.9999949192296098,0.999995369949264,0.9999957921783432,0.9999961906033149,0.9999965484091846,0.9999968959066645,0.9999972160359013,0.9999975125084664,0.9999977796953168,0.9999980357656171,0.9999982686463562,0.9999984767815419,0.9999986712338963,0.9999988577559316,0.9999990174429497,0.9999991622695666,0.9999992749939504,0.999999371020857,0.9999994491836867,0.9999995202405331,0.9999995827189478,0.9999996421385003,0.9999996961195288,0.9999997427686782,0.9999997860164644,0.9999998173156263,0.9999998453659676,0.9999998704514301,0.9999998929271732,0.9999999101742781,0.9999999261664283,0.999999939941452,0.9999999518573548,0.9999999619544736,0.9999999679329978,0.9999999731192051,0.9999999778019502,0.9999999821971551,0.9999999853026875,0.999999988293713,0.9999999910812714,0.9999999931700173,0.9999999948803829,0.9999999960409997,0.9999999969480259,0.9999999976630992,0.999999998147699,0.9999999985230739,0.9999999988364842,0.9999999991114078,0.9999999993378462,0.9999999994930896,0.9999999996131751,0.9999999996992159,0.9999999997730182,0.9999999998265838,0.9999999998644564,0.9999999998992412,0.9999999999266831,0.9999999999454078,0.9999999999587215,0.9999999999692324,0.9999999999766565,0.9999999999816377,0.9999999999864414,0.9999999999894147,0.9999999999915244,0.9999999999933301,0.9999999999949772,0.9999999999963359,0.9999999999973234,0.9999999999981272,0.9999999999986003,0.9999999999989769,0.9999999999992231,0.9999999999994116,0.9999999999995433,0.9999999999996527,0.9999999999997131,0.9999999999997714,0.9999999999998082,0.9999999999998415,0.9999999999998699,0.999999999999892,0.999999999999911,0.9999999999999285,0.999999999999942,0.999999999999953,0.9999999999999619,0.9999999999999692,0.9999999999999749,0.9999999999999793,0.9999999999999823,0.9999999999999851,0.9999999999999878,0.9999999999999899,0.9999999999999916,0.9999999999999928,0.9999999999999938,0.9999999999999947,0.9999999999999954,0.9999999999999961,0.9999999999999966,0.999999999999997,0.9999999999999973,0.9999999999999977,0.999999999999998,0.9999999999999982,0.9999999999999984,0.9999999999999987,0.9999999999999988,0.9999999999999989,0.999999999999999,0.9999999999999991,0.9999999999999992,0.9999999999999993,0.9999999999999994,0.9999999999999994,0.9999999999999994,0.9999999999999994,0.9999999999999994,0.9999999999999994,0.9999999999999994,0.9999999999999994,0.9999999999999994,0.9999999999999994,0.9999999999999994,0.9999999999999994,0.9999999999999994,0.9999999999999994,0.9999999999999994,0.9999999999999994,0.9999999999999994,0.9999999999999994,0.9999999999999994,0.9999999999999994,0.9999999999999994,0.9999999999999994,0.9999999999999994,0.9999999999999994,0.9999999999999994,0.9999999999999994,0.9999999999999994,0.9999999999999994,0.9999999999999994,0.9999999999999994,0.9999999999999994,0.9999999999999994,0.9999999999999994,0.9999999999999994,0.9999999999999994,0.9999999999999994,0.9999999999999994,0.9999999999999994,0.9999999999999994,0.9999999999999994,0.9999999999999994,0.9999999999999994,0.9999999999999994,0.9999999999999994,0.9999999999999994,0.9999999999999994,0.9999999999999994,0.9999999999999994,0.9999999999999994,0.9999999999999994,0.9999999999999994,0.9999999999999994,0.9999999999999994,0.9999999999999994,0.9999999999999994,0.9999999999999994,0.9999999999999994,0.9999999999999994,0.9999999999999994,0.9999999999999994,0.9999999999999994,0.9999999999999994,0.9999999999999994,0.9999999999999994,0.9999999999999994,0.9999999999999994,0.9999999999999994,0.9999999999999994,0.9999999999999994,0.9999999999999994,0.9999999999999994,0.9999999999999994,0.9999999999999994,0.9999999999999994,0.9999999999999994,0.9999999999999994,0.9999999999999994,0.9999999999999994,0.9999999999999994,0.9999999999999994,0.9999999999999994,0.9999999999999994,0.9999999999999994,0.9999999999999994,0.9999999999999994,0.9999999999999994,0.9999999999999994,0.9999999999999994,0.9999999999999994,0.9999999999999994,0.9999999999999994,0.9999999999999994,0.9999999999999994,0.9999999999999994,0.9999999999999994,0.9999999999999994,0.9999999999999994,0.9999999999999994,0.9999999999999994,0.9999999999999994,0.9999999999999994,0.9999999999999994,0.9999999999999994,0.9999999999999994,0.9999999999999994,0.9999999999999994,0.9999999999999994,0.9999999999999994,0.9999999999999994,0.9999999999999994,0.9999999999999994,0.9999999999999994,0.9999999999999994,0.9999999999999994,0.9999999999999994,0.9999999999999994,0.9999999999999994,0.9999999999999994,0.9999999999999994,0.9999999999999994,0.9999999999999994,0.9999999999999994,0.9999999999999994,0.9999999999999994,0.9999999999999994,0.9999999999999994,0.9999999999999994,0.9999999999999994,0.9999999999999994,0.9999999999999994,0.9999999999999994],\"yaxis\":\"y\",\"type\":\"scatter\"}],                        {\"template\":{\"data\":{\"bar\":[{\"error_x\":{\"color\":\"#2a3f5f\"},\"error_y\":{\"color\":\"#2a3f5f\"},\"marker\":{\"line\":{\"color\":\"#E5ECF6\",\"width\":0.5},\"pattern\":{\"fillmode\":\"overlay\",\"size\":10,\"solidity\":0.2}},\"type\":\"bar\"}],\"barpolar\":[{\"marker\":{\"line\":{\"color\":\"#E5ECF6\",\"width\":0.5},\"pattern\":{\"fillmode\":\"overlay\",\"size\":10,\"solidity\":0.2}},\"type\":\"barpolar\"}],\"carpet\":[{\"aaxis\":{\"endlinecolor\":\"#2a3f5f\",\"gridcolor\":\"white\",\"linecolor\":\"white\",\"minorgridcolor\":\"white\",\"startlinecolor\":\"#2a3f5f\"},\"baxis\":{\"endlinecolor\":\"#2a3f5f\",\"gridcolor\":\"white\",\"linecolor\":\"white\",\"minorgridcolor\":\"white\",\"startlinecolor\":\"#2a3f5f\"},\"type\":\"carpet\"}],\"choropleth\":[{\"colorbar\":{\"outlinewidth\":0,\"ticks\":\"\"},\"type\":\"choropleth\"}],\"contour\":[{\"colorbar\":{\"outlinewidth\":0,\"ticks\":\"\"},\"colorscale\":[[0.0,\"#0d0887\"],[0.1111111111111111,\"#46039f\"],[0.2222222222222222,\"#7201a8\"],[0.3333333333333333,\"#9c179e\"],[0.4444444444444444,\"#bd3786\"],[0.5555555555555556,\"#d8576b\"],[0.6666666666666666,\"#ed7953\"],[0.7777777777777778,\"#fb9f3a\"],[0.8888888888888888,\"#fdca26\"],[1.0,\"#f0f921\"]],\"type\":\"contour\"}],\"contourcarpet\":[{\"colorbar\":{\"outlinewidth\":0,\"ticks\":\"\"},\"type\":\"contourcarpet\"}],\"heatmap\":[{\"colorbar\":{\"outlinewidth\":0,\"ticks\":\"\"},\"colorscale\":[[0.0,\"#0d0887\"],[0.1111111111111111,\"#46039f\"],[0.2222222222222222,\"#7201a8\"],[0.3333333333333333,\"#9c179e\"],[0.4444444444444444,\"#bd3786\"],[0.5555555555555556,\"#d8576b\"],[0.6666666666666666,\"#ed7953\"],[0.7777777777777778,\"#fb9f3a\"],[0.8888888888888888,\"#fdca26\"],[1.0,\"#f0f921\"]],\"type\":\"heatmap\"}],\"heatmapgl\":[{\"colorbar\":{\"outlinewidth\":0,\"ticks\":\"\"},\"colorscale\":[[0.0,\"#0d0887\"],[0.1111111111111111,\"#46039f\"],[0.2222222222222222,\"#7201a8\"],[0.3333333333333333,\"#9c179e\"],[0.4444444444444444,\"#bd3786\"],[0.5555555555555556,\"#d8576b\"],[0.6666666666666666,\"#ed7953\"],[0.7777777777777778,\"#fb9f3a\"],[0.8888888888888888,\"#fdca26\"],[1.0,\"#f0f921\"]],\"type\":\"heatmapgl\"}],\"histogram\":[{\"marker\":{\"pattern\":{\"fillmode\":\"overlay\",\"size\":10,\"solidity\":0.2}},\"type\":\"histogram\"}],\"histogram2d\":[{\"colorbar\":{\"outlinewidth\":0,\"ticks\":\"\"},\"colorscale\":[[0.0,\"#0d0887\"],[0.1111111111111111,\"#46039f\"],[0.2222222222222222,\"#7201a8\"],[0.3333333333333333,\"#9c179e\"],[0.4444444444444444,\"#bd3786\"],[0.5555555555555556,\"#d8576b\"],[0.6666666666666666,\"#ed7953\"],[0.7777777777777778,\"#fb9f3a\"],[0.8888888888888888,\"#fdca26\"],[1.0,\"#f0f921\"]],\"type\":\"histogram2d\"}],\"histogram2dcontour\":[{\"colorbar\":{\"outlinewidth\":0,\"ticks\":\"\"},\"colorscale\":[[0.0,\"#0d0887\"],[0.1111111111111111,\"#46039f\"],[0.2222222222222222,\"#7201a8\"],[0.3333333333333333,\"#9c179e\"],[0.4444444444444444,\"#bd3786\"],[0.5555555555555556,\"#d8576b\"],[0.6666666666666666,\"#ed7953\"],[0.7777777777777778,\"#fb9f3a\"],[0.8888888888888888,\"#fdca26\"],[1.0,\"#f0f921\"]],\"type\":\"histogram2dcontour\"}],\"mesh3d\":[{\"colorbar\":{\"outlinewidth\":0,\"ticks\":\"\"},\"type\":\"mesh3d\"}],\"parcoords\":[{\"line\":{\"colorbar\":{\"outlinewidth\":0,\"ticks\":\"\"}},\"type\":\"parcoords\"}],\"pie\":[{\"automargin\":true,\"type\":\"pie\"}],\"scatter\":[{\"marker\":{\"colorbar\":{\"outlinewidth\":0,\"ticks\":\"\"}},\"type\":\"scatter\"}],\"scatter3d\":[{\"line\":{\"colorbar\":{\"outlinewidth\":0,\"ticks\":\"\"}},\"marker\":{\"colorbar\":{\"outlinewidth\":0,\"ticks\":\"\"}},\"type\":\"scatter3d\"}],\"scattercarpet\":[{\"marker\":{\"colorbar\":{\"outlinewidth\":0,\"ticks\":\"\"}},\"type\":\"scattercarpet\"}],\"scattergeo\":[{\"marker\":{\"colorbar\":{\"outlinewidth\":0,\"ticks\":\"\"}},\"type\":\"scattergeo\"}],\"scattergl\":[{\"marker\":{\"colorbar\":{\"outlinewidth\":0,\"ticks\":\"\"}},\"type\":\"scattergl\"}],\"scattermapbox\":[{\"marker\":{\"colorbar\":{\"outlinewidth\":0,\"ticks\":\"\"}},\"type\":\"scattermapbox\"}],\"scatterpolar\":[{\"marker\":{\"colorbar\":{\"outlinewidth\":0,\"ticks\":\"\"}},\"type\":\"scatterpolar\"}],\"scatterpolargl\":[{\"marker\":{\"colorbar\":{\"outlinewidth\":0,\"ticks\":\"\"}},\"type\":\"scatterpolargl\"}],\"scatterternary\":[{\"marker\":{\"colorbar\":{\"outlinewidth\":0,\"ticks\":\"\"}},\"type\":\"scatterternary\"}],\"surface\":[{\"colorbar\":{\"outlinewidth\":0,\"ticks\":\"\"},\"colorscale\":[[0.0,\"#0d0887\"],[0.1111111111111111,\"#46039f\"],[0.2222222222222222,\"#7201a8\"],[0.3333333333333333,\"#9c179e\"],[0.4444444444444444,\"#bd3786\"],[0.5555555555555556,\"#d8576b\"],[0.6666666666666666,\"#ed7953\"],[0.7777777777777778,\"#fb9f3a\"],[0.8888888888888888,\"#fdca26\"],[1.0,\"#f0f921\"]],\"type\":\"surface\"}],\"table\":[{\"cells\":{\"fill\":{\"color\":\"#EBF0F8\"},\"line\":{\"color\":\"white\"}},\"header\":{\"fill\":{\"color\":\"#C8D4E3\"},\"line\":{\"color\":\"white\"}},\"type\":\"table\"}]},\"layout\":{\"annotationdefaults\":{\"arrowcolor\":\"#2a3f5f\",\"arrowhead\":0,\"arrowwidth\":1},\"autotypenumbers\":\"strict\",\"coloraxis\":{\"colorbar\":{\"outlinewidth\":0,\"ticks\":\"\"}},\"colorscale\":{\"diverging\":[[0,\"#8e0152\"],[0.1,\"#c51b7d\"],[0.2,\"#de77ae\"],[0.3,\"#f1b6da\"],[0.4,\"#fde0ef\"],[0.5,\"#f7f7f7\"],[0.6,\"#e6f5d0\"],[0.7,\"#b8e186\"],[0.8,\"#7fbc41\"],[0.9,\"#4d9221\"],[1,\"#276419\"]],\"sequential\":[[0.0,\"#0d0887\"],[0.1111111111111111,\"#46039f\"],[0.2222222222222222,\"#7201a8\"],[0.3333333333333333,\"#9c179e\"],[0.4444444444444444,\"#bd3786\"],[0.5555555555555556,\"#d8576b\"],[0.6666666666666666,\"#ed7953\"],[0.7777777777777778,\"#fb9f3a\"],[0.8888888888888888,\"#fdca26\"],[1.0,\"#f0f921\"]],\"sequentialminus\":[[0.0,\"#0d0887\"],[0.1111111111111111,\"#46039f\"],[0.2222222222222222,\"#7201a8\"],[0.3333333333333333,\"#9c179e\"],[0.4444444444444444,\"#bd3786\"],[0.5555555555555556,\"#d8576b\"],[0.6666666666666666,\"#ed7953\"],[0.7777777777777778,\"#fb9f3a\"],[0.8888888888888888,\"#fdca26\"],[1.0,\"#f0f921\"]]},\"colorway\":[\"#636efa\",\"#EF553B\",\"#00cc96\",\"#ab63fa\",\"#FFA15A\",\"#19d3f3\",\"#FF6692\",\"#B6E880\",\"#FF97FF\",\"#FECB52\"],\"font\":{\"color\":\"#2a3f5f\"},\"geo\":{\"bgcolor\":\"white\",\"lakecolor\":\"white\",\"landcolor\":\"#E5ECF6\",\"showlakes\":true,\"showland\":true,\"subunitcolor\":\"white\"},\"hoverlabel\":{\"align\":\"left\"},\"hovermode\":\"closest\",\"mapbox\":{\"style\":\"light\"},\"paper_bgcolor\":\"white\",\"plot_bgcolor\":\"#E5ECF6\",\"polar\":{\"angularaxis\":{\"gridcolor\":\"white\",\"linecolor\":\"white\",\"ticks\":\"\"},\"bgcolor\":\"#E5ECF6\",\"radialaxis\":{\"gridcolor\":\"white\",\"linecolor\":\"white\",\"ticks\":\"\"}},\"scene\":{\"xaxis\":{\"backgroundcolor\":\"#E5ECF6\",\"gridcolor\":\"white\",\"gridwidth\":2,\"linecolor\":\"white\",\"showbackground\":true,\"ticks\":\"\",\"zerolinecolor\":\"white\"},\"yaxis\":{\"backgroundcolor\":\"#E5ECF6\",\"gridcolor\":\"white\",\"gridwidth\":2,\"linecolor\":\"white\",\"showbackground\":true,\"ticks\":\"\",\"zerolinecolor\":\"white\"},\"zaxis\":{\"backgroundcolor\":\"#E5ECF6\",\"gridcolor\":\"white\",\"gridwidth\":2,\"linecolor\":\"white\",\"showbackground\":true,\"ticks\":\"\",\"zerolinecolor\":\"white\"}},\"shapedefaults\":{\"line\":{\"color\":\"#2a3f5f\"}},\"ternary\":{\"aaxis\":{\"gridcolor\":\"white\",\"linecolor\":\"white\",\"ticks\":\"\"},\"baxis\":{\"gridcolor\":\"white\",\"linecolor\":\"white\",\"ticks\":\"\"},\"bgcolor\":\"#E5ECF6\",\"caxis\":{\"gridcolor\":\"white\",\"linecolor\":\"white\",\"ticks\":\"\"}},\"title\":{\"x\":0.05},\"xaxis\":{\"automargin\":true,\"gridcolor\":\"white\",\"linecolor\":\"white\",\"ticks\":\"\",\"title\":{\"standoff\":15},\"zerolinecolor\":\"white\",\"zerolinewidth\":2},\"yaxis\":{\"automargin\":true,\"gridcolor\":\"white\",\"linecolor\":\"white\",\"ticks\":\"\",\"title\":{\"standoff\":15},\"zerolinecolor\":\"white\",\"zerolinewidth\":2}}},\"xaxis\":{\"anchor\":\"y\",\"domain\":[0.0,1.0],\"title\":{\"text\":\"# Components\"}},\"yaxis\":{\"anchor\":\"x\",\"domain\":[0.0,1.0],\"title\":{\"text\":\"Explained Variance\"}},\"legend\":{\"tracegroupgap\":0},\"margin\":{\"t\":60}},                        {\"responsive\": true}                    ).then(function(){\n",
              "                            \n",
              "var gd = document.getElementById('e6afe882-369b-4ef6-8ee2-de7dbb5683de');\n",
              "var x = new MutationObserver(function (mutations, observer) {{\n",
              "        var display = window.getComputedStyle(gd).display;\n",
              "        if (!display || display === 'none') {{\n",
              "            console.log([gd, 'removed!']);\n",
              "            Plotly.purge(gd);\n",
              "            observer.disconnect();\n",
              "        }}\n",
              "}});\n",
              "\n",
              "// Listen for the removal of the full notebook cells\n",
              "var notebookContainer = gd.closest('#notebook-container');\n",
              "if (notebookContainer) {{\n",
              "    x.observe(notebookContainer, {childList: true});\n",
              "}}\n",
              "\n",
              "// Listen for the clearing of the current output cell\n",
              "var outputEl = gd.closest('.output');\n",
              "if (outputEl) {{\n",
              "    x.observe(outputEl, {childList: true});\n",
              "}}\n",
              "\n",
              "                        })                };                            </script>        </div>\n",
              "</body>\n",
              "</html>"
            ]
          },
          "metadata": {}
        }
      ]
    },
    {
      "cell_type": "code",
      "source": [
        "from sklearn.decomposition import PCA\n",
        "\n",
        "pca = PCA(0.95)\n",
        "X_train = pca.fit_transform(X_train)\n",
        "X_test = pca.transform(X_test)"
      ],
      "metadata": {
        "id": "viJ-EgjB2oML"
      },
      "execution_count": null,
      "outputs": []
    },
    {
      "cell_type": "code",
      "source": [
        ""
      ],
      "metadata": {
        "id": "RV4rvtbs4CAu"
      },
      "execution_count": null,
      "outputs": []
    },
    {
      "cell_type": "code",
      "source": [
        "explained_variance = pca.explained_variance_ratio_\n",
        "len(explained_variance)"
      ],
      "metadata": {
        "colab": {
          "base_uri": "https://localhost:8080/"
        },
        "id": "TaVmCOMF2nu-",
        "outputId": "864a2940-7be4-4db8-da16-96eaff5ed49f"
      },
      "execution_count": null,
      "outputs": [
        {
          "output_type": "execute_result",
          "data": {
            "text/plain": [
              "71"
            ]
          },
          "metadata": {},
          "execution_count": 111
        }
      ]
    },
    {
      "cell_type": "markdown",
      "source": [
        "## Logistic Regression"
      ],
      "metadata": {
        "id": "2EQ52gpC4qQI"
      }
    },
    {
      "cell_type": "code",
      "source": [
        "from sklearn.linear_model import LogisticRegression\n",
        "import seaborn as sns\n",
        "from sklearn.preprocessing import StandardScaler\n",
        "from sklearn.pipeline import make_pipeline\n",
        "\n",
        "lr_clf = make_pipeline(StandardScaler(), LogisticRegression(solver='liblinear', class_weight='balanced' , C = 0.1))     # Best Result\n",
        "lr_clf.fit(X_train, y_train)\n",
        "lr_yhat = lr_clf.predict(X_test)"
      ],
      "metadata": {
        "id": "RujSo5tH2noZ"
      },
      "execution_count": null,
      "outputs": []
    },
    {
      "cell_type": "code",
      "source": [
        "import plotly.express as px\n",
        "from sklearn import metrics\n",
        "\n",
        "lr_acc_train = round( metrics.accuracy_score(y_train, lr_clf.predict(X_train))*100 ,2)\n",
        "lr_acc_test = round( metrics.accuracy_score(y_test, lr_yhat)*100 ,2)\n",
        "lr_jac_train = round( metrics.jaccard_score(y_train, lr_clf.predict(X_train),average='weighted')*100 ,2)\n",
        "lr_jac_test = round( metrics.jaccard_score(y_test, lr_yhat,average='weighted')*100 ,2)\n",
        "\n",
        "lr_df1 = pd.DataFrame({'percent':[lr_acc_train,lr_acc_test,lr_jac_train,lr_jac_test],\n",
        "                       'label' : ['train' , 'test' , 'train' , 'test'],\n",
        "                       'metric': ['Accuracy' , 'Accuracy' , 'Weighted Jaccard Score' , 'Weighted Jaccard Score']})\n",
        "\n",
        "\n",
        "fig = px.bar(lr_df1 , x='metric' , y='percent' , color='label' ,\n",
        "             title='Logistic Regression Accuracy/Jaccard for Train/Test Data (First Try) with pca' ,\n",
        "             text=\"percent\", barmode=\"group\")\n",
        "fig.show()"
      ],
      "metadata": {
        "colab": {
          "base_uri": "https://localhost:8080/",
          "height": 542
        },
        "id": "aZ5UujzO464e",
        "outputId": "f52fe731-449e-4130-a8c8-7681528add76"
      },
      "execution_count": null,
      "outputs": [
        {
          "output_type": "display_data",
          "data": {
            "text/html": [
              "<html>\n",
              "<head><meta charset=\"utf-8\" /></head>\n",
              "<body>\n",
              "    <div>            <script src=\"https://cdnjs.cloudflare.com/ajax/libs/mathjax/2.7.5/MathJax.js?config=TeX-AMS-MML_SVG\"></script><script type=\"text/javascript\">if (window.MathJax) {MathJax.Hub.Config({SVG: {font: \"STIX-Web\"}});}</script>                <script type=\"text/javascript\">window.PlotlyConfig = {MathJaxConfig: 'local'};</script>\n",
              "        <script src=\"https://cdn.plot.ly/plotly-2.8.3.min.js\"></script>                <div id=\"ca1a5f68-2e58-4e14-b978-2fa556a926aa\" class=\"plotly-graph-div\" style=\"height:525px; width:100%;\"></div>            <script type=\"text/javascript\">                                    window.PLOTLYENV=window.PLOTLYENV || {};                                    if (document.getElementById(\"ca1a5f68-2e58-4e14-b978-2fa556a926aa\")) {                    Plotly.newPlot(                        \"ca1a5f68-2e58-4e14-b978-2fa556a926aa\",                        [{\"alignmentgroup\":\"True\",\"hovertemplate\":\"label=train<br>metric=%{x}<br>percent=%{text}<extra></extra>\",\"legendgroup\":\"train\",\"marker\":{\"color\":\"#636efa\",\"pattern\":{\"shape\":\"\"}},\"name\":\"train\",\"offsetgroup\":\"train\",\"orientation\":\"v\",\"showlegend\":true,\"text\":[45.97,30.02],\"textposition\":\"auto\",\"x\":[\"Accuracy\",\"Weighted Jaccard Score\"],\"xaxis\":\"x\",\"y\":[45.97,30.02],\"yaxis\":\"y\",\"type\":\"bar\"},{\"alignmentgroup\":\"True\",\"hovertemplate\":\"label=test<br>metric=%{x}<br>percent=%{text}<extra></extra>\",\"legendgroup\":\"test\",\"marker\":{\"color\":\"#EF553B\",\"pattern\":{\"shape\":\"\"}},\"name\":\"test\",\"offsetgroup\":\"test\",\"orientation\":\"v\",\"showlegend\":true,\"text\":[44.47,28.75],\"textposition\":\"auto\",\"x\":[\"Accuracy\",\"Weighted Jaccard Score\"],\"xaxis\":\"x\",\"y\":[44.47,28.75],\"yaxis\":\"y\",\"type\":\"bar\"}],                        {\"template\":{\"data\":{\"bar\":[{\"error_x\":{\"color\":\"#2a3f5f\"},\"error_y\":{\"color\":\"#2a3f5f\"},\"marker\":{\"line\":{\"color\":\"#E5ECF6\",\"width\":0.5},\"pattern\":{\"fillmode\":\"overlay\",\"size\":10,\"solidity\":0.2}},\"type\":\"bar\"}],\"barpolar\":[{\"marker\":{\"line\":{\"color\":\"#E5ECF6\",\"width\":0.5},\"pattern\":{\"fillmode\":\"overlay\",\"size\":10,\"solidity\":0.2}},\"type\":\"barpolar\"}],\"carpet\":[{\"aaxis\":{\"endlinecolor\":\"#2a3f5f\",\"gridcolor\":\"white\",\"linecolor\":\"white\",\"minorgridcolor\":\"white\",\"startlinecolor\":\"#2a3f5f\"},\"baxis\":{\"endlinecolor\":\"#2a3f5f\",\"gridcolor\":\"white\",\"linecolor\":\"white\",\"minorgridcolor\":\"white\",\"startlinecolor\":\"#2a3f5f\"},\"type\":\"carpet\"}],\"choropleth\":[{\"colorbar\":{\"outlinewidth\":0,\"ticks\":\"\"},\"type\":\"choropleth\"}],\"contour\":[{\"colorbar\":{\"outlinewidth\":0,\"ticks\":\"\"},\"colorscale\":[[0.0,\"#0d0887\"],[0.1111111111111111,\"#46039f\"],[0.2222222222222222,\"#7201a8\"],[0.3333333333333333,\"#9c179e\"],[0.4444444444444444,\"#bd3786\"],[0.5555555555555556,\"#d8576b\"],[0.6666666666666666,\"#ed7953\"],[0.7777777777777778,\"#fb9f3a\"],[0.8888888888888888,\"#fdca26\"],[1.0,\"#f0f921\"]],\"type\":\"contour\"}],\"contourcarpet\":[{\"colorbar\":{\"outlinewidth\":0,\"ticks\":\"\"},\"type\":\"contourcarpet\"}],\"heatmap\":[{\"colorbar\":{\"outlinewidth\":0,\"ticks\":\"\"},\"colorscale\":[[0.0,\"#0d0887\"],[0.1111111111111111,\"#46039f\"],[0.2222222222222222,\"#7201a8\"],[0.3333333333333333,\"#9c179e\"],[0.4444444444444444,\"#bd3786\"],[0.5555555555555556,\"#d8576b\"],[0.6666666666666666,\"#ed7953\"],[0.7777777777777778,\"#fb9f3a\"],[0.8888888888888888,\"#fdca26\"],[1.0,\"#f0f921\"]],\"type\":\"heatmap\"}],\"heatmapgl\":[{\"colorbar\":{\"outlinewidth\":0,\"ticks\":\"\"},\"colorscale\":[[0.0,\"#0d0887\"],[0.1111111111111111,\"#46039f\"],[0.2222222222222222,\"#7201a8\"],[0.3333333333333333,\"#9c179e\"],[0.4444444444444444,\"#bd3786\"],[0.5555555555555556,\"#d8576b\"],[0.6666666666666666,\"#ed7953\"],[0.7777777777777778,\"#fb9f3a\"],[0.8888888888888888,\"#fdca26\"],[1.0,\"#f0f921\"]],\"type\":\"heatmapgl\"}],\"histogram\":[{\"marker\":{\"pattern\":{\"fillmode\":\"overlay\",\"size\":10,\"solidity\":0.2}},\"type\":\"histogram\"}],\"histogram2d\":[{\"colorbar\":{\"outlinewidth\":0,\"ticks\":\"\"},\"colorscale\":[[0.0,\"#0d0887\"],[0.1111111111111111,\"#46039f\"],[0.2222222222222222,\"#7201a8\"],[0.3333333333333333,\"#9c179e\"],[0.4444444444444444,\"#bd3786\"],[0.5555555555555556,\"#d8576b\"],[0.6666666666666666,\"#ed7953\"],[0.7777777777777778,\"#fb9f3a\"],[0.8888888888888888,\"#fdca26\"],[1.0,\"#f0f921\"]],\"type\":\"histogram2d\"}],\"histogram2dcontour\":[{\"colorbar\":{\"outlinewidth\":0,\"ticks\":\"\"},\"colorscale\":[[0.0,\"#0d0887\"],[0.1111111111111111,\"#46039f\"],[0.2222222222222222,\"#7201a8\"],[0.3333333333333333,\"#9c179e\"],[0.4444444444444444,\"#bd3786\"],[0.5555555555555556,\"#d8576b\"],[0.6666666666666666,\"#ed7953\"],[0.7777777777777778,\"#fb9f3a\"],[0.8888888888888888,\"#fdca26\"],[1.0,\"#f0f921\"]],\"type\":\"histogram2dcontour\"}],\"mesh3d\":[{\"colorbar\":{\"outlinewidth\":0,\"ticks\":\"\"},\"type\":\"mesh3d\"}],\"parcoords\":[{\"line\":{\"colorbar\":{\"outlinewidth\":0,\"ticks\":\"\"}},\"type\":\"parcoords\"}],\"pie\":[{\"automargin\":true,\"type\":\"pie\"}],\"scatter\":[{\"marker\":{\"colorbar\":{\"outlinewidth\":0,\"ticks\":\"\"}},\"type\":\"scatter\"}],\"scatter3d\":[{\"line\":{\"colorbar\":{\"outlinewidth\":0,\"ticks\":\"\"}},\"marker\":{\"colorbar\":{\"outlinewidth\":0,\"ticks\":\"\"}},\"type\":\"scatter3d\"}],\"scattercarpet\":[{\"marker\":{\"colorbar\":{\"outlinewidth\":0,\"ticks\":\"\"}},\"type\":\"scattercarpet\"}],\"scattergeo\":[{\"marker\":{\"colorbar\":{\"outlinewidth\":0,\"ticks\":\"\"}},\"type\":\"scattergeo\"}],\"scattergl\":[{\"marker\":{\"colorbar\":{\"outlinewidth\":0,\"ticks\":\"\"}},\"type\":\"scattergl\"}],\"scattermapbox\":[{\"marker\":{\"colorbar\":{\"outlinewidth\":0,\"ticks\":\"\"}},\"type\":\"scattermapbox\"}],\"scatterpolar\":[{\"marker\":{\"colorbar\":{\"outlinewidth\":0,\"ticks\":\"\"}},\"type\":\"scatterpolar\"}],\"scatterpolargl\":[{\"marker\":{\"colorbar\":{\"outlinewidth\":0,\"ticks\":\"\"}},\"type\":\"scatterpolargl\"}],\"scatterternary\":[{\"marker\":{\"colorbar\":{\"outlinewidth\":0,\"ticks\":\"\"}},\"type\":\"scatterternary\"}],\"surface\":[{\"colorbar\":{\"outlinewidth\":0,\"ticks\":\"\"},\"colorscale\":[[0.0,\"#0d0887\"],[0.1111111111111111,\"#46039f\"],[0.2222222222222222,\"#7201a8\"],[0.3333333333333333,\"#9c179e\"],[0.4444444444444444,\"#bd3786\"],[0.5555555555555556,\"#d8576b\"],[0.6666666666666666,\"#ed7953\"],[0.7777777777777778,\"#fb9f3a\"],[0.8888888888888888,\"#fdca26\"],[1.0,\"#f0f921\"]],\"type\":\"surface\"}],\"table\":[{\"cells\":{\"fill\":{\"color\":\"#EBF0F8\"},\"line\":{\"color\":\"white\"}},\"header\":{\"fill\":{\"color\":\"#C8D4E3\"},\"line\":{\"color\":\"white\"}},\"type\":\"table\"}]},\"layout\":{\"annotationdefaults\":{\"arrowcolor\":\"#2a3f5f\",\"arrowhead\":0,\"arrowwidth\":1},\"autotypenumbers\":\"strict\",\"coloraxis\":{\"colorbar\":{\"outlinewidth\":0,\"ticks\":\"\"}},\"colorscale\":{\"diverging\":[[0,\"#8e0152\"],[0.1,\"#c51b7d\"],[0.2,\"#de77ae\"],[0.3,\"#f1b6da\"],[0.4,\"#fde0ef\"],[0.5,\"#f7f7f7\"],[0.6,\"#e6f5d0\"],[0.7,\"#b8e186\"],[0.8,\"#7fbc41\"],[0.9,\"#4d9221\"],[1,\"#276419\"]],\"sequential\":[[0.0,\"#0d0887\"],[0.1111111111111111,\"#46039f\"],[0.2222222222222222,\"#7201a8\"],[0.3333333333333333,\"#9c179e\"],[0.4444444444444444,\"#bd3786\"],[0.5555555555555556,\"#d8576b\"],[0.6666666666666666,\"#ed7953\"],[0.7777777777777778,\"#fb9f3a\"],[0.8888888888888888,\"#fdca26\"],[1.0,\"#f0f921\"]],\"sequentialminus\":[[0.0,\"#0d0887\"],[0.1111111111111111,\"#46039f\"],[0.2222222222222222,\"#7201a8\"],[0.3333333333333333,\"#9c179e\"],[0.4444444444444444,\"#bd3786\"],[0.5555555555555556,\"#d8576b\"],[0.6666666666666666,\"#ed7953\"],[0.7777777777777778,\"#fb9f3a\"],[0.8888888888888888,\"#fdca26\"],[1.0,\"#f0f921\"]]},\"colorway\":[\"#636efa\",\"#EF553B\",\"#00cc96\",\"#ab63fa\",\"#FFA15A\",\"#19d3f3\",\"#FF6692\",\"#B6E880\",\"#FF97FF\",\"#FECB52\"],\"font\":{\"color\":\"#2a3f5f\"},\"geo\":{\"bgcolor\":\"white\",\"lakecolor\":\"white\",\"landcolor\":\"#E5ECF6\",\"showlakes\":true,\"showland\":true,\"subunitcolor\":\"white\"},\"hoverlabel\":{\"align\":\"left\"},\"hovermode\":\"closest\",\"mapbox\":{\"style\":\"light\"},\"paper_bgcolor\":\"white\",\"plot_bgcolor\":\"#E5ECF6\",\"polar\":{\"angularaxis\":{\"gridcolor\":\"white\",\"linecolor\":\"white\",\"ticks\":\"\"},\"bgcolor\":\"#E5ECF6\",\"radialaxis\":{\"gridcolor\":\"white\",\"linecolor\":\"white\",\"ticks\":\"\"}},\"scene\":{\"xaxis\":{\"backgroundcolor\":\"#E5ECF6\",\"gridcolor\":\"white\",\"gridwidth\":2,\"linecolor\":\"white\",\"showbackground\":true,\"ticks\":\"\",\"zerolinecolor\":\"white\"},\"yaxis\":{\"backgroundcolor\":\"#E5ECF6\",\"gridcolor\":\"white\",\"gridwidth\":2,\"linecolor\":\"white\",\"showbackground\":true,\"ticks\":\"\",\"zerolinecolor\":\"white\"},\"zaxis\":{\"backgroundcolor\":\"#E5ECF6\",\"gridcolor\":\"white\",\"gridwidth\":2,\"linecolor\":\"white\",\"showbackground\":true,\"ticks\":\"\",\"zerolinecolor\":\"white\"}},\"shapedefaults\":{\"line\":{\"color\":\"#2a3f5f\"}},\"ternary\":{\"aaxis\":{\"gridcolor\":\"white\",\"linecolor\":\"white\",\"ticks\":\"\"},\"baxis\":{\"gridcolor\":\"white\",\"linecolor\":\"white\",\"ticks\":\"\"},\"bgcolor\":\"#E5ECF6\",\"caxis\":{\"gridcolor\":\"white\",\"linecolor\":\"white\",\"ticks\":\"\"}},\"title\":{\"x\":0.05},\"xaxis\":{\"automargin\":true,\"gridcolor\":\"white\",\"linecolor\":\"white\",\"ticks\":\"\",\"title\":{\"standoff\":15},\"zerolinecolor\":\"white\",\"zerolinewidth\":2},\"yaxis\":{\"automargin\":true,\"gridcolor\":\"white\",\"linecolor\":\"white\",\"ticks\":\"\",\"title\":{\"standoff\":15},\"zerolinecolor\":\"white\",\"zerolinewidth\":2}}},\"xaxis\":{\"anchor\":\"y\",\"domain\":[0.0,1.0],\"title\":{\"text\":\"metric\"}},\"yaxis\":{\"anchor\":\"x\",\"domain\":[0.0,1.0],\"title\":{\"text\":\"percent\"}},\"legend\":{\"title\":{\"text\":\"label\"},\"tracegroupgap\":0},\"title\":{\"text\":\"Logistic Regression Accuracy/Jaccard for Train/Test Data (First Try) with pca\"},\"barmode\":\"group\"},                        {\"responsive\": true}                    ).then(function(){\n",
              "                            \n",
              "var gd = document.getElementById('ca1a5f68-2e58-4e14-b978-2fa556a926aa');\n",
              "var x = new MutationObserver(function (mutations, observer) {{\n",
              "        var display = window.getComputedStyle(gd).display;\n",
              "        if (!display || display === 'none') {{\n",
              "            console.log([gd, 'removed!']);\n",
              "            Plotly.purge(gd);\n",
              "            observer.disconnect();\n",
              "        }}\n",
              "}});\n",
              "\n",
              "// Listen for the removal of the full notebook cells\n",
              "var notebookContainer = gd.closest('#notebook-container');\n",
              "if (notebookContainer) {{\n",
              "    x.observe(notebookContainer, {childList: true});\n",
              "}}\n",
              "\n",
              "// Listen for the clearing of the current output cell\n",
              "var outputEl = gd.closest('.output');\n",
              "if (outputEl) {{\n",
              "    x.observe(outputEl, {childList: true});\n",
              "}}\n",
              "\n",
              "                        })                };                            </script>        </div>\n",
              "</body>\n",
              "</html>"
            ]
          },
          "metadata": {}
        }
      ]
    },
    {
      "cell_type": "code",
      "source": [
        "from sklearn.metrics import classification_report, confusion_matrix\n",
        "import matplotlib.pyplot as plt\n",
        "\n",
        "print(\"Train set Accuracy: %\", round( 100* metrics.accuracy_score(y_train, lr_clf.predict(X_train))))\n",
        "print(\"Test set Accuracy: %\", round( 100* metrics.accuracy_score(y_test, lr_yhat)))\n",
        "print('')\n",
        "print (classification_report(y_test, lr_yhat))"
      ],
      "metadata": {
        "colab": {
          "base_uri": "https://localhost:8080/"
        },
        "id": "n35-_G6a5Ix2",
        "outputId": "64778475-3214-4ebc-b64a-63a9ff741c1b"
      },
      "execution_count": null,
      "outputs": [
        {
          "output_type": "stream",
          "name": "stdout",
          "text": [
            "Train set Accuracy: % 46\n",
            "Test set Accuracy: % 44\n",
            "\n",
            "              precision    recall  f1-score   support\n",
            "\n",
            "           1       0.53      0.46      0.49      1243\n",
            "           2       0.48      0.46      0.47      1234\n",
            "           3       0.41      0.49      0.45      1235\n",
            "           4       0.38      0.38      0.38      1287\n",
            "\n",
            "    accuracy                           0.44      4999\n",
            "   macro avg       0.45      0.45      0.45      4999\n",
            "weighted avg       0.45      0.44      0.45      4999\n",
            "\n"
          ]
        }
      ]
    },
    {
      "cell_type": "code",
      "source": [
        "lr_cnf_matrix = confusion_matrix(y_test, lr_yhat)\n",
        "np.set_printoptions(precision=2)\n",
        "\n",
        "labels = [0,1]\n",
        "\n",
        "plt.figure(figsize=(5,5))\n",
        "plot_confusion_matrix(lr_cnf_matrix, classes=labels ,normalize= False,  title='Logistic Regression Confusion Matrix')"
      ],
      "metadata": {
        "colab": {
          "base_uri": "https://localhost:8080/",
          "height": 386
        },
        "id": "ZNZV5-035Iui",
        "outputId": "c34585c5-b23b-4875-ff9b-f9db328f105b"
      },
      "execution_count": null,
      "outputs": [
        {
          "output_type": "stream",
          "name": "stdout",
          "text": [
            "Confusion matrix, without normalization\n"
          ]
        },
        {
          "output_type": "display_data",
          "data": {
            "text/plain": [
              "<Figure size 360x360 with 2 Axes>"
            ],
            "image/png": "[encoded data removed]"
          },
          "metadata": {
            "needs_background": "light"
          }
        }
      ]
    },
    {
      "cell_type": "markdown",
      "source": [
        "## svm"
      ],
      "metadata": {
        "id": "XEY8gZdQ5o7O"
      }
    },
    {
      "cell_type": "code",
      "source": [
        "from sklearn import svm\n",
        "svm_clf = make_pipeline(StandardScaler(), svm.SVC(kernel='rbf',C=10))\n",
        "svm_clf.fit(X_train,y_train)\n",
        "svm_yhat = svm_clf.predict(X_test)\n"
      ],
      "metadata": {
        "id": "pZCWFMee5ILQ"
      },
      "execution_count": null,
      "outputs": []
    },
    {
      "cell_type": "code",
      "source": [
        "svm_acc_train = round( metrics.accuracy_score(y_train, svm_clf.predict(X_train))*100 ,2)\n",
        "svm_acc_test = round( metrics.accuracy_score(y_test, svm_yhat)*100 ,2)\n",
        "svm_jac_train = round( metrics.jaccard_score(y_train, svm_clf.predict(X_train),average='weighted')*100 ,2)\n",
        "svm_jac_test = round( metrics.jaccard_score(y_test, svm_yhat,average='weighted')*100 ,2)\n",
        "\n",
        "svm_df1 = pd.DataFrame({'percent':[svm_acc_train,svm_acc_test,svm_jac_train,svm_jac_test],\n",
        "                       'label' : ['train' , 'test' , 'train' , 'test'],\n",
        "                       'metric': ['Accuracy' , 'Accuracy' , 'Weighted Jaccard Score' , 'Weighted Jaccard Score']})\n",
        "\n",
        "\n",
        "fig = px.bar(svm_df1 , x='metric' , y='percent' , color='label' ,\n",
        "             title='SVM Accuracy/Jaccard for Train/Test Data with pca(First Try)' ,\n",
        "             text=\"percent\", barmode=\"group\")\n",
        "fig.show()"
      ],
      "metadata": {
        "colab": {
          "base_uri": "https://localhost:8080/",
          "height": 542
        },
        "id": "AeLrAKkJ5vMu",
        "outputId": "525085b5-8bac-45b8-ec5f-b2a9d1dd156b"
      },
      "execution_count": null,
      "outputs": [
        {
          "output_type": "display_data",
          "data": {
            "text/html": [
              "<html>\n",
              "<head><meta charset=\"utf-8\" /></head>\n",
              "<body>\n",
              "    <div>            <script src=\"https://cdnjs.cloudflare.com/ajax/libs/mathjax/2.7.5/MathJax.js?config=TeX-AMS-MML_SVG\"></script><script type=\"text/javascript\">if (window.MathJax) {MathJax.Hub.Config({SVG: {font: \"STIX-Web\"}});}</script>                <script type=\"text/javascript\">window.PlotlyConfig = {MathJaxConfig: 'local'};</script>\n",
              "        <script src=\"https://cdn.plot.ly/plotly-2.8.3.min.js\"></script>                <div id=\"5c212d71-9128-4ad5-966d-babe2533a4e7\" class=\"plotly-graph-div\" style=\"height:525px; width:100%;\"></div>            <script type=\"text/javascript\">                                    window.PLOTLYENV=window.PLOTLYENV || {};                                    if (document.getElementById(\"5c212d71-9128-4ad5-966d-babe2533a4e7\")) {                    Plotly.newPlot(                        \"5c212d71-9128-4ad5-966d-babe2533a4e7\",                        [{\"alignmentgroup\":\"True\",\"hovertemplate\":\"label=train<br>metric=%{x}<br>percent=%{text}<extra></extra>\",\"legendgroup\":\"train\",\"marker\":{\"color\":\"#636efa\",\"pattern\":{\"shape\":\"\"}},\"name\":\"train\",\"offsetgroup\":\"train\",\"orientation\":\"v\",\"showlegend\":true,\"text\":[79.72,66.73],\"textposition\":\"auto\",\"x\":[\"Accuracy\",\"Weighted Jaccard Score\"],\"xaxis\":\"x\",\"y\":[79.72,66.73],\"yaxis\":\"y\",\"type\":\"bar\"},{\"alignmentgroup\":\"True\",\"hovertemplate\":\"label=test<br>metric=%{x}<br>percent=%{text}<extra></extra>\",\"legendgroup\":\"test\",\"marker\":{\"color\":\"#EF553B\",\"pattern\":{\"shape\":\"\"}},\"name\":\"test\",\"offsetgroup\":\"test\",\"orientation\":\"v\",\"showlegend\":true,\"text\":[49.17,32.66],\"textposition\":\"auto\",\"x\":[\"Accuracy\",\"Weighted Jaccard Score\"],\"xaxis\":\"x\",\"y\":[49.17,32.66],\"yaxis\":\"y\",\"type\":\"bar\"}],                        {\"template\":{\"data\":{\"bar\":[{\"error_x\":{\"color\":\"#2a3f5f\"},\"error_y\":{\"color\":\"#2a3f5f\"},\"marker\":{\"line\":{\"color\":\"#E5ECF6\",\"width\":0.5},\"pattern\":{\"fillmode\":\"overlay\",\"size\":10,\"solidity\":0.2}},\"type\":\"bar\"}],\"barpolar\":[{\"marker\":{\"line\":{\"color\":\"#E5ECF6\",\"width\":0.5},\"pattern\":{\"fillmode\":\"overlay\",\"size\":10,\"solidity\":0.2}},\"type\":\"barpolar\"}],\"carpet\":[{\"aaxis\":{\"endlinecolor\":\"#2a3f5f\",\"gridcolor\":\"white\",\"linecolor\":\"white\",\"minorgridcolor\":\"white\",\"startlinecolor\":\"#2a3f5f\"},\"baxis\":{\"endlinecolor\":\"#2a3f5f\",\"gridcolor\":\"white\",\"linecolor\":\"white\",\"minorgridcolor\":\"white\",\"startlinecolor\":\"#2a3f5f\"},\"type\":\"carpet\"}],\"choropleth\":[{\"colorbar\":{\"outlinewidth\":0,\"ticks\":\"\"},\"type\":\"choropleth\"}],\"contour\":[{\"colorbar\":{\"outlinewidth\":0,\"ticks\":\"\"},\"colorscale\":[[0.0,\"#0d0887\"],[0.1111111111111111,\"#46039f\"],[0.2222222222222222,\"#7201a8\"],[0.3333333333333333,\"#9c179e\"],[0.4444444444444444,\"#bd3786\"],[0.5555555555555556,\"#d8576b\"],[0.6666666666666666,\"#ed7953\"],[0.7777777777777778,\"#fb9f3a\"],[0.8888888888888888,\"#fdca26\"],[1.0,\"#f0f921\"]],\"type\":\"contour\"}],\"contourcarpet\":[{\"colorbar\":{\"outlinewidth\":0,\"ticks\":\"\"},\"type\":\"contourcarpet\"}],\"heatmap\":[{\"colorbar\":{\"outlinewidth\":0,\"ticks\":\"\"},\"colorscale\":[[0.0,\"#0d0887\"],[0.1111111111111111,\"#46039f\"],[0.2222222222222222,\"#7201a8\"],[0.3333333333333333,\"#9c179e\"],[0.4444444444444444,\"#bd3786\"],[0.5555555555555556,\"#d8576b\"],[0.6666666666666666,\"#ed7953\"],[0.7777777777777778,\"#fb9f3a\"],[0.8888888888888888,\"#fdca26\"],[1.0,\"#f0f921\"]],\"type\":\"heatmap\"}],\"heatmapgl\":[{\"colorbar\":{\"outlinewidth\":0,\"ticks\":\"\"},\"colorscale\":[[0.0,\"#0d0887\"],[0.1111111111111111,\"#46039f\"],[0.2222222222222222,\"#7201a8\"],[0.3333333333333333,\"#9c179e\"],[0.4444444444444444,\"#bd3786\"],[0.5555555555555556,\"#d8576b\"],[0.6666666666666666,\"#ed7953\"],[0.7777777777777778,\"#fb9f3a\"],[0.8888888888888888,\"#fdca26\"],[1.0,\"#f0f921\"]],\"type\":\"heatmapgl\"}],\"histogram\":[{\"marker\":{\"pattern\":{\"fillmode\":\"overlay\",\"size\":10,\"solidity\":0.2}},\"type\":\"histogram\"}],\"histogram2d\":[{\"colorbar\":{\"outlinewidth\":0,\"ticks\":\"\"},\"colorscale\":[[0.0,\"#0d0887\"],[0.1111111111111111,\"#46039f\"],[0.2222222222222222,\"#7201a8\"],[0.3333333333333333,\"#9c179e\"],[0.4444444444444444,\"#bd3786\"],[0.5555555555555556,\"#d8576b\"],[0.6666666666666666,\"#ed7953\"],[0.7777777777777778,\"#fb9f3a\"],[0.8888888888888888,\"#fdca26\"],[1.0,\"#f0f921\"]],\"type\":\"histogram2d\"}],\"histogram2dcontour\":[{\"colorbar\":{\"outlinewidth\":0,\"ticks\":\"\"},\"colorscale\":[[0.0,\"#0d0887\"],[0.1111111111111111,\"#46039f\"],[0.2222222222222222,\"#7201a8\"],[0.3333333333333333,\"#9c179e\"],[0.4444444444444444,\"#bd3786\"],[0.5555555555555556,\"#d8576b\"],[0.6666666666666666,\"#ed7953\"],[0.7777777777777778,\"#fb9f3a\"],[0.8888888888888888,\"#fdca26\"],[1.0,\"#f0f921\"]],\"type\":\"histogram2dcontour\"}],\"mesh3d\":[{\"colorbar\":{\"outlinewidth\":0,\"ticks\":\"\"},\"type\":\"mesh3d\"}],\"parcoords\":[{\"line\":{\"colorbar\":{\"outlinewidth\":0,\"ticks\":\"\"}},\"type\":\"parcoords\"}],\"pie\":[{\"automargin\":true,\"type\":\"pie\"}],\"scatter\":[{\"marker\":{\"colorbar\":{\"outlinewidth\":0,\"ticks\":\"\"}},\"type\":\"scatter\"}],\"scatter3d\":[{\"line\":{\"colorbar\":{\"outlinewidth\":0,\"ticks\":\"\"}},\"marker\":{\"colorbar\":{\"outlinewidth\":0,\"ticks\":\"\"}},\"type\":\"scatter3d\"}],\"scattercarpet\":[{\"marker\":{\"colorbar\":{\"outlinewidth\":0,\"ticks\":\"\"}},\"type\":\"scattercarpet\"}],\"scattergeo\":[{\"marker\":{\"colorbar\":{\"outlinewidth\":0,\"ticks\":\"\"}},\"type\":\"scattergeo\"}],\"scattergl\":[{\"marker\":{\"colorbar\":{\"outlinewidth\":0,\"ticks\":\"\"}},\"type\":\"scattergl\"}],\"scattermapbox\":[{\"marker\":{\"colorbar\":{\"outlinewidth\":0,\"ticks\":\"\"}},\"type\":\"scattermapbox\"}],\"scatterpolar\":[{\"marker\":{\"colorbar\":{\"outlinewidth\":0,\"ticks\":\"\"}},\"type\":\"scatterpolar\"}],\"scatterpolargl\":[{\"marker\":{\"colorbar\":{\"outlinewidth\":0,\"ticks\":\"\"}},\"type\":\"scatterpolargl\"}],\"scatterternary\":[{\"marker\":{\"colorbar\":{\"outlinewidth\":0,\"ticks\":\"\"}},\"type\":\"scatterternary\"}],\"surface\":[{\"colorbar\":{\"outlinewidth\":0,\"ticks\":\"\"},\"colorscale\":[[0.0,\"#0d0887\"],[0.1111111111111111,\"#46039f\"],[0.2222222222222222,\"#7201a8\"],[0.3333333333333333,\"#9c179e\"],[0.4444444444444444,\"#bd3786\"],[0.5555555555555556,\"#d8576b\"],[0.6666666666666666,\"#ed7953\"],[0.7777777777777778,\"#fb9f3a\"],[0.8888888888888888,\"#fdca26\"],[1.0,\"#f0f921\"]],\"type\":\"surface\"}],\"table\":[{\"cells\":{\"fill\":{\"color\":\"#EBF0F8\"},\"line\":{\"color\":\"white\"}},\"header\":{\"fill\":{\"color\":\"#C8D4E3\"},\"line\":{\"color\":\"white\"}},\"type\":\"table\"}]},\"layout\":{\"annotationdefaults\":{\"arrowcolor\":\"#2a3f5f\",\"arrowhead\":0,\"arrowwidth\":1},\"autotypenumbers\":\"strict\",\"coloraxis\":{\"colorbar\":{\"outlinewidth\":0,\"ticks\":\"\"}},\"colorscale\":{\"diverging\":[[0,\"#8e0152\"],[0.1,\"#c51b7d\"],[0.2,\"#de77ae\"],[0.3,\"#f1b6da\"],[0.4,\"#fde0ef\"],[0.5,\"#f7f7f7\"],[0.6,\"#e6f5d0\"],[0.7,\"#b8e186\"],[0.8,\"#7fbc41\"],[0.9,\"#4d9221\"],[1,\"#276419\"]],\"sequential\":[[0.0,\"#0d0887\"],[0.1111111111111111,\"#46039f\"],[0.2222222222222222,\"#7201a8\"],[0.3333333333333333,\"#9c179e\"],[0.4444444444444444,\"#bd3786\"],[0.5555555555555556,\"#d8576b\"],[0.6666666666666666,\"#ed7953\"],[0.7777777777777778,\"#fb9f3a\"],[0.8888888888888888,\"#fdca26\"],[1.0,\"#f0f921\"]],\"sequentialminus\":[[0.0,\"#0d0887\"],[0.1111111111111111,\"#46039f\"],[0.2222222222222222,\"#7201a8\"],[0.3333333333333333,\"#9c179e\"],[0.4444444444444444,\"#bd3786\"],[0.5555555555555556,\"#d8576b\"],[0.6666666666666666,\"#ed7953\"],[0.7777777777777778,\"#fb9f3a\"],[0.8888888888888888,\"#fdca26\"],[1.0,\"#f0f921\"]]},\"colorway\":[\"#636efa\",\"#EF553B\",\"#00cc96\",\"#ab63fa\",\"#FFA15A\",\"#19d3f3\",\"#FF6692\",\"#B6E880\",\"#FF97FF\",\"#FECB52\"],\"font\":{\"color\":\"#2a3f5f\"},\"geo\":{\"bgcolor\":\"white\",\"lakecolor\":\"white\",\"landcolor\":\"#E5ECF6\",\"showlakes\":true,\"showland\":true,\"subunitcolor\":\"white\"},\"hoverlabel\":{\"align\":\"left\"},\"hovermode\":\"closest\",\"mapbox\":{\"style\":\"light\"},\"paper_bgcolor\":\"white\",\"plot_bgcolor\":\"#E5ECF6\",\"polar\":{\"angularaxis\":{\"gridcolor\":\"white\",\"linecolor\":\"white\",\"ticks\":\"\"},\"bgcolor\":\"#E5ECF6\",\"radialaxis\":{\"gridcolor\":\"white\",\"linecolor\":\"white\",\"ticks\":\"\"}},\"scene\":{\"xaxis\":{\"backgroundcolor\":\"#E5ECF6\",\"gridcolor\":\"white\",\"gridwidth\":2,\"linecolor\":\"white\",\"showbackground\":true,\"ticks\":\"\",\"zerolinecolor\":\"white\"},\"yaxis\":{\"backgroundcolor\":\"#E5ECF6\",\"gridcolor\":\"white\",\"gridwidth\":2,\"linecolor\":\"white\",\"showbackground\":true,\"ticks\":\"\",\"zerolinecolor\":\"white\"},\"zaxis\":{\"backgroundcolor\":\"#E5ECF6\",\"gridcolor\":\"white\",\"gridwidth\":2,\"linecolor\":\"white\",\"showbackground\":true,\"ticks\":\"\",\"zerolinecolor\":\"white\"}},\"shapedefaults\":{\"line\":{\"color\":\"#2a3f5f\"}},\"ternary\":{\"aaxis\":{\"gridcolor\":\"white\",\"linecolor\":\"white\",\"ticks\":\"\"},\"baxis\":{\"gridcolor\":\"white\",\"linecolor\":\"white\",\"ticks\":\"\"},\"bgcolor\":\"#E5ECF6\",\"caxis\":{\"gridcolor\":\"white\",\"linecolor\":\"white\",\"ticks\":\"\"}},\"title\":{\"x\":0.05},\"xaxis\":{\"automargin\":true,\"gridcolor\":\"white\",\"linecolor\":\"white\",\"ticks\":\"\",\"title\":{\"standoff\":15},\"zerolinecolor\":\"white\",\"zerolinewidth\":2},\"yaxis\":{\"automargin\":true,\"gridcolor\":\"white\",\"linecolor\":\"white\",\"ticks\":\"\",\"title\":{\"standoff\":15},\"zerolinecolor\":\"white\",\"zerolinewidth\":2}}},\"xaxis\":{\"anchor\":\"y\",\"domain\":[0.0,1.0],\"title\":{\"text\":\"metric\"}},\"yaxis\":{\"anchor\":\"x\",\"domain\":[0.0,1.0],\"title\":{\"text\":\"percent\"}},\"legend\":{\"title\":{\"text\":\"label\"},\"tracegroupgap\":0},\"title\":{\"text\":\"SVM Accuracy/Jaccard for Train/Test Data with pca(First Try)\"},\"barmode\":\"group\"},                        {\"responsive\": true}                    ).then(function(){\n",
              "                            \n",
              "var gd = document.getElementById('5c212d71-9128-4ad5-966d-babe2533a4e7');\n",
              "var x = new MutationObserver(function (mutations, observer) {{\n",
              "        var display = window.getComputedStyle(gd).display;\n",
              "        if (!display || display === 'none') {{\n",
              "            console.log([gd, 'removed!']);\n",
              "            Plotly.purge(gd);\n",
              "            observer.disconnect();\n",
              "        }}\n",
              "}});\n",
              "\n",
              "// Listen for the removal of the full notebook cells\n",
              "var notebookContainer = gd.closest('#notebook-container');\n",
              "if (notebookContainer) {{\n",
              "    x.observe(notebookContainer, {childList: true});\n",
              "}}\n",
              "\n",
              "// Listen for the clearing of the current output cell\n",
              "var outputEl = gd.closest('.output');\n",
              "if (outputEl) {{\n",
              "    x.observe(outputEl, {childList: true});\n",
              "}}\n",
              "\n",
              "                        })                };                            </script>        </div>\n",
              "</body>\n",
              "</html>"
            ]
          },
          "metadata": {}
        }
      ]
    },
    {
      "cell_type": "code",
      "source": [
        "print(\"Train set Accuracy: %\", round( 100* metrics.accuracy_score(y_train, svm_clf.predict(X_train))))\n",
        "print(\"Test set Accuracy: %\", round( 100* metrics.accuracy_score(y_test, svm_yhat))) \n",
        "print('')\n",
        "print (classification_report(y_test, svm_yhat))"
      ],
      "metadata": {
        "colab": {
          "base_uri": "https://localhost:8080/"
        },
        "id": "Ffj4q5SB5vJM",
        "outputId": "daff30d2-bc81-4f67-d450-b774d8880591"
      },
      "execution_count": null,
      "outputs": [
        {
          "output_type": "stream",
          "name": "stdout",
          "text": [
            "Train set Accuracy: % 80\n",
            "Test set Accuracy: % 49\n",
            "\n",
            "              precision    recall  f1-score   support\n",
            "\n",
            "           1       0.53      0.54      0.53      1243\n",
            "           2       0.52      0.47      0.49      1234\n",
            "           3       0.48      0.48      0.48      1235\n",
            "           4       0.45      0.47      0.46      1287\n",
            "\n",
            "    accuracy                           0.49      4999\n",
            "   macro avg       0.49      0.49      0.49      4999\n",
            "weighted avg       0.49      0.49      0.49      4999\n",
            "\n"
          ]
        }
      ]
    },
    {
      "cell_type": "code",
      "source": [
        "svm_cnf_matrix = confusion_matrix(y_test, svm_yhat)\n",
        "np.set_printoptions(precision=2)\n",
        "\n",
        "labels = [1,2,3,4]\n",
        "\n",
        "plt.figure(figsize=(5,5))\n",
        "plot_confusion_matrix(svm_cnf_matrix, classes=labels ,normalize= False,  title='SVM Confusion Matrix')"
      ],
      "metadata": {
        "colab": {
          "base_uri": "https://localhost:8080/",
          "height": 386
        },
        "id": "mzntn0-J6cGH",
        "outputId": "eaf0d294-1f61-4bd8-b532-6a340ee94976"
      },
      "execution_count": null,
      "outputs": [
        {
          "output_type": "stream",
          "name": "stdout",
          "text": [
            "Confusion matrix, without normalization\n"
          ]
        },
        {
          "output_type": "display_data",
          "data": {
            "text/plain": [
              "<Figure size 360x360 with 2 Axes>"
            ],
            "image/png": "[encoded data removed]"
          },
          "metadata": {
            "needs_background": "light"
          }
        }
      ]
    },
    {
      "cell_type": "markdown",
      "source": [
        "## KNN"
      ],
      "metadata": {
        "id": "b5XtBnSo6_7k"
      }
    },
    {
      "cell_type": "code",
      "source": [
        "from sklearn.neighbors import KNeighborsClassifier\n",
        "\n",
        "\n",
        "Ks = 51\n",
        "mean_acc = np.zeros((Ks-1))\n",
        "mean_rec = np.zeros((Ks-1)) \n",
        "std_acc = np.zeros((Ks-1))\n",
        "\n",
        "for n in range(1,Ks):\n",
        "    \n",
        "    #Train Model and Predict  \n",
        "    neigh = make_pipeline(preprocessing.StandardScaler(), KNeighborsClassifier(n_neighbors = n)).fit(X_train,y_train)\n",
        "    knn_yhat=neigh.predict(X_test)\n",
        "    mean_acc[n-1] = metrics.accuracy_score(y_test, knn_yhat)\n",
        "    std_acc[n-1]=np.std(knn_yhat==y_test)/np.sqrt(knn_yhat.shape[0])\n",
        "\n",
        "mean_acc "
      ],
      "metadata": {
        "colab": {
          "base_uri": "https://localhost:8080/"
        },
        "id": "HphEPxS-68JD",
        "outputId": "e3fa9e57-703e-410b-e7f4-434938368194"
      },
      "execution_count": null,
      "outputs": [
        {
          "output_type": "execute_result",
          "data": {
            "text/plain": [
              "array([0.39, 0.39, 0.4 , 0.4 , 0.41, 0.4 , 0.4 , 0.4 , 0.4 , 0.4 , 0.41,\n",
              "       0.4 , 0.41, 0.42, 0.41, 0.41, 0.4 , 0.41, 0.41, 0.41, 0.41, 0.41,\n",
              "       0.41, 0.41, 0.41, 0.41, 0.41, 0.41, 0.4 , 0.4 , 0.4 , 0.4 , 0.4 ,\n",
              "       0.4 , 0.4 , 0.4 , 0.4 , 0.4 , 0.4 , 0.4 , 0.4 , 0.4 , 0.4 , 0.39,\n",
              "       0.4 , 0.4 , 0.4 , 0.39, 0.39, 0.39])"
            ]
          },
          "metadata": {},
          "execution_count": 120
        }
      ]
    },
    {
      "cell_type": "code",
      "source": [
        "plt.plot(range(1,Ks),mean_acc,'g')\n",
        "plt.fill_between(range(1,Ks),mean_acc - 1 * std_acc,mean_acc + 1 * std_acc, alpha=0.10)\n",
        "plt.fill_between(range(1,Ks),mean_acc - 3 * std_acc,mean_acc + 3 * std_acc, alpha=0.10,color=\"green\")\n",
        "plt.legend(('Accuracy ', '+/- 1xstd','+/- 3xstd'))\n",
        "plt.ylabel('Accuracy ')\n",
        "plt.xlabel('Number of Neighbors (K)')\n",
        "plt.tight_layout()\n",
        "plt.show()"
      ],
      "metadata": {
        "colab": {
          "base_uri": "https://localhost:8080/",
          "height": 297
        },
        "id": "h8x2N-Cg68CM",
        "outputId": "85884475-eac0-4e70-98d0-bdc5de53b228"
      },
      "execution_count": null,
      "outputs": [
        {
          "output_type": "display_data",
          "data": {
            "text/plain": [
              "<Figure size 432x288 with 1 Axes>"
            ],
            "image/png": "[encoded data removed]"
          },
          "metadata": {
            "needs_background": "light"
          }
        }
      ]
    },
    {
      "cell_type": "code",
      "source": [
        "print( \"The best accuracy was with\", mean_acc.max(), \"with k=\", mean_acc.argmax()+1) \n"
      ],
      "metadata": {
        "colab": {
          "base_uri": "https://localhost:8080/"
        },
        "id": "OSrI0_Lh67-M",
        "outputId": "eed9fd32-c4d5-4f81-a201-b870bb27f7e6"
      },
      "execution_count": null,
      "outputs": [
        {
          "output_type": "stream",
          "name": "stdout",
          "text": [
            "The best accuracy was with 0.41548309661932387 with k= 14\n"
          ]
        }
      ]
    },
    {
      "cell_type": "code",
      "source": [
        "k = 14\n",
        "knn_clf = make_pipeline(preprocessing.StandardScaler(), KNeighborsClassifier(n_neighbors = k))\n",
        "knn_clf.fit(X_train,y_train)\n",
        "knn_yhat = knn_clf.predict(X_test)\n",
        "knn_yhat[0:5]"
      ],
      "metadata": {
        "colab": {
          "base_uri": "https://localhost:8080/"
        },
        "id": "ePphd7XY67wc",
        "outputId": "73d43956-6dbe-4bd3-8205-771923126386"
      },
      "execution_count": null,
      "outputs": [
        {
          "output_type": "execute_result",
          "data": {
            "text/plain": [
              "array([2, 2, 3, 3, 3])"
            ]
          },
          "metadata": {},
          "execution_count": 123
        }
      ]
    },
    {
      "cell_type": "code",
      "source": [
        "knn_acc_train = round( metrics.accuracy_score(y_train, knn_clf.predict(X_train))*100 ,2)\n",
        "knn_acc_test = round( metrics.accuracy_score(y_test, knn_yhat)*100 ,2)\n",
        "knn_jac_train = round( metrics.jaccard_score(y_train, knn_clf.predict(X_train),average='weighted')*100 ,2)\n",
        "knn_jac_test = round( metrics.jaccard_score(y_test, knn_yhat,average='weighted')*100 ,2)\n",
        "\n",
        "knn_df1 = pd.DataFrame({'percent':[knn_acc_train,knn_acc_test,knn_jac_train,knn_jac_test],\n",
        "                       'label' : ['train' , 'test' , 'train' , 'test'],\n",
        "                       'metric': ['Accuracy' , 'Accuracy' , 'Weighted Jaccard Score' , 'Weighted Jaccard Score']})\n",
        "\n",
        "\n",
        "fig = px.bar(knn_df1 , x='metric' , y='percent' , color='label' ,\n",
        "             title='KNN Accuracy/Jaccard for Train/Test Data (First Try)' ,\n",
        "             text=\"percent\", barmode=\"group\")\n",
        "fig.show()"
      ],
      "metadata": {
        "colab": {
          "base_uri": "https://localhost:8080/",
          "height": 542
        },
        "id": "WciANmlg7kMV",
        "outputId": "db8ae186-0dc5-42ac-8dcb-3be3bd72783b"
      },
      "execution_count": null,
      "outputs": [
        {
          "output_type": "display_data",
          "data": {
            "text/html": [
              "<html>\n",
              "<head><meta charset=\"utf-8\" /></head>\n",
              "<body>\n",
              "    <div>            <script src=\"https://cdnjs.cloudflare.com/ajax/libs/mathjax/2.7.5/MathJax.js?config=TeX-AMS-MML_SVG\"></script><script type=\"text/javascript\">if (window.MathJax) {MathJax.Hub.Config({SVG: {font: \"STIX-Web\"}});}</script>                <script type=\"text/javascript\">window.PlotlyConfig = {MathJaxConfig: 'local'};</script>\n",
              "        <script src=\"https://cdn.plot.ly/plotly-2.8.3.min.js\"></script>                <div id=\"9dc29d81-0102-4a6d-8517-895d630a8f32\" class=\"plotly-graph-div\" style=\"height:525px; width:100%;\"></div>            <script type=\"text/javascript\">                                    window.PLOTLYENV=window.PLOTLYENV || {};                                    if (document.getElementById(\"9dc29d81-0102-4a6d-8517-895d630a8f32\")) {                    Plotly.newPlot(                        \"9dc29d81-0102-4a6d-8517-895d630a8f32\",                        [{\"alignmentgroup\":\"True\",\"hovertemplate\":\"label=train<br>metric=%{x}<br>percent=%{text}<extra></extra>\",\"legendgroup\":\"train\",\"marker\":{\"color\":\"#636efa\",\"pattern\":{\"shape\":\"\"}},\"name\":\"train\",\"offsetgroup\":\"train\",\"orientation\":\"v\",\"showlegend\":true,\"text\":[53.32,36.25],\"textposition\":\"auto\",\"x\":[\"Accuracy\",\"Weighted Jaccard Score\"],\"xaxis\":\"x\",\"y\":[53.32,36.25],\"yaxis\":\"y\",\"type\":\"bar\"},{\"alignmentgroup\":\"True\",\"hovertemplate\":\"label=test<br>metric=%{x}<br>percent=%{text}<extra></extra>\",\"legendgroup\":\"test\",\"marker\":{\"color\":\"#EF553B\",\"pattern\":{\"shape\":\"\"}},\"name\":\"test\",\"offsetgroup\":\"test\",\"orientation\":\"v\",\"showlegend\":true,\"text\":[41.55,26.08],\"textposition\":\"auto\",\"x\":[\"Accuracy\",\"Weighted Jaccard Score\"],\"xaxis\":\"x\",\"y\":[41.55,26.08],\"yaxis\":\"y\",\"type\":\"bar\"}],                        {\"template\":{\"data\":{\"bar\":[{\"error_x\":{\"color\":\"#2a3f5f\"},\"error_y\":{\"color\":\"#2a3f5f\"},\"marker\":{\"line\":{\"color\":\"#E5ECF6\",\"width\":0.5},\"pattern\":{\"fillmode\":\"overlay\",\"size\":10,\"solidity\":0.2}},\"type\":\"bar\"}],\"barpolar\":[{\"marker\":{\"line\":{\"color\":\"#E5ECF6\",\"width\":0.5},\"pattern\":{\"fillmode\":\"overlay\",\"size\":10,\"solidity\":0.2}},\"type\":\"barpolar\"}],\"carpet\":[{\"aaxis\":{\"endlinecolor\":\"#2a3f5f\",\"gridcolor\":\"white\",\"linecolor\":\"white\",\"minorgridcolor\":\"white\",\"startlinecolor\":\"#2a3f5f\"},\"baxis\":{\"endlinecolor\":\"#2a3f5f\",\"gridcolor\":\"white\",\"linecolor\":\"white\",\"minorgridcolor\":\"white\",\"startlinecolor\":\"#2a3f5f\"},\"type\":\"carpet\"}],\"choropleth\":[{\"colorbar\":{\"outlinewidth\":0,\"ticks\":\"\"},\"type\":\"choropleth\"}],\"contour\":[{\"colorbar\":{\"outlinewidth\":0,\"ticks\":\"\"},\"colorscale\":[[0.0,\"#0d0887\"],[0.1111111111111111,\"#46039f\"],[0.2222222222222222,\"#7201a8\"],[0.3333333333333333,\"#9c179e\"],[0.4444444444444444,\"#bd3786\"],[0.5555555555555556,\"#d8576b\"],[0.6666666666666666,\"#ed7953\"],[0.7777777777777778,\"#fb9f3a\"],[0.8888888888888888,\"#fdca26\"],[1.0,\"#f0f921\"]],\"type\":\"contour\"}],\"contourcarpet\":[{\"colorbar\":{\"outlinewidth\":0,\"ticks\":\"\"},\"type\":\"contourcarpet\"}],\"heatmap\":[{\"colorbar\":{\"outlinewidth\":0,\"ticks\":\"\"},\"colorscale\":[[0.0,\"#0d0887\"],[0.1111111111111111,\"#46039f\"],[0.2222222222222222,\"#7201a8\"],[0.3333333333333333,\"#9c179e\"],[0.4444444444444444,\"#bd3786\"],[0.5555555555555556,\"#d8576b\"],[0.6666666666666666,\"#ed7953\"],[0.7777777777777778,\"#fb9f3a\"],[0.8888888888888888,\"#fdca26\"],[1.0,\"#f0f921\"]],\"type\":\"heatmap\"}],\"heatmapgl\":[{\"colorbar\":{\"outlinewidth\":0,\"ticks\":\"\"},\"colorscale\":[[0.0,\"#0d0887\"],[0.1111111111111111,\"#46039f\"],[0.2222222222222222,\"#7201a8\"],[0.3333333333333333,\"#9c179e\"],[0.4444444444444444,\"#bd3786\"],[0.5555555555555556,\"#d8576b\"],[0.6666666666666666,\"#ed7953\"],[0.7777777777777778,\"#fb9f3a\"],[0.8888888888888888,\"#fdca26\"],[1.0,\"#f0f921\"]],\"type\":\"heatmapgl\"}],\"histogram\":[{\"marker\":{\"pattern\":{\"fillmode\":\"overlay\",\"size\":10,\"solidity\":0.2}},\"type\":\"histogram\"}],\"histogram2d\":[{\"colorbar\":{\"outlinewidth\":0,\"ticks\":\"\"},\"colorscale\":[[0.0,\"#0d0887\"],[0.1111111111111111,\"#46039f\"],[0.2222222222222222,\"#7201a8\"],[0.3333333333333333,\"#9c179e\"],[0.4444444444444444,\"#bd3786\"],[0.5555555555555556,\"#d8576b\"],[0.6666666666666666,\"#ed7953\"],[0.7777777777777778,\"#fb9f3a\"],[0.8888888888888888,\"#fdca26\"],[1.0,\"#f0f921\"]],\"type\":\"histogram2d\"}],\"histogram2dcontour\":[{\"colorbar\":{\"outlinewidth\":0,\"ticks\":\"\"},\"colorscale\":[[0.0,\"#0d0887\"],[0.1111111111111111,\"#46039f\"],[0.2222222222222222,\"#7201a8\"],[0.3333333333333333,\"#9c179e\"],[0.4444444444444444,\"#bd3786\"],[0.5555555555555556,\"#d8576b\"],[0.6666666666666666,\"#ed7953\"],[0.7777777777777778,\"#fb9f3a\"],[0.8888888888888888,\"#fdca26\"],[1.0,\"#f0f921\"]],\"type\":\"histogram2dcontour\"}],\"mesh3d\":[{\"colorbar\":{\"outlinewidth\":0,\"ticks\":\"\"},\"type\":\"mesh3d\"}],\"parcoords\":[{\"line\":{\"colorbar\":{\"outlinewidth\":0,\"ticks\":\"\"}},\"type\":\"parcoords\"}],\"pie\":[{\"automargin\":true,\"type\":\"pie\"}],\"scatter\":[{\"marker\":{\"colorbar\":{\"outlinewidth\":0,\"ticks\":\"\"}},\"type\":\"scatter\"}],\"scatter3d\":[{\"line\":{\"colorbar\":{\"outlinewidth\":0,\"ticks\":\"\"}},\"marker\":{\"colorbar\":{\"outlinewidth\":0,\"ticks\":\"\"}},\"type\":\"scatter3d\"}],\"scattercarpet\":[{\"marker\":{\"colorbar\":{\"outlinewidth\":0,\"ticks\":\"\"}},\"type\":\"scattercarpet\"}],\"scattergeo\":[{\"marker\":{\"colorbar\":{\"outlinewidth\":0,\"ticks\":\"\"}},\"type\":\"scattergeo\"}],\"scattergl\":[{\"marker\":{\"colorbar\":{\"outlinewidth\":0,\"ticks\":\"\"}},\"type\":\"scattergl\"}],\"scattermapbox\":[{\"marker\":{\"colorbar\":{\"outlinewidth\":0,\"ticks\":\"\"}},\"type\":\"scattermapbox\"}],\"scatterpolar\":[{\"marker\":{\"colorbar\":{\"outlinewidth\":0,\"ticks\":\"\"}},\"type\":\"scatterpolar\"}],\"scatterpolargl\":[{\"marker\":{\"colorbar\":{\"outlinewidth\":0,\"ticks\":\"\"}},\"type\":\"scatterpolargl\"}],\"scatterternary\":[{\"marker\":{\"colorbar\":{\"outlinewidth\":0,\"ticks\":\"\"}},\"type\":\"scatterternary\"}],\"surface\":[{\"colorbar\":{\"outlinewidth\":0,\"ticks\":\"\"},\"colorscale\":[[0.0,\"#0d0887\"],[0.1111111111111111,\"#46039f\"],[0.2222222222222222,\"#7201a8\"],[0.3333333333333333,\"#9c179e\"],[0.4444444444444444,\"#bd3786\"],[0.5555555555555556,\"#d8576b\"],[0.6666666666666666,\"#ed7953\"],[0.7777777777777778,\"#fb9f3a\"],[0.8888888888888888,\"#fdca26\"],[1.0,\"#f0f921\"]],\"type\":\"surface\"}],\"table\":[{\"cells\":{\"fill\":{\"color\":\"#EBF0F8\"},\"line\":{\"color\":\"white\"}},\"header\":{\"fill\":{\"color\":\"#C8D4E3\"},\"line\":{\"color\":\"white\"}},\"type\":\"table\"}]},\"layout\":{\"annotationdefaults\":{\"arrowcolor\":\"#2a3f5f\",\"arrowhead\":0,\"arrowwidth\":1},\"autotypenumbers\":\"strict\",\"coloraxis\":{\"colorbar\":{\"outlinewidth\":0,\"ticks\":\"\"}},\"colorscale\":{\"diverging\":[[0,\"#8e0152\"],[0.1,\"#c51b7d\"],[0.2,\"#de77ae\"],[0.3,\"#f1b6da\"],[0.4,\"#fde0ef\"],[0.5,\"#f7f7f7\"],[0.6,\"#e6f5d0\"],[0.7,\"#b8e186\"],[0.8,\"#7fbc41\"],[0.9,\"#4d9221\"],[1,\"#276419\"]],\"sequential\":[[0.0,\"#0d0887\"],[0.1111111111111111,\"#46039f\"],[0.2222222222222222,\"#7201a8\"],[0.3333333333333333,\"#9c179e\"],[0.4444444444444444,\"#bd3786\"],[0.5555555555555556,\"#d8576b\"],[0.6666666666666666,\"#ed7953\"],[0.7777777777777778,\"#fb9f3a\"],[0.8888888888888888,\"#fdca26\"],[1.0,\"#f0f921\"]],\"sequentialminus\":[[0.0,\"#0d0887\"],[0.1111111111111111,\"#46039f\"],[0.2222222222222222,\"#7201a8\"],[0.3333333333333333,\"#9c179e\"],[0.4444444444444444,\"#bd3786\"],[0.5555555555555556,\"#d8576b\"],[0.6666666666666666,\"#ed7953\"],[0.7777777777777778,\"#fb9f3a\"],[0.8888888888888888,\"#fdca26\"],[1.0,\"#f0f921\"]]},\"colorway\":[\"#636efa\",\"#EF553B\",\"#00cc96\",\"#ab63fa\",\"#FFA15A\",\"#19d3f3\",\"#FF6692\",\"#B6E880\",\"#FF97FF\",\"#FECB52\"],\"font\":{\"color\":\"#2a3f5f\"},\"geo\":{\"bgcolor\":\"white\",\"lakecolor\":\"white\",\"landcolor\":\"#E5ECF6\",\"showlakes\":true,\"showland\":true,\"subunitcolor\":\"white\"},\"hoverlabel\":{\"align\":\"left\"},\"hovermode\":\"closest\",\"mapbox\":{\"style\":\"light\"},\"paper_bgcolor\":\"white\",\"plot_bgcolor\":\"#E5ECF6\",\"polar\":{\"angularaxis\":{\"gridcolor\":\"white\",\"linecolor\":\"white\",\"ticks\":\"\"},\"bgcolor\":\"#E5ECF6\",\"radialaxis\":{\"gridcolor\":\"white\",\"linecolor\":\"white\",\"ticks\":\"\"}},\"scene\":{\"xaxis\":{\"backgroundcolor\":\"#E5ECF6\",\"gridcolor\":\"white\",\"gridwidth\":2,\"linecolor\":\"white\",\"showbackground\":true,\"ticks\":\"\",\"zerolinecolor\":\"white\"},\"yaxis\":{\"backgroundcolor\":\"#E5ECF6\",\"gridcolor\":\"white\",\"gridwidth\":2,\"linecolor\":\"white\",\"showbackground\":true,\"ticks\":\"\",\"zerolinecolor\":\"white\"},\"zaxis\":{\"backgroundcolor\":\"#E5ECF6\",\"gridcolor\":\"white\",\"gridwidth\":2,\"linecolor\":\"white\",\"showbackground\":true,\"ticks\":\"\",\"zerolinecolor\":\"white\"}},\"shapedefaults\":{\"line\":{\"color\":\"#2a3f5f\"}},\"ternary\":{\"aaxis\":{\"gridcolor\":\"white\",\"linecolor\":\"white\",\"ticks\":\"\"},\"baxis\":{\"gridcolor\":\"white\",\"linecolor\":\"white\",\"ticks\":\"\"},\"bgcolor\":\"#E5ECF6\",\"caxis\":{\"gridcolor\":\"white\",\"linecolor\":\"white\",\"ticks\":\"\"}},\"title\":{\"x\":0.05},\"xaxis\":{\"automargin\":true,\"gridcolor\":\"white\",\"linecolor\":\"white\",\"ticks\":\"\",\"title\":{\"standoff\":15},\"zerolinecolor\":\"white\",\"zerolinewidth\":2},\"yaxis\":{\"automargin\":true,\"gridcolor\":\"white\",\"linecolor\":\"white\",\"ticks\":\"\",\"title\":{\"standoff\":15},\"zerolinecolor\":\"white\",\"zerolinewidth\":2}}},\"xaxis\":{\"anchor\":\"y\",\"domain\":[0.0,1.0],\"title\":{\"text\":\"metric\"}},\"yaxis\":{\"anchor\":\"x\",\"domain\":[0.0,1.0],\"title\":{\"text\":\"percent\"}},\"legend\":{\"title\":{\"text\":\"label\"},\"tracegroupgap\":0},\"title\":{\"text\":\"KNN Accuracy/Jaccard for Train/Test Data (First Try)\"},\"barmode\":\"group\"},                        {\"responsive\": true}                    ).then(function(){\n",
              "                            \n",
              "var gd = document.getElementById('9dc29d81-0102-4a6d-8517-895d630a8f32');\n",
              "var x = new MutationObserver(function (mutations, observer) {{\n",
              "        var display = window.getComputedStyle(gd).display;\n",
              "        if (!display || display === 'none') {{\n",
              "            console.log([gd, 'removed!']);\n",
              "            Plotly.purge(gd);\n",
              "            observer.disconnect();\n",
              "        }}\n",
              "}});\n",
              "\n",
              "// Listen for the removal of the full notebook cells\n",
              "var notebookContainer = gd.closest('#notebook-container');\n",
              "if (notebookContainer) {{\n",
              "    x.observe(notebookContainer, {childList: true});\n",
              "}}\n",
              "\n",
              "// Listen for the clearing of the current output cell\n",
              "var outputEl = gd.closest('.output');\n",
              "if (outputEl) {{\n",
              "    x.observe(outputEl, {childList: true});\n",
              "}}\n",
              "\n",
              "                        })                };                            </script>        </div>\n",
              "</body>\n",
              "</html>"
            ]
          },
          "metadata": {}
        }
      ]
    },
    {
      "cell_type": "code",
      "source": [
        "from sklearn import metrics\n",
        "print(\"Train set Accuracy: %\", round( 100* metrics.accuracy_score(y_train, knn_clf.predict(X_train)),2)) \n",
        "print(\"Test set Accuracy: %\", round( 100* metrics.accuracy_score(y_test, knn_yhat),2))  \n",
        "print('')\n",
        "print (classification_report(y_test, knn_yhat))"
      ],
      "metadata": {
        "colab": {
          "base_uri": "https://localhost:8080/"
        },
        "id": "COE3cPu_7tP7",
        "outputId": "361b9276-526d-49ec-e9c1-0beebffc76d4"
      },
      "execution_count": null,
      "outputs": [
        {
          "output_type": "stream",
          "name": "stdout",
          "text": [
            "Train set Accuracy: % 53.32\n",
            "Test set Accuracy: % 41.55\n",
            "\n",
            "              precision    recall  f1-score   support\n",
            "\n",
            "           1       0.47      0.42      0.45      1243\n",
            "           2       0.45      0.30      0.36      1234\n",
            "           3       0.39      0.49      0.43      1235\n",
            "           4       0.39      0.45      0.41      1287\n",
            "\n",
            "    accuracy                           0.42      4999\n",
            "   macro avg       0.42      0.42      0.41      4999\n",
            "weighted avg       0.42      0.42      0.41      4999\n",
            "\n"
          ]
        }
      ]
    },
    {
      "cell_type": "code",
      "source": [
        "knn_cnf_matrix = confusion_matrix(y_test, knn_yhat)\n",
        "np.set_printoptions(precision=2)\n",
        "\n",
        "labels = [1,2,3,4]\n",
        "\n",
        "plt.figure(figsize=(5,5))\n",
        "plot_confusion_matrix(knn_cnf_matrix, classes=labels ,normalize= False,  title='KNN Confusion Matrix')"
      ],
      "metadata": {
        "colab": {
          "base_uri": "https://localhost:8080/",
          "height": 386
        },
        "id": "mbC7sq307tJy",
        "outputId": "1320a06d-5ab5-4ca9-e938-76363f56a3e2"
      },
      "execution_count": null,
      "outputs": [
        {
          "output_type": "stream",
          "name": "stdout",
          "text": [
            "Confusion matrix, without normalization\n"
          ]
        },
        {
          "output_type": "display_data",
          "data": {
            "text/plain": [
              "<Figure size 360x360 with 2 Axes>"
            ],
            "image/png": "[encoded data removed]"
          },
          "metadata": {
            "needs_background": "light"
          }
        }
      ]
    },
    {
      "cell_type": "markdown",
      "source": [
        "## decision tree"
      ],
      "metadata": {
        "id": "WLBGuvxSAwth"
      }
    },
    {
      "cell_type": "code",
      "source": [
        "InstrumentTree = make_pipeline(StandardScaler(), DecisionTreeClassifier(criterion='gini',max_depth =14))\n",
        "InstrumentTree.fit(X_train,y_train)\n",
        "\n",
        "predTree = InstrumentTree.predict(X_test)"
      ],
      "metadata": {
        "id": "pmZxkBdg8mxI"
      },
      "execution_count": null,
      "outputs": []
    },
    {
      "cell_type": "code",
      "source": [
        "dt_acc_train = round( metrics.accuracy_score(y_train, InstrumentTree.predict(X_train))*100 ,2)\n",
        "dt_acc_test = round( metrics.accuracy_score(y_test, predTree)*100 ,2)\n",
        "dt_jac_train = round( metrics.jaccard_score(y_train, InstrumentTree.predict(X_train),average='weighted')*100 ,2)\n",
        "dt_jac_test = round( metrics.jaccard_score(y_test, predTree,average='weighted')*100 ,2)\n",
        "\n",
        "dt_df1 = pd.DataFrame({'percent':[dt_acc_train,dt_acc_test,dt_jac_train,dt_jac_test],\n",
        "                       'label' : ['train' , 'test' , 'train' , 'test'],\n",
        "                       'metric': ['Accuracy' , 'Accuracy' , 'Weighted Jaccard Score' , 'Weighted Jaccard Score']})\n",
        "\n",
        "\n",
        "fig = px.bar(dt_df1 , x='metric' , y='percent' , color='label' ,\n",
        "             title='Decision Tree Accuracy/Jaccard for Train/Test Data (First Try)' ,\n",
        "             text=\"percent\", barmode=\"group\")\n",
        "fig.show()"
      ],
      "metadata": {
        "colab": {
          "base_uri": "https://localhost:8080/",
          "height": 542
        },
        "id": "iJFqQRxJA_0I",
        "outputId": "7f201471-9f21-4791-e578-d577f2e67266"
      },
      "execution_count": null,
      "outputs": [
        {
          "output_type": "display_data",
          "data": {
            "text/html": [
              "<html>\n",
              "<head><meta charset=\"utf-8\" /></head>\n",
              "<body>\n",
              "    <div>            <script src=\"https://cdnjs.cloudflare.com/ajax/libs/mathjax/2.7.5/MathJax.js?config=TeX-AMS-MML_SVG\"></script><script type=\"text/javascript\">if (window.MathJax) {MathJax.Hub.Config({SVG: {font: \"STIX-Web\"}});}</script>                <script type=\"text/javascript\">window.PlotlyConfig = {MathJaxConfig: 'local'};</script>\n",
              "        <script src=\"https://cdn.plot.ly/plotly-2.8.3.min.js\"></script>                <div id=\"55ba7e23-5202-441d-944d-ff1be1babeda\" class=\"plotly-graph-div\" style=\"height:525px; width:100%;\"></div>            <script type=\"text/javascript\">                                    window.PLOTLYENV=window.PLOTLYENV || {};                                    if (document.getElementById(\"55ba7e23-5202-441d-944d-ff1be1babeda\")) {                    Plotly.newPlot(                        \"55ba7e23-5202-441d-944d-ff1be1babeda\",                        [{\"alignmentgroup\":\"True\",\"hovertemplate\":\"label=train<br>metric=%{x}<br>percent=%{text}<extra></extra>\",\"legendgroup\":\"train\",\"marker\":{\"color\":\"#636efa\",\"pattern\":{\"shape\":\"\"}},\"name\":\"train\",\"offsetgroup\":\"train\",\"orientation\":\"v\",\"showlegend\":true,\"text\":[86.12,75.72],\"textposition\":\"auto\",\"x\":[\"Accuracy\",\"Weighted Jaccard Score\"],\"xaxis\":\"x\",\"y\":[86.12,75.72],\"yaxis\":\"y\",\"type\":\"bar\"},{\"alignmentgroup\":\"True\",\"hovertemplate\":\"label=test<br>metric=%{x}<br>percent=%{text}<extra></extra>\",\"legendgroup\":\"test\",\"marker\":{\"color\":\"#EF553B\",\"pattern\":{\"shape\":\"\"}},\"name\":\"test\",\"offsetgroup\":\"test\",\"orientation\":\"v\",\"showlegend\":true,\"text\":[33.35,20.01],\"textposition\":\"auto\",\"x\":[\"Accuracy\",\"Weighted Jaccard Score\"],\"xaxis\":\"x\",\"y\":[33.35,20.01],\"yaxis\":\"y\",\"type\":\"bar\"}],                        {\"template\":{\"data\":{\"bar\":[{\"error_x\":{\"color\":\"#2a3f5f\"},\"error_y\":{\"color\":\"#2a3f5f\"},\"marker\":{\"line\":{\"color\":\"#E5ECF6\",\"width\":0.5},\"pattern\":{\"fillmode\":\"overlay\",\"size\":10,\"solidity\":0.2}},\"type\":\"bar\"}],\"barpolar\":[{\"marker\":{\"line\":{\"color\":\"#E5ECF6\",\"width\":0.5},\"pattern\":{\"fillmode\":\"overlay\",\"size\":10,\"solidity\":0.2}},\"type\":\"barpolar\"}],\"carpet\":[{\"aaxis\":{\"endlinecolor\":\"#2a3f5f\",\"gridcolor\":\"white\",\"linecolor\":\"white\",\"minorgridcolor\":\"white\",\"startlinecolor\":\"#2a3f5f\"},\"baxis\":{\"endlinecolor\":\"#2a3f5f\",\"gridcolor\":\"white\",\"linecolor\":\"white\",\"minorgridcolor\":\"white\",\"startlinecolor\":\"#2a3f5f\"},\"type\":\"carpet\"}],\"choropleth\":[{\"colorbar\":{\"outlinewidth\":0,\"ticks\":\"\"},\"type\":\"choropleth\"}],\"contour\":[{\"colorbar\":{\"outlinewidth\":0,\"ticks\":\"\"},\"colorscale\":[[0.0,\"#0d0887\"],[0.1111111111111111,\"#46039f\"],[0.2222222222222222,\"#7201a8\"],[0.3333333333333333,\"#9c179e\"],[0.4444444444444444,\"#bd3786\"],[0.5555555555555556,\"#d8576b\"],[0.6666666666666666,\"#ed7953\"],[0.7777777777777778,\"#fb9f3a\"],[0.8888888888888888,\"#fdca26\"],[1.0,\"#f0f921\"]],\"type\":\"contour\"}],\"contourcarpet\":[{\"colorbar\":{\"outlinewidth\":0,\"ticks\":\"\"},\"type\":\"contourcarpet\"}],\"heatmap\":[{\"colorbar\":{\"outlinewidth\":0,\"ticks\":\"\"},\"colorscale\":[[0.0,\"#0d0887\"],[0.1111111111111111,\"#46039f\"],[0.2222222222222222,\"#7201a8\"],[0.3333333333333333,\"#9c179e\"],[0.4444444444444444,\"#bd3786\"],[0.5555555555555556,\"#d8576b\"],[0.6666666666666666,\"#ed7953\"],[0.7777777777777778,\"#fb9f3a\"],[0.8888888888888888,\"#fdca26\"],[1.0,\"#f0f921\"]],\"type\":\"heatmap\"}],\"heatmapgl\":[{\"colorbar\":{\"outlinewidth\":0,\"ticks\":\"\"},\"colorscale\":[[0.0,\"#0d0887\"],[0.1111111111111111,\"#46039f\"],[0.2222222222222222,\"#7201a8\"],[0.3333333333333333,\"#9c179e\"],[0.4444444444444444,\"#bd3786\"],[0.5555555555555556,\"#d8576b\"],[0.6666666666666666,\"#ed7953\"],[0.7777777777777778,\"#fb9f3a\"],[0.8888888888888888,\"#fdca26\"],[1.0,\"#f0f921\"]],\"type\":\"heatmapgl\"}],\"histogram\":[{\"marker\":{\"pattern\":{\"fillmode\":\"overlay\",\"size\":10,\"solidity\":0.2}},\"type\":\"histogram\"}],\"histogram2d\":[{\"colorbar\":{\"outlinewidth\":0,\"ticks\":\"\"},\"colorscale\":[[0.0,\"#0d0887\"],[0.1111111111111111,\"#46039f\"],[0.2222222222222222,\"#7201a8\"],[0.3333333333333333,\"#9c179e\"],[0.4444444444444444,\"#bd3786\"],[0.5555555555555556,\"#d8576b\"],[0.6666666666666666,\"#ed7953\"],[0.7777777777777778,\"#fb9f3a\"],[0.8888888888888888,\"#fdca26\"],[1.0,\"#f0f921\"]],\"type\":\"histogram2d\"}],\"histogram2dcontour\":[{\"colorbar\":{\"outlinewidth\":0,\"ticks\":\"\"},\"colorscale\":[[0.0,\"#0d0887\"],[0.1111111111111111,\"#46039f\"],[0.2222222222222222,\"#7201a8\"],[0.3333333333333333,\"#9c179e\"],[0.4444444444444444,\"#bd3786\"],[0.5555555555555556,\"#d8576b\"],[0.6666666666666666,\"#ed7953\"],[0.7777777777777778,\"#fb9f3a\"],[0.8888888888888888,\"#fdca26\"],[1.0,\"#f0f921\"]],\"type\":\"histogram2dcontour\"}],\"mesh3d\":[{\"colorbar\":{\"outlinewidth\":0,\"ticks\":\"\"},\"type\":\"mesh3d\"}],\"parcoords\":[{\"line\":{\"colorbar\":{\"outlinewidth\":0,\"ticks\":\"\"}},\"type\":\"parcoords\"}],\"pie\":[{\"automargin\":true,\"type\":\"pie\"}],\"scatter\":[{\"marker\":{\"colorbar\":{\"outlinewidth\":0,\"ticks\":\"\"}},\"type\":\"scatter\"}],\"scatter3d\":[{\"line\":{\"colorbar\":{\"outlinewidth\":0,\"ticks\":\"\"}},\"marker\":{\"colorbar\":{\"outlinewidth\":0,\"ticks\":\"\"}},\"type\":\"scatter3d\"}],\"scattercarpet\":[{\"marker\":{\"colorbar\":{\"outlinewidth\":0,\"ticks\":\"\"}},\"type\":\"scattercarpet\"}],\"scattergeo\":[{\"marker\":{\"colorbar\":{\"outlinewidth\":0,\"ticks\":\"\"}},\"type\":\"scattergeo\"}],\"scattergl\":[{\"marker\":{\"colorbar\":{\"outlinewidth\":0,\"ticks\":\"\"}},\"type\":\"scattergl\"}],\"scattermapbox\":[{\"marker\":{\"colorbar\":{\"outlinewidth\":0,\"ticks\":\"\"}},\"type\":\"scattermapbox\"}],\"scatterpolar\":[{\"marker\":{\"colorbar\":{\"outlinewidth\":0,\"ticks\":\"\"}},\"type\":\"scatterpolar\"}],\"scatterpolargl\":[{\"marker\":{\"colorbar\":{\"outlinewidth\":0,\"ticks\":\"\"}},\"type\":\"scatterpolargl\"}],\"scatterternary\":[{\"marker\":{\"colorbar\":{\"outlinewidth\":0,\"ticks\":\"\"}},\"type\":\"scatterternary\"}],\"surface\":[{\"colorbar\":{\"outlinewidth\":0,\"ticks\":\"\"},\"colorscale\":[[0.0,\"#0d0887\"],[0.1111111111111111,\"#46039f\"],[0.2222222222222222,\"#7201a8\"],[0.3333333333333333,\"#9c179e\"],[0.4444444444444444,\"#bd3786\"],[0.5555555555555556,\"#d8576b\"],[0.6666666666666666,\"#ed7953\"],[0.7777777777777778,\"#fb9f3a\"],[0.8888888888888888,\"#fdca26\"],[1.0,\"#f0f921\"]],\"type\":\"surface\"}],\"table\":[{\"cells\":{\"fill\":{\"color\":\"#EBF0F8\"},\"line\":{\"color\":\"white\"}},\"header\":{\"fill\":{\"color\":\"#C8D4E3\"},\"line\":{\"color\":\"white\"}},\"type\":\"table\"}]},\"layout\":{\"annotationdefaults\":{\"arrowcolor\":\"#2a3f5f\",\"arrowhead\":0,\"arrowwidth\":1},\"autotypenumbers\":\"strict\",\"coloraxis\":{\"colorbar\":{\"outlinewidth\":0,\"ticks\":\"\"}},\"colorscale\":{\"diverging\":[[0,\"#8e0152\"],[0.1,\"#c51b7d\"],[0.2,\"#de77ae\"],[0.3,\"#f1b6da\"],[0.4,\"#fde0ef\"],[0.5,\"#f7f7f7\"],[0.6,\"#e6f5d0\"],[0.7,\"#b8e186\"],[0.8,\"#7fbc41\"],[0.9,\"#4d9221\"],[1,\"#276419\"]],\"sequential\":[[0.0,\"#0d0887\"],[0.1111111111111111,\"#46039f\"],[0.2222222222222222,\"#7201a8\"],[0.3333333333333333,\"#9c179e\"],[0.4444444444444444,\"#bd3786\"],[0.5555555555555556,\"#d8576b\"],[0.6666666666666666,\"#ed7953\"],[0.7777777777777778,\"#fb9f3a\"],[0.8888888888888888,\"#fdca26\"],[1.0,\"#f0f921\"]],\"sequentialminus\":[[0.0,\"#0d0887\"],[0.1111111111111111,\"#46039f\"],[0.2222222222222222,\"#7201a8\"],[0.3333333333333333,\"#9c179e\"],[0.4444444444444444,\"#bd3786\"],[0.5555555555555556,\"#d8576b\"],[0.6666666666666666,\"#ed7953\"],[0.7777777777777778,\"#fb9f3a\"],[0.8888888888888888,\"#fdca26\"],[1.0,\"#f0f921\"]]},\"colorway\":[\"#636efa\",\"#EF553B\",\"#00cc96\",\"#ab63fa\",\"#FFA15A\",\"#19d3f3\",\"#FF6692\",\"#B6E880\",\"#FF97FF\",\"#FECB52\"],\"font\":{\"color\":\"#2a3f5f\"},\"geo\":{\"bgcolor\":\"white\",\"lakecolor\":\"white\",\"landcolor\":\"#E5ECF6\",\"showlakes\":true,\"showland\":true,\"subunitcolor\":\"white\"},\"hoverlabel\":{\"align\":\"left\"},\"hovermode\":\"closest\",\"mapbox\":{\"style\":\"light\"},\"paper_bgcolor\":\"white\",\"plot_bgcolor\":\"#E5ECF6\",\"polar\":{\"angularaxis\":{\"gridcolor\":\"white\",\"linecolor\":\"white\",\"ticks\":\"\"},\"bgcolor\":\"#E5ECF6\",\"radialaxis\":{\"gridcolor\":\"white\",\"linecolor\":\"white\",\"ticks\":\"\"}},\"scene\":{\"xaxis\":{\"backgroundcolor\":\"#E5ECF6\",\"gridcolor\":\"white\",\"gridwidth\":2,\"linecolor\":\"white\",\"showbackground\":true,\"ticks\":\"\",\"zerolinecolor\":\"white\"},\"yaxis\":{\"backgroundcolor\":\"#E5ECF6\",\"gridcolor\":\"white\",\"gridwidth\":2,\"linecolor\":\"white\",\"showbackground\":true,\"ticks\":\"\",\"zerolinecolor\":\"white\"},\"zaxis\":{\"backgroundcolor\":\"#E5ECF6\",\"gridcolor\":\"white\",\"gridwidth\":2,\"linecolor\":\"white\",\"showbackground\":true,\"ticks\":\"\",\"zerolinecolor\":\"white\"}},\"shapedefaults\":{\"line\":{\"color\":\"#2a3f5f\"}},\"ternary\":{\"aaxis\":{\"gridcolor\":\"white\",\"linecolor\":\"white\",\"ticks\":\"\"},\"baxis\":{\"gridcolor\":\"white\",\"linecolor\":\"white\",\"ticks\":\"\"},\"bgcolor\":\"#E5ECF6\",\"caxis\":{\"gridcolor\":\"white\",\"linecolor\":\"white\",\"ticks\":\"\"}},\"title\":{\"x\":0.05},\"xaxis\":{\"automargin\":true,\"gridcolor\":\"white\",\"linecolor\":\"white\",\"ticks\":\"\",\"title\":{\"standoff\":15},\"zerolinecolor\":\"white\",\"zerolinewidth\":2},\"yaxis\":{\"automargin\":true,\"gridcolor\":\"white\",\"linecolor\":\"white\",\"ticks\":\"\",\"title\":{\"standoff\":15},\"zerolinecolor\":\"white\",\"zerolinewidth\":2}}},\"xaxis\":{\"anchor\":\"y\",\"domain\":[0.0,1.0],\"title\":{\"text\":\"metric\"}},\"yaxis\":{\"anchor\":\"x\",\"domain\":[0.0,1.0],\"title\":{\"text\":\"percent\"}},\"legend\":{\"title\":{\"text\":\"label\"},\"tracegroupgap\":0},\"title\":{\"text\":\"Decision Tree Accuracy/Jaccard for Train/Test Data (First Try)\"},\"barmode\":\"group\"},                        {\"responsive\": true}                    ).then(function(){\n",
              "                            \n",
              "var gd = document.getElementById('55ba7e23-5202-441d-944d-ff1be1babeda');\n",
              "var x = new MutationObserver(function (mutations, observer) {{\n",
              "        var display = window.getComputedStyle(gd).display;\n",
              "        if (!display || display === 'none') {{\n",
              "            console.log([gd, 'removed!']);\n",
              "            Plotly.purge(gd);\n",
              "            observer.disconnect();\n",
              "        }}\n",
              "}});\n",
              "\n",
              "// Listen for the removal of the full notebook cells\n",
              "var notebookContainer = gd.closest('#notebook-container');\n",
              "if (notebookContainer) {{\n",
              "    x.observe(notebookContainer, {childList: true});\n",
              "}}\n",
              "\n",
              "// Listen for the clearing of the current output cell\n",
              "var outputEl = gd.closest('.output');\n",
              "if (outputEl) {{\n",
              "    x.observe(outputEl, {childList: true});\n",
              "}}\n",
              "\n",
              "                        })                };                            </script>        </div>\n",
              "</body>\n",
              "</html>"
            ]
          },
          "metadata": {}
        }
      ]
    },
    {
      "cell_type": "code",
      "source": [
        "dt_cnf_matrix = confusion_matrix(y_test, predTree)\n",
        "np.set_printoptions(precision=2)\n",
        "\n",
        "labels = [0,1]\n",
        "\n",
        "plt.figure(figsize=(5,5))\n",
        "plot_confusion_matrix(dt_cnf_matrix, classes=labels ,normalize= False,  title='Decision Tree Confusion Matrix')"
      ],
      "metadata": {
        "colab": {
          "base_uri": "https://localhost:8080/",
          "height": 386
        },
        "id": "5CDZNAtJBGAy",
        "outputId": "e97c54ac-aff2-44f0-d9d4-ba9291c133a3"
      },
      "execution_count": null,
      "outputs": [
        {
          "output_type": "stream",
          "name": "stdout",
          "text": [
            "Confusion matrix, without normalization\n"
          ]
        },
        {
          "output_type": "display_data",
          "data": {
            "text/plain": [
              "<Figure size 360x360 with 2 Axes>"
            ],
            "image/png": "[encoded data removed]"
          },
          "metadata": {
            "needs_background": "light"
          }
        }
      ]
    },
    {
      "cell_type": "markdown",
      "source": [
        "## mlp"
      ],
      "metadata": {
        "id": "o4bUv2F9BueO"
      }
    },
    {
      "cell_type": "code",
      "source": [
        "MLP_clf = make_pipeline(preprocessing.StandardScaler(),  MLPClassifier(alpha=0.1,hidden_layer_sizes=(4, 2), random_state=0))\n",
        "MLP_clf = MLP_clf.fit(X_train, y_train)\n",
        "MLP_Y_pred=MLP_clf.predict(X_test)\n",
        "\n",
        "print('accuracy:\\n',accuracy_score(y_test, MLP_Y_pred))"
      ],
      "metadata": {
        "colab": {
          "base_uri": "https://localhost:8080/"
        },
        "id": "hllzXzY7BM6-",
        "outputId": "37110b1b-16a4-4aad-cdf1-310db94efcd3"
      },
      "execution_count": null,
      "outputs": [
        {
          "output_type": "stream",
          "name": "stdout",
          "text": [
            "accuracy:\n",
            " 0.4280856171234247\n"
          ]
        }
      ]
    },
    {
      "cell_type": "code",
      "source": [
        "MLP_acc_train = round( metrics.accuracy_score(y_train, MLP_clf.predict(X_train))*100 ,2)\n",
        "MLP_acc_test = round( metrics.accuracy_score(y_test, MLP_Y_pred)*100 ,2)\n",
        "MLP_jac_train = round( metrics.jaccard_score(y_train, MLP_clf.predict(X_train),average='weighted')*100 ,2)\n",
        "MLP_jac_test = round( metrics.jaccard_score(y_test, MLP_Y_pred,average='weighted')*100 ,2)\n",
        "\n",
        "MLP_df1 = pd.DataFrame({'percent':[MLP_acc_train,MLP_acc_test,MLP_jac_train,MLP_jac_test],\n",
        "                       'label' : ['train' , 'test' , 'train' , 'test'],\n",
        "                       'metric': ['Accuracy' , 'Accuracy' , 'Weighted Jaccard Score' , 'Weighted Jaccard Score']})\n",
        "\n",
        "\n",
        "fig = px.bar(MLP_df1 , x='metric' , y='percent' , color='label' ,\n",
        "             title='MLP Accuracy/Jaccard for Train/Test Data (First Try)' ,\n",
        "             text=\"percent\", barmode=\"group\")\n",
        "fig.show()"
      ],
      "metadata": {
        "colab": {
          "base_uri": "https://localhost:8080/",
          "height": 542
        },
        "id": "XhGDXRKmB46V",
        "outputId": "757d7466-b7aa-426c-cf3c-64cc3fb1c3aa"
      },
      "execution_count": null,
      "outputs": [
        {
          "output_type": "display_data",
          "data": {
            "text/html": [
              "<html>\n",
              "<head><meta charset=\"utf-8\" /></head>\n",
              "<body>\n",
              "    <div>            <script src=\"https://cdnjs.cloudflare.com/ajax/libs/mathjax/2.7.5/MathJax.js?config=TeX-AMS-MML_SVG\"></script><script type=\"text/javascript\">if (window.MathJax) {MathJax.Hub.Config({SVG: {font: \"STIX-Web\"}});}</script>                <script type=\"text/javascript\">window.PlotlyConfig = {MathJaxConfig: 'local'};</script>\n",
              "        <script src=\"https://cdn.plot.ly/plotly-2.8.3.min.js\"></script>                <div id=\"556bc5d3-b2dd-4754-b6e6-c0aefaa01967\" class=\"plotly-graph-div\" style=\"height:525px; width:100%;\"></div>            <script type=\"text/javascript\">                                    window.PLOTLYENV=window.PLOTLYENV || {};                                    if (document.getElementById(\"556bc5d3-b2dd-4754-b6e6-c0aefaa01967\")) {                    Plotly.newPlot(                        \"556bc5d3-b2dd-4754-b6e6-c0aefaa01967\",                        [{\"alignmentgroup\":\"True\",\"hovertemplate\":\"label=train<br>metric=%{x}<br>percent=%{text}<extra></extra>\",\"legendgroup\":\"train\",\"marker\":{\"color\":\"#636efa\",\"pattern\":{\"shape\":\"\"}},\"name\":\"train\",\"offsetgroup\":\"train\",\"orientation\":\"v\",\"showlegend\":true,\"text\":[45.1,29.21],\"textposition\":\"auto\",\"x\":[\"Accuracy\",\"Weighted Jaccard Score\"],\"xaxis\":\"x\",\"y\":[45.1,29.21],\"yaxis\":\"y\",\"type\":\"bar\"},{\"alignmentgroup\":\"True\",\"hovertemplate\":\"label=test<br>metric=%{x}<br>percent=%{text}<extra></extra>\",\"legendgroup\":\"test\",\"marker\":{\"color\":\"#EF553B\",\"pattern\":{\"shape\":\"\"}},\"name\":\"test\",\"offsetgroup\":\"test\",\"orientation\":\"v\",\"showlegend\":true,\"text\":[42.81,27.24],\"textposition\":\"auto\",\"x\":[\"Accuracy\",\"Weighted Jaccard Score\"],\"xaxis\":\"x\",\"y\":[42.81,27.24],\"yaxis\":\"y\",\"type\":\"bar\"}],                        {\"template\":{\"data\":{\"bar\":[{\"error_x\":{\"color\":\"#2a3f5f\"},\"error_y\":{\"color\":\"#2a3f5f\"},\"marker\":{\"line\":{\"color\":\"#E5ECF6\",\"width\":0.5},\"pattern\":{\"fillmode\":\"overlay\",\"size\":10,\"solidity\":0.2}},\"type\":\"bar\"}],\"barpolar\":[{\"marker\":{\"line\":{\"color\":\"#E5ECF6\",\"width\":0.5},\"pattern\":{\"fillmode\":\"overlay\",\"size\":10,\"solidity\":0.2}},\"type\":\"barpolar\"}],\"carpet\":[{\"aaxis\":{\"endlinecolor\":\"#2a3f5f\",\"gridcolor\":\"white\",\"linecolor\":\"white\",\"minorgridcolor\":\"white\",\"startlinecolor\":\"#2a3f5f\"},\"baxis\":{\"endlinecolor\":\"#2a3f5f\",\"gridcolor\":\"white\",\"linecolor\":\"white\",\"minorgridcolor\":\"white\",\"startlinecolor\":\"#2a3f5f\"},\"type\":\"carpet\"}],\"choropleth\":[{\"colorbar\":{\"outlinewidth\":0,\"ticks\":\"\"},\"type\":\"choropleth\"}],\"contour\":[{\"colorbar\":{\"outlinewidth\":0,\"ticks\":\"\"},\"colorscale\":[[0.0,\"#0d0887\"],[0.1111111111111111,\"#46039f\"],[0.2222222222222222,\"#7201a8\"],[0.3333333333333333,\"#9c179e\"],[0.4444444444444444,\"#bd3786\"],[0.5555555555555556,\"#d8576b\"],[0.6666666666666666,\"#ed7953\"],[0.7777777777777778,\"#fb9f3a\"],[0.8888888888888888,\"#fdca26\"],[1.0,\"#f0f921\"]],\"type\":\"contour\"}],\"contourcarpet\":[{\"colorbar\":{\"outlinewidth\":0,\"ticks\":\"\"},\"type\":\"contourcarpet\"}],\"heatmap\":[{\"colorbar\":{\"outlinewidth\":0,\"ticks\":\"\"},\"colorscale\":[[0.0,\"#0d0887\"],[0.1111111111111111,\"#46039f\"],[0.2222222222222222,\"#7201a8\"],[0.3333333333333333,\"#9c179e\"],[0.4444444444444444,\"#bd3786\"],[0.5555555555555556,\"#d8576b\"],[0.6666666666666666,\"#ed7953\"],[0.7777777777777778,\"#fb9f3a\"],[0.8888888888888888,\"#fdca26\"],[1.0,\"#f0f921\"]],\"type\":\"heatmap\"}],\"heatmapgl\":[{\"colorbar\":{\"outlinewidth\":0,\"ticks\":\"\"},\"colorscale\":[[0.0,\"#0d0887\"],[0.1111111111111111,\"#46039f\"],[0.2222222222222222,\"#7201a8\"],[0.3333333333333333,\"#9c179e\"],[0.4444444444444444,\"#bd3786\"],[0.5555555555555556,\"#d8576b\"],[0.6666666666666666,\"#ed7953\"],[0.7777777777777778,\"#fb9f3a\"],[0.8888888888888888,\"#fdca26\"],[1.0,\"#f0f921\"]],\"type\":\"heatmapgl\"}],\"histogram\":[{\"marker\":{\"pattern\":{\"fillmode\":\"overlay\",\"size\":10,\"solidity\":0.2}},\"type\":\"histogram\"}],\"histogram2d\":[{\"colorbar\":{\"outlinewidth\":0,\"ticks\":\"\"},\"colorscale\":[[0.0,\"#0d0887\"],[0.1111111111111111,\"#46039f\"],[0.2222222222222222,\"#7201a8\"],[0.3333333333333333,\"#9c179e\"],[0.4444444444444444,\"#bd3786\"],[0.5555555555555556,\"#d8576b\"],[0.6666666666666666,\"#ed7953\"],[0.7777777777777778,\"#fb9f3a\"],[0.8888888888888888,\"#fdca26\"],[1.0,\"#f0f921\"]],\"type\":\"histogram2d\"}],\"histogram2dcontour\":[{\"colorbar\":{\"outlinewidth\":0,\"ticks\":\"\"},\"colorscale\":[[0.0,\"#0d0887\"],[0.1111111111111111,\"#46039f\"],[0.2222222222222222,\"#7201a8\"],[0.3333333333333333,\"#9c179e\"],[0.4444444444444444,\"#bd3786\"],[0.5555555555555556,\"#d8576b\"],[0.6666666666666666,\"#ed7953\"],[0.7777777777777778,\"#fb9f3a\"],[0.8888888888888888,\"#fdca26\"],[1.0,\"#f0f921\"]],\"type\":\"histogram2dcontour\"}],\"mesh3d\":[{\"colorbar\":{\"outlinewidth\":0,\"ticks\":\"\"},\"type\":\"mesh3d\"}],\"parcoords\":[{\"line\":{\"colorbar\":{\"outlinewidth\":0,\"ticks\":\"\"}},\"type\":\"parcoords\"}],\"pie\":[{\"automargin\":true,\"type\":\"pie\"}],\"scatter\":[{\"marker\":{\"colorbar\":{\"outlinewidth\":0,\"ticks\":\"\"}},\"type\":\"scatter\"}],\"scatter3d\":[{\"line\":{\"colorbar\":{\"outlinewidth\":0,\"ticks\":\"\"}},\"marker\":{\"colorbar\":{\"outlinewidth\":0,\"ticks\":\"\"}},\"type\":\"scatter3d\"}],\"scattercarpet\":[{\"marker\":{\"colorbar\":{\"outlinewidth\":0,\"ticks\":\"\"}},\"type\":\"scattercarpet\"}],\"scattergeo\":[{\"marker\":{\"colorbar\":{\"outlinewidth\":0,\"ticks\":\"\"}},\"type\":\"scattergeo\"}],\"scattergl\":[{\"marker\":{\"colorbar\":{\"outlinewidth\":0,\"ticks\":\"\"}},\"type\":\"scattergl\"}],\"scattermapbox\":[{\"marker\":{\"colorbar\":{\"outlinewidth\":0,\"ticks\":\"\"}},\"type\":\"scattermapbox\"}],\"scatterpolar\":[{\"marker\":{\"colorbar\":{\"outlinewidth\":0,\"ticks\":\"\"}},\"type\":\"scatterpolar\"}],\"scatterpolargl\":[{\"marker\":{\"colorbar\":{\"outlinewidth\":0,\"ticks\":\"\"}},\"type\":\"scatterpolargl\"}],\"scatterternary\":[{\"marker\":{\"colorbar\":{\"outlinewidth\":0,\"ticks\":\"\"}},\"type\":\"scatterternary\"}],\"surface\":[{\"colorbar\":{\"outlinewidth\":0,\"ticks\":\"\"},\"colorscale\":[[0.0,\"#0d0887\"],[0.1111111111111111,\"#46039f\"],[0.2222222222222222,\"#7201a8\"],[0.3333333333333333,\"#9c179e\"],[0.4444444444444444,\"#bd3786\"],[0.5555555555555556,\"#d8576b\"],[0.6666666666666666,\"#ed7953\"],[0.7777777777777778,\"#fb9f3a\"],[0.8888888888888888,\"#fdca26\"],[1.0,\"#f0f921\"]],\"type\":\"surface\"}],\"table\":[{\"cells\":{\"fill\":{\"color\":\"#EBF0F8\"},\"line\":{\"color\":\"white\"}},\"header\":{\"fill\":{\"color\":\"#C8D4E3\"},\"line\":{\"color\":\"white\"}},\"type\":\"table\"}]},\"layout\":{\"annotationdefaults\":{\"arrowcolor\":\"#2a3f5f\",\"arrowhead\":0,\"arrowwidth\":1},\"autotypenumbers\":\"strict\",\"coloraxis\":{\"colorbar\":{\"outlinewidth\":0,\"ticks\":\"\"}},\"colorscale\":{\"diverging\":[[0,\"#8e0152\"],[0.1,\"#c51b7d\"],[0.2,\"#de77ae\"],[0.3,\"#f1b6da\"],[0.4,\"#fde0ef\"],[0.5,\"#f7f7f7\"],[0.6,\"#e6f5d0\"],[0.7,\"#b8e186\"],[0.8,\"#7fbc41\"],[0.9,\"#4d9221\"],[1,\"#276419\"]],\"sequential\":[[0.0,\"#0d0887\"],[0.1111111111111111,\"#46039f\"],[0.2222222222222222,\"#7201a8\"],[0.3333333333333333,\"#9c179e\"],[0.4444444444444444,\"#bd3786\"],[0.5555555555555556,\"#d8576b\"],[0.6666666666666666,\"#ed7953\"],[0.7777777777777778,\"#fb9f3a\"],[0.8888888888888888,\"#fdca26\"],[1.0,\"#f0f921\"]],\"sequentialminus\":[[0.0,\"#0d0887\"],[0.1111111111111111,\"#46039f\"],[0.2222222222222222,\"#7201a8\"],[0.3333333333333333,\"#9c179e\"],[0.4444444444444444,\"#bd3786\"],[0.5555555555555556,\"#d8576b\"],[0.6666666666666666,\"#ed7953\"],[0.7777777777777778,\"#fb9f3a\"],[0.8888888888888888,\"#fdca26\"],[1.0,\"#f0f921\"]]},\"colorway\":[\"#636efa\",\"#EF553B\",\"#00cc96\",\"#ab63fa\",\"#FFA15A\",\"#19d3f3\",\"#FF6692\",\"#B6E880\",\"#FF97FF\",\"#FECB52\"],\"font\":{\"color\":\"#2a3f5f\"},\"geo\":{\"bgcolor\":\"white\",\"lakecolor\":\"white\",\"landcolor\":\"#E5ECF6\",\"showlakes\":true,\"showland\":true,\"subunitcolor\":\"white\"},\"hoverlabel\":{\"align\":\"left\"},\"hovermode\":\"closest\",\"mapbox\":{\"style\":\"light\"},\"paper_bgcolor\":\"white\",\"plot_bgcolor\":\"#E5ECF6\",\"polar\":{\"angularaxis\":{\"gridcolor\":\"white\",\"linecolor\":\"white\",\"ticks\":\"\"},\"bgcolor\":\"#E5ECF6\",\"radialaxis\":{\"gridcolor\":\"white\",\"linecolor\":\"white\",\"ticks\":\"\"}},\"scene\":{\"xaxis\":{\"backgroundcolor\":\"#E5ECF6\",\"gridcolor\":\"white\",\"gridwidth\":2,\"linecolor\":\"white\",\"showbackground\":true,\"ticks\":\"\",\"zerolinecolor\":\"white\"},\"yaxis\":{\"backgroundcolor\":\"#E5ECF6\",\"gridcolor\":\"white\",\"gridwidth\":2,\"linecolor\":\"white\",\"showbackground\":true,\"ticks\":\"\",\"zerolinecolor\":\"white\"},\"zaxis\":{\"backgroundcolor\":\"#E5ECF6\",\"gridcolor\":\"white\",\"gridwidth\":2,\"linecolor\":\"white\",\"showbackground\":true,\"ticks\":\"\",\"zerolinecolor\":\"white\"}},\"shapedefaults\":{\"line\":{\"color\":\"#2a3f5f\"}},\"ternary\":{\"aaxis\":{\"gridcolor\":\"white\",\"linecolor\":\"white\",\"ticks\":\"\"},\"baxis\":{\"gridcolor\":\"white\",\"linecolor\":\"white\",\"ticks\":\"\"},\"bgcolor\":\"#E5ECF6\",\"caxis\":{\"gridcolor\":\"white\",\"linecolor\":\"white\",\"ticks\":\"\"}},\"title\":{\"x\":0.05},\"xaxis\":{\"automargin\":true,\"gridcolor\":\"white\",\"linecolor\":\"white\",\"ticks\":\"\",\"title\":{\"standoff\":15},\"zerolinecolor\":\"white\",\"zerolinewidth\":2},\"yaxis\":{\"automargin\":true,\"gridcolor\":\"white\",\"linecolor\":\"white\",\"ticks\":\"\",\"title\":{\"standoff\":15},\"zerolinecolor\":\"white\",\"zerolinewidth\":2}}},\"xaxis\":{\"anchor\":\"y\",\"domain\":[0.0,1.0],\"title\":{\"text\":\"metric\"}},\"yaxis\":{\"anchor\":\"x\",\"domain\":[0.0,1.0],\"title\":{\"text\":\"percent\"}},\"legend\":{\"title\":{\"text\":\"label\"},\"tracegroupgap\":0},\"title\":{\"text\":\"MLP Accuracy/Jaccard for Train/Test Data (First Try)\"},\"barmode\":\"group\"},                        {\"responsive\": true}                    ).then(function(){\n",
              "                            \n",
              "var gd = document.getElementById('556bc5d3-b2dd-4754-b6e6-c0aefaa01967');\n",
              "var x = new MutationObserver(function (mutations, observer) {{\n",
              "        var display = window.getComputedStyle(gd).display;\n",
              "        if (!display || display === 'none') {{\n",
              "            console.log([gd, 'removed!']);\n",
              "            Plotly.purge(gd);\n",
              "            observer.disconnect();\n",
              "        }}\n",
              "}});\n",
              "\n",
              "// Listen for the removal of the full notebook cells\n",
              "var notebookContainer = gd.closest('#notebook-container');\n",
              "if (notebookContainer) {{\n",
              "    x.observe(notebookContainer, {childList: true});\n",
              "}}\n",
              "\n",
              "// Listen for the clearing of the current output cell\n",
              "var outputEl = gd.closest('.output');\n",
              "if (outputEl) {{\n",
              "    x.observe(outputEl, {childList: true});\n",
              "}}\n",
              "\n",
              "                        })                };                            </script>        </div>\n",
              "</body>\n",
              "</html>"
            ]
          },
          "metadata": {}
        }
      ]
    },
    {
      "cell_type": "code",
      "source": [
        "print(\"Train set Accuracy: %\", round( 100* metrics.accuracy_score(y_train, MLP_clf.predict(X_train))))\n",
        "print(\"Test set Accuracy: %\", round( 100* metrics.accuracy_score(y_test, MLP_Y_pred)))  \n",
        "print('')\n",
        "print (classification_report(y_test, MLP_Y_pred))"
      ],
      "metadata": {
        "colab": {
          "base_uri": "https://localhost:8080/"
        },
        "id": "ZqAeBnkdB7Kb",
        "outputId": "7fd2a348-d814-4c0e-92b1-760830d918a0"
      },
      "execution_count": null,
      "outputs": [
        {
          "output_type": "stream",
          "name": "stdout",
          "text": [
            "Train set Accuracy: % 45\n",
            "Test set Accuracy: % 43\n",
            "\n",
            "              precision    recall  f1-score   support\n",
            "\n",
            "           1       0.54      0.43      0.48      1243\n",
            "           2       0.47      0.47      0.47      1234\n",
            "           3       0.38      0.53      0.44      1235\n",
            "           4       0.35      0.29      0.32      1287\n",
            "\n",
            "    accuracy                           0.43      4999\n",
            "   macro avg       0.44      0.43      0.43      4999\n",
            "weighted avg       0.43      0.43      0.43      4999\n",
            "\n"
          ]
        }
      ]
    },
    {
      "cell_type": "code",
      "source": [
        "MLP_cnf_matrix = confusion_matrix(y_test, MLP_Y_pred)\n",
        "np.set_printoptions(precision=2)\n",
        "\n",
        "labels = [0,1]\n",
        "\n",
        "plt.figure(figsize=(5,5))\n",
        "plot_confusion_matrix(MLP_cnf_matrix, classes=labels ,normalize= False,  title='MLP Confusion Matrix')"
      ],
      "metadata": {
        "colab": {
          "base_uri": "https://localhost:8080/",
          "height": 386
        },
        "id": "cXRelskpCDGm",
        "outputId": "bfb22a49-5fb9-4def-8c21-76bfc46bde1a"
      },
      "execution_count": null,
      "outputs": [
        {
          "output_type": "stream",
          "name": "stdout",
          "text": [
            "Confusion matrix, without normalization\n"
          ]
        },
        {
          "output_type": "display_data",
          "data": {
            "text/plain": [
              "<Figure size 360x360 with 2 Axes>"
            ],
            "image/png": "[encoded data removed]"
          },
          "metadata": {
            "needs_background": "light"
          }
        }
      ]
    },
    {
      "cell_type": "code",
      "source": [
        ""
      ],
      "metadata": {
        "id": "gvg6XMhSCXTJ"
      },
      "execution_count": null,
      "outputs": []
    },
    {
      "cell_type": "code",
      "source": [
        "print (classification_report(y_test, MLP_Y_pred))\n"
      ],
      "metadata": {
        "colab": {
          "base_uri": "https://localhost:8080/"
        },
        "id": "96OF0tNdHKGy",
        "outputId": "ae03e2cb-fce1-479f-a0cf-fcaca05eef94"
      },
      "execution_count": null,
      "outputs": [
        {
          "output_type": "stream",
          "name": "stdout",
          "text": [
            "              precision    recall  f1-score   support\n",
            "\n",
            "           1       0.54      0.43      0.48      1243\n",
            "           2       0.47      0.47      0.47      1234\n",
            "           3       0.38      0.53      0.44      1235\n",
            "           4       0.35      0.29      0.32      1287\n",
            "\n",
            "    accuracy                           0.43      4999\n",
            "   macro avg       0.44      0.43      0.43      4999\n",
            "weighted avg       0.43      0.43      0.43      4999\n",
            "\n"
          ]
        }
      ]
    },
    {
      "cell_type": "code",
      "source": [
        ""
      ],
      "metadata": {
        "id": "m2seUVPwMRh4"
      },
      "execution_count": null,
      "outputs": []
    },
    {
      "cell_type": "code",
      "source": [
        "from sklearn.metrics import roc_curve\n",
        "\n",
        "def plot_roc_curve(fper, tper):\n",
        "    plt.plot(fper, tper, color='red', label='ROC')\n",
        "    plt.plot([0, 1], [0, 1], color='green', linestyle='--')\n",
        "    plt.xlabel('False Positive Rate')\n",
        "    plt.ylabel('True Positive Rate')\n",
        "    plt.title('Receiver Operating Characteristic Curve')\n",
        "    plt.legend()\n",
        "    plt.show()"
      ],
      "metadata": {
        "id": "rBPupWjzHKzc"
      },
      "execution_count": null,
      "outputs": []
    },
    {
      "cell_type": "code",
      "source": [
        "fper, tper, thresholds = roc_curve(y_test, MLP_Y_pred)\n",
        "plot_roc_curve(fper, tper)"
      ],
      "metadata": {
        "colab": {
          "base_uri": "https://localhost:8080/",
          "height": 328
        },
        "id": "SY_8010AHazT",
        "outputId": "ac0021c7-918c-4d7f-8ebc-07c1262b28cd"
      },
      "execution_count": null,
      "outputs": [
        {
          "output_type": "error",
          "ename": "ValueError",
          "evalue": "ignored",
          "traceback": [
            "\u001b[0;31m---------------------------------------------------------------------------\u001b[0m",
            "\u001b[0;31mValueError\u001b[0m                                Traceback (most recent call last)",
            "\u001b[0;32m<ipython-input-165-b295a9817620>\u001b[0m in \u001b[0;36m<module>\u001b[0;34m()\u001b[0m\n\u001b[0;32m----> 1\u001b[0;31m \u001b[0mfper\u001b[0m\u001b[0;34m,\u001b[0m \u001b[0mtper\u001b[0m\u001b[0;34m,\u001b[0m \u001b[0mthresholds\u001b[0m \u001b[0;34m=\u001b[0m \u001b[0mroc_curve\u001b[0m\u001b[0;34m(\u001b[0m\u001b[0my_test\u001b[0m\u001b[0;34m,\u001b[0m \u001b[0mMLP_Y_pred\u001b[0m\u001b[0;34m)\u001b[0m\u001b[0;34m\u001b[0m\u001b[0;34m\u001b[0m\u001b[0m\n\u001b[0m\u001b[1;32m      2\u001b[0m \u001b[0mplot_roc_curve\u001b[0m\u001b[0;34m(\u001b[0m\u001b[0mfper\u001b[0m\u001b[0;34m,\u001b[0m \u001b[0mtper\u001b[0m\u001b[0;34m)\u001b[0m\u001b[0;34m\u001b[0m\u001b[0;34m\u001b[0m\u001b[0m\n",
            "\u001b[0;32m/usr/local/lib/python3.7/dist-packages/sklearn/metrics/_ranking.py\u001b[0m in \u001b[0;36mroc_curve\u001b[0;34m(y_true, y_score, pos_label, sample_weight, drop_intermediate)\u001b[0m\n\u001b[1;32m    961\u001b[0m     \"\"\"\n\u001b[1;32m    962\u001b[0m     fps, tps, thresholds = _binary_clf_curve(\n\u001b[0;32m--> 963\u001b[0;31m         \u001b[0my_true\u001b[0m\u001b[0;34m,\u001b[0m \u001b[0my_score\u001b[0m\u001b[0;34m,\u001b[0m \u001b[0mpos_label\u001b[0m\u001b[0;34m=\u001b[0m\u001b[0mpos_label\u001b[0m\u001b[0;34m,\u001b[0m \u001b[0msample_weight\u001b[0m\u001b[0;34m=\u001b[0m\u001b[0msample_weight\u001b[0m\u001b[0;34m\u001b[0m\u001b[0;34m\u001b[0m\u001b[0m\n\u001b[0m\u001b[1;32m    964\u001b[0m     )\n\u001b[1;32m    965\u001b[0m \u001b[0;34m\u001b[0m\u001b[0m\n",
            "\u001b[0;32m/usr/local/lib/python3.7/dist-packages/sklearn/metrics/_ranking.py\u001b[0m in \u001b[0;36m_binary_clf_curve\u001b[0;34m(y_true, y_score, pos_label, sample_weight)\u001b[0m\n\u001b[1;32m    729\u001b[0m     \u001b[0my_type\u001b[0m \u001b[0;34m=\u001b[0m \u001b[0mtype_of_target\u001b[0m\u001b[0;34m(\u001b[0m\u001b[0my_true\u001b[0m\u001b[0;34m)\u001b[0m\u001b[0;34m\u001b[0m\u001b[0;34m\u001b[0m\u001b[0m\n\u001b[1;32m    730\u001b[0m     \u001b[0;32mif\u001b[0m \u001b[0;32mnot\u001b[0m \u001b[0;34m(\u001b[0m\u001b[0my_type\u001b[0m \u001b[0;34m==\u001b[0m \u001b[0;34m\"binary\"\u001b[0m \u001b[0;32mor\u001b[0m \u001b[0;34m(\u001b[0m\u001b[0my_type\u001b[0m \u001b[0;34m==\u001b[0m \u001b[0;34m\"multiclass\"\u001b[0m \u001b[0;32mand\u001b[0m \u001b[0mpos_label\u001b[0m \u001b[0;32mis\u001b[0m \u001b[0;32mnot\u001b[0m \u001b[0;32mNone\u001b[0m\u001b[0;34m)\u001b[0m\u001b[0;34m)\u001b[0m\u001b[0;34m:\u001b[0m\u001b[0;34m\u001b[0m\u001b[0;34m\u001b[0m\u001b[0m\n\u001b[0;32m--> 731\u001b[0;31m         \u001b[0;32mraise\u001b[0m \u001b[0mValueError\u001b[0m\u001b[0;34m(\u001b[0m\u001b[0;34m\"{0} format is not supported\"\u001b[0m\u001b[0;34m.\u001b[0m\u001b[0mformat\u001b[0m\u001b[0;34m(\u001b[0m\u001b[0my_type\u001b[0m\u001b[0;34m)\u001b[0m\u001b[0;34m)\u001b[0m\u001b[0;34m\u001b[0m\u001b[0;34m\u001b[0m\u001b[0m\n\u001b[0m\u001b[1;32m    732\u001b[0m \u001b[0;34m\u001b[0m\u001b[0m\n\u001b[1;32m    733\u001b[0m     \u001b[0mcheck_consistent_length\u001b[0m\u001b[0;34m(\u001b[0m\u001b[0my_true\u001b[0m\u001b[0;34m,\u001b[0m \u001b[0my_score\u001b[0m\u001b[0;34m,\u001b[0m \u001b[0msample_weight\u001b[0m\u001b[0;34m)\u001b[0m\u001b[0;34m\u001b[0m\u001b[0;34m\u001b[0m\u001b[0m\n",
            "\u001b[0;31mValueError\u001b[0m: multiclass format is not supported"
          ]
        }
      ]
    },
    {
      "cell_type": "code",
      "source": [
        ""
      ],
      "metadata": {
        "id": "m9O18ABTHmM7"
      },
      "execution_count": null,
      "outputs": []
    }
  ],
  "metadata": {
    "colab": {
      "name": "ml_proj_classification_emotion_model2.ipynb",
      "provenance": [],
      "collapsed_sections": []
    },
    "kernelspec": {
      "display_name": "Python 3",
      "name": "python3"
    },
    "language_info": {
      "name": "python"
    }
  },
  "nbformat": 4,
  "nbformat_minor": 0
}