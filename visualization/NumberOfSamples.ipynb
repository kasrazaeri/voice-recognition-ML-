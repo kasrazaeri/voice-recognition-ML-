{
  "nbformat": 4,
  "nbformat_minor": 0,
  "metadata": {
    "colab": {
      "name": "NumberOfSamples.ipynb",
      "provenance": []
    },
    "kernelspec": {
      "name": "python3",
      "display_name": "Python 3"
    },
    "language_info": {
      "name": "python"
    }
  },
  "cells": [
    {
      "cell_type": "code",
      "execution_count": 24,
      "metadata": {
        "colab": {
          "base_uri": "https://localhost:8080/"
        },
        "id": "NX6wOkP-98bm",
        "outputId": "ce17f0d5-d262-4323-d5df-d2df1600cb1f"
      },
      "outputs": [
        {
          "output_type": "stream",
          "name": "stdout",
          "text": [
            "angry man= 2158\n",
            "angry woman= 2008\n",
            "happy man= 2152\n",
            "happy woman= 1992\n",
            "sadman= 2164\n",
            "sadwoman= 2013\n",
            "neutralman= 2162\n",
            "neutral woman= 2013\n",
            "16662\n"
          ]
        }
      ],
      "source": [
        "import numpy as np\n",
        "import pandas as pd\n",
        "\n",
        "a=pd.read_csv('/dataV_revised3.csv')\n",
        "\n",
        "sadman=0\n",
        "sadwoman=0\n",
        "happyman=0\n",
        "happywoman=0\n",
        "neutralman=0\n",
        "neutralwoman=0\n",
        "angryman=0\n",
        "angrywoman=0\n",
        "\n",
        "for i in range (16782):\n",
        "  if a['emotionID'][i]==1:\n",
        "    if a['sex'][i]=='m':\n",
        "      angryman=angryman+1\n",
        "    elif a['sex'][i]=='f': \n",
        "      angrywoman=angrywoman+1\n",
        "  if a['emotionID'][i]==2:\n",
        "    if a['sex'][i]=='m':\n",
        "      happyman=happyman+1\n",
        "    elif a['sex'][i]=='f': \n",
        "      happywoman=happywoman+1\n",
        "  if a['emotionID'][i]==3:\n",
        "    if a['sex'][i]=='m':\n",
        "      sadman=sadman+1\n",
        "    elif a['sex'][i]=='f': \n",
        "      sadwoman=sadwoman+1\n",
        "  if a['emotionID'][i]==4:\n",
        "    if a['sex'][i]=='m':\n",
        "      neutralman=neutralman+1\n",
        "    elif a['sex'][i]=='f': \n",
        "      neutralwoman=neutralwoman+1\n",
        "\n",
        "#a['emotionID'][16782]\n",
        "print('angry man=',angryman)\n",
        "print('angry woman=',angrywoman)\n",
        "print('happy man=',happyman)\n",
        "print('happy woman=',happywoman)\n",
        "print('sadman=',sadman)\n",
        "print('sadwoman=',sadwoman)\n",
        "print('neutralman=',neutralman)\n",
        "print('neutral woman=',neutralwoman)\n",
        "print(angryman+angrywoman+happyman+happywoman+sadman+sadwoman+neutralman+neutralwoman)"
      ]
    }
  ]
}