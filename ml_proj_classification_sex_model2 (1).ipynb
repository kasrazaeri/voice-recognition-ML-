{
  "cells": [
    {
      "cell_type": "code",
      "execution_count": 1,
      "metadata": {
        "id": "yN_VFfugSx5E"
      },
      "outputs": [],
      "source": [
        "import pickle\n",
        "from tkinter.tix import COLUMN\n",
        "import numpy as np\n",
        "import pandas as pd\n",
        "from matplotlib import pyplot as plt\n",
        "from sklearn.naive_bayes import GaussianNB\n",
        "from sklearn import metrics\n",
        "from sklearn.metrics import accuracy_score\n",
        "from itertools import combinations\n",
        "from sklearn.base import clone\n",
        "import numpy as np\n",
        "import pandas as pd\n",
        "from sklearn.model_selection import train_test_split\n",
        "#import matplotlib as plt\n",
        "from sklearn.naive_bayes import GaussianNB\n",
        "from sklearn.neural_network import MLPClassifier\n",
        "from sklearn.pipeline import make_pipeline\n",
        "from sklearn import preprocessing\n",
        "from sklearn.metrics import accuracy_score\n",
        "from sklearn.svm import SVC\n"
      ]
    },
    {
      "cell_type": "code",
      "source": [
        "from google.colab import drive\n",
        "drive.mount('/content/drive')"
      ],
      "metadata": {
        "colab": {
          "base_uri": "https://localhost:8080/"
        },
        "id": "fpHVh0E6IOjL",
        "outputId": "a8c12da6-87bf-4f2f-dc29-187948bc9b9a"
      },
      "execution_count": 2,
      "outputs": [
        {
          "output_type": "stream",
          "name": "stdout",
          "text": [
            "Mounted at /content/drive\n"
          ]
        }
      ]
    },
    {
      "cell_type": "code",
      "source": [
        "df=pd.read_csv('/content/drive/MyDrive/Colab Notebooks/model2/model2_csv/Train2.csv')\n",
        "train=pd.read_csv('/content/drive/MyDrive/Colab Notebooks/model2/model2_excel/Train2.csv')\n",
        "emotion_train = train[\"emotionID\"]\n",
        "set(emotion_train)\n",
        "result = pd.concat([df, train[\"sex\"],emotion_train], axis=1)\n",
        "df_train=result.drop(columns=[\"target\"])\n",
        "df_train[\"sex\"].replace({\"f\": 0, \"m\": 1}, inplace=True)\n",
        "df_train"
      ],
      "metadata": {
        "colab": {
          "base_uri": "https://localhost:8080/",
          "height": 661
        },
        "id": "aoVR8qNwK9cE",
        "outputId": "87404f5d-e35a-4c4a-f400-4212c117dd63"
      },
      "execution_count": 3,
      "outputs": [
        {
          "output_type": "execute_result",
          "data": {
            "text/plain": [
              "                                            Unnamed: 0     mfcc_0      mfcc_1  \\\n",
              "0       C:/Users/vcc/Desktop/project ml/voice/9196.wav -364.94345   58.359630   \n",
              "1      C:/Users/vcc/Desktop/project ml/voice/16133.wav -387.11218   92.776024   \n",
              "2       C:/Users/vcc/Desktop/project ml/voice/4156.wav -420.34683  103.964935   \n",
              "3        C:/Users/vcc/Desktop/project ml/voice/203.wav -400.54904  103.331710   \n",
              "4       C:/Users/vcc/Desktop/project ml/voice/4917.wav -216.08072   61.822456   \n",
              "...                                                ...        ...         ...   \n",
              "11992  C:/Users/vcc/Desktop/project ml/voice/16144.wav -493.76923  118.193620   \n",
              "11993   C:/Users/vcc/Desktop/project ml/voice/1750.wav -441.23830   68.922330   \n",
              "11994   C:/Users/vcc/Desktop/project ml/voice/1673.wav -332.97794   74.275660   \n",
              "11995  C:/Users/vcc/Desktop/project ml/voice/11784.wav -459.31543   75.078064   \n",
              "11996  C:/Users/vcc/Desktop/project ml/voice/14561.wav -336.05643  121.028460   \n",
              "\n",
              "          mfcc_2     mfcc_3     mfcc_4     mfcc_5     mfcc_6    mfcc_7  \\\n",
              "0       2.820225   5.529991   0.165158  12.045059   1.448689 -5.378034   \n",
              "1     -15.819464  33.206528   1.054645  10.347558  -1.730025  8.410479   \n",
              "2       0.789253  30.104149  -7.518121  10.094464 -19.800411 -1.656142   \n",
              "3      20.483711  29.738617  10.878419   3.691131  -2.093715  9.150126   \n",
              "4      -8.624993  -0.100680 -14.465156 -10.361802   1.479756 -4.632538   \n",
              "...          ...        ...        ...        ...        ...       ...   \n",
              "11992 -19.474787  47.368202  -4.860471   8.465796  -4.050439  6.528437   \n",
              "11993  29.351257  27.767723   9.790405  19.638962  12.368877 -2.788193   \n",
              "11994  30.321781  14.730898  17.161760   5.759981  11.191778  5.152507   \n",
              "11995   8.145429  31.015642   1.469157   9.187110   4.536473  1.235650   \n",
              "11996   4.946123  18.397797   5.344292   1.624755  -5.905523  7.784936   \n",
              "\n",
              "          mfcc_8  ...  tempogram_382  tempogram_383  tonnetz_0  tonnetz_1  \\\n",
              "0      -9.409033  ...   1.065503e-17   8.264991e-18  -0.010307   0.003076   \n",
              "1       6.219111  ...   2.579631e-17   2.283440e-17  -0.042363   0.042854   \n",
              "2      -7.244540  ...   1.338170e-17   1.390605e-17   0.028776  -0.003118   \n",
              "3       6.001769  ...   3.044141e-17   2.452205e-17  -0.027109  -0.014485   \n",
              "4     -13.703397  ...   1.835793e-18   1.709946e-17  -0.013564   0.011575   \n",
              "...          ...  ...            ...            ...        ...        ...   \n",
              "11992  -1.920165  ...   1.658500e-17   2.175022e-17   0.042150   0.026910   \n",
              "11993  -3.835782  ...   6.869883e-18   1.143487e-18  -0.031688   0.016086   \n",
              "11994   6.918223  ...   1.494454e-17   2.848889e-17  -0.025926   0.000929   \n",
              "11995   1.000868  ...   1.178312e-17   2.756702e-17   0.045444   0.023344   \n",
              "11996  -6.294373  ...   6.158693e-18   1.572200e-17  -0.069080   0.061143   \n",
              "\n",
              "       tonnetz_2  tonnetz_3  tonnetz_4  tonnetz_5  sex  emotionID  \n",
              "0       0.022825   0.051463   0.011787  -0.009172    0          3  \n",
              "1      -0.013355  -0.110958   0.025752  -0.025277    0          1  \n",
              "2       0.051828   0.011517   0.004023   0.004716    1          4  \n",
              "3      -0.003280  -0.099250   0.011699  -0.008414    1          4  \n",
              "4      -0.015613   0.009228  -0.005703  -0.003755    1          1  \n",
              "...          ...        ...        ...        ...  ...        ...  \n",
              "11992  -0.000645   0.003364  -0.006610   0.003278    0          4  \n",
              "11993  -0.024533   0.048363   0.036236  -0.017237    0          4  \n",
              "11994  -0.076368  -0.004775   0.012181   0.009368    1          3  \n",
              "11995   0.058454  -0.004126   0.025204  -0.013217    0          3  \n",
              "11996   0.005126  -0.086939   0.033204  -0.020299    1          3  \n",
              "\n",
              "[11997 rows x 547 columns]"
            ],
            "text/html": [
              "\n",
              "  <div id=\"df-67caeb10-aa47-4459-b625-d9cb2f7a1d53\">\n",
              "    <div class=\"colab-df-container\">\n",
              "      <div>\n",
              "<style scoped>\n",
              "    .dataframe tbody tr th:only-of-type {\n",
              "        vertical-align: middle;\n",
              "    }\n",
              "\n",
              "    .dataframe tbody tr th {\n",
              "        vertical-align: top;\n",
              "    }\n",
              "\n",
              "    .dataframe thead th {\n",
              "        text-align: right;\n",
              "    }\n",
              "</style>\n",
              "<table border=\"1\" class=\"dataframe\">\n",
              "  <thead>\n",
              "    <tr style=\"text-align: right;\">\n",
              "      <th></th>\n",
              "      <th>Unnamed: 0</th>\n",
              "      <th>mfcc_0</th>\n",
              "      <th>mfcc_1</th>\n",
              "      <th>mfcc_2</th>\n",
              "      <th>mfcc_3</th>\n",
              "      <th>mfcc_4</th>\n",
              "      <th>mfcc_5</th>\n",
              "      <th>mfcc_6</th>\n",
              "      <th>mfcc_7</th>\n",
              "      <th>mfcc_8</th>\n",
              "      <th>...</th>\n",
              "      <th>tempogram_382</th>\n",
              "      <th>tempogram_383</th>\n",
              "      <th>tonnetz_0</th>\n",
              "      <th>tonnetz_1</th>\n",
              "      <th>tonnetz_2</th>\n",
              "      <th>tonnetz_3</th>\n",
              "      <th>tonnetz_4</th>\n",
              "      <th>tonnetz_5</th>\n",
              "      <th>sex</th>\n",
              "      <th>emotionID</th>\n",
              "    </tr>\n",
              "  </thead>\n",
              "  <tbody>\n",
              "    <tr>\n",
              "      <th>0</th>\n",
              "      <td>C:/Users/vcc/Desktop/project ml/voice/9196.wav</td>\n",
              "      <td>-364.94345</td>\n",
              "      <td>58.359630</td>\n",
              "      <td>2.820225</td>\n",
              "      <td>5.529991</td>\n",
              "      <td>0.165158</td>\n",
              "      <td>12.045059</td>\n",
              "      <td>1.448689</td>\n",
              "      <td>-5.378034</td>\n",
              "      <td>-9.409033</td>\n",
              "      <td>...</td>\n",
              "      <td>1.065503e-17</td>\n",
              "      <td>8.264991e-18</td>\n",
              "      <td>-0.010307</td>\n",
              "      <td>0.003076</td>\n",
              "      <td>0.022825</td>\n",
              "      <td>0.051463</td>\n",
              "      <td>0.011787</td>\n",
              "      <td>-0.009172</td>\n",
              "      <td>0</td>\n",
              "      <td>3</td>\n",
              "    </tr>\n",
              "    <tr>\n",
              "      <th>1</th>\n",
              "      <td>C:/Users/vcc/Desktop/project ml/voice/16133.wav</td>\n",
              "      <td>-387.11218</td>\n",
              "      <td>92.776024</td>\n",
              "      <td>-15.819464</td>\n",
              "      <td>33.206528</td>\n",
              "      <td>1.054645</td>\n",
              "      <td>10.347558</td>\n",
              "      <td>-1.730025</td>\n",
              "      <td>8.410479</td>\n",
              "      <td>6.219111</td>\n",
              "      <td>...</td>\n",
              "      <td>2.579631e-17</td>\n",
              "      <td>2.283440e-17</td>\n",
              "      <td>-0.042363</td>\n",
              "      <td>0.042854</td>\n",
              "      <td>-0.013355</td>\n",
              "      <td>-0.110958</td>\n",
              "      <td>0.025752</td>\n",
              "      <td>-0.025277</td>\n",
              "      <td>0</td>\n",
              "      <td>1</td>\n",
              "    </tr>\n",
              "    <tr>\n",
              "      <th>2</th>\n",
              "      <td>C:/Users/vcc/Desktop/project ml/voice/4156.wav</td>\n",
              "      <td>-420.34683</td>\n",
              "      <td>103.964935</td>\n",
              "      <td>0.789253</td>\n",
              "      <td>30.104149</td>\n",
              "      <td>-7.518121</td>\n",
              "      <td>10.094464</td>\n",
              "      <td>-19.800411</td>\n",
              "      <td>-1.656142</td>\n",
              "      <td>-7.244540</td>\n",
              "      <td>...</td>\n",
              "      <td>1.338170e-17</td>\n",
              "      <td>1.390605e-17</td>\n",
              "      <td>0.028776</td>\n",
              "      <td>-0.003118</td>\n",
              "      <td>0.051828</td>\n",
              "      <td>0.011517</td>\n",
              "      <td>0.004023</td>\n",
              "      <td>0.004716</td>\n",
              "      <td>1</td>\n",
              "      <td>4</td>\n",
              "    </tr>\n",
              "    <tr>\n",
              "      <th>3</th>\n",
              "      <td>C:/Users/vcc/Desktop/project ml/voice/203.wav</td>\n",
              "      <td>-400.54904</td>\n",
              "      <td>103.331710</td>\n",
              "      <td>20.483711</td>\n",
              "      <td>29.738617</td>\n",
              "      <td>10.878419</td>\n",
              "      <td>3.691131</td>\n",
              "      <td>-2.093715</td>\n",
              "      <td>9.150126</td>\n",
              "      <td>6.001769</td>\n",
              "      <td>...</td>\n",
              "      <td>3.044141e-17</td>\n",
              "      <td>2.452205e-17</td>\n",
              "      <td>-0.027109</td>\n",
              "      <td>-0.014485</td>\n",
              "      <td>-0.003280</td>\n",
              "      <td>-0.099250</td>\n",
              "      <td>0.011699</td>\n",
              "      <td>-0.008414</td>\n",
              "      <td>1</td>\n",
              "      <td>4</td>\n",
              "    </tr>\n",
              "    <tr>\n",
              "      <th>4</th>\n",
              "      <td>C:/Users/vcc/Desktop/project ml/voice/4917.wav</td>\n",
              "      <td>-216.08072</td>\n",
              "      <td>61.822456</td>\n",
              "      <td>-8.624993</td>\n",
              "      <td>-0.100680</td>\n",
              "      <td>-14.465156</td>\n",
              "      <td>-10.361802</td>\n",
              "      <td>1.479756</td>\n",
              "      <td>-4.632538</td>\n",
              "      <td>-13.703397</td>\n",
              "      <td>...</td>\n",
              "      <td>1.835793e-18</td>\n",
              "      <td>1.709946e-17</td>\n",
              "      <td>-0.013564</td>\n",
              "      <td>0.011575</td>\n",
              "      <td>-0.015613</td>\n",
              "      <td>0.009228</td>\n",
              "      <td>-0.005703</td>\n",
              "      <td>-0.003755</td>\n",
              "      <td>1</td>\n",
              "      <td>1</td>\n",
              "    </tr>\n",
              "    <tr>\n",
              "      <th>...</th>\n",
              "      <td>...</td>\n",
              "      <td>...</td>\n",
              "      <td>...</td>\n",
              "      <td>...</td>\n",
              "      <td>...</td>\n",
              "      <td>...</td>\n",
              "      <td>...</td>\n",
              "      <td>...</td>\n",
              "      <td>...</td>\n",
              "      <td>...</td>\n",
              "      <td>...</td>\n",
              "      <td>...</td>\n",
              "      <td>...</td>\n",
              "      <td>...</td>\n",
              "      <td>...</td>\n",
              "      <td>...</td>\n",
              "      <td>...</td>\n",
              "      <td>...</td>\n",
              "      <td>...</td>\n",
              "      <td>...</td>\n",
              "      <td>...</td>\n",
              "    </tr>\n",
              "    <tr>\n",
              "      <th>11992</th>\n",
              "      <td>C:/Users/vcc/Desktop/project ml/voice/16144.wav</td>\n",
              "      <td>-493.76923</td>\n",
              "      <td>118.193620</td>\n",
              "      <td>-19.474787</td>\n",
              "      <td>47.368202</td>\n",
              "      <td>-4.860471</td>\n",
              "      <td>8.465796</td>\n",
              "      <td>-4.050439</td>\n",
              "      <td>6.528437</td>\n",
              "      <td>-1.920165</td>\n",
              "      <td>...</td>\n",
              "      <td>1.658500e-17</td>\n",
              "      <td>2.175022e-17</td>\n",
              "      <td>0.042150</td>\n",
              "      <td>0.026910</td>\n",
              "      <td>-0.000645</td>\n",
              "      <td>0.003364</td>\n",
              "      <td>-0.006610</td>\n",
              "      <td>0.003278</td>\n",
              "      <td>0</td>\n",
              "      <td>4</td>\n",
              "    </tr>\n",
              "    <tr>\n",
              "      <th>11993</th>\n",
              "      <td>C:/Users/vcc/Desktop/project ml/voice/1750.wav</td>\n",
              "      <td>-441.23830</td>\n",
              "      <td>68.922330</td>\n",
              "      <td>29.351257</td>\n",
              "      <td>27.767723</td>\n",
              "      <td>9.790405</td>\n",
              "      <td>19.638962</td>\n",
              "      <td>12.368877</td>\n",
              "      <td>-2.788193</td>\n",
              "      <td>-3.835782</td>\n",
              "      <td>...</td>\n",
              "      <td>6.869883e-18</td>\n",
              "      <td>1.143487e-18</td>\n",
              "      <td>-0.031688</td>\n",
              "      <td>0.016086</td>\n",
              "      <td>-0.024533</td>\n",
              "      <td>0.048363</td>\n",
              "      <td>0.036236</td>\n",
              "      <td>-0.017237</td>\n",
              "      <td>0</td>\n",
              "      <td>4</td>\n",
              "    </tr>\n",
              "    <tr>\n",
              "      <th>11994</th>\n",
              "      <td>C:/Users/vcc/Desktop/project ml/voice/1673.wav</td>\n",
              "      <td>-332.97794</td>\n",
              "      <td>74.275660</td>\n",
              "      <td>30.321781</td>\n",
              "      <td>14.730898</td>\n",
              "      <td>17.161760</td>\n",
              "      <td>5.759981</td>\n",
              "      <td>11.191778</td>\n",
              "      <td>5.152507</td>\n",
              "      <td>6.918223</td>\n",
              "      <td>...</td>\n",
              "      <td>1.494454e-17</td>\n",
              "      <td>2.848889e-17</td>\n",
              "      <td>-0.025926</td>\n",
              "      <td>0.000929</td>\n",
              "      <td>-0.076368</td>\n",
              "      <td>-0.004775</td>\n",
              "      <td>0.012181</td>\n",
              "      <td>0.009368</td>\n",
              "      <td>1</td>\n",
              "      <td>3</td>\n",
              "    </tr>\n",
              "    <tr>\n",
              "      <th>11995</th>\n",
              "      <td>C:/Users/vcc/Desktop/project ml/voice/11784.wav</td>\n",
              "      <td>-459.31543</td>\n",
              "      <td>75.078064</td>\n",
              "      <td>8.145429</td>\n",
              "      <td>31.015642</td>\n",
              "      <td>1.469157</td>\n",
              "      <td>9.187110</td>\n",
              "      <td>4.536473</td>\n",
              "      <td>1.235650</td>\n",
              "      <td>1.000868</td>\n",
              "      <td>...</td>\n",
              "      <td>1.178312e-17</td>\n",
              "      <td>2.756702e-17</td>\n",
              "      <td>0.045444</td>\n",
              "      <td>0.023344</td>\n",
              "      <td>0.058454</td>\n",
              "      <td>-0.004126</td>\n",
              "      <td>0.025204</td>\n",
              "      <td>-0.013217</td>\n",
              "      <td>0</td>\n",
              "      <td>3</td>\n",
              "    </tr>\n",
              "    <tr>\n",
              "      <th>11996</th>\n",
              "      <td>C:/Users/vcc/Desktop/project ml/voice/14561.wav</td>\n",
              "      <td>-336.05643</td>\n",
              "      <td>121.028460</td>\n",
              "      <td>4.946123</td>\n",
              "      <td>18.397797</td>\n",
              "      <td>5.344292</td>\n",
              "      <td>1.624755</td>\n",
              "      <td>-5.905523</td>\n",
              "      <td>7.784936</td>\n",
              "      <td>-6.294373</td>\n",
              "      <td>...</td>\n",
              "      <td>6.158693e-18</td>\n",
              "      <td>1.572200e-17</td>\n",
              "      <td>-0.069080</td>\n",
              "      <td>0.061143</td>\n",
              "      <td>0.005126</td>\n",
              "      <td>-0.086939</td>\n",
              "      <td>0.033204</td>\n",
              "      <td>-0.020299</td>\n",
              "      <td>1</td>\n",
              "      <td>3</td>\n",
              "    </tr>\n",
              "  </tbody>\n",
              "</table>\n",
              "<p>11997 rows × 547 columns</p>\n",
              "</div>\n",
              "      <button class=\"colab-df-convert\" onclick=\"convertToInteractive('df-67caeb10-aa47-4459-b625-d9cb2f7a1d53')\"\n",
              "              title=\"Convert this dataframe to an interactive table.\"\n",
              "              style=\"display:none;\">\n",
              "        \n",
              "  <svg xmlns=\"http://www.w3.org/2000/svg\" height=\"24px\"viewBox=\"0 0 24 24\"\n",
              "       width=\"24px\">\n",
              "    <path d=\"M0 0h24v24H0V0z\" fill=\"none\"/>\n",
              "    <path d=\"M18.56 5.44l.94 2.06.94-2.06 2.06-.94-2.06-.94-.94-2.06-.94 2.06-2.06.94zm-11 1L8.5 8.5l.94-2.06 2.06-.94-2.06-.94L8.5 2.5l-.94 2.06-2.06.94zm10 10l.94 2.06.94-2.06 2.06-.94-2.06-.94-.94-2.06-.94 2.06-2.06.94z\"/><path d=\"M17.41 7.96l-1.37-1.37c-.4-.4-.92-.59-1.43-.59-.52 0-1.04.2-1.43.59L10.3 9.45l-7.72 7.72c-.78.78-.78 2.05 0 2.83L4 21.41c.39.39.9.59 1.41.59.51 0 1.02-.2 1.41-.59l7.78-7.78 2.81-2.81c.8-.78.8-2.07 0-2.86zM5.41 20L4 18.59l7.72-7.72 1.47 1.35L5.41 20z\"/>\n",
              "  </svg>\n",
              "      </button>\n",
              "      \n",
              "  <style>\n",
              "    .colab-df-container {\n",
              "      display:flex;\n",
              "      flex-wrap:wrap;\n",
              "      gap: 12px;\n",
              "    }\n",
              "\n",
              "    .colab-df-convert {\n",
              "      background-color: #E8F0FE;\n",
              "      border: none;\n",
              "      border-radius: 50%;\n",
              "      cursor: pointer;\n",
              "      display: none;\n",
              "      fill: #1967D2;\n",
              "      height: 32px;\n",
              "      padding: 0 0 0 0;\n",
              "      width: 32px;\n",
              "    }\n",
              "\n",
              "    .colab-df-convert:hover {\n",
              "      background-color: #E2EBFA;\n",
              "      box-shadow: 0px 1px 2px rgba(60, 64, 67, 0.3), 0px 1px 3px 1px rgba(60, 64, 67, 0.15);\n",
              "      fill: #174EA6;\n",
              "    }\n",
              "\n",
              "    [theme=dark] .colab-df-convert {\n",
              "      background-color: #3B4455;\n",
              "      fill: #D2E3FC;\n",
              "    }\n",
              "\n",
              "    [theme=dark] .colab-df-convert:hover {\n",
              "      background-color: #434B5C;\n",
              "      box-shadow: 0px 1px 3px 1px rgba(0, 0, 0, 0.15);\n",
              "      filter: drop-shadow(0px 1px 2px rgba(0, 0, 0, 0.3));\n",
              "      fill: #FFFFFF;\n",
              "    }\n",
              "  </style>\n",
              "\n",
              "      <script>\n",
              "        const buttonEl =\n",
              "          document.querySelector('#df-67caeb10-aa47-4459-b625-d9cb2f7a1d53 button.colab-df-convert');\n",
              "        buttonEl.style.display =\n",
              "          google.colab.kernel.accessAllowed ? 'block' : 'none';\n",
              "\n",
              "        async function convertToInteractive(key) {\n",
              "          const element = document.querySelector('#df-67caeb10-aa47-4459-b625-d9cb2f7a1d53');\n",
              "          const dataTable =\n",
              "            await google.colab.kernel.invokeFunction('convertToInteractive',\n",
              "                                                     [key], {});\n",
              "          if (!dataTable) return;\n",
              "\n",
              "          const docLinkHtml = 'Like what you see? Visit the ' +\n",
              "            '<a target=\"_blank\" href=https://colab.research.google.com/notebooks/data_table.ipynb>data table notebook</a>'\n",
              "            + ' to learn more about interactive tables.';\n",
              "          element.innerHTML = '';\n",
              "          dataTable['output_type'] = 'display_data';\n",
              "          await google.colab.output.renderOutput(dataTable, element);\n",
              "          const docLink = document.createElement('div');\n",
              "          docLink.innerHTML = docLinkHtml;\n",
              "          element.appendChild(docLink);\n",
              "        }\n",
              "      </script>\n",
              "    </div>\n",
              "  </div>\n",
              "  "
            ]
          },
          "metadata": {},
          "execution_count": 3
        }
      ]
    },
    {
      "cell_type": "code",
      "source": [
        "df=pd.read_csv('/content/drive/MyDrive/Colab Notebooks/model2/model2_csv/Test2.csv')\n",
        "train=pd.read_csv('/content/drive/MyDrive/Colab Notebooks/model2/model2_excel/Test2.csv')\n",
        "emotion_train = train[\"emotionID\"]\n",
        "set(emotion_train)\n",
        "result = pd.concat([df, train[\"sex\"],emotion_train], axis=1)\n",
        "df_test=result.drop(columns=[\"target\"])\n",
        "df_test[\"sex\"].replace({\"f\": 0, \"m\": 1}, inplace=True)\n",
        "df_test"
      ],
      "metadata": {
        "colab": {
          "base_uri": "https://localhost:8080/",
          "height": 661
        },
        "id": "Am916y9fM5a-",
        "outputId": "e56dea00-d941-4adf-88d8-8d57b2733e3a"
      },
      "execution_count": 4,
      "outputs": [
        {
          "output_type": "execute_result",
          "data": {
            "text/plain": [
              "                                           Unnamed: 0     mfcc_0      mfcc_1  \\\n",
              "0      C:/Users/vcc/Desktop/project ml/voice/9344.wav -505.86703   90.927670   \n",
              "1     C:/Users/vcc/Desktop/project ml/voice/12547.wav -415.33710   96.606150   \n",
              "2     C:/Users/vcc/Desktop/project ml/voice/11416.wav -394.90335  115.636820   \n",
              "3     C:/Users/vcc/Desktop/project ml/voice/13091.wav -211.31772  133.582140   \n",
              "4     C:/Users/vcc/Desktop/project ml/voice/15864.wav -463.76688  130.353880   \n",
              "...                                               ...        ...         ...   \n",
              "3328    C:/Users/vcc/Desktop/project ml/voice/415.wav -520.99010   76.673530   \n",
              "3329   C:/Users/vcc/Desktop/project ml/voice/9548.wav -363.66486  121.069305   \n",
              "3330   C:/Users/vcc/Desktop/project ml/voice/5933.wav -392.01880  108.106830   \n",
              "3331   C:/Users/vcc/Desktop/project ml/voice/5635.wav -335.09702   97.686615   \n",
              "3332   C:/Users/vcc/Desktop/project ml/voice/2077.wav -579.15686   49.359300   \n",
              "\n",
              "         mfcc_2     mfcc_3     mfcc_4     mfcc_5     mfcc_6     mfcc_7  \\\n",
              "0     50.811844  46.253925  21.828745  18.075613   3.674863  -3.278383   \n",
              "1     25.525356  31.204031  -5.861326   8.170014  -8.523556  -0.566638   \n",
              "2      8.155794  20.469270   2.609663  16.974703 -21.057484  15.903380   \n",
              "3    -25.216316  12.453365 -31.373760   5.483029 -14.456090 -24.726824   \n",
              "4     -0.246942  23.904879   1.496812  10.103725 -22.894894   6.832997   \n",
              "...         ...        ...        ...        ...        ...        ...   \n",
              "3328 -13.955746  28.225765  -0.103527 -20.673664 -14.641736   7.766248   \n",
              "3329  -6.165410  23.450203  -3.538832  -0.146308  -4.288898  -6.522939   \n",
              "3330  -2.740813  23.881542  -5.648860   3.114533 -10.559357   3.632669   \n",
              "3331   0.157730  40.329950  -8.645594  25.945732  -2.471781  -3.563193   \n",
              "3332  14.313977  14.504559   4.230345  -3.542368  -1.247210  -0.642427   \n",
              "\n",
              "         mfcc_8  ...  tempogram_382  tempogram_383  tonnetz_0  tonnetz_1  \\\n",
              "0      4.984287  ...   1.753767e-17   2.565021e-17   0.074273   0.045284   \n",
              "1     -9.987669  ...   1.068843e-17   2.590136e-17  -0.052392  -0.009066   \n",
              "2    -10.881305  ...   1.265895e-17   2.381629e-17  -0.005245  -0.046894   \n",
              "3    -11.366259  ...   6.409966e-18  -8.634525e-19  -0.005213  -0.041483   \n",
              "4     -8.986013  ...   1.449830e-17   2.280265e-17   0.006945   0.050537   \n",
              "...         ...  ...            ...            ...        ...        ...   \n",
              "3328  -9.842073  ...  -4.578098e-18   1.398697e-18  -0.010583  -0.004469   \n",
              "3329 -14.068184  ...   2.840874e-17   4.070046e-17   0.039948   0.030738   \n",
              "3330  -8.072955  ...   5.926913e-17   7.656482e-17   0.009681   0.019442   \n",
              "3331  -0.374251  ...   1.973473e-17   2.774610e-17   0.037246   0.025011   \n",
              "3332  -5.903124  ...  -4.227222e-18   6.376488e-18  -0.003626  -0.003880   \n",
              "\n",
              "      tonnetz_2  tonnetz_3  tonnetz_4  tonnetz_5  sex  emotionID  \n",
              "0      0.173617  -0.021284   0.002736  -0.035215    1          3  \n",
              "1     -0.036222   0.096223   0.007650   0.002427    1          2  \n",
              "2     -0.032342   0.023598   0.028529  -0.004028    1          3  \n",
              "3     -0.012330  -0.020854  -0.018228   0.023352    1          2  \n",
              "4     -0.013286   0.001660  -0.009420  -0.018993    0          4  \n",
              "...         ...        ...        ...        ...  ...        ...  \n",
              "3328  -0.026875  -0.019898   0.001768   0.009172    1          1  \n",
              "3329  -0.006072  -0.045371  -0.025829  -0.015018    1          2  \n",
              "3330   0.055938   0.052546   0.004331   0.005918    1          1  \n",
              "3331   0.026386  -0.025918   0.007564  -0.008521    0          3  \n",
              "3332   0.031416  -0.003864  -0.008864  -0.002670    1          3  \n",
              "\n",
              "[3333 rows x 547 columns]"
            ],
            "text/html": [
              "\n",
              "  <div id=\"df-44074667-1199-44c6-b7c9-4f9ece6c84d1\">\n",
              "    <div class=\"colab-df-container\">\n",
              "      <div>\n",
              "<style scoped>\n",
              "    .dataframe tbody tr th:only-of-type {\n",
              "        vertical-align: middle;\n",
              "    }\n",
              "\n",
              "    .dataframe tbody tr th {\n",
              "        vertical-align: top;\n",
              "    }\n",
              "\n",
              "    .dataframe thead th {\n",
              "        text-align: right;\n",
              "    }\n",
              "</style>\n",
              "<table border=\"1\" class=\"dataframe\">\n",
              "  <thead>\n",
              "    <tr style=\"text-align: right;\">\n",
              "      <th></th>\n",
              "      <th>Unnamed: 0</th>\n",
              "      <th>mfcc_0</th>\n",
              "      <th>mfcc_1</th>\n",
              "      <th>mfcc_2</th>\n",
              "      <th>mfcc_3</th>\n",
              "      <th>mfcc_4</th>\n",
              "      <th>mfcc_5</th>\n",
              "      <th>mfcc_6</th>\n",
              "      <th>mfcc_7</th>\n",
              "      <th>mfcc_8</th>\n",
              "      <th>...</th>\n",
              "      <th>tempogram_382</th>\n",
              "      <th>tempogram_383</th>\n",
              "      <th>tonnetz_0</th>\n",
              "      <th>tonnetz_1</th>\n",
              "      <th>tonnetz_2</th>\n",
              "      <th>tonnetz_3</th>\n",
              "      <th>tonnetz_4</th>\n",
              "      <th>tonnetz_5</th>\n",
              "      <th>sex</th>\n",
              "      <th>emotionID</th>\n",
              "    </tr>\n",
              "  </thead>\n",
              "  <tbody>\n",
              "    <tr>\n",
              "      <th>0</th>\n",
              "      <td>C:/Users/vcc/Desktop/project ml/voice/9344.wav</td>\n",
              "      <td>-505.86703</td>\n",
              "      <td>90.927670</td>\n",
              "      <td>50.811844</td>\n",
              "      <td>46.253925</td>\n",
              "      <td>21.828745</td>\n",
              "      <td>18.075613</td>\n",
              "      <td>3.674863</td>\n",
              "      <td>-3.278383</td>\n",
              "      <td>4.984287</td>\n",
              "      <td>...</td>\n",
              "      <td>1.753767e-17</td>\n",
              "      <td>2.565021e-17</td>\n",
              "      <td>0.074273</td>\n",
              "      <td>0.045284</td>\n",
              "      <td>0.173617</td>\n",
              "      <td>-0.021284</td>\n",
              "      <td>0.002736</td>\n",
              "      <td>-0.035215</td>\n",
              "      <td>1</td>\n",
              "      <td>3</td>\n",
              "    </tr>\n",
              "    <tr>\n",
              "      <th>1</th>\n",
              "      <td>C:/Users/vcc/Desktop/project ml/voice/12547.wav</td>\n",
              "      <td>-415.33710</td>\n",
              "      <td>96.606150</td>\n",
              "      <td>25.525356</td>\n",
              "      <td>31.204031</td>\n",
              "      <td>-5.861326</td>\n",
              "      <td>8.170014</td>\n",
              "      <td>-8.523556</td>\n",
              "      <td>-0.566638</td>\n",
              "      <td>-9.987669</td>\n",
              "      <td>...</td>\n",
              "      <td>1.068843e-17</td>\n",
              "      <td>2.590136e-17</td>\n",
              "      <td>-0.052392</td>\n",
              "      <td>-0.009066</td>\n",
              "      <td>-0.036222</td>\n",
              "      <td>0.096223</td>\n",
              "      <td>0.007650</td>\n",
              "      <td>0.002427</td>\n",
              "      <td>1</td>\n",
              "      <td>2</td>\n",
              "    </tr>\n",
              "    <tr>\n",
              "      <th>2</th>\n",
              "      <td>C:/Users/vcc/Desktop/project ml/voice/11416.wav</td>\n",
              "      <td>-394.90335</td>\n",
              "      <td>115.636820</td>\n",
              "      <td>8.155794</td>\n",
              "      <td>20.469270</td>\n",
              "      <td>2.609663</td>\n",
              "      <td>16.974703</td>\n",
              "      <td>-21.057484</td>\n",
              "      <td>15.903380</td>\n",
              "      <td>-10.881305</td>\n",
              "      <td>...</td>\n",
              "      <td>1.265895e-17</td>\n",
              "      <td>2.381629e-17</td>\n",
              "      <td>-0.005245</td>\n",
              "      <td>-0.046894</td>\n",
              "      <td>-0.032342</td>\n",
              "      <td>0.023598</td>\n",
              "      <td>0.028529</td>\n",
              "      <td>-0.004028</td>\n",
              "      <td>1</td>\n",
              "      <td>3</td>\n",
              "    </tr>\n",
              "    <tr>\n",
              "      <th>3</th>\n",
              "      <td>C:/Users/vcc/Desktop/project ml/voice/13091.wav</td>\n",
              "      <td>-211.31772</td>\n",
              "      <td>133.582140</td>\n",
              "      <td>-25.216316</td>\n",
              "      <td>12.453365</td>\n",
              "      <td>-31.373760</td>\n",
              "      <td>5.483029</td>\n",
              "      <td>-14.456090</td>\n",
              "      <td>-24.726824</td>\n",
              "      <td>-11.366259</td>\n",
              "      <td>...</td>\n",
              "      <td>6.409966e-18</td>\n",
              "      <td>-8.634525e-19</td>\n",
              "      <td>-0.005213</td>\n",
              "      <td>-0.041483</td>\n",
              "      <td>-0.012330</td>\n",
              "      <td>-0.020854</td>\n",
              "      <td>-0.018228</td>\n",
              "      <td>0.023352</td>\n",
              "      <td>1</td>\n",
              "      <td>2</td>\n",
              "    </tr>\n",
              "    <tr>\n",
              "      <th>4</th>\n",
              "      <td>C:/Users/vcc/Desktop/project ml/voice/15864.wav</td>\n",
              "      <td>-463.76688</td>\n",
              "      <td>130.353880</td>\n",
              "      <td>-0.246942</td>\n",
              "      <td>23.904879</td>\n",
              "      <td>1.496812</td>\n",
              "      <td>10.103725</td>\n",
              "      <td>-22.894894</td>\n",
              "      <td>6.832997</td>\n",
              "      <td>-8.986013</td>\n",
              "      <td>...</td>\n",
              "      <td>1.449830e-17</td>\n",
              "      <td>2.280265e-17</td>\n",
              "      <td>0.006945</td>\n",
              "      <td>0.050537</td>\n",
              "      <td>-0.013286</td>\n",
              "      <td>0.001660</td>\n",
              "      <td>-0.009420</td>\n",
              "      <td>-0.018993</td>\n",
              "      <td>0</td>\n",
              "      <td>4</td>\n",
              "    </tr>\n",
              "    <tr>\n",
              "      <th>...</th>\n",
              "      <td>...</td>\n",
              "      <td>...</td>\n",
              "      <td>...</td>\n",
              "      <td>...</td>\n",
              "      <td>...</td>\n",
              "      <td>...</td>\n",
              "      <td>...</td>\n",
              "      <td>...</td>\n",
              "      <td>...</td>\n",
              "      <td>...</td>\n",
              "      <td>...</td>\n",
              "      <td>...</td>\n",
              "      <td>...</td>\n",
              "      <td>...</td>\n",
              "      <td>...</td>\n",
              "      <td>...</td>\n",
              "      <td>...</td>\n",
              "      <td>...</td>\n",
              "      <td>...</td>\n",
              "      <td>...</td>\n",
              "      <td>...</td>\n",
              "    </tr>\n",
              "    <tr>\n",
              "      <th>3328</th>\n",
              "      <td>C:/Users/vcc/Desktop/project ml/voice/415.wav</td>\n",
              "      <td>-520.99010</td>\n",
              "      <td>76.673530</td>\n",
              "      <td>-13.955746</td>\n",
              "      <td>28.225765</td>\n",
              "      <td>-0.103527</td>\n",
              "      <td>-20.673664</td>\n",
              "      <td>-14.641736</td>\n",
              "      <td>7.766248</td>\n",
              "      <td>-9.842073</td>\n",
              "      <td>...</td>\n",
              "      <td>-4.578098e-18</td>\n",
              "      <td>1.398697e-18</td>\n",
              "      <td>-0.010583</td>\n",
              "      <td>-0.004469</td>\n",
              "      <td>-0.026875</td>\n",
              "      <td>-0.019898</td>\n",
              "      <td>0.001768</td>\n",
              "      <td>0.009172</td>\n",
              "      <td>1</td>\n",
              "      <td>1</td>\n",
              "    </tr>\n",
              "    <tr>\n",
              "      <th>3329</th>\n",
              "      <td>C:/Users/vcc/Desktop/project ml/voice/9548.wav</td>\n",
              "      <td>-363.66486</td>\n",
              "      <td>121.069305</td>\n",
              "      <td>-6.165410</td>\n",
              "      <td>23.450203</td>\n",
              "      <td>-3.538832</td>\n",
              "      <td>-0.146308</td>\n",
              "      <td>-4.288898</td>\n",
              "      <td>-6.522939</td>\n",
              "      <td>-14.068184</td>\n",
              "      <td>...</td>\n",
              "      <td>2.840874e-17</td>\n",
              "      <td>4.070046e-17</td>\n",
              "      <td>0.039948</td>\n",
              "      <td>0.030738</td>\n",
              "      <td>-0.006072</td>\n",
              "      <td>-0.045371</td>\n",
              "      <td>-0.025829</td>\n",
              "      <td>-0.015018</td>\n",
              "      <td>1</td>\n",
              "      <td>2</td>\n",
              "    </tr>\n",
              "    <tr>\n",
              "      <th>3330</th>\n",
              "      <td>C:/Users/vcc/Desktop/project ml/voice/5933.wav</td>\n",
              "      <td>-392.01880</td>\n",
              "      <td>108.106830</td>\n",
              "      <td>-2.740813</td>\n",
              "      <td>23.881542</td>\n",
              "      <td>-5.648860</td>\n",
              "      <td>3.114533</td>\n",
              "      <td>-10.559357</td>\n",
              "      <td>3.632669</td>\n",
              "      <td>-8.072955</td>\n",
              "      <td>...</td>\n",
              "      <td>5.926913e-17</td>\n",
              "      <td>7.656482e-17</td>\n",
              "      <td>0.009681</td>\n",
              "      <td>0.019442</td>\n",
              "      <td>0.055938</td>\n",
              "      <td>0.052546</td>\n",
              "      <td>0.004331</td>\n",
              "      <td>0.005918</td>\n",
              "      <td>1</td>\n",
              "      <td>1</td>\n",
              "    </tr>\n",
              "    <tr>\n",
              "      <th>3331</th>\n",
              "      <td>C:/Users/vcc/Desktop/project ml/voice/5635.wav</td>\n",
              "      <td>-335.09702</td>\n",
              "      <td>97.686615</td>\n",
              "      <td>0.157730</td>\n",
              "      <td>40.329950</td>\n",
              "      <td>-8.645594</td>\n",
              "      <td>25.945732</td>\n",
              "      <td>-2.471781</td>\n",
              "      <td>-3.563193</td>\n",
              "      <td>-0.374251</td>\n",
              "      <td>...</td>\n",
              "      <td>1.973473e-17</td>\n",
              "      <td>2.774610e-17</td>\n",
              "      <td>0.037246</td>\n",
              "      <td>0.025011</td>\n",
              "      <td>0.026386</td>\n",
              "      <td>-0.025918</td>\n",
              "      <td>0.007564</td>\n",
              "      <td>-0.008521</td>\n",
              "      <td>0</td>\n",
              "      <td>3</td>\n",
              "    </tr>\n",
              "    <tr>\n",
              "      <th>3332</th>\n",
              "      <td>C:/Users/vcc/Desktop/project ml/voice/2077.wav</td>\n",
              "      <td>-579.15686</td>\n",
              "      <td>49.359300</td>\n",
              "      <td>14.313977</td>\n",
              "      <td>14.504559</td>\n",
              "      <td>4.230345</td>\n",
              "      <td>-3.542368</td>\n",
              "      <td>-1.247210</td>\n",
              "      <td>-0.642427</td>\n",
              "      <td>-5.903124</td>\n",
              "      <td>...</td>\n",
              "      <td>-4.227222e-18</td>\n",
              "      <td>6.376488e-18</td>\n",
              "      <td>-0.003626</td>\n",
              "      <td>-0.003880</td>\n",
              "      <td>0.031416</td>\n",
              "      <td>-0.003864</td>\n",
              "      <td>-0.008864</td>\n",
              "      <td>-0.002670</td>\n",
              "      <td>1</td>\n",
              "      <td>3</td>\n",
              "    </tr>\n",
              "  </tbody>\n",
              "</table>\n",
              "<p>3333 rows × 547 columns</p>\n",
              "</div>\n",
              "      <button class=\"colab-df-convert\" onclick=\"convertToInteractive('df-44074667-1199-44c6-b7c9-4f9ece6c84d1')\"\n",
              "              title=\"Convert this dataframe to an interactive table.\"\n",
              "              style=\"display:none;\">\n",
              "        \n",
              "  <svg xmlns=\"http://www.w3.org/2000/svg\" height=\"24px\"viewBox=\"0 0 24 24\"\n",
              "       width=\"24px\">\n",
              "    <path d=\"M0 0h24v24H0V0z\" fill=\"none\"/>\n",
              "    <path d=\"M18.56 5.44l.94 2.06.94-2.06 2.06-.94-2.06-.94-.94-2.06-.94 2.06-2.06.94zm-11 1L8.5 8.5l.94-2.06 2.06-.94-2.06-.94L8.5 2.5l-.94 2.06-2.06.94zm10 10l.94 2.06.94-2.06 2.06-.94-2.06-.94-.94-2.06-.94 2.06-2.06.94z\"/><path d=\"M17.41 7.96l-1.37-1.37c-.4-.4-.92-.59-1.43-.59-.52 0-1.04.2-1.43.59L10.3 9.45l-7.72 7.72c-.78.78-.78 2.05 0 2.83L4 21.41c.39.39.9.59 1.41.59.51 0 1.02-.2 1.41-.59l7.78-7.78 2.81-2.81c.8-.78.8-2.07 0-2.86zM5.41 20L4 18.59l7.72-7.72 1.47 1.35L5.41 20z\"/>\n",
              "  </svg>\n",
              "      </button>\n",
              "      \n",
              "  <style>\n",
              "    .colab-df-container {\n",
              "      display:flex;\n",
              "      flex-wrap:wrap;\n",
              "      gap: 12px;\n",
              "    }\n",
              "\n",
              "    .colab-df-convert {\n",
              "      background-color: #E8F0FE;\n",
              "      border: none;\n",
              "      border-radius: 50%;\n",
              "      cursor: pointer;\n",
              "      display: none;\n",
              "      fill: #1967D2;\n",
              "      height: 32px;\n",
              "      padding: 0 0 0 0;\n",
              "      width: 32px;\n",
              "    }\n",
              "\n",
              "    .colab-df-convert:hover {\n",
              "      background-color: #E2EBFA;\n",
              "      box-shadow: 0px 1px 2px rgba(60, 64, 67, 0.3), 0px 1px 3px 1px rgba(60, 64, 67, 0.15);\n",
              "      fill: #174EA6;\n",
              "    }\n",
              "\n",
              "    [theme=dark] .colab-df-convert {\n",
              "      background-color: #3B4455;\n",
              "      fill: #D2E3FC;\n",
              "    }\n",
              "\n",
              "    [theme=dark] .colab-df-convert:hover {\n",
              "      background-color: #434B5C;\n",
              "      box-shadow: 0px 1px 3px 1px rgba(0, 0, 0, 0.15);\n",
              "      filter: drop-shadow(0px 1px 2px rgba(0, 0, 0, 0.3));\n",
              "      fill: #FFFFFF;\n",
              "    }\n",
              "  </style>\n",
              "\n",
              "      <script>\n",
              "        const buttonEl =\n",
              "          document.querySelector('#df-44074667-1199-44c6-b7c9-4f9ece6c84d1 button.colab-df-convert');\n",
              "        buttonEl.style.display =\n",
              "          google.colab.kernel.accessAllowed ? 'block' : 'none';\n",
              "\n",
              "        async function convertToInteractive(key) {\n",
              "          const element = document.querySelector('#df-44074667-1199-44c6-b7c9-4f9ece6c84d1');\n",
              "          const dataTable =\n",
              "            await google.colab.kernel.invokeFunction('convertToInteractive',\n",
              "                                                     [key], {});\n",
              "          if (!dataTable) return;\n",
              "\n",
              "          const docLinkHtml = 'Like what you see? Visit the ' +\n",
              "            '<a target=\"_blank\" href=https://colab.research.google.com/notebooks/data_table.ipynb>data table notebook</a>'\n",
              "            + ' to learn more about interactive tables.';\n",
              "          element.innerHTML = '';\n",
              "          dataTable['output_type'] = 'display_data';\n",
              "          await google.colab.output.renderOutput(dataTable, element);\n",
              "          const docLink = document.createElement('div');\n",
              "          docLink.innerHTML = docLinkHtml;\n",
              "          element.appendChild(docLink);\n",
              "        }\n",
              "      </script>\n",
              "    </div>\n",
              "  </div>\n",
              "  "
            ]
          },
          "metadata": {},
          "execution_count": 4
        }
      ]
    },
    {
      "cell_type": "code",
      "source": [
        "df=pd.read_csv('/content/drive/MyDrive/Colab Notebooks/model2/model2_csv/Val2.csv')\n",
        "train=pd.read_csv('/content/drive/MyDrive/Colab Notebooks/model2/model2_excel/Validation2.csv')\n",
        "emotion_train = train[\"emotionID\"]\n",
        "set(emotion_train)\n",
        "result = pd.concat([df, train[\"sex\"],emotion_train], axis=1)\n",
        "df_val=result.drop(columns=[\"target\"])\n",
        "df_val[\"sex\"].replace({\"f\": 0, \"m\": 1}, inplace=True)\n",
        "df_val"
      ],
      "metadata": {
        "colab": {
          "base_uri": "https://localhost:8080/",
          "height": 661
        },
        "id": "eGiPvIOfM5KL",
        "outputId": "c84b3569-eef7-4977-9783-233d261a9769"
      },
      "execution_count": 5,
      "outputs": [
        {
          "output_type": "execute_result",
          "data": {
            "text/plain": [
              "                                           Unnamed: 0     mfcc_0      mfcc_1  \\\n",
              "0      C:/Users/vcc/Desktop/project ml/voice/6832.wav -488.58350  125.363884   \n",
              "1      C:/Users/vcc/Desktop/project ml/voice/7611.wav -566.28910  125.519900   \n",
              "2     C:/Users/vcc/Desktop/project ml/voice/13210.wav -290.08643   74.740100   \n",
              "3      C:/Users/vcc/Desktop/project ml/voice/9354.wav -435.74634   78.541080   \n",
              "4      C:/Users/vcc/Desktop/project ml/voice/8606.wav -465.05390   60.186516   \n",
              "...                                               ...        ...         ...   \n",
              "1328  C:/Users/vcc/Desktop/project ml/voice/15239.wav -496.83182   94.452484   \n",
              "1329  C:/Users/vcc/Desktop/project ml/voice/12224.wav -469.32635   80.955300   \n",
              "1330  C:/Users/vcc/Desktop/project ml/voice/11510.wav -478.77884  111.673510   \n",
              "1331    C:/Users/vcc/Desktop/project ml/voice/371.wav -309.57825  116.987755   \n",
              "1332    C:/Users/vcc/Desktop/project ml/voice/635.wav -370.82755   74.999700   \n",
              "\n",
              "         mfcc_2     mfcc_3     mfcc_4     mfcc_5     mfcc_6     mfcc_7  \\\n",
              "0    -12.504966  37.198204  -2.702445  -5.722758 -12.373598   2.467718   \n",
              "1     17.920944  38.151070   7.487829   0.276249   4.609295  -5.386468   \n",
              "2      8.774795 -14.485182 -27.042484 -16.336575 -22.957893 -13.053991   \n",
              "3     14.673229  12.379173   0.282971   8.887095   8.048609  -6.324754   \n",
              "4      2.840247   4.360996  -7.749868 -15.018993 -12.471092   2.004046   \n",
              "...         ...        ...        ...        ...        ...        ...   \n",
              "1328 -14.680283  30.726557  -6.597310  27.247398 -12.261194   6.138174   \n",
              "1329   1.178256  21.138077   0.469207   5.897948  -3.527771  -2.625922   \n",
              "1330  44.104317  19.154287   7.983385  19.212233  17.093990   9.567336   \n",
              "1331 -39.851376  -0.554212  11.380273   7.968697 -21.223793   1.485160   \n",
              "1332  15.605786   4.136265   9.415189   4.758561   1.690024  -1.111040   \n",
              "\n",
              "         mfcc_8  ...  tempogram_382  tempogram_383  tonnetz_0  tonnetz_1  \\\n",
              "0    -15.723393  ...   1.008299e-17   2.442923e-17  -0.010529   0.009685   \n",
              "1      0.870111  ...   2.162346e-17   3.703701e-17  -0.044944   0.045926   \n",
              "2    -13.188375  ...   8.787469e-18   2.766792e-18   0.025363  -0.033435   \n",
              "3     -5.481674  ...   5.739300e-18   1.162928e-17   0.032007   0.030585   \n",
              "4     -0.175942  ...  -4.158133e-18  -8.077788e-19   0.009873  -0.074426   \n",
              "...         ...  ...            ...            ...        ...        ...   \n",
              "1328   2.913280  ...   3.106750e-17   3.391439e-17   0.036700   0.029420   \n",
              "1329  -0.853007  ...   3.801361e-17   4.132647e-17  -0.031110   0.017098   \n",
              "1330  -5.685280  ...   5.162369e-18   1.481872e-17   0.044655  -0.023754   \n",
              "1331 -28.879356  ...   2.628038e-18  -6.710867e-18  -0.035682   0.060960   \n",
              "1332  -7.639019  ...   1.180451e-17   3.179636e-18   0.015843  -0.023677   \n",
              "\n",
              "      tonnetz_2  tonnetz_3  tonnetz_4  tonnetz_5  sex  emotionID  \n",
              "0     -0.045360  -0.005832  -0.014860  -0.006074    0          4  \n",
              "1      0.053722  -0.003690   0.030615  -0.040445    0          3  \n",
              "2      0.006269  -0.064963  -0.006925  -0.015261    0          1  \n",
              "3      0.013155  -0.043434  -0.000372   0.002547    1          1  \n",
              "4      0.000372  -0.102519   0.002005   0.048481    0          2  \n",
              "...         ...        ...        ...        ...  ...        ...  \n",
              "1328   0.041282  -0.068457   0.042870   0.017423    0          3  \n",
              "1329  -0.014034  -0.002092  -0.025279  -0.015825    0          3  \n",
              "1330  -0.024227   0.035210   0.037692  -0.028760    1          1  \n",
              "1331  -0.056425  -0.052387   0.032046  -0.022562    0          1  \n",
              "1332  -0.033799   0.026843   0.021130   0.004556    0          1  \n",
              "\n",
              "[1333 rows x 547 columns]"
            ],
            "text/html": [
              "\n",
              "  <div id=\"df-f3218695-7ed9-4321-947a-444f54f867ad\">\n",
              "    <div class=\"colab-df-container\">\n",
              "      <div>\n",
              "<style scoped>\n",
              "    .dataframe tbody tr th:only-of-type {\n",
              "        vertical-align: middle;\n",
              "    }\n",
              "\n",
              "    .dataframe tbody tr th {\n",
              "        vertical-align: top;\n",
              "    }\n",
              "\n",
              "    .dataframe thead th {\n",
              "        text-align: right;\n",
              "    }\n",
              "</style>\n",
              "<table border=\"1\" class=\"dataframe\">\n",
              "  <thead>\n",
              "    <tr style=\"text-align: right;\">\n",
              "      <th></th>\n",
              "      <th>Unnamed: 0</th>\n",
              "      <th>mfcc_0</th>\n",
              "      <th>mfcc_1</th>\n",
              "      <th>mfcc_2</th>\n",
              "      <th>mfcc_3</th>\n",
              "      <th>mfcc_4</th>\n",
              "      <th>mfcc_5</th>\n",
              "      <th>mfcc_6</th>\n",
              "      <th>mfcc_7</th>\n",
              "      <th>mfcc_8</th>\n",
              "      <th>...</th>\n",
              "      <th>tempogram_382</th>\n",
              "      <th>tempogram_383</th>\n",
              "      <th>tonnetz_0</th>\n",
              "      <th>tonnetz_1</th>\n",
              "      <th>tonnetz_2</th>\n",
              "      <th>tonnetz_3</th>\n",
              "      <th>tonnetz_4</th>\n",
              "      <th>tonnetz_5</th>\n",
              "      <th>sex</th>\n",
              "      <th>emotionID</th>\n",
              "    </tr>\n",
              "  </thead>\n",
              "  <tbody>\n",
              "    <tr>\n",
              "      <th>0</th>\n",
              "      <td>C:/Users/vcc/Desktop/project ml/voice/6832.wav</td>\n",
              "      <td>-488.58350</td>\n",
              "      <td>125.363884</td>\n",
              "      <td>-12.504966</td>\n",
              "      <td>37.198204</td>\n",
              "      <td>-2.702445</td>\n",
              "      <td>-5.722758</td>\n",
              "      <td>-12.373598</td>\n",
              "      <td>2.467718</td>\n",
              "      <td>-15.723393</td>\n",
              "      <td>...</td>\n",
              "      <td>1.008299e-17</td>\n",
              "      <td>2.442923e-17</td>\n",
              "      <td>-0.010529</td>\n",
              "      <td>0.009685</td>\n",
              "      <td>-0.045360</td>\n",
              "      <td>-0.005832</td>\n",
              "      <td>-0.014860</td>\n",
              "      <td>-0.006074</td>\n",
              "      <td>0</td>\n",
              "      <td>4</td>\n",
              "    </tr>\n",
              "    <tr>\n",
              "      <th>1</th>\n",
              "      <td>C:/Users/vcc/Desktop/project ml/voice/7611.wav</td>\n",
              "      <td>-566.28910</td>\n",
              "      <td>125.519900</td>\n",
              "      <td>17.920944</td>\n",
              "      <td>38.151070</td>\n",
              "      <td>7.487829</td>\n",
              "      <td>0.276249</td>\n",
              "      <td>4.609295</td>\n",
              "      <td>-5.386468</td>\n",
              "      <td>0.870111</td>\n",
              "      <td>...</td>\n",
              "      <td>2.162346e-17</td>\n",
              "      <td>3.703701e-17</td>\n",
              "      <td>-0.044944</td>\n",
              "      <td>0.045926</td>\n",
              "      <td>0.053722</td>\n",
              "      <td>-0.003690</td>\n",
              "      <td>0.030615</td>\n",
              "      <td>-0.040445</td>\n",
              "      <td>0</td>\n",
              "      <td>3</td>\n",
              "    </tr>\n",
              "    <tr>\n",
              "      <th>2</th>\n",
              "      <td>C:/Users/vcc/Desktop/project ml/voice/13210.wav</td>\n",
              "      <td>-290.08643</td>\n",
              "      <td>74.740100</td>\n",
              "      <td>8.774795</td>\n",
              "      <td>-14.485182</td>\n",
              "      <td>-27.042484</td>\n",
              "      <td>-16.336575</td>\n",
              "      <td>-22.957893</td>\n",
              "      <td>-13.053991</td>\n",
              "      <td>-13.188375</td>\n",
              "      <td>...</td>\n",
              "      <td>8.787469e-18</td>\n",
              "      <td>2.766792e-18</td>\n",
              "      <td>0.025363</td>\n",
              "      <td>-0.033435</td>\n",
              "      <td>0.006269</td>\n",
              "      <td>-0.064963</td>\n",
              "      <td>-0.006925</td>\n",
              "      <td>-0.015261</td>\n",
              "      <td>0</td>\n",
              "      <td>1</td>\n",
              "    </tr>\n",
              "    <tr>\n",
              "      <th>3</th>\n",
              "      <td>C:/Users/vcc/Desktop/project ml/voice/9354.wav</td>\n",
              "      <td>-435.74634</td>\n",
              "      <td>78.541080</td>\n",
              "      <td>14.673229</td>\n",
              "      <td>12.379173</td>\n",
              "      <td>0.282971</td>\n",
              "      <td>8.887095</td>\n",
              "      <td>8.048609</td>\n",
              "      <td>-6.324754</td>\n",
              "      <td>-5.481674</td>\n",
              "      <td>...</td>\n",
              "      <td>5.739300e-18</td>\n",
              "      <td>1.162928e-17</td>\n",
              "      <td>0.032007</td>\n",
              "      <td>0.030585</td>\n",
              "      <td>0.013155</td>\n",
              "      <td>-0.043434</td>\n",
              "      <td>-0.000372</td>\n",
              "      <td>0.002547</td>\n",
              "      <td>1</td>\n",
              "      <td>1</td>\n",
              "    </tr>\n",
              "    <tr>\n",
              "      <th>4</th>\n",
              "      <td>C:/Users/vcc/Desktop/project ml/voice/8606.wav</td>\n",
              "      <td>-465.05390</td>\n",
              "      <td>60.186516</td>\n",
              "      <td>2.840247</td>\n",
              "      <td>4.360996</td>\n",
              "      <td>-7.749868</td>\n",
              "      <td>-15.018993</td>\n",
              "      <td>-12.471092</td>\n",
              "      <td>2.004046</td>\n",
              "      <td>-0.175942</td>\n",
              "      <td>...</td>\n",
              "      <td>-4.158133e-18</td>\n",
              "      <td>-8.077788e-19</td>\n",
              "      <td>0.009873</td>\n",
              "      <td>-0.074426</td>\n",
              "      <td>0.000372</td>\n",
              "      <td>-0.102519</td>\n",
              "      <td>0.002005</td>\n",
              "      <td>0.048481</td>\n",
              "      <td>0</td>\n",
              "      <td>2</td>\n",
              "    </tr>\n",
              "    <tr>\n",
              "      <th>...</th>\n",
              "      <td>...</td>\n",
              "      <td>...</td>\n",
              "      <td>...</td>\n",
              "      <td>...</td>\n",
              "      <td>...</td>\n",
              "      <td>...</td>\n",
              "      <td>...</td>\n",
              "      <td>...</td>\n",
              "      <td>...</td>\n",
              "      <td>...</td>\n",
              "      <td>...</td>\n",
              "      <td>...</td>\n",
              "      <td>...</td>\n",
              "      <td>...</td>\n",
              "      <td>...</td>\n",
              "      <td>...</td>\n",
              "      <td>...</td>\n",
              "      <td>...</td>\n",
              "      <td>...</td>\n",
              "      <td>...</td>\n",
              "      <td>...</td>\n",
              "    </tr>\n",
              "    <tr>\n",
              "      <th>1328</th>\n",
              "      <td>C:/Users/vcc/Desktop/project ml/voice/15239.wav</td>\n",
              "      <td>-496.83182</td>\n",
              "      <td>94.452484</td>\n",
              "      <td>-14.680283</td>\n",
              "      <td>30.726557</td>\n",
              "      <td>-6.597310</td>\n",
              "      <td>27.247398</td>\n",
              "      <td>-12.261194</td>\n",
              "      <td>6.138174</td>\n",
              "      <td>2.913280</td>\n",
              "      <td>...</td>\n",
              "      <td>3.106750e-17</td>\n",
              "      <td>3.391439e-17</td>\n",
              "      <td>0.036700</td>\n",
              "      <td>0.029420</td>\n",
              "      <td>0.041282</td>\n",
              "      <td>-0.068457</td>\n",
              "      <td>0.042870</td>\n",
              "      <td>0.017423</td>\n",
              "      <td>0</td>\n",
              "      <td>3</td>\n",
              "    </tr>\n",
              "    <tr>\n",
              "      <th>1329</th>\n",
              "      <td>C:/Users/vcc/Desktop/project ml/voice/12224.wav</td>\n",
              "      <td>-469.32635</td>\n",
              "      <td>80.955300</td>\n",
              "      <td>1.178256</td>\n",
              "      <td>21.138077</td>\n",
              "      <td>0.469207</td>\n",
              "      <td>5.897948</td>\n",
              "      <td>-3.527771</td>\n",
              "      <td>-2.625922</td>\n",
              "      <td>-0.853007</td>\n",
              "      <td>...</td>\n",
              "      <td>3.801361e-17</td>\n",
              "      <td>4.132647e-17</td>\n",
              "      <td>-0.031110</td>\n",
              "      <td>0.017098</td>\n",
              "      <td>-0.014034</td>\n",
              "      <td>-0.002092</td>\n",
              "      <td>-0.025279</td>\n",
              "      <td>-0.015825</td>\n",
              "      <td>0</td>\n",
              "      <td>3</td>\n",
              "    </tr>\n",
              "    <tr>\n",
              "      <th>1330</th>\n",
              "      <td>C:/Users/vcc/Desktop/project ml/voice/11510.wav</td>\n",
              "      <td>-478.77884</td>\n",
              "      <td>111.673510</td>\n",
              "      <td>44.104317</td>\n",
              "      <td>19.154287</td>\n",
              "      <td>7.983385</td>\n",
              "      <td>19.212233</td>\n",
              "      <td>17.093990</td>\n",
              "      <td>9.567336</td>\n",
              "      <td>-5.685280</td>\n",
              "      <td>...</td>\n",
              "      <td>5.162369e-18</td>\n",
              "      <td>1.481872e-17</td>\n",
              "      <td>0.044655</td>\n",
              "      <td>-0.023754</td>\n",
              "      <td>-0.024227</td>\n",
              "      <td>0.035210</td>\n",
              "      <td>0.037692</td>\n",
              "      <td>-0.028760</td>\n",
              "      <td>1</td>\n",
              "      <td>1</td>\n",
              "    </tr>\n",
              "    <tr>\n",
              "      <th>1331</th>\n",
              "      <td>C:/Users/vcc/Desktop/project ml/voice/371.wav</td>\n",
              "      <td>-309.57825</td>\n",
              "      <td>116.987755</td>\n",
              "      <td>-39.851376</td>\n",
              "      <td>-0.554212</td>\n",
              "      <td>11.380273</td>\n",
              "      <td>7.968697</td>\n",
              "      <td>-21.223793</td>\n",
              "      <td>1.485160</td>\n",
              "      <td>-28.879356</td>\n",
              "      <td>...</td>\n",
              "      <td>2.628038e-18</td>\n",
              "      <td>-6.710867e-18</td>\n",
              "      <td>-0.035682</td>\n",
              "      <td>0.060960</td>\n",
              "      <td>-0.056425</td>\n",
              "      <td>-0.052387</td>\n",
              "      <td>0.032046</td>\n",
              "      <td>-0.022562</td>\n",
              "      <td>0</td>\n",
              "      <td>1</td>\n",
              "    </tr>\n",
              "    <tr>\n",
              "      <th>1332</th>\n",
              "      <td>C:/Users/vcc/Desktop/project ml/voice/635.wav</td>\n",
              "      <td>-370.82755</td>\n",
              "      <td>74.999700</td>\n",
              "      <td>15.605786</td>\n",
              "      <td>4.136265</td>\n",
              "      <td>9.415189</td>\n",
              "      <td>4.758561</td>\n",
              "      <td>1.690024</td>\n",
              "      <td>-1.111040</td>\n",
              "      <td>-7.639019</td>\n",
              "      <td>...</td>\n",
              "      <td>1.180451e-17</td>\n",
              "      <td>3.179636e-18</td>\n",
              "      <td>0.015843</td>\n",
              "      <td>-0.023677</td>\n",
              "      <td>-0.033799</td>\n",
              "      <td>0.026843</td>\n",
              "      <td>0.021130</td>\n",
              "      <td>0.004556</td>\n",
              "      <td>0</td>\n",
              "      <td>1</td>\n",
              "    </tr>\n",
              "  </tbody>\n",
              "</table>\n",
              "<p>1333 rows × 547 columns</p>\n",
              "</div>\n",
              "      <button class=\"colab-df-convert\" onclick=\"convertToInteractive('df-f3218695-7ed9-4321-947a-444f54f867ad')\"\n",
              "              title=\"Convert this dataframe to an interactive table.\"\n",
              "              style=\"display:none;\">\n",
              "        \n",
              "  <svg xmlns=\"http://www.w3.org/2000/svg\" height=\"24px\"viewBox=\"0 0 24 24\"\n",
              "       width=\"24px\">\n",
              "    <path d=\"M0 0h24v24H0V0z\" fill=\"none\"/>\n",
              "    <path d=\"M18.56 5.44l.94 2.06.94-2.06 2.06-.94-2.06-.94-.94-2.06-.94 2.06-2.06.94zm-11 1L8.5 8.5l.94-2.06 2.06-.94-2.06-.94L8.5 2.5l-.94 2.06-2.06.94zm10 10l.94 2.06.94-2.06 2.06-.94-2.06-.94-.94-2.06-.94 2.06-2.06.94z\"/><path d=\"M17.41 7.96l-1.37-1.37c-.4-.4-.92-.59-1.43-.59-.52 0-1.04.2-1.43.59L10.3 9.45l-7.72 7.72c-.78.78-.78 2.05 0 2.83L4 21.41c.39.39.9.59 1.41.59.51 0 1.02-.2 1.41-.59l7.78-7.78 2.81-2.81c.8-.78.8-2.07 0-2.86zM5.41 20L4 18.59l7.72-7.72 1.47 1.35L5.41 20z\"/>\n",
              "  </svg>\n",
              "      </button>\n",
              "      \n",
              "  <style>\n",
              "    .colab-df-container {\n",
              "      display:flex;\n",
              "      flex-wrap:wrap;\n",
              "      gap: 12px;\n",
              "    }\n",
              "\n",
              "    .colab-df-convert {\n",
              "      background-color: #E8F0FE;\n",
              "      border: none;\n",
              "      border-radius: 50%;\n",
              "      cursor: pointer;\n",
              "      display: none;\n",
              "      fill: #1967D2;\n",
              "      height: 32px;\n",
              "      padding: 0 0 0 0;\n",
              "      width: 32px;\n",
              "    }\n",
              "\n",
              "    .colab-df-convert:hover {\n",
              "      background-color: #E2EBFA;\n",
              "      box-shadow: 0px 1px 2px rgba(60, 64, 67, 0.3), 0px 1px 3px 1px rgba(60, 64, 67, 0.15);\n",
              "      fill: #174EA6;\n",
              "    }\n",
              "\n",
              "    [theme=dark] .colab-df-convert {\n",
              "      background-color: #3B4455;\n",
              "      fill: #D2E3FC;\n",
              "    }\n",
              "\n",
              "    [theme=dark] .colab-df-convert:hover {\n",
              "      background-color: #434B5C;\n",
              "      box-shadow: 0px 1px 3px 1px rgba(0, 0, 0, 0.15);\n",
              "      filter: drop-shadow(0px 1px 2px rgba(0, 0, 0, 0.3));\n",
              "      fill: #FFFFFF;\n",
              "    }\n",
              "  </style>\n",
              "\n",
              "      <script>\n",
              "        const buttonEl =\n",
              "          document.querySelector('#df-f3218695-7ed9-4321-947a-444f54f867ad button.colab-df-convert');\n",
              "        buttonEl.style.display =\n",
              "          google.colab.kernel.accessAllowed ? 'block' : 'none';\n",
              "\n",
              "        async function convertToInteractive(key) {\n",
              "          const element = document.querySelector('#df-f3218695-7ed9-4321-947a-444f54f867ad');\n",
              "          const dataTable =\n",
              "            await google.colab.kernel.invokeFunction('convertToInteractive',\n",
              "                                                     [key], {});\n",
              "          if (!dataTable) return;\n",
              "\n",
              "          const docLinkHtml = 'Like what you see? Visit the ' +\n",
              "            '<a target=\"_blank\" href=https://colab.research.google.com/notebooks/data_table.ipynb>data table notebook</a>'\n",
              "            + ' to learn more about interactive tables.';\n",
              "          element.innerHTML = '';\n",
              "          dataTable['output_type'] = 'display_data';\n",
              "          await google.colab.output.renderOutput(dataTable, element);\n",
              "          const docLink = document.createElement('div');\n",
              "          docLink.innerHTML = docLinkHtml;\n",
              "          element.appendChild(docLink);\n",
              "        }\n",
              "      </script>\n",
              "    </div>\n",
              "  </div>\n",
              "  "
            ]
          },
          "metadata": {},
          "execution_count": 5
        }
      ]
    },
    {
      "cell_type": "code",
      "source": [
        "frames = [df_train, df_val, df_test]\n",
        "\n",
        "df = pd.concat(frames)\n",
        "df"
      ],
      "metadata": {
        "colab": {
          "base_uri": "https://localhost:8080/",
          "height": 661
        },
        "id": "lBYzzoOfNfau",
        "outputId": "7229bf3c-ad93-4a61-ac52-7ecfe56fe0da"
      },
      "execution_count": 15,
      "outputs": [
        {
          "output_type": "execute_result",
          "data": {
            "text/plain": [
              "                                           Unnamed: 0     mfcc_0      mfcc_1  \\\n",
              "0      C:/Users/vcc/Desktop/project ml/voice/9196.wav -364.94345   58.359630   \n",
              "1     C:/Users/vcc/Desktop/project ml/voice/16133.wav -387.11218   92.776024   \n",
              "2      C:/Users/vcc/Desktop/project ml/voice/4156.wav -420.34683  103.964935   \n",
              "3       C:/Users/vcc/Desktop/project ml/voice/203.wav -400.54904  103.331710   \n",
              "4      C:/Users/vcc/Desktop/project ml/voice/4917.wav -216.08072   61.822456   \n",
              "...                                               ...        ...         ...   \n",
              "3328    C:/Users/vcc/Desktop/project ml/voice/415.wav -520.99010   76.673530   \n",
              "3329   C:/Users/vcc/Desktop/project ml/voice/9548.wav -363.66486  121.069305   \n",
              "3330   C:/Users/vcc/Desktop/project ml/voice/5933.wav -392.01880  108.106830   \n",
              "3331   C:/Users/vcc/Desktop/project ml/voice/5635.wav -335.09702   97.686615   \n",
              "3332   C:/Users/vcc/Desktop/project ml/voice/2077.wav -579.15686   49.359300   \n",
              "\n",
              "         mfcc_2     mfcc_3     mfcc_4     mfcc_5     mfcc_6    mfcc_7  \\\n",
              "0      2.820225   5.529991   0.165158  12.045059   1.448689 -5.378034   \n",
              "1    -15.819464  33.206528   1.054645  10.347558  -1.730025  8.410479   \n",
              "2      0.789253  30.104149  -7.518121  10.094464 -19.800411 -1.656142   \n",
              "3     20.483711  29.738617  10.878419   3.691131  -2.093715  9.150126   \n",
              "4     -8.624993  -0.100680 -14.465156 -10.361802   1.479756 -4.632538   \n",
              "...         ...        ...        ...        ...        ...       ...   \n",
              "3328 -13.955746  28.225765  -0.103527 -20.673664 -14.641736  7.766248   \n",
              "3329  -6.165410  23.450203  -3.538832  -0.146308  -4.288898 -6.522939   \n",
              "3330  -2.740813  23.881542  -5.648860   3.114533 -10.559357  3.632669   \n",
              "3331   0.157730  40.329950  -8.645594  25.945732  -2.471781 -3.563193   \n",
              "3332  14.313977  14.504559   4.230345  -3.542368  -1.247210 -0.642427   \n",
              "\n",
              "         mfcc_8  ...  tempogram_382  tempogram_383  tonnetz_0  tonnetz_1  \\\n",
              "0     -9.409033  ...   1.065503e-17   8.264991e-18  -0.010307   0.003076   \n",
              "1      6.219111  ...   2.579631e-17   2.283440e-17  -0.042363   0.042854   \n",
              "2     -7.244540  ...   1.338170e-17   1.390605e-17   0.028776  -0.003118   \n",
              "3      6.001769  ...   3.044141e-17   2.452205e-17  -0.027109  -0.014485   \n",
              "4    -13.703397  ...   1.835793e-18   1.709946e-17  -0.013564   0.011575   \n",
              "...         ...  ...            ...            ...        ...        ...   \n",
              "3328  -9.842073  ...  -4.578098e-18   1.398697e-18  -0.010583  -0.004469   \n",
              "3329 -14.068184  ...   2.840874e-17   4.070046e-17   0.039948   0.030738   \n",
              "3330  -8.072955  ...   5.926913e-17   7.656482e-17   0.009681   0.019442   \n",
              "3331  -0.374251  ...   1.973473e-17   2.774610e-17   0.037246   0.025011   \n",
              "3332  -5.903124  ...  -4.227222e-18   6.376488e-18  -0.003626  -0.003880   \n",
              "\n",
              "      tonnetz_2  tonnetz_3  tonnetz_4  tonnetz_5  sex  emotionID  \n",
              "0      0.022825   0.051463   0.011787  -0.009172    0          3  \n",
              "1     -0.013355  -0.110958   0.025752  -0.025277    0          1  \n",
              "2      0.051828   0.011517   0.004023   0.004716    1          4  \n",
              "3     -0.003280  -0.099250   0.011699  -0.008414    1          4  \n",
              "4     -0.015613   0.009228  -0.005703  -0.003755    1          1  \n",
              "...         ...        ...        ...        ...  ...        ...  \n",
              "3328  -0.026875  -0.019898   0.001768   0.009172    1          1  \n",
              "3329  -0.006072  -0.045371  -0.025829  -0.015018    1          2  \n",
              "3330   0.055938   0.052546   0.004331   0.005918    1          1  \n",
              "3331   0.026386  -0.025918   0.007564  -0.008521    0          3  \n",
              "3332   0.031416  -0.003864  -0.008864  -0.002670    1          3  \n",
              "\n",
              "[16663 rows x 547 columns]"
            ],
            "text/html": [
              "\n",
              "  <div id=\"df-ac102b2e-c0d1-4bdb-96bf-49e9bebaeb61\">\n",
              "    <div class=\"colab-df-container\">\n",
              "      <div>\n",
              "<style scoped>\n",
              "    .dataframe tbody tr th:only-of-type {\n",
              "        vertical-align: middle;\n",
              "    }\n",
              "\n",
              "    .dataframe tbody tr th {\n",
              "        vertical-align: top;\n",
              "    }\n",
              "\n",
              "    .dataframe thead th {\n",
              "        text-align: right;\n",
              "    }\n",
              "</style>\n",
              "<table border=\"1\" class=\"dataframe\">\n",
              "  <thead>\n",
              "    <tr style=\"text-align: right;\">\n",
              "      <th></th>\n",
              "      <th>Unnamed: 0</th>\n",
              "      <th>mfcc_0</th>\n",
              "      <th>mfcc_1</th>\n",
              "      <th>mfcc_2</th>\n",
              "      <th>mfcc_3</th>\n",
              "      <th>mfcc_4</th>\n",
              "      <th>mfcc_5</th>\n",
              "      <th>mfcc_6</th>\n",
              "      <th>mfcc_7</th>\n",
              "      <th>mfcc_8</th>\n",
              "      <th>...</th>\n",
              "      <th>tempogram_382</th>\n",
              "      <th>tempogram_383</th>\n",
              "      <th>tonnetz_0</th>\n",
              "      <th>tonnetz_1</th>\n",
              "      <th>tonnetz_2</th>\n",
              "      <th>tonnetz_3</th>\n",
              "      <th>tonnetz_4</th>\n",
              "      <th>tonnetz_5</th>\n",
              "      <th>sex</th>\n",
              "      <th>emotionID</th>\n",
              "    </tr>\n",
              "  </thead>\n",
              "  <tbody>\n",
              "    <tr>\n",
              "      <th>0</th>\n",
              "      <td>C:/Users/vcc/Desktop/project ml/voice/9196.wav</td>\n",
              "      <td>-364.94345</td>\n",
              "      <td>58.359630</td>\n",
              "      <td>2.820225</td>\n",
              "      <td>5.529991</td>\n",
              "      <td>0.165158</td>\n",
              "      <td>12.045059</td>\n",
              "      <td>1.448689</td>\n",
              "      <td>-5.378034</td>\n",
              "      <td>-9.409033</td>\n",
              "      <td>...</td>\n",
              "      <td>1.065503e-17</td>\n",
              "      <td>8.264991e-18</td>\n",
              "      <td>-0.010307</td>\n",
              "      <td>0.003076</td>\n",
              "      <td>0.022825</td>\n",
              "      <td>0.051463</td>\n",
              "      <td>0.011787</td>\n",
              "      <td>-0.009172</td>\n",
              "      <td>0</td>\n",
              "      <td>3</td>\n",
              "    </tr>\n",
              "    <tr>\n",
              "      <th>1</th>\n",
              "      <td>C:/Users/vcc/Desktop/project ml/voice/16133.wav</td>\n",
              "      <td>-387.11218</td>\n",
              "      <td>92.776024</td>\n",
              "      <td>-15.819464</td>\n",
              "      <td>33.206528</td>\n",
              "      <td>1.054645</td>\n",
              "      <td>10.347558</td>\n",
              "      <td>-1.730025</td>\n",
              "      <td>8.410479</td>\n",
              "      <td>6.219111</td>\n",
              "      <td>...</td>\n",
              "      <td>2.579631e-17</td>\n",
              "      <td>2.283440e-17</td>\n",
              "      <td>-0.042363</td>\n",
              "      <td>0.042854</td>\n",
              "      <td>-0.013355</td>\n",
              "      <td>-0.110958</td>\n",
              "      <td>0.025752</td>\n",
              "      <td>-0.025277</td>\n",
              "      <td>0</td>\n",
              "      <td>1</td>\n",
              "    </tr>\n",
              "    <tr>\n",
              "      <th>2</th>\n",
              "      <td>C:/Users/vcc/Desktop/project ml/voice/4156.wav</td>\n",
              "      <td>-420.34683</td>\n",
              "      <td>103.964935</td>\n",
              "      <td>0.789253</td>\n",
              "      <td>30.104149</td>\n",
              "      <td>-7.518121</td>\n",
              "      <td>10.094464</td>\n",
              "      <td>-19.800411</td>\n",
              "      <td>-1.656142</td>\n",
              "      <td>-7.244540</td>\n",
              "      <td>...</td>\n",
              "      <td>1.338170e-17</td>\n",
              "      <td>1.390605e-17</td>\n",
              "      <td>0.028776</td>\n",
              "      <td>-0.003118</td>\n",
              "      <td>0.051828</td>\n",
              "      <td>0.011517</td>\n",
              "      <td>0.004023</td>\n",
              "      <td>0.004716</td>\n",
              "      <td>1</td>\n",
              "      <td>4</td>\n",
              "    </tr>\n",
              "    <tr>\n",
              "      <th>3</th>\n",
              "      <td>C:/Users/vcc/Desktop/project ml/voice/203.wav</td>\n",
              "      <td>-400.54904</td>\n",
              "      <td>103.331710</td>\n",
              "      <td>20.483711</td>\n",
              "      <td>29.738617</td>\n",
              "      <td>10.878419</td>\n",
              "      <td>3.691131</td>\n",
              "      <td>-2.093715</td>\n",
              "      <td>9.150126</td>\n",
              "      <td>6.001769</td>\n",
              "      <td>...</td>\n",
              "      <td>3.044141e-17</td>\n",
              "      <td>2.452205e-17</td>\n",
              "      <td>-0.027109</td>\n",
              "      <td>-0.014485</td>\n",
              "      <td>-0.003280</td>\n",
              "      <td>-0.099250</td>\n",
              "      <td>0.011699</td>\n",
              "      <td>-0.008414</td>\n",
              "      <td>1</td>\n",
              "      <td>4</td>\n",
              "    </tr>\n",
              "    <tr>\n",
              "      <th>4</th>\n",
              "      <td>C:/Users/vcc/Desktop/project ml/voice/4917.wav</td>\n",
              "      <td>-216.08072</td>\n",
              "      <td>61.822456</td>\n",
              "      <td>-8.624993</td>\n",
              "      <td>-0.100680</td>\n",
              "      <td>-14.465156</td>\n",
              "      <td>-10.361802</td>\n",
              "      <td>1.479756</td>\n",
              "      <td>-4.632538</td>\n",
              "      <td>-13.703397</td>\n",
              "      <td>...</td>\n",
              "      <td>1.835793e-18</td>\n",
              "      <td>1.709946e-17</td>\n",
              "      <td>-0.013564</td>\n",
              "      <td>0.011575</td>\n",
              "      <td>-0.015613</td>\n",
              "      <td>0.009228</td>\n",
              "      <td>-0.005703</td>\n",
              "      <td>-0.003755</td>\n",
              "      <td>1</td>\n",
              "      <td>1</td>\n",
              "    </tr>\n",
              "    <tr>\n",
              "      <th>...</th>\n",
              "      <td>...</td>\n",
              "      <td>...</td>\n",
              "      <td>...</td>\n",
              "      <td>...</td>\n",
              "      <td>...</td>\n",
              "      <td>...</td>\n",
              "      <td>...</td>\n",
              "      <td>...</td>\n",
              "      <td>...</td>\n",
              "      <td>...</td>\n",
              "      <td>...</td>\n",
              "      <td>...</td>\n",
              "      <td>...</td>\n",
              "      <td>...</td>\n",
              "      <td>...</td>\n",
              "      <td>...</td>\n",
              "      <td>...</td>\n",
              "      <td>...</td>\n",
              "      <td>...</td>\n",
              "      <td>...</td>\n",
              "      <td>...</td>\n",
              "    </tr>\n",
              "    <tr>\n",
              "      <th>3328</th>\n",
              "      <td>C:/Users/vcc/Desktop/project ml/voice/415.wav</td>\n",
              "      <td>-520.99010</td>\n",
              "      <td>76.673530</td>\n",
              "      <td>-13.955746</td>\n",
              "      <td>28.225765</td>\n",
              "      <td>-0.103527</td>\n",
              "      <td>-20.673664</td>\n",
              "      <td>-14.641736</td>\n",
              "      <td>7.766248</td>\n",
              "      <td>-9.842073</td>\n",
              "      <td>...</td>\n",
              "      <td>-4.578098e-18</td>\n",
              "      <td>1.398697e-18</td>\n",
              "      <td>-0.010583</td>\n",
              "      <td>-0.004469</td>\n",
              "      <td>-0.026875</td>\n",
              "      <td>-0.019898</td>\n",
              "      <td>0.001768</td>\n",
              "      <td>0.009172</td>\n",
              "      <td>1</td>\n",
              "      <td>1</td>\n",
              "    </tr>\n",
              "    <tr>\n",
              "      <th>3329</th>\n",
              "      <td>C:/Users/vcc/Desktop/project ml/voice/9548.wav</td>\n",
              "      <td>-363.66486</td>\n",
              "      <td>121.069305</td>\n",
              "      <td>-6.165410</td>\n",
              "      <td>23.450203</td>\n",
              "      <td>-3.538832</td>\n",
              "      <td>-0.146308</td>\n",
              "      <td>-4.288898</td>\n",
              "      <td>-6.522939</td>\n",
              "      <td>-14.068184</td>\n",
              "      <td>...</td>\n",
              "      <td>2.840874e-17</td>\n",
              "      <td>4.070046e-17</td>\n",
              "      <td>0.039948</td>\n",
              "      <td>0.030738</td>\n",
              "      <td>-0.006072</td>\n",
              "      <td>-0.045371</td>\n",
              "      <td>-0.025829</td>\n",
              "      <td>-0.015018</td>\n",
              "      <td>1</td>\n",
              "      <td>2</td>\n",
              "    </tr>\n",
              "    <tr>\n",
              "      <th>3330</th>\n",
              "      <td>C:/Users/vcc/Desktop/project ml/voice/5933.wav</td>\n",
              "      <td>-392.01880</td>\n",
              "      <td>108.106830</td>\n",
              "      <td>-2.740813</td>\n",
              "      <td>23.881542</td>\n",
              "      <td>-5.648860</td>\n",
              "      <td>3.114533</td>\n",
              "      <td>-10.559357</td>\n",
              "      <td>3.632669</td>\n",
              "      <td>-8.072955</td>\n",
              "      <td>...</td>\n",
              "      <td>5.926913e-17</td>\n",
              "      <td>7.656482e-17</td>\n",
              "      <td>0.009681</td>\n",
              "      <td>0.019442</td>\n",
              "      <td>0.055938</td>\n",
              "      <td>0.052546</td>\n",
              "      <td>0.004331</td>\n",
              "      <td>0.005918</td>\n",
              "      <td>1</td>\n",
              "      <td>1</td>\n",
              "    </tr>\n",
              "    <tr>\n",
              "      <th>3331</th>\n",
              "      <td>C:/Users/vcc/Desktop/project ml/voice/5635.wav</td>\n",
              "      <td>-335.09702</td>\n",
              "      <td>97.686615</td>\n",
              "      <td>0.157730</td>\n",
              "      <td>40.329950</td>\n",
              "      <td>-8.645594</td>\n",
              "      <td>25.945732</td>\n",
              "      <td>-2.471781</td>\n",
              "      <td>-3.563193</td>\n",
              "      <td>-0.374251</td>\n",
              "      <td>...</td>\n",
              "      <td>1.973473e-17</td>\n",
              "      <td>2.774610e-17</td>\n",
              "      <td>0.037246</td>\n",
              "      <td>0.025011</td>\n",
              "      <td>0.026386</td>\n",
              "      <td>-0.025918</td>\n",
              "      <td>0.007564</td>\n",
              "      <td>-0.008521</td>\n",
              "      <td>0</td>\n",
              "      <td>3</td>\n",
              "    </tr>\n",
              "    <tr>\n",
              "      <th>3332</th>\n",
              "      <td>C:/Users/vcc/Desktop/project ml/voice/2077.wav</td>\n",
              "      <td>-579.15686</td>\n",
              "      <td>49.359300</td>\n",
              "      <td>14.313977</td>\n",
              "      <td>14.504559</td>\n",
              "      <td>4.230345</td>\n",
              "      <td>-3.542368</td>\n",
              "      <td>-1.247210</td>\n",
              "      <td>-0.642427</td>\n",
              "      <td>-5.903124</td>\n",
              "      <td>...</td>\n",
              "      <td>-4.227222e-18</td>\n",
              "      <td>6.376488e-18</td>\n",
              "      <td>-0.003626</td>\n",
              "      <td>-0.003880</td>\n",
              "      <td>0.031416</td>\n",
              "      <td>-0.003864</td>\n",
              "      <td>-0.008864</td>\n",
              "      <td>-0.002670</td>\n",
              "      <td>1</td>\n",
              "      <td>3</td>\n",
              "    </tr>\n",
              "  </tbody>\n",
              "</table>\n",
              "<p>16663 rows × 547 columns</p>\n",
              "</div>\n",
              "      <button class=\"colab-df-convert\" onclick=\"convertToInteractive('df-ac102b2e-c0d1-4bdb-96bf-49e9bebaeb61')\"\n",
              "              title=\"Convert this dataframe to an interactive table.\"\n",
              "              style=\"display:none;\">\n",
              "        \n",
              "  <svg xmlns=\"http://www.w3.org/2000/svg\" height=\"24px\"viewBox=\"0 0 24 24\"\n",
              "       width=\"24px\">\n",
              "    <path d=\"M0 0h24v24H0V0z\" fill=\"none\"/>\n",
              "    <path d=\"M18.56 5.44l.94 2.06.94-2.06 2.06-.94-2.06-.94-.94-2.06-.94 2.06-2.06.94zm-11 1L8.5 8.5l.94-2.06 2.06-.94-2.06-.94L8.5 2.5l-.94 2.06-2.06.94zm10 10l.94 2.06.94-2.06 2.06-.94-2.06-.94-.94-2.06-.94 2.06-2.06.94z\"/><path d=\"M17.41 7.96l-1.37-1.37c-.4-.4-.92-.59-1.43-.59-.52 0-1.04.2-1.43.59L10.3 9.45l-7.72 7.72c-.78.78-.78 2.05 0 2.83L4 21.41c.39.39.9.59 1.41.59.51 0 1.02-.2 1.41-.59l7.78-7.78 2.81-2.81c.8-.78.8-2.07 0-2.86zM5.41 20L4 18.59l7.72-7.72 1.47 1.35L5.41 20z\"/>\n",
              "  </svg>\n",
              "      </button>\n",
              "      \n",
              "  <style>\n",
              "    .colab-df-container {\n",
              "      display:flex;\n",
              "      flex-wrap:wrap;\n",
              "      gap: 12px;\n",
              "    }\n",
              "\n",
              "    .colab-df-convert {\n",
              "      background-color: #E8F0FE;\n",
              "      border: none;\n",
              "      border-radius: 50%;\n",
              "      cursor: pointer;\n",
              "      display: none;\n",
              "      fill: #1967D2;\n",
              "      height: 32px;\n",
              "      padding: 0 0 0 0;\n",
              "      width: 32px;\n",
              "    }\n",
              "\n",
              "    .colab-df-convert:hover {\n",
              "      background-color: #E2EBFA;\n",
              "      box-shadow: 0px 1px 2px rgba(60, 64, 67, 0.3), 0px 1px 3px 1px rgba(60, 64, 67, 0.15);\n",
              "      fill: #174EA6;\n",
              "    }\n",
              "\n",
              "    [theme=dark] .colab-df-convert {\n",
              "      background-color: #3B4455;\n",
              "      fill: #D2E3FC;\n",
              "    }\n",
              "\n",
              "    [theme=dark] .colab-df-convert:hover {\n",
              "      background-color: #434B5C;\n",
              "      box-shadow: 0px 1px 3px 1px rgba(0, 0, 0, 0.15);\n",
              "      filter: drop-shadow(0px 1px 2px rgba(0, 0, 0, 0.3));\n",
              "      fill: #FFFFFF;\n",
              "    }\n",
              "  </style>\n",
              "\n",
              "      <script>\n",
              "        const buttonEl =\n",
              "          document.querySelector('#df-ac102b2e-c0d1-4bdb-96bf-49e9bebaeb61 button.colab-df-convert');\n",
              "        buttonEl.style.display =\n",
              "          google.colab.kernel.accessAllowed ? 'block' : 'none';\n",
              "\n",
              "        async function convertToInteractive(key) {\n",
              "          const element = document.querySelector('#df-ac102b2e-c0d1-4bdb-96bf-49e9bebaeb61');\n",
              "          const dataTable =\n",
              "            await google.colab.kernel.invokeFunction('convertToInteractive',\n",
              "                                                     [key], {});\n",
              "          if (!dataTable) return;\n",
              "\n",
              "          const docLinkHtml = 'Like what you see? Visit the ' +\n",
              "            '<a target=\"_blank\" href=https://colab.research.google.com/notebooks/data_table.ipynb>data table notebook</a>'\n",
              "            + ' to learn more about interactive tables.';\n",
              "          element.innerHTML = '';\n",
              "          dataTable['output_type'] = 'display_data';\n",
              "          await google.colab.output.renderOutput(dataTable, element);\n",
              "          const docLink = document.createElement('div');\n",
              "          docLink.innerHTML = docLinkHtml;\n",
              "          element.appendChild(docLink);\n",
              "        }\n",
              "      </script>\n",
              "    </div>\n",
              "  </div>\n",
              "  "
            ]
          },
          "metadata": {},
          "execution_count": 15
        }
      ]
    },
    {
      "cell_type": "markdown",
      "source": [
        "# train and test split"
      ],
      "metadata": {
        "id": "dvxTRqx-iEBo"
      }
    },
    {
      "cell_type": "code",
      "source": [
        "\n",
        "from sklearn.model_selection import train_test_split\n",
        "X = df.drop(['sex','emotionID','Unnamed: 0'],1)   #Feature Matrix\n",
        "y = df[\"sex\"]\n",
        "\n",
        "X_train, X_test, y_train, y_test = train_test_split(X, y, test_size=0.2, random_state=4)"
      ],
      "metadata": {
        "colab": {
          "base_uri": "https://localhost:8080/"
        },
        "id": "5OF5tgOHiCN8",
        "outputId": "5a0fc9df-bd79-42e2-d0b7-89b5a7c5229f"
      },
      "execution_count": null,
      "outputs": [
        {
          "output_type": "stream",
          "name": "stderr",
          "text": [
            "/usr/local/lib/python3.7/dist-packages/ipykernel_launcher.py:3: FutureWarning: In a future version of pandas all arguments of DataFrame.drop except for the argument 'labels' will be keyword-only\n",
            "  This is separate from the ipykernel package so we can avoid doing imports until\n"
          ]
        }
      ]
    },
    {
      "cell_type": "markdown",
      "source": [
        "# classification sex with pca "
      ],
      "metadata": {
        "id": "bJESTU3lg1rX"
      }
    },
    {
      "cell_type": "code",
      "source": [
        "from sklearn.preprocessing import StandardScaler\n",
        "\n",
        "sc = StandardScaler()\n",
        "X_train = sc.fit_transform(X_train)\n",
        "X_test = sc.transform(X_test)\n"
      ],
      "metadata": {
        "id": "__raqXLSgzvv"
      },
      "execution_count": null,
      "outputs": []
    },
    {
      "cell_type": "code",
      "source": [
        "from sklearn.decomposition import PCA\n",
        "\n",
        "pca = PCA(0.95)\n",
        "X_train = pca.fit_transform(X_train)\n",
        "X_test = pca.transform(X_test)"
      ],
      "metadata": {
        "id": "EuJPnOJkgxq6"
      },
      "execution_count": null,
      "outputs": []
    },
    {
      "cell_type": "code",
      "source": [
        "explained_variance = pca.explained_variance_ratio_\n",
        "len(explained_variance)"
      ],
      "metadata": {
        "colab": {
          "base_uri": "https://localhost:8080/"
        },
        "id": "FWYRQj-ZiAkO",
        "outputId": "c0fa5ab6-4554-447e-b9bd-8ad2796da586"
      },
      "execution_count": null,
      "outputs": [
        {
          "output_type": "execute_result",
          "data": {
            "text/plain": [
              "72"
            ]
          },
          "metadata": {},
          "execution_count": 22
        }
      ]
    },
    {
      "cell_type": "code",
      "source": [
        ""
      ],
      "metadata": {
        "id": "hJxWuXD6CbUT"
      },
      "execution_count": null,
      "outputs": []
    },
    {
      "cell_type": "code",
      "source": [
        ""
      ],
      "metadata": {
        "id": "wMy-3Mo4HZX-"
      },
      "execution_count": null,
      "outputs": []
    },
    {
      "cell_type": "code",
      "source": [
        ""
      ],
      "metadata": {
        "id": "NYesFXz6HZUa"
      },
      "execution_count": null,
      "outputs": []
    },
    {
      "cell_type": "code",
      "source": [
        ""
      ],
      "metadata": {
        "id": "pPjfMFndG7EB"
      },
      "execution_count": null,
      "outputs": []
    },
    {
      "cell_type": "markdown",
      "source": [
        "## random forest"
      ],
      "metadata": {
        "id": "wdz_Qzc8jkbP"
      }
    },
    {
      "cell_type": "code",
      "source": [
        "from sklearn.ensemble import RandomForestClassifier\n",
        "\n",
        "classifier = make_pipeline(preprocessing.StandardScaler(),RandomForestClassifier(max_depth=19, random_state=0))\n",
        "classifier.fit(X_train, y_train)\n",
        "\n",
        "# Predicting the Test set results\n",
        "y_pred = classifier.predict(X_test)"
      ],
      "metadata": {
        "id": "kayT8HUTjj4K"
      },
      "execution_count": null,
      "outputs": []
    },
    {
      "cell_type": "code",
      "source": [
        "\n",
        "print('Accuracy random forest with pca: ' , accuracy_score(y_test, y_pred))"
      ],
      "metadata": {
        "colab": {
          "base_uri": "https://localhost:8080/"
        },
        "id": "VuSlolcsjSRt",
        "outputId": "a5e35bd7-8c0e-43a4-9fd6-4e2d92e67c82"
      },
      "execution_count": null,
      "outputs": [
        {
          "output_type": "stream",
          "name": "stdout",
          "text": [
            "Accuracy random forest with pca:  0.8766876687668766\n"
          ]
        }
      ]
    },
    {
      "cell_type": "markdown",
      "source": [
        "## mlp"
      ],
      "metadata": {
        "id": "suKrAL_93zvC"
      }
    },
    {
      "cell_type": "code",
      "source": [
        ""
      ],
      "metadata": {
        "id": "ui3Xx5jF3yMy"
      },
      "execution_count": null,
      "outputs": []
    },
    {
      "cell_type": "code",
      "source": [
        "from sklearn.preprocessing import StandardScaler,scale\n",
        "#X_train, X_test, y_train, y_test = train_test_split(X, y, test_size=0.2, random_state=4)\n",
        "\n",
        "X_train = scale(X_train)\n",
        "#X_train = sc.fit_transform(X_train)\n",
        "X_test=scale(X_test)\n",
        "#X_test = sc.transform(X_test)\n",
        "\n",
        "clf = make_pipeline(preprocessing.StandardScaler(),  MLPClassifier(alpha=0.1,hidden_layer_sizes=(4, 2), random_state=0))\n",
        "clf = clf.fit(X_train, y_train)\n",
        "y_hat=clf.predict(X_test)\n",
        "\n",
        "print('accuracy:\\n',accuracy_score(y_test, y_hat))"
      ],
      "metadata": {
        "id": "MEXOd6VDjSNG",
        "colab": {
          "base_uri": "https://localhost:8080/"
        },
        "outputId": "4c44d29b-dc65-4c9b-8388-965a85e97fc9"
      },
      "execution_count": null,
      "outputs": [
        {
          "output_type": "stream",
          "name": "stdout",
          "text": [
            "accuracy:\n",
            " 0.9003900390039004\n"
          ]
        },
        {
          "output_type": "stream",
          "name": "stderr",
          "text": [
            "/usr/local/lib/python3.7/dist-packages/sklearn/neural_network/_multilayer_perceptron.py:696: ConvergenceWarning: Stochastic Optimizer: Maximum iterations (200) reached and the optimization hasn't converged yet.\n",
            "  ConvergenceWarning,\n"
          ]
        }
      ]
    },
    {
      "cell_type": "markdown",
      "source": [
        "# svm"
      ],
      "metadata": {
        "id": "PX_s8blz32Dj"
      }
    },
    {
      "cell_type": "code",
      "source": [
        "from sklearn import svm\n",
        "classifier = make_pipeline(preprocessing.StandardScaler(),svm.SVC(kernel='rbf',C=10))\n",
        "\n",
        "classifier.fit(X_train, y_train)\n",
        "y_pred = classifier.predict(X_test)\n",
        "print('Accuracy' ,accuracy_score(y_test, y_pred))\n",
        "y_pred1 = classifier.predict(X_train)\n",
        "print('Accuracy train' ,accuracy_score(y_train, y_pred1))"
      ],
      "metadata": {
        "colab": {
          "base_uri": "https://localhost:8080/"
        },
        "id": "Gy0McoTO33Xr",
        "outputId": "a0dec576-cf2e-4bf0-bf64-3f0531c74bb0"
      },
      "execution_count": null,
      "outputs": [
        {
          "output_type": "stream",
          "name": "stdout",
          "text": [
            "Accuracy 0.9255925592559255\n",
            "Accuracy train 0.9793698424606152\n"
          ]
        }
      ]
    },
    {
      "cell_type": "code",
      "source": [
        "from sklearn import svm\n",
        "classifier = make_pipeline(preprocessing.StandardScaler(),svm.SVC(kernel='poly',C=10))\n",
        "\n",
        "classifier.fit(X_train, y_train)\n",
        "y_pred = classifier.predict(X_test)\n",
        "print('Accuracy' ,accuracy_score(y_test, y_pred))\n",
        "y_pred1 = classifier.predict(X_train)\n",
        "print('Accuracy train' ,accuracy_score(y_train, y_pred1))"
      ],
      "metadata": {
        "id": "LqJ8YWa8iAUc",
        "colab": {
          "base_uri": "https://localhost:8080/"
        },
        "outputId": "ba8ac7a1-89ee-4b59-9b7d-ef7a17365835"
      },
      "execution_count": null,
      "outputs": [
        {
          "output_type": "stream",
          "name": "stdout",
          "text": [
            "Accuracy 0.90999099909991\n",
            "Accuracy train 0.9624156039009752\n"
          ]
        }
      ]
    },
    {
      "cell_type": "code",
      "source": [
        ""
      ],
      "metadata": {
        "id": "McyS8BNjiAN2"
      },
      "execution_count": null,
      "outputs": []
    },
    {
      "cell_type": "markdown",
      "source": [
        "# classification with out pca"
      ],
      "metadata": {
        "id": "KUch5L9IOK1s"
      }
    },
    {
      "cell_type": "code",
      "source": [
        "X = df.drop(['sex','emotionID','Unnamed: 0'],1)   #Feature Matrix\n",
        "y = df[\"sex\"]\n",
        "\n",
        "\n",
        "X_train, X_test, y_train, y_test = train_test_split(X, y, test_size=0.2, random_state=4)\n",
        "from sklearn.preprocessing import StandardScaler,scale\n",
        "#X_train, X_test, y_train, y_test = train_test_split(X, y, test_size=0.2, random_state=4)\n",
        "\n",
        "X_train = scale(X_train)\n",
        "#X_train = sc.fit_transform(X_train)\n",
        "X_test=scale(X_test)\n",
        "#X_test = sc.transform(X_test)"
      ],
      "metadata": {
        "colab": {
          "base_uri": "https://localhost:8080/"
        },
        "id": "Z9YKQQCAWqJR",
        "outputId": "635c3f43-7979-4754-f678-89d792bb49b3"
      },
      "execution_count": null,
      "outputs": [
        {
          "output_type": "stream",
          "name": "stderr",
          "text": [
            "/usr/local/lib/python3.7/dist-packages/ipykernel_launcher.py:1: FutureWarning: In a future version of pandas all arguments of DataFrame.drop except for the argument 'labels' will be keyword-only\n",
            "  \"\"\"Entry point for launching an IPython kernel.\n"
          ]
        }
      ]
    },
    {
      "cell_type": "markdown",
      "source": [
        "## random forest"
      ],
      "metadata": {
        "id": "tEeW7HIFurF8"
      }
    },
    {
      "cell_type": "code",
      "source": [
        "classifier = RandomForestClassifier(max_depth=10, random_state=0)\n",
        "classifier=classifier.fit(X_train, y_train)\n",
        "\n",
        "# Predicting the Test set results\n",
        "y_pred = classifier.predict(X_test)\n",
        "print('accuracy:\\n',accuracy_score(y_test, y_pred))\n",
        "y_pred1 = clf.predict(X_train)\n",
        "print('Accuracy train' ,accuracy_score(y_train, y_pred1))"
      ],
      "metadata": {
        "colab": {
          "base_uri": "https://localhost:8080/"
        },
        "id": "4m1t9QnyuTEi",
        "outputId": "1f91f8f7-43b4-4bee-edaa-4f063af98676"
      },
      "execution_count": null,
      "outputs": [
        {
          "output_type": "stream",
          "name": "stdout",
          "text": [
            "accuracy:\n",
            " 0.9075907590759076\n",
            "Accuracy train 1.0\n"
          ]
        }
      ]
    },
    {
      "cell_type": "code",
      "source": [
        "# decision tree\n",
        "from sklearn import tree\n",
        "\n",
        "clf = tree.DecisionTreeClassifier()\n",
        "clf = clf.fit(X_train, y_train)\n",
        "y_pred = clf.predict(X_test)\n",
        "print('Accuracy' ,accuracy_score(y_test, y_pred))\n",
        "y_pred1 = clf.predict(X_train)\n",
        "print('Accuracy train' ,accuracy_score(y_train, y_pred1))"
      ],
      "metadata": {
        "colab": {
          "base_uri": "https://localhost:8080/"
        },
        "id": "yfwz4E5E5Sr1",
        "outputId": "18a7caa8-7380-4b78-a750-5fe93ada3ee3"
      },
      "execution_count": null,
      "outputs": [
        {
          "output_type": "stream",
          "name": "stdout",
          "text": [
            "Accuracy 0.6183618361836184\n",
            "Accuracy train 1.0\n"
          ]
        }
      ]
    },
    {
      "cell_type": "markdown",
      "source": [
        "## mlp"
      ],
      "metadata": {
        "id": "fwGSCdopu1Hw"
      }
    },
    {
      "cell_type": "code",
      "source": [
        "from sklearn.preprocessing import StandardScaler,scale\n",
        "X_train, X_test, y_train, y_test = train_test_split(X, y, test_size=0.2, random_state=4)\n",
        "\n",
        "X_train = scale(X_train)\n",
        "#X_train = sc.fit_transform(X_train)\n",
        "X_test=scale(X_test)\n",
        "#X_test = sc.transform(X_test)\n",
        "\n",
        "clf = make_pipeline(preprocessing.StandardScaler(),  MLPClassifier(alpha=0.1,hidden_layer_sizes=(4, 2), random_state=0))\n",
        "clf = clf.fit(X_train, y_train)\n",
        "y_hat=clf.predict(X_test)\n",
        "\n",
        "print('accuracy:\\n',accuracy_score(y_test, y_hat))\n",
        "y_pred1 = clf.predict(X_train)\n",
        "print('Accuracy train' ,accuracy_score(y_train, y_pred1))\n",
        "\n"
      ],
      "metadata": {
        "colab": {
          "base_uri": "https://localhost:8080/"
        },
        "id": "DxEWArIJuDcR",
        "outputId": "a0687abd-f10e-489b-d842-436a7914f783"
      },
      "execution_count": null,
      "outputs": [
        {
          "output_type": "stream",
          "name": "stdout",
          "text": [
            "accuracy:\n",
            " 0.9135913591359136\n"
          ]
        }
      ]
    },
    {
      "cell_type": "code",
      "source": [
        "# cross validation\n",
        "from sklearn.model_selection import cross_val_score\n",
        "scores = cross_val_score(clf, X,y, cv=5, scoring='accuracy')\n",
        "scores"
      ],
      "metadata": {
        "colab": {
          "base_uri": "https://localhost:8080/"
        },
        "id": "6pzx70dluMh3",
        "outputId": "45537c9b-fb37-4edf-cfd1-1eeb96061d39"
      },
      "execution_count": null,
      "outputs": [
        {
          "output_type": "execute_result",
          "data": {
            "text/plain": [
              "array([0.91029103, 0.90519052, 0.90759076, 0.90306122, 0.91146459])"
            ]
          },
          "metadata": {},
          "execution_count": 25
        }
      ]
    },
    {
      "cell_type": "code",
      "source": [
        "print(\"%0.2f accuracy with out pca\" % (scores.mean()))"
      ],
      "metadata": {
        "colab": {
          "base_uri": "https://localhost:8080/"
        },
        "id": "iunHOFAd8utF",
        "outputId": "8e68dfd1-849d-40e3-b983-ac40696c9663"
      },
      "execution_count": null,
      "outputs": [
        {
          "output_type": "stream",
          "name": "stdout",
          "text": [
            "0.91 accuracy with out pca\n"
          ]
        }
      ]
    },
    {
      "cell_type": "code",
      "source": [
        "from sklearn import svm\n",
        "classifier = make_pipeline(preprocessing.StandardScaler(),svm.SVC(kernel='poly',C=10))\n",
        "\n",
        "classifier.fit(X_train, y_train)\n",
        "y_pred = classifier.predict(X_test)\n",
        "print('Accuracy' ,accuracy_score(y_test, y_pred))\n",
        "y_pred1 = classifier.predict(X_train)\n",
        "print('Accuracy train' ,accuracy_score(y_train, y_pred1))"
      ],
      "metadata": {
        "colab": {
          "base_uri": "https://localhost:8080/"
        },
        "id": "RhgI00EqWKLQ",
        "outputId": "6b8a5d75-4c6f-4a4e-9137-a196c5d8688a"
      },
      "execution_count": null,
      "outputs": [
        {
          "output_type": "stream",
          "name": "stdout",
          "text": [
            "Accuracy 0.8886888688868887\n",
            "Accuracy train 0.9141035258814704\n"
          ]
        }
      ]
    },
    {
      "cell_type": "code",
      "source": [
        "from sklearn import svm\n",
        "classifier = make_pipeline(preprocessing.StandardScaler(),svm.SVC(kernel='rbf',C=10))\n",
        "\n",
        "classifier.fit(X_train, y_train)\n",
        "y_pred = classifier.predict(X_test)\n",
        "print('Accuracy' ,accuracy_score(y_test, y_pred))\n",
        "y_pred1 = classifier.predict(X_train)\n",
        "print('Accuracy train' ,accuracy_score(y_train, y_pred1))"
      ],
      "metadata": {
        "colab": {
          "base_uri": "https://localhost:8080/"
        },
        "id": "OspokRlYZfaR",
        "outputId": "602e854c-2b67-44ef-914e-eb725d84a640"
      },
      "execution_count": null,
      "outputs": [
        {
          "output_type": "stream",
          "name": "stdout",
          "text": [
            "Accuracy 0.9252925292529253\n",
            "Accuracy train 0.9611402850712678\n"
          ]
        }
      ]
    },
    {
      "cell_type": "code",
      "source": [
        ""
      ],
      "metadata": {
        "id": "eTc6NBlFWKIM"
      },
      "execution_count": null,
      "outputs": []
    },
    {
      "cell_type": "markdown",
      "source": [
        "# lda"
      ],
      "metadata": {
        "id": "9m_6LFWp8JBa"
      }
    },
    {
      "cell_type": "code",
      "source": [
        "from sklearn.preprocessing import StandardScaler,scale\n",
        "X_train, X_test, y_train, y_test = train_test_split(X, y, test_size=0.2, random_state=4)\n",
        "\n",
        "X_train = scale(X_train)\n",
        "#X_train = sc.fit_transform(X_train)\n",
        "X_test=scale(X_test)\n",
        "#X_test = sc.transform(X_test)"
      ],
      "metadata": {
        "id": "4gzSphEz8Il3"
      },
      "execution_count": null,
      "outputs": []
    },
    {
      "cell_type": "code",
      "source": [
        ""
      ],
      "metadata": {
        "id": "LH7T0k2d8-VZ"
      },
      "execution_count": null,
      "outputs": []
    },
    {
      "cell_type": "code",
      "source": [
        "from sklearn.discriminant_analysis import LinearDiscriminantAnalysis as LDA\n",
        "\n",
        "lda = LDA(n_components=1)\n",
        "X_train = lda.fit_transform(X_train, y_train)\n",
        "X_test = lda.transform(X_test)"
      ],
      "metadata": {
        "id": "uQ0XNvw68Iio"
      },
      "execution_count": null,
      "outputs": []
    },
    {
      "cell_type": "code",
      "source": [
        "from sklearn.metrics import accuracy_score\n",
        "from sklearn import svm\n",
        "classifier = svm.SVC(kernel='poly',C=10,degree=3,gamma=0.03)\n",
        "\n",
        "classifier.fit(X_train, y_train)\n",
        "y_pred = classifier.predict(X_test)\n",
        "print('Accuracy' ,accuracy_score(y_test, y_pred))\n",
        "y_pred1 = classifier.predict(X_train)\n",
        "print('Accuracy train' ,accuracy_score(y_train, y_pred1))"
      ],
      "metadata": {
        "colab": {
          "base_uri": "https://localhost:8080/"
        },
        "id": "t6hVniuV8Ic_",
        "outputId": "b8dfdee5-10e6-4705-e0f6-2f3b5c4cd38f"
      },
      "execution_count": null,
      "outputs": [
        {
          "output_type": "stream",
          "name": "stdout",
          "text": [
            "Accuracy 0.7695769576957696\n",
            "Accuracy train 0.7845461365341335\n"
          ]
        }
      ]
    },
    {
      "cell_type": "markdown",
      "source": [
        "## naive bayes"
      ],
      "metadata": {
        "id": "042PTcMUDmfo"
      }
    },
    {
      "cell_type": "code",
      "source": [
        "nb = GaussianNB()\n",
        "\n",
        "nb=nb.fit(X_train, y_train)\n",
        "y_pred = nb.predict(X_test)\n",
        "print('Accuracy' ,accuracy_score(y_test, y_pred))\n",
        "y_pred1 = nb.predict(X_train)\n",
        "print('Accuracy train' ,accuracy_score(y_train, y_pred1))"
      ],
      "metadata": {
        "colab": {
          "base_uri": "https://localhost:8080/"
        },
        "id": "imxC5soP8IWe",
        "outputId": "2c0c0587-e300-490b-9b55-8984b055b3e2"
      },
      "execution_count": null,
      "outputs": [
        {
          "output_type": "stream",
          "name": "stdout",
          "text": [
            "Accuracy 0.8028802880288028\n",
            "Accuracy train 0.8644411102775694\n"
          ]
        }
      ]
    },
    {
      "cell_type": "code",
      "source": [
        "classifier = svm.SVC(kernel='rbf',C=1,gamma=0.1)\n",
        "\n",
        "classifier.fit(X_train, y_train)\n",
        "y_pred = classifier.predict(X_test)\n",
        "print('Accuracy' ,accuracy_score(y_test, y_pred))\n",
        "y_pred1 = classifier.predict(X_train)\n",
        "print('Accuracy train' ,accuracy_score(y_train, y_pred1))"
      ],
      "metadata": {
        "colab": {
          "base_uri": "https://localhost:8080/"
        },
        "id": "rAdT8CFgAYAs",
        "outputId": "f4a053b1-8777-42cb-f261-5877430a1628"
      },
      "execution_count": null,
      "outputs": [
        {
          "output_type": "stream",
          "name": "stdout",
          "text": [
            "Accuracy 0.8010801080108011\n",
            "Accuracy train 0.8646661665416354\n"
          ]
        }
      ]
    },
    {
      "cell_type": "markdown",
      "source": [
        "# sfs "
      ],
      "metadata": {
        "id": "PxMnSR2fDkb3"
      }
    },
    {
      "cell_type": "code",
      "source": [
        "X_train, X_test, y_train, y_test = train_test_split(X, y, test_size=0.2, random_state=4)\n",
        "\n",
        "X_train = scale(X_train)\n",
        "#X_train = sc.fit_transform(X_train)\n",
        "X_test=scale(X_test)\n",
        "#X_test = sc.transform(X_test)"
      ],
      "metadata": {
        "id": "F4BmsMvADjwX"
      },
      "execution_count": null,
      "outputs": []
    },
    {
      "cell_type": "code",
      "source": [
        ""
      ],
      "metadata": {
        "id": "AKG52pvpDqzq"
      },
      "execution_count": null,
      "outputs": []
    },
    {
      "cell_type": "code",
      "source": [
        ""
      ],
      "metadata": {
        "id": "dH4rx8UvEJMQ"
      },
      "execution_count": null,
      "outputs": []
    },
    {
      "cell_type": "code",
      "source": [
        "X_train"
      ],
      "metadata": {
        "colab": {
          "base_uri": "https://localhost:8080/"
        },
        "id": "mtH28vqPEJE8",
        "outputId": "ddefec8d-518f-496c-96b6-4b14c52f1ca1"
      },
      "execution_count": null,
      "outputs": [
        {
          "output_type": "execute_result",
          "data": {
            "text/plain": [
              "array([[ 1.0950302 ,  1.10589828, -0.19438813, ..., -0.3330714 ,\n",
              "        -0.11645978, -0.97966377],\n",
              "       [-1.48453698,  0.05668104,  1.63576669, ..., -0.37907755,\n",
              "        -0.45879566,  1.96736662],\n",
              "       [ 1.71089678, -1.01775775, -1.59037357, ...,  0.58729599,\n",
              "         0.07064306, -0.20108417],\n",
              "       ...,\n",
              "       [-0.17274628,  1.56540275, -1.0352224 , ...,  0.51728683,\n",
              "         0.1139022 , -0.51606079],\n",
              "       [-0.55193515,  0.91780397, -0.76793576, ..., -0.09090046,\n",
              "         0.4497492 , -0.43830383],\n",
              "       [-2.36661251, -1.03021376,  0.42925734, ...,  0.52332106,\n",
              "        -0.1923096 , -0.71545929]])"
            ]
          },
          "metadata": {},
          "execution_count": 39
        }
      ]
    },
    {
      "cell_type": "code",
      "source": [
        ""
      ],
      "metadata": {
        "id": "6R6po8xpEJBt"
      },
      "execution_count": null,
      "outputs": []
    },
    {
      "cell_type": "code",
      "source": [
        ""
      ],
      "metadata": {
        "id": "vvX9RcsZDqum"
      },
      "execution_count": null,
      "outputs": []
    },
    {
      "cell_type": "markdown",
      "source": [
        "# mutual info for emotion"
      ],
      "metadata": {
        "id": "LJwWmn3XGDKV"
      }
    },
    {
      "cell_type": "code",
      "source": [
        "from sklearn.feature_selection import mutual_info_classif as MIC\n",
        "mi_score = MIC(X,y)\n",
        "print(mi_score)"
      ],
      "metadata": {
        "colab": {
          "base_uri": "https://localhost:8080/"
        },
        "id": "rBNKrTuVA5O3",
        "outputId": "a655fd6c-2806-42a5-8440-b6fc628c5b1e"
      },
      "execution_count": null,
      "outputs": [
        {
          "output_type": "stream",
          "name": "stdout",
          "text": [
            "[2.28010037e-03 3.81193284e-02 1.65922972e-02 1.63165329e-02\n",
            " 1.86751618e-02 1.11956563e-02 1.61163505e-02 1.20092639e-02\n",
            " 1.16233968e-02 1.85129881e-03 5.10659684e-02 1.81197028e-02\n",
            " 1.64816494e-02 2.79180168e-02 5.38196602e-03 4.36851207e-02\n",
            " 3.41824998e-02 6.15650879e-02 2.16946140e-01 3.86502081e-01\n",
            " 3.34315369e-01 1.36939527e-01 3.21032400e-02 9.60696104e-03\n",
            " 5.63340154e-04 6.71121583e-03 2.02484867e-02 3.10526402e-02\n",
            " 3.94580271e-02 4.02823647e-02 3.71074900e-02 3.23264603e-02\n",
            " 3.86289143e-02 3.00706038e-02 2.15837564e-02 2.36924394e-02\n",
            " 2.92704818e-02 2.05490087e-02 1.87935863e-02 1.29110574e-02\n",
            " 1.17207860e-02 4.77647315e-03 7.47580752e-03 0.00000000e+00\n",
            " 1.10729028e-03 8.07478761e-04 5.85591740e-03 0.00000000e+00\n",
            " 2.05332590e-04 8.29390847e-03 5.01353582e-03 4.50346942e-03\n",
            " 0.00000000e+00 4.97404562e-03 1.15512477e-02 4.92885985e-03\n",
            " 6.54511373e-03 7.89759790e-03 1.30781628e-02 4.40320863e-03\n",
            " 6.51944419e-03 1.59544877e-02 1.27728403e-02 2.64876644e-03\n",
            " 2.86019539e-03 1.03529200e-02 6.08659800e-03 1.31696508e-02\n",
            " 9.47099618e-03 6.57117209e-03 1.39393388e-02 1.42596118e-02\n",
            " 7.09313394e-03 2.59226043e-03 8.21316969e-03 2.81373500e-03\n",
            " 0.00000000e+00 5.22135219e-03 1.03926888e-02 1.58451252e-02\n",
            " 1.97881473e-02 2.16636271e-02 2.51028082e-02 2.98909932e-02\n",
            " 2.36015948e-02 1.72762898e-02 1.33954037e-02 8.22034972e-03\n",
            " 1.00184353e-02 7.56403239e-03 9.28278551e-03 9.17246395e-03\n",
            " 6.57277214e-03 1.43367262e-02 1.31911346e-02 1.83785527e-02\n",
            " 1.54779226e-02 6.78330091e-03 8.38388364e-03 3.21103669e-03\n",
            " 2.39369437e-03 5.78357158e-03 0.00000000e+00 2.01681045e-04\n",
            " 7.73949886e-03 3.90184479e-03 1.68985562e-05 3.44606626e-03\n",
            " 3.59525083e-03 1.16050563e-02 6.81713135e-04 2.21799815e-03\n",
            " 4.31870575e-03 0.00000000e+00 3.91832063e-03 1.25070724e-02\n",
            " 1.44821597e-02 1.02324746e-02 5.44792500e-03 5.71059042e-03\n",
            " 4.25599496e-03 0.00000000e+00 5.23384480e-03 2.41508736e-03\n",
            " 0.00000000e+00 3.05176741e-03 8.13394081e-04 0.00000000e+00\n",
            " 0.00000000e+00 0.00000000e+00 6.87569831e-03 0.00000000e+00\n",
            " 9.56832397e-03 2.16060214e-03 5.70437269e-06 4.00541947e-03\n",
            " 0.00000000e+00 0.00000000e+00 6.78929977e-03 4.32107778e-03\n",
            " 3.42571268e-03 2.80041417e-03 3.57450872e-03 6.76698719e-02\n",
            " 1.13821012e-01 2.64010457e-02 3.92586047e-02 2.67831352e-02\n",
            " 0.00000000e+00 8.25373372e-03 1.30766102e-02 1.63280749e-02\n",
            " 1.18431997e-02 1.26581594e-02 1.12003121e-02 5.24710093e-03\n",
            " 8.69309104e-03 7.73778669e-03 0.00000000e+00 5.18603788e-03\n",
            " 4.39697739e-03 1.16017260e-03 1.37241885e-02 3.44193194e-03\n",
            " 1.95322680e-03 9.16550387e-05 8.42066579e-03 0.00000000e+00\n",
            " 3.66625272e-03 5.32893975e-03 8.85246775e-04 2.18973980e-03\n",
            " 5.42921541e-03 2.51040619e-03 3.99677403e-03 1.45818565e-03\n",
            " 0.00000000e+00 2.20380746e-03 1.66583156e-03 2.42611545e-03\n",
            " 0.00000000e+00 8.04939511e-03 2.41633324e-03 5.06055314e-03\n",
            " 3.05088401e-03 3.61852589e-03 0.00000000e+00 4.54927203e-03\n",
            " 3.70146428e-03 4.69714881e-03 8.83757877e-04 5.74174548e-03\n",
            " 4.17597807e-03 6.30882593e-03 5.98666799e-03 8.46609703e-03\n",
            " 7.96927135e-03 3.67723218e-03 2.90171803e-03 6.85772463e-03\n",
            " 4.06481429e-03 1.78424754e-03 4.25960901e-03 0.00000000e+00\n",
            " 4.12318346e-03 0.00000000e+00 3.25293766e-03 4.29319730e-03\n",
            " 4.06718589e-03 0.00000000e+00 5.52399827e-03 1.78360721e-03\n",
            " 1.33243226e-03 9.77076560e-03 1.69767914e-03 2.57527757e-03\n",
            " 0.00000000e+00 5.33807659e-05 5.18996183e-04 2.37061949e-03\n",
            " 1.41332394e-03 3.80197582e-03 0.00000000e+00 1.18555080e-03\n",
            " 1.82034422e-03 5.85597466e-03 0.00000000e+00 0.00000000e+00\n",
            " 2.45519544e-03 0.00000000e+00 0.00000000e+00 0.00000000e+00\n",
            " 0.00000000e+00 1.53961629e-03 0.00000000e+00 5.46550329e-03\n",
            " 4.44214761e-04 0.00000000e+00 6.98510283e-04 0.00000000e+00\n",
            " 0.00000000e+00 5.35930546e-03 0.00000000e+00 0.00000000e+00\n",
            " 1.17193314e-03 8.36583120e-03 1.49632035e-03 7.72405476e-03\n",
            " 0.00000000e+00 0.00000000e+00 0.00000000e+00 0.00000000e+00\n",
            " 0.00000000e+00 1.35599332e-04 0.00000000e+00 1.91376818e-03\n",
            " 0.00000000e+00 0.00000000e+00 3.86428618e-03 0.00000000e+00\n",
            " 0.00000000e+00 0.00000000e+00 4.64405271e-03 0.00000000e+00\n",
            " 5.05185758e-03 0.00000000e+00 1.28345515e-03 1.75359130e-03\n",
            " 5.82662430e-03 7.08924976e-03 1.13547912e-02 1.12436308e-03\n",
            " 2.56422110e-03 0.00000000e+00 0.00000000e+00 0.00000000e+00\n",
            " 0.00000000e+00 7.03712317e-03 1.22103978e-03 0.00000000e+00\n",
            " 0.00000000e+00 0.00000000e+00 6.55390565e-03 0.00000000e+00\n",
            " 0.00000000e+00 0.00000000e+00 3.49767514e-03 0.00000000e+00\n",
            " 0.00000000e+00 7.58078086e-04 0.00000000e+00 3.89022915e-03\n",
            " 0.00000000e+00 0.00000000e+00 0.00000000e+00 0.00000000e+00\n",
            " 0.00000000e+00 4.37402184e-03 2.50577525e-03 4.54977816e-03\n",
            " 1.47429485e-03 1.71092901e-03 6.45404423e-04 4.40545871e-03\n",
            " 0.00000000e+00 0.00000000e+00 4.91212877e-03 8.17708596e-04\n",
            " 0.00000000e+00 1.21677990e-03 6.39353621e-03 0.00000000e+00\n",
            " 1.79444671e-03 6.07834275e-03 5.50250124e-03 1.95869123e-03\n",
            " 9.88232916e-04 1.79530469e-03 5.48057239e-03 7.84188920e-03\n",
            " 4.03448150e-03 3.90906711e-03 3.40491714e-03 3.01723316e-03\n",
            " 2.93941170e-03 3.89983333e-03 5.92596772e-04 1.61396901e-03\n",
            " 6.53728337e-03 0.00000000e+00 0.00000000e+00 0.00000000e+00\n",
            " 0.00000000e+00 2.13937263e-03 7.36134486e-03 0.00000000e+00\n",
            " 7.95842159e-03 0.00000000e+00 3.94594101e-03 0.00000000e+00\n",
            " 1.18605063e-03 3.97683967e-03 5.84580197e-03 0.00000000e+00\n",
            " 0.00000000e+00 0.00000000e+00 3.88874802e-03 0.00000000e+00\n",
            " 2.96666299e-04 0.00000000e+00 0.00000000e+00 0.00000000e+00\n",
            " 2.84828648e-03 4.56924265e-03 0.00000000e+00 6.71482359e-03\n",
            " 9.50320121e-04 0.00000000e+00 4.67531655e-03 3.31853967e-03\n",
            " 1.04850815e-02 3.52552762e-03 1.99794468e-03 0.00000000e+00\n",
            " 0.00000000e+00 3.69258228e-03 5.06542341e-04 1.15065428e-03\n",
            " 5.08256770e-03 1.65557717e-03 4.95692593e-03 3.03117356e-03\n",
            " 6.04508990e-03 2.53638814e-03 0.00000000e+00 2.34869000e-03\n",
            " 8.79629573e-03 2.60259770e-03 4.93201032e-03 1.52167406e-03\n",
            " 0.00000000e+00 8.52312470e-03 0.00000000e+00 0.00000000e+00\n",
            " 0.00000000e+00 3.10109866e-03 0.00000000e+00 1.71456984e-03\n",
            " 7.36327453e-03 1.50186734e-03 2.98321730e-03 1.43903635e-03\n",
            " 0.00000000e+00 2.90765385e-03 0.00000000e+00 1.51619640e-03\n",
            " 0.00000000e+00 0.00000000e+00 4.82789029e-04 1.40819463e-03\n",
            " 0.00000000e+00 4.26184042e-03 6.32121570e-03 3.57272339e-03\n",
            " 4.59553860e-03 3.99769638e-03 5.15463093e-03 0.00000000e+00\n",
            " 0.00000000e+00 0.00000000e+00 1.72158741e-03 4.80126260e-03\n",
            " 4.20335640e-03 0.00000000e+00 0.00000000e+00 0.00000000e+00\n",
            " 2.00476190e-04 0.00000000e+00 4.09779015e-03 5.28119260e-03\n",
            " 0.00000000e+00 0.00000000e+00 3.39540370e-04 1.54465093e-03\n",
            " 0.00000000e+00 0.00000000e+00 0.00000000e+00 0.00000000e+00\n",
            " 0.00000000e+00 0.00000000e+00 0.00000000e+00 6.15612034e-04\n",
            " 0.00000000e+00 6.26025189e-03 0.00000000e+00 1.90558854e-03\n",
            " 0.00000000e+00 8.85338757e-03 0.00000000e+00 4.78328052e-03\n",
            " 8.58863529e-04 0.00000000e+00 4.28411560e-03 1.74658252e-03\n",
            " 1.82495487e-03 2.68977610e-03 0.00000000e+00 0.00000000e+00\n",
            " 0.00000000e+00 0.00000000e+00 0.00000000e+00 4.32971637e-03\n",
            " 3.24367849e-03 0.00000000e+00 2.25596843e-03 0.00000000e+00\n",
            " 0.00000000e+00 0.00000000e+00 6.50016275e-04 0.00000000e+00\n",
            " 2.14628990e-03 0.00000000e+00 1.35178306e-03 0.00000000e+00\n",
            " 3.28868857e-03 7.51202699e-03 5.86007862e-03 0.00000000e+00\n",
            " 4.71633695e-04 4.07867707e-03 0.00000000e+00 2.00557819e-03\n",
            " 1.22286860e-04 2.49835321e-03 0.00000000e+00 0.00000000e+00\n",
            " 0.00000000e+00 0.00000000e+00 1.88199217e-03 0.00000000e+00\n",
            " 1.26413469e-03 0.00000000e+00 2.11549038e-05 0.00000000e+00\n",
            " 0.00000000e+00 0.00000000e+00 8.43217020e-04 0.00000000e+00\n",
            " 2.64765271e-03 3.85460218e-03 2.73365523e-03 0.00000000e+00\n",
            " 0.00000000e+00 0.00000000e+00 0.00000000e+00 0.00000000e+00\n",
            " 0.00000000e+00 0.00000000e+00 4.16419266e-04 0.00000000e+00\n",
            " 0.00000000e+00 2.78267189e-03 6.31051925e-03 3.21224567e-03\n",
            " 1.87791027e-03 0.00000000e+00 0.00000000e+00 0.00000000e+00\n",
            " 1.84351855e-03 1.90938191e-04 0.00000000e+00 0.00000000e+00\n",
            " 1.66280240e-03 5.63626488e-05 0.00000000e+00 0.00000000e+00\n",
            " 9.72696460e-04 0.00000000e+00 5.59753671e-03 1.24033729e-03\n",
            " 0.00000000e+00 0.00000000e+00 0.00000000e+00 0.00000000e+00\n",
            " 0.00000000e+00 4.87490624e-03 0.00000000e+00 3.29898030e-03\n",
            " 0.00000000e+00 3.58772893e-03 1.44030925e-03 7.69371025e-03\n",
            " 4.47956364e-03 0.00000000e+00 0.00000000e+00 2.98601154e-04\n",
            " 0.00000000e+00 0.00000000e+00 3.83224465e-03 4.54368020e-03\n",
            " 3.73548610e-03 0.00000000e+00 5.27222062e-03 5.46449995e-03]\n"
          ]
        }
      ]
    },
    {
      "cell_type": "code",
      "source": [
        "plt.plot(mi_score)\n",
        "plt.show"
      ],
      "metadata": {
        "colab": {
          "base_uri": "https://localhost:8080/",
          "height": 283
        },
        "id": "Rg_lGNWJE00s",
        "outputId": "6178e5da-2ae5-4cd7-f123-21367920171f"
      },
      "execution_count": null,
      "outputs": [
        {
          "output_type": "execute_result",
          "data": {
            "text/plain": [
              "<function matplotlib.pyplot.show>"
            ]
          },
          "metadata": {},
          "execution_count": 41
        },
        {
          "output_type": "display_data",
          "data": {
            "text/plain": [
              "<Figure size 432x288 with 1 Axes>"
            ],
            "image/png": "[encoded data removed]"
          },
          "metadata": {
            "needs_background": "light"
          }
        }
      ]
    },
    {
      "cell_type": "code",
      "source": [
        "# prepare dataset 2, MI > 0.2\n",
        "mi_score_selected_index = np.where(mi_score > 0.01)[0]\n",
        "X_2 = X[:, mi_score_selected_index]\n",
        "X_train_2, X_test_2, y_train, y_test = train_test_split(\n",
        "    X_2, y, random_state=0, stratify=y\n",
        ")\n"
      ],
      "metadata": {
        "colab": {
          "base_uri": "https://localhost:8080/",
          "height": 325
        },
        "id": "58mwhRZQE0xb",
        "outputId": "c99a164f-6414-4142-9f21-f114260e5c61"
      },
      "execution_count": null,
      "outputs": [
        {
          "output_type": "error",
          "ename": "TypeError",
          "evalue": "ignored",
          "traceback": [
            "\u001b[0;31m---------------------------------------------------------------------------\u001b[0m",
            "\u001b[0;31mTypeError\u001b[0m                                 Traceback (most recent call last)",
            "\u001b[0;32m<ipython-input-10-319368ed4d92>\u001b[0m in \u001b[0;36m<module>\u001b[0;34m()\u001b[0m\n\u001b[1;32m      1\u001b[0m \u001b[0;31m# prepare dataset 2, MI > 0.2\u001b[0m\u001b[0;34m\u001b[0m\u001b[0;34m\u001b[0m\u001b[0;34m\u001b[0m\u001b[0m\n\u001b[1;32m      2\u001b[0m \u001b[0mmi_score_selected_index\u001b[0m \u001b[0;34m=\u001b[0m \u001b[0mnp\u001b[0m\u001b[0;34m.\u001b[0m\u001b[0mwhere\u001b[0m\u001b[0;34m(\u001b[0m\u001b[0mmi_score\u001b[0m \u001b[0;34m>\u001b[0m \u001b[0;36m0.01\u001b[0m\u001b[0;34m)\u001b[0m\u001b[0;34m[\u001b[0m\u001b[0;36m0\u001b[0m\u001b[0;34m]\u001b[0m\u001b[0;34m\u001b[0m\u001b[0;34m\u001b[0m\u001b[0m\n\u001b[0;32m----> 3\u001b[0;31m \u001b[0mX_2\u001b[0m \u001b[0;34m=\u001b[0m \u001b[0mX\u001b[0m\u001b[0;34m[\u001b[0m\u001b[0;34m:\u001b[0m\u001b[0;34m,\u001b[0m \u001b[0mmi_score_selected_index\u001b[0m\u001b[0;34m]\u001b[0m\u001b[0;34m\u001b[0m\u001b[0;34m\u001b[0m\u001b[0m\n\u001b[0m\u001b[1;32m      4\u001b[0m X_train_2, X_test_2, y_train, y_test = train_test_split(\n\u001b[1;32m      5\u001b[0m     \u001b[0mX_2\u001b[0m\u001b[0;34m,\u001b[0m \u001b[0my\u001b[0m\u001b[0;34m,\u001b[0m \u001b[0mrandom_state\u001b[0m\u001b[0;34m=\u001b[0m\u001b[0;36m0\u001b[0m\u001b[0;34m,\u001b[0m \u001b[0mstratify\u001b[0m\u001b[0;34m=\u001b[0m\u001b[0my\u001b[0m\u001b[0;34m\u001b[0m\u001b[0;34m\u001b[0m\u001b[0m\n",
            "\u001b[0;32m/usr/local/lib/python3.7/dist-packages/pandas/core/frame.py\u001b[0m in \u001b[0;36m__getitem__\u001b[0;34m(self, key)\u001b[0m\n\u001b[1;32m   3456\u001b[0m             \u001b[0;32mif\u001b[0m \u001b[0mself\u001b[0m\u001b[0;34m.\u001b[0m\u001b[0mcolumns\u001b[0m\u001b[0;34m.\u001b[0m\u001b[0mnlevels\u001b[0m \u001b[0;34m>\u001b[0m \u001b[0;36m1\u001b[0m\u001b[0;34m:\u001b[0m\u001b[0;34m\u001b[0m\u001b[0;34m\u001b[0m\u001b[0m\n\u001b[1;32m   3457\u001b[0m                 \u001b[0;32mreturn\u001b[0m \u001b[0mself\u001b[0m\u001b[0;34m.\u001b[0m\u001b[0m_getitem_multilevel\u001b[0m\u001b[0;34m(\u001b[0m\u001b[0mkey\u001b[0m\u001b[0;34m)\u001b[0m\u001b[0;34m\u001b[0m\u001b[0;34m\u001b[0m\u001b[0m\n\u001b[0;32m-> 3458\u001b[0;31m             \u001b[0mindexer\u001b[0m \u001b[0;34m=\u001b[0m \u001b[0mself\u001b[0m\u001b[0;34m.\u001b[0m\u001b[0mcolumns\u001b[0m\u001b[0;34m.\u001b[0m\u001b[0mget_loc\u001b[0m\u001b[0;34m(\u001b[0m\u001b[0mkey\u001b[0m\u001b[0;34m)\u001b[0m\u001b[0;34m\u001b[0m\u001b[0;34m\u001b[0m\u001b[0m\n\u001b[0m\u001b[1;32m   3459\u001b[0m             \u001b[0;32mif\u001b[0m \u001b[0mis_integer\u001b[0m\u001b[0;34m(\u001b[0m\u001b[0mindexer\u001b[0m\u001b[0;34m)\u001b[0m\u001b[0;34m:\u001b[0m\u001b[0;34m\u001b[0m\u001b[0;34m\u001b[0m\u001b[0m\n\u001b[1;32m   3460\u001b[0m                 \u001b[0mindexer\u001b[0m \u001b[0;34m=\u001b[0m \u001b[0;34m[\u001b[0m\u001b[0mindexer\u001b[0m\u001b[0;34m]\u001b[0m\u001b[0;34m\u001b[0m\u001b[0;34m\u001b[0m\u001b[0m\n",
            "\u001b[0;32m/usr/local/lib/python3.7/dist-packages/pandas/core/indexes/base.py\u001b[0m in \u001b[0;36mget_loc\u001b[0;34m(self, key, method, tolerance)\u001b[0m\n\u001b[1;32m   3359\u001b[0m             \u001b[0mcasted_key\u001b[0m \u001b[0;34m=\u001b[0m \u001b[0mself\u001b[0m\u001b[0;34m.\u001b[0m\u001b[0m_maybe_cast_indexer\u001b[0m\u001b[0;34m(\u001b[0m\u001b[0mkey\u001b[0m\u001b[0;34m)\u001b[0m\u001b[0;34m\u001b[0m\u001b[0;34m\u001b[0m\u001b[0m\n\u001b[1;32m   3360\u001b[0m             \u001b[0;32mtry\u001b[0m\u001b[0;34m:\u001b[0m\u001b[0;34m\u001b[0m\u001b[0;34m\u001b[0m\u001b[0m\n\u001b[0;32m-> 3361\u001b[0;31m                 \u001b[0;32mreturn\u001b[0m \u001b[0mself\u001b[0m\u001b[0;34m.\u001b[0m\u001b[0m_engine\u001b[0m\u001b[0;34m.\u001b[0m\u001b[0mget_loc\u001b[0m\u001b[0;34m(\u001b[0m\u001b[0mcasted_key\u001b[0m\u001b[0;34m)\u001b[0m\u001b[0;34m\u001b[0m\u001b[0;34m\u001b[0m\u001b[0m\n\u001b[0m\u001b[1;32m   3362\u001b[0m             \u001b[0;32mexcept\u001b[0m \u001b[0mKeyError\u001b[0m \u001b[0;32mas\u001b[0m \u001b[0merr\u001b[0m\u001b[0;34m:\u001b[0m\u001b[0;34m\u001b[0m\u001b[0;34m\u001b[0m\u001b[0m\n\u001b[1;32m   3363\u001b[0m                 \u001b[0;32mraise\u001b[0m \u001b[0mKeyError\u001b[0m\u001b[0;34m(\u001b[0m\u001b[0mkey\u001b[0m\u001b[0;34m)\u001b[0m \u001b[0;32mfrom\u001b[0m \u001b[0merr\u001b[0m\u001b[0;34m\u001b[0m\u001b[0;34m\u001b[0m\u001b[0m\n",
            "\u001b[0;32m/usr/local/lib/python3.7/dist-packages/pandas/_libs/index.pyx\u001b[0m in \u001b[0;36mpandas._libs.index.IndexEngine.get_loc\u001b[0;34m()\u001b[0m\n",
            "\u001b[0;32m/usr/local/lib/python3.7/dist-packages/pandas/_libs/index.pyx\u001b[0m in \u001b[0;36mpandas._libs.index.IndexEngine.get_loc\u001b[0;34m()\u001b[0m\n",
            "\u001b[0;31mTypeError\u001b[0m: '(slice(None, None, None), array([  3,  13,  14,  15,  16,  17,  18,  19,  20,  26,  35,  86, 143,\n       233, 249]))' is an invalid key"
          ]
        }
      ]
    },
    {
      "cell_type": "code",
      "source": [
        "from sklearn.datasets import fetch_openml\n",
        "from sklearn.feature_selection import SelectKBest, SelectPercentile, mutual_info_classif\n"
      ],
      "metadata": {
        "id": "VXOZvx_oH3UV"
      },
      "execution_count": null,
      "outputs": []
    },
    {
      "cell_type": "code",
      "source": [
        "\n",
        "selector = SelectPercentile(mutual_info_classif, percentile=20)\n",
        "X_reduced = selector.fit_transform(X, y)\n",
        "X_reduced.shape\n"
      ],
      "metadata": {
        "colab": {
          "base_uri": "https://localhost:8080/"
        },
        "id": "gXB1KPWrH-cS",
        "outputId": "d5cbdc1e-c4db-4be2-a2f3-0f18e2a5092e"
      },
      "execution_count": null,
      "outputs": [
        {
          "output_type": "execute_result",
          "data": {
            "text/plain": [
              "(16663, 109)"
            ]
          },
          "metadata": {},
          "execution_count": 43
        }
      ]
    },
    {
      "cell_type": "code",
      "source": [
        "\n",
        "cols = selector.get_support(indices=True)\n",
        "selected_columns = X.iloc[:,cols].columns.tolist()\n",
        "selected_columns\n"
      ],
      "metadata": {
        "colab": {
          "base_uri": "https://localhost:8080/"
        },
        "id": "DKXy7X-yJjOX",
        "outputId": "99b561e2-097c-41a1-e5ac-19dc7634e8bc"
      },
      "execution_count": null,
      "outputs": [
        {
          "output_type": "execute_result",
          "data": {
            "text/plain": [
              "['zero_crossing_rate_0',\n",
              " 'tempogram_29',\n",
              " 'tempogram_34',\n",
              " 'tempogram_40',\n",
              " 'tempogram_41',\n",
              " 'tempogram_42',\n",
              " 'tempogram_43',\n",
              " 'tempogram_44',\n",
              " 'tempogram_46',\n",
              " 'tempogram_47',\n",
              " 'tempogram_48',\n",
              " 'tempogram_51',\n",
              " 'tempogram_52',\n",
              " 'tempogram_53',\n",
              " 'tempogram_54',\n",
              " 'tempogram_58',\n",
              " 'tempogram_60',\n",
              " 'tempogram_66',\n",
              " 'tempogram_67',\n",
              " 'tempogram_69',\n",
              " 'tempogram_70',\n",
              " 'tempogram_71',\n",
              " 'tempogram_72',\n",
              " 'tempogram_73',\n",
              " 'tempogram_75',\n",
              " 'tempogram_76',\n",
              " 'tempogram_80',\n",
              " 'tempogram_84',\n",
              " 'tempogram_85',\n",
              " 'tempogram_86',\n",
              " 'tempogram_88',\n",
              " 'tempogram_90',\n",
              " 'tempogram_91',\n",
              " 'tempogram_92',\n",
              " 'tempogram_93',\n",
              " 'tempogram_95',\n",
              " 'tempogram_97',\n",
              " 'tempogram_98',\n",
              " 'tempogram_99',\n",
              " 'tempogram_100',\n",
              " 'tempogram_101',\n",
              " 'tempogram_102',\n",
              " 'tempogram_104',\n",
              " 'tempogram_106',\n",
              " 'tempogram_107',\n",
              " 'tempogram_110',\n",
              " 'tempogram_112',\n",
              " 'tempogram_117',\n",
              " 'tempogram_120',\n",
              " 'tempogram_123',\n",
              " 'tempogram_127',\n",
              " 'tempogram_131',\n",
              " 'tempogram_132',\n",
              " 'tempogram_133',\n",
              " 'tempogram_135',\n",
              " 'tempogram_136',\n",
              " 'tempogram_137',\n",
              " 'tempogram_140',\n",
              " 'tempogram_145',\n",
              " 'tempogram_146',\n",
              " 'tempogram_147',\n",
              " 'tempogram_148',\n",
              " 'tempogram_154',\n",
              " 'tempogram_155',\n",
              " 'tempogram_156',\n",
              " 'tempogram_160',\n",
              " 'tempogram_161',\n",
              " 'tempogram_163',\n",
              " 'tempogram_168',\n",
              " 'tempogram_171',\n",
              " 'tempogram_172',\n",
              " 'tempogram_174',\n",
              " 'tempogram_178',\n",
              " 'tempogram_179',\n",
              " 'tempogram_181',\n",
              " 'tempogram_200',\n",
              " 'tempogram_202',\n",
              " 'tempogram_212',\n",
              " 'tempogram_218',\n",
              " 'tempogram_219',\n",
              " 'tempogram_222',\n",
              " 'tempogram_257',\n",
              " 'tempogram_259',\n",
              " 'tempogram_260']"
            ]
          },
          "metadata": {},
          "execution_count": 41
        }
      ]
    },
    {
      "cell_type": "code",
      "source": [
        "X_train, X_test, y_train, y_test = train_test_split(X_reduced, y, test_size=0.2, random_state=4)\n",
        "\n",
        "\n",
        "nb = GaussianNB()\n",
        "\n",
        "nb=nb.fit(X_train, y_train)\n",
        "y_pred = nb.predict(X_test)\n",
        "print('Accuracy' ,accuracy_score(y_test, y_pred))\n",
        "y_pred1 = nb.predict(X_train)\n",
        "print('Accuracy train' ,accuracy_score(y_train, y_pred1))\n",
        "\n",
        "\n"
      ],
      "metadata": {
        "colab": {
          "base_uri": "https://localhost:8080/"
        },
        "id": "nWOT5krjJ5zG",
        "outputId": "22621f3d-031a-4e09-a3d1-e1db8c266e71"
      },
      "execution_count": null,
      "outputs": [
        {
          "output_type": "stream",
          "name": "stdout",
          "text": [
            "Accuracy 0.6210621062106211\n",
            "Accuracy train 0.6201050262565642\n"
          ]
        }
      ]
    },
    {
      "cell_type": "code",
      "source": [
        "classifier = svm.SVC(kernel='rbf',C=10)\n",
        "\n",
        "classifier.fit(X_train, y_train)\n",
        "y_pred = classifier.predict(X_test)\n",
        "print('Accuracy' ,accuracy_score(y_test, y_pred))\n",
        "y_pred1 = classifier.predict(X_train)\n",
        "print('Accuracy train' ,accuracy_score(y_train, y_pred1))"
      ],
      "metadata": {
        "colab": {
          "base_uri": "https://localhost:8080/"
        },
        "id": "LABcawdoK57-",
        "outputId": "981f5bbe-04e2-4877-e538-17a1d5a57ee4"
      },
      "execution_count": null,
      "outputs": [
        {
          "output_type": "stream",
          "name": "stdout",
          "text": [
            "Accuracy 0.7470747074707471\n",
            "Accuracy train 0.7445611402850713\n"
          ]
        }
      ]
    },
    {
      "cell_type": "markdown",
      "source": [
        "### gridsearch for svm"
      ],
      "metadata": {
        "id": "5uLPHkMCYLil"
      }
    },
    {
      "cell_type": "code",
      "source": [
        "X_train = scale(X_train)\n",
        "#X_train = sc.fit_transform(X_train)\n",
        "X_test=scale(X_test)"
      ],
      "metadata": {
        "id": "TL1X7ofVRTVm"
      },
      "execution_count": null,
      "outputs": []
    },
    {
      "cell_type": "code",
      "source": [
        "from sklearn.model_selection import GridSearchCV\n",
        "\n",
        "tuned_parameters = [\n",
        "   {\"kernel\": [\"poly\"], 'degree' : [2, 3, 4],'C' : [1, 10], 'gamma' : [0.01, 0.03]},\n",
        "   {\"kernel\": [\"linear\"], \"C\": [1, 10]},\n",
        "    {\"kernel\": [\"rbf\"], \"gamma\": [0.1, 0.3, 0.5], \"C\": [1, 10]}\n",
        "]\n",
        "\n",
        "clf = GridSearchCV(\n",
        "    estimator=svm.SVC(),\n",
        "    param_grid=tuned_parameters,\n",
        "     scoring='accuracy',\n",
        "     cv=5,\n",
        "     verbose=0\n",
        ")\n",
        "clf.fit(X_train, y_train)\n",
        "print(clf.best_params_)"
      ],
      "metadata": {
        "id": "2NctKr-cLdCS"
      },
      "execution_count": null,
      "outputs": []
    },
    {
      "cell_type": "code",
      "source": [
        "classifier = svm.SVC(kernel='rbf',C=1,gamma=0.1)\n",
        "\n",
        "classifier.fit(X_train, y_train)\n",
        "y_pred = classifier.predict(X_test)\n",
        "print('Accuracy' ,accuracy_score(y_test, y_pred))\n",
        "y_pred1 = classifier.predict(X_train)\n",
        "print('Accuracy train' ,accuracy_score(y_train, y_pred1))"
      ],
      "metadata": {
        "colab": {
          "base_uri": "https://localhost:8080/"
        },
        "id": "BvvS6wpgRvUm",
        "outputId": "392204a7-f134-4f9a-8405-b386840e734e"
      },
      "execution_count": null,
      "outputs": [
        {
          "output_type": "stream",
          "name": "stdout",
          "text": [
            "Accuracy 0.7611761176117612\n",
            "Accuracy train 0.8308327081770442\n"
          ]
        }
      ]
    },
    {
      "cell_type": "markdown",
      "source": [
        "## decision tree with mutual information and scaling"
      ],
      "metadata": {
        "id": "DtUG1nw3ZTnp"
      }
    },
    {
      "cell_type": "code",
      "source": [
        ""
      ],
      "metadata": {
        "id": "FyI0PKSAadlp"
      },
      "execution_count": null,
      "outputs": []
    },
    {
      "cell_type": "code",
      "source": [
        "from sklearn.preprocessing import StandardScaler,scale\n",
        "\n",
        "X_train, X_test, y_train, y_test = train_test_split(X_reduced, y, test_size=0.2, random_state=4)\n",
        "X_train = scale(X_train)\n",
        "#X_train = sc.fit_transform(X_train)\n",
        "X_test=scale(X_test)"
      ],
      "metadata": {
        "id": "wDFCvEZraIQJ"
      },
      "execution_count": null,
      "outputs": []
    },
    {
      "cell_type": "code",
      "source": [
        "from sklearn import tree\n",
        "\n",
        "clf = tree.DecisionTreeClassifier()\n",
        "clf = clf.fit(X_train, y_train)\n",
        "y_pred = clf.predict(X_test)\n",
        "print('Accuracy' ,accuracy_score(y_test, y_pred))\n",
        "y_pred1 = clf.predict(X_train)\n",
        "print('Accuracy train' ,accuracy_score(y_train, y_pred1))"
      ],
      "metadata": {
        "colab": {
          "base_uri": "https://localhost:8080/"
        },
        "id": "C0DOqSNJZQsE",
        "outputId": "03d884ee-5619-411d-e51c-e0c596f9f74e"
      },
      "execution_count": null,
      "outputs": [
        {
          "output_type": "stream",
          "name": "stdout",
          "text": [
            "Accuracy 0.906990699069907\n",
            "Accuracy train 1.0\n"
          ]
        }
      ]
    },
    {
      "cell_type": "code",
      "source": [
        ""
      ],
      "metadata": {
        "id": "OIJ7b4HKYQs9"
      },
      "execution_count": null,
      "outputs": []
    },
    {
      "cell_type": "code",
      "source": [
        ""
      ],
      "metadata": {
        "id": "qjwJfcS64MS7"
      },
      "execution_count": null,
      "outputs": []
    },
    {
      "cell_type": "markdown",
      "source": [
        "# new\n",
        "\n",
        "\n",
        "\n",
        "---\n",
        "# ml final project classification\n",
        "\n",
        "\n"
      ],
      "metadata": {
        "id": "q_eih5PaQStM"
      }
    },
    {
      "cell_type": "code",
      "source": [
        "X = df.drop(['sex','emotionID','Unnamed: 0'],1)   #Feature Matrix\n",
        "y = df[\"sex\"]\n",
        "\n",
        "\n",
        "X_train, X_test, y_train, y_test = train_test_split(X, y, test_size=0.2, random_state=4)\n",
        "from sklearn.preprocessing import StandardScaler,scale\n",
        "#X_train, X_test, y_train, y_test = train_test_split(X, y, test_size=0.2, random_state=4)\n",
        "\n",
        "X_train = scale(X_train)\n",
        "#X_train = sc.fit_transform(X_train)\n",
        "X_test=scale(X_test)\n",
        "#X_test = sc.transform(X_test)"
      ],
      "metadata": {
        "id": "acidKmEg4MLx",
        "colab": {
          "base_uri": "https://localhost:8080/"
        },
        "outputId": "181bb699-6bac-48e1-8818-b8f91266e28b"
      },
      "execution_count": null,
      "outputs": [
        {
          "output_type": "stream",
          "name": "stderr",
          "text": [
            "/usr/local/lib/python3.7/dist-packages/ipykernel_launcher.py:1: FutureWarning: In a future version of pandas all arguments of DataFrame.drop except for the argument 'labels' will be keyword-only\n",
            "  \"\"\"Entry point for launching an IPython kernel.\n"
          ]
        }
      ]
    },
    {
      "cell_type": "markdown",
      "source": [
        "## confusion matrix"
      ],
      "metadata": {
        "id": "RVJZAaYUao43"
      }
    },
    {
      "cell_type": "code",
      "source": [
        "from sklearn.metrics import classification_report, confusion_matrix\n",
        "import matplotlib.pyplot as plt\n",
        "import itertools\n",
        "\n",
        "def plot_confusion_matrix(cm, classes,\n",
        "                          normalize=False,\n",
        "                          title='Confusion matrix',\n",
        "                          cmap=plt.cm.Blues):\n",
        "\n",
        "    # This function prints and plots the confusion matrix.\n",
        "    # Normalization can be applied by setting `normalize=True`.\n",
        "    \n",
        "    if normalize:\n",
        "        cm = cm.astype('float') / cm.sum(axis=1)[:, np.newaxis]\n",
        "        print(\"Normalized confusion matrix\")\n",
        "    else:\n",
        "        print('Confusion matrix, without normalization')\n",
        "\n",
        "#     print(cm)\n",
        "\n",
        "    plt.imshow(cm, interpolation='nearest', cmap=cmap)\n",
        "    plt.title(title)\n",
        "    plt.colorbar()\n",
        "    tick_marks = np.arange(len(classes))\n",
        "    plt.xticks(tick_marks, classes, rotation=90)\n",
        "    plt.yticks(tick_marks, classes)\n",
        "\n",
        "    fmt = '.2f' if normalize else 'd'\n",
        "    thresh = cm.max() / 2.\n",
        "    for i, j in itertools.product(range(cm.shape[0]), range(cm.shape[1])):\n",
        "        plt.text(j, i, format(cm[i, j], fmt),\n",
        "                 horizontalalignment=\"center\",\n",
        "                 color=\"white\" if cm[i, j] > thresh else \"black\")\n",
        "\n",
        "    plt.tight_layout()\n",
        "    plt.ylabel('True label')\n",
        "    plt.xlabel('Predicted label')"
      ],
      "metadata": {
        "id": "ZEgFoy049NCD"
      },
      "execution_count": null,
      "outputs": []
    },
    {
      "cell_type": "markdown",
      "source": [
        "## logistic regression"
      ],
      "metadata": {
        "id": "LF6xYJXpauxz"
      }
    },
    {
      "cell_type": "code",
      "source": [
        "from sklearn.linear_model import LogisticRegression\n",
        "import seaborn as sns\n",
        "from sklearn.preprocessing import StandardScaler\n",
        "from sklearn.pipeline import make_pipeline\n",
        "\n",
        "lr_clf = make_pipeline(StandardScaler(), LogisticRegression(solver='liblinear', class_weight='balanced' , C = 0.1))     # Best Result\n",
        "lr_clf.fit(X_train, y_train)\n",
        "lr_yhat = lr_clf.predict(X_test)"
      ],
      "metadata": {
        "id": "U9roEt4oatTM"
      },
      "execution_count": null,
      "outputs": []
    },
    {
      "cell_type": "code",
      "source": [
        "import plotly.express as px\n",
        "from sklearn import metrics\n",
        "\n",
        "lr_acc_train = round( metrics.accuracy_score(y_train, lr_clf.predict(X_train))*100 ,2)\n",
        "lr_acc_test = round( metrics.accuracy_score(y_test, lr_yhat)*100 ,2)\n",
        "lr_jac_train = round( metrics.jaccard_score(y_train, lr_clf.predict(X_train),average='weighted')*100 ,2)\n",
        "lr_jac_test = round( metrics.jaccard_score(y_test, lr_yhat,average='weighted')*100 ,2)\n",
        "\n",
        "lr_df1 = pd.DataFrame({'percent':[lr_acc_train,lr_acc_test,lr_jac_train,lr_jac_test],\n",
        "                       'label' : ['train' , 'test' , 'train' , 'test'],\n",
        "                       'metric': ['Accuracy' , 'Accuracy' , 'Weighted Jaccard Score' , 'Weighted Jaccard Score']})\n",
        "\n",
        "\n",
        "fig = px.bar(lr_df1 , x='metric' , y='percent' , color='label' ,\n",
        "             title='Logistic Regression Accuracy/Jaccard for Train/Test Data (First Try)' ,\n",
        "             text=\"percent\", barmode=\"group\")\n",
        "fig.show()"
      ],
      "metadata": {
        "colab": {
          "base_uri": "https://localhost:8080/",
          "height": 542
        },
        "id": "a5ldm22La5j1",
        "outputId": "1904d33c-7215-4286-e0b1-eaff63f35fc0"
      },
      "execution_count": null,
      "outputs": [
        {
          "output_type": "display_data",
          "data": {
            "text/html": [
              "<html>\n",
              "<head><meta charset=\"utf-8\" /></head>\n",
              "<body>\n",
              "    <div>            <script src=\"https://cdnjs.cloudflare.com/ajax/libs/mathjax/2.7.5/MathJax.js?config=TeX-AMS-MML_SVG\"></script><script type=\"text/javascript\">if (window.MathJax) {MathJax.Hub.Config({SVG: {font: \"STIX-Web\"}});}</script>                <script type=\"text/javascript\">window.PlotlyConfig = {MathJaxConfig: 'local'};</script>\n",
              "        <script src=\"https://cdn.plot.ly/plotly-2.8.3.min.js\"></script>                <div id=\"5b2ab155-47b6-4e30-899e-dbd76ff75179\" class=\"plotly-graph-div\" style=\"height:525px; width:100%;\"></div>            <script type=\"text/javascript\">                                    window.PLOTLYENV=window.PLOTLYENV || {};                                    if (document.getElementById(\"5b2ab155-47b6-4e30-899e-dbd76ff75179\")) {                    Plotly.newPlot(                        \"5b2ab155-47b6-4e30-899e-dbd76ff75179\",                        [{\"alignmentgroup\":\"True\",\"hovertemplate\":\"label=train<br>metric=%{x}<br>percent=%{text}<extra></extra>\",\"legendgroup\":\"train\",\"marker\":{\"color\":\"#636efa\",\"pattern\":{\"shape\":\"\"}},\"name\":\"train\",\"offsetgroup\":\"train\",\"orientation\":\"v\",\"showlegend\":true,\"text\":[88.81,79.89],\"textposition\":\"auto\",\"x\":[\"Accuracy\",\"Weighted Jaccard Score\"],\"xaxis\":\"x\",\"y\":[88.81,79.89],\"yaxis\":\"y\",\"type\":\"bar\"},{\"alignmentgroup\":\"True\",\"hovertemplate\":\"label=test<br>metric=%{x}<br>percent=%{text}<extra></extra>\",\"legendgroup\":\"test\",\"marker\":{\"color\":\"#EF553B\",\"pattern\":{\"shape\":\"\"}},\"name\":\"test\",\"offsetgroup\":\"test\",\"orientation\":\"v\",\"showlegend\":true,\"text\":[87.88,78.39],\"textposition\":\"auto\",\"x\":[\"Accuracy\",\"Weighted Jaccard Score\"],\"xaxis\":\"x\",\"y\":[87.88,78.39],\"yaxis\":\"y\",\"type\":\"bar\"}],                        {\"template\":{\"data\":{\"bar\":[{\"error_x\":{\"color\":\"#2a3f5f\"},\"error_y\":{\"color\":\"#2a3f5f\"},\"marker\":{\"line\":{\"color\":\"#E5ECF6\",\"width\":0.5},\"pattern\":{\"fillmode\":\"overlay\",\"size\":10,\"solidity\":0.2}},\"type\":\"bar\"}],\"barpolar\":[{\"marker\":{\"line\":{\"color\":\"#E5ECF6\",\"width\":0.5},\"pattern\":{\"fillmode\":\"overlay\",\"size\":10,\"solidity\":0.2}},\"type\":\"barpolar\"}],\"carpet\":[{\"aaxis\":{\"endlinecolor\":\"#2a3f5f\",\"gridcolor\":\"white\",\"linecolor\":\"white\",\"minorgridcolor\":\"white\",\"startlinecolor\":\"#2a3f5f\"},\"baxis\":{\"endlinecolor\":\"#2a3f5f\",\"gridcolor\":\"white\",\"linecolor\":\"white\",\"minorgridcolor\":\"white\",\"startlinecolor\":\"#2a3f5f\"},\"type\":\"carpet\"}],\"choropleth\":[{\"colorbar\":{\"outlinewidth\":0,\"ticks\":\"\"},\"type\":\"choropleth\"}],\"contour\":[{\"colorbar\":{\"outlinewidth\":0,\"ticks\":\"\"},\"colorscale\":[[0.0,\"#0d0887\"],[0.1111111111111111,\"#46039f\"],[0.2222222222222222,\"#7201a8\"],[0.3333333333333333,\"#9c179e\"],[0.4444444444444444,\"#bd3786\"],[0.5555555555555556,\"#d8576b\"],[0.6666666666666666,\"#ed7953\"],[0.7777777777777778,\"#fb9f3a\"],[0.8888888888888888,\"#fdca26\"],[1.0,\"#f0f921\"]],\"type\":\"contour\"}],\"contourcarpet\":[{\"colorbar\":{\"outlinewidth\":0,\"ticks\":\"\"},\"type\":\"contourcarpet\"}],\"heatmap\":[{\"colorbar\":{\"outlinewidth\":0,\"ticks\":\"\"},\"colorscale\":[[0.0,\"#0d0887\"],[0.1111111111111111,\"#46039f\"],[0.2222222222222222,\"#7201a8\"],[0.3333333333333333,\"#9c179e\"],[0.4444444444444444,\"#bd3786\"],[0.5555555555555556,\"#d8576b\"],[0.6666666666666666,\"#ed7953\"],[0.7777777777777778,\"#fb9f3a\"],[0.8888888888888888,\"#fdca26\"],[1.0,\"#f0f921\"]],\"type\":\"heatmap\"}],\"heatmapgl\":[{\"colorbar\":{\"outlinewidth\":0,\"ticks\":\"\"},\"colorscale\":[[0.0,\"#0d0887\"],[0.1111111111111111,\"#46039f\"],[0.2222222222222222,\"#7201a8\"],[0.3333333333333333,\"#9c179e\"],[0.4444444444444444,\"#bd3786\"],[0.5555555555555556,\"#d8576b\"],[0.6666666666666666,\"#ed7953\"],[0.7777777777777778,\"#fb9f3a\"],[0.8888888888888888,\"#fdca26\"],[1.0,\"#f0f921\"]],\"type\":\"heatmapgl\"}],\"histogram\":[{\"marker\":{\"pattern\":{\"fillmode\":\"overlay\",\"size\":10,\"solidity\":0.2}},\"type\":\"histogram\"}],\"histogram2d\":[{\"colorbar\":{\"outlinewidth\":0,\"ticks\":\"\"},\"colorscale\":[[0.0,\"#0d0887\"],[0.1111111111111111,\"#46039f\"],[0.2222222222222222,\"#7201a8\"],[0.3333333333333333,\"#9c179e\"],[0.4444444444444444,\"#bd3786\"],[0.5555555555555556,\"#d8576b\"],[0.6666666666666666,\"#ed7953\"],[0.7777777777777778,\"#fb9f3a\"],[0.8888888888888888,\"#fdca26\"],[1.0,\"#f0f921\"]],\"type\":\"histogram2d\"}],\"histogram2dcontour\":[{\"colorbar\":{\"outlinewidth\":0,\"ticks\":\"\"},\"colorscale\":[[0.0,\"#0d0887\"],[0.1111111111111111,\"#46039f\"],[0.2222222222222222,\"#7201a8\"],[0.3333333333333333,\"#9c179e\"],[0.4444444444444444,\"#bd3786\"],[0.5555555555555556,\"#d8576b\"],[0.6666666666666666,\"#ed7953\"],[0.7777777777777778,\"#fb9f3a\"],[0.8888888888888888,\"#fdca26\"],[1.0,\"#f0f921\"]],\"type\":\"histogram2dcontour\"}],\"mesh3d\":[{\"colorbar\":{\"outlinewidth\":0,\"ticks\":\"\"},\"type\":\"mesh3d\"}],\"parcoords\":[{\"line\":{\"colorbar\":{\"outlinewidth\":0,\"ticks\":\"\"}},\"type\":\"parcoords\"}],\"pie\":[{\"automargin\":true,\"type\":\"pie\"}],\"scatter\":[{\"marker\":{\"colorbar\":{\"outlinewidth\":0,\"ticks\":\"\"}},\"type\":\"scatter\"}],\"scatter3d\":[{\"line\":{\"colorbar\":{\"outlinewidth\":0,\"ticks\":\"\"}},\"marker\":{\"colorbar\":{\"outlinewidth\":0,\"ticks\":\"\"}},\"type\":\"scatter3d\"}],\"scattercarpet\":[{\"marker\":{\"colorbar\":{\"outlinewidth\":0,\"ticks\":\"\"}},\"type\":\"scattercarpet\"}],\"scattergeo\":[{\"marker\":{\"colorbar\":{\"outlinewidth\":0,\"ticks\":\"\"}},\"type\":\"scattergeo\"}],\"scattergl\":[{\"marker\":{\"colorbar\":{\"outlinewidth\":0,\"ticks\":\"\"}},\"type\":\"scattergl\"}],\"scattermapbox\":[{\"marker\":{\"colorbar\":{\"outlinewidth\":0,\"ticks\":\"\"}},\"type\":\"scattermapbox\"}],\"scatterpolar\":[{\"marker\":{\"colorbar\":{\"outlinewidth\":0,\"ticks\":\"\"}},\"type\":\"scatterpolar\"}],\"scatterpolargl\":[{\"marker\":{\"colorbar\":{\"outlinewidth\":0,\"ticks\":\"\"}},\"type\":\"scatterpolargl\"}],\"scatterternary\":[{\"marker\":{\"colorbar\":{\"outlinewidth\":0,\"ticks\":\"\"}},\"type\":\"scatterternary\"}],\"surface\":[{\"colorbar\":{\"outlinewidth\":0,\"ticks\":\"\"},\"colorscale\":[[0.0,\"#0d0887\"],[0.1111111111111111,\"#46039f\"],[0.2222222222222222,\"#7201a8\"],[0.3333333333333333,\"#9c179e\"],[0.4444444444444444,\"#bd3786\"],[0.5555555555555556,\"#d8576b\"],[0.6666666666666666,\"#ed7953\"],[0.7777777777777778,\"#fb9f3a\"],[0.8888888888888888,\"#fdca26\"],[1.0,\"#f0f921\"]],\"type\":\"surface\"}],\"table\":[{\"cells\":{\"fill\":{\"color\":\"#EBF0F8\"},\"line\":{\"color\":\"white\"}},\"header\":{\"fill\":{\"color\":\"#C8D4E3\"},\"line\":{\"color\":\"white\"}},\"type\":\"table\"}]},\"layout\":{\"annotationdefaults\":{\"arrowcolor\":\"#2a3f5f\",\"arrowhead\":0,\"arrowwidth\":1},\"autotypenumbers\":\"strict\",\"coloraxis\":{\"colorbar\":{\"outlinewidth\":0,\"ticks\":\"\"}},\"colorscale\":{\"diverging\":[[0,\"#8e0152\"],[0.1,\"#c51b7d\"],[0.2,\"#de77ae\"],[0.3,\"#f1b6da\"],[0.4,\"#fde0ef\"],[0.5,\"#f7f7f7\"],[0.6,\"#e6f5d0\"],[0.7,\"#b8e186\"],[0.8,\"#7fbc41\"],[0.9,\"#4d9221\"],[1,\"#276419\"]],\"sequential\":[[0.0,\"#0d0887\"],[0.1111111111111111,\"#46039f\"],[0.2222222222222222,\"#7201a8\"],[0.3333333333333333,\"#9c179e\"],[0.4444444444444444,\"#bd3786\"],[0.5555555555555556,\"#d8576b\"],[0.6666666666666666,\"#ed7953\"],[0.7777777777777778,\"#fb9f3a\"],[0.8888888888888888,\"#fdca26\"],[1.0,\"#f0f921\"]],\"sequentialminus\":[[0.0,\"#0d0887\"],[0.1111111111111111,\"#46039f\"],[0.2222222222222222,\"#7201a8\"],[0.3333333333333333,\"#9c179e\"],[0.4444444444444444,\"#bd3786\"],[0.5555555555555556,\"#d8576b\"],[0.6666666666666666,\"#ed7953\"],[0.7777777777777778,\"#fb9f3a\"],[0.8888888888888888,\"#fdca26\"],[1.0,\"#f0f921\"]]},\"colorway\":[\"#636efa\",\"#EF553B\",\"#00cc96\",\"#ab63fa\",\"#FFA15A\",\"#19d3f3\",\"#FF6692\",\"#B6E880\",\"#FF97FF\",\"#FECB52\"],\"font\":{\"color\":\"#2a3f5f\"},\"geo\":{\"bgcolor\":\"white\",\"lakecolor\":\"white\",\"landcolor\":\"#E5ECF6\",\"showlakes\":true,\"showland\":true,\"subunitcolor\":\"white\"},\"hoverlabel\":{\"align\":\"left\"},\"hovermode\":\"closest\",\"mapbox\":{\"style\":\"light\"},\"paper_bgcolor\":\"white\",\"plot_bgcolor\":\"#E5ECF6\",\"polar\":{\"angularaxis\":{\"gridcolor\":\"white\",\"linecolor\":\"white\",\"ticks\":\"\"},\"bgcolor\":\"#E5ECF6\",\"radialaxis\":{\"gridcolor\":\"white\",\"linecolor\":\"white\",\"ticks\":\"\"}},\"scene\":{\"xaxis\":{\"backgroundcolor\":\"#E5ECF6\",\"gridcolor\":\"white\",\"gridwidth\":2,\"linecolor\":\"white\",\"showbackground\":true,\"ticks\":\"\",\"zerolinecolor\":\"white\"},\"yaxis\":{\"backgroundcolor\":\"#E5ECF6\",\"gridcolor\":\"white\",\"gridwidth\":2,\"linecolor\":\"white\",\"showbackground\":true,\"ticks\":\"\",\"zerolinecolor\":\"white\"},\"zaxis\":{\"backgroundcolor\":\"#E5ECF6\",\"gridcolor\":\"white\",\"gridwidth\":2,\"linecolor\":\"white\",\"showbackground\":true,\"ticks\":\"\",\"zerolinecolor\":\"white\"}},\"shapedefaults\":{\"line\":{\"color\":\"#2a3f5f\"}},\"ternary\":{\"aaxis\":{\"gridcolor\":\"white\",\"linecolor\":\"white\",\"ticks\":\"\"},\"baxis\":{\"gridcolor\":\"white\",\"linecolor\":\"white\",\"ticks\":\"\"},\"bgcolor\":\"#E5ECF6\",\"caxis\":{\"gridcolor\":\"white\",\"linecolor\":\"white\",\"ticks\":\"\"}},\"title\":{\"x\":0.05},\"xaxis\":{\"automargin\":true,\"gridcolor\":\"white\",\"linecolor\":\"white\",\"ticks\":\"\",\"title\":{\"standoff\":15},\"zerolinecolor\":\"white\",\"zerolinewidth\":2},\"yaxis\":{\"automargin\":true,\"gridcolor\":\"white\",\"linecolor\":\"white\",\"ticks\":\"\",\"title\":{\"standoff\":15},\"zerolinecolor\":\"white\",\"zerolinewidth\":2}}},\"xaxis\":{\"anchor\":\"y\",\"domain\":[0.0,1.0],\"title\":{\"text\":\"metric\"}},\"yaxis\":{\"anchor\":\"x\",\"domain\":[0.0,1.0],\"title\":{\"text\":\"percent\"}},\"legend\":{\"title\":{\"text\":\"label\"},\"tracegroupgap\":0},\"title\":{\"text\":\"Logistic Regression Accuracy/Jaccard for Train/Test Data (First Try)\"},\"barmode\":\"group\"},                        {\"responsive\": true}                    ).then(function(){\n",
              "                            \n",
              "var gd = document.getElementById('5b2ab155-47b6-4e30-899e-dbd76ff75179');\n",
              "var x = new MutationObserver(function (mutations, observer) {{\n",
              "        var display = window.getComputedStyle(gd).display;\n",
              "        if (!display || display === 'none') {{\n",
              "            console.log([gd, 'removed!']);\n",
              "            Plotly.purge(gd);\n",
              "            observer.disconnect();\n",
              "        }}\n",
              "}});\n",
              "\n",
              "// Listen for the removal of the full notebook cells\n",
              "var notebookContainer = gd.closest('#notebook-container');\n",
              "if (notebookContainer) {{\n",
              "    x.observe(notebookContainer, {childList: true});\n",
              "}}\n",
              "\n",
              "// Listen for the clearing of the current output cell\n",
              "var outputEl = gd.closest('.output');\n",
              "if (outputEl) {{\n",
              "    x.observe(outputEl, {childList: true});\n",
              "}}\n",
              "\n",
              "                        })                };                            </script>        </div>\n",
              "</body>\n",
              "</html>"
            ]
          },
          "metadata": {}
        }
      ]
    },
    {
      "cell_type": "code",
      "source": [
        "from sklearn.metrics import classification_report, confusion_matrix\n",
        "import matplotlib.pyplot as plt\n",
        "\n",
        "print(\"Train set Accuracy: %\", round( 100* metrics.accuracy_score(y_train, lr_clf.predict(X_train))))\n",
        "print(\"Test set Accuracy: %\", round( 100* metrics.accuracy_score(y_test, lr_yhat)))\n",
        "print('')\n",
        "print (classification_report(y_test, lr_yhat))"
      ],
      "metadata": {
        "colab": {
          "base_uri": "https://localhost:8080/"
        },
        "id": "1ctruoR2bVHM",
        "outputId": "b7ed7776-d6de-4dcd-af0c-7f357a6d1fdb"
      },
      "execution_count": null,
      "outputs": [
        {
          "output_type": "stream",
          "name": "stdout",
          "text": [
            "Train set Accuracy: % 89\n",
            "Test set Accuracy: % 88\n",
            "\n",
            "              precision    recall  f1-score   support\n",
            "\n",
            "           0       0.86      0.89      0.88      1599\n",
            "           1       0.90      0.87      0.88      1734\n",
            "\n",
            "    accuracy                           0.88      3333\n",
            "   macro avg       0.88      0.88      0.88      3333\n",
            "weighted avg       0.88      0.88      0.88      3333\n",
            "\n"
          ]
        }
      ]
    },
    {
      "cell_type": "code",
      "source": [
        "lr_cnf_matrix = confusion_matrix(y_test, lr_yhat)\n",
        "np.set_printoptions(precision=2)\n",
        "\n",
        "labels = [0,1]\n",
        "\n",
        "plt.figure(figsize=(5,5))\n",
        "plot_confusion_matrix(lr_cnf_matrix, classes=labels ,normalize= False,  title='Logistic Regression Confusion Matrix')"
      ],
      "metadata": {
        "colab": {
          "base_uri": "https://localhost:8080/",
          "height": 386
        },
        "id": "46pUsR9zbVDS",
        "outputId": "a0bcc030-2932-4a77-d943-39dff905ce37"
      },
      "execution_count": null,
      "outputs": [
        {
          "output_type": "stream",
          "name": "stdout",
          "text": [
            "Confusion matrix, without normalization\n"
          ]
        },
        {
          "output_type": "display_data",
          "data": {
            "text/plain": [
              "<Figure size 360x360 with 2 Axes>"
            ],
            "image/png": "[encoded data removed]"
          },
          "metadata": {
            "needs_background": "light"
          }
        }
      ]
    },
    {
      "cell_type": "code",
      "source": [
        "from sklearn.metrics import confusion_matrix\n",
        "confusion_matrix(y_test, lr_yhat)"
      ],
      "metadata": {
        "colab": {
          "base_uri": "https://localhost:8080/"
        },
        "id": "EaLjK_YZbUzF",
        "outputId": "530d4c8c-d924-441a-ccf4-cd86564059ee"
      },
      "execution_count": null,
      "outputs": [
        {
          "output_type": "execute_result",
          "data": {
            "text/plain": [
              "array([[1426,  173],\n",
              "       [ 231, 1503]])"
            ]
          },
          "metadata": {},
          "execution_count": 45
        }
      ]
    },
    {
      "cell_type": "code",
      "source": [
        "import seaborn as sn\n",
        "import matplotlib.pyplot as plt\n",
        "confusion_matrix = pd.crosstab(y_test, lr_yhat, rownames=['Actual'], colnames=['Predicted'])\n",
        "\n",
        "sn.heatmap(confusion_matrix, annot=True,cmap='Blues' , fmt='')\n",
        "plt.show()"
      ],
      "metadata": {
        "colab": {
          "base_uri": "https://localhost:8080/",
          "height": 279
        },
        "id": "MUSI2gcNc1mB",
        "outputId": "b336125e-b50d-4bba-e846-a45862e0d935"
      },
      "execution_count": null,
      "outputs": [
        {
          "output_type": "display_data",
          "data": {
            "text/plain": [
              "<Figure size 432x288 with 2 Axes>"
            ],
            "image/png": "[encoded data removed]"
          },
          "metadata": {
            "needs_background": "light"
          }
        }
      ]
    },
    {
      "cell_type": "markdown",
      "source": [
        "## cross validation"
      ],
      "metadata": {
        "id": "rBW1Pl9HbK23"
      }
    },
    {
      "cell_type": "code",
      "source": [
        "from sklearn.model_selection import cross_validate\n",
        "from sklearn import preprocessing\n",
        "from sklearn.preprocessing import StandardScaler\n",
        "from sklearn.pipeline import make_pipeline\n",
        "\n",
        "\n",
        "scores = ['f1_weighted', 'precision_weighted', 'recall_weighted','accuracy']\n",
        "\n",
        "lr_clf = make_pipeline(preprocessing.StandardScaler(), LogisticRegression(solver='liblinear', class_weight='balanced' , C = 0.1))\n",
        "# cross_validate(lr_clf, X, Y, cv=5, scoring=scores)\n",
        "\n",
        "lr_avg_f1_weighted  = cross_validate(lr_clf, X, y, cv=5, scoring=scores)['test_f1_weighted'].mean()*100\n",
        "lr_avg_prc_weighted = cross_validate(lr_clf, X, y, cv=5, scoring=scores)['test_precision_weighted'].mean()*100\n",
        "lr_avg_rec_weighted = cross_validate(lr_clf, X, y, cv=5, scoring=scores)['test_recall_weighted'].mean()*100\n",
        "lr_avg_acc          = cross_validate(lr_clf, X, y, cv=5, scoring=scores)['test_accuracy'].mean()*100"
      ],
      "metadata": {
        "id": "OHm5s66ksVk-"
      },
      "execution_count": null,
      "outputs": []
    },
    {
      "cell_type": "code",
      "source": [
        "# cross validation\n",
        "from sklearn.model_selection import cross_val_score\n",
        "scores = cross_val_score(lr_clf, X,y, cv=5, scoring='accuracy')\n",
        "print(scores)\n",
        "print('accuracy cross validation logistic regresion :',scores.mean())"
      ],
      "metadata": {
        "colab": {
          "base_uri": "https://localhost:8080/"
        },
        "id": "_aaRevfXa_Lx",
        "outputId": "9a5557d0-1143-45d7-b3ef-fc8f2c895776"
      },
      "execution_count": null,
      "outputs": [
        {
          "output_type": "stream",
          "name": "stdout",
          "text": [
            "[0.89 0.89 0.88 0.87 0.88]\n",
            "accuracy cross validation logistic regresion : 0.8810533034095727\n"
          ]
        }
      ]
    },
    {
      "cell_type": "markdown",
      "source": [
        "# svm"
      ],
      "metadata": {
        "id": "Q9MxG3XoiIFf"
      }
    },
    {
      "cell_type": "code",
      "source": [
        "from sklearn import svm\n",
        "svm_clf = make_pipeline(StandardScaler(), svm.SVC(kernel='rbf',C=10))\n",
        "svm_clf.fit(X_train,y_train)\n",
        "svm_yhat = svm_clf.predict(X_test)"
      ],
      "metadata": {
        "id": "Hu9xth1BeT49"
      },
      "execution_count": null,
      "outputs": []
    },
    {
      "cell_type": "code",
      "source": [
        "svm_acc_train = round( metrics.accuracy_score(y_train, svm_clf.predict(X_train))*100 ,2)\n",
        "svm_acc_test = round( metrics.accuracy_score(y_test, svm_yhat)*100 ,2)\n",
        "svm_jac_train = round( metrics.jaccard_score(y_train, svm_clf.predict(X_train),average='weighted')*100 ,2)\n",
        "svm_jac_test = round( metrics.jaccard_score(y_test, svm_yhat,average='weighted')*100 ,2)\n",
        "\n",
        "svm_df1 = pd.DataFrame({'percent':[svm_acc_train,svm_acc_test,svm_jac_train,svm_jac_test],\n",
        "                       'label' : ['train' , 'test' , 'train' , 'test'],\n",
        "                       'metric': ['Accuracy' , 'Accuracy' , 'Weighted Jaccard Score' , 'Weighted Jaccard Score']})\n",
        "\n",
        "\n",
        "fig = px.bar(svm_df1 , x='metric' , y='percent' , color='label' ,\n",
        "             title='SVM Accuracy/Jaccard for Train/Test Data (First Try)' ,\n",
        "             text=\"percent\", barmode=\"group\")\n",
        "fig.show()"
      ],
      "metadata": {
        "colab": {
          "base_uri": "https://localhost:8080/",
          "height": 542
        },
        "id": "WAfC1f7liVVl",
        "outputId": "fb923012-4742-45a0-dbcf-6f0334293976"
      },
      "execution_count": null,
      "outputs": [
        {
          "output_type": "display_data",
          "data": {
            "text/html": [
              "<html>\n",
              "<head><meta charset=\"utf-8\" /></head>\n",
              "<body>\n",
              "    <div>            <script src=\"https://cdnjs.cloudflare.com/ajax/libs/mathjax/2.7.5/MathJax.js?config=TeX-AMS-MML_SVG\"></script><script type=\"text/javascript\">if (window.MathJax) {MathJax.Hub.Config({SVG: {font: \"STIX-Web\"}});}</script>                <script type=\"text/javascript\">window.PlotlyConfig = {MathJaxConfig: 'local'};</script>\n",
              "        <script src=\"https://cdn.plot.ly/plotly-2.8.3.min.js\"></script>                <div id=\"67a57a1c-fb67-4c7d-8148-fa053983fe09\" class=\"plotly-graph-div\" style=\"height:525px; width:100%;\"></div>            <script type=\"text/javascript\">                                    window.PLOTLYENV=window.PLOTLYENV || {};                                    if (document.getElementById(\"67a57a1c-fb67-4c7d-8148-fa053983fe09\")) {                    Plotly.newPlot(                        \"67a57a1c-fb67-4c7d-8148-fa053983fe09\",                        [{\"alignmentgroup\":\"True\",\"hovertemplate\":\"label=train<br>metric=%{x}<br>percent=%{text}<extra></extra>\",\"legendgroup\":\"train\",\"marker\":{\"color\":\"#636efa\",\"pattern\":{\"shape\":\"\"}},\"name\":\"train\",\"offsetgroup\":\"train\",\"orientation\":\"v\",\"showlegend\":true,\"text\":[96.11,92.52],\"textposition\":\"auto\",\"x\":[\"Accuracy\",\"Weighted Jaccard Score\"],\"xaxis\":\"x\",\"y\":[96.11,92.52],\"yaxis\":\"y\",\"type\":\"bar\"},{\"alignmentgroup\":\"True\",\"hovertemplate\":\"label=test<br>metric=%{x}<br>percent=%{text}<extra></extra>\",\"legendgroup\":\"test\",\"marker\":{\"color\":\"#EF553B\",\"pattern\":{\"shape\":\"\"}},\"name\":\"test\",\"offsetgroup\":\"test\",\"orientation\":\"v\",\"showlegend\":true,\"text\":[92.53,86.1],\"textposition\":\"auto\",\"x\":[\"Accuracy\",\"Weighted Jaccard Score\"],\"xaxis\":\"x\",\"y\":[92.53,86.1],\"yaxis\":\"y\",\"type\":\"bar\"}],                        {\"template\":{\"data\":{\"bar\":[{\"error_x\":{\"color\":\"#2a3f5f\"},\"error_y\":{\"color\":\"#2a3f5f\"},\"marker\":{\"line\":{\"color\":\"#E5ECF6\",\"width\":0.5},\"pattern\":{\"fillmode\":\"overlay\",\"size\":10,\"solidity\":0.2}},\"type\":\"bar\"}],\"barpolar\":[{\"marker\":{\"line\":{\"color\":\"#E5ECF6\",\"width\":0.5},\"pattern\":{\"fillmode\":\"overlay\",\"size\":10,\"solidity\":0.2}},\"type\":\"barpolar\"}],\"carpet\":[{\"aaxis\":{\"endlinecolor\":\"#2a3f5f\",\"gridcolor\":\"white\",\"linecolor\":\"white\",\"minorgridcolor\":\"white\",\"startlinecolor\":\"#2a3f5f\"},\"baxis\":{\"endlinecolor\":\"#2a3f5f\",\"gridcolor\":\"white\",\"linecolor\":\"white\",\"minorgridcolor\":\"white\",\"startlinecolor\":\"#2a3f5f\"},\"type\":\"carpet\"}],\"choropleth\":[{\"colorbar\":{\"outlinewidth\":0,\"ticks\":\"\"},\"type\":\"choropleth\"}],\"contour\":[{\"colorbar\":{\"outlinewidth\":0,\"ticks\":\"\"},\"colorscale\":[[0.0,\"#0d0887\"],[0.1111111111111111,\"#46039f\"],[0.2222222222222222,\"#7201a8\"],[0.3333333333333333,\"#9c179e\"],[0.4444444444444444,\"#bd3786\"],[0.5555555555555556,\"#d8576b\"],[0.6666666666666666,\"#ed7953\"],[0.7777777777777778,\"#fb9f3a\"],[0.8888888888888888,\"#fdca26\"],[1.0,\"#f0f921\"]],\"type\":\"contour\"}],\"contourcarpet\":[{\"colorbar\":{\"outlinewidth\":0,\"ticks\":\"\"},\"type\":\"contourcarpet\"}],\"heatmap\":[{\"colorbar\":{\"outlinewidth\":0,\"ticks\":\"\"},\"colorscale\":[[0.0,\"#0d0887\"],[0.1111111111111111,\"#46039f\"],[0.2222222222222222,\"#7201a8\"],[0.3333333333333333,\"#9c179e\"],[0.4444444444444444,\"#bd3786\"],[0.5555555555555556,\"#d8576b\"],[0.6666666666666666,\"#ed7953\"],[0.7777777777777778,\"#fb9f3a\"],[0.8888888888888888,\"#fdca26\"],[1.0,\"#f0f921\"]],\"type\":\"heatmap\"}],\"heatmapgl\":[{\"colorbar\":{\"outlinewidth\":0,\"ticks\":\"\"},\"colorscale\":[[0.0,\"#0d0887\"],[0.1111111111111111,\"#46039f\"],[0.2222222222222222,\"#7201a8\"],[0.3333333333333333,\"#9c179e\"],[0.4444444444444444,\"#bd3786\"],[0.5555555555555556,\"#d8576b\"],[0.6666666666666666,\"#ed7953\"],[0.7777777777777778,\"#fb9f3a\"],[0.8888888888888888,\"#fdca26\"],[1.0,\"#f0f921\"]],\"type\":\"heatmapgl\"}],\"histogram\":[{\"marker\":{\"pattern\":{\"fillmode\":\"overlay\",\"size\":10,\"solidity\":0.2}},\"type\":\"histogram\"}],\"histogram2d\":[{\"colorbar\":{\"outlinewidth\":0,\"ticks\":\"\"},\"colorscale\":[[0.0,\"#0d0887\"],[0.1111111111111111,\"#46039f\"],[0.2222222222222222,\"#7201a8\"],[0.3333333333333333,\"#9c179e\"],[0.4444444444444444,\"#bd3786\"],[0.5555555555555556,\"#d8576b\"],[0.6666666666666666,\"#ed7953\"],[0.7777777777777778,\"#fb9f3a\"],[0.8888888888888888,\"#fdca26\"],[1.0,\"#f0f921\"]],\"type\":\"histogram2d\"}],\"histogram2dcontour\":[{\"colorbar\":{\"outlinewidth\":0,\"ticks\":\"\"},\"colorscale\":[[0.0,\"#0d0887\"],[0.1111111111111111,\"#46039f\"],[0.2222222222222222,\"#7201a8\"],[0.3333333333333333,\"#9c179e\"],[0.4444444444444444,\"#bd3786\"],[0.5555555555555556,\"#d8576b\"],[0.6666666666666666,\"#ed7953\"],[0.7777777777777778,\"#fb9f3a\"],[0.8888888888888888,\"#fdca26\"],[1.0,\"#f0f921\"]],\"type\":\"histogram2dcontour\"}],\"mesh3d\":[{\"colorbar\":{\"outlinewidth\":0,\"ticks\":\"\"},\"type\":\"mesh3d\"}],\"parcoords\":[{\"line\":{\"colorbar\":{\"outlinewidth\":0,\"ticks\":\"\"}},\"type\":\"parcoords\"}],\"pie\":[{\"automargin\":true,\"type\":\"pie\"}],\"scatter\":[{\"marker\":{\"colorbar\":{\"outlinewidth\":0,\"ticks\":\"\"}},\"type\":\"scatter\"}],\"scatter3d\":[{\"line\":{\"colorbar\":{\"outlinewidth\":0,\"ticks\":\"\"}},\"marker\":{\"colorbar\":{\"outlinewidth\":0,\"ticks\":\"\"}},\"type\":\"scatter3d\"}],\"scattercarpet\":[{\"marker\":{\"colorbar\":{\"outlinewidth\":0,\"ticks\":\"\"}},\"type\":\"scattercarpet\"}],\"scattergeo\":[{\"marker\":{\"colorbar\":{\"outlinewidth\":0,\"ticks\":\"\"}},\"type\":\"scattergeo\"}],\"scattergl\":[{\"marker\":{\"colorbar\":{\"outlinewidth\":0,\"ticks\":\"\"}},\"type\":\"scattergl\"}],\"scattermapbox\":[{\"marker\":{\"colorbar\":{\"outlinewidth\":0,\"ticks\":\"\"}},\"type\":\"scattermapbox\"}],\"scatterpolar\":[{\"marker\":{\"colorbar\":{\"outlinewidth\":0,\"ticks\":\"\"}},\"type\":\"scatterpolar\"}],\"scatterpolargl\":[{\"marker\":{\"colorbar\":{\"outlinewidth\":0,\"ticks\":\"\"}},\"type\":\"scatterpolargl\"}],\"scatterternary\":[{\"marker\":{\"colorbar\":{\"outlinewidth\":0,\"ticks\":\"\"}},\"type\":\"scatterternary\"}],\"surface\":[{\"colorbar\":{\"outlinewidth\":0,\"ticks\":\"\"},\"colorscale\":[[0.0,\"#0d0887\"],[0.1111111111111111,\"#46039f\"],[0.2222222222222222,\"#7201a8\"],[0.3333333333333333,\"#9c179e\"],[0.4444444444444444,\"#bd3786\"],[0.5555555555555556,\"#d8576b\"],[0.6666666666666666,\"#ed7953\"],[0.7777777777777778,\"#fb9f3a\"],[0.8888888888888888,\"#fdca26\"],[1.0,\"#f0f921\"]],\"type\":\"surface\"}],\"table\":[{\"cells\":{\"fill\":{\"color\":\"#EBF0F8\"},\"line\":{\"color\":\"white\"}},\"header\":{\"fill\":{\"color\":\"#C8D4E3\"},\"line\":{\"color\":\"white\"}},\"type\":\"table\"}]},\"layout\":{\"annotationdefaults\":{\"arrowcolor\":\"#2a3f5f\",\"arrowhead\":0,\"arrowwidth\":1},\"autotypenumbers\":\"strict\",\"coloraxis\":{\"colorbar\":{\"outlinewidth\":0,\"ticks\":\"\"}},\"colorscale\":{\"diverging\":[[0,\"#8e0152\"],[0.1,\"#c51b7d\"],[0.2,\"#de77ae\"],[0.3,\"#f1b6da\"],[0.4,\"#fde0ef\"],[0.5,\"#f7f7f7\"],[0.6,\"#e6f5d0\"],[0.7,\"#b8e186\"],[0.8,\"#7fbc41\"],[0.9,\"#4d9221\"],[1,\"#276419\"]],\"sequential\":[[0.0,\"#0d0887\"],[0.1111111111111111,\"#46039f\"],[0.2222222222222222,\"#7201a8\"],[0.3333333333333333,\"#9c179e\"],[0.4444444444444444,\"#bd3786\"],[0.5555555555555556,\"#d8576b\"],[0.6666666666666666,\"#ed7953\"],[0.7777777777777778,\"#fb9f3a\"],[0.8888888888888888,\"#fdca26\"],[1.0,\"#f0f921\"]],\"sequentialminus\":[[0.0,\"#0d0887\"],[0.1111111111111111,\"#46039f\"],[0.2222222222222222,\"#7201a8\"],[0.3333333333333333,\"#9c179e\"],[0.4444444444444444,\"#bd3786\"],[0.5555555555555556,\"#d8576b\"],[0.6666666666666666,\"#ed7953\"],[0.7777777777777778,\"#fb9f3a\"],[0.8888888888888888,\"#fdca26\"],[1.0,\"#f0f921\"]]},\"colorway\":[\"#636efa\",\"#EF553B\",\"#00cc96\",\"#ab63fa\",\"#FFA15A\",\"#19d3f3\",\"#FF6692\",\"#B6E880\",\"#FF97FF\",\"#FECB52\"],\"font\":{\"color\":\"#2a3f5f\"},\"geo\":{\"bgcolor\":\"white\",\"lakecolor\":\"white\",\"landcolor\":\"#E5ECF6\",\"showlakes\":true,\"showland\":true,\"subunitcolor\":\"white\"},\"hoverlabel\":{\"align\":\"left\"},\"hovermode\":\"closest\",\"mapbox\":{\"style\":\"light\"},\"paper_bgcolor\":\"white\",\"plot_bgcolor\":\"#E5ECF6\",\"polar\":{\"angularaxis\":{\"gridcolor\":\"white\",\"linecolor\":\"white\",\"ticks\":\"\"},\"bgcolor\":\"#E5ECF6\",\"radialaxis\":{\"gridcolor\":\"white\",\"linecolor\":\"white\",\"ticks\":\"\"}},\"scene\":{\"xaxis\":{\"backgroundcolor\":\"#E5ECF6\",\"gridcolor\":\"white\",\"gridwidth\":2,\"linecolor\":\"white\",\"showbackground\":true,\"ticks\":\"\",\"zerolinecolor\":\"white\"},\"yaxis\":{\"backgroundcolor\":\"#E5ECF6\",\"gridcolor\":\"white\",\"gridwidth\":2,\"linecolor\":\"white\",\"showbackground\":true,\"ticks\":\"\",\"zerolinecolor\":\"white\"},\"zaxis\":{\"backgroundcolor\":\"#E5ECF6\",\"gridcolor\":\"white\",\"gridwidth\":2,\"linecolor\":\"white\",\"showbackground\":true,\"ticks\":\"\",\"zerolinecolor\":\"white\"}},\"shapedefaults\":{\"line\":{\"color\":\"#2a3f5f\"}},\"ternary\":{\"aaxis\":{\"gridcolor\":\"white\",\"linecolor\":\"white\",\"ticks\":\"\"},\"baxis\":{\"gridcolor\":\"white\",\"linecolor\":\"white\",\"ticks\":\"\"},\"bgcolor\":\"#E5ECF6\",\"caxis\":{\"gridcolor\":\"white\",\"linecolor\":\"white\",\"ticks\":\"\"}},\"title\":{\"x\":0.05},\"xaxis\":{\"automargin\":true,\"gridcolor\":\"white\",\"linecolor\":\"white\",\"ticks\":\"\",\"title\":{\"standoff\":15},\"zerolinecolor\":\"white\",\"zerolinewidth\":2},\"yaxis\":{\"automargin\":true,\"gridcolor\":\"white\",\"linecolor\":\"white\",\"ticks\":\"\",\"title\":{\"standoff\":15},\"zerolinecolor\":\"white\",\"zerolinewidth\":2}}},\"xaxis\":{\"anchor\":\"y\",\"domain\":[0.0,1.0],\"title\":{\"text\":\"metric\"}},\"yaxis\":{\"anchor\":\"x\",\"domain\":[0.0,1.0],\"title\":{\"text\":\"percent\"}},\"legend\":{\"title\":{\"text\":\"label\"},\"tracegroupgap\":0},\"title\":{\"text\":\"SVM Accuracy/Jaccard for Train/Test Data (First Try)\"},\"barmode\":\"group\"},                        {\"responsive\": true}                    ).then(function(){\n",
              "                            \n",
              "var gd = document.getElementById('67a57a1c-fb67-4c7d-8148-fa053983fe09');\n",
              "var x = new MutationObserver(function (mutations, observer) {{\n",
              "        var display = window.getComputedStyle(gd).display;\n",
              "        if (!display || display === 'none') {{\n",
              "            console.log([gd, 'removed!']);\n",
              "            Plotly.purge(gd);\n",
              "            observer.disconnect();\n",
              "        }}\n",
              "}});\n",
              "\n",
              "// Listen for the removal of the full notebook cells\n",
              "var notebookContainer = gd.closest('#notebook-container');\n",
              "if (notebookContainer) {{\n",
              "    x.observe(notebookContainer, {childList: true});\n",
              "}}\n",
              "\n",
              "// Listen for the clearing of the current output cell\n",
              "var outputEl = gd.closest('.output');\n",
              "if (outputEl) {{\n",
              "    x.observe(outputEl, {childList: true});\n",
              "}}\n",
              "\n",
              "                        })                };                            </script>        </div>\n",
              "</body>\n",
              "</html>"
            ]
          },
          "metadata": {}
        }
      ]
    },
    {
      "cell_type": "code",
      "source": [
        "print(\"Train set Accuracy: %\", round( 100* metrics.accuracy_score(y_train, svm_clf.predict(X_train))))\n",
        "print(\"Test set Accuracy: %\", round( 100* metrics.accuracy_score(y_test, svm_yhat))) \n",
        "print('')\n",
        "print (classification_report(y_test, svm_yhat))"
      ],
      "metadata": {
        "colab": {
          "base_uri": "https://localhost:8080/"
        },
        "id": "acmEmTm_j8Wp",
        "outputId": "4d6b7427-f820-44b4-fa84-ba7e4b95591c"
      },
      "execution_count": null,
      "outputs": [
        {
          "output_type": "stream",
          "name": "stdout",
          "text": [
            "Train set Accuracy: % 96\n",
            "Test set Accuracy: % 93\n",
            "\n",
            "              precision    recall  f1-score   support\n",
            "\n",
            "           0       0.90      0.95      0.92      1599\n",
            "           1       0.95      0.90      0.93      1734\n",
            "\n",
            "    accuracy                           0.93      3333\n",
            "   macro avg       0.93      0.93      0.93      3333\n",
            "weighted avg       0.93      0.93      0.93      3333\n",
            "\n"
          ]
        }
      ]
    },
    {
      "cell_type": "code",
      "source": [
        "from sklearn.metrics import confusion_matrix\n",
        "svm_cnf_matrix = confusion_matrix(y_test, svm_yhat)\n",
        "np.set_printoptions(precision=2)\n",
        "\n",
        "labels = [0,1]\n",
        "\n",
        "plt.figure(figsize=(5,5))\n",
        "plot_confusion_matrix(svm_cnf_matrix, classes=labels ,normalize= False,  title='SVM Confusion Matrix')"
      ],
      "metadata": {
        "colab": {
          "base_uri": "https://localhost:8080/",
          "height": 386
        },
        "id": "r-kjeJfzlE3o",
        "outputId": "fe243cf9-7dd0-4de5-fa18-884be69c51b3"
      },
      "execution_count": null,
      "outputs": [
        {
          "output_type": "stream",
          "name": "stdout",
          "text": [
            "Confusion matrix, without normalization\n"
          ]
        },
        {
          "output_type": "display_data",
          "data": {
            "text/plain": [
              "<Figure size 360x360 with 2 Axes>"
            ],
            "image/png": "[encoded data removed]"
          },
          "metadata": {
            "needs_background": "light"
          }
        }
      ]
    },
    {
      "cell_type": "code",
      "source": [
        "import seaborn as sn\n",
        "import matplotlib.pyplot as plt\n",
        "confusion_matrix = pd.crosstab(y_test, svm_yhat, rownames=['Actual'], colnames=['Predicted'])\n",
        "\n",
        "sn.heatmap(confusion_matrix, annot=True,cmap='Blues' , fmt='')\n",
        "plt.show()"
      ],
      "metadata": {
        "colab": {
          "base_uri": "https://localhost:8080/",
          "height": 279
        },
        "id": "ZuVxhOKyrxSD",
        "outputId": "fa8d3e24-d93e-4d2c-b7ca-960595a99f8a"
      },
      "execution_count": null,
      "outputs": [
        {
          "output_type": "display_data",
          "data": {
            "text/plain": [
              "<Figure size 432x288 with 2 Axes>"
            ],
            "image/png": "[encoded data removed]"
          },
          "metadata": {
            "needs_background": "light"
          }
        }
      ]
    },
    {
      "cell_type": "code",
      "source": [
        "from sklearn.model_selection import cross_validate\n",
        "from sklearn import preprocessing\n",
        "\n",
        "svm_clf = make_pipeline(preprocessing.StandardScaler(), svm.SVC(kernel='rbf',C=10))\n",
        "# cross_validate(svm_clf, X, Y, cv=5, scoring=scores)\n",
        "\n",
        "svm_avg_f1_weighted  = cross_validate(svm_clf, X, y, cv=5, scoring=scores)['test_f1_weighted'].mean()*100\n",
        "svm_avg_prc_weighted = cross_validate(svm_clf, X, y, cv=5, scoring=scores)['test_precision_weighted'].mean()*100\n",
        "svm_avg_rec_weighted = cross_validate(svm_clf, X, y, cv=5, scoring=scores)['test_recall_weighted'].mean()*100\n",
        "svm_avg_acc          = cross_validate(svm_clf, X, y, cv=5, scoring=scores)['test_accuracy'].mean()*100"
      ],
      "metadata": {
        "id": "2Zdi6sQksItR"
      },
      "execution_count": null,
      "outputs": []
    },
    {
      "cell_type": "markdown",
      "source": [
        "## K_nn"
      ],
      "metadata": {
        "id": "HTukMN5StRLN"
      }
    },
    {
      "cell_type": "code",
      "source": [
        "from sklearn.neighbors import KNeighborsClassifier\n",
        "\n",
        "\n",
        "Ks = 51\n",
        "mean_acc = np.zeros((Ks-1))\n",
        "mean_rec = np.zeros((Ks-1)) \n",
        "std_acc = np.zeros((Ks-1))\n",
        "\n",
        "for n in range(1,Ks):\n",
        "    \n",
        "    #Train Model and Predict  \n",
        "    neigh = make_pipeline(preprocessing.StandardScaler(), KNeighborsClassifier(n_neighbors = n)).fit(X_train,y_train)\n",
        "    knn_yhat=neigh.predict(X_test)\n",
        "    mean_acc[n-1] = metrics.accuracy_score(y_test, knn_yhat)\n",
        "    std_acc[n-1]=np.std(knn_yhat==y_test)/np.sqrt(knn_yhat.shape[0])\n",
        "\n",
        "mean_acc "
      ],
      "metadata": {
        "id": "S_3ufNy5sIZv",
        "colab": {
          "base_uri": "https://localhost:8080/"
        },
        "outputId": "b022ea00-984a-48d2-a687-ee2a3c020a99"
      },
      "execution_count": null,
      "outputs": [
        {
          "output_type": "execute_result",
          "data": {
            "text/plain": [
              "array([0.82, 0.8 , 0.84, 0.83, 0.84, 0.83, 0.84, 0.84, 0.84, 0.85, 0.84,\n",
              "       0.85, 0.84, 0.84, 0.84, 0.84, 0.84, 0.84, 0.84, 0.84, 0.84, 0.84,\n",
              "       0.84, 0.84, 0.83, 0.84, 0.83, 0.84, 0.83, 0.84, 0.83, 0.84, 0.83,\n",
              "       0.83, 0.83, 0.83, 0.83, 0.83, 0.83, 0.83, 0.83, 0.83, 0.83, 0.83,\n",
              "       0.82, 0.83, 0.82, 0.83, 0.82, 0.83])"
            ]
          },
          "metadata": {},
          "execution_count": 18
        }
      ]
    },
    {
      "cell_type": "code",
      "source": [
        "plt.plot(range(1,Ks),mean_acc,'g')\n",
        "plt.fill_between(range(1,Ks),mean_acc - 1 * std_acc,mean_acc + 1 * std_acc, alpha=0.10)\n",
        "plt.fill_between(range(1,Ks),mean_acc - 3 * std_acc,mean_acc + 3 * std_acc, alpha=0.10,color=\"green\")\n",
        "plt.legend(('Accuracy ', '+/- 1xstd','+/- 3xstd'))\n",
        "plt.ylabel('Accuracy ')\n",
        "plt.xlabel('Number of Neighbors (K)')\n",
        "plt.tight_layout()\n",
        "plt.show()"
      ],
      "metadata": {
        "id": "63RAGxn9wWRY",
        "colab": {
          "base_uri": "https://localhost:8080/",
          "height": 297
        },
        "outputId": "83be8ca5-819c-466d-a34c-cc799c7b830f"
      },
      "execution_count": null,
      "outputs": [
        {
          "output_type": "display_data",
          "data": {
            "text/plain": [
              "<Figure size 432x288 with 1 Axes>"
            ],
            "image/png": "[encoded data removed]"
          },
          "metadata": {
            "needs_background": "light"
          }
        }
      ]
    },
    {
      "cell_type": "code",
      "source": [
        "print( \"The best accuracy was with\", mean_acc.max(), \"with k=\", mean_acc.argmax()+1) "
      ],
      "metadata": {
        "colab": {
          "base_uri": "https://localhost:8080/"
        },
        "id": "dLZy-zaQl0rG",
        "outputId": "2a2404a3-3e51-4cea-bb15-ba7644bb6326"
      },
      "execution_count": null,
      "outputs": [
        {
          "output_type": "stream",
          "name": "stdout",
          "text": [
            "The best accuracy was with 0.8484848484848485 with k= 12\n"
          ]
        }
      ]
    },
    {
      "cell_type": "code",
      "source": [
        "k = 12\n",
        "knn_clf = make_pipeline(preprocessing.StandardScaler(), KNeighborsClassifier(n_neighbors = k))\n",
        "knn_clf.fit(X_train,y_train)\n",
        "knn_yhat = knn_clf.predict(X_test)\n",
        "knn_yhat[0:5]"
      ],
      "metadata": {
        "colab": {
          "base_uri": "https://localhost:8080/"
        },
        "id": "zEMLtAW6l6Gj",
        "outputId": "583a1f9e-e613-4402-94f9-ec8aac7d41b4"
      },
      "execution_count": null,
      "outputs": [
        {
          "output_type": "execute_result",
          "data": {
            "text/plain": [
              "array([0, 0, 1, 1, 0])"
            ]
          },
          "metadata": {},
          "execution_count": 21
        }
      ]
    },
    {
      "cell_type": "code",
      "source": [
        "knn_acc_train = round( metrics.accuracy_score(y_train, knn_clf.predict(X_train))*100 ,2)\n",
        "knn_acc_test = round( metrics.accuracy_score(y_test, knn_yhat)*100 ,2)\n",
        "knn_jac_train = round( metrics.jaccard_score(y_train, knn_clf.predict(X_train),average='weighted')*100 ,2)\n",
        "knn_jac_test = round( metrics.jaccard_score(y_test, knn_yhat,average='weighted')*100 ,2)\n",
        "\n",
        "knn_df1 = pd.DataFrame({'percent':[knn_acc_train,knn_acc_test,knn_jac_train,knn_jac_test],\n",
        "                       'label' : ['train' , 'test' , 'train' , 'test'],\n",
        "                       'metric': ['Accuracy' , 'Accuracy' , 'Weighted Jaccard Score' , 'Weighted Jaccard Score']})\n",
        "\n",
        "\n",
        "fig = px.bar(knn_df1 , x='metric' , y='percent' , color='label' ,\n",
        "             title='KNN Accuracy/Jaccard for Train/Test Data (First Try)' ,\n",
        "             text=\"percent\", barmode=\"group\")\n",
        "fig.show()"
      ],
      "metadata": {
        "colab": {
          "base_uri": "https://localhost:8080/",
          "height": 542
        },
        "id": "23mazKNcl6B4",
        "outputId": "4b5d4473-0574-496d-ef11-63d7b4324edb"
      },
      "execution_count": null,
      "outputs": [
        {
          "output_type": "display_data",
          "data": {
            "text/html": [
              "<html>\n",
              "<head><meta charset=\"utf-8\" /></head>\n",
              "<body>\n",
              "    <div>            <script src=\"https://cdnjs.cloudflare.com/ajax/libs/mathjax/2.7.5/MathJax.js?config=TeX-AMS-MML_SVG\"></script><script type=\"text/javascript\">if (window.MathJax) {MathJax.Hub.Config({SVG: {font: \"STIX-Web\"}});}</script>                <script type=\"text/javascript\">window.PlotlyConfig = {MathJaxConfig: 'local'};</script>\n",
              "        <script src=\"https://cdn.plot.ly/plotly-2.8.3.min.js\"></script>                <div id=\"5cafcf81-60b2-45ad-88bb-1f8bdfe10582\" class=\"plotly-graph-div\" style=\"height:525px; width:100%;\"></div>            <script type=\"text/javascript\">                                    window.PLOTLYENV=window.PLOTLYENV || {};                                    if (document.getElementById(\"5cafcf81-60b2-45ad-88bb-1f8bdfe10582\")) {                    Plotly.newPlot(                        \"5cafcf81-60b2-45ad-88bb-1f8bdfe10582\",                        [{\"alignmentgroup\":\"True\",\"hovertemplate\":\"label=train<br>metric=%{x}<br>percent=%{text}<extra></extra>\",\"legendgroup\":\"train\",\"marker\":{\"color\":\"#636efa\",\"pattern\":{\"shape\":\"\"}},\"name\":\"train\",\"offsetgroup\":\"train\",\"orientation\":\"v\",\"showlegend\":true,\"text\":[87.28,77.43],\"textposition\":\"auto\",\"x\":[\"Accuracy\",\"Weighted Jaccard Score\"],\"xaxis\":\"x\",\"y\":[87.28,77.43],\"yaxis\":\"y\",\"type\":\"bar\"},{\"alignmentgroup\":\"True\",\"hovertemplate\":\"label=test<br>metric=%{x}<br>percent=%{text}<extra></extra>\",\"legendgroup\":\"test\",\"marker\":{\"color\":\"#EF553B\",\"pattern\":{\"shape\":\"\"}},\"name\":\"test\",\"offsetgroup\":\"test\",\"orientation\":\"v\",\"showlegend\":true,\"text\":[84.85,73.69],\"textposition\":\"auto\",\"x\":[\"Accuracy\",\"Weighted Jaccard Score\"],\"xaxis\":\"x\",\"y\":[84.85,73.69],\"yaxis\":\"y\",\"type\":\"bar\"}],                        {\"template\":{\"data\":{\"bar\":[{\"error_x\":{\"color\":\"#2a3f5f\"},\"error_y\":{\"color\":\"#2a3f5f\"},\"marker\":{\"line\":{\"color\":\"#E5ECF6\",\"width\":0.5},\"pattern\":{\"fillmode\":\"overlay\",\"size\":10,\"solidity\":0.2}},\"type\":\"bar\"}],\"barpolar\":[{\"marker\":{\"line\":{\"color\":\"#E5ECF6\",\"width\":0.5},\"pattern\":{\"fillmode\":\"overlay\",\"size\":10,\"solidity\":0.2}},\"type\":\"barpolar\"}],\"carpet\":[{\"aaxis\":{\"endlinecolor\":\"#2a3f5f\",\"gridcolor\":\"white\",\"linecolor\":\"white\",\"minorgridcolor\":\"white\",\"startlinecolor\":\"#2a3f5f\"},\"baxis\":{\"endlinecolor\":\"#2a3f5f\",\"gridcolor\":\"white\",\"linecolor\":\"white\",\"minorgridcolor\":\"white\",\"startlinecolor\":\"#2a3f5f\"},\"type\":\"carpet\"}],\"choropleth\":[{\"colorbar\":{\"outlinewidth\":0,\"ticks\":\"\"},\"type\":\"choropleth\"}],\"contour\":[{\"colorbar\":{\"outlinewidth\":0,\"ticks\":\"\"},\"colorscale\":[[0.0,\"#0d0887\"],[0.1111111111111111,\"#46039f\"],[0.2222222222222222,\"#7201a8\"],[0.3333333333333333,\"#9c179e\"],[0.4444444444444444,\"#bd3786\"],[0.5555555555555556,\"#d8576b\"],[0.6666666666666666,\"#ed7953\"],[0.7777777777777778,\"#fb9f3a\"],[0.8888888888888888,\"#fdca26\"],[1.0,\"#f0f921\"]],\"type\":\"contour\"}],\"contourcarpet\":[{\"colorbar\":{\"outlinewidth\":0,\"ticks\":\"\"},\"type\":\"contourcarpet\"}],\"heatmap\":[{\"colorbar\":{\"outlinewidth\":0,\"ticks\":\"\"},\"colorscale\":[[0.0,\"#0d0887\"],[0.1111111111111111,\"#46039f\"],[0.2222222222222222,\"#7201a8\"],[0.3333333333333333,\"#9c179e\"],[0.4444444444444444,\"#bd3786\"],[0.5555555555555556,\"#d8576b\"],[0.6666666666666666,\"#ed7953\"],[0.7777777777777778,\"#fb9f3a\"],[0.8888888888888888,\"#fdca26\"],[1.0,\"#f0f921\"]],\"type\":\"heatmap\"}],\"heatmapgl\":[{\"colorbar\":{\"outlinewidth\":0,\"ticks\":\"\"},\"colorscale\":[[0.0,\"#0d0887\"],[0.1111111111111111,\"#46039f\"],[0.2222222222222222,\"#7201a8\"],[0.3333333333333333,\"#9c179e\"],[0.4444444444444444,\"#bd3786\"],[0.5555555555555556,\"#d8576b\"],[0.6666666666666666,\"#ed7953\"],[0.7777777777777778,\"#fb9f3a\"],[0.8888888888888888,\"#fdca26\"],[1.0,\"#f0f921\"]],\"type\":\"heatmapgl\"}],\"histogram\":[{\"marker\":{\"pattern\":{\"fillmode\":\"overlay\",\"size\":10,\"solidity\":0.2}},\"type\":\"histogram\"}],\"histogram2d\":[{\"colorbar\":{\"outlinewidth\":0,\"ticks\":\"\"},\"colorscale\":[[0.0,\"#0d0887\"],[0.1111111111111111,\"#46039f\"],[0.2222222222222222,\"#7201a8\"],[0.3333333333333333,\"#9c179e\"],[0.4444444444444444,\"#bd3786\"],[0.5555555555555556,\"#d8576b\"],[0.6666666666666666,\"#ed7953\"],[0.7777777777777778,\"#fb9f3a\"],[0.8888888888888888,\"#fdca26\"],[1.0,\"#f0f921\"]],\"type\":\"histogram2d\"}],\"histogram2dcontour\":[{\"colorbar\":{\"outlinewidth\":0,\"ticks\":\"\"},\"colorscale\":[[0.0,\"#0d0887\"],[0.1111111111111111,\"#46039f\"],[0.2222222222222222,\"#7201a8\"],[0.3333333333333333,\"#9c179e\"],[0.4444444444444444,\"#bd3786\"],[0.5555555555555556,\"#d8576b\"],[0.6666666666666666,\"#ed7953\"],[0.7777777777777778,\"#fb9f3a\"],[0.8888888888888888,\"#fdca26\"],[1.0,\"#f0f921\"]],\"type\":\"histogram2dcontour\"}],\"mesh3d\":[{\"colorbar\":{\"outlinewidth\":0,\"ticks\":\"\"},\"type\":\"mesh3d\"}],\"parcoords\":[{\"line\":{\"colorbar\":{\"outlinewidth\":0,\"ticks\":\"\"}},\"type\":\"parcoords\"}],\"pie\":[{\"automargin\":true,\"type\":\"pie\"}],\"scatter\":[{\"marker\":{\"colorbar\":{\"outlinewidth\":0,\"ticks\":\"\"}},\"type\":\"scatter\"}],\"scatter3d\":[{\"line\":{\"colorbar\":{\"outlinewidth\":0,\"ticks\":\"\"}},\"marker\":{\"colorbar\":{\"outlinewidth\":0,\"ticks\":\"\"}},\"type\":\"scatter3d\"}],\"scattercarpet\":[{\"marker\":{\"colorbar\":{\"outlinewidth\":0,\"ticks\":\"\"}},\"type\":\"scattercarpet\"}],\"scattergeo\":[{\"marker\":{\"colorbar\":{\"outlinewidth\":0,\"ticks\":\"\"}},\"type\":\"scattergeo\"}],\"scattergl\":[{\"marker\":{\"colorbar\":{\"outlinewidth\":0,\"ticks\":\"\"}},\"type\":\"scattergl\"}],\"scattermapbox\":[{\"marker\":{\"colorbar\":{\"outlinewidth\":0,\"ticks\":\"\"}},\"type\":\"scattermapbox\"}],\"scatterpolar\":[{\"marker\":{\"colorbar\":{\"outlinewidth\":0,\"ticks\":\"\"}},\"type\":\"scatterpolar\"}],\"scatterpolargl\":[{\"marker\":{\"colorbar\":{\"outlinewidth\":0,\"ticks\":\"\"}},\"type\":\"scatterpolargl\"}],\"scatterternary\":[{\"marker\":{\"colorbar\":{\"outlinewidth\":0,\"ticks\":\"\"}},\"type\":\"scatterternary\"}],\"surface\":[{\"colorbar\":{\"outlinewidth\":0,\"ticks\":\"\"},\"colorscale\":[[0.0,\"#0d0887\"],[0.1111111111111111,\"#46039f\"],[0.2222222222222222,\"#7201a8\"],[0.3333333333333333,\"#9c179e\"],[0.4444444444444444,\"#bd3786\"],[0.5555555555555556,\"#d8576b\"],[0.6666666666666666,\"#ed7953\"],[0.7777777777777778,\"#fb9f3a\"],[0.8888888888888888,\"#fdca26\"],[1.0,\"#f0f921\"]],\"type\":\"surface\"}],\"table\":[{\"cells\":{\"fill\":{\"color\":\"#EBF0F8\"},\"line\":{\"color\":\"white\"}},\"header\":{\"fill\":{\"color\":\"#C8D4E3\"},\"line\":{\"color\":\"white\"}},\"type\":\"table\"}]},\"layout\":{\"annotationdefaults\":{\"arrowcolor\":\"#2a3f5f\",\"arrowhead\":0,\"arrowwidth\":1},\"autotypenumbers\":\"strict\",\"coloraxis\":{\"colorbar\":{\"outlinewidth\":0,\"ticks\":\"\"}},\"colorscale\":{\"diverging\":[[0,\"#8e0152\"],[0.1,\"#c51b7d\"],[0.2,\"#de77ae\"],[0.3,\"#f1b6da\"],[0.4,\"#fde0ef\"],[0.5,\"#f7f7f7\"],[0.6,\"#e6f5d0\"],[0.7,\"#b8e186\"],[0.8,\"#7fbc41\"],[0.9,\"#4d9221\"],[1,\"#276419\"]],\"sequential\":[[0.0,\"#0d0887\"],[0.1111111111111111,\"#46039f\"],[0.2222222222222222,\"#7201a8\"],[0.3333333333333333,\"#9c179e\"],[0.4444444444444444,\"#bd3786\"],[0.5555555555555556,\"#d8576b\"],[0.6666666666666666,\"#ed7953\"],[0.7777777777777778,\"#fb9f3a\"],[0.8888888888888888,\"#fdca26\"],[1.0,\"#f0f921\"]],\"sequentialminus\":[[0.0,\"#0d0887\"],[0.1111111111111111,\"#46039f\"],[0.2222222222222222,\"#7201a8\"],[0.3333333333333333,\"#9c179e\"],[0.4444444444444444,\"#bd3786\"],[0.5555555555555556,\"#d8576b\"],[0.6666666666666666,\"#ed7953\"],[0.7777777777777778,\"#fb9f3a\"],[0.8888888888888888,\"#fdca26\"],[1.0,\"#f0f921\"]]},\"colorway\":[\"#636efa\",\"#EF553B\",\"#00cc96\",\"#ab63fa\",\"#FFA15A\",\"#19d3f3\",\"#FF6692\",\"#B6E880\",\"#FF97FF\",\"#FECB52\"],\"font\":{\"color\":\"#2a3f5f\"},\"geo\":{\"bgcolor\":\"white\",\"lakecolor\":\"white\",\"landcolor\":\"#E5ECF6\",\"showlakes\":true,\"showland\":true,\"subunitcolor\":\"white\"},\"hoverlabel\":{\"align\":\"left\"},\"hovermode\":\"closest\",\"mapbox\":{\"style\":\"light\"},\"paper_bgcolor\":\"white\",\"plot_bgcolor\":\"#E5ECF6\",\"polar\":{\"angularaxis\":{\"gridcolor\":\"white\",\"linecolor\":\"white\",\"ticks\":\"\"},\"bgcolor\":\"#E5ECF6\",\"radialaxis\":{\"gridcolor\":\"white\",\"linecolor\":\"white\",\"ticks\":\"\"}},\"scene\":{\"xaxis\":{\"backgroundcolor\":\"#E5ECF6\",\"gridcolor\":\"white\",\"gridwidth\":2,\"linecolor\":\"white\",\"showbackground\":true,\"ticks\":\"\",\"zerolinecolor\":\"white\"},\"yaxis\":{\"backgroundcolor\":\"#E5ECF6\",\"gridcolor\":\"white\",\"gridwidth\":2,\"linecolor\":\"white\",\"showbackground\":true,\"ticks\":\"\",\"zerolinecolor\":\"white\"},\"zaxis\":{\"backgroundcolor\":\"#E5ECF6\",\"gridcolor\":\"white\",\"gridwidth\":2,\"linecolor\":\"white\",\"showbackground\":true,\"ticks\":\"\",\"zerolinecolor\":\"white\"}},\"shapedefaults\":{\"line\":{\"color\":\"#2a3f5f\"}},\"ternary\":{\"aaxis\":{\"gridcolor\":\"white\",\"linecolor\":\"white\",\"ticks\":\"\"},\"baxis\":{\"gridcolor\":\"white\",\"linecolor\":\"white\",\"ticks\":\"\"},\"bgcolor\":\"#E5ECF6\",\"caxis\":{\"gridcolor\":\"white\",\"linecolor\":\"white\",\"ticks\":\"\"}},\"title\":{\"x\":0.05},\"xaxis\":{\"automargin\":true,\"gridcolor\":\"white\",\"linecolor\":\"white\",\"ticks\":\"\",\"title\":{\"standoff\":15},\"zerolinecolor\":\"white\",\"zerolinewidth\":2},\"yaxis\":{\"automargin\":true,\"gridcolor\":\"white\",\"linecolor\":\"white\",\"ticks\":\"\",\"title\":{\"standoff\":15},\"zerolinecolor\":\"white\",\"zerolinewidth\":2}}},\"xaxis\":{\"anchor\":\"y\",\"domain\":[0.0,1.0],\"title\":{\"text\":\"metric\"}},\"yaxis\":{\"anchor\":\"x\",\"domain\":[0.0,1.0],\"title\":{\"text\":\"percent\"}},\"legend\":{\"title\":{\"text\":\"label\"},\"tracegroupgap\":0},\"title\":{\"text\":\"KNN Accuracy/Jaccard for Train/Test Data (First Try)\"},\"barmode\":\"group\"},                        {\"responsive\": true}                    ).then(function(){\n",
              "                            \n",
              "var gd = document.getElementById('5cafcf81-60b2-45ad-88bb-1f8bdfe10582');\n",
              "var x = new MutationObserver(function (mutations, observer) {{\n",
              "        var display = window.getComputedStyle(gd).display;\n",
              "        if (!display || display === 'none') {{\n",
              "            console.log([gd, 'removed!']);\n",
              "            Plotly.purge(gd);\n",
              "            observer.disconnect();\n",
              "        }}\n",
              "}});\n",
              "\n",
              "// Listen for the removal of the full notebook cells\n",
              "var notebookContainer = gd.closest('#notebook-container');\n",
              "if (notebookContainer) {{\n",
              "    x.observe(notebookContainer, {childList: true});\n",
              "}}\n",
              "\n",
              "// Listen for the clearing of the current output cell\n",
              "var outputEl = gd.closest('.output');\n",
              "if (outputEl) {{\n",
              "    x.observe(outputEl, {childList: true});\n",
              "}}\n",
              "\n",
              "                        })                };                            </script>        </div>\n",
              "</body>\n",
              "</html>"
            ]
          },
          "metadata": {}
        }
      ]
    },
    {
      "cell_type": "code",
      "source": [
        "from sklearn import metrics\n",
        "print(\"Train set Accuracy: %\", round( 100* metrics.accuracy_score(y_train, knn_clf.predict(X_train)),2)) \n",
        "print(\"Test set Accuracy: %\", round( 100* metrics.accuracy_score(y_test, knn_yhat),2))  \n",
        "print('')\n",
        "print (classification_report(y_test, knn_yhat))"
      ],
      "metadata": {
        "colab": {
          "base_uri": "https://localhost:8080/"
        },
        "id": "jtGHup2RmFBl",
        "outputId": "78d3f539-3aa2-4ba1-b0a9-63507115166f"
      },
      "execution_count": null,
      "outputs": [
        {
          "output_type": "stream",
          "name": "stdout",
          "text": [
            "Train set Accuracy: % 87.28\n",
            "Test set Accuracy: % 84.85\n",
            "\n",
            "              precision    recall  f1-score   support\n",
            "\n",
            "           0       0.84      0.84      0.84      1599\n",
            "           1       0.86      0.85      0.85      1734\n",
            "\n",
            "    accuracy                           0.85      3333\n",
            "   macro avg       0.85      0.85      0.85      3333\n",
            "weighted avg       0.85      0.85      0.85      3333\n",
            "\n"
          ]
        }
      ]
    },
    {
      "cell_type": "code",
      "source": [
        "knn_cnf_matrix = confusion_matrix(y_test, knn_yhat)\n",
        "np.set_printoptions(precision=2)\n",
        "\n",
        "labels = [0,1]\n",
        "\n",
        "plt.figure(figsize=(5,5))\n",
        "plot_confusion_matrix(knn_cnf_matrix, classes=labels ,normalize= False,  title='KNN Confusion Matrix')"
      ],
      "metadata": {
        "colab": {
          "base_uri": "https://localhost:8080/",
          "height": 386
        },
        "id": "0bHwm9CRoqKL",
        "outputId": "14116565-67a5-48ec-ea5d-eeb33f73dcec"
      },
      "execution_count": null,
      "outputs": [
        {
          "output_type": "stream",
          "name": "stdout",
          "text": [
            "Confusion matrix, without normalization\n"
          ]
        },
        {
          "output_type": "display_data",
          "data": {
            "text/plain": [
              "<Figure size 360x360 with 2 Axes>"
            ],
            "image/png": "[encoded data removed]"
          },
          "metadata": {
            "needs_background": "light"
          }
        }
      ]
    },
    {
      "cell_type": "code",
      "source": [
        "knn_clf = make_pipeline(preprocessing.StandardScaler(), KNeighborsClassifier(n_neighbors = 1))\n",
        "# cross_validate(knn_clf, X, Y, cv=5, scoring=scores)\n",
        "\n",
        "knn_avg_f1_weighted  = cross_validate(knn_clf, X, y, cv=5, scoring=scores)['test_f1_weighted'].mean()*100\n",
        "knn_avg_prc_weighted = cross_validate(knn_clf, X, y, cv=5, scoring=scores)['test_precision_weighted'].mean()*100\n",
        "knn_avg_rec_weighted = cross_validate(knn_clf, X, y, cv=5, scoring=scores)['test_recall_weighted'].mean()*100\n",
        "knn_avg_acc          = cross_validate(knn_clf, X, y, cv=5, scoring=scores)['test_accuracy'].mean()*100"
      ],
      "metadata": {
        "id": "83bgb2bcowv9"
      },
      "execution_count": null,
      "outputs": []
    },
    {
      "cell_type": "markdown",
      "source": [
        "## decision tree"
      ],
      "metadata": {
        "id": "VcDtx1aoo7F0"
      }
    },
    {
      "cell_type": "code",
      "source": [
        "from sklearn.tree import DecisionTreeClassifier\n",
        "InstrumentTree = make_pipeline(StandardScaler(), DecisionTreeClassifier(criterion='gini',max_depth =14))\n",
        "InstrumentTree.fit(X_train,y_train)\n",
        "\n",
        "predTree = InstrumentTree.predict(X_test)\n",
        "\n",
        "dt_acc_train = round( metrics.accuracy_score(y_train, InstrumentTree.predict(X_train))*100 ,2)\n",
        "dt_acc_test = round( metrics.accuracy_score(y_test, predTree)*100 ,2)\n",
        "dt_jac_train = round( metrics.jaccard_score(y_train, InstrumentTree.predict(X_train),average='weighted')*100 ,2)\n",
        "dt_jac_test = round( metrics.jaccard_score(y_test, predTree,average='weighted')*100 ,2)\n",
        "\n",
        "dt_df1 = pd.DataFrame({'percent':[dt_acc_train,dt_acc_test,dt_jac_train,dt_jac_test],\n",
        "                       'label' : ['train' , 'test' , 'train' , 'test'],\n",
        "                       'metric': ['Accuracy' , 'Accuracy' , 'Weighted Jaccard Score' , 'Weighted Jaccard Score']})\n",
        "\n",
        "\n",
        "fig = px.bar(dt_df1 , x='metric' , y='percent' , color='label' ,\n",
        "             title='Decision Tree Accuracy/Jaccard for Train/Test Data (First Try)' ,\n",
        "             text=\"percent\", barmode=\"group\")\n",
        "fig.show()"
      ],
      "metadata": {
        "colab": {
          "base_uri": "https://localhost:8080/",
          "height": 542
        },
        "id": "VhVZcDD-owmA",
        "outputId": "98358182-eb42-47d0-ba89-f13b54576121"
      },
      "execution_count": null,
      "outputs": [
        {
          "output_type": "display_data",
          "data": {
            "text/html": [
              "<html>\n",
              "<head><meta charset=\"utf-8\" /></head>\n",
              "<body>\n",
              "    <div>            <script src=\"https://cdnjs.cloudflare.com/ajax/libs/mathjax/2.7.5/MathJax.js?config=TeX-AMS-MML_SVG\"></script><script type=\"text/javascript\">if (window.MathJax) {MathJax.Hub.Config({SVG: {font: \"STIX-Web\"}});}</script>                <script type=\"text/javascript\">window.PlotlyConfig = {MathJaxConfig: 'local'};</script>\n",
              "        <script src=\"https://cdn.plot.ly/plotly-2.8.3.min.js\"></script>                <div id=\"54f4347b-b994-4aa3-8464-c6a384d53d9f\" class=\"plotly-graph-div\" style=\"height:525px; width:100%;\"></div>            <script type=\"text/javascript\">                                    window.PLOTLYENV=window.PLOTLYENV || {};                                    if (document.getElementById(\"54f4347b-b994-4aa3-8464-c6a384d53d9f\")) {                    Plotly.newPlot(                        \"54f4347b-b994-4aa3-8464-c6a384d53d9f\",                        [{\"alignmentgroup\":\"True\",\"hovertemplate\":\"label=train<br>metric=%{x}<br>percent=%{text}<extra></extra>\",\"legendgroup\":\"train\",\"marker\":{\"color\":\"#636efa\",\"pattern\":{\"shape\":\"\"}},\"name\":\"train\",\"offsetgroup\":\"train\",\"orientation\":\"v\",\"showlegend\":true,\"text\":[98.84,97.72],\"textposition\":\"auto\",\"x\":[\"Accuracy\",\"Weighted Jaccard Score\"],\"xaxis\":\"x\",\"y\":[98.84,97.72],\"yaxis\":\"y\",\"type\":\"bar\"},{\"alignmentgroup\":\"True\",\"hovertemplate\":\"label=test<br>metric=%{x}<br>percent=%{text}<extra></extra>\",\"legendgroup\":\"test\",\"marker\":{\"color\":\"#EF553B\",\"pattern\":{\"shape\":\"\"}},\"name\":\"test\",\"offsetgroup\":\"test\",\"orientation\":\"v\",\"showlegend\":true,\"text\":[64.9,47.04],\"textposition\":\"auto\",\"x\":[\"Accuracy\",\"Weighted Jaccard Score\"],\"xaxis\":\"x\",\"y\":[64.9,47.04],\"yaxis\":\"y\",\"type\":\"bar\"}],                        {\"template\":{\"data\":{\"bar\":[{\"error_x\":{\"color\":\"#2a3f5f\"},\"error_y\":{\"color\":\"#2a3f5f\"},\"marker\":{\"line\":{\"color\":\"#E5ECF6\",\"width\":0.5},\"pattern\":{\"fillmode\":\"overlay\",\"size\":10,\"solidity\":0.2}},\"type\":\"bar\"}],\"barpolar\":[{\"marker\":{\"line\":{\"color\":\"#E5ECF6\",\"width\":0.5},\"pattern\":{\"fillmode\":\"overlay\",\"size\":10,\"solidity\":0.2}},\"type\":\"barpolar\"}],\"carpet\":[{\"aaxis\":{\"endlinecolor\":\"#2a3f5f\",\"gridcolor\":\"white\",\"linecolor\":\"white\",\"minorgridcolor\":\"white\",\"startlinecolor\":\"#2a3f5f\"},\"baxis\":{\"endlinecolor\":\"#2a3f5f\",\"gridcolor\":\"white\",\"linecolor\":\"white\",\"minorgridcolor\":\"white\",\"startlinecolor\":\"#2a3f5f\"},\"type\":\"carpet\"}],\"choropleth\":[{\"colorbar\":{\"outlinewidth\":0,\"ticks\":\"\"},\"type\":\"choropleth\"}],\"contour\":[{\"colorbar\":{\"outlinewidth\":0,\"ticks\":\"\"},\"colorscale\":[[0.0,\"#0d0887\"],[0.1111111111111111,\"#46039f\"],[0.2222222222222222,\"#7201a8\"],[0.3333333333333333,\"#9c179e\"],[0.4444444444444444,\"#bd3786\"],[0.5555555555555556,\"#d8576b\"],[0.6666666666666666,\"#ed7953\"],[0.7777777777777778,\"#fb9f3a\"],[0.8888888888888888,\"#fdca26\"],[1.0,\"#f0f921\"]],\"type\":\"contour\"}],\"contourcarpet\":[{\"colorbar\":{\"outlinewidth\":0,\"ticks\":\"\"},\"type\":\"contourcarpet\"}],\"heatmap\":[{\"colorbar\":{\"outlinewidth\":0,\"ticks\":\"\"},\"colorscale\":[[0.0,\"#0d0887\"],[0.1111111111111111,\"#46039f\"],[0.2222222222222222,\"#7201a8\"],[0.3333333333333333,\"#9c179e\"],[0.4444444444444444,\"#bd3786\"],[0.5555555555555556,\"#d8576b\"],[0.6666666666666666,\"#ed7953\"],[0.7777777777777778,\"#fb9f3a\"],[0.8888888888888888,\"#fdca26\"],[1.0,\"#f0f921\"]],\"type\":\"heatmap\"}],\"heatmapgl\":[{\"colorbar\":{\"outlinewidth\":0,\"ticks\":\"\"},\"colorscale\":[[0.0,\"#0d0887\"],[0.1111111111111111,\"#46039f\"],[0.2222222222222222,\"#7201a8\"],[0.3333333333333333,\"#9c179e\"],[0.4444444444444444,\"#bd3786\"],[0.5555555555555556,\"#d8576b\"],[0.6666666666666666,\"#ed7953\"],[0.7777777777777778,\"#fb9f3a\"],[0.8888888888888888,\"#fdca26\"],[1.0,\"#f0f921\"]],\"type\":\"heatmapgl\"}],\"histogram\":[{\"marker\":{\"pattern\":{\"fillmode\":\"overlay\",\"size\":10,\"solidity\":0.2}},\"type\":\"histogram\"}],\"histogram2d\":[{\"colorbar\":{\"outlinewidth\":0,\"ticks\":\"\"},\"colorscale\":[[0.0,\"#0d0887\"],[0.1111111111111111,\"#46039f\"],[0.2222222222222222,\"#7201a8\"],[0.3333333333333333,\"#9c179e\"],[0.4444444444444444,\"#bd3786\"],[0.5555555555555556,\"#d8576b\"],[0.6666666666666666,\"#ed7953\"],[0.7777777777777778,\"#fb9f3a\"],[0.8888888888888888,\"#fdca26\"],[1.0,\"#f0f921\"]],\"type\":\"histogram2d\"}],\"histogram2dcontour\":[{\"colorbar\":{\"outlinewidth\":0,\"ticks\":\"\"},\"colorscale\":[[0.0,\"#0d0887\"],[0.1111111111111111,\"#46039f\"],[0.2222222222222222,\"#7201a8\"],[0.3333333333333333,\"#9c179e\"],[0.4444444444444444,\"#bd3786\"],[0.5555555555555556,\"#d8576b\"],[0.6666666666666666,\"#ed7953\"],[0.7777777777777778,\"#fb9f3a\"],[0.8888888888888888,\"#fdca26\"],[1.0,\"#f0f921\"]],\"type\":\"histogram2dcontour\"}],\"mesh3d\":[{\"colorbar\":{\"outlinewidth\":0,\"ticks\":\"\"},\"type\":\"mesh3d\"}],\"parcoords\":[{\"line\":{\"colorbar\":{\"outlinewidth\":0,\"ticks\":\"\"}},\"type\":\"parcoords\"}],\"pie\":[{\"automargin\":true,\"type\":\"pie\"}],\"scatter\":[{\"marker\":{\"colorbar\":{\"outlinewidth\":0,\"ticks\":\"\"}},\"type\":\"scatter\"}],\"scatter3d\":[{\"line\":{\"colorbar\":{\"outlinewidth\":0,\"ticks\":\"\"}},\"marker\":{\"colorbar\":{\"outlinewidth\":0,\"ticks\":\"\"}},\"type\":\"scatter3d\"}],\"scattercarpet\":[{\"marker\":{\"colorbar\":{\"outlinewidth\":0,\"ticks\":\"\"}},\"type\":\"scattercarpet\"}],\"scattergeo\":[{\"marker\":{\"colorbar\":{\"outlinewidth\":0,\"ticks\":\"\"}},\"type\":\"scattergeo\"}],\"scattergl\":[{\"marker\":{\"colorbar\":{\"outlinewidth\":0,\"ticks\":\"\"}},\"type\":\"scattergl\"}],\"scattermapbox\":[{\"marker\":{\"colorbar\":{\"outlinewidth\":0,\"ticks\":\"\"}},\"type\":\"scattermapbox\"}],\"scatterpolar\":[{\"marker\":{\"colorbar\":{\"outlinewidth\":0,\"ticks\":\"\"}},\"type\":\"scatterpolar\"}],\"scatterpolargl\":[{\"marker\":{\"colorbar\":{\"outlinewidth\":0,\"ticks\":\"\"}},\"type\":\"scatterpolargl\"}],\"scatterternary\":[{\"marker\":{\"colorbar\":{\"outlinewidth\":0,\"ticks\":\"\"}},\"type\":\"scatterternary\"}],\"surface\":[{\"colorbar\":{\"outlinewidth\":0,\"ticks\":\"\"},\"colorscale\":[[0.0,\"#0d0887\"],[0.1111111111111111,\"#46039f\"],[0.2222222222222222,\"#7201a8\"],[0.3333333333333333,\"#9c179e\"],[0.4444444444444444,\"#bd3786\"],[0.5555555555555556,\"#d8576b\"],[0.6666666666666666,\"#ed7953\"],[0.7777777777777778,\"#fb9f3a\"],[0.8888888888888888,\"#fdca26\"],[1.0,\"#f0f921\"]],\"type\":\"surface\"}],\"table\":[{\"cells\":{\"fill\":{\"color\":\"#EBF0F8\"},\"line\":{\"color\":\"white\"}},\"header\":{\"fill\":{\"color\":\"#C8D4E3\"},\"line\":{\"color\":\"white\"}},\"type\":\"table\"}]},\"layout\":{\"annotationdefaults\":{\"arrowcolor\":\"#2a3f5f\",\"arrowhead\":0,\"arrowwidth\":1},\"autotypenumbers\":\"strict\",\"coloraxis\":{\"colorbar\":{\"outlinewidth\":0,\"ticks\":\"\"}},\"colorscale\":{\"diverging\":[[0,\"#8e0152\"],[0.1,\"#c51b7d\"],[0.2,\"#de77ae\"],[0.3,\"#f1b6da\"],[0.4,\"#fde0ef\"],[0.5,\"#f7f7f7\"],[0.6,\"#e6f5d0\"],[0.7,\"#b8e186\"],[0.8,\"#7fbc41\"],[0.9,\"#4d9221\"],[1,\"#276419\"]],\"sequential\":[[0.0,\"#0d0887\"],[0.1111111111111111,\"#46039f\"],[0.2222222222222222,\"#7201a8\"],[0.3333333333333333,\"#9c179e\"],[0.4444444444444444,\"#bd3786\"],[0.5555555555555556,\"#d8576b\"],[0.6666666666666666,\"#ed7953\"],[0.7777777777777778,\"#fb9f3a\"],[0.8888888888888888,\"#fdca26\"],[1.0,\"#f0f921\"]],\"sequentialminus\":[[0.0,\"#0d0887\"],[0.1111111111111111,\"#46039f\"],[0.2222222222222222,\"#7201a8\"],[0.3333333333333333,\"#9c179e\"],[0.4444444444444444,\"#bd3786\"],[0.5555555555555556,\"#d8576b\"],[0.6666666666666666,\"#ed7953\"],[0.7777777777777778,\"#fb9f3a\"],[0.8888888888888888,\"#fdca26\"],[1.0,\"#f0f921\"]]},\"colorway\":[\"#636efa\",\"#EF553B\",\"#00cc96\",\"#ab63fa\",\"#FFA15A\",\"#19d3f3\",\"#FF6692\",\"#B6E880\",\"#FF97FF\",\"#FECB52\"],\"font\":{\"color\":\"#2a3f5f\"},\"geo\":{\"bgcolor\":\"white\",\"lakecolor\":\"white\",\"landcolor\":\"#E5ECF6\",\"showlakes\":true,\"showland\":true,\"subunitcolor\":\"white\"},\"hoverlabel\":{\"align\":\"left\"},\"hovermode\":\"closest\",\"mapbox\":{\"style\":\"light\"},\"paper_bgcolor\":\"white\",\"plot_bgcolor\":\"#E5ECF6\",\"polar\":{\"angularaxis\":{\"gridcolor\":\"white\",\"linecolor\":\"white\",\"ticks\":\"\"},\"bgcolor\":\"#E5ECF6\",\"radialaxis\":{\"gridcolor\":\"white\",\"linecolor\":\"white\",\"ticks\":\"\"}},\"scene\":{\"xaxis\":{\"backgroundcolor\":\"#E5ECF6\",\"gridcolor\":\"white\",\"gridwidth\":2,\"linecolor\":\"white\",\"showbackground\":true,\"ticks\":\"\",\"zerolinecolor\":\"white\"},\"yaxis\":{\"backgroundcolor\":\"#E5ECF6\",\"gridcolor\":\"white\",\"gridwidth\":2,\"linecolor\":\"white\",\"showbackground\":true,\"ticks\":\"\",\"zerolinecolor\":\"white\"},\"zaxis\":{\"backgroundcolor\":\"#E5ECF6\",\"gridcolor\":\"white\",\"gridwidth\":2,\"linecolor\":\"white\",\"showbackground\":true,\"ticks\":\"\",\"zerolinecolor\":\"white\"}},\"shapedefaults\":{\"line\":{\"color\":\"#2a3f5f\"}},\"ternary\":{\"aaxis\":{\"gridcolor\":\"white\",\"linecolor\":\"white\",\"ticks\":\"\"},\"baxis\":{\"gridcolor\":\"white\",\"linecolor\":\"white\",\"ticks\":\"\"},\"bgcolor\":\"#E5ECF6\",\"caxis\":{\"gridcolor\":\"white\",\"linecolor\":\"white\",\"ticks\":\"\"}},\"title\":{\"x\":0.05},\"xaxis\":{\"automargin\":true,\"gridcolor\":\"white\",\"linecolor\":\"white\",\"ticks\":\"\",\"title\":{\"standoff\":15},\"zerolinecolor\":\"white\",\"zerolinewidth\":2},\"yaxis\":{\"automargin\":true,\"gridcolor\":\"white\",\"linecolor\":\"white\",\"ticks\":\"\",\"title\":{\"standoff\":15},\"zerolinecolor\":\"white\",\"zerolinewidth\":2}}},\"xaxis\":{\"anchor\":\"y\",\"domain\":[0.0,1.0],\"title\":{\"text\":\"metric\"}},\"yaxis\":{\"anchor\":\"x\",\"domain\":[0.0,1.0],\"title\":{\"text\":\"percent\"}},\"legend\":{\"title\":{\"text\":\"label\"},\"tracegroupgap\":0},\"title\":{\"text\":\"Decision Tree Accuracy/Jaccard for Train/Test Data (First Try)\"},\"barmode\":\"group\"},                        {\"responsive\": true}                    ).then(function(){\n",
              "                            \n",
              "var gd = document.getElementById('54f4347b-b994-4aa3-8464-c6a384d53d9f');\n",
              "var x = new MutationObserver(function (mutations, observer) {{\n",
              "        var display = window.getComputedStyle(gd).display;\n",
              "        if (!display || display === 'none') {{\n",
              "            console.log([gd, 'removed!']);\n",
              "            Plotly.purge(gd);\n",
              "            observer.disconnect();\n",
              "        }}\n",
              "}});\n",
              "\n",
              "// Listen for the removal of the full notebook cells\n",
              "var notebookContainer = gd.closest('#notebook-container');\n",
              "if (notebookContainer) {{\n",
              "    x.observe(notebookContainer, {childList: true});\n",
              "}}\n",
              "\n",
              "// Listen for the clearing of the current output cell\n",
              "var outputEl = gd.closest('.output');\n",
              "if (outputEl) {{\n",
              "    x.observe(outputEl, {childList: true});\n",
              "}}\n",
              "\n",
              "                        })                };                            </script>        </div>\n",
              "</body>\n",
              "</html>"
            ]
          },
          "metadata": {}
        }
      ]
    },
    {
      "cell_type": "code",
      "source": [
        "print(\"Train set Accuracy: %\", round( 100* metrics.accuracy_score(y_train, InstrumentTree.predict(X_train))))\n",
        "print(\"Test set Accuracy: %\", round( 100* metrics.accuracy_score(y_test, predTree)))  \n",
        "print('')\n",
        "print (classification_report(y_test, predTree))\n",
        "\n",
        "dt_cnf_matrix = confusion_matrix(y_test, predTree)\n",
        "np.set_printoptions(precision=2)\n",
        "\n",
        "labels = [0,1]\n",
        "\n",
        "plt.figure(figsize=(5,5))\n",
        "plot_confusion_matrix(dt_cnf_matrix, classes=labels ,normalize= False,  title='Decision Tree Confusion Matrix')"
      ],
      "metadata": {
        "colab": {
          "base_uri": "https://localhost:8080/",
          "height": 595
        },
        "id": "8ZnMe-zZowZc",
        "outputId": "2acce784-9e04-4d1e-8e53-9e06b2362853"
      },
      "execution_count": null,
      "outputs": [
        {
          "output_type": "stream",
          "name": "stdout",
          "text": [
            "Train set Accuracy: % 99\n",
            "Test set Accuracy: % 65\n",
            "\n",
            "              precision    recall  f1-score   support\n",
            "\n",
            "           0       0.71      0.45      0.55      1599\n",
            "           1       0.62      0.83      0.71      1734\n",
            "\n",
            "    accuracy                           0.65      3333\n",
            "   macro avg       0.67      0.64      0.63      3333\n",
            "weighted avg       0.66      0.65      0.64      3333\n",
            "\n",
            "Confusion matrix, without normalization\n"
          ]
        },
        {
          "output_type": "display_data",
          "data": {
            "text/plain": [
              "<Figure size 360x360 with 2 Axes>"
            ],
            "image/png": "[encoded data removed]"
          },
          "metadata": {
            "needs_background": "light"
          }
        }
      ]
    },
    {
      "cell_type": "code",
      "source": [
        "dt_clf = make_pipeline(preprocessing.StandardScaler(), DecisionTreeClassifier(criterion='gini',max_depth =14))\n",
        "# cross_validate(dt_clf, X, Y, cv=5, scoring=scores)\n",
        "\n",
        "dt_avg_f1_weighted  = cross_validate(dt_clf, X, y, cv=5, scoring=scores)['test_f1_weighted'].mean()*100\n",
        "dt_avg_prc_weighted = cross_validate(dt_clf, X, y, cv=5, scoring=scores)['test_precision_weighted'].mean()*100\n",
        "dt_avg_rec_weighted = cross_validate(dt_clf, X, y, cv=5, scoring=scores)['test_recall_weighted'].mean()*100\n",
        "dt_avg_acc          = cross_validate(dt_clf, X, y, cv=5, scoring=scores)['test_accuracy'].mean()*100"
      ],
      "metadata": {
        "id": "ds5bytnNpn7H"
      },
      "execution_count": null,
      "outputs": []
    },
    {
      "cell_type": "markdown",
      "source": [
        "## mlp"
      ],
      "metadata": {
        "id": "LRDmj0u4rHZO"
      }
    },
    {
      "cell_type": "code",
      "source": [
        ""
      ],
      "metadata": {
        "id": "OgUJXRyTrG-r"
      },
      "execution_count": null,
      "outputs": []
    },
    {
      "cell_type": "code",
      "source": [
        "MLP_clf = make_pipeline(preprocessing.StandardScaler(),  MLPClassifier(alpha=0.1,hidden_layer_sizes=(4, 2), random_state=0))\n",
        "MLP_clf = MLP_clf.fit(X_train, y_train)\n",
        "MLP_Y_pred=MLP_clf.predict(X_test)\n",
        "\n",
        "print('accuracy:\\n',accuracy_score(y_test, MLP_Y_pred))"
      ],
      "metadata": {
        "colab": {
          "base_uri": "https://localhost:8080/"
        },
        "id": "ogYASFbwrBfJ",
        "outputId": "b3e56d79-0f14-418f-ac5d-74e7405e2a70"
      },
      "execution_count": null,
      "outputs": [
        {
          "output_type": "stream",
          "name": "stdout",
          "text": [
            "accuracy:\n",
            " 0.9135913591359136\n"
          ]
        }
      ]
    },
    {
      "cell_type": "code",
      "source": [
        "MLP_acc_train = round( metrics.accuracy_score(y_train, MLP_clf.predict(X_train))*100 ,2)\n",
        "MLP_acc_test = round( metrics.accuracy_score(y_test, MLP_Y_pred)*100 ,2)\n",
        "MLP_jac_train = round( metrics.jaccard_score(y_train, MLP_clf.predict(X_train),average='weighted')*100 ,2)\n",
        "MLP_jac_test = round( metrics.jaccard_score(y_test, MLP_Y_pred,average='weighted')*100 ,2)\n",
        "\n",
        "MLP_df1 = pd.DataFrame({'percent':[MLP_acc_train,MLP_acc_test,MLP_jac_train,MLP_jac_test],\n",
        "                       'label' : ['train' , 'test' , 'train' , 'test'],\n",
        "                       'metric': ['Accuracy' , 'Accuracy' , 'Weighted Jaccard Score' , 'Weighted Jaccard Score']})\n",
        "\n",
        "\n",
        "fig = px.bar(MLP_df1 , x='metric' , y='percent' , color='label' ,\n",
        "             title='MLP Accuracy/Jaccard for Train/Test Data (First Try)' ,\n",
        "             text=\"percent\", barmode=\"group\")\n",
        "fig.show()"
      ],
      "metadata": {
        "colab": {
          "base_uri": "https://localhost:8080/",
          "height": 542
        },
        "id": "xKc1ifvcrVIu",
        "outputId": "314fce3d-b365-459a-87e8-830669d57bf9"
      },
      "execution_count": null,
      "outputs": [
        {
          "output_type": "display_data",
          "data": {
            "text/html": [
              "<html>\n",
              "<head><meta charset=\"utf-8\" /></head>\n",
              "<body>\n",
              "    <div>            <script src=\"https://cdnjs.cloudflare.com/ajax/libs/mathjax/2.7.5/MathJax.js?config=TeX-AMS-MML_SVG\"></script><script type=\"text/javascript\">if (window.MathJax) {MathJax.Hub.Config({SVG: {font: \"STIX-Web\"}});}</script>                <script type=\"text/javascript\">window.PlotlyConfig = {MathJaxConfig: 'local'};</script>\n",
              "        <script src=\"https://cdn.plot.ly/plotly-2.8.3.min.js\"></script>                <div id=\"c0b0bb24-f751-4b74-9023-fa245f6d3508\" class=\"plotly-graph-div\" style=\"height:525px; width:100%;\"></div>            <script type=\"text/javascript\">                                    window.PLOTLYENV=window.PLOTLYENV || {};                                    if (document.getElementById(\"c0b0bb24-f751-4b74-9023-fa245f6d3508\")) {                    Plotly.newPlot(                        \"c0b0bb24-f751-4b74-9023-fa245f6d3508\",                        [{\"alignmentgroup\":\"True\",\"hovertemplate\":\"label=train<br>metric=%{x}<br>percent=%{text}<extra></extra>\",\"legendgroup\":\"train\",\"marker\":{\"color\":\"#636efa\",\"pattern\":{\"shape\":\"\"}},\"name\":\"train\",\"offsetgroup\":\"train\",\"orientation\":\"v\",\"showlegend\":true,\"text\":[93.85,88.41],\"textposition\":\"auto\",\"x\":[\"Accuracy\",\"Weighted Jaccard Score\"],\"xaxis\":\"x\",\"y\":[93.85,88.41],\"yaxis\":\"y\",\"type\":\"bar\"},{\"alignmentgroup\":\"True\",\"hovertemplate\":\"label=test<br>metric=%{x}<br>percent=%{text}<extra></extra>\",\"legendgroup\":\"test\",\"marker\":{\"color\":\"#EF553B\",\"pattern\":{\"shape\":\"\"}},\"name\":\"test\",\"offsetgroup\":\"test\",\"orientation\":\"v\",\"showlegend\":true,\"text\":[91.36,84.1],\"textposition\":\"auto\",\"x\":[\"Accuracy\",\"Weighted Jaccard Score\"],\"xaxis\":\"x\",\"y\":[91.36,84.1],\"yaxis\":\"y\",\"type\":\"bar\"}],                        {\"template\":{\"data\":{\"bar\":[{\"error_x\":{\"color\":\"#2a3f5f\"},\"error_y\":{\"color\":\"#2a3f5f\"},\"marker\":{\"line\":{\"color\":\"#E5ECF6\",\"width\":0.5},\"pattern\":{\"fillmode\":\"overlay\",\"size\":10,\"solidity\":0.2}},\"type\":\"bar\"}],\"barpolar\":[{\"marker\":{\"line\":{\"color\":\"#E5ECF6\",\"width\":0.5},\"pattern\":{\"fillmode\":\"overlay\",\"size\":10,\"solidity\":0.2}},\"type\":\"barpolar\"}],\"carpet\":[{\"aaxis\":{\"endlinecolor\":\"#2a3f5f\",\"gridcolor\":\"white\",\"linecolor\":\"white\",\"minorgridcolor\":\"white\",\"startlinecolor\":\"#2a3f5f\"},\"baxis\":{\"endlinecolor\":\"#2a3f5f\",\"gridcolor\":\"white\",\"linecolor\":\"white\",\"minorgridcolor\":\"white\",\"startlinecolor\":\"#2a3f5f\"},\"type\":\"carpet\"}],\"choropleth\":[{\"colorbar\":{\"outlinewidth\":0,\"ticks\":\"\"},\"type\":\"choropleth\"}],\"contour\":[{\"colorbar\":{\"outlinewidth\":0,\"ticks\":\"\"},\"colorscale\":[[0.0,\"#0d0887\"],[0.1111111111111111,\"#46039f\"],[0.2222222222222222,\"#7201a8\"],[0.3333333333333333,\"#9c179e\"],[0.4444444444444444,\"#bd3786\"],[0.5555555555555556,\"#d8576b\"],[0.6666666666666666,\"#ed7953\"],[0.7777777777777778,\"#fb9f3a\"],[0.8888888888888888,\"#fdca26\"],[1.0,\"#f0f921\"]],\"type\":\"contour\"}],\"contourcarpet\":[{\"colorbar\":{\"outlinewidth\":0,\"ticks\":\"\"},\"type\":\"contourcarpet\"}],\"heatmap\":[{\"colorbar\":{\"outlinewidth\":0,\"ticks\":\"\"},\"colorscale\":[[0.0,\"#0d0887\"],[0.1111111111111111,\"#46039f\"],[0.2222222222222222,\"#7201a8\"],[0.3333333333333333,\"#9c179e\"],[0.4444444444444444,\"#bd3786\"],[0.5555555555555556,\"#d8576b\"],[0.6666666666666666,\"#ed7953\"],[0.7777777777777778,\"#fb9f3a\"],[0.8888888888888888,\"#fdca26\"],[1.0,\"#f0f921\"]],\"type\":\"heatmap\"}],\"heatmapgl\":[{\"colorbar\":{\"outlinewidth\":0,\"ticks\":\"\"},\"colorscale\":[[0.0,\"#0d0887\"],[0.1111111111111111,\"#46039f\"],[0.2222222222222222,\"#7201a8\"],[0.3333333333333333,\"#9c179e\"],[0.4444444444444444,\"#bd3786\"],[0.5555555555555556,\"#d8576b\"],[0.6666666666666666,\"#ed7953\"],[0.7777777777777778,\"#fb9f3a\"],[0.8888888888888888,\"#fdca26\"],[1.0,\"#f0f921\"]],\"type\":\"heatmapgl\"}],\"histogram\":[{\"marker\":{\"pattern\":{\"fillmode\":\"overlay\",\"size\":10,\"solidity\":0.2}},\"type\":\"histogram\"}],\"histogram2d\":[{\"colorbar\":{\"outlinewidth\":0,\"ticks\":\"\"},\"colorscale\":[[0.0,\"#0d0887\"],[0.1111111111111111,\"#46039f\"],[0.2222222222222222,\"#7201a8\"],[0.3333333333333333,\"#9c179e\"],[0.4444444444444444,\"#bd3786\"],[0.5555555555555556,\"#d8576b\"],[0.6666666666666666,\"#ed7953\"],[0.7777777777777778,\"#fb9f3a\"],[0.8888888888888888,\"#fdca26\"],[1.0,\"#f0f921\"]],\"type\":\"histogram2d\"}],\"histogram2dcontour\":[{\"colorbar\":{\"outlinewidth\":0,\"ticks\":\"\"},\"colorscale\":[[0.0,\"#0d0887\"],[0.1111111111111111,\"#46039f\"],[0.2222222222222222,\"#7201a8\"],[0.3333333333333333,\"#9c179e\"],[0.4444444444444444,\"#bd3786\"],[0.5555555555555556,\"#d8576b\"],[0.6666666666666666,\"#ed7953\"],[0.7777777777777778,\"#fb9f3a\"],[0.8888888888888888,\"#fdca26\"],[1.0,\"#f0f921\"]],\"type\":\"histogram2dcontour\"}],\"mesh3d\":[{\"colorbar\":{\"outlinewidth\":0,\"ticks\":\"\"},\"type\":\"mesh3d\"}],\"parcoords\":[{\"line\":{\"colorbar\":{\"outlinewidth\":0,\"ticks\":\"\"}},\"type\":\"parcoords\"}],\"pie\":[{\"automargin\":true,\"type\":\"pie\"}],\"scatter\":[{\"marker\":{\"colorbar\":{\"outlinewidth\":0,\"ticks\":\"\"}},\"type\":\"scatter\"}],\"scatter3d\":[{\"line\":{\"colorbar\":{\"outlinewidth\":0,\"ticks\":\"\"}},\"marker\":{\"colorbar\":{\"outlinewidth\":0,\"ticks\":\"\"}},\"type\":\"scatter3d\"}],\"scattercarpet\":[{\"marker\":{\"colorbar\":{\"outlinewidth\":0,\"ticks\":\"\"}},\"type\":\"scattercarpet\"}],\"scattergeo\":[{\"marker\":{\"colorbar\":{\"outlinewidth\":0,\"ticks\":\"\"}},\"type\":\"scattergeo\"}],\"scattergl\":[{\"marker\":{\"colorbar\":{\"outlinewidth\":0,\"ticks\":\"\"}},\"type\":\"scattergl\"}],\"scattermapbox\":[{\"marker\":{\"colorbar\":{\"outlinewidth\":0,\"ticks\":\"\"}},\"type\":\"scattermapbox\"}],\"scatterpolar\":[{\"marker\":{\"colorbar\":{\"outlinewidth\":0,\"ticks\":\"\"}},\"type\":\"scatterpolar\"}],\"scatterpolargl\":[{\"marker\":{\"colorbar\":{\"outlinewidth\":0,\"ticks\":\"\"}},\"type\":\"scatterpolargl\"}],\"scatterternary\":[{\"marker\":{\"colorbar\":{\"outlinewidth\":0,\"ticks\":\"\"}},\"type\":\"scatterternary\"}],\"surface\":[{\"colorbar\":{\"outlinewidth\":0,\"ticks\":\"\"},\"colorscale\":[[0.0,\"#0d0887\"],[0.1111111111111111,\"#46039f\"],[0.2222222222222222,\"#7201a8\"],[0.3333333333333333,\"#9c179e\"],[0.4444444444444444,\"#bd3786\"],[0.5555555555555556,\"#d8576b\"],[0.6666666666666666,\"#ed7953\"],[0.7777777777777778,\"#fb9f3a\"],[0.8888888888888888,\"#fdca26\"],[1.0,\"#f0f921\"]],\"type\":\"surface\"}],\"table\":[{\"cells\":{\"fill\":{\"color\":\"#EBF0F8\"},\"line\":{\"color\":\"white\"}},\"header\":{\"fill\":{\"color\":\"#C8D4E3\"},\"line\":{\"color\":\"white\"}},\"type\":\"table\"}]},\"layout\":{\"annotationdefaults\":{\"arrowcolor\":\"#2a3f5f\",\"arrowhead\":0,\"arrowwidth\":1},\"autotypenumbers\":\"strict\",\"coloraxis\":{\"colorbar\":{\"outlinewidth\":0,\"ticks\":\"\"}},\"colorscale\":{\"diverging\":[[0,\"#8e0152\"],[0.1,\"#c51b7d\"],[0.2,\"#de77ae\"],[0.3,\"#f1b6da\"],[0.4,\"#fde0ef\"],[0.5,\"#f7f7f7\"],[0.6,\"#e6f5d0\"],[0.7,\"#b8e186\"],[0.8,\"#7fbc41\"],[0.9,\"#4d9221\"],[1,\"#276419\"]],\"sequential\":[[0.0,\"#0d0887\"],[0.1111111111111111,\"#46039f\"],[0.2222222222222222,\"#7201a8\"],[0.3333333333333333,\"#9c179e\"],[0.4444444444444444,\"#bd3786\"],[0.5555555555555556,\"#d8576b\"],[0.6666666666666666,\"#ed7953\"],[0.7777777777777778,\"#fb9f3a\"],[0.8888888888888888,\"#fdca26\"],[1.0,\"#f0f921\"]],\"sequentialminus\":[[0.0,\"#0d0887\"],[0.1111111111111111,\"#46039f\"],[0.2222222222222222,\"#7201a8\"],[0.3333333333333333,\"#9c179e\"],[0.4444444444444444,\"#bd3786\"],[0.5555555555555556,\"#d8576b\"],[0.6666666666666666,\"#ed7953\"],[0.7777777777777778,\"#fb9f3a\"],[0.8888888888888888,\"#fdca26\"],[1.0,\"#f0f921\"]]},\"colorway\":[\"#636efa\",\"#EF553B\",\"#00cc96\",\"#ab63fa\",\"#FFA15A\",\"#19d3f3\",\"#FF6692\",\"#B6E880\",\"#FF97FF\",\"#FECB52\"],\"font\":{\"color\":\"#2a3f5f\"},\"geo\":{\"bgcolor\":\"white\",\"lakecolor\":\"white\",\"landcolor\":\"#E5ECF6\",\"showlakes\":true,\"showland\":true,\"subunitcolor\":\"white\"},\"hoverlabel\":{\"align\":\"left\"},\"hovermode\":\"closest\",\"mapbox\":{\"style\":\"light\"},\"paper_bgcolor\":\"white\",\"plot_bgcolor\":\"#E5ECF6\",\"polar\":{\"angularaxis\":{\"gridcolor\":\"white\",\"linecolor\":\"white\",\"ticks\":\"\"},\"bgcolor\":\"#E5ECF6\",\"radialaxis\":{\"gridcolor\":\"white\",\"linecolor\":\"white\",\"ticks\":\"\"}},\"scene\":{\"xaxis\":{\"backgroundcolor\":\"#E5ECF6\",\"gridcolor\":\"white\",\"gridwidth\":2,\"linecolor\":\"white\",\"showbackground\":true,\"ticks\":\"\",\"zerolinecolor\":\"white\"},\"yaxis\":{\"backgroundcolor\":\"#E5ECF6\",\"gridcolor\":\"white\",\"gridwidth\":2,\"linecolor\":\"white\",\"showbackground\":true,\"ticks\":\"\",\"zerolinecolor\":\"white\"},\"zaxis\":{\"backgroundcolor\":\"#E5ECF6\",\"gridcolor\":\"white\",\"gridwidth\":2,\"linecolor\":\"white\",\"showbackground\":true,\"ticks\":\"\",\"zerolinecolor\":\"white\"}},\"shapedefaults\":{\"line\":{\"color\":\"#2a3f5f\"}},\"ternary\":{\"aaxis\":{\"gridcolor\":\"white\",\"linecolor\":\"white\",\"ticks\":\"\"},\"baxis\":{\"gridcolor\":\"white\",\"linecolor\":\"white\",\"ticks\":\"\"},\"bgcolor\":\"#E5ECF6\",\"caxis\":{\"gridcolor\":\"white\",\"linecolor\":\"white\",\"ticks\":\"\"}},\"title\":{\"x\":0.05},\"xaxis\":{\"automargin\":true,\"gridcolor\":\"white\",\"linecolor\":\"white\",\"ticks\":\"\",\"title\":{\"standoff\":15},\"zerolinecolor\":\"white\",\"zerolinewidth\":2},\"yaxis\":{\"automargin\":true,\"gridcolor\":\"white\",\"linecolor\":\"white\",\"ticks\":\"\",\"title\":{\"standoff\":15},\"zerolinecolor\":\"white\",\"zerolinewidth\":2}}},\"xaxis\":{\"anchor\":\"y\",\"domain\":[0.0,1.0],\"title\":{\"text\":\"metric\"}},\"yaxis\":{\"anchor\":\"x\",\"domain\":[0.0,1.0],\"title\":{\"text\":\"percent\"}},\"legend\":{\"title\":{\"text\":\"label\"},\"tracegroupgap\":0},\"title\":{\"text\":\"MLP Accuracy/Jaccard for Train/Test Data (First Try)\"},\"barmode\":\"group\"},                        {\"responsive\": true}                    ).then(function(){\n",
              "                            \n",
              "var gd = document.getElementById('c0b0bb24-f751-4b74-9023-fa245f6d3508');\n",
              "var x = new MutationObserver(function (mutations, observer) {{\n",
              "        var display = window.getComputedStyle(gd).display;\n",
              "        if (!display || display === 'none') {{\n",
              "            console.log([gd, 'removed!']);\n",
              "            Plotly.purge(gd);\n",
              "            observer.disconnect();\n",
              "        }}\n",
              "}});\n",
              "\n",
              "// Listen for the removal of the full notebook cells\n",
              "var notebookContainer = gd.closest('#notebook-container');\n",
              "if (notebookContainer) {{\n",
              "    x.observe(notebookContainer, {childList: true});\n",
              "}}\n",
              "\n",
              "// Listen for the clearing of the current output cell\n",
              "var outputEl = gd.closest('.output');\n",
              "if (outputEl) {{\n",
              "    x.observe(outputEl, {childList: true});\n",
              "}}\n",
              "\n",
              "                        })                };                            </script>        </div>\n",
              "</body>\n",
              "</html>"
            ]
          },
          "metadata": {}
        }
      ]
    },
    {
      "cell_type": "code",
      "source": [
        "print(\"Train set Accuracy: %\", round( 100* metrics.accuracy_score(y_train, MLP_clf.predict(X_train))))\n",
        "print(\"Test set Accuracy: %\", round( 100* metrics.accuracy_score(y_test, MLP_Y_pred)))  \n",
        "print('')\n",
        "print (classification_report(y_test, MLP_Y_pred))"
      ],
      "metadata": {
        "colab": {
          "base_uri": "https://localhost:8080/"
        },
        "id": "TWOd0aNzrZ7L",
        "outputId": "5ed3a968-9725-4d77-b1bb-b2832f6a43b6"
      },
      "execution_count": null,
      "outputs": [
        {
          "output_type": "stream",
          "name": "stdout",
          "text": [
            "Train set Accuracy: % 94\n",
            "Test set Accuracy: % 91\n",
            "\n",
            "              precision    recall  f1-score   support\n",
            "\n",
            "           0       0.90      0.92      0.91      1599\n",
            "           1       0.92      0.91      0.92      1734\n",
            "\n",
            "    accuracy                           0.91      3333\n",
            "   macro avg       0.91      0.91      0.91      3333\n",
            "weighted avg       0.91      0.91      0.91      3333\n",
            "\n"
          ]
        }
      ]
    },
    {
      "cell_type": "code",
      "source": [
        "MLP_cnf_matrix = confusion_matrix(y_test, MLP_Y_pred)\n",
        "np.set_printoptions(precision=2)\n",
        "\n",
        "labels = [0,1]\n",
        "\n",
        "plt.figure(figsize=(5,5))\n",
        "plot_confusion_matrix(MLP_cnf_matrix, classes=labels ,normalize= False,  title='MLP Confusion Matrix')"
      ],
      "metadata": {
        "colab": {
          "base_uri": "https://localhost:8080/",
          "height": 386
        },
        "id": "TL7F4fdBrZ3s",
        "outputId": "c03b6e65-9326-4157-eae1-30cbdd2ca215"
      },
      "execution_count": null,
      "outputs": [
        {
          "output_type": "stream",
          "name": "stdout",
          "text": [
            "Confusion matrix, without normalization\n"
          ]
        },
        {
          "output_type": "display_data",
          "data": {
            "text/plain": [
              "<Figure size 360x360 with 2 Axes>"
            ],
            "image/png": "[encoded data removed]"
          },
          "metadata": {
            "needs_background": "light"
          }
        }
      ]
    },
    {
      "cell_type": "code",
      "source": [
        "\n",
        "MLP_clf = make_pipeline(preprocessing.StandardScaler(),  MLPClassifier(alpha=0.1,hidden_layer_sizes=(4, 2), random_state=0))\n",
        "\n",
        "\n",
        "MLP_avg_f1_weighted  = cross_validate(MLP_clf, X, y, cv=5, scoring=scores)['test_f1_weighted'].mean()*100\n",
        "MLP_avg_prc_weighted = cross_validate(MLP_clf, X, y, cv=5, scoring=scores)['test_precision_weighted'].mean()*100\n",
        "MLP_avg_rec_weighted = cross_validate(MLP_clf, X, y, cv=5, scoring=scores)['test_recall_weighted'].mean()*100\n",
        "MLP_avg_acc          = cross_validate(MLP_clf, X, y, cv=5, scoring=scores)['test_accuracy'].mean()*100"
      ],
      "metadata": {
        "id": "xAmyj33srZsl"
      },
      "execution_count": null,
      "outputs": []
    },
    {
      "cell_type": "markdown",
      "source": [
        "# compare models"
      ],
      "metadata": {
        "id": "zLYhbRLkr0Xb"
      }
    },
    {
      "cell_type": "code",
      "source": [
        "comp_df = pd.DataFrame({'Classifier Algorithm':['Logistic Regression' , 'SVM' , 'Decision Tree' , 'KNN' , 'MLP'],\n",
        "                        'Acc Avg': [round(lr_avg_acc, 2) , round(svm_avg_acc, 2) , \n",
        "                                          round(dt_avg_acc, 2) , round(knn_avg_acc, 2) , round(MLP_avg_acc, 2)],\n",
        "                        'Rec Avg': [round(lr_avg_rec_weighted, 2) , round(svm_avg_rec_weighted, 2) , \n",
        "                                        round(dt_avg_rec_weighted, 2) , round(knn_avg_rec_weighted, 2) , \n",
        "                                        round(MLP_avg_rec_weighted, 2)],\n",
        "                        'Prc Avg': [round(lr_avg_prc_weighted, 2) , round(svm_avg_prc_weighted, 2) , \n",
        "                                        round(dt_avg_prc_weighted, 2) , round(knn_avg_prc_weighted, 2) , \n",
        "                                        round(MLP_avg_prc_weighted, 2)],\n",
        "                        'F1 Avg' : [round(lr_avg_f1_weighted, 2) , round(svm_avg_f1_weighted, 2) , \n",
        "                                        round(dt_avg_f1_weighted, 2) , round(knn_avg_f1_weighted, 2) , \n",
        "                                        round(MLP_avg_f1_weighted, 2)]})\n",
        "\n",
        "fig = px.bar(comp_df , x='Classifier Algorithm' , y='Acc Avg' , color='Classifier Algorithm' ,\n",
        "             title='Comparison of Accuracy Average (After Cross Validation) Between Different Algorithms' ,\n",
        "             text=\"Acc Avg\")\n",
        "fig.show()\n",
        "\n",
        "fig = px.bar(comp_df , x='Classifier Algorithm' , y='Rec Avg' , color='Classifier Algorithm' ,\n",
        "             title='Comparison of Weighted_Recall Average (After Cross Validation) Between Different Algorithms' ,\n",
        "             text=\"Rec Avg\")\n",
        "fig.show()\n",
        "\n",
        "fig = px.bar(comp_df , x='Classifier Algorithm' , y='Prc Avg' , color='Classifier Algorithm' ,\n",
        "             title='Comparison of Weighted_Precision Average (After Cross Validation) Between Different Algorithms' ,\n",
        "             text=\"Prc Avg\")\n",
        "fig.show()\n",
        "\n",
        "fig = px.bar(comp_df , x='Classifier Algorithm' , y='F1 Avg' , color='Classifier Algorithm' ,\n",
        "             title='Comparison of Weighted_F1score Average (After Cross Validation) Between Different Algorithms' ,\n",
        "             text=\"F1 Avg\")\n",
        "fig.show()"
      ],
      "metadata": {
        "colab": {
          "base_uri": "https://localhost:8080/",
          "height": 1000
        },
        "id": "XaW5odwgrZe6",
        "outputId": "6162022f-ee53-49b1-a3ad-3c11e67731f7"
      },
      "execution_count": null,
      "outputs": [
        {
          "output_type": "display_data",
          "data": {
            "text/html": [
              "<html>\n",
              "<head><meta charset=\"utf-8\" /></head>\n",
              "<body>\n",
              "    <div>            <script src=\"https://cdnjs.cloudflare.com/ajax/libs/mathjax/2.7.5/MathJax.js?config=TeX-AMS-MML_SVG\"></script><script type=\"text/javascript\">if (window.MathJax) {MathJax.Hub.Config({SVG: {font: \"STIX-Web\"}});}</script>                <script type=\"text/javascript\">window.PlotlyConfig = {MathJaxConfig: 'local'};</script>\n",
              "        <script src=\"https://cdn.plot.ly/plotly-2.8.3.min.js\"></script>                <div id=\"0b0d4097-e325-41d5-b749-75e2b25db4d6\" class=\"plotly-graph-div\" style=\"height:525px; width:100%;\"></div>            <script type=\"text/javascript\">                                    window.PLOTLYENV=window.PLOTLYENV || {};                                    if (document.getElementById(\"0b0d4097-e325-41d5-b749-75e2b25db4d6\")) {                    Plotly.newPlot(                        \"0b0d4097-e325-41d5-b749-75e2b25db4d6\",                        [{\"alignmentgroup\":\"True\",\"hovertemplate\":\"Classifier Algorithm=%{x}<br>Acc Avg=%{text}<extra></extra>\",\"legendgroup\":\"Logistic Regression\",\"marker\":{\"color\":\"#636efa\",\"pattern\":{\"shape\":\"\"}},\"name\":\"Logistic Regression\",\"offsetgroup\":\"Logistic Regression\",\"orientation\":\"v\",\"showlegend\":true,\"text\":[88.11],\"textposition\":\"auto\",\"x\":[\"Logistic Regression\"],\"xaxis\":\"x\",\"y\":[88.11],\"yaxis\":\"y\",\"type\":\"bar\"},{\"alignmentgroup\":\"True\",\"hovertemplate\":\"Classifier Algorithm=%{x}<br>Acc Avg=%{text}<extra></extra>\",\"legendgroup\":\"SVM\",\"marker\":{\"color\":\"#EF553B\",\"pattern\":{\"shape\":\"\"}},\"name\":\"SVM\",\"offsetgroup\":\"SVM\",\"orientation\":\"v\",\"showlegend\":true,\"text\":[92.57],\"textposition\":\"auto\",\"x\":[\"SVM\"],\"xaxis\":\"x\",\"y\":[92.57],\"yaxis\":\"y\",\"type\":\"bar\"},{\"alignmentgroup\":\"True\",\"hovertemplate\":\"Classifier Algorithm=%{x}<br>Acc Avg=%{text}<extra></extra>\",\"legendgroup\":\"Decision Tree\",\"marker\":{\"color\":\"#00cc96\",\"pattern\":{\"shape\":\"\"}},\"name\":\"Decision Tree\",\"offsetgroup\":\"Decision Tree\",\"orientation\":\"v\",\"showlegend\":true,\"text\":[92.39],\"textposition\":\"auto\",\"x\":[\"Decision Tree\"],\"xaxis\":\"x\",\"y\":[92.39],\"yaxis\":\"y\",\"type\":\"bar\"},{\"alignmentgroup\":\"True\",\"hovertemplate\":\"Classifier Algorithm=%{x}<br>Acc Avg=%{text}<extra></extra>\",\"legendgroup\":\"KNN\",\"marker\":{\"color\":\"#ab63fa\",\"pattern\":{\"shape\":\"\"}},\"name\":\"KNN\",\"offsetgroup\":\"KNN\",\"orientation\":\"v\",\"showlegend\":true,\"text\":[80.66],\"textposition\":\"auto\",\"x\":[\"KNN\"],\"xaxis\":\"x\",\"y\":[80.66],\"yaxis\":\"y\",\"type\":\"bar\"},{\"alignmentgroup\":\"True\",\"hovertemplate\":\"Classifier Algorithm=%{x}<br>Acc Avg=%{text}<extra></extra>\",\"legendgroup\":\"MLP\",\"marker\":{\"color\":\"#FFA15A\",\"pattern\":{\"shape\":\"\"}},\"name\":\"MLP\",\"offsetgroup\":\"MLP\",\"orientation\":\"v\",\"showlegend\":true,\"text\":[90.75],\"textposition\":\"auto\",\"x\":[\"MLP\"],\"xaxis\":\"x\",\"y\":[90.75],\"yaxis\":\"y\",\"type\":\"bar\"}],                        {\"template\":{\"data\":{\"bar\":[{\"error_x\":{\"color\":\"#2a3f5f\"},\"error_y\":{\"color\":\"#2a3f5f\"},\"marker\":{\"line\":{\"color\":\"#E5ECF6\",\"width\":0.5},\"pattern\":{\"fillmode\":\"overlay\",\"size\":10,\"solidity\":0.2}},\"type\":\"bar\"}],\"barpolar\":[{\"marker\":{\"line\":{\"color\":\"#E5ECF6\",\"width\":0.5},\"pattern\":{\"fillmode\":\"overlay\",\"size\":10,\"solidity\":0.2}},\"type\":\"barpolar\"}],\"carpet\":[{\"aaxis\":{\"endlinecolor\":\"#2a3f5f\",\"gridcolor\":\"white\",\"linecolor\":\"white\",\"minorgridcolor\":\"white\",\"startlinecolor\":\"#2a3f5f\"},\"baxis\":{\"endlinecolor\":\"#2a3f5f\",\"gridcolor\":\"white\",\"linecolor\":\"white\",\"minorgridcolor\":\"white\",\"startlinecolor\":\"#2a3f5f\"},\"type\":\"carpet\"}],\"choropleth\":[{\"colorbar\":{\"outlinewidth\":0,\"ticks\":\"\"},\"type\":\"choropleth\"}],\"contour\":[{\"colorbar\":{\"outlinewidth\":0,\"ticks\":\"\"},\"colorscale\":[[0.0,\"#0d0887\"],[0.1111111111111111,\"#46039f\"],[0.2222222222222222,\"#7201a8\"],[0.3333333333333333,\"#9c179e\"],[0.4444444444444444,\"#bd3786\"],[0.5555555555555556,\"#d8576b\"],[0.6666666666666666,\"#ed7953\"],[0.7777777777777778,\"#fb9f3a\"],[0.8888888888888888,\"#fdca26\"],[1.0,\"#f0f921\"]],\"type\":\"contour\"}],\"contourcarpet\":[{\"colorbar\":{\"outlinewidth\":0,\"ticks\":\"\"},\"type\":\"contourcarpet\"}],\"heatmap\":[{\"colorbar\":{\"outlinewidth\":0,\"ticks\":\"\"},\"colorscale\":[[0.0,\"#0d0887\"],[0.1111111111111111,\"#46039f\"],[0.2222222222222222,\"#7201a8\"],[0.3333333333333333,\"#9c179e\"],[0.4444444444444444,\"#bd3786\"],[0.5555555555555556,\"#d8576b\"],[0.6666666666666666,\"#ed7953\"],[0.7777777777777778,\"#fb9f3a\"],[0.8888888888888888,\"#fdca26\"],[1.0,\"#f0f921\"]],\"type\":\"heatmap\"}],\"heatmapgl\":[{\"colorbar\":{\"outlinewidth\":0,\"ticks\":\"\"},\"colorscale\":[[0.0,\"#0d0887\"],[0.1111111111111111,\"#46039f\"],[0.2222222222222222,\"#7201a8\"],[0.3333333333333333,\"#9c179e\"],[0.4444444444444444,\"#bd3786\"],[0.5555555555555556,\"#d8576b\"],[0.6666666666666666,\"#ed7953\"],[0.7777777777777778,\"#fb9f3a\"],[0.8888888888888888,\"#fdca26\"],[1.0,\"#f0f921\"]],\"type\":\"heatmapgl\"}],\"histogram\":[{\"marker\":{\"pattern\":{\"fillmode\":\"overlay\",\"size\":10,\"solidity\":0.2}},\"type\":\"histogram\"}],\"histogram2d\":[{\"colorbar\":{\"outlinewidth\":0,\"ticks\":\"\"},\"colorscale\":[[0.0,\"#0d0887\"],[0.1111111111111111,\"#46039f\"],[0.2222222222222222,\"#7201a8\"],[0.3333333333333333,\"#9c179e\"],[0.4444444444444444,\"#bd3786\"],[0.5555555555555556,\"#d8576b\"],[0.6666666666666666,\"#ed7953\"],[0.7777777777777778,\"#fb9f3a\"],[0.8888888888888888,\"#fdca26\"],[1.0,\"#f0f921\"]],\"type\":\"histogram2d\"}],\"histogram2dcontour\":[{\"colorbar\":{\"outlinewidth\":0,\"ticks\":\"\"},\"colorscale\":[[0.0,\"#0d0887\"],[0.1111111111111111,\"#46039f\"],[0.2222222222222222,\"#7201a8\"],[0.3333333333333333,\"#9c179e\"],[0.4444444444444444,\"#bd3786\"],[0.5555555555555556,\"#d8576b\"],[0.6666666666666666,\"#ed7953\"],[0.7777777777777778,\"#fb9f3a\"],[0.8888888888888888,\"#fdca26\"],[1.0,\"#f0f921\"]],\"type\":\"histogram2dcontour\"}],\"mesh3d\":[{\"colorbar\":{\"outlinewidth\":0,\"ticks\":\"\"},\"type\":\"mesh3d\"}],\"parcoords\":[{\"line\":{\"colorbar\":{\"outlinewidth\":0,\"ticks\":\"\"}},\"type\":\"parcoords\"}],\"pie\":[{\"automargin\":true,\"type\":\"pie\"}],\"scatter\":[{\"marker\":{\"colorbar\":{\"outlinewidth\":0,\"ticks\":\"\"}},\"type\":\"scatter\"}],\"scatter3d\":[{\"line\":{\"colorbar\":{\"outlinewidth\":0,\"ticks\":\"\"}},\"marker\":{\"colorbar\":{\"outlinewidth\":0,\"ticks\":\"\"}},\"type\":\"scatter3d\"}],\"scattercarpet\":[{\"marker\":{\"colorbar\":{\"outlinewidth\":0,\"ticks\":\"\"}},\"type\":\"scattercarpet\"}],\"scattergeo\":[{\"marker\":{\"colorbar\":{\"outlinewidth\":0,\"ticks\":\"\"}},\"type\":\"scattergeo\"}],\"scattergl\":[{\"marker\":{\"colorbar\":{\"outlinewidth\":0,\"ticks\":\"\"}},\"type\":\"scattergl\"}],\"scattermapbox\":[{\"marker\":{\"colorbar\":{\"outlinewidth\":0,\"ticks\":\"\"}},\"type\":\"scattermapbox\"}],\"scatterpolar\":[{\"marker\":{\"colorbar\":{\"outlinewidth\":0,\"ticks\":\"\"}},\"type\":\"scatterpolar\"}],\"scatterpolargl\":[{\"marker\":{\"colorbar\":{\"outlinewidth\":0,\"ticks\":\"\"}},\"type\":\"scatterpolargl\"}],\"scatterternary\":[{\"marker\":{\"colorbar\":{\"outlinewidth\":0,\"ticks\":\"\"}},\"type\":\"scatterternary\"}],\"surface\":[{\"colorbar\":{\"outlinewidth\":0,\"ticks\":\"\"},\"colorscale\":[[0.0,\"#0d0887\"],[0.1111111111111111,\"#46039f\"],[0.2222222222222222,\"#7201a8\"],[0.3333333333333333,\"#9c179e\"],[0.4444444444444444,\"#bd3786\"],[0.5555555555555556,\"#d8576b\"],[0.6666666666666666,\"#ed7953\"],[0.7777777777777778,\"#fb9f3a\"],[0.8888888888888888,\"#fdca26\"],[1.0,\"#f0f921\"]],\"type\":\"surface\"}],\"table\":[{\"cells\":{\"fill\":{\"color\":\"#EBF0F8\"},\"line\":{\"color\":\"white\"}},\"header\":{\"fill\":{\"color\":\"#C8D4E3\"},\"line\":{\"color\":\"white\"}},\"type\":\"table\"}]},\"layout\":{\"annotationdefaults\":{\"arrowcolor\":\"#2a3f5f\",\"arrowhead\":0,\"arrowwidth\":1},\"autotypenumbers\":\"strict\",\"coloraxis\":{\"colorbar\":{\"outlinewidth\":0,\"ticks\":\"\"}},\"colorscale\":{\"diverging\":[[0,\"#8e0152\"],[0.1,\"#c51b7d\"],[0.2,\"#de77ae\"],[0.3,\"#f1b6da\"],[0.4,\"#fde0ef\"],[0.5,\"#f7f7f7\"],[0.6,\"#e6f5d0\"],[0.7,\"#b8e186\"],[0.8,\"#7fbc41\"],[0.9,\"#4d9221\"],[1,\"#276419\"]],\"sequential\":[[0.0,\"#0d0887\"],[0.1111111111111111,\"#46039f\"],[0.2222222222222222,\"#7201a8\"],[0.3333333333333333,\"#9c179e\"],[0.4444444444444444,\"#bd3786\"],[0.5555555555555556,\"#d8576b\"],[0.6666666666666666,\"#ed7953\"],[0.7777777777777778,\"#fb9f3a\"],[0.8888888888888888,\"#fdca26\"],[1.0,\"#f0f921\"]],\"sequentialminus\":[[0.0,\"#0d0887\"],[0.1111111111111111,\"#46039f\"],[0.2222222222222222,\"#7201a8\"],[0.3333333333333333,\"#9c179e\"],[0.4444444444444444,\"#bd3786\"],[0.5555555555555556,\"#d8576b\"],[0.6666666666666666,\"#ed7953\"],[0.7777777777777778,\"#fb9f3a\"],[0.8888888888888888,\"#fdca26\"],[1.0,\"#f0f921\"]]},\"colorway\":[\"#636efa\",\"#EF553B\",\"#00cc96\",\"#ab63fa\",\"#FFA15A\",\"#19d3f3\",\"#FF6692\",\"#B6E880\",\"#FF97FF\",\"#FECB52\"],\"font\":{\"color\":\"#2a3f5f\"},\"geo\":{\"bgcolor\":\"white\",\"lakecolor\":\"white\",\"landcolor\":\"#E5ECF6\",\"showlakes\":true,\"showland\":true,\"subunitcolor\":\"white\"},\"hoverlabel\":{\"align\":\"left\"},\"hovermode\":\"closest\",\"mapbox\":{\"style\":\"light\"},\"paper_bgcolor\":\"white\",\"plot_bgcolor\":\"#E5ECF6\",\"polar\":{\"angularaxis\":{\"gridcolor\":\"white\",\"linecolor\":\"white\",\"ticks\":\"\"},\"bgcolor\":\"#E5ECF6\",\"radialaxis\":{\"gridcolor\":\"white\",\"linecolor\":\"white\",\"ticks\":\"\"}},\"scene\":{\"xaxis\":{\"backgroundcolor\":\"#E5ECF6\",\"gridcolor\":\"white\",\"gridwidth\":2,\"linecolor\":\"white\",\"showbackground\":true,\"ticks\":\"\",\"zerolinecolor\":\"white\"},\"yaxis\":{\"backgroundcolor\":\"#E5ECF6\",\"gridcolor\":\"white\",\"gridwidth\":2,\"linecolor\":\"white\",\"showbackground\":true,\"ticks\":\"\",\"zerolinecolor\":\"white\"},\"zaxis\":{\"backgroundcolor\":\"#E5ECF6\",\"gridcolor\":\"white\",\"gridwidth\":2,\"linecolor\":\"white\",\"showbackground\":true,\"ticks\":\"\",\"zerolinecolor\":\"white\"}},\"shapedefaults\":{\"line\":{\"color\":\"#2a3f5f\"}},\"ternary\":{\"aaxis\":{\"gridcolor\":\"white\",\"linecolor\":\"white\",\"ticks\":\"\"},\"baxis\":{\"gridcolor\":\"white\",\"linecolor\":\"white\",\"ticks\":\"\"},\"bgcolor\":\"#E5ECF6\",\"caxis\":{\"gridcolor\":\"white\",\"linecolor\":\"white\",\"ticks\":\"\"}},\"title\":{\"x\":0.05},\"xaxis\":{\"automargin\":true,\"gridcolor\":\"white\",\"linecolor\":\"white\",\"ticks\":\"\",\"title\":{\"standoff\":15},\"zerolinecolor\":\"white\",\"zerolinewidth\":2},\"yaxis\":{\"automargin\":true,\"gridcolor\":\"white\",\"linecolor\":\"white\",\"ticks\":\"\",\"title\":{\"standoff\":15},\"zerolinecolor\":\"white\",\"zerolinewidth\":2}}},\"xaxis\":{\"anchor\":\"y\",\"domain\":[0.0,1.0],\"title\":{\"text\":\"Classifier Algorithm\"},\"categoryorder\":\"array\",\"categoryarray\":[\"Logistic Regression\",\"SVM\",\"Decision Tree\",\"KNN\",\"MLP\"]},\"yaxis\":{\"anchor\":\"x\",\"domain\":[0.0,1.0],\"title\":{\"text\":\"Acc Avg\"}},\"legend\":{\"title\":{\"text\":\"Classifier Algorithm\"},\"tracegroupgap\":0},\"title\":{\"text\":\"Comparison of Accuracy Average (After Cross Validation) Between Different Algorithms\"},\"barmode\":\"relative\"},                        {\"responsive\": true}                    ).then(function(){\n",
              "                            \n",
              "var gd = document.getElementById('0b0d4097-e325-41d5-b749-75e2b25db4d6');\n",
              "var x = new MutationObserver(function (mutations, observer) {{\n",
              "        var display = window.getComputedStyle(gd).display;\n",
              "        if (!display || display === 'none') {{\n",
              "            console.log([gd, 'removed!']);\n",
              "            Plotly.purge(gd);\n",
              "            observer.disconnect();\n",
              "        }}\n",
              "}});\n",
              "\n",
              "// Listen for the removal of the full notebook cells\n",
              "var notebookContainer = gd.closest('#notebook-container');\n",
              "if (notebookContainer) {{\n",
              "    x.observe(notebookContainer, {childList: true});\n",
              "}}\n",
              "\n",
              "// Listen for the clearing of the current output cell\n",
              "var outputEl = gd.closest('.output');\n",
              "if (outputEl) {{\n",
              "    x.observe(outputEl, {childList: true});\n",
              "}}\n",
              "\n",
              "                        })                };                            </script>        </div>\n",
              "</body>\n",
              "</html>"
            ]
          },
          "metadata": {}
        },
        {
          "output_type": "display_data",
          "data": {
            "text/html": [
              "<html>\n",
              "<head><meta charset=\"utf-8\" /></head>\n",
              "<body>\n",
              "    <div>            <script src=\"https://cdnjs.cloudflare.com/ajax/libs/mathjax/2.7.5/MathJax.js?config=TeX-AMS-MML_SVG\"></script><script type=\"text/javascript\">if (window.MathJax) {MathJax.Hub.Config({SVG: {font: \"STIX-Web\"}});}</script>                <script type=\"text/javascript\">window.PlotlyConfig = {MathJaxConfig: 'local'};</script>\n",
              "        <script src=\"https://cdn.plot.ly/plotly-2.8.3.min.js\"></script>                <div id=\"14ffd8b3-b137-4d98-ba54-6c2eefcf5792\" class=\"plotly-graph-div\" style=\"height:525px; width:100%;\"></div>            <script type=\"text/javascript\">                                    window.PLOTLYENV=window.PLOTLYENV || {};                                    if (document.getElementById(\"14ffd8b3-b137-4d98-ba54-6c2eefcf5792\")) {                    Plotly.newPlot(                        \"14ffd8b3-b137-4d98-ba54-6c2eefcf5792\",                        [{\"alignmentgroup\":\"True\",\"hovertemplate\":\"Classifier Algorithm=%{x}<br>Rec Avg=%{text}<extra></extra>\",\"legendgroup\":\"Logistic Regression\",\"marker\":{\"color\":\"#636efa\",\"pattern\":{\"shape\":\"\"}},\"name\":\"Logistic Regression\",\"offsetgroup\":\"Logistic Regression\",\"orientation\":\"v\",\"showlegend\":true,\"text\":[88.11],\"textposition\":\"auto\",\"x\":[\"Logistic Regression\"],\"xaxis\":\"x\",\"y\":[88.11],\"yaxis\":\"y\",\"type\":\"bar\"},{\"alignmentgroup\":\"True\",\"hovertemplate\":\"Classifier Algorithm=%{x}<br>Rec Avg=%{text}<extra></extra>\",\"legendgroup\":\"SVM\",\"marker\":{\"color\":\"#EF553B\",\"pattern\":{\"shape\":\"\"}},\"name\":\"SVM\",\"offsetgroup\":\"SVM\",\"orientation\":\"v\",\"showlegend\":true,\"text\":[92.57],\"textposition\":\"auto\",\"x\":[\"SVM\"],\"xaxis\":\"x\",\"y\":[92.57],\"yaxis\":\"y\",\"type\":\"bar\"},{\"alignmentgroup\":\"True\",\"hovertemplate\":\"Classifier Algorithm=%{x}<br>Rec Avg=%{text}<extra></extra>\",\"legendgroup\":\"Decision Tree\",\"marker\":{\"color\":\"#00cc96\",\"pattern\":{\"shape\":\"\"}},\"name\":\"Decision Tree\",\"offsetgroup\":\"Decision Tree\",\"orientation\":\"v\",\"showlegend\":true,\"text\":[92.04],\"textposition\":\"auto\",\"x\":[\"Decision Tree\"],\"xaxis\":\"x\",\"y\":[92.04],\"yaxis\":\"y\",\"type\":\"bar\"},{\"alignmentgroup\":\"True\",\"hovertemplate\":\"Classifier Algorithm=%{x}<br>Rec Avg=%{text}<extra></extra>\",\"legendgroup\":\"KNN\",\"marker\":{\"color\":\"#ab63fa\",\"pattern\":{\"shape\":\"\"}},\"name\":\"KNN\",\"offsetgroup\":\"KNN\",\"orientation\":\"v\",\"showlegend\":true,\"text\":[80.66],\"textposition\":\"auto\",\"x\":[\"KNN\"],\"xaxis\":\"x\",\"y\":[80.66],\"yaxis\":\"y\",\"type\":\"bar\"},{\"alignmentgroup\":\"True\",\"hovertemplate\":\"Classifier Algorithm=%{x}<br>Rec Avg=%{text}<extra></extra>\",\"legendgroup\":\"MLP\",\"marker\":{\"color\":\"#FFA15A\",\"pattern\":{\"shape\":\"\"}},\"name\":\"MLP\",\"offsetgroup\":\"MLP\",\"orientation\":\"v\",\"showlegend\":true,\"text\":[90.75],\"textposition\":\"auto\",\"x\":[\"MLP\"],\"xaxis\":\"x\",\"y\":[90.75],\"yaxis\":\"y\",\"type\":\"bar\"}],                        {\"template\":{\"data\":{\"bar\":[{\"error_x\":{\"color\":\"#2a3f5f\"},\"error_y\":{\"color\":\"#2a3f5f\"},\"marker\":{\"line\":{\"color\":\"#E5ECF6\",\"width\":0.5},\"pattern\":{\"fillmode\":\"overlay\",\"size\":10,\"solidity\":0.2}},\"type\":\"bar\"}],\"barpolar\":[{\"marker\":{\"line\":{\"color\":\"#E5ECF6\",\"width\":0.5},\"pattern\":{\"fillmode\":\"overlay\",\"size\":10,\"solidity\":0.2}},\"type\":\"barpolar\"}],\"carpet\":[{\"aaxis\":{\"endlinecolor\":\"#2a3f5f\",\"gridcolor\":\"white\",\"linecolor\":\"white\",\"minorgridcolor\":\"white\",\"startlinecolor\":\"#2a3f5f\"},\"baxis\":{\"endlinecolor\":\"#2a3f5f\",\"gridcolor\":\"white\",\"linecolor\":\"white\",\"minorgridcolor\":\"white\",\"startlinecolor\":\"#2a3f5f\"},\"type\":\"carpet\"}],\"choropleth\":[{\"colorbar\":{\"outlinewidth\":0,\"ticks\":\"\"},\"type\":\"choropleth\"}],\"contour\":[{\"colorbar\":{\"outlinewidth\":0,\"ticks\":\"\"},\"colorscale\":[[0.0,\"#0d0887\"],[0.1111111111111111,\"#46039f\"],[0.2222222222222222,\"#7201a8\"],[0.3333333333333333,\"#9c179e\"],[0.4444444444444444,\"#bd3786\"],[0.5555555555555556,\"#d8576b\"],[0.6666666666666666,\"#ed7953\"],[0.7777777777777778,\"#fb9f3a\"],[0.8888888888888888,\"#fdca26\"],[1.0,\"#f0f921\"]],\"type\":\"contour\"}],\"contourcarpet\":[{\"colorbar\":{\"outlinewidth\":0,\"ticks\":\"\"},\"type\":\"contourcarpet\"}],\"heatmap\":[{\"colorbar\":{\"outlinewidth\":0,\"ticks\":\"\"},\"colorscale\":[[0.0,\"#0d0887\"],[0.1111111111111111,\"#46039f\"],[0.2222222222222222,\"#7201a8\"],[0.3333333333333333,\"#9c179e\"],[0.4444444444444444,\"#bd3786\"],[0.5555555555555556,\"#d8576b\"],[0.6666666666666666,\"#ed7953\"],[0.7777777777777778,\"#fb9f3a\"],[0.8888888888888888,\"#fdca26\"],[1.0,\"#f0f921\"]],\"type\":\"heatmap\"}],\"heatmapgl\":[{\"colorbar\":{\"outlinewidth\":0,\"ticks\":\"\"},\"colorscale\":[[0.0,\"#0d0887\"],[0.1111111111111111,\"#46039f\"],[0.2222222222222222,\"#7201a8\"],[0.3333333333333333,\"#9c179e\"],[0.4444444444444444,\"#bd3786\"],[0.5555555555555556,\"#d8576b\"],[0.6666666666666666,\"#ed7953\"],[0.7777777777777778,\"#fb9f3a\"],[0.8888888888888888,\"#fdca26\"],[1.0,\"#f0f921\"]],\"type\":\"heatmapgl\"}],\"histogram\":[{\"marker\":{\"pattern\":{\"fillmode\":\"overlay\",\"size\":10,\"solidity\":0.2}},\"type\":\"histogram\"}],\"histogram2d\":[{\"colorbar\":{\"outlinewidth\":0,\"ticks\":\"\"},\"colorscale\":[[0.0,\"#0d0887\"],[0.1111111111111111,\"#46039f\"],[0.2222222222222222,\"#7201a8\"],[0.3333333333333333,\"#9c179e\"],[0.4444444444444444,\"#bd3786\"],[0.5555555555555556,\"#d8576b\"],[0.6666666666666666,\"#ed7953\"],[0.7777777777777778,\"#fb9f3a\"],[0.8888888888888888,\"#fdca26\"],[1.0,\"#f0f921\"]],\"type\":\"histogram2d\"}],\"histogram2dcontour\":[{\"colorbar\":{\"outlinewidth\":0,\"ticks\":\"\"},\"colorscale\":[[0.0,\"#0d0887\"],[0.1111111111111111,\"#46039f\"],[0.2222222222222222,\"#7201a8\"],[0.3333333333333333,\"#9c179e\"],[0.4444444444444444,\"#bd3786\"],[0.5555555555555556,\"#d8576b\"],[0.6666666666666666,\"#ed7953\"],[0.7777777777777778,\"#fb9f3a\"],[0.8888888888888888,\"#fdca26\"],[1.0,\"#f0f921\"]],\"type\":\"histogram2dcontour\"}],\"mesh3d\":[{\"colorbar\":{\"outlinewidth\":0,\"ticks\":\"\"},\"type\":\"mesh3d\"}],\"parcoords\":[{\"line\":{\"colorbar\":{\"outlinewidth\":0,\"ticks\":\"\"}},\"type\":\"parcoords\"}],\"pie\":[{\"automargin\":true,\"type\":\"pie\"}],\"scatter\":[{\"marker\":{\"colorbar\":{\"outlinewidth\":0,\"ticks\":\"\"}},\"type\":\"scatter\"}],\"scatter3d\":[{\"line\":{\"colorbar\":{\"outlinewidth\":0,\"ticks\":\"\"}},\"marker\":{\"colorbar\":{\"outlinewidth\":0,\"ticks\":\"\"}},\"type\":\"scatter3d\"}],\"scattercarpet\":[{\"marker\":{\"colorbar\":{\"outlinewidth\":0,\"ticks\":\"\"}},\"type\":\"scattercarpet\"}],\"scattergeo\":[{\"marker\":{\"colorbar\":{\"outlinewidth\":0,\"ticks\":\"\"}},\"type\":\"scattergeo\"}],\"scattergl\":[{\"marker\":{\"colorbar\":{\"outlinewidth\":0,\"ticks\":\"\"}},\"type\":\"scattergl\"}],\"scattermapbox\":[{\"marker\":{\"colorbar\":{\"outlinewidth\":0,\"ticks\":\"\"}},\"type\":\"scattermapbox\"}],\"scatterpolar\":[{\"marker\":{\"colorbar\":{\"outlinewidth\":0,\"ticks\":\"\"}},\"type\":\"scatterpolar\"}],\"scatterpolargl\":[{\"marker\":{\"colorbar\":{\"outlinewidth\":0,\"ticks\":\"\"}},\"type\":\"scatterpolargl\"}],\"scatterternary\":[{\"marker\":{\"colorbar\":{\"outlinewidth\":0,\"ticks\":\"\"}},\"type\":\"scatterternary\"}],\"surface\":[{\"colorbar\":{\"outlinewidth\":0,\"ticks\":\"\"},\"colorscale\":[[0.0,\"#0d0887\"],[0.1111111111111111,\"#46039f\"],[0.2222222222222222,\"#7201a8\"],[0.3333333333333333,\"#9c179e\"],[0.4444444444444444,\"#bd3786\"],[0.5555555555555556,\"#d8576b\"],[0.6666666666666666,\"#ed7953\"],[0.7777777777777778,\"#fb9f3a\"],[0.8888888888888888,\"#fdca26\"],[1.0,\"#f0f921\"]],\"type\":\"surface\"}],\"table\":[{\"cells\":{\"fill\":{\"color\":\"#EBF0F8\"},\"line\":{\"color\":\"white\"}},\"header\":{\"fill\":{\"color\":\"#C8D4E3\"},\"line\":{\"color\":\"white\"}},\"type\":\"table\"}]},\"layout\":{\"annotationdefaults\":{\"arrowcolor\":\"#2a3f5f\",\"arrowhead\":0,\"arrowwidth\":1},\"autotypenumbers\":\"strict\",\"coloraxis\":{\"colorbar\":{\"outlinewidth\":0,\"ticks\":\"\"}},\"colorscale\":{\"diverging\":[[0,\"#8e0152\"],[0.1,\"#c51b7d\"],[0.2,\"#de77ae\"],[0.3,\"#f1b6da\"],[0.4,\"#fde0ef\"],[0.5,\"#f7f7f7\"],[0.6,\"#e6f5d0\"],[0.7,\"#b8e186\"],[0.8,\"#7fbc41\"],[0.9,\"#4d9221\"],[1,\"#276419\"]],\"sequential\":[[0.0,\"#0d0887\"],[0.1111111111111111,\"#46039f\"],[0.2222222222222222,\"#7201a8\"],[0.3333333333333333,\"#9c179e\"],[0.4444444444444444,\"#bd3786\"],[0.5555555555555556,\"#d8576b\"],[0.6666666666666666,\"#ed7953\"],[0.7777777777777778,\"#fb9f3a\"],[0.8888888888888888,\"#fdca26\"],[1.0,\"#f0f921\"]],\"sequentialminus\":[[0.0,\"#0d0887\"],[0.1111111111111111,\"#46039f\"],[0.2222222222222222,\"#7201a8\"],[0.3333333333333333,\"#9c179e\"],[0.4444444444444444,\"#bd3786\"],[0.5555555555555556,\"#d8576b\"],[0.6666666666666666,\"#ed7953\"],[0.7777777777777778,\"#fb9f3a\"],[0.8888888888888888,\"#fdca26\"],[1.0,\"#f0f921\"]]},\"colorway\":[\"#636efa\",\"#EF553B\",\"#00cc96\",\"#ab63fa\",\"#FFA15A\",\"#19d3f3\",\"#FF6692\",\"#B6E880\",\"#FF97FF\",\"#FECB52\"],\"font\":{\"color\":\"#2a3f5f\"},\"geo\":{\"bgcolor\":\"white\",\"lakecolor\":\"white\",\"landcolor\":\"#E5ECF6\",\"showlakes\":true,\"showland\":true,\"subunitcolor\":\"white\"},\"hoverlabel\":{\"align\":\"left\"},\"hovermode\":\"closest\",\"mapbox\":{\"style\":\"light\"},\"paper_bgcolor\":\"white\",\"plot_bgcolor\":\"#E5ECF6\",\"polar\":{\"angularaxis\":{\"gridcolor\":\"white\",\"linecolor\":\"white\",\"ticks\":\"\"},\"bgcolor\":\"#E5ECF6\",\"radialaxis\":{\"gridcolor\":\"white\",\"linecolor\":\"white\",\"ticks\":\"\"}},\"scene\":{\"xaxis\":{\"backgroundcolor\":\"#E5ECF6\",\"gridcolor\":\"white\",\"gridwidth\":2,\"linecolor\":\"white\",\"showbackground\":true,\"ticks\":\"\",\"zerolinecolor\":\"white\"},\"yaxis\":{\"backgroundcolor\":\"#E5ECF6\",\"gridcolor\":\"white\",\"gridwidth\":2,\"linecolor\":\"white\",\"showbackground\":true,\"ticks\":\"\",\"zerolinecolor\":\"white\"},\"zaxis\":{\"backgroundcolor\":\"#E5ECF6\",\"gridcolor\":\"white\",\"gridwidth\":2,\"linecolor\":\"white\",\"showbackground\":true,\"ticks\":\"\",\"zerolinecolor\":\"white\"}},\"shapedefaults\":{\"line\":{\"color\":\"#2a3f5f\"}},\"ternary\":{\"aaxis\":{\"gridcolor\":\"white\",\"linecolor\":\"white\",\"ticks\":\"\"},\"baxis\":{\"gridcolor\":\"white\",\"linecolor\":\"white\",\"ticks\":\"\"},\"bgcolor\":\"#E5ECF6\",\"caxis\":{\"gridcolor\":\"white\",\"linecolor\":\"white\",\"ticks\":\"\"}},\"title\":{\"x\":0.05},\"xaxis\":{\"automargin\":true,\"gridcolor\":\"white\",\"linecolor\":\"white\",\"ticks\":\"\",\"title\":{\"standoff\":15},\"zerolinecolor\":\"white\",\"zerolinewidth\":2},\"yaxis\":{\"automargin\":true,\"gridcolor\":\"white\",\"linecolor\":\"white\",\"ticks\":\"\",\"title\":{\"standoff\":15},\"zerolinecolor\":\"white\",\"zerolinewidth\":2}}},\"xaxis\":{\"anchor\":\"y\",\"domain\":[0.0,1.0],\"title\":{\"text\":\"Classifier Algorithm\"},\"categoryorder\":\"array\",\"categoryarray\":[\"Logistic Regression\",\"SVM\",\"Decision Tree\",\"KNN\",\"MLP\"]},\"yaxis\":{\"anchor\":\"x\",\"domain\":[0.0,1.0],\"title\":{\"text\":\"Rec Avg\"}},\"legend\":{\"title\":{\"text\":\"Classifier Algorithm\"},\"tracegroupgap\":0},\"title\":{\"text\":\"Comparison of Weighted_Recall Average (After Cross Validation) Between Different Algorithms\"},\"barmode\":\"relative\"},                        {\"responsive\": true}                    ).then(function(){\n",
              "                            \n",
              "var gd = document.getElementById('14ffd8b3-b137-4d98-ba54-6c2eefcf5792');\n",
              "var x = new MutationObserver(function (mutations, observer) {{\n",
              "        var display = window.getComputedStyle(gd).display;\n",
              "        if (!display || display === 'none') {{\n",
              "            console.log([gd, 'removed!']);\n",
              "            Plotly.purge(gd);\n",
              "            observer.disconnect();\n",
              "        }}\n",
              "}});\n",
              "\n",
              "// Listen for the removal of the full notebook cells\n",
              "var notebookContainer = gd.closest('#notebook-container');\n",
              "if (notebookContainer) {{\n",
              "    x.observe(notebookContainer, {childList: true});\n",
              "}}\n",
              "\n",
              "// Listen for the clearing of the current output cell\n",
              "var outputEl = gd.closest('.output');\n",
              "if (outputEl) {{\n",
              "    x.observe(outputEl, {childList: true});\n",
              "}}\n",
              "\n",
              "                        })                };                            </script>        </div>\n",
              "</body>\n",
              "</html>"
            ]
          },
          "metadata": {}
        },
        {
          "output_type": "display_data",
          "data": {
            "text/html": [
              "<html>\n",
              "<head><meta charset=\"utf-8\" /></head>\n",
              "<body>\n",
              "    <div>            <script src=\"https://cdnjs.cloudflare.com/ajax/libs/mathjax/2.7.5/MathJax.js?config=TeX-AMS-MML_SVG\"></script><script type=\"text/javascript\">if (window.MathJax) {MathJax.Hub.Config({SVG: {font: \"STIX-Web\"}});}</script>                <script type=\"text/javascript\">window.PlotlyConfig = {MathJaxConfig: 'local'};</script>\n",
              "        <script src=\"https://cdn.plot.ly/plotly-2.8.3.min.js\"></script>                <div id=\"b8decb1f-8058-4b9d-b0b7-94756c1dfae7\" class=\"plotly-graph-div\" style=\"height:525px; width:100%;\"></div>            <script type=\"text/javascript\">                                    window.PLOTLYENV=window.PLOTLYENV || {};                                    if (document.getElementById(\"b8decb1f-8058-4b9d-b0b7-94756c1dfae7\")) {                    Plotly.newPlot(                        \"b8decb1f-8058-4b9d-b0b7-94756c1dfae7\",                        [{\"alignmentgroup\":\"True\",\"hovertemplate\":\"Classifier Algorithm=%{x}<br>Prc Avg=%{text}<extra></extra>\",\"legendgroup\":\"Logistic Regression\",\"marker\":{\"color\":\"#636efa\",\"pattern\":{\"shape\":\"\"}},\"name\":\"Logistic Regression\",\"offsetgroup\":\"Logistic Regression\",\"orientation\":\"v\",\"showlegend\":true,\"text\":[88.15],\"textposition\":\"auto\",\"x\":[\"Logistic Regression\"],\"xaxis\":\"x\",\"y\":[88.15],\"yaxis\":\"y\",\"type\":\"bar\"},{\"alignmentgroup\":\"True\",\"hovertemplate\":\"Classifier Algorithm=%{x}<br>Prc Avg=%{text}<extra></extra>\",\"legendgroup\":\"SVM\",\"marker\":{\"color\":\"#EF553B\",\"pattern\":{\"shape\":\"\"}},\"name\":\"SVM\",\"offsetgroup\":\"SVM\",\"orientation\":\"v\",\"showlegend\":true,\"text\":[92.59],\"textposition\":\"auto\",\"x\":[\"SVM\"],\"xaxis\":\"x\",\"y\":[92.59],\"yaxis\":\"y\",\"type\":\"bar\"},{\"alignmentgroup\":\"True\",\"hovertemplate\":\"Classifier Algorithm=%{x}<br>Prc Avg=%{text}<extra></extra>\",\"legendgroup\":\"Decision Tree\",\"marker\":{\"color\":\"#00cc96\",\"pattern\":{\"shape\":\"\"}},\"name\":\"Decision Tree\",\"offsetgroup\":\"Decision Tree\",\"orientation\":\"v\",\"showlegend\":true,\"text\":[92.25],\"textposition\":\"auto\",\"x\":[\"Decision Tree\"],\"xaxis\":\"x\",\"y\":[92.25],\"yaxis\":\"y\",\"type\":\"bar\"},{\"alignmentgroup\":\"True\",\"hovertemplate\":\"Classifier Algorithm=%{x}<br>Prc Avg=%{text}<extra></extra>\",\"legendgroup\":\"KNN\",\"marker\":{\"color\":\"#ab63fa\",\"pattern\":{\"shape\":\"\"}},\"name\":\"KNN\",\"offsetgroup\":\"KNN\",\"orientation\":\"v\",\"showlegend\":true,\"text\":[80.68],\"textposition\":\"auto\",\"x\":[\"KNN\"],\"xaxis\":\"x\",\"y\":[80.68],\"yaxis\":\"y\",\"type\":\"bar\"},{\"alignmentgroup\":\"True\",\"hovertemplate\":\"Classifier Algorithm=%{x}<br>Prc Avg=%{text}<extra></extra>\",\"legendgroup\":\"MLP\",\"marker\":{\"color\":\"#FFA15A\",\"pattern\":{\"shape\":\"\"}},\"name\":\"MLP\",\"offsetgroup\":\"MLP\",\"orientation\":\"v\",\"showlegend\":true,\"text\":[90.77],\"textposition\":\"auto\",\"x\":[\"MLP\"],\"xaxis\":\"x\",\"y\":[90.77],\"yaxis\":\"y\",\"type\":\"bar\"}],                        {\"template\":{\"data\":{\"bar\":[{\"error_x\":{\"color\":\"#2a3f5f\"},\"error_y\":{\"color\":\"#2a3f5f\"},\"marker\":{\"line\":{\"color\":\"#E5ECF6\",\"width\":0.5},\"pattern\":{\"fillmode\":\"overlay\",\"size\":10,\"solidity\":0.2}},\"type\":\"bar\"}],\"barpolar\":[{\"marker\":{\"line\":{\"color\":\"#E5ECF6\",\"width\":0.5},\"pattern\":{\"fillmode\":\"overlay\",\"size\":10,\"solidity\":0.2}},\"type\":\"barpolar\"}],\"carpet\":[{\"aaxis\":{\"endlinecolor\":\"#2a3f5f\",\"gridcolor\":\"white\",\"linecolor\":\"white\",\"minorgridcolor\":\"white\",\"startlinecolor\":\"#2a3f5f\"},\"baxis\":{\"endlinecolor\":\"#2a3f5f\",\"gridcolor\":\"white\",\"linecolor\":\"white\",\"minorgridcolor\":\"white\",\"startlinecolor\":\"#2a3f5f\"},\"type\":\"carpet\"}],\"choropleth\":[{\"colorbar\":{\"outlinewidth\":0,\"ticks\":\"\"},\"type\":\"choropleth\"}],\"contour\":[{\"colorbar\":{\"outlinewidth\":0,\"ticks\":\"\"},\"colorscale\":[[0.0,\"#0d0887\"],[0.1111111111111111,\"#46039f\"],[0.2222222222222222,\"#7201a8\"],[0.3333333333333333,\"#9c179e\"],[0.4444444444444444,\"#bd3786\"],[0.5555555555555556,\"#d8576b\"],[0.6666666666666666,\"#ed7953\"],[0.7777777777777778,\"#fb9f3a\"],[0.8888888888888888,\"#fdca26\"],[1.0,\"#f0f921\"]],\"type\":\"contour\"}],\"contourcarpet\":[{\"colorbar\":{\"outlinewidth\":0,\"ticks\":\"\"},\"type\":\"contourcarpet\"}],\"heatmap\":[{\"colorbar\":{\"outlinewidth\":0,\"ticks\":\"\"},\"colorscale\":[[0.0,\"#0d0887\"],[0.1111111111111111,\"#46039f\"],[0.2222222222222222,\"#7201a8\"],[0.3333333333333333,\"#9c179e\"],[0.4444444444444444,\"#bd3786\"],[0.5555555555555556,\"#d8576b\"],[0.6666666666666666,\"#ed7953\"],[0.7777777777777778,\"#fb9f3a\"],[0.8888888888888888,\"#fdca26\"],[1.0,\"#f0f921\"]],\"type\":\"heatmap\"}],\"heatmapgl\":[{\"colorbar\":{\"outlinewidth\":0,\"ticks\":\"\"},\"colorscale\":[[0.0,\"#0d0887\"],[0.1111111111111111,\"#46039f\"],[0.2222222222222222,\"#7201a8\"],[0.3333333333333333,\"#9c179e\"],[0.4444444444444444,\"#bd3786\"],[0.5555555555555556,\"#d8576b\"],[0.6666666666666666,\"#ed7953\"],[0.7777777777777778,\"#fb9f3a\"],[0.8888888888888888,\"#fdca26\"],[1.0,\"#f0f921\"]],\"type\":\"heatmapgl\"}],\"histogram\":[{\"marker\":{\"pattern\":{\"fillmode\":\"overlay\",\"size\":10,\"solidity\":0.2}},\"type\":\"histogram\"}],\"histogram2d\":[{\"colorbar\":{\"outlinewidth\":0,\"ticks\":\"\"},\"colorscale\":[[0.0,\"#0d0887\"],[0.1111111111111111,\"#46039f\"],[0.2222222222222222,\"#7201a8\"],[0.3333333333333333,\"#9c179e\"],[0.4444444444444444,\"#bd3786\"],[0.5555555555555556,\"#d8576b\"],[0.6666666666666666,\"#ed7953\"],[0.7777777777777778,\"#fb9f3a\"],[0.8888888888888888,\"#fdca26\"],[1.0,\"#f0f921\"]],\"type\":\"histogram2d\"}],\"histogram2dcontour\":[{\"colorbar\":{\"outlinewidth\":0,\"ticks\":\"\"},\"colorscale\":[[0.0,\"#0d0887\"],[0.1111111111111111,\"#46039f\"],[0.2222222222222222,\"#7201a8\"],[0.3333333333333333,\"#9c179e\"],[0.4444444444444444,\"#bd3786\"],[0.5555555555555556,\"#d8576b\"],[0.6666666666666666,\"#ed7953\"],[0.7777777777777778,\"#fb9f3a\"],[0.8888888888888888,\"#fdca26\"],[1.0,\"#f0f921\"]],\"type\":\"histogram2dcontour\"}],\"mesh3d\":[{\"colorbar\":{\"outlinewidth\":0,\"ticks\":\"\"},\"type\":\"mesh3d\"}],\"parcoords\":[{\"line\":{\"colorbar\":{\"outlinewidth\":0,\"ticks\":\"\"}},\"type\":\"parcoords\"}],\"pie\":[{\"automargin\":true,\"type\":\"pie\"}],\"scatter\":[{\"marker\":{\"colorbar\":{\"outlinewidth\":0,\"ticks\":\"\"}},\"type\":\"scatter\"}],\"scatter3d\":[{\"line\":{\"colorbar\":{\"outlinewidth\":0,\"ticks\":\"\"}},\"marker\":{\"colorbar\":{\"outlinewidth\":0,\"ticks\":\"\"}},\"type\":\"scatter3d\"}],\"scattercarpet\":[{\"marker\":{\"colorbar\":{\"outlinewidth\":0,\"ticks\":\"\"}},\"type\":\"scattercarpet\"}],\"scattergeo\":[{\"marker\":{\"colorbar\":{\"outlinewidth\":0,\"ticks\":\"\"}},\"type\":\"scattergeo\"}],\"scattergl\":[{\"marker\":{\"colorbar\":{\"outlinewidth\":0,\"ticks\":\"\"}},\"type\":\"scattergl\"}],\"scattermapbox\":[{\"marker\":{\"colorbar\":{\"outlinewidth\":0,\"ticks\":\"\"}},\"type\":\"scattermapbox\"}],\"scatterpolar\":[{\"marker\":{\"colorbar\":{\"outlinewidth\":0,\"ticks\":\"\"}},\"type\":\"scatterpolar\"}],\"scatterpolargl\":[{\"marker\":{\"colorbar\":{\"outlinewidth\":0,\"ticks\":\"\"}},\"type\":\"scatterpolargl\"}],\"scatterternary\":[{\"marker\":{\"colorbar\":{\"outlinewidth\":0,\"ticks\":\"\"}},\"type\":\"scatterternary\"}],\"surface\":[{\"colorbar\":{\"outlinewidth\":0,\"ticks\":\"\"},\"colorscale\":[[0.0,\"#0d0887\"],[0.1111111111111111,\"#46039f\"],[0.2222222222222222,\"#7201a8\"],[0.3333333333333333,\"#9c179e\"],[0.4444444444444444,\"#bd3786\"],[0.5555555555555556,\"#d8576b\"],[0.6666666666666666,\"#ed7953\"],[0.7777777777777778,\"#fb9f3a\"],[0.8888888888888888,\"#fdca26\"],[1.0,\"#f0f921\"]],\"type\":\"surface\"}],\"table\":[{\"cells\":{\"fill\":{\"color\":\"#EBF0F8\"},\"line\":{\"color\":\"white\"}},\"header\":{\"fill\":{\"color\":\"#C8D4E3\"},\"line\":{\"color\":\"white\"}},\"type\":\"table\"}]},\"layout\":{\"annotationdefaults\":{\"arrowcolor\":\"#2a3f5f\",\"arrowhead\":0,\"arrowwidth\":1},\"autotypenumbers\":\"strict\",\"coloraxis\":{\"colorbar\":{\"outlinewidth\":0,\"ticks\":\"\"}},\"colorscale\":{\"diverging\":[[0,\"#8e0152\"],[0.1,\"#c51b7d\"],[0.2,\"#de77ae\"],[0.3,\"#f1b6da\"],[0.4,\"#fde0ef\"],[0.5,\"#f7f7f7\"],[0.6,\"#e6f5d0\"],[0.7,\"#b8e186\"],[0.8,\"#7fbc41\"],[0.9,\"#4d9221\"],[1,\"#276419\"]],\"sequential\":[[0.0,\"#0d0887\"],[0.1111111111111111,\"#46039f\"],[0.2222222222222222,\"#7201a8\"],[0.3333333333333333,\"#9c179e\"],[0.4444444444444444,\"#bd3786\"],[0.5555555555555556,\"#d8576b\"],[0.6666666666666666,\"#ed7953\"],[0.7777777777777778,\"#fb9f3a\"],[0.8888888888888888,\"#fdca26\"],[1.0,\"#f0f921\"]],\"sequentialminus\":[[0.0,\"#0d0887\"],[0.1111111111111111,\"#46039f\"],[0.2222222222222222,\"#7201a8\"],[0.3333333333333333,\"#9c179e\"],[0.4444444444444444,\"#bd3786\"],[0.5555555555555556,\"#d8576b\"],[0.6666666666666666,\"#ed7953\"],[0.7777777777777778,\"#fb9f3a\"],[0.8888888888888888,\"#fdca26\"],[1.0,\"#f0f921\"]]},\"colorway\":[\"#636efa\",\"#EF553B\",\"#00cc96\",\"#ab63fa\",\"#FFA15A\",\"#19d3f3\",\"#FF6692\",\"#B6E880\",\"#FF97FF\",\"#FECB52\"],\"font\":{\"color\":\"#2a3f5f\"},\"geo\":{\"bgcolor\":\"white\",\"lakecolor\":\"white\",\"landcolor\":\"#E5ECF6\",\"showlakes\":true,\"showland\":true,\"subunitcolor\":\"white\"},\"hoverlabel\":{\"align\":\"left\"},\"hovermode\":\"closest\",\"mapbox\":{\"style\":\"light\"},\"paper_bgcolor\":\"white\",\"plot_bgcolor\":\"#E5ECF6\",\"polar\":{\"angularaxis\":{\"gridcolor\":\"white\",\"linecolor\":\"white\",\"ticks\":\"\"},\"bgcolor\":\"#E5ECF6\",\"radialaxis\":{\"gridcolor\":\"white\",\"linecolor\":\"white\",\"ticks\":\"\"}},\"scene\":{\"xaxis\":{\"backgroundcolor\":\"#E5ECF6\",\"gridcolor\":\"white\",\"gridwidth\":2,\"linecolor\":\"white\",\"showbackground\":true,\"ticks\":\"\",\"zerolinecolor\":\"white\"},\"yaxis\":{\"backgroundcolor\":\"#E5ECF6\",\"gridcolor\":\"white\",\"gridwidth\":2,\"linecolor\":\"white\",\"showbackground\":true,\"ticks\":\"\",\"zerolinecolor\":\"white\"},\"zaxis\":{\"backgroundcolor\":\"#E5ECF6\",\"gridcolor\":\"white\",\"gridwidth\":2,\"linecolor\":\"white\",\"showbackground\":true,\"ticks\":\"\",\"zerolinecolor\":\"white\"}},\"shapedefaults\":{\"line\":{\"color\":\"#2a3f5f\"}},\"ternary\":{\"aaxis\":{\"gridcolor\":\"white\",\"linecolor\":\"white\",\"ticks\":\"\"},\"baxis\":{\"gridcolor\":\"white\",\"linecolor\":\"white\",\"ticks\":\"\"},\"bgcolor\":\"#E5ECF6\",\"caxis\":{\"gridcolor\":\"white\",\"linecolor\":\"white\",\"ticks\":\"\"}},\"title\":{\"x\":0.05},\"xaxis\":{\"automargin\":true,\"gridcolor\":\"white\",\"linecolor\":\"white\",\"ticks\":\"\",\"title\":{\"standoff\":15},\"zerolinecolor\":\"white\",\"zerolinewidth\":2},\"yaxis\":{\"automargin\":true,\"gridcolor\":\"white\",\"linecolor\":\"white\",\"ticks\":\"\",\"title\":{\"standoff\":15},\"zerolinecolor\":\"white\",\"zerolinewidth\":2}}},\"xaxis\":{\"anchor\":\"y\",\"domain\":[0.0,1.0],\"title\":{\"text\":\"Classifier Algorithm\"},\"categoryorder\":\"array\",\"categoryarray\":[\"Logistic Regression\",\"SVM\",\"Decision Tree\",\"KNN\",\"MLP\"]},\"yaxis\":{\"anchor\":\"x\",\"domain\":[0.0,1.0],\"title\":{\"text\":\"Prc Avg\"}},\"legend\":{\"title\":{\"text\":\"Classifier Algorithm\"},\"tracegroupgap\":0},\"title\":{\"text\":\"Comparison of Weighted_Precision Average (After Cross Validation) Between Different Algorithms\"},\"barmode\":\"relative\"},                        {\"responsive\": true}                    ).then(function(){\n",
              "                            \n",
              "var gd = document.getElementById('b8decb1f-8058-4b9d-b0b7-94756c1dfae7');\n",
              "var x = new MutationObserver(function (mutations, observer) {{\n",
              "        var display = window.getComputedStyle(gd).display;\n",
              "        if (!display || display === 'none') {{\n",
              "            console.log([gd, 'removed!']);\n",
              "            Plotly.purge(gd);\n",
              "            observer.disconnect();\n",
              "        }}\n",
              "}});\n",
              "\n",
              "// Listen for the removal of the full notebook cells\n",
              "var notebookContainer = gd.closest('#notebook-container');\n",
              "if (notebookContainer) {{\n",
              "    x.observe(notebookContainer, {childList: true});\n",
              "}}\n",
              "\n",
              "// Listen for the clearing of the current output cell\n",
              "var outputEl = gd.closest('.output');\n",
              "if (outputEl) {{\n",
              "    x.observe(outputEl, {childList: true});\n",
              "}}\n",
              "\n",
              "                        })                };                            </script>        </div>\n",
              "</body>\n",
              "</html>"
            ]
          },
          "metadata": {}
        },
        {
          "output_type": "display_data",
          "data": {
            "text/html": [
              "<html>\n",
              "<head><meta charset=\"utf-8\" /></head>\n",
              "<body>\n",
              "    <div>            <script src=\"https://cdnjs.cloudflare.com/ajax/libs/mathjax/2.7.5/MathJax.js?config=TeX-AMS-MML_SVG\"></script><script type=\"text/javascript\">if (window.MathJax) {MathJax.Hub.Config({SVG: {font: \"STIX-Web\"}});}</script>                <script type=\"text/javascript\">window.PlotlyConfig = {MathJaxConfig: 'local'};</script>\n",
              "        <script src=\"https://cdn.plot.ly/plotly-2.8.3.min.js\"></script>                <div id=\"a4a4e5fd-0287-47b2-ba76-a5c5ac20e2da\" class=\"plotly-graph-div\" style=\"height:525px; width:100%;\"></div>            <script type=\"text/javascript\">                                    window.PLOTLYENV=window.PLOTLYENV || {};                                    if (document.getElementById(\"a4a4e5fd-0287-47b2-ba76-a5c5ac20e2da\")) {                    Plotly.newPlot(                        \"a4a4e5fd-0287-47b2-ba76-a5c5ac20e2da\",                        [{\"alignmentgroup\":\"True\",\"hovertemplate\":\"Classifier Algorithm=%{x}<br>F1 Avg=%{text}<extra></extra>\",\"legendgroup\":\"Logistic Regression\",\"marker\":{\"color\":\"#636efa\",\"pattern\":{\"shape\":\"\"}},\"name\":\"Logistic Regression\",\"offsetgroup\":\"Logistic Regression\",\"orientation\":\"v\",\"showlegend\":true,\"text\":[88.11],\"textposition\":\"auto\",\"x\":[\"Logistic Regression\"],\"xaxis\":\"x\",\"y\":[88.11],\"yaxis\":\"y\",\"type\":\"bar\"},{\"alignmentgroup\":\"True\",\"hovertemplate\":\"Classifier Algorithm=%{x}<br>F1 Avg=%{text}<extra></extra>\",\"legendgroup\":\"SVM\",\"marker\":{\"color\":\"#EF553B\",\"pattern\":{\"shape\":\"\"}},\"name\":\"SVM\",\"offsetgroup\":\"SVM\",\"orientation\":\"v\",\"showlegend\":true,\"text\":[92.57],\"textposition\":\"auto\",\"x\":[\"SVM\"],\"xaxis\":\"x\",\"y\":[92.57],\"yaxis\":\"y\",\"type\":\"bar\"},{\"alignmentgroup\":\"True\",\"hovertemplate\":\"Classifier Algorithm=%{x}<br>F1 Avg=%{text}<extra></extra>\",\"legendgroup\":\"Decision Tree\",\"marker\":{\"color\":\"#00cc96\",\"pattern\":{\"shape\":\"\"}},\"name\":\"Decision Tree\",\"offsetgroup\":\"Decision Tree\",\"orientation\":\"v\",\"showlegend\":true,\"text\":[92.26],\"textposition\":\"auto\",\"x\":[\"Decision Tree\"],\"xaxis\":\"x\",\"y\":[92.26],\"yaxis\":\"y\",\"type\":\"bar\"},{\"alignmentgroup\":\"True\",\"hovertemplate\":\"Classifier Algorithm=%{x}<br>F1 Avg=%{text}<extra></extra>\",\"legendgroup\":\"KNN\",\"marker\":{\"color\":\"#ab63fa\",\"pattern\":{\"shape\":\"\"}},\"name\":\"KNN\",\"offsetgroup\":\"KNN\",\"orientation\":\"v\",\"showlegend\":true,\"text\":[80.64],\"textposition\":\"auto\",\"x\":[\"KNN\"],\"xaxis\":\"x\",\"y\":[80.64],\"yaxis\":\"y\",\"type\":\"bar\"},{\"alignmentgroup\":\"True\",\"hovertemplate\":\"Classifier Algorithm=%{x}<br>F1 Avg=%{text}<extra></extra>\",\"legendgroup\":\"MLP\",\"marker\":{\"color\":\"#FFA15A\",\"pattern\":{\"shape\":\"\"}},\"name\":\"MLP\",\"offsetgroup\":\"MLP\",\"orientation\":\"v\",\"showlegend\":true,\"text\":[90.75],\"textposition\":\"auto\",\"x\":[\"MLP\"],\"xaxis\":\"x\",\"y\":[90.75],\"yaxis\":\"y\",\"type\":\"bar\"}],                        {\"template\":{\"data\":{\"bar\":[{\"error_x\":{\"color\":\"#2a3f5f\"},\"error_y\":{\"color\":\"#2a3f5f\"},\"marker\":{\"line\":{\"color\":\"#E5ECF6\",\"width\":0.5},\"pattern\":{\"fillmode\":\"overlay\",\"size\":10,\"solidity\":0.2}},\"type\":\"bar\"}],\"barpolar\":[{\"marker\":{\"line\":{\"color\":\"#E5ECF6\",\"width\":0.5},\"pattern\":{\"fillmode\":\"overlay\",\"size\":10,\"solidity\":0.2}},\"type\":\"barpolar\"}],\"carpet\":[{\"aaxis\":{\"endlinecolor\":\"#2a3f5f\",\"gridcolor\":\"white\",\"linecolor\":\"white\",\"minorgridcolor\":\"white\",\"startlinecolor\":\"#2a3f5f\"},\"baxis\":{\"endlinecolor\":\"#2a3f5f\",\"gridcolor\":\"white\",\"linecolor\":\"white\",\"minorgridcolor\":\"white\",\"startlinecolor\":\"#2a3f5f\"},\"type\":\"carpet\"}],\"choropleth\":[{\"colorbar\":{\"outlinewidth\":0,\"ticks\":\"\"},\"type\":\"choropleth\"}],\"contour\":[{\"colorbar\":{\"outlinewidth\":0,\"ticks\":\"\"},\"colorscale\":[[0.0,\"#0d0887\"],[0.1111111111111111,\"#46039f\"],[0.2222222222222222,\"#7201a8\"],[0.3333333333333333,\"#9c179e\"],[0.4444444444444444,\"#bd3786\"],[0.5555555555555556,\"#d8576b\"],[0.6666666666666666,\"#ed7953\"],[0.7777777777777778,\"#fb9f3a\"],[0.8888888888888888,\"#fdca26\"],[1.0,\"#f0f921\"]],\"type\":\"contour\"}],\"contourcarpet\":[{\"colorbar\":{\"outlinewidth\":0,\"ticks\":\"\"},\"type\":\"contourcarpet\"}],\"heatmap\":[{\"colorbar\":{\"outlinewidth\":0,\"ticks\":\"\"},\"colorscale\":[[0.0,\"#0d0887\"],[0.1111111111111111,\"#46039f\"],[0.2222222222222222,\"#7201a8\"],[0.3333333333333333,\"#9c179e\"],[0.4444444444444444,\"#bd3786\"],[0.5555555555555556,\"#d8576b\"],[0.6666666666666666,\"#ed7953\"],[0.7777777777777778,\"#fb9f3a\"],[0.8888888888888888,\"#fdca26\"],[1.0,\"#f0f921\"]],\"type\":\"heatmap\"}],\"heatmapgl\":[{\"colorbar\":{\"outlinewidth\":0,\"ticks\":\"\"},\"colorscale\":[[0.0,\"#0d0887\"],[0.1111111111111111,\"#46039f\"],[0.2222222222222222,\"#7201a8\"],[0.3333333333333333,\"#9c179e\"],[0.4444444444444444,\"#bd3786\"],[0.5555555555555556,\"#d8576b\"],[0.6666666666666666,\"#ed7953\"],[0.7777777777777778,\"#fb9f3a\"],[0.8888888888888888,\"#fdca26\"],[1.0,\"#f0f921\"]],\"type\":\"heatmapgl\"}],\"histogram\":[{\"marker\":{\"pattern\":{\"fillmode\":\"overlay\",\"size\":10,\"solidity\":0.2}},\"type\":\"histogram\"}],\"histogram2d\":[{\"colorbar\":{\"outlinewidth\":0,\"ticks\":\"\"},\"colorscale\":[[0.0,\"#0d0887\"],[0.1111111111111111,\"#46039f\"],[0.2222222222222222,\"#7201a8\"],[0.3333333333333333,\"#9c179e\"],[0.4444444444444444,\"#bd3786\"],[0.5555555555555556,\"#d8576b\"],[0.6666666666666666,\"#ed7953\"],[0.7777777777777778,\"#fb9f3a\"],[0.8888888888888888,\"#fdca26\"],[1.0,\"#f0f921\"]],\"type\":\"histogram2d\"}],\"histogram2dcontour\":[{\"colorbar\":{\"outlinewidth\":0,\"ticks\":\"\"},\"colorscale\":[[0.0,\"#0d0887\"],[0.1111111111111111,\"#46039f\"],[0.2222222222222222,\"#7201a8\"],[0.3333333333333333,\"#9c179e\"],[0.4444444444444444,\"#bd3786\"],[0.5555555555555556,\"#d8576b\"],[0.6666666666666666,\"#ed7953\"],[0.7777777777777778,\"#fb9f3a\"],[0.8888888888888888,\"#fdca26\"],[1.0,\"#f0f921\"]],\"type\":\"histogram2dcontour\"}],\"mesh3d\":[{\"colorbar\":{\"outlinewidth\":0,\"ticks\":\"\"},\"type\":\"mesh3d\"}],\"parcoords\":[{\"line\":{\"colorbar\":{\"outlinewidth\":0,\"ticks\":\"\"}},\"type\":\"parcoords\"}],\"pie\":[{\"automargin\":true,\"type\":\"pie\"}],\"scatter\":[{\"marker\":{\"colorbar\":{\"outlinewidth\":0,\"ticks\":\"\"}},\"type\":\"scatter\"}],\"scatter3d\":[{\"line\":{\"colorbar\":{\"outlinewidth\":0,\"ticks\":\"\"}},\"marker\":{\"colorbar\":{\"outlinewidth\":0,\"ticks\":\"\"}},\"type\":\"scatter3d\"}],\"scattercarpet\":[{\"marker\":{\"colorbar\":{\"outlinewidth\":0,\"ticks\":\"\"}},\"type\":\"scattercarpet\"}],\"scattergeo\":[{\"marker\":{\"colorbar\":{\"outlinewidth\":0,\"ticks\":\"\"}},\"type\":\"scattergeo\"}],\"scattergl\":[{\"marker\":{\"colorbar\":{\"outlinewidth\":0,\"ticks\":\"\"}},\"type\":\"scattergl\"}],\"scattermapbox\":[{\"marker\":{\"colorbar\":{\"outlinewidth\":0,\"ticks\":\"\"}},\"type\":\"scattermapbox\"}],\"scatterpolar\":[{\"marker\":{\"colorbar\":{\"outlinewidth\":0,\"ticks\":\"\"}},\"type\":\"scatterpolar\"}],\"scatterpolargl\":[{\"marker\":{\"colorbar\":{\"outlinewidth\":0,\"ticks\":\"\"}},\"type\":\"scatterpolargl\"}],\"scatterternary\":[{\"marker\":{\"colorbar\":{\"outlinewidth\":0,\"ticks\":\"\"}},\"type\":\"scatterternary\"}],\"surface\":[{\"colorbar\":{\"outlinewidth\":0,\"ticks\":\"\"},\"colorscale\":[[0.0,\"#0d0887\"],[0.1111111111111111,\"#46039f\"],[0.2222222222222222,\"#7201a8\"],[0.3333333333333333,\"#9c179e\"],[0.4444444444444444,\"#bd3786\"],[0.5555555555555556,\"#d8576b\"],[0.6666666666666666,\"#ed7953\"],[0.7777777777777778,\"#fb9f3a\"],[0.8888888888888888,\"#fdca26\"],[1.0,\"#f0f921\"]],\"type\":\"surface\"}],\"table\":[{\"cells\":{\"fill\":{\"color\":\"#EBF0F8\"},\"line\":{\"color\":\"white\"}},\"header\":{\"fill\":{\"color\":\"#C8D4E3\"},\"line\":{\"color\":\"white\"}},\"type\":\"table\"}]},\"layout\":{\"annotationdefaults\":{\"arrowcolor\":\"#2a3f5f\",\"arrowhead\":0,\"arrowwidth\":1},\"autotypenumbers\":\"strict\",\"coloraxis\":{\"colorbar\":{\"outlinewidth\":0,\"ticks\":\"\"}},\"colorscale\":{\"diverging\":[[0,\"#8e0152\"],[0.1,\"#c51b7d\"],[0.2,\"#de77ae\"],[0.3,\"#f1b6da\"],[0.4,\"#fde0ef\"],[0.5,\"#f7f7f7\"],[0.6,\"#e6f5d0\"],[0.7,\"#b8e186\"],[0.8,\"#7fbc41\"],[0.9,\"#4d9221\"],[1,\"#276419\"]],\"sequential\":[[0.0,\"#0d0887\"],[0.1111111111111111,\"#46039f\"],[0.2222222222222222,\"#7201a8\"],[0.3333333333333333,\"#9c179e\"],[0.4444444444444444,\"#bd3786\"],[0.5555555555555556,\"#d8576b\"],[0.6666666666666666,\"#ed7953\"],[0.7777777777777778,\"#fb9f3a\"],[0.8888888888888888,\"#fdca26\"],[1.0,\"#f0f921\"]],\"sequentialminus\":[[0.0,\"#0d0887\"],[0.1111111111111111,\"#46039f\"],[0.2222222222222222,\"#7201a8\"],[0.3333333333333333,\"#9c179e\"],[0.4444444444444444,\"#bd3786\"],[0.5555555555555556,\"#d8576b\"],[0.6666666666666666,\"#ed7953\"],[0.7777777777777778,\"#fb9f3a\"],[0.8888888888888888,\"#fdca26\"],[1.0,\"#f0f921\"]]},\"colorway\":[\"#636efa\",\"#EF553B\",\"#00cc96\",\"#ab63fa\",\"#FFA15A\",\"#19d3f3\",\"#FF6692\",\"#B6E880\",\"#FF97FF\",\"#FECB52\"],\"font\":{\"color\":\"#2a3f5f\"},\"geo\":{\"bgcolor\":\"white\",\"lakecolor\":\"white\",\"landcolor\":\"#E5ECF6\",\"showlakes\":true,\"showland\":true,\"subunitcolor\":\"white\"},\"hoverlabel\":{\"align\":\"left\"},\"hovermode\":\"closest\",\"mapbox\":{\"style\":\"light\"},\"paper_bgcolor\":\"white\",\"plot_bgcolor\":\"#E5ECF6\",\"polar\":{\"angularaxis\":{\"gridcolor\":\"white\",\"linecolor\":\"white\",\"ticks\":\"\"},\"bgcolor\":\"#E5ECF6\",\"radialaxis\":{\"gridcolor\":\"white\",\"linecolor\":\"white\",\"ticks\":\"\"}},\"scene\":{\"xaxis\":{\"backgroundcolor\":\"#E5ECF6\",\"gridcolor\":\"white\",\"gridwidth\":2,\"linecolor\":\"white\",\"showbackground\":true,\"ticks\":\"\",\"zerolinecolor\":\"white\"},\"yaxis\":{\"backgroundcolor\":\"#E5ECF6\",\"gridcolor\":\"white\",\"gridwidth\":2,\"linecolor\":\"white\",\"showbackground\":true,\"ticks\":\"\",\"zerolinecolor\":\"white\"},\"zaxis\":{\"backgroundcolor\":\"#E5ECF6\",\"gridcolor\":\"white\",\"gridwidth\":2,\"linecolor\":\"white\",\"showbackground\":true,\"ticks\":\"\",\"zerolinecolor\":\"white\"}},\"shapedefaults\":{\"line\":{\"color\":\"#2a3f5f\"}},\"ternary\":{\"aaxis\":{\"gridcolor\":\"white\",\"linecolor\":\"white\",\"ticks\":\"\"},\"baxis\":{\"gridcolor\":\"white\",\"linecolor\":\"white\",\"ticks\":\"\"},\"bgcolor\":\"#E5ECF6\",\"caxis\":{\"gridcolor\":\"white\",\"linecolor\":\"white\",\"ticks\":\"\"}},\"title\":{\"x\":0.05},\"xaxis\":{\"automargin\":true,\"gridcolor\":\"white\",\"linecolor\":\"white\",\"ticks\":\"\",\"title\":{\"standoff\":15},\"zerolinecolor\":\"white\",\"zerolinewidth\":2},\"yaxis\":{\"automargin\":true,\"gridcolor\":\"white\",\"linecolor\":\"white\",\"ticks\":\"\",\"title\":{\"standoff\":15},\"zerolinecolor\":\"white\",\"zerolinewidth\":2}}},\"xaxis\":{\"anchor\":\"y\",\"domain\":[0.0,1.0],\"title\":{\"text\":\"Classifier Algorithm\"},\"categoryorder\":\"array\",\"categoryarray\":[\"Logistic Regression\",\"SVM\",\"Decision Tree\",\"KNN\",\"MLP\"]},\"yaxis\":{\"anchor\":\"x\",\"domain\":[0.0,1.0],\"title\":{\"text\":\"F1 Avg\"}},\"legend\":{\"title\":{\"text\":\"Classifier Algorithm\"},\"tracegroupgap\":0},\"title\":{\"text\":\"Comparison of Weighted_F1score Average (After Cross Validation) Between Different Algorithms\"},\"barmode\":\"relative\"},                        {\"responsive\": true}                    ).then(function(){\n",
              "                            \n",
              "var gd = document.getElementById('a4a4e5fd-0287-47b2-ba76-a5c5ac20e2da');\n",
              "var x = new MutationObserver(function (mutations, observer) {{\n",
              "        var display = window.getComputedStyle(gd).display;\n",
              "        if (!display || display === 'none') {{\n",
              "            console.log([gd, 'removed!']);\n",
              "            Plotly.purge(gd);\n",
              "            observer.disconnect();\n",
              "        }}\n",
              "}});\n",
              "\n",
              "// Listen for the removal of the full notebook cells\n",
              "var notebookContainer = gd.closest('#notebook-container');\n",
              "if (notebookContainer) {{\n",
              "    x.observe(notebookContainer, {childList: true});\n",
              "}}\n",
              "\n",
              "// Listen for the clearing of the current output cell\n",
              "var outputEl = gd.closest('.output');\n",
              "if (outputEl) {{\n",
              "    x.observe(outputEl, {childList: true});\n",
              "}}\n",
              "\n",
              "                        })                };                            </script>        </div>\n",
              "</body>\n",
              "</html>"
            ]
          },
          "metadata": {}
        }
      ]
    },
    {
      "cell_type": "markdown",
      "source": [
        "# classification with pca"
      ],
      "metadata": {
        "id": "JuWZm9vB2JB5"
      }
    },
    {
      "cell_type": "code",
      "source": [
        "from sklearn.model_selection import train_test_split\n",
        "X = df.drop(['sex','emotionID','Unnamed: 0'],1)   #Feature Matrix\n",
        "y = df[\"sex\"]\n",
        "\n",
        "X_train, X_test, y_train, y_test = train_test_split(X, y, test_size=0.2, random_state=4)"
      ],
      "metadata": {
        "colab": {
          "base_uri": "https://localhost:8080/"
        },
        "id": "vU62DDfq3mx3",
        "outputId": "cdd01d4e-c9e7-4951-8154-513e9f51521d"
      },
      "execution_count": null,
      "outputs": [
        {
          "output_type": "stream",
          "name": "stderr",
          "text": [
            "/usr/local/lib/python3.7/dist-packages/ipykernel_launcher.py:2: FutureWarning:\n",
            "\n",
            "In a future version of pandas all arguments of DataFrame.drop except for the argument 'labels' will be keyword-only\n",
            "\n"
          ]
        }
      ]
    },
    {
      "cell_type": "code",
      "source": [
        "from sklearn.preprocessing import StandardScaler\n",
        "\n",
        "sc = StandardScaler()\n",
        "X_train = sc.fit_transform(X_train)\n",
        "X_test = sc.transform(X_test)\n"
      ],
      "metadata": {
        "id": "S9acQHX-rZY-"
      },
      "execution_count": null,
      "outputs": []
    },
    {
      "cell_type": "code",
      "source": [
        "import plotly.express as px\n",
        "from sklearn.decomposition import PCA\n",
        "\n",
        "pca = PCA()\n",
        "pca.fit(X_train)\n",
        "exp_var_cumul = np.cumsum(pca.explained_variance_ratio_)\n",
        "\n",
        "px.area(\n",
        "    x=range(1, exp_var_cumul.shape[0] + 1),\n",
        "    y=exp_var_cumul,\n",
        "    labels={\"x\": \"# Components\", \"y\": \"Explained Variance\"}\n",
        ")"
      ],
      "metadata": {
        "colab": {
          "base_uri": "https://localhost:8080/",
          "height": 542
        },
        "id": "Y_6CXRtC4HHn",
        "outputId": "d988ad9f-79e2-4834-8409-afeaa9b98cab"
      },
      "execution_count": null,
      "outputs": [
        {
          "output_type": "display_data",
          "data": {
            "text/html": [
              "<html>\n",
              "<head><meta charset=\"utf-8\" /></head>\n",
              "<body>\n",
              "    <div>            <script src=\"https://cdnjs.cloudflare.com/ajax/libs/mathjax/2.7.5/MathJax.js?config=TeX-AMS-MML_SVG\"></script><script type=\"text/javascript\">if (window.MathJax) {MathJax.Hub.Config({SVG: {font: \"STIX-Web\"}});}</script>                <script type=\"text/javascript\">window.PlotlyConfig = {MathJaxConfig: 'local'};</script>\n",
              "        <script src=\"https://cdn.plot.ly/plotly-2.8.3.min.js\"></script>                <div id=\"aaf0fe45-a8f0-4166-b1dc-9d0291ecbaa2\" class=\"plotly-graph-div\" style=\"height:525px; width:100%;\"></div>            <script type=\"text/javascript\">                                    window.PLOTLYENV=window.PLOTLYENV || {};                                    if (document.getElementById(\"aaf0fe45-a8f0-4166-b1dc-9d0291ecbaa2\")) {                    Plotly.newPlot(                        \"aaf0fe45-a8f0-4166-b1dc-9d0291ecbaa2\",                        [{\"hovertemplate\":\"# Components=%{x}<br>Explained Variance=%{y}<extra></extra>\",\"legendgroup\":\"\",\"line\":{\"color\":\"#636efa\"},\"marker\":{\"symbol\":\"circle\"},\"mode\":\"lines\",\"name\":\"\",\"orientation\":\"v\",\"showlegend\":false,\"stackgroup\":\"1\",\"x\":[1,2,3,4,5,6,7,8,9,10,11,12,13,14,15,16,17,18,19,20,21,22,23,24,25,26,27,28,29,30,31,32,33,34,35,36,37,38,39,40,41,42,43,44,45,46,47,48,49,50,51,52,53,54,55,56,57,58,59,60,61,62,63,64,65,66,67,68,69,70,71,72,73,74,75,76,77,78,79,80,81,82,83,84,85,86,87,88,89,90,91,92,93,94,95,96,97,98,99,100,101,102,103,104,105,106,107,108,109,110,111,112,113,114,115,116,117,118,119,120,121,122,123,124,125,126,127,128,129,130,131,132,133,134,135,136,137,138,139,140,141,142,143,144,145,146,147,148,149,150,151,152,153,154,155,156,157,158,159,160,161,162,163,164,165,166,167,168,169,170,171,172,173,174,175,176,177,178,179,180,181,182,183,184,185,186,187,188,189,190,191,192,193,194,195,196,197,198,199,200,201,202,203,204,205,206,207,208,209,210,211,212,213,214,215,216,217,218,219,220,221,222,223,224,225,226,227,228,229,230,231,232,233,234,235,236,237,238,239,240,241,242,243,244,245,246,247,248,249,250,251,252,253,254,255,256,257,258,259,260,261,262,263,264,265,266,267,268,269,270,271,272,273,274,275,276,277,278,279,280,281,282,283,284,285,286,287,288,289,290,291,292,293,294,295,296,297,298,299,300,301,302,303,304,305,306,307,308,309,310,311,312,313,314,315,316,317,318,319,320,321,322,323,324,325,326,327,328,329,330,331,332,333,334,335,336,337,338,339,340,341,342,343,344,345,346,347,348,349,350,351,352,353,354,355,356,357,358,359,360,361,362,363,364,365,366,367,368,369,370,371,372,373,374,375,376,377,378,379,380,381,382,383,384,385,386,387,388,389,390,391,392,393,394,395,396,397,398,399,400,401,402,403,404,405,406,407,408,409,410,411,412,413,414,415,416,417,418,419,420,421,422,423,424,425,426,427,428,429,430,431,432,433,434,435,436,437,438,439,440,441,442,443,444,445,446,447,448,449,450,451,452,453,454,455,456,457,458,459,460,461,462,463,464,465,466,467,468,469,470,471,472,473,474,475,476,477,478,479,480,481,482,483,484,485,486,487,488,489,490,491,492,493,494,495,496,497,498,499,500,501,502,503,504,505,506,507,508,509,510,511,512,513,514,515,516,517,518,519,520,521,522,523,524,525,526,527,528,529,530,531,532,533,534,535,536,537,538,539,540,541,542,543,544],\"xaxis\":\"x\",\"y\":[0.3771970840975852,0.605076901511198,0.6584321317624147,0.7079039314877192,0.7267272258368547,0.7441722732915638,0.7580001016834361,0.7685869518840492,0.7775060063171523,0.7858025969881388,0.7935644652618096,0.8006631426606432,0.8073371970440706,0.8138050576005179,0.8191792321225067,0.8242886073930132,0.829008578353997,0.8336475672879834,0.8381607735310879,0.8424814396523785,0.8466980626829417,0.8505926810902402,0.8543990393823975,0.8581715290756887,0.8617338690204271,0.8651393380548018,0.8684860040191302,0.871713859372494,0.8748446493274108,0.8779112818084274,0.880852650161249,0.8837184716127593,0.8864453922904459,0.8890579293768018,0.8915817175597969,0.8940345269454013,0.8964589043489376,0.8987970295577777,0.9010890575827782,0.9032767596658989,0.9054080290115314,0.9074602475556331,0.9094714308264237,0.9114435998521809,0.9133279491552737,0.9151872354174894,0.9170035205068181,0.9187757145072475,0.9204966432845328,0.922207518218287,0.9238830964829281,0.9254751050022311,0.9270607138716125,0.9285920757844276,0.9301123127828963,0.9315857393191643,0.9330391375800328,0.9344199069057252,0.9357654572920255,0.9370971161521572,0.9383956116502882,0.9396850793546266,0.9409313300974598,0.9421418549374517,0.9433364041413288,0.9444829577583143,0.9456121923822175,0.9467126484605674,0.9478043536658325,0.9488728481970659,0.9498997461285354,0.9509149230512974,0.9518995952121256,0.9528729389443912,0.9538401128720831,0.9547665432481389,0.9556855705479717,0.9565965319204067,0.9575012927262408,0.9583882892657409,0.9592597312317724,0.9601211579532318,0.9609787066787815,0.9618261720819699,0.962656738234691,0.9634670034032656,0.9642678938645813,0.9650553991782823,0.965831747578147,0.9665895724235636,0.9673275770215768,0.9680498676851196,0.9687505345986551,0.9694334417372494,0.9701005600128839,0.9707547019432342,0.9713868525824574,0.972013254407846,0.9726347060691096,0.9732330951342222,0.9738119825086388,0.9743745457478501,0.9749353558933559,0.9754852584580609,0.9760192115858649,0.9765439164457251,0.9770602235010051,0.977567900858633,0.9780709008106199,0.9785638481145746,0.9790485853475925,0.9795193866239572,0.9799861981044307,0.9804303919843862,0.9808724389738043,0.9813021154553383,0.9817236351923945,0.9821391246434643,0.9825502970290613,0.9829504336983007,0.9833419819928372,0.983718656828449,0.9840834797676062,0.9844460619711857,0.9848073409356483,0.98515923217881,0.9855057661495654,0.9858473698516044,0.9861791961065466,0.9865019697711714,0.9868192083979389,0.9871305537566116,0.9874351345386941,0.9877328621666899,0.9880212662978892,0.9883082602717268,0.9885881155081854,0.9888621183992952,0.9891328667329579,0.989390630014365,0.9896464806435211,0.9898943613244354,0.9901414364393472,0.9903782129727544,0.9906131269667212,0.9908426650077972,0.991068255688935,0.9912896608785697,0.9915037293514951,0.9917150791822889,0.9919233764289943,0.992126465780796,0.9923269691196993,0.9925248959519629,0.9927205649678097,0.9929112226577601,0.993097161739939,0.9932802856148697,0.9934617709732981,0.9936369932619957,0.9938090451750974,0.9939782710382812,0.9941437197898294,0.9943050771666665,0.9944641159891856,0.9946196962752278,0.9947679167829526,0.9949148914603924,0.9950578357362595,0.9951971977881714,0.995334090055402,0.9954704266881559,0.995603747956246,0.995733344695933,0.9958607083702071,0.9959843294764414,0.996103109036848,0.9962182468964574,0.9963289477537374,0.996439079468778,0.9965483300847889,0.9966550880286531,0.9967607295647036,0.9968649010275299,0.9969665189358462,0.9970671606843825,0.9971662449050493,0.9972616972532344,0.9973550370138963,0.997446774174407,0.9975376924660747,0.997624568740217,0.9977096655448922,0.9977938783047495,0.997876395525616,0.9979566345482245,0.9980358307334749,0.998112733770239,0.9981893669755472,0.9982646652333543,0.9983367313683306,0.9984080813063722,0.9984780782167754,0.9985465767776625,0.9986115822767823,0.998676356161288,0.998735788924443,0.9987935098902769,0.9988507752857643,0.9989062950251429,0.9989605196891211,0.9990107018255668,0.9990595101745597,0.9991049524758479,0.9991500237068146,0.9991923942235371,0.9992325254039027,0.9992688647856212,0.9993044589657998,0.9993376054845262,0.9993683518168183,0.999397423205151,0.9994257612716516,0.9994529356383928,0.9994798527563366,0.9995049509670307,0.9995279037109547,0.9995495772620872,0.9995709074547047,0.9995915636408438,0.9996104344795783,0.999629147200916,0.9996464327063517,0.9996630825239491,0.9996788007755808,0.9996932508767951,0.9997074508673972,0.9997208358609097,0.9997337621860988,0.9997463605733514,0.9997580902776072,0.9997696305314792,0.9997803662982552,0.9997905502586475,0.9998002264095427,0.9998095602403512,0.9998183707103634,0.9998268159316912,0.999834976364633,0.9998429840197348,0.9998505773091049,0.9998578210514047,0.9998645555998814,0.9998712013602155,0.9998776028778447,0.9998837446467326,0.9998898418202873,0.9998956338261317,0.9999013620024826,0.9999068664856711,0.9999121958366932,0.999917280793503,0.9999220910338381,0.9999267162914137,0.9999309511315764,0.9999348959198754,0.9999386070133429,0.9999422560005251,0.9999457290422139,0.9999491101368873,0.9999520129168555,0.9999548225311087,0.9999575454860489,0.9999601370421015,0.999962631669296,0.999965079872319,0.9999672991131048,0.9999692957347373,0.9999712453288286,0.9999730608713079,0.9999747887074592,0.9999763865305409,0.9999779520186088,0.9999794417346952,0.9999808495005039,0.9999821622317919,0.9999834086046392,0.9999846093166573,0.9999857155284133,0.9999867722351737,0.9999877295982357,0.9999886641120924,0.9999895331237054,0.9999903454598548,0.9999911270181477,0.9999918568912979,0.9999925568243224,0.9999931811402073,0.9999937534072563,0.9999942727107555,0.9999947827305877,0.9999952609104599,0.9999957266089167,0.9999961297566246,0.9999965221171693,0.999996883919327,0.9999971914316064,0.9999974781817399,0.9999977503953151,0.9999980093775551,0.9999982509890752,0.9999984615581345,0.9999986475134693,0.9999988108213159,0.9999989512909108,0.9999990797253709,0.9999991906211531,0.9999992981381796,0.9999993802512488,0.999999455073476,0.999999517324,0.9999995786465768,0.9999996343601559,0.9999996874677075,0.9999997333821878,0.9999997729147679,0.9999998043008739,0.99999983234098,0.9999998591724066,0.9999998819199409,0.9999999006146122,0.9999999169661751,0.9999999317258004,0.9999999445679776,0.9999999561704818,0.9999999625892699,0.9999999686049745,0.9999999740535886,0.999999979104413,0.9999999832655906,0.9999999865842307,0.9999999896986685,0.9999999918545918,0.9999999934476872,0.9999999948604686,0.9999999958230235,0.9999999967762371,0.999999997536443,0.9999999981928486,0.9999999986346655,0.9999999989730957,0.9999999992133908,0.9999999993829825,0.999999999519415,0.9999999996355566,0.9999999997220478,0.9999999997840582,0.9999999998347523,0.9999999998753458,0.9999999999070567,0.9999999999293849,0.9999999999479592,0.9999999999594428,0.9999999999702257,0.9999999999778336,0.9999999999831756,0.9999999999870582,0.9999999999903445,0.9999999999925263,0.9999999999942702,0.9999999999959357,0.9999999999969316,0.9999999999975607,0.9999999999980995,0.9999999999985242,0.9999999999989198,0.9999999999991903,0.9999999999993762,0.999999999999519,0.9999999999996296,0.9999999999997056,0.9999999999997663,0.9999999999998095,0.9999999999998394,0.999999999999867,0.9999999999998893,0.9999999999999103,0.9999999999999277,0.9999999999999437,0.9999999999999554,0.9999999999999647,0.9999999999999721,0.9999999999999775,0.9999999999999809,0.9999999999999841,0.9999999999999865,0.9999999999999883,0.9999999999999901,0.9999999999999917,0.9999999999999929,0.9999999999999939,0.9999999999999949,0.9999999999999957,0.9999999999999964,0.999999999999997,0.9999999999999974,0.9999999999999979,0.9999999999999982,0.9999999999999984,0.9999999999999987,0.9999999999999989,0.9999999999999991,0.9999999999999992,0.9999999999999993,0.9999999999999994,0.9999999999999996,0.9999999999999997,0.9999999999999998,0.9999999999999999,1.0,1.0,1.0,1.0,1.0,1.0,1.0,1.0,1.0,1.0,1.0,1.0,1.0,1.0,1.0,1.0,1.0,1.0,1.0,1.0,1.0,1.0,1.0,1.0,1.0,1.0,1.0,1.0,1.0,1.0,1.0,1.0,1.0,1.0,1.0,1.0,1.0,1.0,1.0,1.0,1.0,1.0,1.0,1.0,1.0,1.0,1.0,1.0,1.0,1.0,1.0,1.0,1.0,1.0,1.0,1.0,1.0,1.0,1.0,1.0,1.0,1.0,1.0,1.0,1.0,1.0,1.0,1.0,1.0,1.0,1.0,1.0,1.0,1.0,1.0,1.0,1.0,1.0,1.0,1.0,1.0,1.0,1.0,1.0,1.0,1.0,1.0,1.0,1.0,1.0,1.0,1.0,1.0,1.0,1.0,1.0,1.0,1.0,1.0,1.0,1.0,1.0,1.0,1.0,1.0,1.0,1.0,1.0,1.0,1.0,1.0,1.0,1.0,1.0,1.0,1.0,1.0,1.0,1.0,1.0,1.0,1.0,1.0,1.0,1.0],\"yaxis\":\"y\",\"type\":\"scatter\"}],                        {\"template\":{\"data\":{\"bar\":[{\"error_x\":{\"color\":\"#2a3f5f\"},\"error_y\":{\"color\":\"#2a3f5f\"},\"marker\":{\"line\":{\"color\":\"#E5ECF6\",\"width\":0.5},\"pattern\":{\"fillmode\":\"overlay\",\"size\":10,\"solidity\":0.2}},\"type\":\"bar\"}],\"barpolar\":[{\"marker\":{\"line\":{\"color\":\"#E5ECF6\",\"width\":0.5},\"pattern\":{\"fillmode\":\"overlay\",\"size\":10,\"solidity\":0.2}},\"type\":\"barpolar\"}],\"carpet\":[{\"aaxis\":{\"endlinecolor\":\"#2a3f5f\",\"gridcolor\":\"white\",\"linecolor\":\"white\",\"minorgridcolor\":\"white\",\"startlinecolor\":\"#2a3f5f\"},\"baxis\":{\"endlinecolor\":\"#2a3f5f\",\"gridcolor\":\"white\",\"linecolor\":\"white\",\"minorgridcolor\":\"white\",\"startlinecolor\":\"#2a3f5f\"},\"type\":\"carpet\"}],\"choropleth\":[{\"colorbar\":{\"outlinewidth\":0,\"ticks\":\"\"},\"type\":\"choropleth\"}],\"contour\":[{\"colorbar\":{\"outlinewidth\":0,\"ticks\":\"\"},\"colorscale\":[[0.0,\"#0d0887\"],[0.1111111111111111,\"#46039f\"],[0.2222222222222222,\"#7201a8\"],[0.3333333333333333,\"#9c179e\"],[0.4444444444444444,\"#bd3786\"],[0.5555555555555556,\"#d8576b\"],[0.6666666666666666,\"#ed7953\"],[0.7777777777777778,\"#fb9f3a\"],[0.8888888888888888,\"#fdca26\"],[1.0,\"#f0f921\"]],\"type\":\"contour\"}],\"contourcarpet\":[{\"colorbar\":{\"outlinewidth\":0,\"ticks\":\"\"},\"type\":\"contourcarpet\"}],\"heatmap\":[{\"colorbar\":{\"outlinewidth\":0,\"ticks\":\"\"},\"colorscale\":[[0.0,\"#0d0887\"],[0.1111111111111111,\"#46039f\"],[0.2222222222222222,\"#7201a8\"],[0.3333333333333333,\"#9c179e\"],[0.4444444444444444,\"#bd3786\"],[0.5555555555555556,\"#d8576b\"],[0.6666666666666666,\"#ed7953\"],[0.7777777777777778,\"#fb9f3a\"],[0.8888888888888888,\"#fdca26\"],[1.0,\"#f0f921\"]],\"type\":\"heatmap\"}],\"heatmapgl\":[{\"colorbar\":{\"outlinewidth\":0,\"ticks\":\"\"},\"colorscale\":[[0.0,\"#0d0887\"],[0.1111111111111111,\"#46039f\"],[0.2222222222222222,\"#7201a8\"],[0.3333333333333333,\"#9c179e\"],[0.4444444444444444,\"#bd3786\"],[0.5555555555555556,\"#d8576b\"],[0.6666666666666666,\"#ed7953\"],[0.7777777777777778,\"#fb9f3a\"],[0.8888888888888888,\"#fdca26\"],[1.0,\"#f0f921\"]],\"type\":\"heatmapgl\"}],\"histogram\":[{\"marker\":{\"pattern\":{\"fillmode\":\"overlay\",\"size\":10,\"solidity\":0.2}},\"type\":\"histogram\"}],\"histogram2d\":[{\"colorbar\":{\"outlinewidth\":0,\"ticks\":\"\"},\"colorscale\":[[0.0,\"#0d0887\"],[0.1111111111111111,\"#46039f\"],[0.2222222222222222,\"#7201a8\"],[0.3333333333333333,\"#9c179e\"],[0.4444444444444444,\"#bd3786\"],[0.5555555555555556,\"#d8576b\"],[0.6666666666666666,\"#ed7953\"],[0.7777777777777778,\"#fb9f3a\"],[0.8888888888888888,\"#fdca26\"],[1.0,\"#f0f921\"]],\"type\":\"histogram2d\"}],\"histogram2dcontour\":[{\"colorbar\":{\"outlinewidth\":0,\"ticks\":\"\"},\"colorscale\":[[0.0,\"#0d0887\"],[0.1111111111111111,\"#46039f\"],[0.2222222222222222,\"#7201a8\"],[0.3333333333333333,\"#9c179e\"],[0.4444444444444444,\"#bd3786\"],[0.5555555555555556,\"#d8576b\"],[0.6666666666666666,\"#ed7953\"],[0.7777777777777778,\"#fb9f3a\"],[0.8888888888888888,\"#fdca26\"],[1.0,\"#f0f921\"]],\"type\":\"histogram2dcontour\"}],\"mesh3d\":[{\"colorbar\":{\"outlinewidth\":0,\"ticks\":\"\"},\"type\":\"mesh3d\"}],\"parcoords\":[{\"line\":{\"colorbar\":{\"outlinewidth\":0,\"ticks\":\"\"}},\"type\":\"parcoords\"}],\"pie\":[{\"automargin\":true,\"type\":\"pie\"}],\"scatter\":[{\"marker\":{\"colorbar\":{\"outlinewidth\":0,\"ticks\":\"\"}},\"type\":\"scatter\"}],\"scatter3d\":[{\"line\":{\"colorbar\":{\"outlinewidth\":0,\"ticks\":\"\"}},\"marker\":{\"colorbar\":{\"outlinewidth\":0,\"ticks\":\"\"}},\"type\":\"scatter3d\"}],\"scattercarpet\":[{\"marker\":{\"colorbar\":{\"outlinewidth\":0,\"ticks\":\"\"}},\"type\":\"scattercarpet\"}],\"scattergeo\":[{\"marker\":{\"colorbar\":{\"outlinewidth\":0,\"ticks\":\"\"}},\"type\":\"scattergeo\"}],\"scattergl\":[{\"marker\":{\"colorbar\":{\"outlinewidth\":0,\"ticks\":\"\"}},\"type\":\"scattergl\"}],\"scattermapbox\":[{\"marker\":{\"colorbar\":{\"outlinewidth\":0,\"ticks\":\"\"}},\"type\":\"scattermapbox\"}],\"scatterpolar\":[{\"marker\":{\"colorbar\":{\"outlinewidth\":0,\"ticks\":\"\"}},\"type\":\"scatterpolar\"}],\"scatterpolargl\":[{\"marker\":{\"colorbar\":{\"outlinewidth\":0,\"ticks\":\"\"}},\"type\":\"scatterpolargl\"}],\"scatterternary\":[{\"marker\":{\"colorbar\":{\"outlinewidth\":0,\"ticks\":\"\"}},\"type\":\"scatterternary\"}],\"surface\":[{\"colorbar\":{\"outlinewidth\":0,\"ticks\":\"\"},\"colorscale\":[[0.0,\"#0d0887\"],[0.1111111111111111,\"#46039f\"],[0.2222222222222222,\"#7201a8\"],[0.3333333333333333,\"#9c179e\"],[0.4444444444444444,\"#bd3786\"],[0.5555555555555556,\"#d8576b\"],[0.6666666666666666,\"#ed7953\"],[0.7777777777777778,\"#fb9f3a\"],[0.8888888888888888,\"#fdca26\"],[1.0,\"#f0f921\"]],\"type\":\"surface\"}],\"table\":[{\"cells\":{\"fill\":{\"color\":\"#EBF0F8\"},\"line\":{\"color\":\"white\"}},\"header\":{\"fill\":{\"color\":\"#C8D4E3\"},\"line\":{\"color\":\"white\"}},\"type\":\"table\"}]},\"layout\":{\"annotationdefaults\":{\"arrowcolor\":\"#2a3f5f\",\"arrowhead\":0,\"arrowwidth\":1},\"autotypenumbers\":\"strict\",\"coloraxis\":{\"colorbar\":{\"outlinewidth\":0,\"ticks\":\"\"}},\"colorscale\":{\"diverging\":[[0,\"#8e0152\"],[0.1,\"#c51b7d\"],[0.2,\"#de77ae\"],[0.3,\"#f1b6da\"],[0.4,\"#fde0ef\"],[0.5,\"#f7f7f7\"],[0.6,\"#e6f5d0\"],[0.7,\"#b8e186\"],[0.8,\"#7fbc41\"],[0.9,\"#4d9221\"],[1,\"#276419\"]],\"sequential\":[[0.0,\"#0d0887\"],[0.1111111111111111,\"#46039f\"],[0.2222222222222222,\"#7201a8\"],[0.3333333333333333,\"#9c179e\"],[0.4444444444444444,\"#bd3786\"],[0.5555555555555556,\"#d8576b\"],[0.6666666666666666,\"#ed7953\"],[0.7777777777777778,\"#fb9f3a\"],[0.8888888888888888,\"#fdca26\"],[1.0,\"#f0f921\"]],\"sequentialminus\":[[0.0,\"#0d0887\"],[0.1111111111111111,\"#46039f\"],[0.2222222222222222,\"#7201a8\"],[0.3333333333333333,\"#9c179e\"],[0.4444444444444444,\"#bd3786\"],[0.5555555555555556,\"#d8576b\"],[0.6666666666666666,\"#ed7953\"],[0.7777777777777778,\"#fb9f3a\"],[0.8888888888888888,\"#fdca26\"],[1.0,\"#f0f921\"]]},\"colorway\":[\"#636efa\",\"#EF553B\",\"#00cc96\",\"#ab63fa\",\"#FFA15A\",\"#19d3f3\",\"#FF6692\",\"#B6E880\",\"#FF97FF\",\"#FECB52\"],\"font\":{\"color\":\"#2a3f5f\"},\"geo\":{\"bgcolor\":\"white\",\"lakecolor\":\"white\",\"landcolor\":\"#E5ECF6\",\"showlakes\":true,\"showland\":true,\"subunitcolor\":\"white\"},\"hoverlabel\":{\"align\":\"left\"},\"hovermode\":\"closest\",\"mapbox\":{\"style\":\"light\"},\"paper_bgcolor\":\"white\",\"plot_bgcolor\":\"#E5ECF6\",\"polar\":{\"angularaxis\":{\"gridcolor\":\"white\",\"linecolor\":\"white\",\"ticks\":\"\"},\"bgcolor\":\"#E5ECF6\",\"radialaxis\":{\"gridcolor\":\"white\",\"linecolor\":\"white\",\"ticks\":\"\"}},\"scene\":{\"xaxis\":{\"backgroundcolor\":\"#E5ECF6\",\"gridcolor\":\"white\",\"gridwidth\":2,\"linecolor\":\"white\",\"showbackground\":true,\"ticks\":\"\",\"zerolinecolor\":\"white\"},\"yaxis\":{\"backgroundcolor\":\"#E5ECF6\",\"gridcolor\":\"white\",\"gridwidth\":2,\"linecolor\":\"white\",\"showbackground\":true,\"ticks\":\"\",\"zerolinecolor\":\"white\"},\"zaxis\":{\"backgroundcolor\":\"#E5ECF6\",\"gridcolor\":\"white\",\"gridwidth\":2,\"linecolor\":\"white\",\"showbackground\":true,\"ticks\":\"\",\"zerolinecolor\":\"white\"}},\"shapedefaults\":{\"line\":{\"color\":\"#2a3f5f\"}},\"ternary\":{\"aaxis\":{\"gridcolor\":\"white\",\"linecolor\":\"white\",\"ticks\":\"\"},\"baxis\":{\"gridcolor\":\"white\",\"linecolor\":\"white\",\"ticks\":\"\"},\"bgcolor\":\"#E5ECF6\",\"caxis\":{\"gridcolor\":\"white\",\"linecolor\":\"white\",\"ticks\":\"\"}},\"title\":{\"x\":0.05},\"xaxis\":{\"automargin\":true,\"gridcolor\":\"white\",\"linecolor\":\"white\",\"ticks\":\"\",\"title\":{\"standoff\":15},\"zerolinecolor\":\"white\",\"zerolinewidth\":2},\"yaxis\":{\"automargin\":true,\"gridcolor\":\"white\",\"linecolor\":\"white\",\"ticks\":\"\",\"title\":{\"standoff\":15},\"zerolinecolor\":\"white\",\"zerolinewidth\":2}}},\"xaxis\":{\"anchor\":\"y\",\"domain\":[0.0,1.0],\"title\":{\"text\":\"# Components\"}},\"yaxis\":{\"anchor\":\"x\",\"domain\":[0.0,1.0],\"title\":{\"text\":\"Explained Variance\"}},\"legend\":{\"tracegroupgap\":0},\"margin\":{\"t\":60}},                        {\"responsive\": true}                    ).then(function(){\n",
              "                            \n",
              "var gd = document.getElementById('aaf0fe45-a8f0-4166-b1dc-9d0291ecbaa2');\n",
              "var x = new MutationObserver(function (mutations, observer) {{\n",
              "        var display = window.getComputedStyle(gd).display;\n",
              "        if (!display || display === 'none') {{\n",
              "            console.log([gd, 'removed!']);\n",
              "            Plotly.purge(gd);\n",
              "            observer.disconnect();\n",
              "        }}\n",
              "}});\n",
              "\n",
              "// Listen for the removal of the full notebook cells\n",
              "var notebookContainer = gd.closest('#notebook-container');\n",
              "if (notebookContainer) {{\n",
              "    x.observe(notebookContainer, {childList: true});\n",
              "}}\n",
              "\n",
              "// Listen for the clearing of the current output cell\n",
              "var outputEl = gd.closest('.output');\n",
              "if (outputEl) {{\n",
              "    x.observe(outputEl, {childList: true});\n",
              "}}\n",
              "\n",
              "                        })                };                            </script>        </div>\n",
              "</body>\n",
              "</html>"
            ]
          },
          "metadata": {}
        }
      ]
    },
    {
      "cell_type": "code",
      "source": [
        "from sklearn.decomposition import PCA\n",
        "\n",
        "pca = PCA(0.95)\n",
        "X_train = pca.fit_transform(X_train)\n",
        "X_test = pca.transform(X_test)"
      ],
      "metadata": {
        "id": "viJ-EgjB2oML"
      },
      "execution_count": null,
      "outputs": []
    },
    {
      "cell_type": "code",
      "source": [
        ""
      ],
      "metadata": {
        "id": "RV4rvtbs4CAu"
      },
      "execution_count": null,
      "outputs": []
    },
    {
      "cell_type": "code",
      "source": [
        "explained_variance = pca.explained_variance_ratio_\n",
        "len(explained_variance)"
      ],
      "metadata": {
        "colab": {
          "base_uri": "https://localhost:8080/"
        },
        "id": "TaVmCOMF2nu-",
        "outputId": "aa870845-5a5a-4640-ff56-ae8d127e49de"
      },
      "execution_count": null,
      "outputs": [
        {
          "output_type": "execute_result",
          "data": {
            "text/plain": [
              "72"
            ]
          },
          "metadata": {},
          "execution_count": 52
        }
      ]
    },
    {
      "cell_type": "markdown",
      "source": [
        "## Logistic Regression"
      ],
      "metadata": {
        "id": "2EQ52gpC4qQI"
      }
    },
    {
      "cell_type": "code",
      "source": [
        "from sklearn.linear_model import LogisticRegression\n",
        "import seaborn as sns\n",
        "from sklearn.preprocessing import StandardScaler\n",
        "from sklearn.pipeline import make_pipeline\n",
        "\n",
        "lr_clf = make_pipeline(StandardScaler(), LogisticRegression(solver='liblinear', class_weight='balanced' , C = 0.1))     # Best Result\n",
        "lr_clf.fit(X_train, y_train)\n",
        "lr_yhat = lr_clf.predict(X_test)"
      ],
      "metadata": {
        "id": "RujSo5tH2noZ"
      },
      "execution_count": null,
      "outputs": []
    },
    {
      "cell_type": "code",
      "source": [
        "import plotly.express as px\n",
        "from sklearn import metrics\n",
        "\n",
        "lr_acc_train = round( metrics.accuracy_score(y_train, lr_clf.predict(X_train))*100 ,2)\n",
        "lr_acc_test = round( metrics.accuracy_score(y_test, lr_yhat)*100 ,2)\n",
        "lr_jac_train = round( metrics.jaccard_score(y_train, lr_clf.predict(X_train),average='weighted')*100 ,2)\n",
        "lr_jac_test = round( metrics.jaccard_score(y_test, lr_yhat,average='weighted')*100 ,2)\n",
        "\n",
        "lr_df1 = pd.DataFrame({'percent':[lr_acc_train,lr_acc_test,lr_jac_train,lr_jac_test],\n",
        "                       'label' : ['train' , 'test' , 'train' , 'test'],\n",
        "                       'metric': ['Accuracy' , 'Accuracy' , 'Weighted Jaccard Score' , 'Weighted Jaccard Score']})\n",
        "\n",
        "\n",
        "fig = px.bar(lr_df1 , x='metric' , y='percent' , color='label' ,\n",
        "             title='Logistic Regression Accuracy/Jaccard for Train/Test Data (First Try) with pca' ,\n",
        "             text=\"percent\", barmode=\"group\")\n",
        "fig.show()"
      ],
      "metadata": {
        "colab": {
          "base_uri": "https://localhost:8080/",
          "height": 542
        },
        "id": "aZ5UujzO464e",
        "outputId": "220481f1-1c1c-4e17-ce9b-7c0423592e38"
      },
      "execution_count": null,
      "outputs": [
        {
          "output_type": "display_data",
          "data": {
            "text/html": [
              "<html>\n",
              "<head><meta charset=\"utf-8\" /></head>\n",
              "<body>\n",
              "    <div>            <script src=\"https://cdnjs.cloudflare.com/ajax/libs/mathjax/2.7.5/MathJax.js?config=TeX-AMS-MML_SVG\"></script><script type=\"text/javascript\">if (window.MathJax) {MathJax.Hub.Config({SVG: {font: \"STIX-Web\"}});}</script>                <script type=\"text/javascript\">window.PlotlyConfig = {MathJaxConfig: 'local'};</script>\n",
              "        <script src=\"https://cdn.plot.ly/plotly-2.8.3.min.js\"></script>                <div id=\"ad964f0f-bc75-4d7e-bfa2-914f4036a0ec\" class=\"plotly-graph-div\" style=\"height:525px; width:100%;\"></div>            <script type=\"text/javascript\">                                    window.PLOTLYENV=window.PLOTLYENV || {};                                    if (document.getElementById(\"ad964f0f-bc75-4d7e-bfa2-914f4036a0ec\")) {                    Plotly.newPlot(                        \"ad964f0f-bc75-4d7e-bfa2-914f4036a0ec\",                        [{\"alignmentgroup\":\"True\",\"hovertemplate\":\"label=train<br>metric=%{x}<br>percent=%{text}<extra></extra>\",\"legendgroup\":\"train\",\"marker\":{\"color\":\"#636efa\",\"pattern\":{\"shape\":\"\"}},\"name\":\"train\",\"offsetgroup\":\"train\",\"orientation\":\"v\",\"showlegend\":true,\"text\":[84.96,73.86],\"textposition\":\"auto\",\"x\":[\"Accuracy\",\"Weighted Jaccard Score\"],\"xaxis\":\"x\",\"y\":[84.96,73.86],\"yaxis\":\"y\",\"type\":\"bar\"},{\"alignmentgroup\":\"True\",\"hovertemplate\":\"label=test<br>metric=%{x}<br>percent=%{text}<extra></extra>\",\"legendgroup\":\"test\",\"marker\":{\"color\":\"#EF553B\",\"pattern\":{\"shape\":\"\"}},\"name\":\"test\",\"offsetgroup\":\"test\",\"orientation\":\"v\",\"showlegend\":true,\"text\":[85.57,74.79],\"textposition\":\"auto\",\"x\":[\"Accuracy\",\"Weighted Jaccard Score\"],\"xaxis\":\"x\",\"y\":[85.57,74.79],\"yaxis\":\"y\",\"type\":\"bar\"}],                        {\"template\":{\"data\":{\"bar\":[{\"error_x\":{\"color\":\"#2a3f5f\"},\"error_y\":{\"color\":\"#2a3f5f\"},\"marker\":{\"line\":{\"color\":\"#E5ECF6\",\"width\":0.5},\"pattern\":{\"fillmode\":\"overlay\",\"size\":10,\"solidity\":0.2}},\"type\":\"bar\"}],\"barpolar\":[{\"marker\":{\"line\":{\"color\":\"#E5ECF6\",\"width\":0.5},\"pattern\":{\"fillmode\":\"overlay\",\"size\":10,\"solidity\":0.2}},\"type\":\"barpolar\"}],\"carpet\":[{\"aaxis\":{\"endlinecolor\":\"#2a3f5f\",\"gridcolor\":\"white\",\"linecolor\":\"white\",\"minorgridcolor\":\"white\",\"startlinecolor\":\"#2a3f5f\"},\"baxis\":{\"endlinecolor\":\"#2a3f5f\",\"gridcolor\":\"white\",\"linecolor\":\"white\",\"minorgridcolor\":\"white\",\"startlinecolor\":\"#2a3f5f\"},\"type\":\"carpet\"}],\"choropleth\":[{\"colorbar\":{\"outlinewidth\":0,\"ticks\":\"\"},\"type\":\"choropleth\"}],\"contour\":[{\"colorbar\":{\"outlinewidth\":0,\"ticks\":\"\"},\"colorscale\":[[0.0,\"#0d0887\"],[0.1111111111111111,\"#46039f\"],[0.2222222222222222,\"#7201a8\"],[0.3333333333333333,\"#9c179e\"],[0.4444444444444444,\"#bd3786\"],[0.5555555555555556,\"#d8576b\"],[0.6666666666666666,\"#ed7953\"],[0.7777777777777778,\"#fb9f3a\"],[0.8888888888888888,\"#fdca26\"],[1.0,\"#f0f921\"]],\"type\":\"contour\"}],\"contourcarpet\":[{\"colorbar\":{\"outlinewidth\":0,\"ticks\":\"\"},\"type\":\"contourcarpet\"}],\"heatmap\":[{\"colorbar\":{\"outlinewidth\":0,\"ticks\":\"\"},\"colorscale\":[[0.0,\"#0d0887\"],[0.1111111111111111,\"#46039f\"],[0.2222222222222222,\"#7201a8\"],[0.3333333333333333,\"#9c179e\"],[0.4444444444444444,\"#bd3786\"],[0.5555555555555556,\"#d8576b\"],[0.6666666666666666,\"#ed7953\"],[0.7777777777777778,\"#fb9f3a\"],[0.8888888888888888,\"#fdca26\"],[1.0,\"#f0f921\"]],\"type\":\"heatmap\"}],\"heatmapgl\":[{\"colorbar\":{\"outlinewidth\":0,\"ticks\":\"\"},\"colorscale\":[[0.0,\"#0d0887\"],[0.1111111111111111,\"#46039f\"],[0.2222222222222222,\"#7201a8\"],[0.3333333333333333,\"#9c179e\"],[0.4444444444444444,\"#bd3786\"],[0.5555555555555556,\"#d8576b\"],[0.6666666666666666,\"#ed7953\"],[0.7777777777777778,\"#fb9f3a\"],[0.8888888888888888,\"#fdca26\"],[1.0,\"#f0f921\"]],\"type\":\"heatmapgl\"}],\"histogram\":[{\"marker\":{\"pattern\":{\"fillmode\":\"overlay\",\"size\":10,\"solidity\":0.2}},\"type\":\"histogram\"}],\"histogram2d\":[{\"colorbar\":{\"outlinewidth\":0,\"ticks\":\"\"},\"colorscale\":[[0.0,\"#0d0887\"],[0.1111111111111111,\"#46039f\"],[0.2222222222222222,\"#7201a8\"],[0.3333333333333333,\"#9c179e\"],[0.4444444444444444,\"#bd3786\"],[0.5555555555555556,\"#d8576b\"],[0.6666666666666666,\"#ed7953\"],[0.7777777777777778,\"#fb9f3a\"],[0.8888888888888888,\"#fdca26\"],[1.0,\"#f0f921\"]],\"type\":\"histogram2d\"}],\"histogram2dcontour\":[{\"colorbar\":{\"outlinewidth\":0,\"ticks\":\"\"},\"colorscale\":[[0.0,\"#0d0887\"],[0.1111111111111111,\"#46039f\"],[0.2222222222222222,\"#7201a8\"],[0.3333333333333333,\"#9c179e\"],[0.4444444444444444,\"#bd3786\"],[0.5555555555555556,\"#d8576b\"],[0.6666666666666666,\"#ed7953\"],[0.7777777777777778,\"#fb9f3a\"],[0.8888888888888888,\"#fdca26\"],[1.0,\"#f0f921\"]],\"type\":\"histogram2dcontour\"}],\"mesh3d\":[{\"colorbar\":{\"outlinewidth\":0,\"ticks\":\"\"},\"type\":\"mesh3d\"}],\"parcoords\":[{\"line\":{\"colorbar\":{\"outlinewidth\":0,\"ticks\":\"\"}},\"type\":\"parcoords\"}],\"pie\":[{\"automargin\":true,\"type\":\"pie\"}],\"scatter\":[{\"marker\":{\"colorbar\":{\"outlinewidth\":0,\"ticks\":\"\"}},\"type\":\"scatter\"}],\"scatter3d\":[{\"line\":{\"colorbar\":{\"outlinewidth\":0,\"ticks\":\"\"}},\"marker\":{\"colorbar\":{\"outlinewidth\":0,\"ticks\":\"\"}},\"type\":\"scatter3d\"}],\"scattercarpet\":[{\"marker\":{\"colorbar\":{\"outlinewidth\":0,\"ticks\":\"\"}},\"type\":\"scattercarpet\"}],\"scattergeo\":[{\"marker\":{\"colorbar\":{\"outlinewidth\":0,\"ticks\":\"\"}},\"type\":\"scattergeo\"}],\"scattergl\":[{\"marker\":{\"colorbar\":{\"outlinewidth\":0,\"ticks\":\"\"}},\"type\":\"scattergl\"}],\"scattermapbox\":[{\"marker\":{\"colorbar\":{\"outlinewidth\":0,\"ticks\":\"\"}},\"type\":\"scattermapbox\"}],\"scatterpolar\":[{\"marker\":{\"colorbar\":{\"outlinewidth\":0,\"ticks\":\"\"}},\"type\":\"scatterpolar\"}],\"scatterpolargl\":[{\"marker\":{\"colorbar\":{\"outlinewidth\":0,\"ticks\":\"\"}},\"type\":\"scatterpolargl\"}],\"scatterternary\":[{\"marker\":{\"colorbar\":{\"outlinewidth\":0,\"ticks\":\"\"}},\"type\":\"scatterternary\"}],\"surface\":[{\"colorbar\":{\"outlinewidth\":0,\"ticks\":\"\"},\"colorscale\":[[0.0,\"#0d0887\"],[0.1111111111111111,\"#46039f\"],[0.2222222222222222,\"#7201a8\"],[0.3333333333333333,\"#9c179e\"],[0.4444444444444444,\"#bd3786\"],[0.5555555555555556,\"#d8576b\"],[0.6666666666666666,\"#ed7953\"],[0.7777777777777778,\"#fb9f3a\"],[0.8888888888888888,\"#fdca26\"],[1.0,\"#f0f921\"]],\"type\":\"surface\"}],\"table\":[{\"cells\":{\"fill\":{\"color\":\"#EBF0F8\"},\"line\":{\"color\":\"white\"}},\"header\":{\"fill\":{\"color\":\"#C8D4E3\"},\"line\":{\"color\":\"white\"}},\"type\":\"table\"}]},\"layout\":{\"annotationdefaults\":{\"arrowcolor\":\"#2a3f5f\",\"arrowhead\":0,\"arrowwidth\":1},\"autotypenumbers\":\"strict\",\"coloraxis\":{\"colorbar\":{\"outlinewidth\":0,\"ticks\":\"\"}},\"colorscale\":{\"diverging\":[[0,\"#8e0152\"],[0.1,\"#c51b7d\"],[0.2,\"#de77ae\"],[0.3,\"#f1b6da\"],[0.4,\"#fde0ef\"],[0.5,\"#f7f7f7\"],[0.6,\"#e6f5d0\"],[0.7,\"#b8e186\"],[0.8,\"#7fbc41\"],[0.9,\"#4d9221\"],[1,\"#276419\"]],\"sequential\":[[0.0,\"#0d0887\"],[0.1111111111111111,\"#46039f\"],[0.2222222222222222,\"#7201a8\"],[0.3333333333333333,\"#9c179e\"],[0.4444444444444444,\"#bd3786\"],[0.5555555555555556,\"#d8576b\"],[0.6666666666666666,\"#ed7953\"],[0.7777777777777778,\"#fb9f3a\"],[0.8888888888888888,\"#fdca26\"],[1.0,\"#f0f921\"]],\"sequentialminus\":[[0.0,\"#0d0887\"],[0.1111111111111111,\"#46039f\"],[0.2222222222222222,\"#7201a8\"],[0.3333333333333333,\"#9c179e\"],[0.4444444444444444,\"#bd3786\"],[0.5555555555555556,\"#d8576b\"],[0.6666666666666666,\"#ed7953\"],[0.7777777777777778,\"#fb9f3a\"],[0.8888888888888888,\"#fdca26\"],[1.0,\"#f0f921\"]]},\"colorway\":[\"#636efa\",\"#EF553B\",\"#00cc96\",\"#ab63fa\",\"#FFA15A\",\"#19d3f3\",\"#FF6692\",\"#B6E880\",\"#FF97FF\",\"#FECB52\"],\"font\":{\"color\":\"#2a3f5f\"},\"geo\":{\"bgcolor\":\"white\",\"lakecolor\":\"white\",\"landcolor\":\"#E5ECF6\",\"showlakes\":true,\"showland\":true,\"subunitcolor\":\"white\"},\"hoverlabel\":{\"align\":\"left\"},\"hovermode\":\"closest\",\"mapbox\":{\"style\":\"light\"},\"paper_bgcolor\":\"white\",\"plot_bgcolor\":\"#E5ECF6\",\"polar\":{\"angularaxis\":{\"gridcolor\":\"white\",\"linecolor\":\"white\",\"ticks\":\"\"},\"bgcolor\":\"#E5ECF6\",\"radialaxis\":{\"gridcolor\":\"white\",\"linecolor\":\"white\",\"ticks\":\"\"}},\"scene\":{\"xaxis\":{\"backgroundcolor\":\"#E5ECF6\",\"gridcolor\":\"white\",\"gridwidth\":2,\"linecolor\":\"white\",\"showbackground\":true,\"ticks\":\"\",\"zerolinecolor\":\"white\"},\"yaxis\":{\"backgroundcolor\":\"#E5ECF6\",\"gridcolor\":\"white\",\"gridwidth\":2,\"linecolor\":\"white\",\"showbackground\":true,\"ticks\":\"\",\"zerolinecolor\":\"white\"},\"zaxis\":{\"backgroundcolor\":\"#E5ECF6\",\"gridcolor\":\"white\",\"gridwidth\":2,\"linecolor\":\"white\",\"showbackground\":true,\"ticks\":\"\",\"zerolinecolor\":\"white\"}},\"shapedefaults\":{\"line\":{\"color\":\"#2a3f5f\"}},\"ternary\":{\"aaxis\":{\"gridcolor\":\"white\",\"linecolor\":\"white\",\"ticks\":\"\"},\"baxis\":{\"gridcolor\":\"white\",\"linecolor\":\"white\",\"ticks\":\"\"},\"bgcolor\":\"#E5ECF6\",\"caxis\":{\"gridcolor\":\"white\",\"linecolor\":\"white\",\"ticks\":\"\"}},\"title\":{\"x\":0.05},\"xaxis\":{\"automargin\":true,\"gridcolor\":\"white\",\"linecolor\":\"white\",\"ticks\":\"\",\"title\":{\"standoff\":15},\"zerolinecolor\":\"white\",\"zerolinewidth\":2},\"yaxis\":{\"automargin\":true,\"gridcolor\":\"white\",\"linecolor\":\"white\",\"ticks\":\"\",\"title\":{\"standoff\":15},\"zerolinecolor\":\"white\",\"zerolinewidth\":2}}},\"xaxis\":{\"anchor\":\"y\",\"domain\":[0.0,1.0],\"title\":{\"text\":\"metric\"}},\"yaxis\":{\"anchor\":\"x\",\"domain\":[0.0,1.0],\"title\":{\"text\":\"percent\"}},\"legend\":{\"title\":{\"text\":\"label\"},\"tracegroupgap\":0},\"title\":{\"text\":\"Logistic Regression Accuracy/Jaccard for Train/Test Data (First Try) with pca\"},\"barmode\":\"group\"},                        {\"responsive\": true}                    ).then(function(){\n",
              "                            \n",
              "var gd = document.getElementById('ad964f0f-bc75-4d7e-bfa2-914f4036a0ec');\n",
              "var x = new MutationObserver(function (mutations, observer) {{\n",
              "        var display = window.getComputedStyle(gd).display;\n",
              "        if (!display || display === 'none') {{\n",
              "            console.log([gd, 'removed!']);\n",
              "            Plotly.purge(gd);\n",
              "            observer.disconnect();\n",
              "        }}\n",
              "}});\n",
              "\n",
              "// Listen for the removal of the full notebook cells\n",
              "var notebookContainer = gd.closest('#notebook-container');\n",
              "if (notebookContainer) {{\n",
              "    x.observe(notebookContainer, {childList: true});\n",
              "}}\n",
              "\n",
              "// Listen for the clearing of the current output cell\n",
              "var outputEl = gd.closest('.output');\n",
              "if (outputEl) {{\n",
              "    x.observe(outputEl, {childList: true});\n",
              "}}\n",
              "\n",
              "                        })                };                            </script>        </div>\n",
              "</body>\n",
              "</html>"
            ]
          },
          "metadata": {}
        }
      ]
    },
    {
      "cell_type": "code",
      "source": [
        "from sklearn.metrics import classification_report, confusion_matrix\n",
        "import matplotlib.pyplot as plt\n",
        "\n",
        "print(\"Train set Accuracy: %\", round( 100* metrics.accuracy_score(y_train, lr_clf.predict(X_train))))\n",
        "print(\"Test set Accuracy: %\", round( 100* metrics.accuracy_score(y_test, lr_yhat)))\n",
        "print('')\n",
        "print (classification_report(y_test, lr_yhat))"
      ],
      "metadata": {
        "colab": {
          "base_uri": "https://localhost:8080/"
        },
        "id": "n35-_G6a5Ix2",
        "outputId": "9d6e90ca-7df9-49ee-8ef3-7837cc0297c6"
      },
      "execution_count": null,
      "outputs": [
        {
          "output_type": "stream",
          "name": "stdout",
          "text": [
            "Train set Accuracy: % 85\n",
            "Test set Accuracy: % 86\n",
            "\n",
            "              precision    recall  f1-score   support\n",
            "\n",
            "           0       0.84      0.87      0.85      1599\n",
            "           1       0.88      0.84      0.86      1734\n",
            "\n",
            "    accuracy                           0.86      3333\n",
            "   macro avg       0.86      0.86      0.86      3333\n",
            "weighted avg       0.86      0.86      0.86      3333\n",
            "\n"
          ]
        }
      ]
    },
    {
      "cell_type": "code",
      "source": [
        "lr_cnf_matrix = confusion_matrix(y_test, lr_yhat)\n",
        "np.set_printoptions(precision=2)\n",
        "\n",
        "labels = [0,1]\n",
        "\n",
        "plt.figure(figsize=(5,5))\n",
        "plot_confusion_matrix(lr_cnf_matrix, classes=labels ,normalize= False,  title='Logistic Regression Confusion Matrix')"
      ],
      "metadata": {
        "colab": {
          "base_uri": "https://localhost:8080/",
          "height": 386
        },
        "id": "ZNZV5-035Iui",
        "outputId": "6dbbeffc-6f7c-4c17-81a2-eb6386f57f28"
      },
      "execution_count": null,
      "outputs": [
        {
          "output_type": "stream",
          "name": "stdout",
          "text": [
            "Confusion matrix, without normalization\n"
          ]
        },
        {
          "output_type": "display_data",
          "data": {
            "text/plain": [
              "<Figure size 360x360 with 2 Axes>"
            ],
            "image/png": "[encoded data removed]"
          },
          "metadata": {
            "needs_background": "light"
          }
        }
      ]
    },
    {
      "cell_type": "markdown",
      "source": [
        "## svm"
      ],
      "metadata": {
        "id": "XEY8gZdQ5o7O"
      }
    },
    {
      "cell_type": "code",
      "source": [
        "from sklearn import svm\n",
        "svm_clf = make_pipeline(StandardScaler(), svm.SVC(kernel='rbf',C=10))\n",
        "svm_clf.fit(X_train,y_train)\n",
        "svm_yhat = svm_clf.predict(X_test)\n"
      ],
      "metadata": {
        "id": "pZCWFMee5ILQ"
      },
      "execution_count": null,
      "outputs": []
    },
    {
      "cell_type": "code",
      "source": [
        "svm_acc_train = round( metrics.accuracy_score(y_train, svm_clf.predict(X_train))*100 ,2)\n",
        "svm_acc_test = round( metrics.accuracy_score(y_test, svm_yhat)*100 ,2)\n",
        "svm_jac_train = round( metrics.jaccard_score(y_train, svm_clf.predict(X_train),average='weighted')*100 ,2)\n",
        "svm_jac_test = round( metrics.jaccard_score(y_test, svm_yhat,average='weighted')*100 ,2)\n",
        "\n",
        "svm_df1 = pd.DataFrame({'percent':[svm_acc_train,svm_acc_test,svm_jac_train,svm_jac_test],\n",
        "                       'label' : ['train' , 'test' , 'train' , 'test'],\n",
        "                       'metric': ['Accuracy' , 'Accuracy' , 'Weighted Jaccard Score' , 'Weighted Jaccard Score']})\n",
        "\n",
        "\n",
        "fig = px.bar(svm_df1 , x='metric' , y='percent' , color='label' ,\n",
        "             title='SVM Accuracy/Jaccard for Train/Test Data with pca(First Try)' ,\n",
        "             text=\"percent\", barmode=\"group\")\n",
        "fig.show()"
      ],
      "metadata": {
        "colab": {
          "base_uri": "https://localhost:8080/",
          "height": 542
        },
        "id": "AeLrAKkJ5vMu",
        "outputId": "25efd4d2-62c2-43d0-f56c-f1628206250e"
      },
      "execution_count": null,
      "outputs": [
        {
          "output_type": "display_data",
          "data": {
            "text/html": [
              "<html>\n",
              "<head><meta charset=\"utf-8\" /></head>\n",
              "<body>\n",
              "    <div>            <script src=\"https://cdnjs.cloudflare.com/ajax/libs/mathjax/2.7.5/MathJax.js?config=TeX-AMS-MML_SVG\"></script><script type=\"text/javascript\">if (window.MathJax) {MathJax.Hub.Config({SVG: {font: \"STIX-Web\"}});}</script>                <script type=\"text/javascript\">window.PlotlyConfig = {MathJaxConfig: 'local'};</script>\n",
              "        <script src=\"https://cdn.plot.ly/plotly-2.8.3.min.js\"></script>                <div id=\"afed1217-a7d0-40ac-aa91-bff6a1eb57c0\" class=\"plotly-graph-div\" style=\"height:525px; width:100%;\"></div>            <script type=\"text/javascript\">                                    window.PLOTLYENV=window.PLOTLYENV || {};                                    if (document.getElementById(\"afed1217-a7d0-40ac-aa91-bff6a1eb57c0\")) {                    Plotly.newPlot(                        \"afed1217-a7d0-40ac-aa91-bff6a1eb57c0\",                        [{\"alignmentgroup\":\"True\",\"hovertemplate\":\"label=train<br>metric=%{x}<br>percent=%{text}<extra></extra>\",\"legendgroup\":\"train\",\"marker\":{\"color\":\"#636efa\",\"pattern\":{\"shape\":\"\"}},\"name\":\"train\",\"offsetgroup\":\"train\",\"orientation\":\"v\",\"showlegend\":true,\"text\":[97.94,95.96],\"textposition\":\"auto\",\"x\":[\"Accuracy\",\"Weighted Jaccard Score\"],\"xaxis\":\"x\",\"y\":[97.94,95.96],\"yaxis\":\"y\",\"type\":\"bar\"},{\"alignmentgroup\":\"True\",\"hovertemplate\":\"label=test<br>metric=%{x}<br>percent=%{text}<extra></extra>\",\"legendgroup\":\"test\",\"marker\":{\"color\":\"#EF553B\",\"pattern\":{\"shape\":\"\"}},\"name\":\"test\",\"offsetgroup\":\"test\",\"orientation\":\"v\",\"showlegend\":true,\"text\":[93.13,87.15],\"textposition\":\"auto\",\"x\":[\"Accuracy\",\"Weighted Jaccard Score\"],\"xaxis\":\"x\",\"y\":[93.13,87.15],\"yaxis\":\"y\",\"type\":\"bar\"}],                        {\"template\":{\"data\":{\"bar\":[{\"error_x\":{\"color\":\"#2a3f5f\"},\"error_y\":{\"color\":\"#2a3f5f\"},\"marker\":{\"line\":{\"color\":\"#E5ECF6\",\"width\":0.5},\"pattern\":{\"fillmode\":\"overlay\",\"size\":10,\"solidity\":0.2}},\"type\":\"bar\"}],\"barpolar\":[{\"marker\":{\"line\":{\"color\":\"#E5ECF6\",\"width\":0.5},\"pattern\":{\"fillmode\":\"overlay\",\"size\":10,\"solidity\":0.2}},\"type\":\"barpolar\"}],\"carpet\":[{\"aaxis\":{\"endlinecolor\":\"#2a3f5f\",\"gridcolor\":\"white\",\"linecolor\":\"white\",\"minorgridcolor\":\"white\",\"startlinecolor\":\"#2a3f5f\"},\"baxis\":{\"endlinecolor\":\"#2a3f5f\",\"gridcolor\":\"white\",\"linecolor\":\"white\",\"minorgridcolor\":\"white\",\"startlinecolor\":\"#2a3f5f\"},\"type\":\"carpet\"}],\"choropleth\":[{\"colorbar\":{\"outlinewidth\":0,\"ticks\":\"\"},\"type\":\"choropleth\"}],\"contour\":[{\"colorbar\":{\"outlinewidth\":0,\"ticks\":\"\"},\"colorscale\":[[0.0,\"#0d0887\"],[0.1111111111111111,\"#46039f\"],[0.2222222222222222,\"#7201a8\"],[0.3333333333333333,\"#9c179e\"],[0.4444444444444444,\"#bd3786\"],[0.5555555555555556,\"#d8576b\"],[0.6666666666666666,\"#ed7953\"],[0.7777777777777778,\"#fb9f3a\"],[0.8888888888888888,\"#fdca26\"],[1.0,\"#f0f921\"]],\"type\":\"contour\"}],\"contourcarpet\":[{\"colorbar\":{\"outlinewidth\":0,\"ticks\":\"\"},\"type\":\"contourcarpet\"}],\"heatmap\":[{\"colorbar\":{\"outlinewidth\":0,\"ticks\":\"\"},\"colorscale\":[[0.0,\"#0d0887\"],[0.1111111111111111,\"#46039f\"],[0.2222222222222222,\"#7201a8\"],[0.3333333333333333,\"#9c179e\"],[0.4444444444444444,\"#bd3786\"],[0.5555555555555556,\"#d8576b\"],[0.6666666666666666,\"#ed7953\"],[0.7777777777777778,\"#fb9f3a\"],[0.8888888888888888,\"#fdca26\"],[1.0,\"#f0f921\"]],\"type\":\"heatmap\"}],\"heatmapgl\":[{\"colorbar\":{\"outlinewidth\":0,\"ticks\":\"\"},\"colorscale\":[[0.0,\"#0d0887\"],[0.1111111111111111,\"#46039f\"],[0.2222222222222222,\"#7201a8\"],[0.3333333333333333,\"#9c179e\"],[0.4444444444444444,\"#bd3786\"],[0.5555555555555556,\"#d8576b\"],[0.6666666666666666,\"#ed7953\"],[0.7777777777777778,\"#fb9f3a\"],[0.8888888888888888,\"#fdca26\"],[1.0,\"#f0f921\"]],\"type\":\"heatmapgl\"}],\"histogram\":[{\"marker\":{\"pattern\":{\"fillmode\":\"overlay\",\"size\":10,\"solidity\":0.2}},\"type\":\"histogram\"}],\"histogram2d\":[{\"colorbar\":{\"outlinewidth\":0,\"ticks\":\"\"},\"colorscale\":[[0.0,\"#0d0887\"],[0.1111111111111111,\"#46039f\"],[0.2222222222222222,\"#7201a8\"],[0.3333333333333333,\"#9c179e\"],[0.4444444444444444,\"#bd3786\"],[0.5555555555555556,\"#d8576b\"],[0.6666666666666666,\"#ed7953\"],[0.7777777777777778,\"#fb9f3a\"],[0.8888888888888888,\"#fdca26\"],[1.0,\"#f0f921\"]],\"type\":\"histogram2d\"}],\"histogram2dcontour\":[{\"colorbar\":{\"outlinewidth\":0,\"ticks\":\"\"},\"colorscale\":[[0.0,\"#0d0887\"],[0.1111111111111111,\"#46039f\"],[0.2222222222222222,\"#7201a8\"],[0.3333333333333333,\"#9c179e\"],[0.4444444444444444,\"#bd3786\"],[0.5555555555555556,\"#d8576b\"],[0.6666666666666666,\"#ed7953\"],[0.7777777777777778,\"#fb9f3a\"],[0.8888888888888888,\"#fdca26\"],[1.0,\"#f0f921\"]],\"type\":\"histogram2dcontour\"}],\"mesh3d\":[{\"colorbar\":{\"outlinewidth\":0,\"ticks\":\"\"},\"type\":\"mesh3d\"}],\"parcoords\":[{\"line\":{\"colorbar\":{\"outlinewidth\":0,\"ticks\":\"\"}},\"type\":\"parcoords\"}],\"pie\":[{\"automargin\":true,\"type\":\"pie\"}],\"scatter\":[{\"marker\":{\"colorbar\":{\"outlinewidth\":0,\"ticks\":\"\"}},\"type\":\"scatter\"}],\"scatter3d\":[{\"line\":{\"colorbar\":{\"outlinewidth\":0,\"ticks\":\"\"}},\"marker\":{\"colorbar\":{\"outlinewidth\":0,\"ticks\":\"\"}},\"type\":\"scatter3d\"}],\"scattercarpet\":[{\"marker\":{\"colorbar\":{\"outlinewidth\":0,\"ticks\":\"\"}},\"type\":\"scattercarpet\"}],\"scattergeo\":[{\"marker\":{\"colorbar\":{\"outlinewidth\":0,\"ticks\":\"\"}},\"type\":\"scattergeo\"}],\"scattergl\":[{\"marker\":{\"colorbar\":{\"outlinewidth\":0,\"ticks\":\"\"}},\"type\":\"scattergl\"}],\"scattermapbox\":[{\"marker\":{\"colorbar\":{\"outlinewidth\":0,\"ticks\":\"\"}},\"type\":\"scattermapbox\"}],\"scatterpolar\":[{\"marker\":{\"colorbar\":{\"outlinewidth\":0,\"ticks\":\"\"}},\"type\":\"scatterpolar\"}],\"scatterpolargl\":[{\"marker\":{\"colorbar\":{\"outlinewidth\":0,\"ticks\":\"\"}},\"type\":\"scatterpolargl\"}],\"scatterternary\":[{\"marker\":{\"colorbar\":{\"outlinewidth\":0,\"ticks\":\"\"}},\"type\":\"scatterternary\"}],\"surface\":[{\"colorbar\":{\"outlinewidth\":0,\"ticks\":\"\"},\"colorscale\":[[0.0,\"#0d0887\"],[0.1111111111111111,\"#46039f\"],[0.2222222222222222,\"#7201a8\"],[0.3333333333333333,\"#9c179e\"],[0.4444444444444444,\"#bd3786\"],[0.5555555555555556,\"#d8576b\"],[0.6666666666666666,\"#ed7953\"],[0.7777777777777778,\"#fb9f3a\"],[0.8888888888888888,\"#fdca26\"],[1.0,\"#f0f921\"]],\"type\":\"surface\"}],\"table\":[{\"cells\":{\"fill\":{\"color\":\"#EBF0F8\"},\"line\":{\"color\":\"white\"}},\"header\":{\"fill\":{\"color\":\"#C8D4E3\"},\"line\":{\"color\":\"white\"}},\"type\":\"table\"}]},\"layout\":{\"annotationdefaults\":{\"arrowcolor\":\"#2a3f5f\",\"arrowhead\":0,\"arrowwidth\":1},\"autotypenumbers\":\"strict\",\"coloraxis\":{\"colorbar\":{\"outlinewidth\":0,\"ticks\":\"\"}},\"colorscale\":{\"diverging\":[[0,\"#8e0152\"],[0.1,\"#c51b7d\"],[0.2,\"#de77ae\"],[0.3,\"#f1b6da\"],[0.4,\"#fde0ef\"],[0.5,\"#f7f7f7\"],[0.6,\"#e6f5d0\"],[0.7,\"#b8e186\"],[0.8,\"#7fbc41\"],[0.9,\"#4d9221\"],[1,\"#276419\"]],\"sequential\":[[0.0,\"#0d0887\"],[0.1111111111111111,\"#46039f\"],[0.2222222222222222,\"#7201a8\"],[0.3333333333333333,\"#9c179e\"],[0.4444444444444444,\"#bd3786\"],[0.5555555555555556,\"#d8576b\"],[0.6666666666666666,\"#ed7953\"],[0.7777777777777778,\"#fb9f3a\"],[0.8888888888888888,\"#fdca26\"],[1.0,\"#f0f921\"]],\"sequentialminus\":[[0.0,\"#0d0887\"],[0.1111111111111111,\"#46039f\"],[0.2222222222222222,\"#7201a8\"],[0.3333333333333333,\"#9c179e\"],[0.4444444444444444,\"#bd3786\"],[0.5555555555555556,\"#d8576b\"],[0.6666666666666666,\"#ed7953\"],[0.7777777777777778,\"#fb9f3a\"],[0.8888888888888888,\"#fdca26\"],[1.0,\"#f0f921\"]]},\"colorway\":[\"#636efa\",\"#EF553B\",\"#00cc96\",\"#ab63fa\",\"#FFA15A\",\"#19d3f3\",\"#FF6692\",\"#B6E880\",\"#FF97FF\",\"#FECB52\"],\"font\":{\"color\":\"#2a3f5f\"},\"geo\":{\"bgcolor\":\"white\",\"lakecolor\":\"white\",\"landcolor\":\"#E5ECF6\",\"showlakes\":true,\"showland\":true,\"subunitcolor\":\"white\"},\"hoverlabel\":{\"align\":\"left\"},\"hovermode\":\"closest\",\"mapbox\":{\"style\":\"light\"},\"paper_bgcolor\":\"white\",\"plot_bgcolor\":\"#E5ECF6\",\"polar\":{\"angularaxis\":{\"gridcolor\":\"white\",\"linecolor\":\"white\",\"ticks\":\"\"},\"bgcolor\":\"#E5ECF6\",\"radialaxis\":{\"gridcolor\":\"white\",\"linecolor\":\"white\",\"ticks\":\"\"}},\"scene\":{\"xaxis\":{\"backgroundcolor\":\"#E5ECF6\",\"gridcolor\":\"white\",\"gridwidth\":2,\"linecolor\":\"white\",\"showbackground\":true,\"ticks\":\"\",\"zerolinecolor\":\"white\"},\"yaxis\":{\"backgroundcolor\":\"#E5ECF6\",\"gridcolor\":\"white\",\"gridwidth\":2,\"linecolor\":\"white\",\"showbackground\":true,\"ticks\":\"\",\"zerolinecolor\":\"white\"},\"zaxis\":{\"backgroundcolor\":\"#E5ECF6\",\"gridcolor\":\"white\",\"gridwidth\":2,\"linecolor\":\"white\",\"showbackground\":true,\"ticks\":\"\",\"zerolinecolor\":\"white\"}},\"shapedefaults\":{\"line\":{\"color\":\"#2a3f5f\"}},\"ternary\":{\"aaxis\":{\"gridcolor\":\"white\",\"linecolor\":\"white\",\"ticks\":\"\"},\"baxis\":{\"gridcolor\":\"white\",\"linecolor\":\"white\",\"ticks\":\"\"},\"bgcolor\":\"#E5ECF6\",\"caxis\":{\"gridcolor\":\"white\",\"linecolor\":\"white\",\"ticks\":\"\"}},\"title\":{\"x\":0.05},\"xaxis\":{\"automargin\":true,\"gridcolor\":\"white\",\"linecolor\":\"white\",\"ticks\":\"\",\"title\":{\"standoff\":15},\"zerolinecolor\":\"white\",\"zerolinewidth\":2},\"yaxis\":{\"automargin\":true,\"gridcolor\":\"white\",\"linecolor\":\"white\",\"ticks\":\"\",\"title\":{\"standoff\":15},\"zerolinecolor\":\"white\",\"zerolinewidth\":2}}},\"xaxis\":{\"anchor\":\"y\",\"domain\":[0.0,1.0],\"title\":{\"text\":\"metric\"}},\"yaxis\":{\"anchor\":\"x\",\"domain\":[0.0,1.0],\"title\":{\"text\":\"percent\"}},\"legend\":{\"title\":{\"text\":\"label\"},\"tracegroupgap\":0},\"title\":{\"text\":\"SVM Accuracy/Jaccard for Train/Test Data with pca(First Try)\"},\"barmode\":\"group\"},                        {\"responsive\": true}                    ).then(function(){\n",
              "                            \n",
              "var gd = document.getElementById('afed1217-a7d0-40ac-aa91-bff6a1eb57c0');\n",
              "var x = new MutationObserver(function (mutations, observer) {{\n",
              "        var display = window.getComputedStyle(gd).display;\n",
              "        if (!display || display === 'none') {{\n",
              "            console.log([gd, 'removed!']);\n",
              "            Plotly.purge(gd);\n",
              "            observer.disconnect();\n",
              "        }}\n",
              "}});\n",
              "\n",
              "// Listen for the removal of the full notebook cells\n",
              "var notebookContainer = gd.closest('#notebook-container');\n",
              "if (notebookContainer) {{\n",
              "    x.observe(notebookContainer, {childList: true});\n",
              "}}\n",
              "\n",
              "// Listen for the clearing of the current output cell\n",
              "var outputEl = gd.closest('.output');\n",
              "if (outputEl) {{\n",
              "    x.observe(outputEl, {childList: true});\n",
              "}}\n",
              "\n",
              "                        })                };                            </script>        </div>\n",
              "</body>\n",
              "</html>"
            ]
          },
          "metadata": {}
        }
      ]
    },
    {
      "cell_type": "code",
      "source": [
        "print(\"Train set Accuracy: %\", round( 100* metrics.accuracy_score(y_train, svm_clf.predict(X_train))))\n",
        "print(\"Test set Accuracy: %\", round( 100* metrics.accuracy_score(y_test, svm_yhat))) \n",
        "print('')\n",
        "print (classification_report(y_test, svm_yhat))"
      ],
      "metadata": {
        "colab": {
          "base_uri": "https://localhost:8080/"
        },
        "id": "Ffj4q5SB5vJM",
        "outputId": "2afd0979-9300-4e38-9726-861ced8641c1"
      },
      "execution_count": null,
      "outputs": [
        {
          "output_type": "stream",
          "name": "stdout",
          "text": [
            "Train set Accuracy: % 98\n",
            "Test set Accuracy: % 93\n",
            "\n",
            "              precision    recall  f1-score   support\n",
            "\n",
            "           0       0.91      0.94      0.93      1599\n",
            "           1       0.95      0.92      0.93      1734\n",
            "\n",
            "    accuracy                           0.93      3333\n",
            "   macro avg       0.93      0.93      0.93      3333\n",
            "weighted avg       0.93      0.93      0.93      3333\n",
            "\n"
          ]
        }
      ]
    },
    {
      "cell_type": "code",
      "source": [
        "svm_cnf_matrix = confusion_matrix(y_test, svm_yhat)\n",
        "np.set_printoptions(precision=2)\n",
        "\n",
        "labels = [0,1]\n",
        "\n",
        "plt.figure(figsize=(5,5))\n",
        "plot_confusion_matrix(svm_cnf_matrix, classes=labels ,normalize= False,  title='SVM Confusion Matrix')"
      ],
      "metadata": {
        "colab": {
          "base_uri": "https://localhost:8080/",
          "height": 386
        },
        "id": "mzntn0-J6cGH",
        "outputId": "f009fd33-bb41-4f3f-abf0-cf7d5545b0af"
      },
      "execution_count": null,
      "outputs": [
        {
          "output_type": "stream",
          "name": "stdout",
          "text": [
            "Confusion matrix, without normalization\n"
          ]
        },
        {
          "output_type": "display_data",
          "data": {
            "text/plain": [
              "<Figure size 360x360 with 2 Axes>"
            ],
            "image/png": "[encoded data removed]"
          },
          "metadata": {
            "needs_background": "light"
          }
        }
      ]
    },
    {
      "cell_type": "markdown",
      "source": [
        "## KNN"
      ],
      "metadata": {
        "id": "b5XtBnSo6_7k"
      }
    },
    {
      "cell_type": "code",
      "source": [
        "from sklearn.neighbors import KNeighborsClassifier\n",
        "\n",
        "\n",
        "Ks = 51\n",
        "mean_acc = np.zeros((Ks-1))\n",
        "mean_rec = np.zeros((Ks-1)) \n",
        "std_acc = np.zeros((Ks-1))\n",
        "\n",
        "for n in range(1,Ks):\n",
        "    \n",
        "    #Train Model and Predict  \n",
        "    neigh = make_pipeline(preprocessing.StandardScaler(), KNeighborsClassifier(n_neighbors = n)).fit(X_train,y_train)\n",
        "    knn_yhat=neigh.predict(X_test)\n",
        "    mean_acc[n-1] = metrics.accuracy_score(y_test, knn_yhat)\n",
        "    std_acc[n-1]=np.std(knn_yhat==y_test)/np.sqrt(knn_yhat.shape[0])\n",
        "\n",
        "mean_acc "
      ],
      "metadata": {
        "colab": {
          "base_uri": "https://localhost:8080/"
        },
        "id": "HphEPxS-68JD",
        "outputId": "e1a9f236-d075-455a-cae8-9d64ca494c3b"
      },
      "execution_count": null,
      "outputs": [
        {
          "output_type": "execute_result",
          "data": {
            "text/plain": [
              "array([0.86, 0.84, 0.87, 0.87, 0.88, 0.88, 0.88, 0.88, 0.88, 0.88, 0.89,\n",
              "       0.88, 0.88, 0.88, 0.88, 0.88, 0.88, 0.88, 0.88, 0.87, 0.87, 0.87,\n",
              "       0.87, 0.87, 0.87, 0.87, 0.87, 0.87, 0.87, 0.87, 0.87, 0.87, 0.87,\n",
              "       0.87, 0.87, 0.87, 0.86, 0.87, 0.86, 0.87, 0.86, 0.86, 0.86, 0.86,\n",
              "       0.86, 0.86, 0.86, 0.86, 0.86, 0.87])"
            ]
          },
          "metadata": {},
          "execution_count": 69
        }
      ]
    },
    {
      "cell_type": "code",
      "source": [
        "plt.plot(range(1,Ks),mean_acc,'g')\n",
        "plt.fill_between(range(1,Ks),mean_acc - 1 * std_acc,mean_acc + 1 * std_acc, alpha=0.10)\n",
        "plt.fill_between(range(1,Ks),mean_acc - 3 * std_acc,mean_acc + 3 * std_acc, alpha=0.10,color=\"green\")\n",
        "plt.legend(('Accuracy ', '+/- 1xstd','+/- 3xstd'))\n",
        "plt.ylabel('Accuracy ')\n",
        "plt.xlabel('Number of Neighbors (K)')\n",
        "plt.tight_layout()\n",
        "plt.show()"
      ],
      "metadata": {
        "colab": {
          "base_uri": "https://localhost:8080/",
          "height": 297
        },
        "id": "h8x2N-Cg68CM",
        "outputId": "bca4718f-5702-493a-fc85-505f9e637b11"
      },
      "execution_count": null,
      "outputs": [
        {
          "output_type": "display_data",
          "data": {
            "text/plain": [
              "<Figure size 432x288 with 1 Axes>"
            ],
            "image/png": "[encoded data removed]"
          },
          "metadata": {
            "needs_background": "light"
          }
        }
      ]
    },
    {
      "cell_type": "code",
      "source": [
        "print( \"The best accuracy was with\", mean_acc.max(), \"with k=\", mean_acc.argmax()+1) \n"
      ],
      "metadata": {
        "colab": {
          "base_uri": "https://localhost:8080/"
        },
        "id": "OSrI0_Lh67-M",
        "outputId": "4b828b2f-9593-48f7-c18c-4b577cd8649a"
      },
      "execution_count": null,
      "outputs": [
        {
          "output_type": "stream",
          "name": "stdout",
          "text": [
            "The best accuracy was with 0.8868886888688869 with k= 11\n"
          ]
        }
      ]
    },
    {
      "cell_type": "code",
      "source": [
        "k = 11\n",
        "knn_clf = make_pipeline(preprocessing.StandardScaler(), KNeighborsClassifier(n_neighbors = k))\n",
        "knn_clf.fit(X_train,y_train)\n",
        "knn_yhat = knn_clf.predict(X_test)\n",
        "knn_yhat[0:5]"
      ],
      "metadata": {
        "colab": {
          "base_uri": "https://localhost:8080/"
        },
        "id": "ePphd7XY67wc",
        "outputId": "e12df371-49eb-493a-b364-f1b13cac9fdc"
      },
      "execution_count": null,
      "outputs": [
        {
          "output_type": "execute_result",
          "data": {
            "text/plain": [
              "array([0, 0, 1, 1, 0])"
            ]
          },
          "metadata": {},
          "execution_count": 73
        }
      ]
    },
    {
      "cell_type": "code",
      "source": [
        "knn_acc_train = round( metrics.accuracy_score(y_train, knn_clf.predict(X_train))*100 ,2)\n",
        "knn_acc_test = round( metrics.accuracy_score(y_test, knn_yhat)*100 ,2)\n",
        "knn_jac_train = round( metrics.jaccard_score(y_train, knn_clf.predict(X_train),average='weighted')*100 ,2)\n",
        "knn_jac_test = round( metrics.jaccard_score(y_test, knn_yhat,average='weighted')*100 ,2)\n",
        "\n",
        "knn_df1 = pd.DataFrame({'percent':[knn_acc_train,knn_acc_test,knn_jac_train,knn_jac_test],\n",
        "                       'label' : ['train' , 'test' , 'train' , 'test'],\n",
        "                       'metric': ['Accuracy' , 'Accuracy' , 'Weighted Jaccard Score' , 'Weighted Jaccard Score']})\n",
        "\n",
        "\n",
        "fig = px.bar(knn_df1 , x='metric' , y='percent' , color='label' ,\n",
        "             title='KNN Accuracy/Jaccard for Train/Test Data (First Try)' ,\n",
        "             text=\"percent\", barmode=\"group\")\n",
        "fig.show()"
      ],
      "metadata": {
        "colab": {
          "base_uri": "https://localhost:8080/",
          "height": 542
        },
        "id": "WciANmlg7kMV",
        "outputId": "4b0bd73b-e927-4a0d-b4a2-3207e4dc8e52"
      },
      "execution_count": null,
      "outputs": [
        {
          "output_type": "display_data",
          "data": {
            "text/html": [
              "<html>\n",
              "<head><meta charset=\"utf-8\" /></head>\n",
              "<body>\n",
              "    <div>            <script src=\"https://cdnjs.cloudflare.com/ajax/libs/mathjax/2.7.5/MathJax.js?config=TeX-AMS-MML_SVG\"></script><script type=\"text/javascript\">if (window.MathJax) {MathJax.Hub.Config({SVG: {font: \"STIX-Web\"}});}</script>                <script type=\"text/javascript\">window.PlotlyConfig = {MathJaxConfig: 'local'};</script>\n",
              "        <script src=\"https://cdn.plot.ly/plotly-2.8.3.min.js\"></script>                <div id=\"4870c897-6c30-4bcd-a66a-744373c1172d\" class=\"plotly-graph-div\" style=\"height:525px; width:100%;\"></div>            <script type=\"text/javascript\">                                    window.PLOTLYENV=window.PLOTLYENV || {};                                    if (document.getElementById(\"4870c897-6c30-4bcd-a66a-744373c1172d\")) {                    Plotly.newPlot(                        \"4870c897-6c30-4bcd-a66a-744373c1172d\",                        [{\"alignmentgroup\":\"True\",\"hovertemplate\":\"label=train<br>metric=%{x}<br>percent=%{text}<extra></extra>\",\"legendgroup\":\"train\",\"marker\":{\"color\":\"#636efa\",\"pattern\":{\"shape\":\"\"}},\"name\":\"train\",\"offsetgroup\":\"train\",\"orientation\":\"v\",\"showlegend\":true,\"text\":[90.53,82.69],\"textposition\":\"auto\",\"x\":[\"Accuracy\",\"Weighted Jaccard Score\"],\"xaxis\":\"x\",\"y\":[90.53,82.69],\"yaxis\":\"y\",\"type\":\"bar\"},{\"alignmentgroup\":\"True\",\"hovertemplate\":\"label=test<br>metric=%{x}<br>percent=%{text}<extra></extra>\",\"legendgroup\":\"test\",\"marker\":{\"color\":\"#EF553B\",\"pattern\":{\"shape\":\"\"}},\"name\":\"test\",\"offsetgroup\":\"test\",\"orientation\":\"v\",\"showlegend\":true,\"text\":[88.69,79.67],\"textposition\":\"auto\",\"x\":[\"Accuracy\",\"Weighted Jaccard Score\"],\"xaxis\":\"x\",\"y\":[88.69,79.67],\"yaxis\":\"y\",\"type\":\"bar\"}],                        {\"template\":{\"data\":{\"bar\":[{\"error_x\":{\"color\":\"#2a3f5f\"},\"error_y\":{\"color\":\"#2a3f5f\"},\"marker\":{\"line\":{\"color\":\"#E5ECF6\",\"width\":0.5},\"pattern\":{\"fillmode\":\"overlay\",\"size\":10,\"solidity\":0.2}},\"type\":\"bar\"}],\"barpolar\":[{\"marker\":{\"line\":{\"color\":\"#E5ECF6\",\"width\":0.5},\"pattern\":{\"fillmode\":\"overlay\",\"size\":10,\"solidity\":0.2}},\"type\":\"barpolar\"}],\"carpet\":[{\"aaxis\":{\"endlinecolor\":\"#2a3f5f\",\"gridcolor\":\"white\",\"linecolor\":\"white\",\"minorgridcolor\":\"white\",\"startlinecolor\":\"#2a3f5f\"},\"baxis\":{\"endlinecolor\":\"#2a3f5f\",\"gridcolor\":\"white\",\"linecolor\":\"white\",\"minorgridcolor\":\"white\",\"startlinecolor\":\"#2a3f5f\"},\"type\":\"carpet\"}],\"choropleth\":[{\"colorbar\":{\"outlinewidth\":0,\"ticks\":\"\"},\"type\":\"choropleth\"}],\"contour\":[{\"colorbar\":{\"outlinewidth\":0,\"ticks\":\"\"},\"colorscale\":[[0.0,\"#0d0887\"],[0.1111111111111111,\"#46039f\"],[0.2222222222222222,\"#7201a8\"],[0.3333333333333333,\"#9c179e\"],[0.4444444444444444,\"#bd3786\"],[0.5555555555555556,\"#d8576b\"],[0.6666666666666666,\"#ed7953\"],[0.7777777777777778,\"#fb9f3a\"],[0.8888888888888888,\"#fdca26\"],[1.0,\"#f0f921\"]],\"type\":\"contour\"}],\"contourcarpet\":[{\"colorbar\":{\"outlinewidth\":0,\"ticks\":\"\"},\"type\":\"contourcarpet\"}],\"heatmap\":[{\"colorbar\":{\"outlinewidth\":0,\"ticks\":\"\"},\"colorscale\":[[0.0,\"#0d0887\"],[0.1111111111111111,\"#46039f\"],[0.2222222222222222,\"#7201a8\"],[0.3333333333333333,\"#9c179e\"],[0.4444444444444444,\"#bd3786\"],[0.5555555555555556,\"#d8576b\"],[0.6666666666666666,\"#ed7953\"],[0.7777777777777778,\"#fb9f3a\"],[0.8888888888888888,\"#fdca26\"],[1.0,\"#f0f921\"]],\"type\":\"heatmap\"}],\"heatmapgl\":[{\"colorbar\":{\"outlinewidth\":0,\"ticks\":\"\"},\"colorscale\":[[0.0,\"#0d0887\"],[0.1111111111111111,\"#46039f\"],[0.2222222222222222,\"#7201a8\"],[0.3333333333333333,\"#9c179e\"],[0.4444444444444444,\"#bd3786\"],[0.5555555555555556,\"#d8576b\"],[0.6666666666666666,\"#ed7953\"],[0.7777777777777778,\"#fb9f3a\"],[0.8888888888888888,\"#fdca26\"],[1.0,\"#f0f921\"]],\"type\":\"heatmapgl\"}],\"histogram\":[{\"marker\":{\"pattern\":{\"fillmode\":\"overlay\",\"size\":10,\"solidity\":0.2}},\"type\":\"histogram\"}],\"histogram2d\":[{\"colorbar\":{\"outlinewidth\":0,\"ticks\":\"\"},\"colorscale\":[[0.0,\"#0d0887\"],[0.1111111111111111,\"#46039f\"],[0.2222222222222222,\"#7201a8\"],[0.3333333333333333,\"#9c179e\"],[0.4444444444444444,\"#bd3786\"],[0.5555555555555556,\"#d8576b\"],[0.6666666666666666,\"#ed7953\"],[0.7777777777777778,\"#fb9f3a\"],[0.8888888888888888,\"#fdca26\"],[1.0,\"#f0f921\"]],\"type\":\"histogram2d\"}],\"histogram2dcontour\":[{\"colorbar\":{\"outlinewidth\":0,\"ticks\":\"\"},\"colorscale\":[[0.0,\"#0d0887\"],[0.1111111111111111,\"#46039f\"],[0.2222222222222222,\"#7201a8\"],[0.3333333333333333,\"#9c179e\"],[0.4444444444444444,\"#bd3786\"],[0.5555555555555556,\"#d8576b\"],[0.6666666666666666,\"#ed7953\"],[0.7777777777777778,\"#fb9f3a\"],[0.8888888888888888,\"#fdca26\"],[1.0,\"#f0f921\"]],\"type\":\"histogram2dcontour\"}],\"mesh3d\":[{\"colorbar\":{\"outlinewidth\":0,\"ticks\":\"\"},\"type\":\"mesh3d\"}],\"parcoords\":[{\"line\":{\"colorbar\":{\"outlinewidth\":0,\"ticks\":\"\"}},\"type\":\"parcoords\"}],\"pie\":[{\"automargin\":true,\"type\":\"pie\"}],\"scatter\":[{\"marker\":{\"colorbar\":{\"outlinewidth\":0,\"ticks\":\"\"}},\"type\":\"scatter\"}],\"scatter3d\":[{\"line\":{\"colorbar\":{\"outlinewidth\":0,\"ticks\":\"\"}},\"marker\":{\"colorbar\":{\"outlinewidth\":0,\"ticks\":\"\"}},\"type\":\"scatter3d\"}],\"scattercarpet\":[{\"marker\":{\"colorbar\":{\"outlinewidth\":0,\"ticks\":\"\"}},\"type\":\"scattercarpet\"}],\"scattergeo\":[{\"marker\":{\"colorbar\":{\"outlinewidth\":0,\"ticks\":\"\"}},\"type\":\"scattergeo\"}],\"scattergl\":[{\"marker\":{\"colorbar\":{\"outlinewidth\":0,\"ticks\":\"\"}},\"type\":\"scattergl\"}],\"scattermapbox\":[{\"marker\":{\"colorbar\":{\"outlinewidth\":0,\"ticks\":\"\"}},\"type\":\"scattermapbox\"}],\"scatterpolar\":[{\"marker\":{\"colorbar\":{\"outlinewidth\":0,\"ticks\":\"\"}},\"type\":\"scatterpolar\"}],\"scatterpolargl\":[{\"marker\":{\"colorbar\":{\"outlinewidth\":0,\"ticks\":\"\"}},\"type\":\"scatterpolargl\"}],\"scatterternary\":[{\"marker\":{\"colorbar\":{\"outlinewidth\":0,\"ticks\":\"\"}},\"type\":\"scatterternary\"}],\"surface\":[{\"colorbar\":{\"outlinewidth\":0,\"ticks\":\"\"},\"colorscale\":[[0.0,\"#0d0887\"],[0.1111111111111111,\"#46039f\"],[0.2222222222222222,\"#7201a8\"],[0.3333333333333333,\"#9c179e\"],[0.4444444444444444,\"#bd3786\"],[0.5555555555555556,\"#d8576b\"],[0.6666666666666666,\"#ed7953\"],[0.7777777777777778,\"#fb9f3a\"],[0.8888888888888888,\"#fdca26\"],[1.0,\"#f0f921\"]],\"type\":\"surface\"}],\"table\":[{\"cells\":{\"fill\":{\"color\":\"#EBF0F8\"},\"line\":{\"color\":\"white\"}},\"header\":{\"fill\":{\"color\":\"#C8D4E3\"},\"line\":{\"color\":\"white\"}},\"type\":\"table\"}]},\"layout\":{\"annotationdefaults\":{\"arrowcolor\":\"#2a3f5f\",\"arrowhead\":0,\"arrowwidth\":1},\"autotypenumbers\":\"strict\",\"coloraxis\":{\"colorbar\":{\"outlinewidth\":0,\"ticks\":\"\"}},\"colorscale\":{\"diverging\":[[0,\"#8e0152\"],[0.1,\"#c51b7d\"],[0.2,\"#de77ae\"],[0.3,\"#f1b6da\"],[0.4,\"#fde0ef\"],[0.5,\"#f7f7f7\"],[0.6,\"#e6f5d0\"],[0.7,\"#b8e186\"],[0.8,\"#7fbc41\"],[0.9,\"#4d9221\"],[1,\"#276419\"]],\"sequential\":[[0.0,\"#0d0887\"],[0.1111111111111111,\"#46039f\"],[0.2222222222222222,\"#7201a8\"],[0.3333333333333333,\"#9c179e\"],[0.4444444444444444,\"#bd3786\"],[0.5555555555555556,\"#d8576b\"],[0.6666666666666666,\"#ed7953\"],[0.7777777777777778,\"#fb9f3a\"],[0.8888888888888888,\"#fdca26\"],[1.0,\"#f0f921\"]],\"sequentialminus\":[[0.0,\"#0d0887\"],[0.1111111111111111,\"#46039f\"],[0.2222222222222222,\"#7201a8\"],[0.3333333333333333,\"#9c179e\"],[0.4444444444444444,\"#bd3786\"],[0.5555555555555556,\"#d8576b\"],[0.6666666666666666,\"#ed7953\"],[0.7777777777777778,\"#fb9f3a\"],[0.8888888888888888,\"#fdca26\"],[1.0,\"#f0f921\"]]},\"colorway\":[\"#636efa\",\"#EF553B\",\"#00cc96\",\"#ab63fa\",\"#FFA15A\",\"#19d3f3\",\"#FF6692\",\"#B6E880\",\"#FF97FF\",\"#FECB52\"],\"font\":{\"color\":\"#2a3f5f\"},\"geo\":{\"bgcolor\":\"white\",\"lakecolor\":\"white\",\"landcolor\":\"#E5ECF6\",\"showlakes\":true,\"showland\":true,\"subunitcolor\":\"white\"},\"hoverlabel\":{\"align\":\"left\"},\"hovermode\":\"closest\",\"mapbox\":{\"style\":\"light\"},\"paper_bgcolor\":\"white\",\"plot_bgcolor\":\"#E5ECF6\",\"polar\":{\"angularaxis\":{\"gridcolor\":\"white\",\"linecolor\":\"white\",\"ticks\":\"\"},\"bgcolor\":\"#E5ECF6\",\"radialaxis\":{\"gridcolor\":\"white\",\"linecolor\":\"white\",\"ticks\":\"\"}},\"scene\":{\"xaxis\":{\"backgroundcolor\":\"#E5ECF6\",\"gridcolor\":\"white\",\"gridwidth\":2,\"linecolor\":\"white\",\"showbackground\":true,\"ticks\":\"\",\"zerolinecolor\":\"white\"},\"yaxis\":{\"backgroundcolor\":\"#E5ECF6\",\"gridcolor\":\"white\",\"gridwidth\":2,\"linecolor\":\"white\",\"showbackground\":true,\"ticks\":\"\",\"zerolinecolor\":\"white\"},\"zaxis\":{\"backgroundcolor\":\"#E5ECF6\",\"gridcolor\":\"white\",\"gridwidth\":2,\"linecolor\":\"white\",\"showbackground\":true,\"ticks\":\"\",\"zerolinecolor\":\"white\"}},\"shapedefaults\":{\"line\":{\"color\":\"#2a3f5f\"}},\"ternary\":{\"aaxis\":{\"gridcolor\":\"white\",\"linecolor\":\"white\",\"ticks\":\"\"},\"baxis\":{\"gridcolor\":\"white\",\"linecolor\":\"white\",\"ticks\":\"\"},\"bgcolor\":\"#E5ECF6\",\"caxis\":{\"gridcolor\":\"white\",\"linecolor\":\"white\",\"ticks\":\"\"}},\"title\":{\"x\":0.05},\"xaxis\":{\"automargin\":true,\"gridcolor\":\"white\",\"linecolor\":\"white\",\"ticks\":\"\",\"title\":{\"standoff\":15},\"zerolinecolor\":\"white\",\"zerolinewidth\":2},\"yaxis\":{\"automargin\":true,\"gridcolor\":\"white\",\"linecolor\":\"white\",\"ticks\":\"\",\"title\":{\"standoff\":15},\"zerolinecolor\":\"white\",\"zerolinewidth\":2}}},\"xaxis\":{\"anchor\":\"y\",\"domain\":[0.0,1.0],\"title\":{\"text\":\"metric\"}},\"yaxis\":{\"anchor\":\"x\",\"domain\":[0.0,1.0],\"title\":{\"text\":\"percent\"}},\"legend\":{\"title\":{\"text\":\"label\"},\"tracegroupgap\":0},\"title\":{\"text\":\"KNN Accuracy/Jaccard for Train/Test Data (First Try)\"},\"barmode\":\"group\"},                        {\"responsive\": true}                    ).then(function(){\n",
              "                            \n",
              "var gd = document.getElementById('4870c897-6c30-4bcd-a66a-744373c1172d');\n",
              "var x = new MutationObserver(function (mutations, observer) {{\n",
              "        var display = window.getComputedStyle(gd).display;\n",
              "        if (!display || display === 'none') {{\n",
              "            console.log([gd, 'removed!']);\n",
              "            Plotly.purge(gd);\n",
              "            observer.disconnect();\n",
              "        }}\n",
              "}});\n",
              "\n",
              "// Listen for the removal of the full notebook cells\n",
              "var notebookContainer = gd.closest('#notebook-container');\n",
              "if (notebookContainer) {{\n",
              "    x.observe(notebookContainer, {childList: true});\n",
              "}}\n",
              "\n",
              "// Listen for the clearing of the current output cell\n",
              "var outputEl = gd.closest('.output');\n",
              "if (outputEl) {{\n",
              "    x.observe(outputEl, {childList: true});\n",
              "}}\n",
              "\n",
              "                        })                };                            </script>        </div>\n",
              "</body>\n",
              "</html>"
            ]
          },
          "metadata": {}
        }
      ]
    },
    {
      "cell_type": "code",
      "source": [
        "from sklearn import metrics\n",
        "print(\"Train set Accuracy: %\", round( 100* metrics.accuracy_score(y_train, knn_clf.predict(X_train)),2)) \n",
        "print(\"Test set Accuracy: %\", round( 100* metrics.accuracy_score(y_test, knn_yhat),2))  \n",
        "print('')\n",
        "print (classification_report(y_test, knn_yhat))"
      ],
      "metadata": {
        "colab": {
          "base_uri": "https://localhost:8080/"
        },
        "id": "COE3cPu_7tP7",
        "outputId": "6fdf6864-7873-42f6-df8b-2c1face1cf75"
      },
      "execution_count": null,
      "outputs": [
        {
          "output_type": "stream",
          "name": "stdout",
          "text": [
            "Train set Accuracy: % 90.53\n",
            "Test set Accuracy: % 88.69\n",
            "\n",
            "              precision    recall  f1-score   support\n",
            "\n",
            "           0       0.89      0.87      0.88      1599\n",
            "           1       0.88      0.90      0.89      1734\n",
            "\n",
            "    accuracy                           0.89      3333\n",
            "   macro avg       0.89      0.89      0.89      3333\n",
            "weighted avg       0.89      0.89      0.89      3333\n",
            "\n"
          ]
        }
      ]
    },
    {
      "cell_type": "code",
      "source": [
        "knn_cnf_matrix = confusion_matrix(y_test, knn_yhat)\n",
        "np.set_printoptions(precision=2)\n",
        "\n",
        "labels = [0,1]\n",
        "\n",
        "plt.figure(figsize=(5,5))\n",
        "plot_confusion_matrix(knn_cnf_matrix, classes=labels ,normalize= False,  title='KNN Confusion Matrix')"
      ],
      "metadata": {
        "colab": {
          "base_uri": "https://localhost:8080/",
          "height": 386
        },
        "id": "mbC7sq307tJy",
        "outputId": "e310d022-96d1-414e-9b0b-b3103260d92e"
      },
      "execution_count": null,
      "outputs": [
        {
          "output_type": "stream",
          "name": "stdout",
          "text": [
            "Confusion matrix, without normalization\n"
          ]
        },
        {
          "output_type": "display_data",
          "data": {
            "text/plain": [
              "<Figure size 360x360 with 2 Axes>"
            ],
            "image/png": "[encoded data removed]"
          },
          "metadata": {
            "needs_background": "light"
          }
        }
      ]
    },
    {
      "cell_type": "markdown",
      "source": [
        "## decision tree"
      ],
      "metadata": {
        "id": "WLBGuvxSAwth"
      }
    },
    {
      "cell_type": "code",
      "source": [
        "InstrumentTree = make_pipeline(StandardScaler(), DecisionTreeClassifier(criterion='gini',max_depth =14))\n",
        "InstrumentTree.fit(X_train,y_train)\n",
        "\n",
        "predTree = InstrumentTree.predict(X_test)"
      ],
      "metadata": {
        "id": "pmZxkBdg8mxI"
      },
      "execution_count": null,
      "outputs": []
    },
    {
      "cell_type": "code",
      "source": [
        "dt_acc_train = round( metrics.accuracy_score(y_train, InstrumentTree.predict(X_train))*100 ,2)\n",
        "dt_acc_test = round( metrics.accuracy_score(y_test, predTree)*100 ,2)\n",
        "dt_jac_train = round( metrics.jaccard_score(y_train, InstrumentTree.predict(X_train),average='weighted')*100 ,2)\n",
        "dt_jac_test = round( metrics.jaccard_score(y_test, predTree,average='weighted')*100 ,2)\n",
        "\n",
        "dt_df1 = pd.DataFrame({'percent':[dt_acc_train,dt_acc_test,dt_jac_train,dt_jac_test],\n",
        "                       'label' : ['train' , 'test' , 'train' , 'test'],\n",
        "                       'metric': ['Accuracy' , 'Accuracy' , 'Weighted Jaccard Score' , 'Weighted Jaccard Score']})\n",
        "\n",
        "\n",
        "fig = px.bar(dt_df1 , x='metric' , y='percent' , color='label' ,\n",
        "             title='Decision Tree Accuracy/Jaccard for Train/Test Data (First Try)' ,\n",
        "             text=\"percent\", barmode=\"group\")\n",
        "fig.show()"
      ],
      "metadata": {
        "colab": {
          "base_uri": "https://localhost:8080/",
          "height": 542
        },
        "id": "iJFqQRxJA_0I",
        "outputId": "3d0b2742-182b-4ada-82aa-e7da044fa962"
      },
      "execution_count": null,
      "outputs": [
        {
          "output_type": "display_data",
          "data": {
            "text/html": [
              "<html>\n",
              "<head><meta charset=\"utf-8\" /></head>\n",
              "<body>\n",
              "    <div>            <script src=\"https://cdnjs.cloudflare.com/ajax/libs/mathjax/2.7.5/MathJax.js?config=TeX-AMS-MML_SVG\"></script><script type=\"text/javascript\">if (window.MathJax) {MathJax.Hub.Config({SVG: {font: \"STIX-Web\"}});}</script>                <script type=\"text/javascript\">window.PlotlyConfig = {MathJaxConfig: 'local'};</script>\n",
              "        <script src=\"https://cdn.plot.ly/plotly-2.8.3.min.js\"></script>                <div id=\"affc026d-0e58-40b3-adcf-ab2727e445d1\" class=\"plotly-graph-div\" style=\"height:525px; width:100%;\"></div>            <script type=\"text/javascript\">                                    window.PLOTLYENV=window.PLOTLYENV || {};                                    if (document.getElementById(\"affc026d-0e58-40b3-adcf-ab2727e445d1\")) {                    Plotly.newPlot(                        \"affc026d-0e58-40b3-adcf-ab2727e445d1\",                        [{\"alignmentgroup\":\"True\",\"hovertemplate\":\"label=train<br>metric=%{x}<br>percent=%{text}<extra></extra>\",\"legendgroup\":\"train\",\"marker\":{\"color\":\"#636efa\",\"pattern\":{\"shape\":\"\"}},\"name\":\"train\",\"offsetgroup\":\"train\",\"orientation\":\"v\",\"showlegend\":true,\"text\":[98.81,97.64],\"textposition\":\"auto\",\"x\":[\"Accuracy\",\"Weighted Jaccard Score\"],\"xaxis\":\"x\",\"y\":[98.81,97.64],\"yaxis\":\"y\",\"type\":\"bar\"},{\"alignmentgroup\":\"True\",\"hovertemplate\":\"label=test<br>metric=%{x}<br>percent=%{text}<extra></extra>\",\"legendgroup\":\"test\",\"marker\":{\"color\":\"#EF553B\",\"pattern\":{\"shape\":\"\"}},\"name\":\"test\",\"offsetgroup\":\"test\",\"orientation\":\"v\",\"showlegend\":true,\"text\":[76.75,62.28],\"textposition\":\"auto\",\"x\":[\"Accuracy\",\"Weighted Jaccard Score\"],\"xaxis\":\"x\",\"y\":[76.75,62.28],\"yaxis\":\"y\",\"type\":\"bar\"}],                        {\"template\":{\"data\":{\"bar\":[{\"error_x\":{\"color\":\"#2a3f5f\"},\"error_y\":{\"color\":\"#2a3f5f\"},\"marker\":{\"line\":{\"color\":\"#E5ECF6\",\"width\":0.5},\"pattern\":{\"fillmode\":\"overlay\",\"size\":10,\"solidity\":0.2}},\"type\":\"bar\"}],\"barpolar\":[{\"marker\":{\"line\":{\"color\":\"#E5ECF6\",\"width\":0.5},\"pattern\":{\"fillmode\":\"overlay\",\"size\":10,\"solidity\":0.2}},\"type\":\"barpolar\"}],\"carpet\":[{\"aaxis\":{\"endlinecolor\":\"#2a3f5f\",\"gridcolor\":\"white\",\"linecolor\":\"white\",\"minorgridcolor\":\"white\",\"startlinecolor\":\"#2a3f5f\"},\"baxis\":{\"endlinecolor\":\"#2a3f5f\",\"gridcolor\":\"white\",\"linecolor\":\"white\",\"minorgridcolor\":\"white\",\"startlinecolor\":\"#2a3f5f\"},\"type\":\"carpet\"}],\"choropleth\":[{\"colorbar\":{\"outlinewidth\":0,\"ticks\":\"\"},\"type\":\"choropleth\"}],\"contour\":[{\"colorbar\":{\"outlinewidth\":0,\"ticks\":\"\"},\"colorscale\":[[0.0,\"#0d0887\"],[0.1111111111111111,\"#46039f\"],[0.2222222222222222,\"#7201a8\"],[0.3333333333333333,\"#9c179e\"],[0.4444444444444444,\"#bd3786\"],[0.5555555555555556,\"#d8576b\"],[0.6666666666666666,\"#ed7953\"],[0.7777777777777778,\"#fb9f3a\"],[0.8888888888888888,\"#fdca26\"],[1.0,\"#f0f921\"]],\"type\":\"contour\"}],\"contourcarpet\":[{\"colorbar\":{\"outlinewidth\":0,\"ticks\":\"\"},\"type\":\"contourcarpet\"}],\"heatmap\":[{\"colorbar\":{\"outlinewidth\":0,\"ticks\":\"\"},\"colorscale\":[[0.0,\"#0d0887\"],[0.1111111111111111,\"#46039f\"],[0.2222222222222222,\"#7201a8\"],[0.3333333333333333,\"#9c179e\"],[0.4444444444444444,\"#bd3786\"],[0.5555555555555556,\"#d8576b\"],[0.6666666666666666,\"#ed7953\"],[0.7777777777777778,\"#fb9f3a\"],[0.8888888888888888,\"#fdca26\"],[1.0,\"#f0f921\"]],\"type\":\"heatmap\"}],\"heatmapgl\":[{\"colorbar\":{\"outlinewidth\":0,\"ticks\":\"\"},\"colorscale\":[[0.0,\"#0d0887\"],[0.1111111111111111,\"#46039f\"],[0.2222222222222222,\"#7201a8\"],[0.3333333333333333,\"#9c179e\"],[0.4444444444444444,\"#bd3786\"],[0.5555555555555556,\"#d8576b\"],[0.6666666666666666,\"#ed7953\"],[0.7777777777777778,\"#fb9f3a\"],[0.8888888888888888,\"#fdca26\"],[1.0,\"#f0f921\"]],\"type\":\"heatmapgl\"}],\"histogram\":[{\"marker\":{\"pattern\":{\"fillmode\":\"overlay\",\"size\":10,\"solidity\":0.2}},\"type\":\"histogram\"}],\"histogram2d\":[{\"colorbar\":{\"outlinewidth\":0,\"ticks\":\"\"},\"colorscale\":[[0.0,\"#0d0887\"],[0.1111111111111111,\"#46039f\"],[0.2222222222222222,\"#7201a8\"],[0.3333333333333333,\"#9c179e\"],[0.4444444444444444,\"#bd3786\"],[0.5555555555555556,\"#d8576b\"],[0.6666666666666666,\"#ed7953\"],[0.7777777777777778,\"#fb9f3a\"],[0.8888888888888888,\"#fdca26\"],[1.0,\"#f0f921\"]],\"type\":\"histogram2d\"}],\"histogram2dcontour\":[{\"colorbar\":{\"outlinewidth\":0,\"ticks\":\"\"},\"colorscale\":[[0.0,\"#0d0887\"],[0.1111111111111111,\"#46039f\"],[0.2222222222222222,\"#7201a8\"],[0.3333333333333333,\"#9c179e\"],[0.4444444444444444,\"#bd3786\"],[0.5555555555555556,\"#d8576b\"],[0.6666666666666666,\"#ed7953\"],[0.7777777777777778,\"#fb9f3a\"],[0.8888888888888888,\"#fdca26\"],[1.0,\"#f0f921\"]],\"type\":\"histogram2dcontour\"}],\"mesh3d\":[{\"colorbar\":{\"outlinewidth\":0,\"ticks\":\"\"},\"type\":\"mesh3d\"}],\"parcoords\":[{\"line\":{\"colorbar\":{\"outlinewidth\":0,\"ticks\":\"\"}},\"type\":\"parcoords\"}],\"pie\":[{\"automargin\":true,\"type\":\"pie\"}],\"scatter\":[{\"marker\":{\"colorbar\":{\"outlinewidth\":0,\"ticks\":\"\"}},\"type\":\"scatter\"}],\"scatter3d\":[{\"line\":{\"colorbar\":{\"outlinewidth\":0,\"ticks\":\"\"}},\"marker\":{\"colorbar\":{\"outlinewidth\":0,\"ticks\":\"\"}},\"type\":\"scatter3d\"}],\"scattercarpet\":[{\"marker\":{\"colorbar\":{\"outlinewidth\":0,\"ticks\":\"\"}},\"type\":\"scattercarpet\"}],\"scattergeo\":[{\"marker\":{\"colorbar\":{\"outlinewidth\":0,\"ticks\":\"\"}},\"type\":\"scattergeo\"}],\"scattergl\":[{\"marker\":{\"colorbar\":{\"outlinewidth\":0,\"ticks\":\"\"}},\"type\":\"scattergl\"}],\"scattermapbox\":[{\"marker\":{\"colorbar\":{\"outlinewidth\":0,\"ticks\":\"\"}},\"type\":\"scattermapbox\"}],\"scatterpolar\":[{\"marker\":{\"colorbar\":{\"outlinewidth\":0,\"ticks\":\"\"}},\"type\":\"scatterpolar\"}],\"scatterpolargl\":[{\"marker\":{\"colorbar\":{\"outlinewidth\":0,\"ticks\":\"\"}},\"type\":\"scatterpolargl\"}],\"scatterternary\":[{\"marker\":{\"colorbar\":{\"outlinewidth\":0,\"ticks\":\"\"}},\"type\":\"scatterternary\"}],\"surface\":[{\"colorbar\":{\"outlinewidth\":0,\"ticks\":\"\"},\"colorscale\":[[0.0,\"#0d0887\"],[0.1111111111111111,\"#46039f\"],[0.2222222222222222,\"#7201a8\"],[0.3333333333333333,\"#9c179e\"],[0.4444444444444444,\"#bd3786\"],[0.5555555555555556,\"#d8576b\"],[0.6666666666666666,\"#ed7953\"],[0.7777777777777778,\"#fb9f3a\"],[0.8888888888888888,\"#fdca26\"],[1.0,\"#f0f921\"]],\"type\":\"surface\"}],\"table\":[{\"cells\":{\"fill\":{\"color\":\"#EBF0F8\"},\"line\":{\"color\":\"white\"}},\"header\":{\"fill\":{\"color\":\"#C8D4E3\"},\"line\":{\"color\":\"white\"}},\"type\":\"table\"}]},\"layout\":{\"annotationdefaults\":{\"arrowcolor\":\"#2a3f5f\",\"arrowhead\":0,\"arrowwidth\":1},\"autotypenumbers\":\"strict\",\"coloraxis\":{\"colorbar\":{\"outlinewidth\":0,\"ticks\":\"\"}},\"colorscale\":{\"diverging\":[[0,\"#8e0152\"],[0.1,\"#c51b7d\"],[0.2,\"#de77ae\"],[0.3,\"#f1b6da\"],[0.4,\"#fde0ef\"],[0.5,\"#f7f7f7\"],[0.6,\"#e6f5d0\"],[0.7,\"#b8e186\"],[0.8,\"#7fbc41\"],[0.9,\"#4d9221\"],[1,\"#276419\"]],\"sequential\":[[0.0,\"#0d0887\"],[0.1111111111111111,\"#46039f\"],[0.2222222222222222,\"#7201a8\"],[0.3333333333333333,\"#9c179e\"],[0.4444444444444444,\"#bd3786\"],[0.5555555555555556,\"#d8576b\"],[0.6666666666666666,\"#ed7953\"],[0.7777777777777778,\"#fb9f3a\"],[0.8888888888888888,\"#fdca26\"],[1.0,\"#f0f921\"]],\"sequentialminus\":[[0.0,\"#0d0887\"],[0.1111111111111111,\"#46039f\"],[0.2222222222222222,\"#7201a8\"],[0.3333333333333333,\"#9c179e\"],[0.4444444444444444,\"#bd3786\"],[0.5555555555555556,\"#d8576b\"],[0.6666666666666666,\"#ed7953\"],[0.7777777777777778,\"#fb9f3a\"],[0.8888888888888888,\"#fdca26\"],[1.0,\"#f0f921\"]]},\"colorway\":[\"#636efa\",\"#EF553B\",\"#00cc96\",\"#ab63fa\",\"#FFA15A\",\"#19d3f3\",\"#FF6692\",\"#B6E880\",\"#FF97FF\",\"#FECB52\"],\"font\":{\"color\":\"#2a3f5f\"},\"geo\":{\"bgcolor\":\"white\",\"lakecolor\":\"white\",\"landcolor\":\"#E5ECF6\",\"showlakes\":true,\"showland\":true,\"subunitcolor\":\"white\"},\"hoverlabel\":{\"align\":\"left\"},\"hovermode\":\"closest\",\"mapbox\":{\"style\":\"light\"},\"paper_bgcolor\":\"white\",\"plot_bgcolor\":\"#E5ECF6\",\"polar\":{\"angularaxis\":{\"gridcolor\":\"white\",\"linecolor\":\"white\",\"ticks\":\"\"},\"bgcolor\":\"#E5ECF6\",\"radialaxis\":{\"gridcolor\":\"white\",\"linecolor\":\"white\",\"ticks\":\"\"}},\"scene\":{\"xaxis\":{\"backgroundcolor\":\"#E5ECF6\",\"gridcolor\":\"white\",\"gridwidth\":2,\"linecolor\":\"white\",\"showbackground\":true,\"ticks\":\"\",\"zerolinecolor\":\"white\"},\"yaxis\":{\"backgroundcolor\":\"#E5ECF6\",\"gridcolor\":\"white\",\"gridwidth\":2,\"linecolor\":\"white\",\"showbackground\":true,\"ticks\":\"\",\"zerolinecolor\":\"white\"},\"zaxis\":{\"backgroundcolor\":\"#E5ECF6\",\"gridcolor\":\"white\",\"gridwidth\":2,\"linecolor\":\"white\",\"showbackground\":true,\"ticks\":\"\",\"zerolinecolor\":\"white\"}},\"shapedefaults\":{\"line\":{\"color\":\"#2a3f5f\"}},\"ternary\":{\"aaxis\":{\"gridcolor\":\"white\",\"linecolor\":\"white\",\"ticks\":\"\"},\"baxis\":{\"gridcolor\":\"white\",\"linecolor\":\"white\",\"ticks\":\"\"},\"bgcolor\":\"#E5ECF6\",\"caxis\":{\"gridcolor\":\"white\",\"linecolor\":\"white\",\"ticks\":\"\"}},\"title\":{\"x\":0.05},\"xaxis\":{\"automargin\":true,\"gridcolor\":\"white\",\"linecolor\":\"white\",\"ticks\":\"\",\"title\":{\"standoff\":15},\"zerolinecolor\":\"white\",\"zerolinewidth\":2},\"yaxis\":{\"automargin\":true,\"gridcolor\":\"white\",\"linecolor\":\"white\",\"ticks\":\"\",\"title\":{\"standoff\":15},\"zerolinecolor\":\"white\",\"zerolinewidth\":2}}},\"xaxis\":{\"anchor\":\"y\",\"domain\":[0.0,1.0],\"title\":{\"text\":\"metric\"}},\"yaxis\":{\"anchor\":\"x\",\"domain\":[0.0,1.0],\"title\":{\"text\":\"percent\"}},\"legend\":{\"title\":{\"text\":\"label\"},\"tracegroupgap\":0},\"title\":{\"text\":\"Decision Tree Accuracy/Jaccard for Train/Test Data (First Try)\"},\"barmode\":\"group\"},                        {\"responsive\": true}                    ).then(function(){\n",
              "                            \n",
              "var gd = document.getElementById('affc026d-0e58-40b3-adcf-ab2727e445d1');\n",
              "var x = new MutationObserver(function (mutations, observer) {{\n",
              "        var display = window.getComputedStyle(gd).display;\n",
              "        if (!display || display === 'none') {{\n",
              "            console.log([gd, 'removed!']);\n",
              "            Plotly.purge(gd);\n",
              "            observer.disconnect();\n",
              "        }}\n",
              "}});\n",
              "\n",
              "// Listen for the removal of the full notebook cells\n",
              "var notebookContainer = gd.closest('#notebook-container');\n",
              "if (notebookContainer) {{\n",
              "    x.observe(notebookContainer, {childList: true});\n",
              "}}\n",
              "\n",
              "// Listen for the clearing of the current output cell\n",
              "var outputEl = gd.closest('.output');\n",
              "if (outputEl) {{\n",
              "    x.observe(outputEl, {childList: true});\n",
              "}}\n",
              "\n",
              "                        })                };                            </script>        </div>\n",
              "</body>\n",
              "</html>"
            ]
          },
          "metadata": {}
        }
      ]
    },
    {
      "cell_type": "code",
      "source": [
        "dt_cnf_matrix = confusion_matrix(y_test, predTree)\n",
        "np.set_printoptions(precision=2)\n",
        "\n",
        "labels = [0,1]\n",
        "\n",
        "plt.figure(figsize=(5,5))\n",
        "plot_confusion_matrix(dt_cnf_matrix, classes=labels ,normalize= False,  title='Decision Tree Confusion Matrix')"
      ],
      "metadata": {
        "colab": {
          "base_uri": "https://localhost:8080/",
          "height": 386
        },
        "id": "5CDZNAtJBGAy",
        "outputId": "0a0b1c2f-9071-4448-dfad-45cd3b9ffd71"
      },
      "execution_count": null,
      "outputs": [
        {
          "output_type": "stream",
          "name": "stdout",
          "text": [
            "Confusion matrix, without normalization\n"
          ]
        },
        {
          "output_type": "display_data",
          "data": {
            "text/plain": [
              "<Figure size 360x360 with 2 Axes>"
            ],
            "image/png": "[encoded data removed]"
          },
          "metadata": {
            "needs_background": "light"
          }
        }
      ]
    },
    {
      "cell_type": "markdown",
      "source": [
        "## mlp"
      ],
      "metadata": {
        "id": "o4bUv2F9BueO"
      }
    },
    {
      "cell_type": "code",
      "source": [
        "MLP_clf = make_pipeline(preprocessing.StandardScaler(),  MLPClassifier(alpha=0.1,hidden_layer_sizes=(4, 2), random_state=0))\n",
        "MLP_clf = MLP_clf.fit(X_train, y_train)\n",
        "MLP_Y_pred=MLP_clf.predict(X_test)\n",
        "\n",
        "print('accuracy:\\n',accuracy_score(y_test, MLP_Y_pred))"
      ],
      "metadata": {
        "colab": {
          "base_uri": "https://localhost:8080/"
        },
        "id": "hllzXzY7BM6-",
        "outputId": "54d1e748-1943-46df-f5bf-b783875e0bc8"
      },
      "execution_count": null,
      "outputs": [
        {
          "output_type": "stream",
          "name": "stdout",
          "text": [
            "accuracy:\n",
            " 0.8970897089708971\n"
          ]
        },
        {
          "output_type": "stream",
          "name": "stderr",
          "text": [
            "/usr/local/lib/python3.7/dist-packages/sklearn/neural_network/_multilayer_perceptron.py:696: ConvergenceWarning:\n",
            "\n",
            "Stochastic Optimizer: Maximum iterations (200) reached and the optimization hasn't converged yet.\n",
            "\n"
          ]
        }
      ]
    },
    {
      "cell_type": "code",
      "source": [
        "MLP_acc_train = round( metrics.accuracy_score(y_train, MLP_clf.predict(X_train))*100 ,2)\n",
        "MLP_acc_test = round( metrics.accuracy_score(y_test, MLP_Y_pred)*100 ,2)\n",
        "MLP_jac_train = round( metrics.jaccard_score(y_train, MLP_clf.predict(X_train),average='weighted')*100 ,2)\n",
        "MLP_jac_test = round( metrics.jaccard_score(y_test, MLP_Y_pred,average='weighted')*100 ,2)\n",
        "\n",
        "MLP_df1 = pd.DataFrame({'percent':[MLP_acc_train,MLP_acc_test,MLP_jac_train,MLP_jac_test],\n",
        "                       'label' : ['train' , 'test' , 'train' , 'test'],\n",
        "                       'metric': ['Accuracy' , 'Accuracy' , 'Weighted Jaccard Score' , 'Weighted Jaccard Score']})\n",
        "\n",
        "\n",
        "fig = px.bar(MLP_df1 , x='metric' , y='percent' , color='label' ,\n",
        "             title='MLP Accuracy/Jaccard for Train/Test Data (First Try)' ,\n",
        "             text=\"percent\", barmode=\"group\")\n",
        "fig.show()"
      ],
      "metadata": {
        "colab": {
          "base_uri": "https://localhost:8080/",
          "height": 542
        },
        "id": "XhGDXRKmB46V",
        "outputId": "b6cd9a0b-4ea4-4bc5-bfa2-e67a9e9f818a"
      },
      "execution_count": null,
      "outputs": [
        {
          "output_type": "display_data",
          "data": {
            "text/html": [
              "<html>\n",
              "<head><meta charset=\"utf-8\" /></head>\n",
              "<body>\n",
              "    <div>            <script src=\"https://cdnjs.cloudflare.com/ajax/libs/mathjax/2.7.5/MathJax.js?config=TeX-AMS-MML_SVG\"></script><script type=\"text/javascript\">if (window.MathJax) {MathJax.Hub.Config({SVG: {font: \"STIX-Web\"}});}</script>                <script type=\"text/javascript\">window.PlotlyConfig = {MathJaxConfig: 'local'};</script>\n",
              "        <script src=\"https://cdn.plot.ly/plotly-2.8.3.min.js\"></script>                <div id=\"ab1da982-024f-49c3-9cbd-6149fd8d3459\" class=\"plotly-graph-div\" style=\"height:525px; width:100%;\"></div>            <script type=\"text/javascript\">                                    window.PLOTLYENV=window.PLOTLYENV || {};                                    if (document.getElementById(\"ab1da982-024f-49c3-9cbd-6149fd8d3459\")) {                    Plotly.newPlot(                        \"ab1da982-024f-49c3-9cbd-6149fd8d3459\",                        [{\"alignmentgroup\":\"True\",\"hovertemplate\":\"label=train<br>metric=%{x}<br>percent=%{text}<extra></extra>\",\"legendgroup\":\"train\",\"marker\":{\"color\":\"#636efa\",\"pattern\":{\"shape\":\"\"}},\"name\":\"train\",\"offsetgroup\":\"train\",\"orientation\":\"v\",\"showlegend\":true,\"text\":[90.9,83.32],\"textposition\":\"auto\",\"x\":[\"Accuracy\",\"Weighted Jaccard Score\"],\"xaxis\":\"x\",\"y\":[90.9,83.32],\"yaxis\":\"y\",\"type\":\"bar\"},{\"alignmentgroup\":\"True\",\"hovertemplate\":\"label=test<br>metric=%{x}<br>percent=%{text}<extra></extra>\",\"legendgroup\":\"test\",\"marker\":{\"color\":\"#EF553B\",\"pattern\":{\"shape\":\"\"}},\"name\":\"test\",\"offsetgroup\":\"test\",\"orientation\":\"v\",\"showlegend\":true,\"text\":[89.71,81.34],\"textposition\":\"auto\",\"x\":[\"Accuracy\",\"Weighted Jaccard Score\"],\"xaxis\":\"x\",\"y\":[89.71,81.34],\"yaxis\":\"y\",\"type\":\"bar\"}],                        {\"template\":{\"data\":{\"bar\":[{\"error_x\":{\"color\":\"#2a3f5f\"},\"error_y\":{\"color\":\"#2a3f5f\"},\"marker\":{\"line\":{\"color\":\"#E5ECF6\",\"width\":0.5},\"pattern\":{\"fillmode\":\"overlay\",\"size\":10,\"solidity\":0.2}},\"type\":\"bar\"}],\"barpolar\":[{\"marker\":{\"line\":{\"color\":\"#E5ECF6\",\"width\":0.5},\"pattern\":{\"fillmode\":\"overlay\",\"size\":10,\"solidity\":0.2}},\"type\":\"barpolar\"}],\"carpet\":[{\"aaxis\":{\"endlinecolor\":\"#2a3f5f\",\"gridcolor\":\"white\",\"linecolor\":\"white\",\"minorgridcolor\":\"white\",\"startlinecolor\":\"#2a3f5f\"},\"baxis\":{\"endlinecolor\":\"#2a3f5f\",\"gridcolor\":\"white\",\"linecolor\":\"white\",\"minorgridcolor\":\"white\",\"startlinecolor\":\"#2a3f5f\"},\"type\":\"carpet\"}],\"choropleth\":[{\"colorbar\":{\"outlinewidth\":0,\"ticks\":\"\"},\"type\":\"choropleth\"}],\"contour\":[{\"colorbar\":{\"outlinewidth\":0,\"ticks\":\"\"},\"colorscale\":[[0.0,\"#0d0887\"],[0.1111111111111111,\"#46039f\"],[0.2222222222222222,\"#7201a8\"],[0.3333333333333333,\"#9c179e\"],[0.4444444444444444,\"#bd3786\"],[0.5555555555555556,\"#d8576b\"],[0.6666666666666666,\"#ed7953\"],[0.7777777777777778,\"#fb9f3a\"],[0.8888888888888888,\"#fdca26\"],[1.0,\"#f0f921\"]],\"type\":\"contour\"}],\"contourcarpet\":[{\"colorbar\":{\"outlinewidth\":0,\"ticks\":\"\"},\"type\":\"contourcarpet\"}],\"heatmap\":[{\"colorbar\":{\"outlinewidth\":0,\"ticks\":\"\"},\"colorscale\":[[0.0,\"#0d0887\"],[0.1111111111111111,\"#46039f\"],[0.2222222222222222,\"#7201a8\"],[0.3333333333333333,\"#9c179e\"],[0.4444444444444444,\"#bd3786\"],[0.5555555555555556,\"#d8576b\"],[0.6666666666666666,\"#ed7953\"],[0.7777777777777778,\"#fb9f3a\"],[0.8888888888888888,\"#fdca26\"],[1.0,\"#f0f921\"]],\"type\":\"heatmap\"}],\"heatmapgl\":[{\"colorbar\":{\"outlinewidth\":0,\"ticks\":\"\"},\"colorscale\":[[0.0,\"#0d0887\"],[0.1111111111111111,\"#46039f\"],[0.2222222222222222,\"#7201a8\"],[0.3333333333333333,\"#9c179e\"],[0.4444444444444444,\"#bd3786\"],[0.5555555555555556,\"#d8576b\"],[0.6666666666666666,\"#ed7953\"],[0.7777777777777778,\"#fb9f3a\"],[0.8888888888888888,\"#fdca26\"],[1.0,\"#f0f921\"]],\"type\":\"heatmapgl\"}],\"histogram\":[{\"marker\":{\"pattern\":{\"fillmode\":\"overlay\",\"size\":10,\"solidity\":0.2}},\"type\":\"histogram\"}],\"histogram2d\":[{\"colorbar\":{\"outlinewidth\":0,\"ticks\":\"\"},\"colorscale\":[[0.0,\"#0d0887\"],[0.1111111111111111,\"#46039f\"],[0.2222222222222222,\"#7201a8\"],[0.3333333333333333,\"#9c179e\"],[0.4444444444444444,\"#bd3786\"],[0.5555555555555556,\"#d8576b\"],[0.6666666666666666,\"#ed7953\"],[0.7777777777777778,\"#fb9f3a\"],[0.8888888888888888,\"#fdca26\"],[1.0,\"#f0f921\"]],\"type\":\"histogram2d\"}],\"histogram2dcontour\":[{\"colorbar\":{\"outlinewidth\":0,\"ticks\":\"\"},\"colorscale\":[[0.0,\"#0d0887\"],[0.1111111111111111,\"#46039f\"],[0.2222222222222222,\"#7201a8\"],[0.3333333333333333,\"#9c179e\"],[0.4444444444444444,\"#bd3786\"],[0.5555555555555556,\"#d8576b\"],[0.6666666666666666,\"#ed7953\"],[0.7777777777777778,\"#fb9f3a\"],[0.8888888888888888,\"#fdca26\"],[1.0,\"#f0f921\"]],\"type\":\"histogram2dcontour\"}],\"mesh3d\":[{\"colorbar\":{\"outlinewidth\":0,\"ticks\":\"\"},\"type\":\"mesh3d\"}],\"parcoords\":[{\"line\":{\"colorbar\":{\"outlinewidth\":0,\"ticks\":\"\"}},\"type\":\"parcoords\"}],\"pie\":[{\"automargin\":true,\"type\":\"pie\"}],\"scatter\":[{\"marker\":{\"colorbar\":{\"outlinewidth\":0,\"ticks\":\"\"}},\"type\":\"scatter\"}],\"scatter3d\":[{\"line\":{\"colorbar\":{\"outlinewidth\":0,\"ticks\":\"\"}},\"marker\":{\"colorbar\":{\"outlinewidth\":0,\"ticks\":\"\"}},\"type\":\"scatter3d\"}],\"scattercarpet\":[{\"marker\":{\"colorbar\":{\"outlinewidth\":0,\"ticks\":\"\"}},\"type\":\"scattercarpet\"}],\"scattergeo\":[{\"marker\":{\"colorbar\":{\"outlinewidth\":0,\"ticks\":\"\"}},\"type\":\"scattergeo\"}],\"scattergl\":[{\"marker\":{\"colorbar\":{\"outlinewidth\":0,\"ticks\":\"\"}},\"type\":\"scattergl\"}],\"scattermapbox\":[{\"marker\":{\"colorbar\":{\"outlinewidth\":0,\"ticks\":\"\"}},\"type\":\"scattermapbox\"}],\"scatterpolar\":[{\"marker\":{\"colorbar\":{\"outlinewidth\":0,\"ticks\":\"\"}},\"type\":\"scatterpolar\"}],\"scatterpolargl\":[{\"marker\":{\"colorbar\":{\"outlinewidth\":0,\"ticks\":\"\"}},\"type\":\"scatterpolargl\"}],\"scatterternary\":[{\"marker\":{\"colorbar\":{\"outlinewidth\":0,\"ticks\":\"\"}},\"type\":\"scatterternary\"}],\"surface\":[{\"colorbar\":{\"outlinewidth\":0,\"ticks\":\"\"},\"colorscale\":[[0.0,\"#0d0887\"],[0.1111111111111111,\"#46039f\"],[0.2222222222222222,\"#7201a8\"],[0.3333333333333333,\"#9c179e\"],[0.4444444444444444,\"#bd3786\"],[0.5555555555555556,\"#d8576b\"],[0.6666666666666666,\"#ed7953\"],[0.7777777777777778,\"#fb9f3a\"],[0.8888888888888888,\"#fdca26\"],[1.0,\"#f0f921\"]],\"type\":\"surface\"}],\"table\":[{\"cells\":{\"fill\":{\"color\":\"#EBF0F8\"},\"line\":{\"color\":\"white\"}},\"header\":{\"fill\":{\"color\":\"#C8D4E3\"},\"line\":{\"color\":\"white\"}},\"type\":\"table\"}]},\"layout\":{\"annotationdefaults\":{\"arrowcolor\":\"#2a3f5f\",\"arrowhead\":0,\"arrowwidth\":1},\"autotypenumbers\":\"strict\",\"coloraxis\":{\"colorbar\":{\"outlinewidth\":0,\"ticks\":\"\"}},\"colorscale\":{\"diverging\":[[0,\"#8e0152\"],[0.1,\"#c51b7d\"],[0.2,\"#de77ae\"],[0.3,\"#f1b6da\"],[0.4,\"#fde0ef\"],[0.5,\"#f7f7f7\"],[0.6,\"#e6f5d0\"],[0.7,\"#b8e186\"],[0.8,\"#7fbc41\"],[0.9,\"#4d9221\"],[1,\"#276419\"]],\"sequential\":[[0.0,\"#0d0887\"],[0.1111111111111111,\"#46039f\"],[0.2222222222222222,\"#7201a8\"],[0.3333333333333333,\"#9c179e\"],[0.4444444444444444,\"#bd3786\"],[0.5555555555555556,\"#d8576b\"],[0.6666666666666666,\"#ed7953\"],[0.7777777777777778,\"#fb9f3a\"],[0.8888888888888888,\"#fdca26\"],[1.0,\"#f0f921\"]],\"sequentialminus\":[[0.0,\"#0d0887\"],[0.1111111111111111,\"#46039f\"],[0.2222222222222222,\"#7201a8\"],[0.3333333333333333,\"#9c179e\"],[0.4444444444444444,\"#bd3786\"],[0.5555555555555556,\"#d8576b\"],[0.6666666666666666,\"#ed7953\"],[0.7777777777777778,\"#fb9f3a\"],[0.8888888888888888,\"#fdca26\"],[1.0,\"#f0f921\"]]},\"colorway\":[\"#636efa\",\"#EF553B\",\"#00cc96\",\"#ab63fa\",\"#FFA15A\",\"#19d3f3\",\"#FF6692\",\"#B6E880\",\"#FF97FF\",\"#FECB52\"],\"font\":{\"color\":\"#2a3f5f\"},\"geo\":{\"bgcolor\":\"white\",\"lakecolor\":\"white\",\"landcolor\":\"#E5ECF6\",\"showlakes\":true,\"showland\":true,\"subunitcolor\":\"white\"},\"hoverlabel\":{\"align\":\"left\"},\"hovermode\":\"closest\",\"mapbox\":{\"style\":\"light\"},\"paper_bgcolor\":\"white\",\"plot_bgcolor\":\"#E5ECF6\",\"polar\":{\"angularaxis\":{\"gridcolor\":\"white\",\"linecolor\":\"white\",\"ticks\":\"\"},\"bgcolor\":\"#E5ECF6\",\"radialaxis\":{\"gridcolor\":\"white\",\"linecolor\":\"white\",\"ticks\":\"\"}},\"scene\":{\"xaxis\":{\"backgroundcolor\":\"#E5ECF6\",\"gridcolor\":\"white\",\"gridwidth\":2,\"linecolor\":\"white\",\"showbackground\":true,\"ticks\":\"\",\"zerolinecolor\":\"white\"},\"yaxis\":{\"backgroundcolor\":\"#E5ECF6\",\"gridcolor\":\"white\",\"gridwidth\":2,\"linecolor\":\"white\",\"showbackground\":true,\"ticks\":\"\",\"zerolinecolor\":\"white\"},\"zaxis\":{\"backgroundcolor\":\"#E5ECF6\",\"gridcolor\":\"white\",\"gridwidth\":2,\"linecolor\":\"white\",\"showbackground\":true,\"ticks\":\"\",\"zerolinecolor\":\"white\"}},\"shapedefaults\":{\"line\":{\"color\":\"#2a3f5f\"}},\"ternary\":{\"aaxis\":{\"gridcolor\":\"white\",\"linecolor\":\"white\",\"ticks\":\"\"},\"baxis\":{\"gridcolor\":\"white\",\"linecolor\":\"white\",\"ticks\":\"\"},\"bgcolor\":\"#E5ECF6\",\"caxis\":{\"gridcolor\":\"white\",\"linecolor\":\"white\",\"ticks\":\"\"}},\"title\":{\"x\":0.05},\"xaxis\":{\"automargin\":true,\"gridcolor\":\"white\",\"linecolor\":\"white\",\"ticks\":\"\",\"title\":{\"standoff\":15},\"zerolinecolor\":\"white\",\"zerolinewidth\":2},\"yaxis\":{\"automargin\":true,\"gridcolor\":\"white\",\"linecolor\":\"white\",\"ticks\":\"\",\"title\":{\"standoff\":15},\"zerolinecolor\":\"white\",\"zerolinewidth\":2}}},\"xaxis\":{\"anchor\":\"y\",\"domain\":[0.0,1.0],\"title\":{\"text\":\"metric\"}},\"yaxis\":{\"anchor\":\"x\",\"domain\":[0.0,1.0],\"title\":{\"text\":\"percent\"}},\"legend\":{\"title\":{\"text\":\"label\"},\"tracegroupgap\":0},\"title\":{\"text\":\"MLP Accuracy/Jaccard for Train/Test Data (First Try)\"},\"barmode\":\"group\"},                        {\"responsive\": true}                    ).then(function(){\n",
              "                            \n",
              "var gd = document.getElementById('ab1da982-024f-49c3-9cbd-6149fd8d3459');\n",
              "var x = new MutationObserver(function (mutations, observer) {{\n",
              "        var display = window.getComputedStyle(gd).display;\n",
              "        if (!display || display === 'none') {{\n",
              "            console.log([gd, 'removed!']);\n",
              "            Plotly.purge(gd);\n",
              "            observer.disconnect();\n",
              "        }}\n",
              "}});\n",
              "\n",
              "// Listen for the removal of the full notebook cells\n",
              "var notebookContainer = gd.closest('#notebook-container');\n",
              "if (notebookContainer) {{\n",
              "    x.observe(notebookContainer, {childList: true});\n",
              "}}\n",
              "\n",
              "// Listen for the clearing of the current output cell\n",
              "var outputEl = gd.closest('.output');\n",
              "if (outputEl) {{\n",
              "    x.observe(outputEl, {childList: true});\n",
              "}}\n",
              "\n",
              "                        })                };                            </script>        </div>\n",
              "</body>\n",
              "</html>"
            ]
          },
          "metadata": {}
        }
      ]
    },
    {
      "cell_type": "code",
      "source": [
        "print(\"Train set Accuracy: %\", round( 100* metrics.accuracy_score(y_train, MLP_clf.predict(X_train))))\n",
        "print(\"Test set Accuracy: %\", round( 100* metrics.accuracy_score(y_test, MLP_Y_pred)))  \n",
        "print('')\n",
        "print (classification_report(y_test, MLP_Y_pred))"
      ],
      "metadata": {
        "colab": {
          "base_uri": "https://localhost:8080/"
        },
        "id": "ZqAeBnkdB7Kb",
        "outputId": "c022ef97-9609-411e-af7b-653e924c5612"
      },
      "execution_count": null,
      "outputs": [
        {
          "output_type": "stream",
          "name": "stdout",
          "text": [
            "Train set Accuracy: % 91\n",
            "Test set Accuracy: % 90\n",
            "\n",
            "              precision    recall  f1-score   support\n",
            "\n",
            "           0       0.89      0.89      0.89      1599\n",
            "           1       0.90      0.90      0.90      1734\n",
            "\n",
            "    accuracy                           0.90      3333\n",
            "   macro avg       0.90      0.90      0.90      3333\n",
            "weighted avg       0.90      0.90      0.90      3333\n",
            "\n"
          ]
        }
      ]
    },
    {
      "cell_type": "code",
      "source": [
        "MLP_cnf_matrix = confusion_matrix(y_test, MLP_Y_pred)\n",
        "np.set_printoptions(precision=2)\n",
        "\n",
        "labels = [0,1]\n",
        "\n",
        "plt.figure(figsize=(5,5))\n",
        "plot_confusion_matrix(MLP_cnf_matrix, classes=labels ,normalize= False,  title='MLP Confusion Matrix')"
      ],
      "metadata": {
        "colab": {
          "base_uri": "https://localhost:8080/",
          "height": 386
        },
        "id": "cXRelskpCDGm",
        "outputId": "7e0bf475-eecf-4f4e-85f4-a3bb0f84f997"
      },
      "execution_count": null,
      "outputs": [
        {
          "output_type": "stream",
          "name": "stdout",
          "text": [
            "Confusion matrix, without normalization\n"
          ]
        },
        {
          "output_type": "display_data",
          "data": {
            "text/plain": [
              "<Figure size 360x360 with 2 Axes>"
            ],
            "image/png": "[encoded data removed]"
          },
          "metadata": {
            "needs_background": "light"
          }
        }
      ]
    },
    {
      "cell_type": "code",
      "source": [
        "# plot\n",
        "# Libraries\n",
        "import numpy as np\n",
        "import matplotlib.pyplot as plt\n",
        "\n",
        "# Make a random dataset:\n",
        "height = [86, 93, 88, 76, 90]\n",
        "bars = ('logistic regression', 'svm', 'knn', 'decision tree', 'mlp')\n",
        "y_pos = np.arange(len(bars))\n",
        "\n",
        "# Create bars\n",
        "plt.bar(y_pos, height,color=['pink', 'red', 'green', 'blue', 'cyan'])\n",
        "\n",
        "\n",
        "\n",
        "# Create names on the x-axis\n",
        "plt.xticks(y_pos, bars)\n",
        "\n",
        "# Show graphic\n",
        "plt.show()"
      ],
      "metadata": {
        "id": "gvg6XMhSCXTJ",
        "colab": {
          "base_uri": "https://localhost:8080/",
          "height": 265
        },
        "outputId": "f35d43a1-b39a-447e-a9fd-aa29914eff17"
      },
      "execution_count": 11,
      "outputs": [
        {
          "output_type": "display_data",
          "data": {
            "text/plain": [
              "<Figure size 432x288 with 1 Axes>"
            ],
            "image/png": "[encoded data removed]"
          },
          "metadata": {
            "needs_background": "light"
          }
        }
      ]
    },
    {
      "cell_type": "code",
      "source": [
        "# Importing libraries for dataframe creation\n",
        "# and graph plotting\n",
        "import numpy as np\n",
        "import pandas as pd\n",
        "import seaborn as sns\n",
        "import matplotlib.pyplot as plt\n",
        " \n",
        "# Creating our own dataframe\n",
        "data = {\"Name\": ['logistic regression', 'svm', 'knn', 'decision tree', 'mlp'],\n",
        "        \"Marks\": [86, 93, 88, 76, 90]\n",
        "        }\n",
        " \n",
        "# Now convert this dictionary type data into a pandas dataframe\n",
        "# specifying what are the column names\n",
        "df = pd.DataFrame(data, columns=['Name', 'Marks'])\n",
        " \n",
        " \n",
        "# Defining the plot size\n",
        "plt.figure(figsize=(8, 8))\n",
        " \n",
        "# Defining the values for x-axis, y-axis\n",
        "# and from which dataframe the values are to be picked\n",
        "plots = sns.barplot(x=\"Name\", y=\"Marks\", data=df)\n",
        " \n",
        "# Iterrating over the bars one-by-one\n",
        "for bar in plots.patches:\n",
        "   \n",
        "  # Using Matplotlib's annotate function and\n",
        "  # passing the coordinates where the annotation shall be done\n",
        "  # x-coordinate: bar.get_x() + bar.get_width() / 2\n",
        "  # y-coordinate: bar.get_height()\n",
        "  # free space to be left to make graph pleasing: (0, 8)\n",
        "  # ha and va stand for the horizontal and vertical alignment\n",
        "  plots.annotate(format(bar.get_height(), '.2f'),\n",
        "                   (bar.get_x() + bar.get_width() / 2,\n",
        "                    bar.get_height()), ha='center', va='center',\n",
        "                   size=15, xytext=(0, 8),\n",
        "                   textcoords='offset points')\n",
        " \n",
        "# Setting the label for x-axis\n",
        "plt.xlabel(\"models\", size=14)\n",
        " \n",
        "# Setting the label for y-axis\n",
        "plt.ylabel(\"accuracy\", size=14)\n",
        " \n",
        "# Setting the title for the graph\n",
        "plt.title(\"compare classification accuracy with pca\")\n",
        " \n",
        "# Finally showing the plot\n",
        "plt.show()"
      ],
      "metadata": {
        "id": "t6Gl3BzUGpt3",
        "colab": {
          "base_uri": "https://localhost:8080/",
          "height": 517
        },
        "outputId": "33e4a49f-87e4-4288-8614-9fb903ecda85"
      },
      "execution_count": 13,
      "outputs": [
        {
          "output_type": "display_data",
          "data": {
            "text/plain": [
              "<Figure size 576x576 with 1 Axes>"
            ],
            "image/png": "[encoded data removed]"
          },
          "metadata": {
            "needs_background": "light"
          }
        }
      ]
    },
    {
      "cell_type": "markdown",
      "source": [
        "# roc plot"
      ],
      "metadata": {
        "id": "sKPuvNij8Hah"
      }
    },
    {
      "cell_type": "code",
      "source": [
        "from sklearn.metrics import roc_curve\n",
        "\n",
        "def plot_roc_curve(fper, tper):\n",
        "    plt.plot(fper, tper, color='red', label='ROC')\n",
        "    plt.plot([0, 1], [0, 1], color='green', linestyle='--')\n",
        "    plt.xlabel('False Positive Rate')\n",
        "    plt.ylabel('True Positive Rate')\n",
        "    plt.title('roc curve for sex classification')\n",
        "    plt.legend()\n",
        "    plt.show()"
      ],
      "metadata": {
        "id": "25APM0OG9TWk"
      },
      "execution_count": 20,
      "outputs": []
    },
    {
      "cell_type": "code",
      "source": [
        "from sklearn.preprocessing import StandardScaler\n",
        "from sklearn.model_selection import train_test_split\n",
        "X = df.drop(['sex','emotionID','Unnamed: 0'],1)   #Feature Matrix\n",
        "y = df[\"sex\"]\n",
        "X_train, X_test, y_train, y_test = train_test_split(X, y, test_size=0.3, random_state=4)\n",
        "'''X_train.to_numpy()\n",
        "X_test.to_numpy()\n",
        "y_train.to_numpy()\n",
        "y_test.to_numpy()'''\n",
        "sc = StandardScaler()\n",
        "X_train = sc.fit_transform(X_train)\n",
        "X_test = sc.transform(X_test)\n"
      ],
      "metadata": {
        "colab": {
          "base_uri": "https://localhost:8080/"
        },
        "id": "VNLn-HYO08U1",
        "outputId": "9cf63e7b-1782-41d0-cea6-4a45f980460a"
      },
      "execution_count": 16,
      "outputs": [
        {
          "output_type": "stream",
          "name": "stderr",
          "text": [
            "/usr/local/lib/python3.7/dist-packages/ipykernel_launcher.py:3: FutureWarning: In a future version of pandas all arguments of DataFrame.drop except for the argument 'labels' will be keyword-only\n",
            "  This is separate from the ipykernel package so we can avoid doing imports until\n"
          ]
        }
      ]
    },
    {
      "cell_type": "code",
      "source": [
        "from sklearn import svm\n",
        "from sklearn import preprocessing\n",
        "from sklearn.preprocessing import StandardScaler\n",
        "from sklearn.pipeline import make_pipeline\n",
        "\n",
        "classifier = make_pipeline(preprocessing.StandardScaler(),svm.SVC(kernel='rbf',C=10,gamma=0.01))\n",
        "\n",
        "classifier.fit(X_train, y_train)\n",
        "y_pred = classifier.predict(X_test)\n",
        "print('Accuracy' ,accuracy_score(y_test, y_pred))\n",
        "y_pred1 = classifier.predict(X_train)\n",
        "print('Accuracy train' ,accuracy_score(y_train, y_pred1))"
      ],
      "metadata": {
        "colab": {
          "base_uri": "https://localhost:8080/"
        },
        "id": "P5OT_PsC08RE",
        "outputId": "24a74ba2-824f-4268-b23d-19050f93e310"
      },
      "execution_count": 17,
      "outputs": [
        {
          "output_type": "stream",
          "name": "stdout",
          "text": [
            "Accuracy 0.908381676335267\n",
            "Accuracy train 0.9995713305898491\n"
          ]
        }
      ]
    },
    {
      "cell_type": "code",
      "source": [
        "import matplotlib.pyplot as plt\n",
        "fper, tper, thresholds = roc_curve(y_test, y_pred)\n",
        "plot_roc_curve(fper, tper)"
      ],
      "metadata": {
        "colab": {
          "base_uri": "https://localhost:8080/",
          "height": 295
        },
        "id": "uozJSGcC9MNO",
        "outputId": "ec556d74-8258-4988-c6e4-7fe5805707c2"
      },
      "execution_count": 21,
      "outputs": [
        {
          "output_type": "display_data",
          "data": {
            "text/plain": [
              "<Figure size 432x288 with 1 Axes>"
            ],
            "image/png": "[encoded data removed]"
          },
          "metadata": {
            "needs_background": "light"
          }
        }
      ]
    },
    {
      "cell_type": "code",
      "source": [
        "# logistic regression\n",
        "from sklearn.linear_model import LogisticRegression\n",
        "\n",
        "\n",
        "lr_clf = make_pipeline(StandardScaler(), LogisticRegression(solver='liblinear', class_weight='balanced' , C = 0.1))     # Best Result\n",
        "lr_clf.fit(X_train, y_train)\n",
        "lr_yhat = lr_clf.predict(X_test)"
      ],
      "metadata": {
        "id": "1FSy3Wpm953J"
      },
      "execution_count": 22,
      "outputs": []
    },
    {
      "cell_type": "code",
      "source": [
        "import matplotlib.pyplot as plt\n",
        "fper, tper, thresholds = roc_curve(y_test, lr_yhat)\n",
        "plot_roc_curve(fper, tper)"
      ],
      "metadata": {
        "colab": {
          "base_uri": "https://localhost:8080/",
          "height": 295
        },
        "id": "21hhYexG-YzR",
        "outputId": "1b736df9-5073-4124-8c1c-7dd1dd72e238"
      },
      "execution_count": 23,
      "outputs": [
        {
          "output_type": "display_data",
          "data": {
            "text/plain": [
              "<Figure size 432x288 with 1 Axes>"
            ],
            "image/png": "[encoded data removed]"
          },
          "metadata": {
            "needs_background": "light"
          }
        }
      ]
    },
    {
      "cell_type": "code",
      "source": [
        "# knn\n",
        "from sklearn.neighbors import KNeighborsClassifier\n",
        "\n",
        "k = 11\n",
        "knn_clf = make_pipeline(preprocessing.StandardScaler(), KNeighborsClassifier(n_neighbors = k))\n",
        "knn_clf.fit(X_train,y_train)\n",
        "knn_yhat = knn_clf.predict(X_test)"
      ],
      "metadata": {
        "id": "nrPQVvHS-ikD"
      },
      "execution_count": 24,
      "outputs": []
    },
    {
      "cell_type": "code",
      "source": [
        "import matplotlib.pyplot as plt\n",
        "fper, tper, thresholds = roc_curve(y_test, knn_yhat)\n",
        "plot_roc_curve(fper, tper)"
      ],
      "metadata": {
        "colab": {
          "base_uri": "https://localhost:8080/",
          "height": 295
        },
        "id": "i8slsIgj-3bY",
        "outputId": "895ef91c-2e1d-4a47-a830-fb72b31b1d75"
      },
      "execution_count": 27,
      "outputs": [
        {
          "output_type": "display_data",
          "data": {
            "text/plain": [
              "<Figure size 432x288 with 1 Axes>"
            ],
            "image/png": "[encoded data removed]"
          },
          "metadata": {
            "needs_background": "light"
          }
        }
      ]
    },
    {
      "cell_type": "code",
      "source": [
        "# mlp\n",
        "\n",
        "MLP_clf = make_pipeline(preprocessing.StandardScaler(),  MLPClassifier(alpha=0.1,hidden_layer_sizes=(4, 2), random_state=0))\n",
        "MLP_clf = MLP_clf.fit(X_train, y_train)\n",
        "MLP_Y_pred=MLP_clf.predict(X_test)\n"
      ],
      "metadata": {
        "id": "Lcw5wad4-6sl"
      },
      "execution_count": 26,
      "outputs": []
    },
    {
      "cell_type": "code",
      "source": [
        "import matplotlib.pyplot as plt\n",
        "fper, tper, thresholds = roc_curve(y_test, MLP_Y_pred)\n",
        "plot_roc_curve(fper, tper)"
      ],
      "metadata": {
        "colab": {
          "base_uri": "https://localhost:8080/",
          "height": 295
        },
        "id": "1ZrOckxgAFA6",
        "outputId": "f3845232-54d3-4324-a56c-fc3255c0b3f7"
      },
      "execution_count": 28,
      "outputs": [
        {
          "output_type": "display_data",
          "data": {
            "text/plain": [
              "<Figure size 432x288 with 1 Axes>"
            ],
            "image/png": "[encoded data removed]"
          },
          "metadata": {
            "needs_background": "light"
          }
        }
      ]
    },
    {
      "cell_type": "code",
      "source": [
        ""
      ],
      "metadata": {
        "id": "2gfQWJ1zATAQ"
      },
      "execution_count": null,
      "outputs": []
    }
  ],
  "metadata": {
    "colab": {
      "name": "ml_proj_classification_sex_model2.ipynb",
      "provenance": [],
      "collapsed_sections": []
    },
    "kernelspec": {
      "display_name": "Python 3",
      "name": "python3"
    },
    "language_info": {
      "name": "python"
    }
  },
  "nbformat": 4,
  "nbformat_minor": 0
}